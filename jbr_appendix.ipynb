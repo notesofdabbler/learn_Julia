{
 "cells": [
  {
   "cell_type": "markdown",
   "id": "greek-privilege",
   "metadata": {},
   "source": [
    "This is an attempt to create a Julia version of the [computational appendix](https://sites.engineering.ucsb.edu/~jbraw/chemreacfun/web-appendix.pdf) in Rawlings [Reactor Design Book](https://sites.engineering.ucsb.edu/~jbraw/chemreacfun/). "
   ]
  },
  {
   "cell_type": "code",
   "execution_count": 2,
   "id": "interested-florence",
   "metadata": {},
   "outputs": [],
   "source": [
    "using JuMP\n",
    "using Plots\n",
    "import Ipopt\n",
    "using LabelledArrays\n",
    "import DifferentialEquations as de\n",
    "using DifferentialEquations\n",
    "using Sundials\n",
    "using DiffEqSensitivity\n",
    "using ForwardDiff"
   ]
  },
  {
   "cell_type": "code",
   "execution_count": 104,
   "id": "demanding-article",
   "metadata": {},
   "outputs": [
    {
     "data": {
      "text/plain": [
       "0.0"
      ]
     },
     "execution_count": 104,
     "metadata": {},
     "output_type": "execute_result"
    }
   ],
   "source": [
    "K1 = 108.0\n",
    "K2 = 284.0\n",
    "P = 2.5\n",
    "yI0 = 0.5\n",
    "yB0 = 0.5\n",
    "yP10 = 0.0\n",
    "yP20 = 0.0"
   ]
  },
  {
   "cell_type": "code",
   "execution_count": null,
   "id": "racial-salad",
   "metadata": {},
   "outputs": [],
   "source": [
    "model = Model(Ipopt.Optimizer)"
   ]
  },
  {
   "cell_type": "code",
   "execution_count": null,
   "id": "exclusive-terror",
   "metadata": {},
   "outputs": [],
   "source": [
    "@variables(model, begin\n",
    "            x1\n",
    "            x2\n",
    "            yI\n",
    "            yB\n",
    "            yP1\n",
    "            yP2\n",
    "            d\n",
    "         end\n",
    "         )"
   ]
  },
  {
   "cell_type": "code",
   "execution_count": null,
   "id": "aquatic-implement",
   "metadata": {},
   "outputs": [],
   "source": [
    "@NLobjective(model, Min, 0.0)"
   ]
  },
  {
   "cell_type": "code",
   "execution_count": null,
   "id": "prospective-royalty",
   "metadata": {},
   "outputs": [],
   "source": [
    "@constraint(model, d == 1.0 - x1 - x2)"
   ]
  },
  {
   "cell_type": "code",
   "execution_count": null,
   "id": "numerous-traffic",
   "metadata": {},
   "outputs": [],
   "source": [
    "@NLconstraint(model, d * yI == yI0 - x1 - x2)\n",
    "@NLconstraint(model, d * yB == yB0 - x1 - x2)\n",
    "@NLconstraint(model, d * yP1 == yP10 + x1)\n",
    "@NLconstraint(model, d * yP2 == yP20 + x2)"
   ]
  },
  {
   "cell_type": "code",
   "execution_count": null,
   "id": "excessive-memorabilia",
   "metadata": {},
   "outputs": [],
   "source": [
    "@NLconstraint(model, P*K1*yI*yB - yP1 == 0.0)\n",
    "@NLconstraint(model, P*K2*yI*yB - yP2 == 0.0)"
   ]
  },
  {
   "cell_type": "code",
   "execution_count": null,
   "id": "occupational-mercury",
   "metadata": {},
   "outputs": [],
   "source": [
    "optimize!(model)"
   ]
  },
  {
   "cell_type": "code",
   "execution_count": null,
   "id": "demographic-sheffield",
   "metadata": {},
   "outputs": [],
   "source": [
    "println(\"\"\"\n",
    "termination_status = $(termination_status(model))\n",
    "primal_status      = $(primal_status(model))\n",
    "objective_value    = $(objective_value(model))\n",
    "\"\"\")"
   ]
  },
  {
   "cell_type": "code",
   "execution_count": null,
   "id": "fleet-faith",
   "metadata": {},
   "outputs": [],
   "source": [
    "println(\"\"\"x1 = $(value(x1)), x2 = $(value(x2))\"\"\")"
   ]
  },
  {
   "cell_type": "code",
   "execution_count": null,
   "id": "musical-gentleman",
   "metadata": {},
   "outputs": [],
   "source": [
    "dg1 = -3.72e3\n",
    "dg2 = -4.49e3\n",
    "T = 400\n",
    "R = 1.987\n",
    "P = 2.5"
   ]
  },
  {
   "cell_type": "code",
   "execution_count": null,
   "id": "connected-formula",
   "metadata": {},
   "outputs": [],
   "source": [
    "K1 = exp(-dg1 / (R * T))\n",
    "K2 = exp(-dg2 / (R * T))\n",
    "yI0 = 0.5\n",
    "yB0 = 0.5\n",
    "yP10 = 0.0\n",
    "yP20 = 0.0"
   ]
  },
  {
   "cell_type": "code",
   "execution_count": null,
   "id": "speaking-laugh",
   "metadata": {},
   "outputs": [],
   "source": [
    "model = Model(Ipopt.Optimizer)"
   ]
  },
  {
   "cell_type": "code",
   "execution_count": null,
   "id": "speaking-validation",
   "metadata": {},
   "outputs": [],
   "source": [
    "@variables(model,begin\n",
    "            x1 >= 0.0, (start = 0.2)\n",
    "            x2 >= 0.0, (start = 0.2)\n",
    "            yI, (start = 0.2)\n",
    "            yB, (start = 0.2)\n",
    "            yP1, (start = 0.2)\n",
    "            yP2, (start = 0.2)\n",
    "            d, (start = 0.2)\n",
    "         end          \n",
    "         )"
   ]
  },
  {
   "cell_type": "code",
   "execution_count": null,
   "id": "initial-chosen",
   "metadata": {},
   "outputs": [],
   "source": [
    "@NLconstraint(model, d * yI == yI0 - x1 - x2)\n",
    "@NLconstraint(model, d * yB == yB0 - x1 - x2)\n",
    "@NLconstraint(model, d * yP1 == yP10 + x1)\n",
    "@NLconstraint(model, d * yP2 == yP20 + x2)"
   ]
  },
  {
   "cell_type": "code",
   "execution_count": null,
   "id": "manual-somalia",
   "metadata": {},
   "outputs": [],
   "source": [
    "@constraint(model, d == 1.0 - x1 - x2)\n",
    "@constraint(model, x1 + x2 <= 0.5)"
   ]
  },
  {
   "cell_type": "code",
   "execution_count": null,
   "id": "periodic-injection",
   "metadata": {},
   "outputs": [],
   "source": [
    "@NLobjective(model, Min, -(x1 * log(K1) + x2 * log(K2)) + d * log(P) +\n",
    "          yI * d * log(yI) + yB * d * log(yB) +\n",
    "          yP1 * d * log(yP1) + yP2 * d * log(yP2))"
   ]
  },
  {
   "cell_type": "code",
   "execution_count": null,
   "id": "deluxe-japan",
   "metadata": {},
   "outputs": [],
   "source": [
    "optimize!(model)"
   ]
  },
  {
   "cell_type": "code",
   "execution_count": null,
   "id": "underlying-composition",
   "metadata": {},
   "outputs": [],
   "source": [
    "println(\"\"\"\n",
    "termination_status = $(termination_status(model))\n",
    "primal_status      = $(primal_status(model))\n",
    "objective_value    = $(objective_value(model))\n",
    "\"\"\")"
   ]
  },
  {
   "cell_type": "code",
   "execution_count": null,
   "id": "conventional-century",
   "metadata": {},
   "outputs": [],
   "source": [
    "println(\"\"\"x1 = $(value(x1)), x2 = $(value(x2))\"\"\")"
   ]
  },
  {
   "cell_type": "code",
   "execution_count": null,
   "id": "hybrid-poison",
   "metadata": {},
   "outputs": [],
   "source": [
    "function geval(x)\n",
    "    dg1 = -3.72e3\n",
    "    dg2 = -4.49e3\n",
    "    T = 400\n",
    "    R = 1.987\n",
    "    P = 2.5\n",
    "    \n",
    "    K1 = exp(-dg1 / (R * T))\n",
    "    K2 = exp(-dg2 / (R * T))\n",
    "    yI0 = 0.5\n",
    "    yB0 = 0.5\n",
    "    yP10 = 0.0\n",
    "    yP20 = 0.0\n",
    "    \n",
    "    d = 1.0 - x[1] - x[2]\n",
    "    yI = (yI0 - x[1] - x[2])/d\n",
    "    yB = (yB0 - x[1] - x[2])/d\n",
    "    yP1 = (yP10 + x[1]) / d\n",
    "    yP2 = (yP20 + x[2]) / d\n",
    "    \n",
    "    gval = -(x[1]*log(K1) + x[2]*log(K2)) + d * log(P) +\n",
    "            yI * d * log(yI) + yB * d * log(yB) + \n",
    "            yP1 * d * log(yP1) + yP2 * d * log(yP2)\n",
    "    return gval\n",
    "end"
   ]
  },
  {
   "cell_type": "code",
   "execution_count": null,
   "id": "centered-gambling",
   "metadata": {},
   "outputs": [],
   "source": [
    "x1_l = 0.005:0.005:0.5\n",
    "glist = fill(0.0, length(x1_l), length(x1_l))\n",
    "for (i, x1) in enumerate(x1_l)\n",
    "    x2_l = 0.005:0.005:(0.495 - x1)\n",
    "    for (j, x2) in enumerate(x2_l)\n",
    "        glist[i, j] = geval([x1, x2])\n",
    "    end\n",
    "end"
   ]
  },
  {
   "cell_type": "code",
   "execution_count": null,
   "id": "similar-plate",
   "metadata": {},
   "outputs": [],
   "source": [
    "minimum(glist)"
   ]
  },
  {
   "cell_type": "code",
   "execution_count": null,
   "id": "military-injection",
   "metadata": {},
   "outputs": [],
   "source": [
    "contour(x1_l, x1_l, glist', levels = [0.0, -1.0, -2.0, -2.53, -2.55, -2.59])"
   ]
  },
  {
   "cell_type": "markdown",
   "id": "swiss-macro",
   "metadata": {},
   "source": [
    "## Ordinary Differential Equations"
   ]
  },
  {
   "cell_type": "code",
   "execution_count": 40,
   "id": "changed-actress",
   "metadata": {},
   "outputs": [
    {
     "data": {
      "text/plain": [
       "8-element SLArray{Tuple{8}, Float64, 1, 8, (:NBf, :R, :T, :P, :k1, :k2, :K1, :K2)} with indices SOneTo(8):\n",
       " :NBf => 60000.0\n",
       "   :R => 0.08205\n",
       "   :T => 1033.0\n",
       "   :P => 1.0\n",
       "  :k1 => 700000.0\n",
       "  :k2 => 400000.0\n",
       "  :K1 => 0.31\n",
       "  :K2 => 0.48"
      ]
     },
     "execution_count": 40,
     "metadata": {},
     "output_type": "execute_result"
    }
   ],
   "source": [
    "p = SLVector((\n",
    "    NBf = 60.0e3,\n",
    "    R = 0.08205,\n",
    "    T = 1033.0,\n",
    "    P = 1.0,\n",
    "    k1 = 7.0e5,\n",
    "    k2 = 4.0e5,\n",
    "    K1 = 0.31,\n",
    "    K2 = 0.48   \n",
    "        ))"
   ]
  },
  {
   "cell_type": "code",
   "execution_count": 41,
   "id": "pleasant-scanner",
   "metadata": {},
   "outputs": [
    {
     "data": {
      "text/plain": [
       "xdot! (generic function with 1 method)"
      ]
     },
     "execution_count": 41,
     "metadata": {},
     "output_type": "execute_result"
    }
   ],
   "source": [
    "function xdot!(dext, ext, p, v)\n",
    "    NB = p.NBf - 2*ext[1] - ext[2]\n",
    "    ND = ext[1] - ext[2]\n",
    "    NH = ext[1] + ext[2]\n",
    "    NT = ext[2]\n",
    "    Q = p.NBf * p.R * p.T / p.P\n",
    "    cB = NB / Q\n",
    "    cD = ND / Q\n",
    "    cH = NH / Q\n",
    "    cT = NT / Q\n",
    "    dext[1] = p.k1 * (cB * cB - cD * cH / p.K1)\n",
    "    dext[2] = p.k2 * (cB * cD - cT * cH / p.K2)\n",
    "end"
   ]
  },
  {
   "cell_type": "code",
   "execution_count": 48,
   "id": "extraordinary-aruba",
   "metadata": {},
   "outputs": [
    {
     "data": {
      "text/plain": [
       "(0.0, 1600.0)"
      ]
     },
     "execution_count": 48,
     "metadata": {},
     "output_type": "execute_result"
    }
   ],
   "source": [
    "ext0 = [0.0, 0.0]\n",
    "vspan = (0.0, 1600.0)"
   ]
  },
  {
   "cell_type": "code",
   "execution_count": 58,
   "id": "suitable-manner",
   "metadata": {
    "scrolled": true
   },
   "outputs": [
    {
     "data": {
      "text/plain": [
       "retcode: Success\n",
       "Interpolation: specialized 3rd order \"free\" stiffness-aware interpolation\n",
       "t: 32-element Vector{Float64}:\n",
       "    0.0\n",
       "    9.999999999999999e-5\n",
       "    0.0010999999999999998\n",
       "    0.011099999999999997\n",
       "    0.11109999999999996\n",
       "    0.41899167885700245\n",
       "    1.0048478199647597\n",
       "    1.9542705623327785\n",
       "    3.4205187637984684\n",
       "    5.582596679385624\n",
       "    8.655673963960684\n",
       "   12.88197439027192\n",
       "   18.534430710491755\n",
       "    ⋮\n",
       "  160.2796165203439\n",
       "  198.72609726242598\n",
       "  245.15444897921904\n",
       "  301.50766328721284\n",
       "  370.3749718374365\n",
       "  455.0409919547401\n",
       "  559.2645510319473\n",
       "  687.3261126630911\n",
       "  845.4914459005089\n",
       " 1044.01531731131\n",
       " 1297.254470087749\n",
       " 1600.0\n",
       "u: 32-element Vector{Vector{Float64}}:\n",
       " [0.0, 0.0]\n",
       " [0.009744063043051449, 4.521275343295342e-10]\n",
       " [0.10718434533613048, 5.470717781052132e-8]\n",
       " [1.0815523553813309, 5.570379031926199e-6]\n",
       " [10.821752025068879, 0.0005577831816612893]\n",
       " [40.771317251152794, 0.007921874101652439]\n",
       " [97.59418319232023, 0.04544003075885472]\n",
       " [189.22191698055974, 0.17111935483699686]\n",
       " [329.62266403547864, 0.5206823709989484]\n",
       " [534.229523019466, 1.3732155822425594]\n",
       " [820.152148524395, 3.255007552006781]\n",
       " [1204.1784514834749, 7.072249188263328]\n",
       " [1701.6234973583717, 14.271504017980083]\n",
       " ⋮\n",
       " [9739.117583625151, 606.9050847179506]\n",
       " [10929.038179515912, 818.2209274079306]\n",
       " [12028.723428592073, 1073.7251316248253]\n",
       " [12994.296137508612, 1375.2124457605014]\n",
       " [13788.367915892617, 1723.1277855158082]\n",
       " [14385.154571555086, 2115.430088947278]\n",
       " [14778.149232477446, 2545.30532286953]\n",
       " [14988.36613392058, 3000.775623883526]\n",
       " [15060.984673042138, 3468.5264744873384]\n",
       " [15048.829202713445, 3934.627955266529]\n",
       " [14998.825716921541, 4377.987558561508]\n",
       " [14947.892693550495, 4746.307093049893]"
      ]
     },
     "execution_count": 58,
     "metadata": {},
     "output_type": "execute_result"
    }
   ],
   "source": [
    "prob = ODEProblem(xdot!, ext0, vspan, p)\n",
    "sol = de.solve(prob, Rodas4())"
   ]
  },
  {
   "cell_type": "code",
   "execution_count": 59,
   "id": "robust-jonathan",
   "metadata": {},
   "outputs": [
    {
     "data": {
      "text/plain": [
       "32-element Vector{Float64}:\n",
       " 0.0\n",
       " 1.6240105825298306e-7\n",
       " 1.7864066673884716e-6\n",
       " 1.802596542933938e-5\n",
       " 0.000180371830137509\n",
       " 0.0006796539854209075\n",
       " 0.0016273270537179847\n",
       " 0.0031565506055899455\n",
       " 0.005502389106774626\n",
       " 0.008926712310028477\n",
       " 0.013723452601273363\n",
       " 0.020187511677862306\n",
       " 0.028598250022939194\n",
       " ⋮\n",
       " 0.1724337111390517\n",
       " 0.19578765178206403\n",
       " 0.21837414267028166\n",
       " 0.23949180972115192\n",
       " 0.25852492835680707\n",
       " 0.27500974434170605\n",
       " 0.2887242425891163\n",
       " 0.29981902929673504\n",
       " 0.30882518579215795\n",
       " 0.31639095263299954\n",
       " 0.32294688792471754\n",
       " 0.32823666311000643"
      ]
     },
     "execution_count": 59,
     "metadata": {},
     "output_type": "execute_result"
    }
   ],
   "source": [
    "conv = [(2*u[1] + u[2])/p.NBf for u in sol.u]\n",
    "yB = [(p.NBf - 2*u[1] - u[2])/p.NBf for u in sol.u]\n",
    "yD = [(u[1] - u[2])/p.NBf for u in sol.u]\n",
    "yT = [u[2]/p.NBf for u in sol.u]\n",
    "yH = [(u[1] + u[2])/p.NBf for u in sol.u]"
   ]
  },
  {
   "cell_type": "code",
   "execution_count": 60,
   "id": "private-liver",
   "metadata": {},
   "outputs": [
    {
     "data": {
      "image/svg+xml": [
       "<?xml version=\"1.0\" encoding=\"utf-8\"?>\n",
       "<svg xmlns=\"http://www.w3.org/2000/svg\" xmlns:xlink=\"http://www.w3.org/1999/xlink\" width=\"600\" height=\"400\" viewBox=\"0 0 2400 1600\">\n",
       "<defs>\n",
       "  <clipPath id=\"clip180\">\n",
       "    <rect x=\"0\" y=\"0\" width=\"2400\" height=\"1600\"/>\n",
       "  </clipPath>\n",
       "</defs>\n",
       "<path clip-path=\"url(#clip180)\" d=\"\n",
       "M0 1600 L2400 1600 L2400 0 L0 0  Z\n",
       "  \" fill=\"#ffffff\" fill-rule=\"evenodd\" fill-opacity=\"1\"/>\n",
       "<defs>\n",
       "  <clipPath id=\"clip181\">\n",
       "    <rect x=\"480\" y=\"0\" width=\"1681\" height=\"1600\"/>\n",
       "  </clipPath>\n",
       "</defs>\n",
       "<path clip-path=\"url(#clip180)\" d=\"\n",
       "M219.866 1423.18 L2352.76 1423.18 L2352.76 47.2441 L219.866 47.2441  Z\n",
       "  \" fill=\"#ffffff\" fill-rule=\"evenodd\" fill-opacity=\"1\"/>\n",
       "<defs>\n",
       "  <clipPath id=\"clip182\">\n",
       "    <rect x=\"219\" y=\"47\" width=\"2134\" height=\"1377\"/>\n",
       "  </clipPath>\n",
       "</defs>\n",
       "<polyline clip-path=\"url(#clip182)\" style=\"stroke:#000000; stroke-linecap:butt; stroke-linejoin:round; stroke-width:2; stroke-opacity:0.1; fill:none\" points=\"\n",
       "  280.231,1423.18 280.231,47.2441 \n",
       "  \"/>\n",
       "<polyline clip-path=\"url(#clip182)\" style=\"stroke:#000000; stroke-linecap:butt; stroke-linejoin:round; stroke-width:2; stroke-opacity:0.1; fill:none\" points=\"\n",
       "  909.031,1423.18 909.031,47.2441 \n",
       "  \"/>\n",
       "<polyline clip-path=\"url(#clip182)\" style=\"stroke:#000000; stroke-linecap:butt; stroke-linejoin:round; stroke-width:2; stroke-opacity:0.1; fill:none\" points=\"\n",
       "  1537.83,1423.18 1537.83,47.2441 \n",
       "  \"/>\n",
       "<polyline clip-path=\"url(#clip182)\" style=\"stroke:#000000; stroke-linecap:butt; stroke-linejoin:round; stroke-width:2; stroke-opacity:0.1; fill:none\" points=\"\n",
       "  2166.63,1423.18 2166.63,47.2441 \n",
       "  \"/>\n",
       "<polyline clip-path=\"url(#clip180)\" style=\"stroke:#000000; stroke-linecap:butt; stroke-linejoin:round; stroke-width:4; stroke-opacity:1; fill:none\" points=\"\n",
       "  219.866,1423.18 2352.76,1423.18 \n",
       "  \"/>\n",
       "<polyline clip-path=\"url(#clip180)\" style=\"stroke:#000000; stroke-linecap:butt; stroke-linejoin:round; stroke-width:4; stroke-opacity:1; fill:none\" points=\"\n",
       "  280.231,1423.18 280.231,1404.28 \n",
       "  \"/>\n",
       "<polyline clip-path=\"url(#clip180)\" style=\"stroke:#000000; stroke-linecap:butt; stroke-linejoin:round; stroke-width:4; stroke-opacity:1; fill:none\" points=\"\n",
       "  909.031,1423.18 909.031,1404.28 \n",
       "  \"/>\n",
       "<polyline clip-path=\"url(#clip180)\" style=\"stroke:#000000; stroke-linecap:butt; stroke-linejoin:round; stroke-width:4; stroke-opacity:1; fill:none\" points=\"\n",
       "  1537.83,1423.18 1537.83,1404.28 \n",
       "  \"/>\n",
       "<polyline clip-path=\"url(#clip180)\" style=\"stroke:#000000; stroke-linecap:butt; stroke-linejoin:round; stroke-width:4; stroke-opacity:1; fill:none\" points=\"\n",
       "  2166.63,1423.18 2166.63,1404.28 \n",
       "  \"/>\n",
       "<path clip-path=\"url(#clip180)\" d=\"M280.231 1452.37 Q276.62 1452.37 274.791 1455.94 Q272.986 1459.48 272.986 1466.61 Q272.986 1473.71 274.791 1477.28 Q276.62 1480.82 280.231 1480.82 Q283.865 1480.82 285.671 1477.28 Q287.5 1473.71 287.5 1466.61 Q287.5 1459.48 285.671 1455.94 Q283.865 1452.37 280.231 1452.37 M280.231 1448.67 Q286.041 1448.67 289.097 1453.27 Q292.175 1457.86 292.175 1466.61 Q292.175 1475.33 289.097 1479.94 Q286.041 1484.52 280.231 1484.52 Q274.421 1484.52 271.342 1479.94 Q268.287 1475.33 268.287 1466.61 Q268.287 1457.86 271.342 1453.27 Q274.421 1448.67 280.231 1448.67 Z\" fill=\"#000000\" fill-rule=\"evenodd\" fill-opacity=\"1\" /><path clip-path=\"url(#clip180)\" d=\"M868.649 1449.29 L887.006 1449.29 L887.006 1453.23 L872.932 1453.23 L872.932 1461.7 Q873.95 1461.35 874.969 1461.19 Q875.987 1461 877.006 1461 Q882.793 1461 886.172 1464.18 Q889.552 1467.35 889.552 1472.76 Q889.552 1478.34 886.08 1481.44 Q882.608 1484.52 876.288 1484.52 Q874.112 1484.52 871.844 1484.15 Q869.598 1483.78 867.191 1483.04 L867.191 1478.34 Q869.274 1479.48 871.497 1480.03 Q873.719 1480.59 876.196 1480.59 Q880.2 1480.59 882.538 1478.48 Q884.876 1476.38 884.876 1472.76 Q884.876 1469.15 882.538 1467.05 Q880.2 1464.94 876.196 1464.94 Q874.321 1464.94 872.446 1465.36 Q870.594 1465.77 868.649 1466.65 L868.649 1449.29 Z\" fill=\"#000000\" fill-rule=\"evenodd\" fill-opacity=\"1\" /><path clip-path=\"url(#clip180)\" d=\"M908.765 1452.37 Q905.154 1452.37 903.325 1455.94 Q901.52 1459.48 901.52 1466.61 Q901.52 1473.71 903.325 1477.28 Q905.154 1480.82 908.765 1480.82 Q912.399 1480.82 914.205 1477.28 Q916.033 1473.71 916.033 1466.61 Q916.033 1459.48 914.205 1455.94 Q912.399 1452.37 908.765 1452.37 M908.765 1448.67 Q914.575 1448.67 917.631 1453.27 Q920.709 1457.86 920.709 1466.61 Q920.709 1475.33 917.631 1479.94 Q914.575 1484.52 908.765 1484.52 Q902.955 1484.52 899.876 1479.94 Q896.82 1475.33 896.82 1466.61 Q896.82 1457.86 899.876 1453.27 Q902.955 1448.67 908.765 1448.67 Z\" fill=\"#000000\" fill-rule=\"evenodd\" fill-opacity=\"1\" /><path clip-path=\"url(#clip180)\" d=\"M938.927 1452.37 Q935.316 1452.37 933.487 1455.94 Q931.681 1459.48 931.681 1466.61 Q931.681 1473.71 933.487 1477.28 Q935.316 1480.82 938.927 1480.82 Q942.561 1480.82 944.367 1477.28 Q946.195 1473.71 946.195 1466.61 Q946.195 1459.48 944.367 1455.94 Q942.561 1452.37 938.927 1452.37 M938.927 1448.67 Q944.737 1448.67 947.792 1453.27 Q950.871 1457.86 950.871 1466.61 Q950.871 1475.33 947.792 1479.94 Q944.737 1484.52 938.927 1484.52 Q933.117 1484.52 930.038 1479.94 Q926.982 1475.33 926.982 1466.61 Q926.982 1457.86 930.038 1453.27 Q933.117 1448.67 938.927 1448.67 Z\" fill=\"#000000\" fill-rule=\"evenodd\" fill-opacity=\"1\" /><path clip-path=\"url(#clip180)\" d=\"M1482.36 1479.92 L1490 1479.92 L1490 1453.55 L1481.69 1455.22 L1481.69 1450.96 L1489.95 1449.29 L1494.63 1449.29 L1494.63 1479.92 L1502.26 1479.92 L1502.26 1483.85 L1482.36 1483.85 L1482.36 1479.92 Z\" fill=\"#000000\" fill-rule=\"evenodd\" fill-opacity=\"1\" /><path clip-path=\"url(#clip180)\" d=\"M1521.71 1452.37 Q1518.1 1452.37 1516.27 1455.94 Q1514.46 1459.48 1514.46 1466.61 Q1514.46 1473.71 1516.27 1477.28 Q1518.1 1480.82 1521.71 1480.82 Q1525.34 1480.82 1527.15 1477.28 Q1528.98 1473.71 1528.98 1466.61 Q1528.98 1459.48 1527.15 1455.94 Q1525.34 1452.37 1521.71 1452.37 M1521.71 1448.67 Q1527.52 1448.67 1530.57 1453.27 Q1533.65 1457.86 1533.65 1466.61 Q1533.65 1475.33 1530.57 1479.94 Q1527.52 1484.52 1521.71 1484.52 Q1515.9 1484.52 1512.82 1479.94 Q1509.76 1475.33 1509.76 1466.61 Q1509.76 1457.86 1512.82 1453.27 Q1515.9 1448.67 1521.71 1448.67 Z\" fill=\"#000000\" fill-rule=\"evenodd\" fill-opacity=\"1\" /><path clip-path=\"url(#clip180)\" d=\"M1551.87 1452.37 Q1548.26 1452.37 1546.43 1455.94 Q1544.63 1459.48 1544.63 1466.61 Q1544.63 1473.71 1546.43 1477.28 Q1548.26 1480.82 1551.87 1480.82 Q1555.5 1480.82 1557.31 1477.28 Q1559.14 1473.71 1559.14 1466.61 Q1559.14 1459.48 1557.31 1455.94 Q1555.5 1452.37 1551.87 1452.37 M1551.87 1448.67 Q1557.68 1448.67 1560.74 1453.27 Q1563.81 1457.86 1563.81 1466.61 Q1563.81 1475.33 1560.74 1479.94 Q1557.68 1484.52 1551.87 1484.52 Q1546.06 1484.52 1542.98 1479.94 Q1539.93 1475.33 1539.93 1466.61 Q1539.93 1457.86 1542.98 1453.27 Q1546.06 1448.67 1551.87 1448.67 Z\" fill=\"#000000\" fill-rule=\"evenodd\" fill-opacity=\"1\" /><path clip-path=\"url(#clip180)\" d=\"M1582.03 1452.37 Q1578.42 1452.37 1576.59 1455.94 Q1574.79 1459.48 1574.79 1466.61 Q1574.79 1473.71 1576.59 1477.28 Q1578.42 1480.82 1582.03 1480.82 Q1585.67 1480.82 1587.47 1477.28 Q1589.3 1473.71 1589.3 1466.61 Q1589.3 1459.48 1587.47 1455.94 Q1585.67 1452.37 1582.03 1452.37 M1582.03 1448.67 Q1587.84 1448.67 1590.9 1453.27 Q1593.98 1457.86 1593.98 1466.61 Q1593.98 1475.33 1590.9 1479.94 Q1587.84 1484.52 1582.03 1484.52 Q1576.22 1484.52 1573.14 1479.94 Q1570.09 1475.33 1570.09 1466.61 Q1570.09 1457.86 1573.14 1453.27 Q1576.22 1448.67 1582.03 1448.67 Z\" fill=\"#000000\" fill-rule=\"evenodd\" fill-opacity=\"1\" /><path clip-path=\"url(#clip180)\" d=\"M2111.16 1479.92 L2118.8 1479.92 L2118.8 1453.55 L2110.49 1455.22 L2110.49 1450.96 L2118.75 1449.29 L2123.43 1449.29 L2123.43 1479.92 L2131.06 1479.92 L2131.06 1483.85 L2111.16 1483.85 L2111.16 1479.92 Z\" fill=\"#000000\" fill-rule=\"evenodd\" fill-opacity=\"1\" /><path clip-path=\"url(#clip180)\" d=\"M2140.55 1449.29 L2158.91 1449.29 L2158.91 1453.23 L2144.84 1453.23 L2144.84 1461.7 Q2145.86 1461.35 2146.87 1461.19 Q2147.89 1461 2148.91 1461 Q2154.7 1461 2158.08 1464.18 Q2161.46 1467.35 2161.46 1472.76 Q2161.46 1478.34 2157.99 1481.44 Q2154.51 1484.52 2148.19 1484.52 Q2146.02 1484.52 2143.75 1484.15 Q2141.5 1483.78 2139.1 1483.04 L2139.1 1478.34 Q2141.18 1479.48 2143.4 1480.03 Q2145.62 1480.59 2148.1 1480.59 Q2152.11 1480.59 2154.44 1478.48 Q2156.78 1476.38 2156.78 1472.76 Q2156.78 1469.15 2154.44 1467.05 Q2152.11 1464.94 2148.1 1464.94 Q2146.23 1464.94 2144.35 1465.36 Q2142.5 1465.77 2140.55 1466.65 L2140.55 1449.29 Z\" fill=\"#000000\" fill-rule=\"evenodd\" fill-opacity=\"1\" /><path clip-path=\"url(#clip180)\" d=\"M2180.67 1452.37 Q2177.06 1452.37 2175.23 1455.94 Q2173.43 1459.48 2173.43 1466.61 Q2173.43 1473.71 2175.23 1477.28 Q2177.06 1480.82 2180.67 1480.82 Q2184.3 1480.82 2186.11 1477.28 Q2187.94 1473.71 2187.94 1466.61 Q2187.94 1459.48 2186.11 1455.94 Q2184.3 1452.37 2180.67 1452.37 M2180.67 1448.67 Q2186.48 1448.67 2189.54 1453.27 Q2192.61 1457.86 2192.61 1466.61 Q2192.61 1475.33 2189.54 1479.94 Q2186.48 1484.52 2180.67 1484.52 Q2174.86 1484.52 2171.78 1479.94 Q2168.73 1475.33 2168.73 1466.61 Q2168.73 1457.86 2171.78 1453.27 Q2174.86 1448.67 2180.67 1448.67 Z\" fill=\"#000000\" fill-rule=\"evenodd\" fill-opacity=\"1\" /><path clip-path=\"url(#clip180)\" d=\"M2210.83 1452.37 Q2207.22 1452.37 2205.39 1455.94 Q2203.59 1459.48 2203.59 1466.61 Q2203.59 1473.71 2205.39 1477.28 Q2207.22 1480.82 2210.83 1480.82 Q2214.47 1480.82 2216.27 1477.28 Q2218.1 1473.71 2218.1 1466.61 Q2218.1 1459.48 2216.27 1455.94 Q2214.47 1452.37 2210.83 1452.37 M2210.83 1448.67 Q2216.64 1448.67 2219.7 1453.27 Q2222.78 1457.86 2222.78 1466.61 Q2222.78 1475.33 2219.7 1479.94 Q2216.64 1484.52 2210.83 1484.52 Q2205.02 1484.52 2201.94 1479.94 Q2198.89 1475.33 2198.89 1466.61 Q2198.89 1457.86 2201.94 1453.27 Q2205.02 1448.67 2210.83 1448.67 Z\" fill=\"#000000\" fill-rule=\"evenodd\" fill-opacity=\"1\" /><path clip-path=\"url(#clip180)\" d=\"M1241.62 1568.04 L1223.48 1520.52 L1230.2 1520.52 L1245.25 1560.53 L1260.34 1520.52 L1267.02 1520.52 L1248.91 1568.04 L1241.62 1568.04 Z\" fill=\"#000000\" fill-rule=\"evenodd\" fill-opacity=\"1\" /><path clip-path=\"url(#clip180)\" d=\"M1287.78 1518.58 Q1283.51 1525.9 1281.44 1533.06 Q1279.37 1540.23 1279.37 1547.58 Q1279.37 1554.93 1281.44 1562.16 Q1283.54 1569.35 1287.78 1576.64 L1282.68 1576.64 Q1277.91 1569.16 1275.52 1561.93 Q1273.17 1554.71 1273.17 1547.58 Q1273.17 1540.48 1275.52 1533.29 Q1277.88 1526.09 1282.68 1518.58 L1287.78 1518.58 Z\" fill=\"#000000\" fill-rule=\"evenodd\" fill-opacity=\"1\" /><path clip-path=\"url(#clip180)\" d=\"M1299.39 1520.52 L1305.82 1520.52 L1305.82 1562.63 L1328.96 1562.63 L1328.96 1568.04 L1299.39 1568.04 L1299.39 1520.52 Z\" fill=\"#000000\" fill-rule=\"evenodd\" fill-opacity=\"1\" /><path clip-path=\"url(#clip180)\" d=\"M1334.53 1518.58 L1339.62 1518.58 Q1344.4 1526.09 1346.75 1533.29 Q1349.14 1540.48 1349.14 1547.58 Q1349.14 1554.71 1346.75 1561.93 Q1344.4 1569.16 1339.62 1576.64 L1334.53 1576.64 Q1338.76 1569.35 1340.83 1562.16 Q1342.93 1554.93 1342.93 1547.58 Q1342.93 1540.23 1340.83 1533.06 Q1338.76 1525.9 1334.53 1518.58 Z\" fill=\"#000000\" fill-rule=\"evenodd\" fill-opacity=\"1\" /><polyline clip-path=\"url(#clip182)\" style=\"stroke:#000000; stroke-linecap:butt; stroke-linejoin:round; stroke-width:2; stroke-opacity:0.1; fill:none\" points=\"\n",
       "  219.866,1384.24 2352.76,1384.24 \n",
       "  \"/>\n",
       "<polyline clip-path=\"url(#clip182)\" style=\"stroke:#000000; stroke-linecap:butt; stroke-linejoin:round; stroke-width:2; stroke-opacity:0.1; fill:none\" points=\"\n",
       "  219.866,1159.42 2352.76,1159.42 \n",
       "  \"/>\n",
       "<polyline clip-path=\"url(#clip182)\" style=\"stroke:#000000; stroke-linecap:butt; stroke-linejoin:round; stroke-width:2; stroke-opacity:0.1; fill:none\" points=\"\n",
       "  219.866,934.594 2352.76,934.594 \n",
       "  \"/>\n",
       "<polyline clip-path=\"url(#clip182)\" style=\"stroke:#000000; stroke-linecap:butt; stroke-linejoin:round; stroke-width:2; stroke-opacity:0.1; fill:none\" points=\"\n",
       "  219.866,709.771 2352.76,709.771 \n",
       "  \"/>\n",
       "<polyline clip-path=\"url(#clip182)\" style=\"stroke:#000000; stroke-linecap:butt; stroke-linejoin:round; stroke-width:2; stroke-opacity:0.1; fill:none\" points=\"\n",
       "  219.866,484.949 2352.76,484.949 \n",
       "  \"/>\n",
       "<polyline clip-path=\"url(#clip182)\" style=\"stroke:#000000; stroke-linecap:butt; stroke-linejoin:round; stroke-width:2; stroke-opacity:0.1; fill:none\" points=\"\n",
       "  219.866,260.127 2352.76,260.127 \n",
       "  \"/>\n",
       "<polyline clip-path=\"url(#clip180)\" style=\"stroke:#000000; stroke-linecap:butt; stroke-linejoin:round; stroke-width:4; stroke-opacity:1; fill:none\" points=\"\n",
       "  219.866,1423.18 219.866,47.2441 \n",
       "  \"/>\n",
       "<polyline clip-path=\"url(#clip180)\" style=\"stroke:#000000; stroke-linecap:butt; stroke-linejoin:round; stroke-width:4; stroke-opacity:1; fill:none\" points=\"\n",
       "  219.866,1384.24 238.764,1384.24 \n",
       "  \"/>\n",
       "<polyline clip-path=\"url(#clip180)\" style=\"stroke:#000000; stroke-linecap:butt; stroke-linejoin:round; stroke-width:4; stroke-opacity:1; fill:none\" points=\"\n",
       "  219.866,1159.42 238.764,1159.42 \n",
       "  \"/>\n",
       "<polyline clip-path=\"url(#clip180)\" style=\"stroke:#000000; stroke-linecap:butt; stroke-linejoin:round; stroke-width:4; stroke-opacity:1; fill:none\" points=\"\n",
       "  219.866,934.594 238.764,934.594 \n",
       "  \"/>\n",
       "<polyline clip-path=\"url(#clip180)\" style=\"stroke:#000000; stroke-linecap:butt; stroke-linejoin:round; stroke-width:4; stroke-opacity:1; fill:none\" points=\"\n",
       "  219.866,709.771 238.764,709.771 \n",
       "  \"/>\n",
       "<polyline clip-path=\"url(#clip180)\" style=\"stroke:#000000; stroke-linecap:butt; stroke-linejoin:round; stroke-width:4; stroke-opacity:1; fill:none\" points=\"\n",
       "  219.866,484.949 238.764,484.949 \n",
       "  \"/>\n",
       "<polyline clip-path=\"url(#clip180)\" style=\"stroke:#000000; stroke-linecap:butt; stroke-linejoin:round; stroke-width:4; stroke-opacity:1; fill:none\" points=\"\n",
       "  219.866,260.127 238.764,260.127 \n",
       "  \"/>\n",
       "<path clip-path=\"url(#clip180)\" d=\"M126.691 1370.04 Q123.08 1370.04 121.251 1373.6 Q119.445 1377.14 119.445 1384.27 Q119.445 1391.38 121.251 1394.94 Q123.08 1398.49 126.691 1398.49 Q130.325 1398.49 132.13 1394.94 Q133.959 1391.38 133.959 1384.27 Q133.959 1377.14 132.13 1373.6 Q130.325 1370.04 126.691 1370.04 M126.691 1366.33 Q132.501 1366.33 135.556 1370.94 Q138.635 1375.52 138.635 1384.27 Q138.635 1393 135.556 1397.61 Q132.501 1402.19 126.691 1402.19 Q120.88 1402.19 117.802 1397.61 Q114.746 1393 114.746 1384.27 Q114.746 1375.52 117.802 1370.94 Q120.88 1366.33 126.691 1366.33 Z\" fill=\"#000000\" fill-rule=\"evenodd\" fill-opacity=\"1\" /><path clip-path=\"url(#clip180)\" d=\"M146.853 1395.64 L151.737 1395.64 L151.737 1401.52 L146.853 1401.52 L146.853 1395.64 Z\" fill=\"#000000\" fill-rule=\"evenodd\" fill-opacity=\"1\" /><path clip-path=\"url(#clip180)\" d=\"M171.922 1370.04 Q168.311 1370.04 166.482 1373.6 Q164.677 1377.14 164.677 1384.27 Q164.677 1391.38 166.482 1394.94 Q168.311 1398.49 171.922 1398.49 Q175.556 1398.49 177.362 1394.94 Q179.19 1391.38 179.19 1384.27 Q179.19 1377.14 177.362 1373.6 Q175.556 1370.04 171.922 1370.04 M171.922 1366.33 Q177.732 1366.33 180.788 1370.94 Q183.866 1375.52 183.866 1384.27 Q183.866 1393 180.788 1397.61 Q177.732 1402.19 171.922 1402.19 Q166.112 1402.19 163.033 1397.61 Q159.978 1393 159.978 1384.27 Q159.978 1375.52 163.033 1370.94 Q166.112 1366.33 171.922 1366.33 Z\" fill=\"#000000\" fill-rule=\"evenodd\" fill-opacity=\"1\" /><path clip-path=\"url(#clip180)\" d=\"M127.917 1145.21 Q124.306 1145.21 122.478 1148.78 Q120.672 1152.32 120.672 1159.45 Q120.672 1166.56 122.478 1170.12 Q124.306 1173.66 127.917 1173.66 Q131.552 1173.66 133.357 1170.12 Q135.186 1166.56 135.186 1159.45 Q135.186 1152.32 133.357 1148.78 Q131.552 1145.21 127.917 1145.21 M127.917 1141.51 Q133.728 1141.51 136.783 1146.12 Q139.862 1150.7 139.862 1159.45 Q139.862 1168.18 136.783 1172.78 Q133.728 1177.37 127.917 1177.37 Q122.107 1177.37 119.029 1172.78 Q115.973 1168.18 115.973 1159.45 Q115.973 1150.7 119.029 1146.12 Q122.107 1141.51 127.917 1141.51 Z\" fill=\"#000000\" fill-rule=\"evenodd\" fill-opacity=\"1\" /><path clip-path=\"url(#clip180)\" d=\"M148.079 1170.82 L152.964 1170.82 L152.964 1176.7 L148.079 1176.7 L148.079 1170.82 Z\" fill=\"#000000\" fill-rule=\"evenodd\" fill-opacity=\"1\" /><path clip-path=\"url(#clip180)\" d=\"M163.959 1172.76 L171.598 1172.76 L171.598 1146.4 L163.288 1148.06 L163.288 1143.8 L171.552 1142.14 L176.227 1142.14 L176.227 1172.76 L183.866 1172.76 L183.866 1176.7 L163.959 1176.7 L163.959 1172.76 Z\" fill=\"#000000\" fill-rule=\"evenodd\" fill-opacity=\"1\" /><path clip-path=\"url(#clip180)\" d=\"M128.288 920.392 Q124.677 920.392 122.848 923.957 Q121.043 927.499 121.043 934.628 Q121.043 941.735 122.848 945.3 Q124.677 948.841 128.288 948.841 Q131.922 948.841 133.728 945.3 Q135.556 941.735 135.556 934.628 Q135.556 927.499 133.728 923.957 Q131.922 920.392 128.288 920.392 M128.288 916.689 Q134.098 916.689 137.154 921.295 Q140.232 925.878 140.232 934.628 Q140.232 943.355 137.154 947.962 Q134.098 952.545 128.288 952.545 Q122.478 952.545 119.399 947.962 Q116.343 943.355 116.343 934.628 Q116.343 925.878 119.399 921.295 Q122.478 916.689 128.288 916.689 Z\" fill=\"#000000\" fill-rule=\"evenodd\" fill-opacity=\"1\" /><path clip-path=\"url(#clip180)\" d=\"M148.45 945.994 L153.334 945.994 L153.334 951.874 L148.45 951.874 L148.45 945.994 Z\" fill=\"#000000\" fill-rule=\"evenodd\" fill-opacity=\"1\" /><path clip-path=\"url(#clip180)\" d=\"M167.547 947.938 L183.866 947.938 L183.866 951.874 L161.922 951.874 L161.922 947.938 Q164.584 945.184 169.167 940.554 Q173.774 935.901 174.954 934.559 Q177.2 932.036 178.079 930.3 Q178.982 928.54 178.982 926.851 Q178.982 924.096 177.038 922.36 Q175.116 920.624 172.014 920.624 Q169.815 920.624 167.362 921.388 Q164.931 922.152 162.153 923.702 L162.153 918.98 Q164.977 917.846 167.431 917.267 Q169.885 916.689 171.922 916.689 Q177.292 916.689 180.487 919.374 Q183.681 922.059 183.681 926.55 Q183.681 928.679 182.871 930.601 Q182.084 932.499 179.977 935.091 Q179.399 935.763 176.297 938.98 Q173.195 942.175 167.547 947.938 Z\" fill=\"#000000\" fill-rule=\"evenodd\" fill-opacity=\"1\" /><path clip-path=\"url(#clip180)\" d=\"M127.339 695.57 Q123.728 695.57 121.899 699.135 Q120.093 702.676 120.093 709.806 Q120.093 716.912 121.899 720.477 Q123.728 724.019 127.339 724.019 Q130.973 724.019 132.779 720.477 Q134.607 716.912 134.607 709.806 Q134.607 702.676 132.779 699.135 Q130.973 695.57 127.339 695.57 M127.339 691.866 Q133.149 691.866 136.204 696.473 Q139.283 701.056 139.283 709.806 Q139.283 718.533 136.204 723.139 Q133.149 727.723 127.339 727.723 Q121.529 727.723 118.45 723.139 Q115.394 718.533 115.394 709.806 Q115.394 701.056 118.45 696.473 Q121.529 691.866 127.339 691.866 Z\" fill=\"#000000\" fill-rule=\"evenodd\" fill-opacity=\"1\" /><path clip-path=\"url(#clip180)\" d=\"M147.501 721.172 L152.385 721.172 L152.385 727.051 L147.501 727.051 L147.501 721.172 Z\" fill=\"#000000\" fill-rule=\"evenodd\" fill-opacity=\"1\" /><path clip-path=\"url(#clip180)\" d=\"M176.737 708.417 Q180.093 709.135 181.968 711.403 Q183.866 713.672 183.866 717.005 Q183.866 722.121 180.348 724.922 Q176.829 727.723 170.348 727.723 Q168.172 727.723 165.857 727.283 Q163.565 726.866 161.112 726.01 L161.112 721.496 Q163.056 722.63 165.371 723.209 Q167.686 723.787 170.209 723.787 Q174.607 723.787 176.899 722.051 Q179.214 720.315 179.214 717.005 Q179.214 713.95 177.061 712.237 Q174.931 710.5 171.112 710.5 L167.084 710.5 L167.084 706.658 L171.297 706.658 Q174.746 706.658 176.575 705.292 Q178.403 703.903 178.403 701.311 Q178.403 698.649 176.505 697.237 Q174.63 695.801 171.112 695.801 Q169.19 695.801 166.991 696.218 Q164.792 696.635 162.153 697.514 L162.153 693.348 Q164.815 692.607 167.13 692.237 Q169.468 691.866 171.528 691.866 Q176.852 691.866 179.954 694.297 Q183.056 696.704 183.056 700.825 Q183.056 703.695 181.413 705.686 Q179.769 707.653 176.737 708.417 Z\" fill=\"#000000\" fill-rule=\"evenodd\" fill-opacity=\"1\" /><path clip-path=\"url(#clip180)\" d=\"M126.205 470.748 Q122.593 470.748 120.765 474.312 Q118.959 477.854 118.959 484.984 Q118.959 492.09 120.765 495.655 Q122.593 499.197 126.205 499.197 Q129.839 499.197 131.644 495.655 Q133.473 492.09 133.473 484.984 Q133.473 477.854 131.644 474.312 Q129.839 470.748 126.205 470.748 M126.205 467.044 Q132.015 467.044 135.07 471.65 Q138.149 476.234 138.149 484.984 Q138.149 493.711 135.07 498.317 Q132.015 502.9 126.205 502.9 Q120.394 502.9 117.316 498.317 Q114.26 493.711 114.26 484.984 Q114.26 476.234 117.316 471.65 Q120.394 467.044 126.205 467.044 Z\" fill=\"#000000\" fill-rule=\"evenodd\" fill-opacity=\"1\" /><path clip-path=\"url(#clip180)\" d=\"M146.366 496.349 L151.251 496.349 L151.251 502.229 L146.366 502.229 L146.366 496.349 Z\" fill=\"#000000\" fill-rule=\"evenodd\" fill-opacity=\"1\" /><path clip-path=\"url(#clip180)\" d=\"M174.283 471.743 L162.477 490.192 L174.283 490.192 L174.283 471.743 M173.056 467.669 L178.936 467.669 L178.936 490.192 L183.866 490.192 L183.866 494.081 L178.936 494.081 L178.936 502.229 L174.283 502.229 L174.283 494.081 L158.681 494.081 L158.681 489.567 L173.056 467.669 Z\" fill=\"#000000\" fill-rule=\"evenodd\" fill-opacity=\"1\" /><path clip-path=\"url(#clip180)\" d=\"M127.686 245.925 Q124.075 245.925 122.246 249.49 Q120.441 253.032 120.441 260.161 Q120.441 267.268 122.246 270.833 Q124.075 274.374 127.686 274.374 Q131.32 274.374 133.126 270.833 Q134.954 267.268 134.954 260.161 Q134.954 253.032 133.126 249.49 Q131.32 245.925 127.686 245.925 M127.686 242.222 Q133.496 242.222 136.552 246.828 Q139.63 251.411 139.63 260.161 Q139.63 268.888 136.552 273.495 Q133.496 278.078 127.686 278.078 Q121.876 278.078 118.797 273.495 Q115.742 268.888 115.742 260.161 Q115.742 251.411 118.797 246.828 Q121.876 242.222 127.686 242.222 Z\" fill=\"#000000\" fill-rule=\"evenodd\" fill-opacity=\"1\" /><path clip-path=\"url(#clip180)\" d=\"M147.848 271.527 L152.732 271.527 L152.732 277.407 L147.848 277.407 L147.848 271.527 Z\" fill=\"#000000\" fill-rule=\"evenodd\" fill-opacity=\"1\" /><path clip-path=\"url(#clip180)\" d=\"M162.964 242.847 L181.32 242.847 L181.32 246.782 L167.246 246.782 L167.246 255.254 Q168.264 254.907 169.283 254.745 Q170.302 254.56 171.32 254.56 Q177.107 254.56 180.487 257.731 Q183.866 260.902 183.866 266.319 Q183.866 271.897 180.394 274.999 Q176.922 278.078 170.602 278.078 Q168.427 278.078 166.158 277.708 Q163.913 277.337 161.505 276.596 L161.505 271.897 Q163.589 273.032 165.811 273.587 Q168.033 274.143 170.51 274.143 Q174.514 274.143 176.852 272.036 Q179.19 269.93 179.19 266.319 Q179.19 262.708 176.852 260.601 Q174.514 258.495 170.51 258.495 Q168.635 258.495 166.76 258.911 Q164.908 259.328 162.964 260.208 L162.964 242.847 Z\" fill=\"#000000\" fill-rule=\"evenodd\" fill-opacity=\"1\" /><path clip-path=\"url(#clip180)\" d=\"M20.1444 875.019 L26.9239 875.019 Q23.9002 878.265 22.4043 881.957 Q20.9083 885.618 20.9083 889.755 Q20.9083 897.904 25.9054 902.232 Q30.8707 906.561 40.2919 906.561 Q49.6813 906.561 54.6784 902.232 Q59.6436 897.904 59.6436 889.755 Q59.6436 885.618 58.1477 881.957 Q56.6518 878.265 53.6281 875.019 L60.3439 875.019 Q62.6355 878.393 63.7814 882.18 Q64.9272 885.936 64.9272 890.137 Q64.9272 900.927 58.3387 907.134 Q51.7183 913.34 40.2919 913.34 Q28.8336 913.34 22.2451 907.134 Q15.6248 900.927 15.6248 890.137 Q15.6248 885.872 16.7706 882.117 Q17.8846 878.329 20.1444 875.019 Z\" fill=\"#000000\" fill-rule=\"evenodd\" fill-opacity=\"1\" /><path clip-path=\"url(#clip180)\" d=\"M32.4621 851.529 Q32.4621 856.24 36.1542 858.977 Q39.8145 861.714 46.212 861.714 Q52.6095 861.714 56.3017 859.009 Q59.9619 856.272 59.9619 851.529 Q59.9619 846.851 56.2698 844.113 Q52.5777 841.376 46.212 841.376 Q39.8781 841.376 36.186 844.113 Q32.4621 846.851 32.4621 851.529 M27.4968 851.529 Q27.4968 843.89 32.4621 839.53 Q37.4273 835.169 46.212 835.169 Q54.9649 835.169 59.9619 839.53 Q64.9272 843.89 64.9272 851.529 Q64.9272 859.2 59.9619 863.561 Q54.9649 867.889 46.212 867.889 Q37.4273 867.889 32.4621 863.561 Q27.4968 859.2 27.4968 851.529 Z\" fill=\"#000000\" fill-rule=\"evenodd\" fill-opacity=\"1\" /><path clip-path=\"url(#clip180)\" d=\"M42.4881 795.829 L64.0042 795.829 L64.0042 801.686 L42.679 801.686 Q37.6183 801.686 35.1038 803.659 Q32.5894 805.633 32.5894 809.579 Q32.5894 814.322 35.6131 817.059 Q38.6368 819.796 43.8567 819.796 L64.0042 819.796 L64.0042 825.685 L28.3562 825.685 L28.3562 819.796 L33.8944 819.796 Q30.6797 817.696 29.0883 814.863 Q27.4968 811.998 27.4968 808.274 Q27.4968 802.131 31.3163 798.98 Q35.1038 795.829 42.4881 795.829 Z\" fill=\"#000000\" fill-rule=\"evenodd\" fill-opacity=\"1\" /><path clip-path=\"url(#clip180)\" d=\"M28.3562 788.35 L28.3562 782.143 L58.275 771.003 L28.3562 759.863 L28.3562 753.657 L64.0042 767.025 L64.0042 774.982 L28.3562 788.35 Z\" fill=\"#000000\" fill-rule=\"evenodd\" fill-opacity=\"1\" /><path clip-path=\"url(#clip180)\" d=\"M44.7161 715.08 L47.5806 715.08 L47.5806 742.007 Q53.6281 741.625 56.8109 738.379 Q59.9619 735.101 59.9619 729.276 Q59.9619 725.902 59.1344 722.751 Q58.3069 719.568 56.6518 716.449 L62.1899 716.449 Q63.5267 719.6 64.227 722.91 Q64.9272 726.22 64.9272 729.626 Q64.9272 738.156 59.9619 743.153 Q54.9967 748.118 46.5303 748.118 Q37.7774 748.118 32.6531 743.408 Q27.4968 738.665 27.4968 730.645 Q27.4968 723.451 32.1438 719.282 Q36.7589 715.08 44.7161 715.08 M42.9973 720.937 Q38.1912 721.001 35.3266 723.642 Q32.4621 726.252 32.4621 730.581 Q32.4621 735.483 35.2312 738.443 Q38.0002 741.371 43.0292 741.816 L42.9973 720.937 Z\" fill=\"#000000\" fill-rule=\"evenodd\" fill-opacity=\"1\" /><path clip-path=\"url(#clip180)\" d=\"M33.8307 684.811 Q33.2578 685.798 33.0032 686.976 Q32.7167 688.122 32.7167 689.522 Q32.7167 694.487 35.9632 697.161 Q39.1779 699.803 45.2253 699.803 L64.0042 699.803 L64.0042 705.691 L28.3562 705.691 L28.3562 699.803 L33.8944 699.803 Q30.6479 697.957 29.0883 694.997 Q27.4968 692.037 27.4968 687.803 Q27.4968 687.199 27.5923 686.467 Q27.656 685.735 27.8151 684.843 L33.8307 684.811 Z\" fill=\"#000000\" fill-rule=\"evenodd\" fill-opacity=\"1\" /><path clip-path=\"url(#clip180)\" d=\"M29.4065 655.943 L34.9447 655.943 Q33.6716 658.426 33.035 661.099 Q32.3984 663.773 32.3984 666.637 Q32.3984 670.998 33.7352 673.194 Q35.072 675.358 37.7456 675.358 Q39.7826 675.358 40.9603 673.799 Q42.1061 672.239 43.1565 667.529 L43.6021 665.523 Q44.9389 659.285 47.3897 656.675 Q49.8086 654.033 54.1691 654.033 Q59.1344 654.033 62.0308 657.98 Q64.9272 661.895 64.9272 668.77 Q64.9272 671.634 64.3543 674.754 Q63.8132 677.841 62.6992 681.279 L56.6518 681.279 Q58.3387 678.032 59.198 674.881 Q60.0256 671.73 60.0256 668.643 Q60.0256 664.505 58.6251 662.277 Q57.1929 660.049 54.6147 660.049 Q52.2276 660.049 50.9545 661.672 Q49.6813 663.264 48.5037 668.706 L48.0262 670.743 Q46.8804 676.186 44.5251 678.605 Q42.138 681.024 38.0002 681.024 Q32.9713 681.024 30.2341 677.459 Q27.4968 673.894 27.4968 667.338 Q27.4968 664.091 27.9743 661.227 Q28.4517 658.362 29.4065 655.943 Z\" fill=\"#000000\" fill-rule=\"evenodd\" fill-opacity=\"1\" /><path clip-path=\"url(#clip180)\" d=\"M28.3562 644.708 L28.3562 638.851 L64.0042 638.851 L64.0042 644.708 L28.3562 644.708 M14.479 644.708 L14.479 638.851 L21.895 638.851 L21.895 644.708 L14.479 644.708 Z\" fill=\"#000000\" fill-rule=\"evenodd\" fill-opacity=\"1\" /><path clip-path=\"url(#clip180)\" d=\"M32.4621 612.784 Q32.4621 617.494 36.1542 620.231 Q39.8145 622.969 46.212 622.969 Q52.6095 622.969 56.3017 620.263 Q59.9619 617.526 59.9619 612.784 Q59.9619 608.105 56.2698 605.367 Q52.5777 602.63 46.212 602.63 Q39.8781 602.63 36.186 605.367 Q32.4621 608.105 32.4621 612.784 M27.4968 612.784 Q27.4968 605.145 32.4621 600.784 Q37.4273 596.424 46.212 596.424 Q54.9649 596.424 59.9619 600.784 Q64.9272 605.145 64.9272 612.784 Q64.9272 620.454 59.9619 624.815 Q54.9649 629.143 46.212 629.143 Q37.4273 629.143 32.4621 624.815 Q27.4968 620.454 27.4968 612.784 Z\" fill=\"#000000\" fill-rule=\"evenodd\" fill-opacity=\"1\" /><path clip-path=\"url(#clip180)\" d=\"M42.4881 557.084 L64.0042 557.084 L64.0042 562.94 L42.679 562.94 Q37.6183 562.94 35.1038 564.913 Q32.5894 566.887 32.5894 570.834 Q32.5894 575.576 35.6131 578.313 Q38.6368 581.05 43.8567 581.05 L64.0042 581.05 L64.0042 586.939 L28.3562 586.939 L28.3562 581.05 L33.8944 581.05 Q30.6797 578.95 29.0883 576.117 Q27.4968 573.252 27.4968 569.529 Q27.4968 563.386 31.3163 560.235 Q35.1038 557.084 42.4881 557.084 Z\" fill=\"#000000\" fill-rule=\"evenodd\" fill-opacity=\"1\" /><polyline clip-path=\"url(#clip182)\" style=\"stroke:#009af9; stroke-linecap:butt; stroke-linejoin:round; stroke-width:4; stroke-opacity:1; fill:none\" points=\"\n",
       "  280.231,1384.24 280.231,1384.24 280.232,1384.23 280.245,1384.16 280.371,1383.43 280.758,1381.18 281.495,1376.92 282.689,1370.05 284.533,1359.52 287.252,1344.15 \n",
       "  291.116,1322.65 296.431,1293.73 303.54,1256.18 312.82,1209.05 324.69,1151.73 339.612,1084.13 358.111,1006.73 380.787,920.687 408.35,827.794 441.661,730.473 \n",
       "  481.799,631.64 530.149,534.549 588.537,442.564 659.407,358.906 746.015,286.361 852.491,226.938 983.562,181.379 1144.61,148.558 1343.52,125.589 1593.18,109.035 \n",
       "  1911.66,96.1698 2292.39,86.1857 \n",
       "  \"/>\n",
       "<path clip-path=\"url(#clip180)\" d=\"\n",
       "M1992.24 196.789 L2281.66 196.789 L2281.66 93.1086 L1992.24 93.1086  Z\n",
       "  \" fill=\"#ffffff\" fill-rule=\"evenodd\" fill-opacity=\"1\"/>\n",
       "<polyline clip-path=\"url(#clip180)\" style=\"stroke:#000000; stroke-linecap:butt; stroke-linejoin:round; stroke-width:4; stroke-opacity:1; fill:none\" points=\"\n",
       "  1992.24,196.789 2281.66,196.789 2281.66,93.1086 1992.24,93.1086 1992.24,196.789 \n",
       "  \"/>\n",
       "<polyline clip-path=\"url(#clip180)\" style=\"stroke:#009af9; stroke-linecap:butt; stroke-linejoin:round; stroke-width:4; stroke-opacity:1; fill:none\" points=\"\n",
       "  2015.94,144.949 2158.13,144.949 \n",
       "  \"/>\n",
       "<path clip-path=\"url(#clip180)\" d=\"M2195.67 164.636 Q2193.87 169.266 2192.16 170.678 Q2190.44 172.09 2187.57 172.09 L2184.17 172.09 L2184.17 168.525 L2186.67 168.525 Q2188.43 168.525 2189.4 167.692 Q2190.37 166.858 2191.55 163.756 L2192.32 161.812 L2181.83 136.303 L2186.35 136.303 L2194.45 156.581 L2202.55 136.303 L2207.06 136.303 L2195.67 164.636 Z\" fill=\"#000000\" fill-rule=\"evenodd\" fill-opacity=\"1\" /><path clip-path=\"url(#clip180)\" d=\"M2214.35 158.293 L2221.99 158.293 L2221.99 131.928 L2213.68 133.595 L2213.68 129.335 L2221.95 127.669 L2226.62 127.669 L2226.62 158.293 L2234.26 158.293 L2234.26 162.229 L2214.35 162.229 L2214.35 158.293 Z\" fill=\"#000000\" fill-rule=\"evenodd\" fill-opacity=\"1\" /></svg>\n"
      ]
     },
     "execution_count": 60,
     "metadata": {},
     "output_type": "execute_result"
    }
   ],
   "source": [
    "plot(sol.t, conv, xlabel = \"V(L)\", ylabel = \"Conversion\")"
   ]
  },
  {
   "cell_type": "code",
   "execution_count": 61,
   "id": "short-melbourne",
   "metadata": {},
   "outputs": [
    {
     "data": {
      "image/svg+xml": [
       "<?xml version=\"1.0\" encoding=\"utf-8\"?>\n",
       "<svg xmlns=\"http://www.w3.org/2000/svg\" xmlns:xlink=\"http://www.w3.org/1999/xlink\" width=\"600\" height=\"400\" viewBox=\"0 0 2400 1600\">\n",
       "<defs>\n",
       "  <clipPath id=\"clip220\">\n",
       "    <rect x=\"0\" y=\"0\" width=\"2400\" height=\"1600\"/>\n",
       "  </clipPath>\n",
       "</defs>\n",
       "<path clip-path=\"url(#clip220)\" d=\"\n",
       "M0 1600 L2400 1600 L2400 0 L0 0  Z\n",
       "  \" fill=\"#ffffff\" fill-rule=\"evenodd\" fill-opacity=\"1\"/>\n",
       "<defs>\n",
       "  <clipPath id=\"clip221\">\n",
       "    <rect x=\"480\" y=\"0\" width=\"1681\" height=\"1600\"/>\n",
       "  </clipPath>\n",
       "</defs>\n",
       "<path clip-path=\"url(#clip220)\" d=\"\n",
       "M249.542 1423.18 L2352.76 1423.18 L2352.76 47.2441 L249.542 47.2441  Z\n",
       "  \" fill=\"#ffffff\" fill-rule=\"evenodd\" fill-opacity=\"1\"/>\n",
       "<defs>\n",
       "  <clipPath id=\"clip222\">\n",
       "    <rect x=\"249\" y=\"47\" width=\"2104\" height=\"1377\"/>\n",
       "  </clipPath>\n",
       "</defs>\n",
       "<polyline clip-path=\"url(#clip222)\" style=\"stroke:#000000; stroke-linecap:butt; stroke-linejoin:round; stroke-width:2; stroke-opacity:0.1; fill:none\" points=\"\n",
       "  309.067,1423.18 309.067,47.2441 \n",
       "  \"/>\n",
       "<polyline clip-path=\"url(#clip222)\" style=\"stroke:#000000; stroke-linecap:butt; stroke-linejoin:round; stroke-width:2; stroke-opacity:0.1; fill:none\" points=\"\n",
       "  929.118,1423.18 929.118,47.2441 \n",
       "  \"/>\n",
       "<polyline clip-path=\"url(#clip222)\" style=\"stroke:#000000; stroke-linecap:butt; stroke-linejoin:round; stroke-width:2; stroke-opacity:0.1; fill:none\" points=\"\n",
       "  1549.17,1423.18 1549.17,47.2441 \n",
       "  \"/>\n",
       "<polyline clip-path=\"url(#clip222)\" style=\"stroke:#000000; stroke-linecap:butt; stroke-linejoin:round; stroke-width:2; stroke-opacity:0.1; fill:none\" points=\"\n",
       "  2169.22,1423.18 2169.22,47.2441 \n",
       "  \"/>\n",
       "<polyline clip-path=\"url(#clip220)\" style=\"stroke:#000000; stroke-linecap:butt; stroke-linejoin:round; stroke-width:4; stroke-opacity:1; fill:none\" points=\"\n",
       "  249.542,1423.18 2352.76,1423.18 \n",
       "  \"/>\n",
       "<polyline clip-path=\"url(#clip220)\" style=\"stroke:#000000; stroke-linecap:butt; stroke-linejoin:round; stroke-width:4; stroke-opacity:1; fill:none\" points=\"\n",
       "  309.067,1423.18 309.067,1404.28 \n",
       "  \"/>\n",
       "<polyline clip-path=\"url(#clip220)\" style=\"stroke:#000000; stroke-linecap:butt; stroke-linejoin:round; stroke-width:4; stroke-opacity:1; fill:none\" points=\"\n",
       "  929.118,1423.18 929.118,1404.28 \n",
       "  \"/>\n",
       "<polyline clip-path=\"url(#clip220)\" style=\"stroke:#000000; stroke-linecap:butt; stroke-linejoin:round; stroke-width:4; stroke-opacity:1; fill:none\" points=\"\n",
       "  1549.17,1423.18 1549.17,1404.28 \n",
       "  \"/>\n",
       "<polyline clip-path=\"url(#clip220)\" style=\"stroke:#000000; stroke-linecap:butt; stroke-linejoin:round; stroke-width:4; stroke-opacity:1; fill:none\" points=\"\n",
       "  2169.22,1423.18 2169.22,1404.28 \n",
       "  \"/>\n",
       "<path clip-path=\"url(#clip220)\" d=\"M309.067 1452.37 Q305.456 1452.37 303.627 1455.94 Q301.822 1459.48 301.822 1466.61 Q301.822 1473.71 303.627 1477.28 Q305.456 1480.82 309.067 1480.82 Q312.701 1480.82 314.507 1477.28 Q316.335 1473.71 316.335 1466.61 Q316.335 1459.48 314.507 1455.94 Q312.701 1452.37 309.067 1452.37 M309.067 1448.67 Q314.877 1448.67 317.933 1453.27 Q321.011 1457.86 321.011 1466.61 Q321.011 1475.33 317.933 1479.94 Q314.877 1484.52 309.067 1484.52 Q303.257 1484.52 300.178 1479.94 Q297.123 1475.33 297.123 1466.61 Q297.123 1457.86 300.178 1453.27 Q303.257 1448.67 309.067 1448.67 Z\" fill=\"#000000\" fill-rule=\"evenodd\" fill-opacity=\"1\" /><path clip-path=\"url(#clip220)\" d=\"M888.736 1449.29 L907.093 1449.29 L907.093 1453.23 L893.019 1453.23 L893.019 1461.7 Q894.037 1461.35 895.056 1461.19 Q896.074 1461 897.093 1461 Q902.88 1461 906.26 1464.18 Q909.639 1467.35 909.639 1472.76 Q909.639 1478.34 906.167 1481.44 Q902.695 1484.52 896.375 1484.52 Q894.199 1484.52 891.931 1484.15 Q889.686 1483.78 887.278 1483.04 L887.278 1478.34 Q889.361 1479.48 891.584 1480.03 Q893.806 1480.59 896.283 1480.59 Q900.287 1480.59 902.625 1478.48 Q904.963 1476.38 904.963 1472.76 Q904.963 1469.15 902.625 1467.05 Q900.287 1464.94 896.283 1464.94 Q894.408 1464.94 892.533 1465.36 Q890.681 1465.77 888.736 1466.65 L888.736 1449.29 Z\" fill=\"#000000\" fill-rule=\"evenodd\" fill-opacity=\"1\" /><path clip-path=\"url(#clip220)\" d=\"M928.852 1452.37 Q925.241 1452.37 923.412 1455.94 Q921.607 1459.48 921.607 1466.61 Q921.607 1473.71 923.412 1477.28 Q925.241 1480.82 928.852 1480.82 Q932.486 1480.82 934.292 1477.28 Q936.12 1473.71 936.12 1466.61 Q936.12 1459.48 934.292 1455.94 Q932.486 1452.37 928.852 1452.37 M928.852 1448.67 Q934.662 1448.67 937.718 1453.27 Q940.796 1457.86 940.796 1466.61 Q940.796 1475.33 937.718 1479.94 Q934.662 1484.52 928.852 1484.52 Q923.042 1484.52 919.963 1479.94 Q916.908 1475.33 916.908 1466.61 Q916.908 1457.86 919.963 1453.27 Q923.042 1448.67 928.852 1448.67 Z\" fill=\"#000000\" fill-rule=\"evenodd\" fill-opacity=\"1\" /><path clip-path=\"url(#clip220)\" d=\"M959.014 1452.37 Q955.403 1452.37 953.574 1455.94 Q951.769 1459.48 951.769 1466.61 Q951.769 1473.71 953.574 1477.28 Q955.403 1480.82 959.014 1480.82 Q962.648 1480.82 964.454 1477.28 Q966.282 1473.71 966.282 1466.61 Q966.282 1459.48 964.454 1455.94 Q962.648 1452.37 959.014 1452.37 M959.014 1448.67 Q964.824 1448.67 967.88 1453.27 Q970.958 1457.86 970.958 1466.61 Q970.958 1475.33 967.88 1479.94 Q964.824 1484.52 959.014 1484.52 Q953.204 1484.52 950.125 1479.94 Q947.07 1475.33 947.07 1466.61 Q947.07 1457.86 950.125 1453.27 Q953.204 1448.67 959.014 1448.67 Z\" fill=\"#000000\" fill-rule=\"evenodd\" fill-opacity=\"1\" /><path clip-path=\"url(#clip220)\" d=\"M1493.7 1479.92 L1501.33 1479.92 L1501.33 1453.55 L1493.02 1455.22 L1493.02 1450.96 L1501.29 1449.29 L1505.96 1449.29 L1505.96 1479.92 L1513.6 1479.92 L1513.6 1483.85 L1493.7 1483.85 L1493.7 1479.92 Z\" fill=\"#000000\" fill-rule=\"evenodd\" fill-opacity=\"1\" /><path clip-path=\"url(#clip220)\" d=\"M1533.05 1452.37 Q1529.44 1452.37 1527.61 1455.94 Q1525.8 1459.48 1525.8 1466.61 Q1525.8 1473.71 1527.61 1477.28 Q1529.44 1480.82 1533.05 1480.82 Q1536.68 1480.82 1538.49 1477.28 Q1540.32 1473.71 1540.32 1466.61 Q1540.32 1459.48 1538.49 1455.94 Q1536.68 1452.37 1533.05 1452.37 M1533.05 1448.67 Q1538.86 1448.67 1541.91 1453.27 Q1544.99 1457.86 1544.99 1466.61 Q1544.99 1475.33 1541.91 1479.94 Q1538.86 1484.52 1533.05 1484.52 Q1527.24 1484.52 1524.16 1479.94 Q1521.1 1475.33 1521.1 1466.61 Q1521.1 1457.86 1524.16 1453.27 Q1527.24 1448.67 1533.05 1448.67 Z\" fill=\"#000000\" fill-rule=\"evenodd\" fill-opacity=\"1\" /><path clip-path=\"url(#clip220)\" d=\"M1563.21 1452.37 Q1559.6 1452.37 1557.77 1455.94 Q1555.96 1459.48 1555.96 1466.61 Q1555.96 1473.71 1557.77 1477.28 Q1559.6 1480.82 1563.21 1480.82 Q1566.84 1480.82 1568.65 1477.28 Q1570.48 1473.71 1570.48 1466.61 Q1570.48 1459.48 1568.65 1455.94 Q1566.84 1452.37 1563.21 1452.37 M1563.21 1448.67 Q1569.02 1448.67 1572.07 1453.27 Q1575.15 1457.86 1575.15 1466.61 Q1575.15 1475.33 1572.07 1479.94 Q1569.02 1484.52 1563.21 1484.52 Q1557.4 1484.52 1554.32 1479.94 Q1551.26 1475.33 1551.26 1466.61 Q1551.26 1457.86 1554.32 1453.27 Q1557.4 1448.67 1563.21 1448.67 Z\" fill=\"#000000\" fill-rule=\"evenodd\" fill-opacity=\"1\" /><path clip-path=\"url(#clip220)\" d=\"M1593.37 1452.37 Q1589.76 1452.37 1587.93 1455.94 Q1586.13 1459.48 1586.13 1466.61 Q1586.13 1473.71 1587.93 1477.28 Q1589.76 1480.82 1593.37 1480.82 Q1597 1480.82 1598.81 1477.28 Q1600.64 1473.71 1600.64 1466.61 Q1600.64 1459.48 1598.81 1455.94 Q1597 1452.37 1593.37 1452.37 M1593.37 1448.67 Q1599.18 1448.67 1602.24 1453.27 Q1605.32 1457.86 1605.32 1466.61 Q1605.32 1475.33 1602.24 1479.94 Q1599.18 1484.52 1593.37 1484.52 Q1587.56 1484.52 1584.48 1479.94 Q1581.43 1475.33 1581.43 1466.61 Q1581.43 1457.86 1584.48 1453.27 Q1587.56 1448.67 1593.37 1448.67 Z\" fill=\"#000000\" fill-rule=\"evenodd\" fill-opacity=\"1\" /><path clip-path=\"url(#clip220)\" d=\"M2113.75 1479.92 L2121.39 1479.92 L2121.39 1453.55 L2113.08 1455.22 L2113.08 1450.96 L2121.34 1449.29 L2126.01 1449.29 L2126.01 1479.92 L2133.65 1479.92 L2133.65 1483.85 L2113.75 1483.85 L2113.75 1479.92 Z\" fill=\"#000000\" fill-rule=\"evenodd\" fill-opacity=\"1\" /><path clip-path=\"url(#clip220)\" d=\"M2143.14 1449.29 L2161.5 1449.29 L2161.5 1453.23 L2147.43 1453.23 L2147.43 1461.7 Q2148.45 1461.35 2149.46 1461.19 Q2150.48 1461 2151.5 1461 Q2157.29 1461 2160.67 1464.18 Q2164.05 1467.35 2164.05 1472.76 Q2164.05 1478.34 2160.57 1481.44 Q2157.1 1484.52 2150.78 1484.52 Q2148.61 1484.52 2146.34 1484.15 Q2144.09 1483.78 2141.69 1483.04 L2141.69 1478.34 Q2143.77 1479.48 2145.99 1480.03 Q2148.21 1480.59 2150.69 1480.59 Q2154.7 1480.59 2157.03 1478.48 Q2159.37 1476.38 2159.37 1472.76 Q2159.37 1469.15 2157.03 1467.05 Q2154.7 1464.94 2150.69 1464.94 Q2148.82 1464.94 2146.94 1465.36 Q2145.09 1465.77 2143.14 1466.65 L2143.14 1449.29 Z\" fill=\"#000000\" fill-rule=\"evenodd\" fill-opacity=\"1\" /><path clip-path=\"url(#clip220)\" d=\"M2183.26 1452.37 Q2179.65 1452.37 2177.82 1455.94 Q2176.01 1459.48 2176.01 1466.61 Q2176.01 1473.71 2177.82 1477.28 Q2179.65 1480.82 2183.26 1480.82 Q2186.89 1480.82 2188.7 1477.28 Q2190.53 1473.71 2190.53 1466.61 Q2190.53 1459.48 2188.7 1455.94 Q2186.89 1452.37 2183.26 1452.37 M2183.26 1448.67 Q2189.07 1448.67 2192.13 1453.27 Q2195.2 1457.86 2195.2 1466.61 Q2195.2 1475.33 2192.13 1479.94 Q2189.07 1484.52 2183.26 1484.52 Q2177.45 1484.52 2174.37 1479.94 Q2171.32 1475.33 2171.32 1466.61 Q2171.32 1457.86 2174.37 1453.27 Q2177.45 1448.67 2183.26 1448.67 Z\" fill=\"#000000\" fill-rule=\"evenodd\" fill-opacity=\"1\" /><path clip-path=\"url(#clip220)\" d=\"M2213.42 1452.37 Q2209.81 1452.37 2207.98 1455.94 Q2206.18 1459.48 2206.18 1466.61 Q2206.18 1473.71 2207.98 1477.28 Q2209.81 1480.82 2213.42 1480.82 Q2217.06 1480.82 2218.86 1477.28 Q2220.69 1473.71 2220.69 1466.61 Q2220.69 1459.48 2218.86 1455.94 Q2217.06 1452.37 2213.42 1452.37 M2213.42 1448.67 Q2219.23 1448.67 2222.29 1453.27 Q2225.37 1457.86 2225.37 1466.61 Q2225.37 1475.33 2222.29 1479.94 Q2219.23 1484.52 2213.42 1484.52 Q2207.61 1484.52 2204.53 1479.94 Q2201.48 1475.33 2201.48 1466.61 Q2201.48 1457.86 2204.53 1453.27 Q2207.61 1448.67 2213.42 1448.67 Z\" fill=\"#000000\" fill-rule=\"evenodd\" fill-opacity=\"1\" /><path clip-path=\"url(#clip220)\" d=\"M1256.46 1568.04 L1238.32 1520.52 L1245.04 1520.52 L1260.09 1560.53 L1275.18 1520.52 L1281.86 1520.52 L1263.75 1568.04 L1256.46 1568.04 Z\" fill=\"#000000\" fill-rule=\"evenodd\" fill-opacity=\"1\" /><path clip-path=\"url(#clip220)\" d=\"M1302.61 1518.58 Q1298.35 1525.9 1296.28 1533.06 Q1294.21 1540.23 1294.21 1547.58 Q1294.21 1554.93 1296.28 1562.16 Q1298.38 1569.35 1302.61 1576.64 L1297.52 1576.64 Q1292.75 1569.16 1290.36 1561.93 Q1288 1554.71 1288 1547.58 Q1288 1540.48 1290.36 1533.29 Q1292.71 1526.09 1297.52 1518.58 L1302.61 1518.58 Z\" fill=\"#000000\" fill-rule=\"evenodd\" fill-opacity=\"1\" /><path clip-path=\"url(#clip220)\" d=\"M1314.23 1520.52 L1320.66 1520.52 L1320.66 1562.63 L1343.8 1562.63 L1343.8 1568.04 L1314.23 1568.04 L1314.23 1520.52 Z\" fill=\"#000000\" fill-rule=\"evenodd\" fill-opacity=\"1\" /><path clip-path=\"url(#clip220)\" d=\"M1349.37 1518.58 L1354.46 1518.58 Q1359.24 1526.09 1361.59 1533.29 Q1363.98 1540.48 1363.98 1547.58 Q1363.98 1554.71 1361.59 1561.93 Q1359.24 1569.16 1354.46 1576.64 L1349.37 1576.64 Q1353.6 1569.35 1355.67 1562.16 Q1357.77 1554.93 1357.77 1547.58 Q1357.77 1540.23 1355.67 1533.06 Q1353.6 1525.9 1349.37 1518.58 Z\" fill=\"#000000\" fill-rule=\"evenodd\" fill-opacity=\"1\" /><polyline clip-path=\"url(#clip222)\" style=\"stroke:#000000; stroke-linecap:butt; stroke-linejoin:round; stroke-width:2; stroke-opacity:0.1; fill:none\" points=\"\n",
       "  249.542,1384.24 2352.76,1384.24 \n",
       "  \"/>\n",
       "<polyline clip-path=\"url(#clip222)\" style=\"stroke:#000000; stroke-linecap:butt; stroke-linejoin:round; stroke-width:2; stroke-opacity:0.1; fill:none\" points=\"\n",
       "  249.542,1059.73 2352.76,1059.73 \n",
       "  \"/>\n",
       "<polyline clip-path=\"url(#clip222)\" style=\"stroke:#000000; stroke-linecap:butt; stroke-linejoin:round; stroke-width:2; stroke-opacity:0.1; fill:none\" points=\"\n",
       "  249.542,735.212 2352.76,735.212 \n",
       "  \"/>\n",
       "<polyline clip-path=\"url(#clip222)\" style=\"stroke:#000000; stroke-linecap:butt; stroke-linejoin:round; stroke-width:2; stroke-opacity:0.1; fill:none\" points=\"\n",
       "  249.542,410.699 2352.76,410.699 \n",
       "  \"/>\n",
       "<polyline clip-path=\"url(#clip222)\" style=\"stroke:#000000; stroke-linecap:butt; stroke-linejoin:round; stroke-width:2; stroke-opacity:0.1; fill:none\" points=\"\n",
       "  249.542,86.1857 2352.76,86.1857 \n",
       "  \"/>\n",
       "<polyline clip-path=\"url(#clip220)\" style=\"stroke:#000000; stroke-linecap:butt; stroke-linejoin:round; stroke-width:4; stroke-opacity:1; fill:none\" points=\"\n",
       "  249.542,1423.18 249.542,47.2441 \n",
       "  \"/>\n",
       "<polyline clip-path=\"url(#clip220)\" style=\"stroke:#000000; stroke-linecap:butt; stroke-linejoin:round; stroke-width:4; stroke-opacity:1; fill:none\" points=\"\n",
       "  249.542,1384.24 268.44,1384.24 \n",
       "  \"/>\n",
       "<polyline clip-path=\"url(#clip220)\" style=\"stroke:#000000; stroke-linecap:butt; stroke-linejoin:round; stroke-width:4; stroke-opacity:1; fill:none\" points=\"\n",
       "  249.542,1059.73 268.44,1059.73 \n",
       "  \"/>\n",
       "<polyline clip-path=\"url(#clip220)\" style=\"stroke:#000000; stroke-linecap:butt; stroke-linejoin:round; stroke-width:4; stroke-opacity:1; fill:none\" points=\"\n",
       "  249.542,735.212 268.44,735.212 \n",
       "  \"/>\n",
       "<polyline clip-path=\"url(#clip220)\" style=\"stroke:#000000; stroke-linecap:butt; stroke-linejoin:round; stroke-width:4; stroke-opacity:1; fill:none\" points=\"\n",
       "  249.542,410.699 268.44,410.699 \n",
       "  \"/>\n",
       "<polyline clip-path=\"url(#clip220)\" style=\"stroke:#000000; stroke-linecap:butt; stroke-linejoin:round; stroke-width:4; stroke-opacity:1; fill:none\" points=\"\n",
       "  249.542,86.1857 268.44,86.1857 \n",
       "  \"/>\n",
       "<path clip-path=\"url(#clip220)\" d=\"M126.205 1370.04 Q122.593 1370.04 120.765 1373.6 Q118.959 1377.14 118.959 1384.27 Q118.959 1391.38 120.765 1394.94 Q122.593 1398.49 126.205 1398.49 Q129.839 1398.49 131.644 1394.94 Q133.473 1391.38 133.473 1384.27 Q133.473 1377.14 131.644 1373.6 Q129.839 1370.04 126.205 1370.04 M126.205 1366.33 Q132.015 1366.33 135.07 1370.94 Q138.149 1375.52 138.149 1384.27 Q138.149 1393 135.07 1397.61 Q132.015 1402.19 126.205 1402.19 Q120.394 1402.19 117.316 1397.61 Q114.26 1393 114.26 1384.27 Q114.26 1375.52 117.316 1370.94 Q120.394 1366.33 126.205 1366.33 Z\" fill=\"#000000\" fill-rule=\"evenodd\" fill-opacity=\"1\" /><path clip-path=\"url(#clip220)\" d=\"M146.366 1395.64 L151.251 1395.64 L151.251 1401.52 L146.366 1401.52 L146.366 1395.64 Z\" fill=\"#000000\" fill-rule=\"evenodd\" fill-opacity=\"1\" /><path clip-path=\"url(#clip220)\" d=\"M171.436 1370.04 Q167.825 1370.04 165.996 1373.6 Q164.19 1377.14 164.19 1384.27 Q164.19 1391.38 165.996 1394.94 Q167.825 1398.49 171.436 1398.49 Q175.07 1398.49 176.876 1394.94 Q178.704 1391.38 178.704 1384.27 Q178.704 1377.14 176.876 1373.6 Q175.07 1370.04 171.436 1370.04 M171.436 1366.33 Q177.246 1366.33 180.301 1370.94 Q183.38 1375.52 183.38 1384.27 Q183.38 1393 180.301 1397.61 Q177.246 1402.19 171.436 1402.19 Q165.626 1402.19 162.547 1397.61 Q159.491 1393 159.491 1384.27 Q159.491 1375.52 162.547 1370.94 Q165.626 1366.33 171.436 1366.33 Z\" fill=\"#000000\" fill-rule=\"evenodd\" fill-opacity=\"1\" /><path clip-path=\"url(#clip220)\" d=\"M201.598 1370.04 Q197.987 1370.04 196.158 1373.6 Q194.352 1377.14 194.352 1384.27 Q194.352 1391.38 196.158 1394.94 Q197.987 1398.49 201.598 1398.49 Q205.232 1398.49 207.037 1394.94 Q208.866 1391.38 208.866 1384.27 Q208.866 1377.14 207.037 1373.6 Q205.232 1370.04 201.598 1370.04 M201.598 1366.33 Q207.408 1366.33 210.463 1370.94 Q213.542 1375.52 213.542 1384.27 Q213.542 1393 210.463 1397.61 Q207.408 1402.19 201.598 1402.19 Q195.787 1402.19 192.709 1397.61 Q189.653 1393 189.653 1384.27 Q189.653 1375.52 192.709 1370.94 Q195.787 1366.33 201.598 1366.33 Z\" fill=\"#000000\" fill-rule=\"evenodd\" fill-opacity=\"1\" /><path clip-path=\"url(#clip220)\" d=\"M127.2 1045.52 Q123.589 1045.52 121.76 1049.09 Q119.955 1052.63 119.955 1059.76 Q119.955 1066.87 121.76 1070.43 Q123.589 1073.97 127.2 1073.97 Q130.834 1073.97 132.64 1070.43 Q134.468 1066.87 134.468 1059.76 Q134.468 1052.63 132.64 1049.09 Q130.834 1045.52 127.2 1045.52 M127.2 1041.82 Q133.01 1041.82 136.066 1046.43 Q139.144 1051.01 139.144 1059.76 Q139.144 1068.49 136.066 1073.09 Q133.01 1077.68 127.2 1077.68 Q121.39 1077.68 118.311 1073.09 Q115.256 1068.49 115.256 1059.76 Q115.256 1051.01 118.311 1046.43 Q121.39 1041.82 127.2 1041.82 Z\" fill=\"#000000\" fill-rule=\"evenodd\" fill-opacity=\"1\" /><path clip-path=\"url(#clip220)\" d=\"M147.362 1071.13 L152.246 1071.13 L152.246 1077.01 L147.362 1077.01 L147.362 1071.13 Z\" fill=\"#000000\" fill-rule=\"evenodd\" fill-opacity=\"1\" /><path clip-path=\"url(#clip220)\" d=\"M166.459 1073.07 L182.778 1073.07 L182.778 1077.01 L160.834 1077.01 L160.834 1073.07 Q163.496 1070.32 168.079 1065.69 Q172.686 1061.03 173.866 1059.69 Q176.112 1057.17 176.991 1055.43 Q177.894 1053.67 177.894 1051.98 Q177.894 1049.23 175.95 1047.49 Q174.028 1045.76 170.927 1045.76 Q168.727 1045.76 166.274 1046.52 Q163.843 1047.28 161.065 1048.83 L161.065 1044.11 Q163.89 1042.98 166.343 1042.4 Q168.797 1041.82 170.834 1041.82 Q176.204 1041.82 179.399 1044.51 Q182.593 1047.19 182.593 1051.68 Q182.593 1053.81 181.783 1055.73 Q180.996 1057.63 178.889 1060.22 Q178.311 1060.89 175.209 1064.11 Q172.107 1067.31 166.459 1073.07 Z\" fill=\"#000000\" fill-rule=\"evenodd\" fill-opacity=\"1\" /><path clip-path=\"url(#clip220)\" d=\"M192.639 1042.45 L210.996 1042.45 L210.996 1046.38 L196.922 1046.38 L196.922 1054.85 Q197.94 1054.51 198.959 1054.34 Q199.977 1054.16 200.996 1054.16 Q206.783 1054.16 210.162 1057.33 Q213.542 1060.5 213.542 1065.92 Q213.542 1071.5 210.07 1074.6 Q206.598 1077.68 200.278 1077.68 Q198.102 1077.68 195.834 1077.31 Q193.588 1076.94 191.181 1076.19 L191.181 1071.5 Q193.264 1072.63 195.487 1073.19 Q197.709 1073.74 200.186 1073.74 Q204.19 1073.74 206.528 1071.63 Q208.866 1069.53 208.866 1065.92 Q208.866 1062.31 206.528 1060.2 Q204.19 1058.09 200.186 1058.09 Q198.311 1058.09 196.436 1058.51 Q194.584 1058.93 192.639 1059.81 L192.639 1042.45 Z\" fill=\"#000000\" fill-rule=\"evenodd\" fill-opacity=\"1\" /><path clip-path=\"url(#clip220)\" d=\"M126.205 721.011 Q122.593 721.011 120.765 724.575 Q118.959 728.117 118.959 735.247 Q118.959 742.353 120.765 745.918 Q122.593 749.46 126.205 749.46 Q129.839 749.46 131.644 745.918 Q133.473 742.353 133.473 735.247 Q133.473 728.117 131.644 724.575 Q129.839 721.011 126.205 721.011 M126.205 717.307 Q132.015 717.307 135.07 721.913 Q138.149 726.497 138.149 735.247 Q138.149 743.973 135.07 748.58 Q132.015 753.163 126.205 753.163 Q120.394 753.163 117.316 748.58 Q114.26 743.973 114.26 735.247 Q114.26 726.497 117.316 721.913 Q120.394 717.307 126.205 717.307 Z\" fill=\"#000000\" fill-rule=\"evenodd\" fill-opacity=\"1\" /><path clip-path=\"url(#clip220)\" d=\"M146.366 746.612 L151.251 746.612 L151.251 752.492 L146.366 752.492 L146.366 746.612 Z\" fill=\"#000000\" fill-rule=\"evenodd\" fill-opacity=\"1\" /><path clip-path=\"url(#clip220)\" d=\"M161.482 717.932 L179.839 717.932 L179.839 721.867 L165.765 721.867 L165.765 730.339 Q166.783 729.992 167.802 729.83 Q168.82 729.645 169.839 729.645 Q175.626 729.645 179.005 732.816 Q182.385 735.987 182.385 741.404 Q182.385 746.983 178.913 750.085 Q175.44 753.163 169.121 753.163 Q166.945 753.163 164.677 752.793 Q162.431 752.423 160.024 751.682 L160.024 746.983 Q162.107 748.117 164.329 748.673 Q166.552 749.228 169.028 749.228 Q173.033 749.228 175.371 747.122 Q177.709 745.015 177.709 741.404 Q177.709 737.793 175.371 735.687 Q173.033 733.58 169.028 733.58 Q167.153 733.58 165.278 733.997 Q163.427 734.413 161.482 735.293 L161.482 717.932 Z\" fill=\"#000000\" fill-rule=\"evenodd\" fill-opacity=\"1\" /><path clip-path=\"url(#clip220)\" d=\"M201.598 721.011 Q197.987 721.011 196.158 724.575 Q194.352 728.117 194.352 735.247 Q194.352 742.353 196.158 745.918 Q197.987 749.46 201.598 749.46 Q205.232 749.46 207.037 745.918 Q208.866 742.353 208.866 735.247 Q208.866 728.117 207.037 724.575 Q205.232 721.011 201.598 721.011 M201.598 717.307 Q207.408 717.307 210.463 721.913 Q213.542 726.497 213.542 735.247 Q213.542 743.973 210.463 748.58 Q207.408 753.163 201.598 753.163 Q195.787 753.163 192.709 748.58 Q189.653 743.973 189.653 735.247 Q189.653 726.497 192.709 721.913 Q195.787 717.307 201.598 717.307 Z\" fill=\"#000000\" fill-rule=\"evenodd\" fill-opacity=\"1\" /><path clip-path=\"url(#clip220)\" d=\"M127.2 396.498 Q123.589 396.498 121.76 400.062 Q119.955 403.604 119.955 410.734 Q119.955 417.84 121.76 421.405 Q123.589 424.946 127.2 424.946 Q130.834 424.946 132.64 421.405 Q134.468 417.84 134.468 410.734 Q134.468 403.604 132.64 400.062 Q130.834 396.498 127.2 396.498 M127.2 392.794 Q133.01 392.794 136.066 397.4 Q139.144 401.984 139.144 410.734 Q139.144 419.46 136.066 424.067 Q133.01 428.65 127.2 428.65 Q121.39 428.65 118.311 424.067 Q115.256 419.46 115.256 410.734 Q115.256 401.984 118.311 397.4 Q121.39 392.794 127.2 392.794 Z\" fill=\"#000000\" fill-rule=\"evenodd\" fill-opacity=\"1\" /><path clip-path=\"url(#clip220)\" d=\"M147.362 422.099 L152.246 422.099 L152.246 427.979 L147.362 427.979 L147.362 422.099 Z\" fill=\"#000000\" fill-rule=\"evenodd\" fill-opacity=\"1\" /><path clip-path=\"url(#clip220)\" d=\"M161.251 393.419 L183.473 393.419 L183.473 395.41 L170.927 427.979 L166.042 427.979 L177.848 397.354 L161.251 397.354 L161.251 393.419 Z\" fill=\"#000000\" fill-rule=\"evenodd\" fill-opacity=\"1\" /><path clip-path=\"url(#clip220)\" d=\"M192.639 393.419 L210.996 393.419 L210.996 397.354 L196.922 397.354 L196.922 405.826 Q197.94 405.479 198.959 405.317 Q199.977 405.132 200.996 405.132 Q206.783 405.132 210.162 408.303 Q213.542 411.474 213.542 416.891 Q213.542 422.47 210.07 425.571 Q206.598 428.65 200.278 428.65 Q198.102 428.65 195.834 428.28 Q193.588 427.909 191.181 427.169 L191.181 422.47 Q193.264 423.604 195.487 424.159 Q197.709 424.715 200.186 424.715 Q204.19 424.715 206.528 422.608 Q208.866 420.502 208.866 416.891 Q208.866 413.28 206.528 411.173 Q204.19 409.067 200.186 409.067 Q198.311 409.067 196.436 409.484 Q194.584 409.9 192.639 410.78 L192.639 393.419 Z\" fill=\"#000000\" fill-rule=\"evenodd\" fill-opacity=\"1\" /><path clip-path=\"url(#clip220)\" d=\"M117.015 99.5305 L124.654 99.5305 L124.654 73.1649 L116.343 74.8316 L116.343 70.5723 L124.607 68.9057 L129.283 68.9057 L129.283 99.5305 L136.922 99.5305 L136.922 103.466 L117.015 103.466 L117.015 99.5305 Z\" fill=\"#000000\" fill-rule=\"evenodd\" fill-opacity=\"1\" /><path clip-path=\"url(#clip220)\" d=\"M146.366 97.5861 L151.251 97.5861 L151.251 103.466 L146.366 103.466 L146.366 97.5861 Z\" fill=\"#000000\" fill-rule=\"evenodd\" fill-opacity=\"1\" /><path clip-path=\"url(#clip220)\" d=\"M171.436 71.9844 Q167.825 71.9844 165.996 75.5492 Q164.19 79.0908 164.19 86.2204 Q164.19 93.3268 165.996 96.8916 Q167.825 100.433 171.436 100.433 Q175.07 100.433 176.876 96.8916 Q178.704 93.3268 178.704 86.2204 Q178.704 79.0908 176.876 75.5492 Q175.07 71.9844 171.436 71.9844 M171.436 68.2807 Q177.246 68.2807 180.301 72.8871 Q183.38 77.4704 183.38 86.2204 Q183.38 94.9472 180.301 99.5537 Q177.246 104.137 171.436 104.137 Q165.626 104.137 162.547 99.5537 Q159.491 94.9472 159.491 86.2204 Q159.491 77.4704 162.547 72.8871 Q165.626 68.2807 171.436 68.2807 Z\" fill=\"#000000\" fill-rule=\"evenodd\" fill-opacity=\"1\" /><path clip-path=\"url(#clip220)\" d=\"M201.598 71.9844 Q197.987 71.9844 196.158 75.5492 Q194.352 79.0908 194.352 86.2204 Q194.352 93.3268 196.158 96.8916 Q197.987 100.433 201.598 100.433 Q205.232 100.433 207.037 96.8916 Q208.866 93.3268 208.866 86.2204 Q208.866 79.0908 207.037 75.5492 Q205.232 71.9844 201.598 71.9844 M201.598 68.2807 Q207.408 68.2807 210.463 72.8871 Q213.542 77.4704 213.542 86.2204 Q213.542 94.9472 210.463 99.5537 Q207.408 104.137 201.598 104.137 Q195.787 104.137 192.709 99.5537 Q189.653 94.9472 189.653 86.2204 Q189.653 77.4704 192.709 72.8871 Q195.787 68.2807 201.598 68.2807 Z\" fill=\"#000000\" fill-rule=\"evenodd\" fill-opacity=\"1\" /><path clip-path=\"url(#clip220)\" d=\"M67.3143 740.496 Q73.68 742.978 75.6216 745.333 Q77.5631 747.689 77.5631 751.635 L77.5631 756.314 L72.6615 756.314 L72.6615 752.877 Q72.6615 750.458 71.5157 749.121 Q70.3699 747.784 66.1048 746.161 L63.4312 745.111 L28.3562 759.529 L28.3562 753.322 L56.238 742.182 L28.3562 731.042 L28.3562 724.836 L67.3143 740.496 Z\" fill=\"#000000\" fill-rule=\"evenodd\" fill-opacity=\"1\" /><path clip-path=\"url(#clip220)\" d=\"M28.3562 716.751 L28.3562 710.895 L64.6407 710.895 Q71.452 710.895 74.5076 713.505 Q77.5631 716.083 77.5631 721.844 L77.5631 724.072 L72.5979 724.072 L72.5979 722.512 Q72.5979 719.17 71.0383 717.961 Q69.5105 716.751 64.6407 716.751 L28.3562 716.751 M14.479 716.751 L14.479 710.895 L21.895 710.895 L21.895 716.751 L14.479 716.751 Z\" fill=\"#000000\" fill-rule=\"evenodd\" fill-opacity=\"1\" /><polyline clip-path=\"url(#clip222)\" style=\"stroke:#009af9; stroke-linecap:butt; stroke-linejoin:round; stroke-width:4; stroke-opacity:1; fill:none\" points=\"\n",
       "  309.067,86.1857 309.067,86.1861 309.068,86.1903 309.081,86.2325 309.205,86.6539 309.587,87.95 310.313,90.4094 311.49,94.3767 313.309,100.459 315.99,109.331 \n",
       "  319.801,121.743 325.042,138.442 332.052,160.121 341.202,187.335 352.907,220.428 367.622,259.459 385.864,304.146 408.224,353.826 435.403,407.459 468.251,463.649 \n",
       "  507.83,520.712 555.508,576.769 613.084,629.879 682.967,678.18 768.37,720.065 873.364,754.374 1002.61,780.679 1161.42,799.628 1357.56,812.89 1603.75,822.447 \n",
       "  1917.8,829.875 2293.23,835.64 \n",
       "  \"/>\n",
       "<polyline clip-path=\"url(#clip222)\" style=\"stroke:#e26f46; stroke-linecap:butt; stroke-linejoin:round; stroke-width:4; stroke-opacity:1; fill:none\" points=\"\n",
       "  309.067,1384.24 309.067,1384.24 309.068,1384.24 309.081,1384.21 309.205,1384 309.587,1383.36 310.313,1382.13 311.49,1380.15 313.309,1377.12 315.99,1372.71 \n",
       "  319.801,1366.57 325.042,1358.34 332.052,1347.73 341.202,1334.54 352.907,1318.68 367.622,1300.25 385.864,1279.54 408.224,1257.05 435.403,1233.48 468.251,1209.68 \n",
       "  507.83,1186.67 555.508,1165.5 613.084,1147.24 682.967,1132.87 768.37,1123.22 873.364,1118.79 1002.61,1119.59 1161.42,1124.9 1357.56,1133.44 1603.75,1143.79 \n",
       "  1917.8,1154.46 2293.23,1163.54 \n",
       "  \"/>\n",
       "<polyline clip-path=\"url(#clip222)\" style=\"stroke:#3da44d; stroke-linecap:butt; stroke-linejoin:round; stroke-width:4; stroke-opacity:1; fill:none\" points=\"\n",
       "  309.067,1384.24 309.067,1384.24 309.068,1384.24 309.081,1384.24 309.205,1384.24 309.587,1384.24 310.313,1384.24 311.49,1384.23 313.309,1384.23 315.99,1384.21 \n",
       "  319.801,1384.17 325.042,1384.09 332.052,1383.93 341.202,1383.65 352.907,1383.2 367.622,1382.47 385.864,1381.38 408.224,1379.81 435.403,1377.65 468.251,1374.79 \n",
       "  507.83,1371.11 555.508,1366.54 613.084,1361.01 682.967,1354.49 768.37,1346.96 873.364,1338.47 1002.61,1329.17 1161.42,1319.32 1357.56,1309.2 1603.75,1299.12 \n",
       "  1917.8,1289.52 2293.23,1281.56 \n",
       "  \"/>\n",
       "<polyline clip-path=\"url(#clip222)\" style=\"stroke:#c271d2; stroke-linecap:butt; stroke-linejoin:round; stroke-width:4; stroke-opacity:1; fill:none\" points=\"\n",
       "  309.067,1384.24 309.067,1384.24 309.068,1384.24 309.081,1384.21 309.205,1384 309.587,1383.36 310.313,1382.13 311.49,1380.14 313.309,1377.1 315.99,1372.65 \n",
       "  319.801,1366.42 325.042,1358.03 332.052,1347.12 341.202,1333.37 352.907,1316.6 367.622,1296.72 385.864,1273.83 408.224,1248.21 435.403,1220.31 468.251,1190.78 \n",
       "  507.83,1160.41 555.508,1130.1 613.084,1100.78 682.967,1073.37 768.37,1048.66 873.364,1027.26 1002.61,1009.46 1161.42,995.057 1357.56,983.367 1603.75,973.546 \n",
       "  1917.8,965.036 2293.23,958.17 \n",
       "  \"/>\n",
       "<path clip-path=\"url(#clip220)\" d=\"\n",
       "M1988.61 352.309 L2282.65 352.309 L2282.65 93.1086 L1988.61 93.1086  Z\n",
       "  \" fill=\"#ffffff\" fill-rule=\"evenodd\" fill-opacity=\"1\"/>\n",
       "<polyline clip-path=\"url(#clip220)\" style=\"stroke:#000000; stroke-linecap:butt; stroke-linejoin:round; stroke-width:4; stroke-opacity:1; fill:none\" points=\"\n",
       "  1988.61,352.309 2282.65,352.309 2282.65,93.1086 1988.61,93.1086 1988.61,352.309 \n",
       "  \"/>\n",
       "<polyline clip-path=\"url(#clip220)\" style=\"stroke:#009af9; stroke-linecap:butt; stroke-linejoin:round; stroke-width:4; stroke-opacity:1; fill:none\" points=\"\n",
       "  2011.98,144.949 2152.19,144.949 \n",
       "  \"/>\n",
       "<path clip-path=\"url(#clip220)\" d=\"M2189.41 164.636 Q2187.6 169.266 2185.89 170.678 Q2184.17 172.09 2181.3 172.09 L2177.9 172.09 L2177.9 168.525 L2180.4 168.525 Q2182.16 168.525 2183.13 167.692 Q2184.11 166.858 2185.29 163.756 L2186.05 161.812 L2175.56 136.303 L2180.08 136.303 L2188.18 156.581 L2196.28 136.303 L2200.8 136.303 L2189.41 164.636 Z\" fill=\"#000000\" fill-rule=\"evenodd\" fill-opacity=\"1\" /><path clip-path=\"url(#clip220)\" d=\"M2211.54 145.724 L2211.54 158.386 L2219.04 158.386 Q2222.81 158.386 2224.61 156.835 Q2226.44 155.261 2226.44 152.043 Q2226.44 148.803 2224.61 147.275 Q2222.81 145.724 2219.04 145.724 L2211.54 145.724 M2211.54 131.511 L2211.54 141.928 L2218.46 141.928 Q2221.88 141.928 2223.55 140.655 Q2225.24 139.358 2225.24 136.719 Q2225.24 134.104 2223.55 132.807 Q2221.88 131.511 2218.46 131.511 L2211.54 131.511 M2206.86 127.669 L2218.8 127.669 Q2224.15 127.669 2227.04 129.891 Q2229.94 132.113 2229.94 136.21 Q2229.94 139.382 2228.46 141.257 Q2226.98 143.131 2224.11 143.594 Q2227.55 144.335 2229.45 146.696 Q2231.37 149.034 2231.37 152.553 Q2231.37 157.182 2228.23 159.705 Q2225.08 162.229 2219.27 162.229 L2206.86 162.229 L2206.86 127.669 Z\" fill=\"#000000\" fill-rule=\"evenodd\" fill-opacity=\"1\" /><polyline clip-path=\"url(#clip220)\" style=\"stroke:#e26f46; stroke-linecap:butt; stroke-linejoin:round; stroke-width:4; stroke-opacity:1; fill:none\" points=\"\n",
       "  2011.98,196.789 2152.19,196.789 \n",
       "  \"/>\n",
       "<path clip-path=\"url(#clip220)\" d=\"M2189.41 216.476 Q2187.6 221.106 2185.89 222.518 Q2184.17 223.93 2181.3 223.93 L2177.9 223.93 L2177.9 220.365 L2180.4 220.365 Q2182.16 220.365 2183.13 219.532 Q2184.11 218.698 2185.29 215.596 L2186.05 213.652 L2175.56 188.143 L2180.08 188.143 L2188.18 208.421 L2196.28 188.143 L2200.8 188.143 L2189.41 216.476 Z\" fill=\"#000000\" fill-rule=\"evenodd\" fill-opacity=\"1\" /><path clip-path=\"url(#clip220)\" d=\"M2211.54 183.351 L2211.54 210.226 L2217.18 210.226 Q2224.34 210.226 2227.65 206.985 Q2230.98 203.745 2230.98 196.754 Q2230.98 189.809 2227.65 186.592 Q2224.34 183.351 2217.18 183.351 L2211.54 183.351 M2206.86 179.509 L2216.47 179.509 Q2226.51 179.509 2231.21 183.698 Q2235.91 187.865 2235.91 196.754 Q2235.91 205.689 2231.19 209.879 Q2226.47 214.069 2216.47 214.069 L2206.86 214.069 L2206.86 179.509 Z\" fill=\"#000000\" fill-rule=\"evenodd\" fill-opacity=\"1\" /><polyline clip-path=\"url(#clip220)\" style=\"stroke:#3da44d; stroke-linecap:butt; stroke-linejoin:round; stroke-width:4; stroke-opacity:1; fill:none\" points=\"\n",
       "  2011.98,248.629 2152.19,248.629 \n",
       "  \"/>\n",
       "<path clip-path=\"url(#clip220)\" d=\"M2189.41 268.316 Q2187.6 272.946 2185.89 274.358 Q2184.17 275.77 2181.3 275.77 L2177.9 275.77 L2177.9 272.205 L2180.4 272.205 Q2182.16 272.205 2183.13 271.372 Q2184.11 270.538 2185.29 267.436 L2186.05 265.492 L2175.56 239.983 L2180.08 239.983 L2188.18 260.261 L2196.28 239.983 L2200.8 239.983 L2189.41 268.316 Z\" fill=\"#000000\" fill-rule=\"evenodd\" fill-opacity=\"1\" /><path clip-path=\"url(#clip220)\" d=\"M2202.07 231.349 L2231.3 231.349 L2231.3 235.284 L2219.04 235.284 L2219.04 265.909 L2214.34 265.909 L2214.34 235.284 L2202.07 235.284 L2202.07 231.349 Z\" fill=\"#000000\" fill-rule=\"evenodd\" fill-opacity=\"1\" /><polyline clip-path=\"url(#clip220)\" style=\"stroke:#c271d2; stroke-linecap:butt; stroke-linejoin:round; stroke-width:4; stroke-opacity:1; fill:none\" points=\"\n",
       "  2011.98,300.469 2152.19,300.469 \n",
       "  \"/>\n",
       "<path clip-path=\"url(#clip220)\" d=\"M2189.41 320.156 Q2187.6 324.786 2185.89 326.198 Q2184.17 327.61 2181.3 327.61 L2177.9 327.61 L2177.9 324.045 L2180.4 324.045 Q2182.16 324.045 2183.13 323.212 Q2184.11 322.378 2185.29 319.276 L2186.05 317.332 L2175.56 291.823 L2180.08 291.823 L2188.18 312.101 L2196.28 291.823 L2200.8 291.823 L2189.41 320.156 Z\" fill=\"#000000\" fill-rule=\"evenodd\" fill-opacity=\"1\" /><path clip-path=\"url(#clip220)\" d=\"M2206.86 283.189 L2211.54 283.189 L2211.54 297.355 L2228.53 297.355 L2228.53 283.189 L2233.2 283.189 L2233.2 317.749 L2228.53 317.749 L2228.53 301.29 L2211.54 301.29 L2211.54 317.749 L2206.86 317.749 L2206.86 283.189 Z\" fill=\"#000000\" fill-rule=\"evenodd\" fill-opacity=\"1\" /></svg>\n"
      ]
     },
     "execution_count": 61,
     "metadata": {},
     "output_type": "execute_result"
    }
   ],
   "source": [
    "plot(sol.t, [yB, yD, yT, yH], labels = [\"yB\" \"yD\" \"yT\" \"yH\"], xlabel = \"V(L)\", ylabel = \"yj\")"
   ]
  },
  {
   "cell_type": "markdown",
   "id": "adolescent-london",
   "metadata": {},
   "source": [
    "## Differential-Algebraic Equations"
   ]
  },
  {
   "cell_type": "code",
   "execution_count": 81,
   "id": "interested-turner",
   "metadata": {},
   "outputs": [
    {
     "data": {
      "text/plain": [
       "8-element SLArray{Tuple{8}, Float64, 1, 8, (:NBf, :R, :T, :P, :k1, :k2, :K1, :K2)} with indices SOneTo(8):\n",
       " :NBf => 60000.0\n",
       "   :R => 0.08205\n",
       "   :T => 1033.0\n",
       "   :P => 1.0\n",
       "  :k1 => 700000.0\n",
       "  :k2 => 400000.0\n",
       "  :K1 => 0.31\n",
       "  :K2 => 0.48"
      ]
     },
     "execution_count": 81,
     "metadata": {},
     "output_type": "execute_result"
    }
   ],
   "source": [
    "p = SLVector((\n",
    "    NBf = 60.0e3,\n",
    "    R = 0.08205,\n",
    "    T = 1033.0,\n",
    "    P = 1.0,\n",
    "    k1 = 7.0e5,\n",
    "    k2 = 4.0e5,\n",
    "    K1 = 0.31,\n",
    "    K2 = 0.48   \n",
    "        ))"
   ]
  },
  {
   "cell_type": "code",
   "execution_count": 82,
   "id": "reasonable-discretion",
   "metadata": {},
   "outputs": [
    {
     "data": {
      "text/plain": [
       "xdot_dae! (generic function with 1 method)"
      ]
     },
     "execution_count": 82,
     "metadata": {},
     "output_type": "execute_result"
    }
   ],
   "source": [
    "function xdot_dae!(res, dext, ext, p, v)\n",
    "    NB = p.NBf - 2*ext[1] - ext[2]\n",
    "    ND = ext[1] - ext[2]\n",
    "    NH = ext[1] + ext[2]\n",
    "    NT = ext[2]\n",
    "    Q = p.NBf * p.R * p.T / p.P\n",
    "    cB = NB / Q\n",
    "    cD = ND / Q\n",
    "    cH = NH / Q\n",
    "    cT = NT / Q\n",
    "    res[1] = -dext[1] + p.k1 * (cB * cB - cD * cH / p.K1)\n",
    "    res[2] = -dext[2] + p.k2 * (cB * cD - cT * cH / p.K2)\n",
    "end"
   ]
  },
  {
   "cell_type": "code",
   "execution_count": 83,
   "id": "amino-macintosh",
   "metadata": {},
   "outputs": [
    {
     "data": {
      "text/plain": [
       "2-element Vector{Bool}:\n",
       " 1\n",
       " 1"
      ]
     },
     "execution_count": 83,
     "metadata": {},
     "output_type": "execute_result"
    }
   ],
   "source": [
    "ext0 = [0.0, 0.0]\n",
    "dext0 = [0.0, 0.0]\n",
    "vspan = (0.0, 1600.0)\n",
    "differential_vars = [true, true]"
   ]
  },
  {
   "cell_type": "code",
   "execution_count": 84,
   "id": "threaded-wednesday",
   "metadata": {},
   "outputs": [
    {
     "data": {
      "text/plain": [
       "retcode: Success\n",
       "Interpolation: 3rd order Hermite\n",
       "t: 75-element Vector{Float64}:\n",
       "    0.0\n",
       "    7.256793684447699e-9\n",
       "    1.4513587368895398e-8\n",
       "    2.9027174737790795e-8\n",
       "    5.805434947558159e-8\n",
       "    1.1610869895116318e-7\n",
       "    2.3221739790232636e-7\n",
       "    4.644347958046527e-7\n",
       "    9.288695916093055e-7\n",
       "    1.857739183218611e-6\n",
       "    3.715478366437222e-6\n",
       "    7.430956732874444e-6\n",
       "    1.4861913465748887e-5\n",
       "    ⋮\n",
       "  592.6407640657958\n",
       "  649.8004246421654\n",
       "  706.9600852185349\n",
       "  764.1197457949045\n",
       "  878.4390669476436\n",
       "  992.7583881003827\n",
       " 1107.0777092531218\n",
       " 1221.397030405861\n",
       " 1335.7163515586\n",
       " 1450.0356727113392\n",
       " 1564.3549938640783\n",
       " 1600.0\n",
       "u: 75-element Vector{Vector{Float64}}:\n",
       " [0.0, 0.0]\n",
       " [7.071067811532193e-7, 4.761904761536044e-18]\n",
       " [1.414213562273105e-6, 1.4285714284127108e-17]\n",
       " [2.828427124431924e-6, 4.4897959176083075e-17]\n",
       " [5.656854248342635e-6, 1.6425479277846968e-16]\n",
       " [1.1313708494614468e-5, 6.243386239439808e-16]\n",
       " [2.262741698076318e-5, 2.458071261274546e-15]\n",
       " [4.525483392750652e-5, 9.77611808892782e-15]\n",
       " [9.050966771860794e-5, 3.9038684321963387e-14]\n",
       " [0.00018101933489125477, 1.5607180281186293e-13]\n",
       " [0.0003620386675981714, 6.241919090020877e-13]\n",
       " [0.0007240773264584493, 2.49665430104704e-12]\n",
       " [0.0014481546179646368, 9.986488524054192e-12]\n",
       " ⋮\n",
       " [14858.865984571072, 2669.955758208239]\n",
       " [14951.359945436308, 2873.669374133849]\n",
       " [15009.01720271912, 3062.9309056126904]\n",
       " [15042.651290733862, 3238.697283513473]\n",
       " [15065.111083649328, 3553.4091939186233]\n",
       " [15056.145039832545, 3824.64119303986]\n",
       " [15037.805408532966, 4058.2729052424224]\n",
       " [15016.42850598362, 4259.464869661296]\n",
       " [14994.008805009875, 4432.64560463747]\n",
       " [14972.557610175892, 4581.626469490824]\n",
       " [14953.749027723943, 4709.714725220692]\n",
       " [14948.584250514417, 4745.839968671053]"
      ]
     },
     "execution_count": 84,
     "metadata": {},
     "output_type": "execute_result"
    }
   ],
   "source": [
    "prob = DAEProblem(xdot_dae!,dext0,ext0,vspan,p,differential_vars=differential_vars)\n",
    "sol = de.solve(prob, IDA())"
   ]
  },
  {
   "cell_type": "code",
   "execution_count": 85,
   "id": "satellite-administration",
   "metadata": {},
   "outputs": [
    {
     "data": {
      "text/plain": [
       "75-element Vector{Float64}:\n",
       " 0.0\n",
       " 1.1785113019299686e-11\n",
       " 2.3570226038123178e-11\n",
       " 4.71404520746137e-11\n",
       " 9.42809041417815e-11\n",
       " 1.885618082539801e-10\n",
       " 3.7712361638702086e-10\n",
       " 7.542472322880439e-10\n",
       " 1.5084944626274437e-9\n",
       " 3.016988917455443e-9\n",
       " 6.033977803706055e-9\n",
       " 1.2067955482585059e-8\n",
       " 2.4135910465852087e-8\n",
       " ⋮\n",
       " 0.29214702904632184\n",
       " 0.29708382199283595\n",
       " 0.3011991351388635\n",
       " 0.30468914290412225\n",
       " 0.31030867129279915\n",
       " 0.3146797705478734\n",
       " 0.3182679718962565\n",
       " 0.3212648895940819\n",
       " 0.3237775734941224\n",
       " 0.3259030679944453\n",
       " 0.32772439588241054\n",
       " 0.3282404036530912"
      ]
     },
     "execution_count": 85,
     "metadata": {},
     "output_type": "execute_result"
    }
   ],
   "source": [
    "conv = [(2*u[1] + u[2])/p.NBf for u in sol.u]\n",
    "yB = [(p.NBf - 2*u[1] - u[2])/p.NBf for u in sol.u]\n",
    "yD = [(u[1] - u[2])/p.NBf for u in sol.u]\n",
    "yT = [u[2]/p.NBf for u in sol.u]\n",
    "yH = [(u[1] + u[2])/p.NBf for u in sol.u]"
   ]
  },
  {
   "cell_type": "code",
   "execution_count": 86,
   "id": "later-river",
   "metadata": {},
   "outputs": [
    {
     "data": {
      "image/svg+xml": [
       "<?xml version=\"1.0\" encoding=\"utf-8\"?>\n",
       "<svg xmlns=\"http://www.w3.org/2000/svg\" xmlns:xlink=\"http://www.w3.org/1999/xlink\" width=\"600\" height=\"400\" viewBox=\"0 0 2400 1600\">\n",
       "<defs>\n",
       "  <clipPath id=\"clip260\">\n",
       "    <rect x=\"0\" y=\"0\" width=\"2400\" height=\"1600\"/>\n",
       "  </clipPath>\n",
       "</defs>\n",
       "<path clip-path=\"url(#clip260)\" d=\"\n",
       "M0 1600 L2400 1600 L2400 0 L0 0  Z\n",
       "  \" fill=\"#ffffff\" fill-rule=\"evenodd\" fill-opacity=\"1\"/>\n",
       "<defs>\n",
       "  <clipPath id=\"clip261\">\n",
       "    <rect x=\"480\" y=\"0\" width=\"1681\" height=\"1600\"/>\n",
       "  </clipPath>\n",
       "</defs>\n",
       "<path clip-path=\"url(#clip260)\" d=\"\n",
       "M219.866 1423.18 L2352.76 1423.18 L2352.76 47.2441 L219.866 47.2441  Z\n",
       "  \" fill=\"#ffffff\" fill-rule=\"evenodd\" fill-opacity=\"1\"/>\n",
       "<defs>\n",
       "  <clipPath id=\"clip262\">\n",
       "    <rect x=\"219\" y=\"47\" width=\"2134\" height=\"1377\"/>\n",
       "  </clipPath>\n",
       "</defs>\n",
       "<polyline clip-path=\"url(#clip262)\" style=\"stroke:#000000; stroke-linecap:butt; stroke-linejoin:round; stroke-width:2; stroke-opacity:0.1; fill:none\" points=\"\n",
       "  280.231,1423.18 280.231,47.2441 \n",
       "  \"/>\n",
       "<polyline clip-path=\"url(#clip262)\" style=\"stroke:#000000; stroke-linecap:butt; stroke-linejoin:round; stroke-width:2; stroke-opacity:0.1; fill:none\" points=\"\n",
       "  909.031,1423.18 909.031,47.2441 \n",
       "  \"/>\n",
       "<polyline clip-path=\"url(#clip262)\" style=\"stroke:#000000; stroke-linecap:butt; stroke-linejoin:round; stroke-width:2; stroke-opacity:0.1; fill:none\" points=\"\n",
       "  1537.83,1423.18 1537.83,47.2441 \n",
       "  \"/>\n",
       "<polyline clip-path=\"url(#clip262)\" style=\"stroke:#000000; stroke-linecap:butt; stroke-linejoin:round; stroke-width:2; stroke-opacity:0.1; fill:none\" points=\"\n",
       "  2166.63,1423.18 2166.63,47.2441 \n",
       "  \"/>\n",
       "<polyline clip-path=\"url(#clip260)\" style=\"stroke:#000000; stroke-linecap:butt; stroke-linejoin:round; stroke-width:4; stroke-opacity:1; fill:none\" points=\"\n",
       "  219.866,1423.18 2352.76,1423.18 \n",
       "  \"/>\n",
       "<polyline clip-path=\"url(#clip260)\" style=\"stroke:#000000; stroke-linecap:butt; stroke-linejoin:round; stroke-width:4; stroke-opacity:1; fill:none\" points=\"\n",
       "  280.231,1423.18 280.231,1404.28 \n",
       "  \"/>\n",
       "<polyline clip-path=\"url(#clip260)\" style=\"stroke:#000000; stroke-linecap:butt; stroke-linejoin:round; stroke-width:4; stroke-opacity:1; fill:none\" points=\"\n",
       "  909.031,1423.18 909.031,1404.28 \n",
       "  \"/>\n",
       "<polyline clip-path=\"url(#clip260)\" style=\"stroke:#000000; stroke-linecap:butt; stroke-linejoin:round; stroke-width:4; stroke-opacity:1; fill:none\" points=\"\n",
       "  1537.83,1423.18 1537.83,1404.28 \n",
       "  \"/>\n",
       "<polyline clip-path=\"url(#clip260)\" style=\"stroke:#000000; stroke-linecap:butt; stroke-linejoin:round; stroke-width:4; stroke-opacity:1; fill:none\" points=\"\n",
       "  2166.63,1423.18 2166.63,1404.28 \n",
       "  \"/>\n",
       "<path clip-path=\"url(#clip260)\" d=\"M280.231 1452.37 Q276.62 1452.37 274.791 1455.94 Q272.986 1459.48 272.986 1466.61 Q272.986 1473.71 274.791 1477.28 Q276.62 1480.82 280.231 1480.82 Q283.865 1480.82 285.671 1477.28 Q287.5 1473.71 287.5 1466.61 Q287.5 1459.48 285.671 1455.94 Q283.865 1452.37 280.231 1452.37 M280.231 1448.67 Q286.041 1448.67 289.097 1453.27 Q292.175 1457.86 292.175 1466.61 Q292.175 1475.33 289.097 1479.94 Q286.041 1484.52 280.231 1484.52 Q274.421 1484.52 271.342 1479.94 Q268.287 1475.33 268.287 1466.61 Q268.287 1457.86 271.342 1453.27 Q274.421 1448.67 280.231 1448.67 Z\" fill=\"#000000\" fill-rule=\"evenodd\" fill-opacity=\"1\" /><path clip-path=\"url(#clip260)\" d=\"M868.649 1449.29 L887.006 1449.29 L887.006 1453.23 L872.932 1453.23 L872.932 1461.7 Q873.95 1461.35 874.969 1461.19 Q875.987 1461 877.006 1461 Q882.793 1461 886.172 1464.18 Q889.552 1467.35 889.552 1472.76 Q889.552 1478.34 886.08 1481.44 Q882.608 1484.52 876.288 1484.52 Q874.112 1484.52 871.844 1484.15 Q869.598 1483.78 867.191 1483.04 L867.191 1478.34 Q869.274 1479.48 871.497 1480.03 Q873.719 1480.59 876.196 1480.59 Q880.2 1480.59 882.538 1478.48 Q884.876 1476.38 884.876 1472.76 Q884.876 1469.15 882.538 1467.05 Q880.2 1464.94 876.196 1464.94 Q874.321 1464.94 872.446 1465.36 Q870.594 1465.77 868.649 1466.65 L868.649 1449.29 Z\" fill=\"#000000\" fill-rule=\"evenodd\" fill-opacity=\"1\" /><path clip-path=\"url(#clip260)\" d=\"M908.765 1452.37 Q905.154 1452.37 903.325 1455.94 Q901.52 1459.48 901.52 1466.61 Q901.52 1473.71 903.325 1477.28 Q905.154 1480.82 908.765 1480.82 Q912.399 1480.82 914.205 1477.28 Q916.033 1473.71 916.033 1466.61 Q916.033 1459.48 914.205 1455.94 Q912.399 1452.37 908.765 1452.37 M908.765 1448.67 Q914.575 1448.67 917.631 1453.27 Q920.709 1457.86 920.709 1466.61 Q920.709 1475.33 917.631 1479.94 Q914.575 1484.52 908.765 1484.52 Q902.955 1484.52 899.876 1479.94 Q896.82 1475.33 896.82 1466.61 Q896.82 1457.86 899.876 1453.27 Q902.955 1448.67 908.765 1448.67 Z\" fill=\"#000000\" fill-rule=\"evenodd\" fill-opacity=\"1\" /><path clip-path=\"url(#clip260)\" d=\"M938.927 1452.37 Q935.316 1452.37 933.487 1455.94 Q931.681 1459.48 931.681 1466.61 Q931.681 1473.71 933.487 1477.28 Q935.316 1480.82 938.927 1480.82 Q942.561 1480.82 944.367 1477.28 Q946.195 1473.71 946.195 1466.61 Q946.195 1459.48 944.367 1455.94 Q942.561 1452.37 938.927 1452.37 M938.927 1448.67 Q944.737 1448.67 947.792 1453.27 Q950.871 1457.86 950.871 1466.61 Q950.871 1475.33 947.792 1479.94 Q944.737 1484.52 938.927 1484.52 Q933.117 1484.52 930.038 1479.94 Q926.982 1475.33 926.982 1466.61 Q926.982 1457.86 930.038 1453.27 Q933.117 1448.67 938.927 1448.67 Z\" fill=\"#000000\" fill-rule=\"evenodd\" fill-opacity=\"1\" /><path clip-path=\"url(#clip260)\" d=\"M1482.36 1479.92 L1490 1479.92 L1490 1453.55 L1481.69 1455.22 L1481.69 1450.96 L1489.95 1449.29 L1494.63 1449.29 L1494.63 1479.92 L1502.26 1479.92 L1502.26 1483.85 L1482.36 1483.85 L1482.36 1479.92 Z\" fill=\"#000000\" fill-rule=\"evenodd\" fill-opacity=\"1\" /><path clip-path=\"url(#clip260)\" d=\"M1521.71 1452.37 Q1518.1 1452.37 1516.27 1455.94 Q1514.46 1459.48 1514.46 1466.61 Q1514.46 1473.71 1516.27 1477.28 Q1518.1 1480.82 1521.71 1480.82 Q1525.34 1480.82 1527.15 1477.28 Q1528.98 1473.71 1528.98 1466.61 Q1528.98 1459.48 1527.15 1455.94 Q1525.34 1452.37 1521.71 1452.37 M1521.71 1448.67 Q1527.52 1448.67 1530.57 1453.27 Q1533.65 1457.86 1533.65 1466.61 Q1533.65 1475.33 1530.57 1479.94 Q1527.52 1484.52 1521.71 1484.52 Q1515.9 1484.52 1512.82 1479.94 Q1509.76 1475.33 1509.76 1466.61 Q1509.76 1457.86 1512.82 1453.27 Q1515.9 1448.67 1521.71 1448.67 Z\" fill=\"#000000\" fill-rule=\"evenodd\" fill-opacity=\"1\" /><path clip-path=\"url(#clip260)\" d=\"M1551.87 1452.37 Q1548.26 1452.37 1546.43 1455.94 Q1544.63 1459.48 1544.63 1466.61 Q1544.63 1473.71 1546.43 1477.28 Q1548.26 1480.82 1551.87 1480.82 Q1555.5 1480.82 1557.31 1477.28 Q1559.14 1473.71 1559.14 1466.61 Q1559.14 1459.48 1557.31 1455.94 Q1555.5 1452.37 1551.87 1452.37 M1551.87 1448.67 Q1557.68 1448.67 1560.74 1453.27 Q1563.81 1457.86 1563.81 1466.61 Q1563.81 1475.33 1560.74 1479.94 Q1557.68 1484.52 1551.87 1484.52 Q1546.06 1484.52 1542.98 1479.94 Q1539.93 1475.33 1539.93 1466.61 Q1539.93 1457.86 1542.98 1453.27 Q1546.06 1448.67 1551.87 1448.67 Z\" fill=\"#000000\" fill-rule=\"evenodd\" fill-opacity=\"1\" /><path clip-path=\"url(#clip260)\" d=\"M1582.03 1452.37 Q1578.42 1452.37 1576.59 1455.94 Q1574.79 1459.48 1574.79 1466.61 Q1574.79 1473.71 1576.59 1477.28 Q1578.42 1480.82 1582.03 1480.82 Q1585.67 1480.82 1587.47 1477.28 Q1589.3 1473.71 1589.3 1466.61 Q1589.3 1459.48 1587.47 1455.94 Q1585.67 1452.37 1582.03 1452.37 M1582.03 1448.67 Q1587.84 1448.67 1590.9 1453.27 Q1593.98 1457.86 1593.98 1466.61 Q1593.98 1475.33 1590.9 1479.94 Q1587.84 1484.52 1582.03 1484.52 Q1576.22 1484.52 1573.14 1479.94 Q1570.09 1475.33 1570.09 1466.61 Q1570.09 1457.86 1573.14 1453.27 Q1576.22 1448.67 1582.03 1448.67 Z\" fill=\"#000000\" fill-rule=\"evenodd\" fill-opacity=\"1\" /><path clip-path=\"url(#clip260)\" d=\"M2111.16 1479.92 L2118.8 1479.92 L2118.8 1453.55 L2110.49 1455.22 L2110.49 1450.96 L2118.75 1449.29 L2123.43 1449.29 L2123.43 1479.92 L2131.06 1479.92 L2131.06 1483.85 L2111.16 1483.85 L2111.16 1479.92 Z\" fill=\"#000000\" fill-rule=\"evenodd\" fill-opacity=\"1\" /><path clip-path=\"url(#clip260)\" d=\"M2140.55 1449.29 L2158.91 1449.29 L2158.91 1453.23 L2144.84 1453.23 L2144.84 1461.7 Q2145.86 1461.35 2146.87 1461.19 Q2147.89 1461 2148.91 1461 Q2154.7 1461 2158.08 1464.18 Q2161.46 1467.35 2161.46 1472.76 Q2161.46 1478.34 2157.99 1481.44 Q2154.51 1484.52 2148.19 1484.52 Q2146.02 1484.52 2143.75 1484.15 Q2141.5 1483.78 2139.1 1483.04 L2139.1 1478.34 Q2141.18 1479.48 2143.4 1480.03 Q2145.62 1480.59 2148.1 1480.59 Q2152.11 1480.59 2154.44 1478.48 Q2156.78 1476.38 2156.78 1472.76 Q2156.78 1469.15 2154.44 1467.05 Q2152.11 1464.94 2148.1 1464.94 Q2146.23 1464.94 2144.35 1465.36 Q2142.5 1465.77 2140.55 1466.65 L2140.55 1449.29 Z\" fill=\"#000000\" fill-rule=\"evenodd\" fill-opacity=\"1\" /><path clip-path=\"url(#clip260)\" d=\"M2180.67 1452.37 Q2177.06 1452.37 2175.23 1455.94 Q2173.43 1459.48 2173.43 1466.61 Q2173.43 1473.71 2175.23 1477.28 Q2177.06 1480.82 2180.67 1480.82 Q2184.3 1480.82 2186.11 1477.28 Q2187.94 1473.71 2187.94 1466.61 Q2187.94 1459.48 2186.11 1455.94 Q2184.3 1452.37 2180.67 1452.37 M2180.67 1448.67 Q2186.48 1448.67 2189.54 1453.27 Q2192.61 1457.86 2192.61 1466.61 Q2192.61 1475.33 2189.54 1479.94 Q2186.48 1484.52 2180.67 1484.52 Q2174.86 1484.52 2171.78 1479.94 Q2168.73 1475.33 2168.73 1466.61 Q2168.73 1457.86 2171.78 1453.27 Q2174.86 1448.67 2180.67 1448.67 Z\" fill=\"#000000\" fill-rule=\"evenodd\" fill-opacity=\"1\" /><path clip-path=\"url(#clip260)\" d=\"M2210.83 1452.37 Q2207.22 1452.37 2205.39 1455.94 Q2203.59 1459.48 2203.59 1466.61 Q2203.59 1473.71 2205.39 1477.28 Q2207.22 1480.82 2210.83 1480.82 Q2214.47 1480.82 2216.27 1477.28 Q2218.1 1473.71 2218.1 1466.61 Q2218.1 1459.48 2216.27 1455.94 Q2214.47 1452.37 2210.83 1452.37 M2210.83 1448.67 Q2216.64 1448.67 2219.7 1453.27 Q2222.78 1457.86 2222.78 1466.61 Q2222.78 1475.33 2219.7 1479.94 Q2216.64 1484.52 2210.83 1484.52 Q2205.02 1484.52 2201.94 1479.94 Q2198.89 1475.33 2198.89 1466.61 Q2198.89 1457.86 2201.94 1453.27 Q2205.02 1448.67 2210.83 1448.67 Z\" fill=\"#000000\" fill-rule=\"evenodd\" fill-opacity=\"1\" /><path clip-path=\"url(#clip260)\" d=\"M1241.62 1568.04 L1223.48 1520.52 L1230.2 1520.52 L1245.25 1560.53 L1260.34 1520.52 L1267.02 1520.52 L1248.91 1568.04 L1241.62 1568.04 Z\" fill=\"#000000\" fill-rule=\"evenodd\" fill-opacity=\"1\" /><path clip-path=\"url(#clip260)\" d=\"M1287.78 1518.58 Q1283.51 1525.9 1281.44 1533.06 Q1279.37 1540.23 1279.37 1547.58 Q1279.37 1554.93 1281.44 1562.16 Q1283.54 1569.35 1287.78 1576.64 L1282.68 1576.64 Q1277.91 1569.16 1275.52 1561.93 Q1273.17 1554.71 1273.17 1547.58 Q1273.17 1540.48 1275.52 1533.29 Q1277.88 1526.09 1282.68 1518.58 L1287.78 1518.58 Z\" fill=\"#000000\" fill-rule=\"evenodd\" fill-opacity=\"1\" /><path clip-path=\"url(#clip260)\" d=\"M1299.39 1520.52 L1305.82 1520.52 L1305.82 1562.63 L1328.96 1562.63 L1328.96 1568.04 L1299.39 1568.04 L1299.39 1520.52 Z\" fill=\"#000000\" fill-rule=\"evenodd\" fill-opacity=\"1\" /><path clip-path=\"url(#clip260)\" d=\"M1334.53 1518.58 L1339.62 1518.58 Q1344.4 1526.09 1346.75 1533.29 Q1349.14 1540.48 1349.14 1547.58 Q1349.14 1554.71 1346.75 1561.93 Q1344.4 1569.16 1339.62 1576.64 L1334.53 1576.64 Q1338.76 1569.35 1340.83 1562.16 Q1342.93 1554.93 1342.93 1547.58 Q1342.93 1540.23 1340.83 1533.06 Q1338.76 1525.9 1334.53 1518.58 Z\" fill=\"#000000\" fill-rule=\"evenodd\" fill-opacity=\"1\" /><polyline clip-path=\"url(#clip262)\" style=\"stroke:#000000; stroke-linecap:butt; stroke-linejoin:round; stroke-width:2; stroke-opacity:0.1; fill:none\" points=\"\n",
       "  219.866,1384.24 2352.76,1384.24 \n",
       "  \"/>\n",
       "<polyline clip-path=\"url(#clip262)\" style=\"stroke:#000000; stroke-linecap:butt; stroke-linejoin:round; stroke-width:2; stroke-opacity:0.1; fill:none\" points=\"\n",
       "  219.866,1159.42 2352.76,1159.42 \n",
       "  \"/>\n",
       "<polyline clip-path=\"url(#clip262)\" style=\"stroke:#000000; stroke-linecap:butt; stroke-linejoin:round; stroke-width:2; stroke-opacity:0.1; fill:none\" points=\"\n",
       "  219.866,934.606 2352.76,934.606 \n",
       "  \"/>\n",
       "<polyline clip-path=\"url(#clip262)\" style=\"stroke:#000000; stroke-linecap:butt; stroke-linejoin:round; stroke-width:2; stroke-opacity:0.1; fill:none\" points=\"\n",
       "  219.866,709.789 2352.76,709.789 \n",
       "  \"/>\n",
       "<polyline clip-path=\"url(#clip262)\" style=\"stroke:#000000; stroke-linecap:butt; stroke-linejoin:round; stroke-width:2; stroke-opacity:0.1; fill:none\" points=\"\n",
       "  219.866,484.973 2352.76,484.973 \n",
       "  \"/>\n",
       "<polyline clip-path=\"url(#clip262)\" style=\"stroke:#000000; stroke-linecap:butt; stroke-linejoin:round; stroke-width:2; stroke-opacity:0.1; fill:none\" points=\"\n",
       "  219.866,260.156 2352.76,260.156 \n",
       "  \"/>\n",
       "<polyline clip-path=\"url(#clip260)\" style=\"stroke:#000000; stroke-linecap:butt; stroke-linejoin:round; stroke-width:4; stroke-opacity:1; fill:none\" points=\"\n",
       "  219.866,1423.18 219.866,47.2441 \n",
       "  \"/>\n",
       "<polyline clip-path=\"url(#clip260)\" style=\"stroke:#000000; stroke-linecap:butt; stroke-linejoin:round; stroke-width:4; stroke-opacity:1; fill:none\" points=\"\n",
       "  219.866,1384.24 238.764,1384.24 \n",
       "  \"/>\n",
       "<polyline clip-path=\"url(#clip260)\" style=\"stroke:#000000; stroke-linecap:butt; stroke-linejoin:round; stroke-width:4; stroke-opacity:1; fill:none\" points=\"\n",
       "  219.866,1159.42 238.764,1159.42 \n",
       "  \"/>\n",
       "<polyline clip-path=\"url(#clip260)\" style=\"stroke:#000000; stroke-linecap:butt; stroke-linejoin:round; stroke-width:4; stroke-opacity:1; fill:none\" points=\"\n",
       "  219.866,934.606 238.764,934.606 \n",
       "  \"/>\n",
       "<polyline clip-path=\"url(#clip260)\" style=\"stroke:#000000; stroke-linecap:butt; stroke-linejoin:round; stroke-width:4; stroke-opacity:1; fill:none\" points=\"\n",
       "  219.866,709.789 238.764,709.789 \n",
       "  \"/>\n",
       "<polyline clip-path=\"url(#clip260)\" style=\"stroke:#000000; stroke-linecap:butt; stroke-linejoin:round; stroke-width:4; stroke-opacity:1; fill:none\" points=\"\n",
       "  219.866,484.973 238.764,484.973 \n",
       "  \"/>\n",
       "<polyline clip-path=\"url(#clip260)\" style=\"stroke:#000000; stroke-linecap:butt; stroke-linejoin:round; stroke-width:4; stroke-opacity:1; fill:none\" points=\"\n",
       "  219.866,260.156 238.764,260.156 \n",
       "  \"/>\n",
       "<path clip-path=\"url(#clip260)\" d=\"M126.691 1370.04 Q123.08 1370.04 121.251 1373.6 Q119.445 1377.14 119.445 1384.27 Q119.445 1391.38 121.251 1394.94 Q123.08 1398.49 126.691 1398.49 Q130.325 1398.49 132.13 1394.94 Q133.959 1391.38 133.959 1384.27 Q133.959 1377.14 132.13 1373.6 Q130.325 1370.04 126.691 1370.04 M126.691 1366.33 Q132.501 1366.33 135.556 1370.94 Q138.635 1375.52 138.635 1384.27 Q138.635 1393 135.556 1397.61 Q132.501 1402.19 126.691 1402.19 Q120.88 1402.19 117.802 1397.61 Q114.746 1393 114.746 1384.27 Q114.746 1375.52 117.802 1370.94 Q120.88 1366.33 126.691 1366.33 Z\" fill=\"#000000\" fill-rule=\"evenodd\" fill-opacity=\"1\" /><path clip-path=\"url(#clip260)\" d=\"M146.853 1395.64 L151.737 1395.64 L151.737 1401.52 L146.853 1401.52 L146.853 1395.64 Z\" fill=\"#000000\" fill-rule=\"evenodd\" fill-opacity=\"1\" /><path clip-path=\"url(#clip260)\" d=\"M171.922 1370.04 Q168.311 1370.04 166.482 1373.6 Q164.677 1377.14 164.677 1384.27 Q164.677 1391.38 166.482 1394.94 Q168.311 1398.49 171.922 1398.49 Q175.556 1398.49 177.362 1394.94 Q179.19 1391.38 179.19 1384.27 Q179.19 1377.14 177.362 1373.6 Q175.556 1370.04 171.922 1370.04 M171.922 1366.33 Q177.732 1366.33 180.788 1370.94 Q183.866 1375.52 183.866 1384.27 Q183.866 1393 180.788 1397.61 Q177.732 1402.19 171.922 1402.19 Q166.112 1402.19 163.033 1397.61 Q159.978 1393 159.978 1384.27 Q159.978 1375.52 163.033 1370.94 Q166.112 1366.33 171.922 1366.33 Z\" fill=\"#000000\" fill-rule=\"evenodd\" fill-opacity=\"1\" /><path clip-path=\"url(#clip260)\" d=\"M127.917 1145.22 Q124.306 1145.22 122.478 1148.79 Q120.672 1152.33 120.672 1159.46 Q120.672 1166.56 122.478 1170.13 Q124.306 1173.67 127.917 1173.67 Q131.552 1173.67 133.357 1170.13 Q135.186 1166.56 135.186 1159.46 Q135.186 1152.33 133.357 1148.79 Q131.552 1145.22 127.917 1145.22 M127.917 1141.52 Q133.728 1141.52 136.783 1146.12 Q139.862 1150.71 139.862 1159.46 Q139.862 1168.18 136.783 1172.79 Q133.728 1177.37 127.917 1177.37 Q122.107 1177.37 119.029 1172.79 Q115.973 1168.18 115.973 1159.46 Q115.973 1150.71 119.029 1146.12 Q122.107 1141.52 127.917 1141.52 Z\" fill=\"#000000\" fill-rule=\"evenodd\" fill-opacity=\"1\" /><path clip-path=\"url(#clip260)\" d=\"M148.079 1170.82 L152.964 1170.82 L152.964 1176.7 L148.079 1176.7 L148.079 1170.82 Z\" fill=\"#000000\" fill-rule=\"evenodd\" fill-opacity=\"1\" /><path clip-path=\"url(#clip260)\" d=\"M163.959 1172.77 L171.598 1172.77 L171.598 1146.4 L163.288 1148.07 L163.288 1143.81 L171.552 1142.14 L176.227 1142.14 L176.227 1172.77 L183.866 1172.77 L183.866 1176.7 L163.959 1176.7 L163.959 1172.77 Z\" fill=\"#000000\" fill-rule=\"evenodd\" fill-opacity=\"1\" /><path clip-path=\"url(#clip260)\" d=\"M128.288 920.404 Q124.677 920.404 122.848 923.969 Q121.043 927.511 121.043 934.64 Q121.043 941.747 122.848 945.311 Q124.677 948.853 128.288 948.853 Q131.922 948.853 133.728 945.311 Q135.556 941.747 135.556 934.64 Q135.556 927.511 133.728 923.969 Q131.922 920.404 128.288 920.404 M128.288 916.701 Q134.098 916.701 137.154 921.307 Q140.232 925.89 140.232 934.64 Q140.232 943.367 137.154 947.974 Q134.098 952.557 128.288 952.557 Q122.478 952.557 119.399 947.974 Q116.343 943.367 116.343 934.64 Q116.343 925.89 119.399 921.307 Q122.478 916.701 128.288 916.701 Z\" fill=\"#000000\" fill-rule=\"evenodd\" fill-opacity=\"1\" /><path clip-path=\"url(#clip260)\" d=\"M148.45 946.006 L153.334 946.006 L153.334 951.886 L148.45 951.886 L148.45 946.006 Z\" fill=\"#000000\" fill-rule=\"evenodd\" fill-opacity=\"1\" /><path clip-path=\"url(#clip260)\" d=\"M167.547 947.95 L183.866 947.95 L183.866 951.886 L161.922 951.886 L161.922 947.95 Q164.584 945.196 169.167 940.566 Q173.774 935.913 174.954 934.571 Q177.2 932.048 178.079 930.312 Q178.982 928.552 178.982 926.863 Q178.982 924.108 177.038 922.372 Q175.116 920.636 172.014 920.636 Q169.815 920.636 167.362 921.4 Q164.931 922.163 162.153 923.714 L162.153 918.992 Q164.977 917.858 167.431 917.279 Q169.885 916.701 171.922 916.701 Q177.292 916.701 180.487 919.386 Q183.681 922.071 183.681 926.562 Q183.681 928.691 182.871 930.612 Q182.084 932.511 179.977 935.103 Q179.399 935.774 176.297 938.992 Q173.195 942.186 167.547 947.95 Z\" fill=\"#000000\" fill-rule=\"evenodd\" fill-opacity=\"1\" /><path clip-path=\"url(#clip260)\" d=\"M127.339 695.588 Q123.728 695.588 121.899 699.153 Q120.093 702.694 120.093 709.824 Q120.093 716.93 121.899 720.495 Q123.728 724.037 127.339 724.037 Q130.973 724.037 132.779 720.495 Q134.607 716.93 134.607 709.824 Q134.607 702.694 132.779 699.153 Q130.973 695.588 127.339 695.588 M127.339 691.884 Q133.149 691.884 136.204 696.491 Q139.283 701.074 139.283 709.824 Q139.283 718.551 136.204 723.157 Q133.149 727.74 127.339 727.74 Q121.529 727.74 118.45 723.157 Q115.394 718.551 115.394 709.824 Q115.394 701.074 118.45 696.491 Q121.529 691.884 127.339 691.884 Z\" fill=\"#000000\" fill-rule=\"evenodd\" fill-opacity=\"1\" /><path clip-path=\"url(#clip260)\" d=\"M147.501 721.19 L152.385 721.19 L152.385 727.069 L147.501 727.069 L147.501 721.19 Z\" fill=\"#000000\" fill-rule=\"evenodd\" fill-opacity=\"1\" /><path clip-path=\"url(#clip260)\" d=\"M176.737 708.435 Q180.093 709.153 181.968 711.421 Q183.866 713.69 183.866 717.023 Q183.866 722.139 180.348 724.94 Q176.829 727.74 170.348 727.74 Q168.172 727.74 165.857 727.301 Q163.565 726.884 161.112 726.027 L161.112 721.514 Q163.056 722.648 165.371 723.227 Q167.686 723.805 170.209 723.805 Q174.607 723.805 176.899 722.069 Q179.214 720.333 179.214 717.023 Q179.214 713.967 177.061 712.254 Q174.931 710.518 171.112 710.518 L167.084 710.518 L167.084 706.676 L171.297 706.676 Q174.746 706.676 176.575 705.31 Q178.403 703.921 178.403 701.329 Q178.403 698.667 176.505 697.254 Q174.63 695.819 171.112 695.819 Q169.19 695.819 166.991 696.236 Q164.792 696.653 162.153 697.532 L162.153 693.366 Q164.815 692.625 167.13 692.255 Q169.468 691.884 171.528 691.884 Q176.852 691.884 179.954 694.315 Q183.056 696.722 183.056 700.842 Q183.056 703.713 181.413 705.704 Q179.769 707.671 176.737 708.435 Z\" fill=\"#000000\" fill-rule=\"evenodd\" fill-opacity=\"1\" /><path clip-path=\"url(#clip260)\" d=\"M126.205 470.771 Q122.593 470.771 120.765 474.336 Q118.959 477.878 118.959 485.007 Q118.959 492.114 120.765 495.679 Q122.593 499.22 126.205 499.22 Q129.839 499.22 131.644 495.679 Q133.473 492.114 133.473 485.007 Q133.473 477.878 131.644 474.336 Q129.839 470.771 126.205 470.771 M126.205 467.068 Q132.015 467.068 135.07 471.674 Q138.149 476.258 138.149 485.007 Q138.149 493.734 135.07 498.341 Q132.015 502.924 126.205 502.924 Q120.394 502.924 117.316 498.341 Q114.26 493.734 114.26 485.007 Q114.26 476.258 117.316 471.674 Q120.394 467.068 126.205 467.068 Z\" fill=\"#000000\" fill-rule=\"evenodd\" fill-opacity=\"1\" /><path clip-path=\"url(#clip260)\" d=\"M146.366 496.373 L151.251 496.373 L151.251 502.253 L146.366 502.253 L146.366 496.373 Z\" fill=\"#000000\" fill-rule=\"evenodd\" fill-opacity=\"1\" /><path clip-path=\"url(#clip260)\" d=\"M174.283 471.767 L162.477 490.216 L174.283 490.216 L174.283 471.767 M173.056 467.693 L178.936 467.693 L178.936 490.216 L183.866 490.216 L183.866 494.105 L178.936 494.105 L178.936 502.253 L174.283 502.253 L174.283 494.105 L158.681 494.105 L158.681 489.591 L173.056 467.693 Z\" fill=\"#000000\" fill-rule=\"evenodd\" fill-opacity=\"1\" /><path clip-path=\"url(#clip260)\" d=\"M127.686 245.955 Q124.075 245.955 122.246 249.52 Q120.441 253.062 120.441 260.191 Q120.441 267.298 122.246 270.862 Q124.075 274.404 127.686 274.404 Q131.32 274.404 133.126 270.862 Q134.954 267.298 134.954 260.191 Q134.954 253.062 133.126 249.52 Q131.32 245.955 127.686 245.955 M127.686 242.251 Q133.496 242.251 136.552 246.858 Q139.63 251.441 139.63 260.191 Q139.63 268.918 136.552 273.524 Q133.496 278.108 127.686 278.108 Q121.876 278.108 118.797 273.524 Q115.742 268.918 115.742 260.191 Q115.742 251.441 118.797 246.858 Q121.876 242.251 127.686 242.251 Z\" fill=\"#000000\" fill-rule=\"evenodd\" fill-opacity=\"1\" /><path clip-path=\"url(#clip260)\" d=\"M147.848 271.557 L152.732 271.557 L152.732 277.436 L147.848 277.436 L147.848 271.557 Z\" fill=\"#000000\" fill-rule=\"evenodd\" fill-opacity=\"1\" /><path clip-path=\"url(#clip260)\" d=\"M162.964 242.876 L181.32 242.876 L181.32 246.812 L167.246 246.812 L167.246 255.284 Q168.264 254.937 169.283 254.774 Q170.302 254.589 171.32 254.589 Q177.107 254.589 180.487 257.761 Q183.866 260.932 183.866 266.348 Q183.866 271.927 180.394 275.029 Q176.922 278.108 170.602 278.108 Q168.427 278.108 166.158 277.737 Q163.913 277.367 161.505 276.626 L161.505 271.927 Q163.589 273.061 165.811 273.617 Q168.033 274.173 170.51 274.173 Q174.514 274.173 176.852 272.066 Q179.19 269.96 179.19 266.348 Q179.19 262.737 176.852 260.631 Q174.514 258.524 170.51 258.524 Q168.635 258.524 166.76 258.941 Q164.908 259.358 162.964 260.237 L162.964 242.876 Z\" fill=\"#000000\" fill-rule=\"evenodd\" fill-opacity=\"1\" /><path clip-path=\"url(#clip260)\" d=\"M20.1444 875.019 L26.9239 875.019 Q23.9002 878.265 22.4043 881.957 Q20.9083 885.618 20.9083 889.755 Q20.9083 897.904 25.9054 902.232 Q30.8707 906.561 40.2919 906.561 Q49.6813 906.561 54.6784 902.232 Q59.6436 897.904 59.6436 889.755 Q59.6436 885.618 58.1477 881.957 Q56.6518 878.265 53.6281 875.019 L60.3439 875.019 Q62.6355 878.393 63.7814 882.18 Q64.9272 885.936 64.9272 890.137 Q64.9272 900.927 58.3387 907.134 Q51.7183 913.34 40.2919 913.34 Q28.8336 913.34 22.2451 907.134 Q15.6248 900.927 15.6248 890.137 Q15.6248 885.872 16.7706 882.117 Q17.8846 878.329 20.1444 875.019 Z\" fill=\"#000000\" fill-rule=\"evenodd\" fill-opacity=\"1\" /><path clip-path=\"url(#clip260)\" d=\"M32.4621 851.529 Q32.4621 856.24 36.1542 858.977 Q39.8145 861.714 46.212 861.714 Q52.6095 861.714 56.3017 859.009 Q59.9619 856.272 59.9619 851.529 Q59.9619 846.851 56.2698 844.113 Q52.5777 841.376 46.212 841.376 Q39.8781 841.376 36.186 844.113 Q32.4621 846.851 32.4621 851.529 M27.4968 851.529 Q27.4968 843.89 32.4621 839.53 Q37.4273 835.169 46.212 835.169 Q54.9649 835.169 59.9619 839.53 Q64.9272 843.89 64.9272 851.529 Q64.9272 859.2 59.9619 863.561 Q54.9649 867.889 46.212 867.889 Q37.4273 867.889 32.4621 863.561 Q27.4968 859.2 27.4968 851.529 Z\" fill=\"#000000\" fill-rule=\"evenodd\" fill-opacity=\"1\" /><path clip-path=\"url(#clip260)\" d=\"M42.4881 795.829 L64.0042 795.829 L64.0042 801.686 L42.679 801.686 Q37.6183 801.686 35.1038 803.659 Q32.5894 805.633 32.5894 809.579 Q32.5894 814.322 35.6131 817.059 Q38.6368 819.796 43.8567 819.796 L64.0042 819.796 L64.0042 825.685 L28.3562 825.685 L28.3562 819.796 L33.8944 819.796 Q30.6797 817.696 29.0883 814.863 Q27.4968 811.998 27.4968 808.274 Q27.4968 802.131 31.3163 798.98 Q35.1038 795.829 42.4881 795.829 Z\" fill=\"#000000\" fill-rule=\"evenodd\" fill-opacity=\"1\" /><path clip-path=\"url(#clip260)\" d=\"M28.3562 788.35 L28.3562 782.143 L58.275 771.003 L28.3562 759.863 L28.3562 753.657 L64.0042 767.025 L64.0042 774.982 L28.3562 788.35 Z\" fill=\"#000000\" fill-rule=\"evenodd\" fill-opacity=\"1\" /><path clip-path=\"url(#clip260)\" d=\"M44.7161 715.08 L47.5806 715.08 L47.5806 742.007 Q53.6281 741.625 56.8109 738.379 Q59.9619 735.101 59.9619 729.276 Q59.9619 725.902 59.1344 722.751 Q58.3069 719.568 56.6518 716.449 L62.1899 716.449 Q63.5267 719.6 64.227 722.91 Q64.9272 726.22 64.9272 729.626 Q64.9272 738.156 59.9619 743.153 Q54.9967 748.118 46.5303 748.118 Q37.7774 748.118 32.6531 743.408 Q27.4968 738.665 27.4968 730.645 Q27.4968 723.451 32.1438 719.282 Q36.7589 715.08 44.7161 715.08 M42.9973 720.937 Q38.1912 721.001 35.3266 723.642 Q32.4621 726.252 32.4621 730.581 Q32.4621 735.483 35.2312 738.443 Q38.0002 741.371 43.0292 741.816 L42.9973 720.937 Z\" fill=\"#000000\" fill-rule=\"evenodd\" fill-opacity=\"1\" /><path clip-path=\"url(#clip260)\" d=\"M33.8307 684.811 Q33.2578 685.798 33.0032 686.976 Q32.7167 688.122 32.7167 689.522 Q32.7167 694.487 35.9632 697.161 Q39.1779 699.803 45.2253 699.803 L64.0042 699.803 L64.0042 705.691 L28.3562 705.691 L28.3562 699.803 L33.8944 699.803 Q30.6479 697.957 29.0883 694.997 Q27.4968 692.037 27.4968 687.803 Q27.4968 687.199 27.5923 686.467 Q27.656 685.735 27.8151 684.843 L33.8307 684.811 Z\" fill=\"#000000\" fill-rule=\"evenodd\" fill-opacity=\"1\" /><path clip-path=\"url(#clip260)\" d=\"M29.4065 655.943 L34.9447 655.943 Q33.6716 658.426 33.035 661.099 Q32.3984 663.773 32.3984 666.637 Q32.3984 670.998 33.7352 673.194 Q35.072 675.358 37.7456 675.358 Q39.7826 675.358 40.9603 673.799 Q42.1061 672.239 43.1565 667.529 L43.6021 665.523 Q44.9389 659.285 47.3897 656.675 Q49.8086 654.033 54.1691 654.033 Q59.1344 654.033 62.0308 657.98 Q64.9272 661.895 64.9272 668.77 Q64.9272 671.634 64.3543 674.754 Q63.8132 677.841 62.6992 681.279 L56.6518 681.279 Q58.3387 678.032 59.198 674.881 Q60.0256 671.73 60.0256 668.643 Q60.0256 664.505 58.6251 662.277 Q57.1929 660.049 54.6147 660.049 Q52.2276 660.049 50.9545 661.672 Q49.6813 663.264 48.5037 668.706 L48.0262 670.743 Q46.8804 676.186 44.5251 678.605 Q42.138 681.024 38.0002 681.024 Q32.9713 681.024 30.2341 677.459 Q27.4968 673.894 27.4968 667.338 Q27.4968 664.091 27.9743 661.227 Q28.4517 658.362 29.4065 655.943 Z\" fill=\"#000000\" fill-rule=\"evenodd\" fill-opacity=\"1\" /><path clip-path=\"url(#clip260)\" d=\"M28.3562 644.708 L28.3562 638.851 L64.0042 638.851 L64.0042 644.708 L28.3562 644.708 M14.479 644.708 L14.479 638.851 L21.895 638.851 L21.895 644.708 L14.479 644.708 Z\" fill=\"#000000\" fill-rule=\"evenodd\" fill-opacity=\"1\" /><path clip-path=\"url(#clip260)\" d=\"M32.4621 612.784 Q32.4621 617.494 36.1542 620.231 Q39.8145 622.969 46.212 622.969 Q52.6095 622.969 56.3017 620.263 Q59.9619 617.526 59.9619 612.784 Q59.9619 608.105 56.2698 605.367 Q52.5777 602.63 46.212 602.63 Q39.8781 602.63 36.186 605.367 Q32.4621 608.105 32.4621 612.784 M27.4968 612.784 Q27.4968 605.145 32.4621 600.784 Q37.4273 596.424 46.212 596.424 Q54.9649 596.424 59.9619 600.784 Q64.9272 605.145 64.9272 612.784 Q64.9272 620.454 59.9619 624.815 Q54.9649 629.143 46.212 629.143 Q37.4273 629.143 32.4621 624.815 Q27.4968 620.454 27.4968 612.784 Z\" fill=\"#000000\" fill-rule=\"evenodd\" fill-opacity=\"1\" /><path clip-path=\"url(#clip260)\" d=\"M42.4881 557.084 L64.0042 557.084 L64.0042 562.94 L42.679 562.94 Q37.6183 562.94 35.1038 564.913 Q32.5894 566.887 32.5894 570.834 Q32.5894 575.576 35.6131 578.313 Q38.6368 581.05 43.8567 581.05 L64.0042 581.05 L64.0042 586.939 L28.3562 586.939 L28.3562 581.05 L33.8944 581.05 Q30.6797 578.95 29.0883 576.117 Q27.4968 573.252 27.4968 569.529 Q27.4968 563.386 31.3163 560.235 Q35.1038 557.084 42.4881 557.084 Z\" fill=\"#000000\" fill-rule=\"evenodd\" fill-opacity=\"1\" /><polyline clip-path=\"url(#clip262)\" style=\"stroke:#009af9; stroke-linecap:butt; stroke-linejoin:round; stroke-width:4; stroke-opacity:1; fill:none\" points=\"\n",
       "  280.231,1384.24 280.231,1384.24 280.231,1384.24 280.231,1384.24 280.231,1384.24 280.231,1384.24 280.231,1384.24 280.231,1384.24 280.231,1384.24 280.231,1384.24 \n",
       "  280.231,1384.24 280.231,1384.24 280.231,1384.24 280.231,1384.24 280.231,1384.24 280.231,1384.24 280.231,1384.24 280.232,1384.23 280.232,1384.23 280.233,1384.22 \n",
       "  280.236,1384.21 280.241,1384.18 280.25,1384.13 280.269,1384.02 280.308,1383.79 280.384,1383.35 280.461,1382.91 280.614,1382.02 280.767,1381.13 280.92,1380.24 \n",
       "  281.226,1378.47 281.533,1376.71 281.839,1374.94 282.145,1373.18 282.757,1369.66 283.982,1362.65 285.207,1355.69 286.432,1348.76 288.882,1335.04 291.332,1321.47 \n",
       "  296.231,1294.81 301.131,1268.77 306.03,1243.33 310.93,1218.48 315.829,1194.21 325.629,1147.34 335.428,1102.61 355.026,1019.18 372.664,950.462 395.189,870.655 \n",
       "  417.713,798.894 440.238,734.336 462.762,676.226 485.286,623.893 530.335,534.201 570.271,468.743 610.206,414.098 650.142,368.382 690.077,330.041 730.013,297.8 \n",
       "  809.884,247.539 881.768,214.456 953.652,189.589 1025.54,170.691 1097.42,156.127 1169.3,144.714 1241.19,135.608 1384.96,122.133 1528.72,112.642 1672.49,105.262 \n",
       "  1816.26,99.3257 1960.03,94.5168 2103.8,90.5421 2247.56,87.1522 2292.39,86.1857 \n",
       "  \"/>\n",
       "<path clip-path=\"url(#clip260)\" d=\"\n",
       "M1992.24 196.789 L2281.66 196.789 L2281.66 93.1086 L1992.24 93.1086  Z\n",
       "  \" fill=\"#ffffff\" fill-rule=\"evenodd\" fill-opacity=\"1\"/>\n",
       "<polyline clip-path=\"url(#clip260)\" style=\"stroke:#000000; stroke-linecap:butt; stroke-linejoin:round; stroke-width:4; stroke-opacity:1; fill:none\" points=\"\n",
       "  1992.24,196.789 2281.66,196.789 2281.66,93.1086 1992.24,93.1086 1992.24,196.789 \n",
       "  \"/>\n",
       "<polyline clip-path=\"url(#clip260)\" style=\"stroke:#009af9; stroke-linecap:butt; stroke-linejoin:round; stroke-width:4; stroke-opacity:1; fill:none\" points=\"\n",
       "  2015.94,144.949 2158.13,144.949 \n",
       "  \"/>\n",
       "<path clip-path=\"url(#clip260)\" d=\"M2195.67 164.636 Q2193.87 169.266 2192.16 170.678 Q2190.44 172.09 2187.57 172.09 L2184.17 172.09 L2184.17 168.525 L2186.67 168.525 Q2188.43 168.525 2189.4 167.692 Q2190.37 166.858 2191.55 163.756 L2192.32 161.812 L2181.83 136.303 L2186.35 136.303 L2194.45 156.581 L2202.55 136.303 L2207.06 136.303 L2195.67 164.636 Z\" fill=\"#000000\" fill-rule=\"evenodd\" fill-opacity=\"1\" /><path clip-path=\"url(#clip260)\" d=\"M2214.35 158.293 L2221.99 158.293 L2221.99 131.928 L2213.68 133.595 L2213.68 129.335 L2221.95 127.669 L2226.62 127.669 L2226.62 158.293 L2234.26 158.293 L2234.26 162.229 L2214.35 162.229 L2214.35 158.293 Z\" fill=\"#000000\" fill-rule=\"evenodd\" fill-opacity=\"1\" /></svg>\n"
      ]
     },
     "execution_count": 86,
     "metadata": {},
     "output_type": "execute_result"
    }
   ],
   "source": [
    "plot(sol.t, conv, xlabel = \"V(L)\", ylabel = \"Conversion\")"
   ]
  },
  {
   "cell_type": "code",
   "execution_count": 87,
   "id": "vocational-thousand",
   "metadata": {},
   "outputs": [
    {
     "data": {
      "image/svg+xml": [
       "<?xml version=\"1.0\" encoding=\"utf-8\"?>\n",
       "<svg xmlns=\"http://www.w3.org/2000/svg\" xmlns:xlink=\"http://www.w3.org/1999/xlink\" width=\"600\" height=\"400\" viewBox=\"0 0 2400 1600\">\n",
       "<defs>\n",
       "  <clipPath id=\"clip300\">\n",
       "    <rect x=\"0\" y=\"0\" width=\"2400\" height=\"1600\"/>\n",
       "  </clipPath>\n",
       "</defs>\n",
       "<path clip-path=\"url(#clip300)\" d=\"\n",
       "M0 1600 L2400 1600 L2400 0 L0 0  Z\n",
       "  \" fill=\"#ffffff\" fill-rule=\"evenodd\" fill-opacity=\"1\"/>\n",
       "<defs>\n",
       "  <clipPath id=\"clip301\">\n",
       "    <rect x=\"480\" y=\"0\" width=\"1681\" height=\"1600\"/>\n",
       "  </clipPath>\n",
       "</defs>\n",
       "<path clip-path=\"url(#clip300)\" d=\"\n",
       "M249.542 1423.18 L2352.76 1423.18 L2352.76 47.2441 L249.542 47.2441  Z\n",
       "  \" fill=\"#ffffff\" fill-rule=\"evenodd\" fill-opacity=\"1\"/>\n",
       "<defs>\n",
       "  <clipPath id=\"clip302\">\n",
       "    <rect x=\"249\" y=\"47\" width=\"2104\" height=\"1377\"/>\n",
       "  </clipPath>\n",
       "</defs>\n",
       "<polyline clip-path=\"url(#clip302)\" style=\"stroke:#000000; stroke-linecap:butt; stroke-linejoin:round; stroke-width:2; stroke-opacity:0.1; fill:none\" points=\"\n",
       "  309.067,1423.18 309.067,47.2441 \n",
       "  \"/>\n",
       "<polyline clip-path=\"url(#clip302)\" style=\"stroke:#000000; stroke-linecap:butt; stroke-linejoin:round; stroke-width:2; stroke-opacity:0.1; fill:none\" points=\"\n",
       "  929.118,1423.18 929.118,47.2441 \n",
       "  \"/>\n",
       "<polyline clip-path=\"url(#clip302)\" style=\"stroke:#000000; stroke-linecap:butt; stroke-linejoin:round; stroke-width:2; stroke-opacity:0.1; fill:none\" points=\"\n",
       "  1549.17,1423.18 1549.17,47.2441 \n",
       "  \"/>\n",
       "<polyline clip-path=\"url(#clip302)\" style=\"stroke:#000000; stroke-linecap:butt; stroke-linejoin:round; stroke-width:2; stroke-opacity:0.1; fill:none\" points=\"\n",
       "  2169.22,1423.18 2169.22,47.2441 \n",
       "  \"/>\n",
       "<polyline clip-path=\"url(#clip300)\" style=\"stroke:#000000; stroke-linecap:butt; stroke-linejoin:round; stroke-width:4; stroke-opacity:1; fill:none\" points=\"\n",
       "  249.542,1423.18 2352.76,1423.18 \n",
       "  \"/>\n",
       "<polyline clip-path=\"url(#clip300)\" style=\"stroke:#000000; stroke-linecap:butt; stroke-linejoin:round; stroke-width:4; stroke-opacity:1; fill:none\" points=\"\n",
       "  309.067,1423.18 309.067,1404.28 \n",
       "  \"/>\n",
       "<polyline clip-path=\"url(#clip300)\" style=\"stroke:#000000; stroke-linecap:butt; stroke-linejoin:round; stroke-width:4; stroke-opacity:1; fill:none\" points=\"\n",
       "  929.118,1423.18 929.118,1404.28 \n",
       "  \"/>\n",
       "<polyline clip-path=\"url(#clip300)\" style=\"stroke:#000000; stroke-linecap:butt; stroke-linejoin:round; stroke-width:4; stroke-opacity:1; fill:none\" points=\"\n",
       "  1549.17,1423.18 1549.17,1404.28 \n",
       "  \"/>\n",
       "<polyline clip-path=\"url(#clip300)\" style=\"stroke:#000000; stroke-linecap:butt; stroke-linejoin:round; stroke-width:4; stroke-opacity:1; fill:none\" points=\"\n",
       "  2169.22,1423.18 2169.22,1404.28 \n",
       "  \"/>\n",
       "<path clip-path=\"url(#clip300)\" d=\"M309.067 1452.37 Q305.456 1452.37 303.627 1455.94 Q301.822 1459.48 301.822 1466.61 Q301.822 1473.71 303.627 1477.28 Q305.456 1480.82 309.067 1480.82 Q312.701 1480.82 314.507 1477.28 Q316.335 1473.71 316.335 1466.61 Q316.335 1459.48 314.507 1455.94 Q312.701 1452.37 309.067 1452.37 M309.067 1448.67 Q314.877 1448.67 317.933 1453.27 Q321.011 1457.86 321.011 1466.61 Q321.011 1475.33 317.933 1479.94 Q314.877 1484.52 309.067 1484.52 Q303.257 1484.52 300.178 1479.94 Q297.123 1475.33 297.123 1466.61 Q297.123 1457.86 300.178 1453.27 Q303.257 1448.67 309.067 1448.67 Z\" fill=\"#000000\" fill-rule=\"evenodd\" fill-opacity=\"1\" /><path clip-path=\"url(#clip300)\" d=\"M888.736 1449.29 L907.093 1449.29 L907.093 1453.23 L893.019 1453.23 L893.019 1461.7 Q894.037 1461.35 895.056 1461.19 Q896.074 1461 897.093 1461 Q902.88 1461 906.26 1464.18 Q909.639 1467.35 909.639 1472.76 Q909.639 1478.34 906.167 1481.44 Q902.695 1484.52 896.375 1484.52 Q894.199 1484.52 891.931 1484.15 Q889.686 1483.78 887.278 1483.04 L887.278 1478.34 Q889.361 1479.48 891.584 1480.03 Q893.806 1480.59 896.283 1480.59 Q900.287 1480.59 902.625 1478.48 Q904.963 1476.38 904.963 1472.76 Q904.963 1469.15 902.625 1467.05 Q900.287 1464.94 896.283 1464.94 Q894.408 1464.94 892.533 1465.36 Q890.681 1465.77 888.736 1466.65 L888.736 1449.29 Z\" fill=\"#000000\" fill-rule=\"evenodd\" fill-opacity=\"1\" /><path clip-path=\"url(#clip300)\" d=\"M928.852 1452.37 Q925.241 1452.37 923.412 1455.94 Q921.607 1459.48 921.607 1466.61 Q921.607 1473.71 923.412 1477.28 Q925.241 1480.82 928.852 1480.82 Q932.486 1480.82 934.292 1477.28 Q936.12 1473.71 936.12 1466.61 Q936.12 1459.48 934.292 1455.94 Q932.486 1452.37 928.852 1452.37 M928.852 1448.67 Q934.662 1448.67 937.718 1453.27 Q940.796 1457.86 940.796 1466.61 Q940.796 1475.33 937.718 1479.94 Q934.662 1484.52 928.852 1484.52 Q923.042 1484.52 919.963 1479.94 Q916.908 1475.33 916.908 1466.61 Q916.908 1457.86 919.963 1453.27 Q923.042 1448.67 928.852 1448.67 Z\" fill=\"#000000\" fill-rule=\"evenodd\" fill-opacity=\"1\" /><path clip-path=\"url(#clip300)\" d=\"M959.014 1452.37 Q955.403 1452.37 953.574 1455.94 Q951.769 1459.48 951.769 1466.61 Q951.769 1473.71 953.574 1477.28 Q955.403 1480.82 959.014 1480.82 Q962.648 1480.82 964.454 1477.28 Q966.282 1473.71 966.282 1466.61 Q966.282 1459.48 964.454 1455.94 Q962.648 1452.37 959.014 1452.37 M959.014 1448.67 Q964.824 1448.67 967.88 1453.27 Q970.958 1457.86 970.958 1466.61 Q970.958 1475.33 967.88 1479.94 Q964.824 1484.52 959.014 1484.52 Q953.204 1484.52 950.125 1479.94 Q947.07 1475.33 947.07 1466.61 Q947.07 1457.86 950.125 1453.27 Q953.204 1448.67 959.014 1448.67 Z\" fill=\"#000000\" fill-rule=\"evenodd\" fill-opacity=\"1\" /><path clip-path=\"url(#clip300)\" d=\"M1493.7 1479.92 L1501.33 1479.92 L1501.33 1453.55 L1493.02 1455.22 L1493.02 1450.96 L1501.29 1449.29 L1505.96 1449.29 L1505.96 1479.92 L1513.6 1479.92 L1513.6 1483.85 L1493.7 1483.85 L1493.7 1479.92 Z\" fill=\"#000000\" fill-rule=\"evenodd\" fill-opacity=\"1\" /><path clip-path=\"url(#clip300)\" d=\"M1533.05 1452.37 Q1529.44 1452.37 1527.61 1455.94 Q1525.8 1459.48 1525.8 1466.61 Q1525.8 1473.71 1527.61 1477.28 Q1529.44 1480.82 1533.05 1480.82 Q1536.68 1480.82 1538.49 1477.28 Q1540.32 1473.71 1540.32 1466.61 Q1540.32 1459.48 1538.49 1455.94 Q1536.68 1452.37 1533.05 1452.37 M1533.05 1448.67 Q1538.86 1448.67 1541.91 1453.27 Q1544.99 1457.86 1544.99 1466.61 Q1544.99 1475.33 1541.91 1479.94 Q1538.86 1484.52 1533.05 1484.52 Q1527.24 1484.52 1524.16 1479.94 Q1521.1 1475.33 1521.1 1466.61 Q1521.1 1457.86 1524.16 1453.27 Q1527.24 1448.67 1533.05 1448.67 Z\" fill=\"#000000\" fill-rule=\"evenodd\" fill-opacity=\"1\" /><path clip-path=\"url(#clip300)\" d=\"M1563.21 1452.37 Q1559.6 1452.37 1557.77 1455.94 Q1555.96 1459.48 1555.96 1466.61 Q1555.96 1473.71 1557.77 1477.28 Q1559.6 1480.82 1563.21 1480.82 Q1566.84 1480.82 1568.65 1477.28 Q1570.48 1473.71 1570.48 1466.61 Q1570.48 1459.48 1568.65 1455.94 Q1566.84 1452.37 1563.21 1452.37 M1563.21 1448.67 Q1569.02 1448.67 1572.07 1453.27 Q1575.15 1457.86 1575.15 1466.61 Q1575.15 1475.33 1572.07 1479.94 Q1569.02 1484.52 1563.21 1484.52 Q1557.4 1484.52 1554.32 1479.94 Q1551.26 1475.33 1551.26 1466.61 Q1551.26 1457.86 1554.32 1453.27 Q1557.4 1448.67 1563.21 1448.67 Z\" fill=\"#000000\" fill-rule=\"evenodd\" fill-opacity=\"1\" /><path clip-path=\"url(#clip300)\" d=\"M1593.37 1452.37 Q1589.76 1452.37 1587.93 1455.94 Q1586.13 1459.48 1586.13 1466.61 Q1586.13 1473.71 1587.93 1477.28 Q1589.76 1480.82 1593.37 1480.82 Q1597 1480.82 1598.81 1477.28 Q1600.64 1473.71 1600.64 1466.61 Q1600.64 1459.48 1598.81 1455.94 Q1597 1452.37 1593.37 1452.37 M1593.37 1448.67 Q1599.18 1448.67 1602.24 1453.27 Q1605.32 1457.86 1605.32 1466.61 Q1605.32 1475.33 1602.24 1479.94 Q1599.18 1484.52 1593.37 1484.52 Q1587.56 1484.52 1584.48 1479.94 Q1581.43 1475.33 1581.43 1466.61 Q1581.43 1457.86 1584.48 1453.27 Q1587.56 1448.67 1593.37 1448.67 Z\" fill=\"#000000\" fill-rule=\"evenodd\" fill-opacity=\"1\" /><path clip-path=\"url(#clip300)\" d=\"M2113.75 1479.92 L2121.39 1479.92 L2121.39 1453.55 L2113.08 1455.22 L2113.08 1450.96 L2121.34 1449.29 L2126.01 1449.29 L2126.01 1479.92 L2133.65 1479.92 L2133.65 1483.85 L2113.75 1483.85 L2113.75 1479.92 Z\" fill=\"#000000\" fill-rule=\"evenodd\" fill-opacity=\"1\" /><path clip-path=\"url(#clip300)\" d=\"M2143.14 1449.29 L2161.5 1449.29 L2161.5 1453.23 L2147.43 1453.23 L2147.43 1461.7 Q2148.45 1461.35 2149.46 1461.19 Q2150.48 1461 2151.5 1461 Q2157.29 1461 2160.67 1464.18 Q2164.05 1467.35 2164.05 1472.76 Q2164.05 1478.34 2160.57 1481.44 Q2157.1 1484.52 2150.78 1484.52 Q2148.61 1484.52 2146.34 1484.15 Q2144.09 1483.78 2141.69 1483.04 L2141.69 1478.34 Q2143.77 1479.48 2145.99 1480.03 Q2148.21 1480.59 2150.69 1480.59 Q2154.7 1480.59 2157.03 1478.48 Q2159.37 1476.38 2159.37 1472.76 Q2159.37 1469.15 2157.03 1467.05 Q2154.7 1464.94 2150.69 1464.94 Q2148.82 1464.94 2146.94 1465.36 Q2145.09 1465.77 2143.14 1466.65 L2143.14 1449.29 Z\" fill=\"#000000\" fill-rule=\"evenodd\" fill-opacity=\"1\" /><path clip-path=\"url(#clip300)\" d=\"M2183.26 1452.37 Q2179.65 1452.37 2177.82 1455.94 Q2176.01 1459.48 2176.01 1466.61 Q2176.01 1473.71 2177.82 1477.28 Q2179.65 1480.82 2183.26 1480.82 Q2186.89 1480.82 2188.7 1477.28 Q2190.53 1473.71 2190.53 1466.61 Q2190.53 1459.48 2188.7 1455.94 Q2186.89 1452.37 2183.26 1452.37 M2183.26 1448.67 Q2189.07 1448.67 2192.13 1453.27 Q2195.2 1457.86 2195.2 1466.61 Q2195.2 1475.33 2192.13 1479.94 Q2189.07 1484.52 2183.26 1484.52 Q2177.45 1484.52 2174.37 1479.94 Q2171.32 1475.33 2171.32 1466.61 Q2171.32 1457.86 2174.37 1453.27 Q2177.45 1448.67 2183.26 1448.67 Z\" fill=\"#000000\" fill-rule=\"evenodd\" fill-opacity=\"1\" /><path clip-path=\"url(#clip300)\" d=\"M2213.42 1452.37 Q2209.81 1452.37 2207.98 1455.94 Q2206.18 1459.48 2206.18 1466.61 Q2206.18 1473.71 2207.98 1477.28 Q2209.81 1480.82 2213.42 1480.82 Q2217.06 1480.82 2218.86 1477.28 Q2220.69 1473.71 2220.69 1466.61 Q2220.69 1459.48 2218.86 1455.94 Q2217.06 1452.37 2213.42 1452.37 M2213.42 1448.67 Q2219.23 1448.67 2222.29 1453.27 Q2225.37 1457.86 2225.37 1466.61 Q2225.37 1475.33 2222.29 1479.94 Q2219.23 1484.52 2213.42 1484.52 Q2207.61 1484.52 2204.53 1479.94 Q2201.48 1475.33 2201.48 1466.61 Q2201.48 1457.86 2204.53 1453.27 Q2207.61 1448.67 2213.42 1448.67 Z\" fill=\"#000000\" fill-rule=\"evenodd\" fill-opacity=\"1\" /><path clip-path=\"url(#clip300)\" d=\"M1256.46 1568.04 L1238.32 1520.52 L1245.04 1520.52 L1260.09 1560.53 L1275.18 1520.52 L1281.86 1520.52 L1263.75 1568.04 L1256.46 1568.04 Z\" fill=\"#000000\" fill-rule=\"evenodd\" fill-opacity=\"1\" /><path clip-path=\"url(#clip300)\" d=\"M1302.61 1518.58 Q1298.35 1525.9 1296.28 1533.06 Q1294.21 1540.23 1294.21 1547.58 Q1294.21 1554.93 1296.28 1562.16 Q1298.38 1569.35 1302.61 1576.64 L1297.52 1576.64 Q1292.75 1569.16 1290.36 1561.93 Q1288 1554.71 1288 1547.58 Q1288 1540.48 1290.36 1533.29 Q1292.71 1526.09 1297.52 1518.58 L1302.61 1518.58 Z\" fill=\"#000000\" fill-rule=\"evenodd\" fill-opacity=\"1\" /><path clip-path=\"url(#clip300)\" d=\"M1314.23 1520.52 L1320.66 1520.52 L1320.66 1562.63 L1343.8 1562.63 L1343.8 1568.04 L1314.23 1568.04 L1314.23 1520.52 Z\" fill=\"#000000\" fill-rule=\"evenodd\" fill-opacity=\"1\" /><path clip-path=\"url(#clip300)\" d=\"M1349.37 1518.58 L1354.46 1518.58 Q1359.24 1526.09 1361.59 1533.29 Q1363.98 1540.48 1363.98 1547.58 Q1363.98 1554.71 1361.59 1561.93 Q1359.24 1569.16 1354.46 1576.64 L1349.37 1576.64 Q1353.6 1569.35 1355.67 1562.16 Q1357.77 1554.93 1357.77 1547.58 Q1357.77 1540.23 1355.67 1533.06 Q1353.6 1525.9 1349.37 1518.58 Z\" fill=\"#000000\" fill-rule=\"evenodd\" fill-opacity=\"1\" /><polyline clip-path=\"url(#clip302)\" style=\"stroke:#000000; stroke-linecap:butt; stroke-linejoin:round; stroke-width:2; stroke-opacity:0.1; fill:none\" points=\"\n",
       "  249.542,1384.24 2352.76,1384.24 \n",
       "  \"/>\n",
       "<polyline clip-path=\"url(#clip302)\" style=\"stroke:#000000; stroke-linecap:butt; stroke-linejoin:round; stroke-width:2; stroke-opacity:0.1; fill:none\" points=\"\n",
       "  249.542,1059.73 2352.76,1059.73 \n",
       "  \"/>\n",
       "<polyline clip-path=\"url(#clip302)\" style=\"stroke:#000000; stroke-linecap:butt; stroke-linejoin:round; stroke-width:2; stroke-opacity:0.1; fill:none\" points=\"\n",
       "  249.542,735.212 2352.76,735.212 \n",
       "  \"/>\n",
       "<polyline clip-path=\"url(#clip302)\" style=\"stroke:#000000; stroke-linecap:butt; stroke-linejoin:round; stroke-width:2; stroke-opacity:0.1; fill:none\" points=\"\n",
       "  249.542,410.699 2352.76,410.699 \n",
       "  \"/>\n",
       "<polyline clip-path=\"url(#clip302)\" style=\"stroke:#000000; stroke-linecap:butt; stroke-linejoin:round; stroke-width:2; stroke-opacity:0.1; fill:none\" points=\"\n",
       "  249.542,86.1857 2352.76,86.1857 \n",
       "  \"/>\n",
       "<polyline clip-path=\"url(#clip300)\" style=\"stroke:#000000; stroke-linecap:butt; stroke-linejoin:round; stroke-width:4; stroke-opacity:1; fill:none\" points=\"\n",
       "  249.542,1423.18 249.542,47.2441 \n",
       "  \"/>\n",
       "<polyline clip-path=\"url(#clip300)\" style=\"stroke:#000000; stroke-linecap:butt; stroke-linejoin:round; stroke-width:4; stroke-opacity:1; fill:none\" points=\"\n",
       "  249.542,1384.24 268.44,1384.24 \n",
       "  \"/>\n",
       "<polyline clip-path=\"url(#clip300)\" style=\"stroke:#000000; stroke-linecap:butt; stroke-linejoin:round; stroke-width:4; stroke-opacity:1; fill:none\" points=\"\n",
       "  249.542,1059.73 268.44,1059.73 \n",
       "  \"/>\n",
       "<polyline clip-path=\"url(#clip300)\" style=\"stroke:#000000; stroke-linecap:butt; stroke-linejoin:round; stroke-width:4; stroke-opacity:1; fill:none\" points=\"\n",
       "  249.542,735.212 268.44,735.212 \n",
       "  \"/>\n",
       "<polyline clip-path=\"url(#clip300)\" style=\"stroke:#000000; stroke-linecap:butt; stroke-linejoin:round; stroke-width:4; stroke-opacity:1; fill:none\" points=\"\n",
       "  249.542,410.699 268.44,410.699 \n",
       "  \"/>\n",
       "<polyline clip-path=\"url(#clip300)\" style=\"stroke:#000000; stroke-linecap:butt; stroke-linejoin:round; stroke-width:4; stroke-opacity:1; fill:none\" points=\"\n",
       "  249.542,86.1857 268.44,86.1857 \n",
       "  \"/>\n",
       "<path clip-path=\"url(#clip300)\" d=\"M126.205 1370.04 Q122.593 1370.04 120.765 1373.6 Q118.959 1377.14 118.959 1384.27 Q118.959 1391.38 120.765 1394.94 Q122.593 1398.49 126.205 1398.49 Q129.839 1398.49 131.644 1394.94 Q133.473 1391.38 133.473 1384.27 Q133.473 1377.14 131.644 1373.6 Q129.839 1370.04 126.205 1370.04 M126.205 1366.33 Q132.015 1366.33 135.07 1370.94 Q138.149 1375.52 138.149 1384.27 Q138.149 1393 135.07 1397.61 Q132.015 1402.19 126.205 1402.19 Q120.394 1402.19 117.316 1397.61 Q114.26 1393 114.26 1384.27 Q114.26 1375.52 117.316 1370.94 Q120.394 1366.33 126.205 1366.33 Z\" fill=\"#000000\" fill-rule=\"evenodd\" fill-opacity=\"1\" /><path clip-path=\"url(#clip300)\" d=\"M146.366 1395.64 L151.251 1395.64 L151.251 1401.52 L146.366 1401.52 L146.366 1395.64 Z\" fill=\"#000000\" fill-rule=\"evenodd\" fill-opacity=\"1\" /><path clip-path=\"url(#clip300)\" d=\"M171.436 1370.04 Q167.825 1370.04 165.996 1373.6 Q164.19 1377.14 164.19 1384.27 Q164.19 1391.38 165.996 1394.94 Q167.825 1398.49 171.436 1398.49 Q175.07 1398.49 176.876 1394.94 Q178.704 1391.38 178.704 1384.27 Q178.704 1377.14 176.876 1373.6 Q175.07 1370.04 171.436 1370.04 M171.436 1366.33 Q177.246 1366.33 180.301 1370.94 Q183.38 1375.52 183.38 1384.27 Q183.38 1393 180.301 1397.61 Q177.246 1402.19 171.436 1402.19 Q165.626 1402.19 162.547 1397.61 Q159.491 1393 159.491 1384.27 Q159.491 1375.52 162.547 1370.94 Q165.626 1366.33 171.436 1366.33 Z\" fill=\"#000000\" fill-rule=\"evenodd\" fill-opacity=\"1\" /><path clip-path=\"url(#clip300)\" d=\"M201.598 1370.04 Q197.987 1370.04 196.158 1373.6 Q194.352 1377.14 194.352 1384.27 Q194.352 1391.38 196.158 1394.94 Q197.987 1398.49 201.598 1398.49 Q205.232 1398.49 207.037 1394.94 Q208.866 1391.38 208.866 1384.27 Q208.866 1377.14 207.037 1373.6 Q205.232 1370.04 201.598 1370.04 M201.598 1366.33 Q207.408 1366.33 210.463 1370.94 Q213.542 1375.52 213.542 1384.27 Q213.542 1393 210.463 1397.61 Q207.408 1402.19 201.598 1402.19 Q195.787 1402.19 192.709 1397.61 Q189.653 1393 189.653 1384.27 Q189.653 1375.52 192.709 1370.94 Q195.787 1366.33 201.598 1366.33 Z\" fill=\"#000000\" fill-rule=\"evenodd\" fill-opacity=\"1\" /><path clip-path=\"url(#clip300)\" d=\"M127.2 1045.52 Q123.589 1045.52 121.76 1049.09 Q119.955 1052.63 119.955 1059.76 Q119.955 1066.87 121.76 1070.43 Q123.589 1073.97 127.2 1073.97 Q130.834 1073.97 132.64 1070.43 Q134.468 1066.87 134.468 1059.76 Q134.468 1052.63 132.64 1049.09 Q130.834 1045.52 127.2 1045.52 M127.2 1041.82 Q133.01 1041.82 136.066 1046.43 Q139.144 1051.01 139.144 1059.76 Q139.144 1068.49 136.066 1073.09 Q133.01 1077.68 127.2 1077.68 Q121.39 1077.68 118.311 1073.09 Q115.256 1068.49 115.256 1059.76 Q115.256 1051.01 118.311 1046.43 Q121.39 1041.82 127.2 1041.82 Z\" fill=\"#000000\" fill-rule=\"evenodd\" fill-opacity=\"1\" /><path clip-path=\"url(#clip300)\" d=\"M147.362 1071.13 L152.246 1071.13 L152.246 1077.01 L147.362 1077.01 L147.362 1071.13 Z\" fill=\"#000000\" fill-rule=\"evenodd\" fill-opacity=\"1\" /><path clip-path=\"url(#clip300)\" d=\"M166.459 1073.07 L182.778 1073.07 L182.778 1077.01 L160.834 1077.01 L160.834 1073.07 Q163.496 1070.32 168.079 1065.69 Q172.686 1061.03 173.866 1059.69 Q176.112 1057.17 176.991 1055.43 Q177.894 1053.67 177.894 1051.98 Q177.894 1049.23 175.95 1047.49 Q174.028 1045.76 170.927 1045.76 Q168.727 1045.76 166.274 1046.52 Q163.843 1047.28 161.065 1048.83 L161.065 1044.11 Q163.89 1042.98 166.343 1042.4 Q168.797 1041.82 170.834 1041.82 Q176.204 1041.82 179.399 1044.51 Q182.593 1047.19 182.593 1051.68 Q182.593 1053.81 181.783 1055.73 Q180.996 1057.63 178.889 1060.22 Q178.311 1060.89 175.209 1064.11 Q172.107 1067.31 166.459 1073.07 Z\" fill=\"#000000\" fill-rule=\"evenodd\" fill-opacity=\"1\" /><path clip-path=\"url(#clip300)\" d=\"M192.639 1042.45 L210.996 1042.45 L210.996 1046.38 L196.922 1046.38 L196.922 1054.85 Q197.94 1054.51 198.959 1054.34 Q199.977 1054.16 200.996 1054.16 Q206.783 1054.16 210.162 1057.33 Q213.542 1060.5 213.542 1065.92 Q213.542 1071.5 210.07 1074.6 Q206.598 1077.68 200.278 1077.68 Q198.102 1077.68 195.834 1077.31 Q193.588 1076.94 191.181 1076.19 L191.181 1071.5 Q193.264 1072.63 195.487 1073.19 Q197.709 1073.74 200.186 1073.74 Q204.19 1073.74 206.528 1071.63 Q208.866 1069.53 208.866 1065.92 Q208.866 1062.31 206.528 1060.2 Q204.19 1058.09 200.186 1058.09 Q198.311 1058.09 196.436 1058.51 Q194.584 1058.93 192.639 1059.81 L192.639 1042.45 Z\" fill=\"#000000\" fill-rule=\"evenodd\" fill-opacity=\"1\" /><path clip-path=\"url(#clip300)\" d=\"M126.205 721.011 Q122.593 721.011 120.765 724.575 Q118.959 728.117 118.959 735.247 Q118.959 742.353 120.765 745.918 Q122.593 749.46 126.205 749.46 Q129.839 749.46 131.644 745.918 Q133.473 742.353 133.473 735.247 Q133.473 728.117 131.644 724.575 Q129.839 721.011 126.205 721.011 M126.205 717.307 Q132.015 717.307 135.07 721.913 Q138.149 726.497 138.149 735.247 Q138.149 743.973 135.07 748.58 Q132.015 753.163 126.205 753.163 Q120.394 753.163 117.316 748.58 Q114.26 743.973 114.26 735.247 Q114.26 726.497 117.316 721.913 Q120.394 717.307 126.205 717.307 Z\" fill=\"#000000\" fill-rule=\"evenodd\" fill-opacity=\"1\" /><path clip-path=\"url(#clip300)\" d=\"M146.366 746.612 L151.251 746.612 L151.251 752.492 L146.366 752.492 L146.366 746.612 Z\" fill=\"#000000\" fill-rule=\"evenodd\" fill-opacity=\"1\" /><path clip-path=\"url(#clip300)\" d=\"M161.482 717.932 L179.839 717.932 L179.839 721.867 L165.765 721.867 L165.765 730.339 Q166.783 729.992 167.802 729.83 Q168.82 729.645 169.839 729.645 Q175.626 729.645 179.005 732.816 Q182.385 735.987 182.385 741.404 Q182.385 746.983 178.913 750.085 Q175.44 753.163 169.121 753.163 Q166.945 753.163 164.677 752.793 Q162.431 752.423 160.024 751.682 L160.024 746.983 Q162.107 748.117 164.329 748.673 Q166.552 749.228 169.028 749.228 Q173.033 749.228 175.371 747.122 Q177.709 745.015 177.709 741.404 Q177.709 737.793 175.371 735.687 Q173.033 733.58 169.028 733.58 Q167.153 733.58 165.278 733.997 Q163.427 734.413 161.482 735.293 L161.482 717.932 Z\" fill=\"#000000\" fill-rule=\"evenodd\" fill-opacity=\"1\" /><path clip-path=\"url(#clip300)\" d=\"M201.598 721.011 Q197.987 721.011 196.158 724.575 Q194.352 728.117 194.352 735.247 Q194.352 742.353 196.158 745.918 Q197.987 749.46 201.598 749.46 Q205.232 749.46 207.037 745.918 Q208.866 742.353 208.866 735.247 Q208.866 728.117 207.037 724.575 Q205.232 721.011 201.598 721.011 M201.598 717.307 Q207.408 717.307 210.463 721.913 Q213.542 726.497 213.542 735.247 Q213.542 743.973 210.463 748.58 Q207.408 753.163 201.598 753.163 Q195.787 753.163 192.709 748.58 Q189.653 743.973 189.653 735.247 Q189.653 726.497 192.709 721.913 Q195.787 717.307 201.598 717.307 Z\" fill=\"#000000\" fill-rule=\"evenodd\" fill-opacity=\"1\" /><path clip-path=\"url(#clip300)\" d=\"M127.2 396.498 Q123.589 396.498 121.76 400.062 Q119.955 403.604 119.955 410.734 Q119.955 417.84 121.76 421.405 Q123.589 424.946 127.2 424.946 Q130.834 424.946 132.64 421.405 Q134.468 417.84 134.468 410.734 Q134.468 403.604 132.64 400.062 Q130.834 396.498 127.2 396.498 M127.2 392.794 Q133.01 392.794 136.066 397.4 Q139.144 401.984 139.144 410.734 Q139.144 419.46 136.066 424.067 Q133.01 428.65 127.2 428.65 Q121.39 428.65 118.311 424.067 Q115.256 419.46 115.256 410.734 Q115.256 401.984 118.311 397.4 Q121.39 392.794 127.2 392.794 Z\" fill=\"#000000\" fill-rule=\"evenodd\" fill-opacity=\"1\" /><path clip-path=\"url(#clip300)\" d=\"M147.362 422.099 L152.246 422.099 L152.246 427.979 L147.362 427.979 L147.362 422.099 Z\" fill=\"#000000\" fill-rule=\"evenodd\" fill-opacity=\"1\" /><path clip-path=\"url(#clip300)\" d=\"M161.251 393.419 L183.473 393.419 L183.473 395.41 L170.927 427.979 L166.042 427.979 L177.848 397.354 L161.251 397.354 L161.251 393.419 Z\" fill=\"#000000\" fill-rule=\"evenodd\" fill-opacity=\"1\" /><path clip-path=\"url(#clip300)\" d=\"M192.639 393.419 L210.996 393.419 L210.996 397.354 L196.922 397.354 L196.922 405.826 Q197.94 405.479 198.959 405.317 Q199.977 405.132 200.996 405.132 Q206.783 405.132 210.162 408.303 Q213.542 411.474 213.542 416.891 Q213.542 422.47 210.07 425.571 Q206.598 428.65 200.278 428.65 Q198.102 428.65 195.834 428.28 Q193.588 427.909 191.181 427.169 L191.181 422.47 Q193.264 423.604 195.487 424.159 Q197.709 424.715 200.186 424.715 Q204.19 424.715 206.528 422.608 Q208.866 420.502 208.866 416.891 Q208.866 413.28 206.528 411.173 Q204.19 409.067 200.186 409.067 Q198.311 409.067 196.436 409.484 Q194.584 409.9 192.639 410.78 L192.639 393.419 Z\" fill=\"#000000\" fill-rule=\"evenodd\" fill-opacity=\"1\" /><path clip-path=\"url(#clip300)\" d=\"M117.015 99.5305 L124.654 99.5305 L124.654 73.1649 L116.343 74.8316 L116.343 70.5723 L124.607 68.9057 L129.283 68.9057 L129.283 99.5305 L136.922 99.5305 L136.922 103.466 L117.015 103.466 L117.015 99.5305 Z\" fill=\"#000000\" fill-rule=\"evenodd\" fill-opacity=\"1\" /><path clip-path=\"url(#clip300)\" d=\"M146.366 97.5861 L151.251 97.5861 L151.251 103.466 L146.366 103.466 L146.366 97.5861 Z\" fill=\"#000000\" fill-rule=\"evenodd\" fill-opacity=\"1\" /><path clip-path=\"url(#clip300)\" d=\"M171.436 71.9844 Q167.825 71.9844 165.996 75.5492 Q164.19 79.0908 164.19 86.2204 Q164.19 93.3268 165.996 96.8916 Q167.825 100.433 171.436 100.433 Q175.07 100.433 176.876 96.8916 Q178.704 93.3268 178.704 86.2204 Q178.704 79.0908 176.876 75.5492 Q175.07 71.9844 171.436 71.9844 M171.436 68.2807 Q177.246 68.2807 180.301 72.8871 Q183.38 77.4704 183.38 86.2204 Q183.38 94.9472 180.301 99.5537 Q177.246 104.137 171.436 104.137 Q165.626 104.137 162.547 99.5537 Q159.491 94.9472 159.491 86.2204 Q159.491 77.4704 162.547 72.8871 Q165.626 68.2807 171.436 68.2807 Z\" fill=\"#000000\" fill-rule=\"evenodd\" fill-opacity=\"1\" /><path clip-path=\"url(#clip300)\" d=\"M201.598 71.9844 Q197.987 71.9844 196.158 75.5492 Q194.352 79.0908 194.352 86.2204 Q194.352 93.3268 196.158 96.8916 Q197.987 100.433 201.598 100.433 Q205.232 100.433 207.037 96.8916 Q208.866 93.3268 208.866 86.2204 Q208.866 79.0908 207.037 75.5492 Q205.232 71.9844 201.598 71.9844 M201.598 68.2807 Q207.408 68.2807 210.463 72.8871 Q213.542 77.4704 213.542 86.2204 Q213.542 94.9472 210.463 99.5537 Q207.408 104.137 201.598 104.137 Q195.787 104.137 192.709 99.5537 Q189.653 94.9472 189.653 86.2204 Q189.653 77.4704 192.709 72.8871 Q195.787 68.2807 201.598 68.2807 Z\" fill=\"#000000\" fill-rule=\"evenodd\" fill-opacity=\"1\" /><path clip-path=\"url(#clip300)\" d=\"M67.3143 740.496 Q73.68 742.978 75.6216 745.333 Q77.5631 747.689 77.5631 751.635 L77.5631 756.314 L72.6615 756.314 L72.6615 752.877 Q72.6615 750.458 71.5157 749.121 Q70.3699 747.784 66.1048 746.161 L63.4312 745.111 L28.3562 759.529 L28.3562 753.322 L56.238 742.182 L28.3562 731.042 L28.3562 724.836 L67.3143 740.496 Z\" fill=\"#000000\" fill-rule=\"evenodd\" fill-opacity=\"1\" /><path clip-path=\"url(#clip300)\" d=\"M28.3562 716.751 L28.3562 710.895 L64.6407 710.895 Q71.452 710.895 74.5076 713.505 Q77.5631 716.083 77.5631 721.844 L77.5631 724.072 L72.5979 724.072 L72.5979 722.512 Q72.5979 719.17 71.0383 717.961 Q69.5105 716.751 64.6407 716.751 L28.3562 716.751 M14.479 716.751 L14.479 710.895 L21.895 710.895 L21.895 716.751 L14.479 716.751 Z\" fill=\"#000000\" fill-rule=\"evenodd\" fill-opacity=\"1\" /><polyline clip-path=\"url(#clip302)\" style=\"stroke:#009af9; stroke-linecap:butt; stroke-linejoin:round; stroke-width:4; stroke-opacity:1; fill:none\" points=\"\n",
       "  309.067,86.1857 309.067,86.1857 309.067,86.1857 309.067,86.1857 309.067,86.1857 309.067,86.1857 309.067,86.1857 309.067,86.1857 309.067,86.1857 309.067,86.1857 \n",
       "  309.067,86.1857 309.067,86.1857 309.067,86.1857 309.067,86.1858 309.067,86.1859 309.067,86.1862 309.067,86.1867 309.068,86.1877 309.068,86.1897 309.069,86.1937 \n",
       "  309.072,86.2017 309.076,86.2178 309.086,86.2498 309.105,86.314 309.142,86.4423 309.218,86.6988 309.293,86.9552 309.444,87.4678 309.595,87.9799 309.746,88.4917 \n",
       "  310.048,89.5142 310.35,90.5352 310.652,91.5547 310.954,92.5726 311.558,94.6041 312.766,98.6492 313.974,102.671 315.182,106.668 317.597,114.594 320.013,122.427 \n",
       "  324.844,137.82 329.676,152.856 334.507,167.543 339.339,181.89 344.17,195.904 353.833,222.967 363.496,248.793 382.821,296.963 400.214,336.641 422.425,382.72 \n",
       "  444.636,424.154 466.847,461.429 489.058,494.98 511.269,525.196 555.691,576.983 595.071,614.778 634.451,646.329 673.831,672.724 713.211,694.862 752.591,713.477 \n",
       "  831.351,742.497 902.235,761.598 973.118,775.956 1044,786.868 1114.89,795.277 1185.77,801.866 1256.65,807.124 1398.42,814.904 1540.19,820.384 1681.96,824.645 \n",
       "  1823.72,828.073 1965.49,830.85 2107.26,833.144 2249.03,835.102 2293.23,835.66 \n",
       "  \"/>\n",
       "<polyline clip-path=\"url(#clip302)\" style=\"stroke:#e26f46; stroke-linecap:butt; stroke-linejoin:round; stroke-width:4; stroke-opacity:1; fill:none\" points=\"\n",
       "  309.067,1384.24 309.067,1384.24 309.067,1384.24 309.067,1384.24 309.067,1384.24 309.067,1384.24 309.067,1384.24 309.067,1384.24 309.067,1384.24 309.067,1384.24 \n",
       "  309.067,1384.24 309.067,1384.24 309.067,1384.24 309.067,1384.24 309.067,1384.24 309.067,1384.24 309.067,1384.24 309.068,1384.24 309.068,1384.24 309.069,1384.23 \n",
       "  309.072,1384.23 309.076,1384.22 309.086,1384.21 309.105,1384.17 309.142,1384.11 309.218,1383.98 309.293,1383.85 309.444,1383.6 309.595,1383.34 309.746,1383.09 \n",
       "  310.048,1382.57 310.35,1382.07 310.652,1381.56 310.954,1381.05 311.558,1380.03 312.766,1378.02 313.974,1376.02 315.182,1374.03 317.597,1370.1 320.013,1366.23 \n",
       "  324.844,1358.65 329.676,1351.28 334.507,1344.12 339.339,1337.17 344.17,1330.41 353.833,1317.47 363.496,1305.26 382.821,1282.84 400.214,1264.77 422.425,1244.25 \n",
       "  444.636,1226.3 466.847,1210.6 489.058,1196.88 511.269,1184.91 555.691,1165.4 595.071,1152.19 634.451,1142.02 673.831,1134.32 713.211,1128.6 752.591,1124.47 \n",
       "  831.351,1119.77 902.235,1118.42 973.118,1118.89 1044,1120.54 1114.89,1122.95 1185.77,1125.79 1256.65,1128.87 1398.42,1135.19 1540.19,1141.25 1681.96,1146.7 \n",
       "  1823.72,1151.52 1965.49,1155.75 2107.26,1159.44 2249.03,1162.62 2293.23,1163.51 \n",
       "  \"/>\n",
       "<polyline clip-path=\"url(#clip302)\" style=\"stroke:#3da44d; stroke-linecap:butt; stroke-linejoin:round; stroke-width:4; stroke-opacity:1; fill:none\" points=\"\n",
       "  309.067,1384.24 309.067,1384.24 309.067,1384.24 309.067,1384.24 309.067,1384.24 309.067,1384.24 309.067,1384.24 309.067,1384.24 309.067,1384.24 309.067,1384.24 \n",
       "  309.067,1384.24 309.067,1384.24 309.067,1384.24 309.067,1384.24 309.067,1384.24 309.067,1384.24 309.067,1384.24 309.068,1384.24 309.068,1384.24 309.069,1384.24 \n",
       "  309.072,1384.24 309.076,1384.24 309.086,1384.24 309.105,1384.24 309.142,1384.24 309.218,1384.24 309.293,1384.24 309.444,1384.24 309.595,1384.24 309.746,1384.24 \n",
       "  310.048,1384.24 310.35,1384.24 310.652,1384.24 310.954,1384.24 311.558,1384.23 312.766,1384.23 313.974,1384.22 315.182,1384.22 317.597,1384.19 320.013,1384.17 \n",
       "  324.844,1384.09 329.676,1383.99 334.507,1383.86 339.339,1383.72 344.17,1383.55 353.833,1383.15 363.496,1382.69 382.821,1381.58 400.214,1380.4 422.425,1378.72 \n",
       "  444.636,1376.87 466.847,1374.92 489.058,1372.88 511.269,1370.79 555.691,1366.53 595.071,1362.74 634.451,1359 673.831,1355.34 713.211,1351.77 752.591,1348.32 \n",
       "  831.351,1341.78 902.235,1336.31 973.118,1331.22 1044,1326.48 1114.89,1322.07 1185.77,1317.97 1256.65,1314.17 1398.42,1307.36 1540.19,1301.5 1681.96,1296.44 \n",
       "  1823.72,1292.09 1965.49,1288.34 2107.26,1285.12 2249.03,1282.35 2293.23,1281.57 \n",
       "  \"/>\n",
       "<polyline clip-path=\"url(#clip302)\" style=\"stroke:#c271d2; stroke-linecap:butt; stroke-linejoin:round; stroke-width:4; stroke-opacity:1; fill:none\" points=\"\n",
       "  309.067,1384.24 309.067,1384.24 309.067,1384.24 309.067,1384.24 309.067,1384.24 309.067,1384.24 309.067,1384.24 309.067,1384.24 309.067,1384.24 309.067,1384.24 \n",
       "  309.067,1384.24 309.067,1384.24 309.067,1384.24 309.067,1384.24 309.067,1384.24 309.067,1384.24 309.067,1384.24 309.068,1384.24 309.068,1384.24 309.069,1384.23 \n",
       "  309.072,1384.23 309.076,1384.22 309.086,1384.21 309.105,1384.17 309.142,1384.11 309.218,1383.98 309.293,1383.85 309.444,1383.6 309.595,1383.34 309.746,1383.09 \n",
       "  310.048,1382.57 310.35,1382.06 310.652,1381.55 310.954,1381.04 311.558,1380.03 312.766,1378 313.974,1375.99 315.182,1373.99 317.597,1370.01 320.013,1366.08 \n",
       "  324.844,1358.35 329.676,1350.78 334.507,1343.37 339.339,1336.13 344.17,1329.03 353.833,1315.31 363.496,1302.16 382.821,1277.52 400.214,1257.09 422.425,1233.21 \n",
       "  444.636,1211.57 466.847,1191.96 489.058,1174.16 511.269,1158.01 555.691,1129.98 595.071,1109.19 634.451,1091.55 673.831,1076.52 713.211,1063.67 752.591,1052.63 \n",
       "  831.351,1034.85 902.235,1022.57 973.118,1012.84 1044,1005.02 1114.89,998.608 1185.77,993.266 1256.65,988.736 1398.42,981.441 1540.19,975.767 1681.96,971.11 \n",
       "  1823.72,967.22 1965.49,963.958 2107.26,961.199 2249.03,958.835 2293.23,958.165 \n",
       "  \"/>\n",
       "<path clip-path=\"url(#clip300)\" d=\"\n",
       "M1988.61 352.309 L2282.65 352.309 L2282.65 93.1086 L1988.61 93.1086  Z\n",
       "  \" fill=\"#ffffff\" fill-rule=\"evenodd\" fill-opacity=\"1\"/>\n",
       "<polyline clip-path=\"url(#clip300)\" style=\"stroke:#000000; stroke-linecap:butt; stroke-linejoin:round; stroke-width:4; stroke-opacity:1; fill:none\" points=\"\n",
       "  1988.61,352.309 2282.65,352.309 2282.65,93.1086 1988.61,93.1086 1988.61,352.309 \n",
       "  \"/>\n",
       "<polyline clip-path=\"url(#clip300)\" style=\"stroke:#009af9; stroke-linecap:butt; stroke-linejoin:round; stroke-width:4; stroke-opacity:1; fill:none\" points=\"\n",
       "  2011.98,144.949 2152.19,144.949 \n",
       "  \"/>\n",
       "<path clip-path=\"url(#clip300)\" d=\"M2189.41 164.636 Q2187.6 169.266 2185.89 170.678 Q2184.17 172.09 2181.3 172.09 L2177.9 172.09 L2177.9 168.525 L2180.4 168.525 Q2182.16 168.525 2183.13 167.692 Q2184.11 166.858 2185.29 163.756 L2186.05 161.812 L2175.56 136.303 L2180.08 136.303 L2188.18 156.581 L2196.28 136.303 L2200.8 136.303 L2189.41 164.636 Z\" fill=\"#000000\" fill-rule=\"evenodd\" fill-opacity=\"1\" /><path clip-path=\"url(#clip300)\" d=\"M2211.54 145.724 L2211.54 158.386 L2219.04 158.386 Q2222.81 158.386 2224.61 156.835 Q2226.44 155.261 2226.44 152.043 Q2226.44 148.803 2224.61 147.275 Q2222.81 145.724 2219.04 145.724 L2211.54 145.724 M2211.54 131.511 L2211.54 141.928 L2218.46 141.928 Q2221.88 141.928 2223.55 140.655 Q2225.24 139.358 2225.24 136.719 Q2225.24 134.104 2223.55 132.807 Q2221.88 131.511 2218.46 131.511 L2211.54 131.511 M2206.86 127.669 L2218.8 127.669 Q2224.15 127.669 2227.04 129.891 Q2229.94 132.113 2229.94 136.21 Q2229.94 139.382 2228.46 141.257 Q2226.98 143.131 2224.11 143.594 Q2227.55 144.335 2229.45 146.696 Q2231.37 149.034 2231.37 152.553 Q2231.37 157.182 2228.23 159.705 Q2225.08 162.229 2219.27 162.229 L2206.86 162.229 L2206.86 127.669 Z\" fill=\"#000000\" fill-rule=\"evenodd\" fill-opacity=\"1\" /><polyline clip-path=\"url(#clip300)\" style=\"stroke:#e26f46; stroke-linecap:butt; stroke-linejoin:round; stroke-width:4; stroke-opacity:1; fill:none\" points=\"\n",
       "  2011.98,196.789 2152.19,196.789 \n",
       "  \"/>\n",
       "<path clip-path=\"url(#clip300)\" d=\"M2189.41 216.476 Q2187.6 221.106 2185.89 222.518 Q2184.17 223.93 2181.3 223.93 L2177.9 223.93 L2177.9 220.365 L2180.4 220.365 Q2182.16 220.365 2183.13 219.532 Q2184.11 218.698 2185.29 215.596 L2186.05 213.652 L2175.56 188.143 L2180.08 188.143 L2188.18 208.421 L2196.28 188.143 L2200.8 188.143 L2189.41 216.476 Z\" fill=\"#000000\" fill-rule=\"evenodd\" fill-opacity=\"1\" /><path clip-path=\"url(#clip300)\" d=\"M2211.54 183.351 L2211.54 210.226 L2217.18 210.226 Q2224.34 210.226 2227.65 206.985 Q2230.98 203.745 2230.98 196.754 Q2230.98 189.809 2227.65 186.592 Q2224.34 183.351 2217.18 183.351 L2211.54 183.351 M2206.86 179.509 L2216.47 179.509 Q2226.51 179.509 2231.21 183.698 Q2235.91 187.865 2235.91 196.754 Q2235.91 205.689 2231.19 209.879 Q2226.47 214.069 2216.47 214.069 L2206.86 214.069 L2206.86 179.509 Z\" fill=\"#000000\" fill-rule=\"evenodd\" fill-opacity=\"1\" /><polyline clip-path=\"url(#clip300)\" style=\"stroke:#3da44d; stroke-linecap:butt; stroke-linejoin:round; stroke-width:4; stroke-opacity:1; fill:none\" points=\"\n",
       "  2011.98,248.629 2152.19,248.629 \n",
       "  \"/>\n",
       "<path clip-path=\"url(#clip300)\" d=\"M2189.41 268.316 Q2187.6 272.946 2185.89 274.358 Q2184.17 275.77 2181.3 275.77 L2177.9 275.77 L2177.9 272.205 L2180.4 272.205 Q2182.16 272.205 2183.13 271.372 Q2184.11 270.538 2185.29 267.436 L2186.05 265.492 L2175.56 239.983 L2180.08 239.983 L2188.18 260.261 L2196.28 239.983 L2200.8 239.983 L2189.41 268.316 Z\" fill=\"#000000\" fill-rule=\"evenodd\" fill-opacity=\"1\" /><path clip-path=\"url(#clip300)\" d=\"M2202.07 231.349 L2231.3 231.349 L2231.3 235.284 L2219.04 235.284 L2219.04 265.909 L2214.34 265.909 L2214.34 235.284 L2202.07 235.284 L2202.07 231.349 Z\" fill=\"#000000\" fill-rule=\"evenodd\" fill-opacity=\"1\" /><polyline clip-path=\"url(#clip300)\" style=\"stroke:#c271d2; stroke-linecap:butt; stroke-linejoin:round; stroke-width:4; stroke-opacity:1; fill:none\" points=\"\n",
       "  2011.98,300.469 2152.19,300.469 \n",
       "  \"/>\n",
       "<path clip-path=\"url(#clip300)\" d=\"M2189.41 320.156 Q2187.6 324.786 2185.89 326.198 Q2184.17 327.61 2181.3 327.61 L2177.9 327.61 L2177.9 324.045 L2180.4 324.045 Q2182.16 324.045 2183.13 323.212 Q2184.11 322.378 2185.29 319.276 L2186.05 317.332 L2175.56 291.823 L2180.08 291.823 L2188.18 312.101 L2196.28 291.823 L2200.8 291.823 L2189.41 320.156 Z\" fill=\"#000000\" fill-rule=\"evenodd\" fill-opacity=\"1\" /><path clip-path=\"url(#clip300)\" d=\"M2206.86 283.189 L2211.54 283.189 L2211.54 297.355 L2228.53 297.355 L2228.53 283.189 L2233.2 283.189 L2233.2 317.749 L2228.53 317.749 L2228.53 301.29 L2211.54 301.29 L2211.54 317.749 L2206.86 317.749 L2206.86 283.189 Z\" fill=\"#000000\" fill-rule=\"evenodd\" fill-opacity=\"1\" /></svg>\n"
      ]
     },
     "execution_count": 87,
     "metadata": {},
     "output_type": "execute_result"
    }
   ],
   "source": [
    "plot(sol.t, [yB, yD, yT, yH], labels = [\"yB\" \"yD\" \"yT\" \"yH\"], xlabel = \"V(L)\", ylabel = \"yj\")"
   ]
  },
  {
   "cell_type": "markdown",
   "id": "latest-things",
   "metadata": {},
   "source": [
    "## Automatic Stopping Times"
   ]
  },
  {
   "cell_type": "code",
   "execution_count": 88,
   "id": "tutorial-shopper",
   "metadata": {},
   "outputs": [
    {
     "data": {
      "text/plain": [
       "8-element SLArray{Tuple{8}, Float64, 1, 8, (:NBf, :R, :T, :P, :k1, :k2, :K1, :K2)} with indices SOneTo(8):\n",
       " :NBf => 60000.0\n",
       "   :R => 0.08205\n",
       "   :T => 1033.0\n",
       "   :P => 1.0\n",
       "  :k1 => 700000.0\n",
       "  :k2 => 400000.0\n",
       "  :K1 => 0.31\n",
       "  :K2 => 0.48"
      ]
     },
     "execution_count": 88,
     "metadata": {},
     "output_type": "execute_result"
    }
   ],
   "source": [
    "p = SLVector((\n",
    "    NBf = 60.0e3,\n",
    "    R = 0.08205,\n",
    "    T = 1033.0,\n",
    "    P = 1.0,\n",
    "    k1 = 7.0e5,\n",
    "    k2 = 4.0e5,\n",
    "    K1 = 0.31,\n",
    "    K2 = 0.48   \n",
    "        ))"
   ]
  },
  {
   "cell_type": "code",
   "execution_count": 89,
   "id": "celtic-apparatus",
   "metadata": {},
   "outputs": [
    {
     "data": {
      "text/plain": [
       "xdot! (generic function with 1 method)"
      ]
     },
     "execution_count": 89,
     "metadata": {},
     "output_type": "execute_result"
    }
   ],
   "source": [
    "function xdot!(dext, ext, p, v)\n",
    "    NB = p.NBf - 2*ext[1] - ext[2]\n",
    "    ND = ext[1] - ext[2]\n",
    "    NH = ext[1] + ext[2]\n",
    "    NT = ext[2]\n",
    "    Q = p.NBf * p.R * p.T / p.P\n",
    "    cB = NB / Q\n",
    "    cD = ND / Q\n",
    "    cH = NH / Q\n",
    "    cT = NT / Q\n",
    "    dext[1] = p.k1 * (cB * cB - cD * cH / p.K1)\n",
    "    dext[2] = p.k2 * (cB * cD - cT * cH / p.K2)\n",
    "end"
   ]
  },
  {
   "cell_type": "code",
   "execution_count": 96,
   "id": "exclusive-fight",
   "metadata": {},
   "outputs": [
    {
     "data": {
      "text/plain": [
       "condition (generic function with 1 method)"
      ]
     },
     "execution_count": 96,
     "metadata": {},
     "output_type": "execute_result"
    }
   ],
   "source": [
    "function condition(u, t, integrator)\n",
    "    conv = (2*u[1] + u[2])/integrator.p.NBf\n",
    "    conv - 0.5 > 0.0\n",
    "end"
   ]
  },
  {
   "cell_type": "code",
   "execution_count": 97,
   "id": "reserved-vacuum",
   "metadata": {},
   "outputs": [
    {
     "data": {
      "text/plain": [
       "\u001b[36mODEProblem\u001b[0m with uType \u001b[36mVector{Float64}\u001b[0m and tType \u001b[36mFloat64\u001b[0m. In-place: \u001b[36mtrue\u001b[0m\n",
       "timespan: (0.0, 1600.0)\n",
       "u0: 2-element Vector{Float64}:\n",
       " 0.0\n",
       " 0.0"
      ]
     },
     "execution_count": 97,
     "metadata": {},
     "output_type": "execute_result"
    }
   ],
   "source": [
    "ext0 = [0.0, 0.0]\n",
    "vspan = (0.0, 1600.0)\n",
    "prob = ODEProblem(xdot!, ext0, vspan, p)"
   ]
  },
  {
   "cell_type": "code",
   "execution_count": 98,
   "id": "nuclear-irish",
   "metadata": {},
   "outputs": [
    {
     "data": {
      "text/plain": [
       "DiscreteCallback{typeof(condition), typeof(affect!), typeof(DiffEqBase.INITIALIZE_DEFAULT), typeof(DiffEqBase.FINALIZE_DEFAULT)}(condition, affect!, DiffEqBase.INITIALIZE_DEFAULT, DiffEqBase.FINALIZE_DEFAULT, Bool[1, 1])"
      ]
     },
     "execution_count": 98,
     "metadata": {},
     "output_type": "execute_result"
    }
   ],
   "source": [
    "affect!(integrator) = terminate!(integrator)\n",
    "cb = DiscreteCallback(condition, affect!)"
   ]
  },
  {
   "cell_type": "code",
   "execution_count": 99,
   "id": "balanced-feeling",
   "metadata": {},
   "outputs": [
    {
     "data": {
      "text/plain": [
       "retcode: Terminated\n",
       "Interpolation: specialized 3rd order \"free\" stiffness-aware interpolation\n",
       "t: 27-element Vector{Float64}:\n",
       "   0.0\n",
       "   9.999999999999999e-5\n",
       "   0.0010999999999999998\n",
       "   0.011099999999999997\n",
       "   0.11109999999999996\n",
       "   0.41899167885700245\n",
       "   1.0048478199647597\n",
       "   1.9542705623327785\n",
       "   3.4205187637984684\n",
       "   5.582596679385624\n",
       "   8.655673963960684\n",
       "  12.88197439027192\n",
       "  18.534430710491755\n",
       "   ⋮\n",
       "  47.21801944077377\n",
       "  61.92774301589064\n",
       "  79.95866223875963\n",
       " 101.87549911658073\n",
       " 128.36332979829135\n",
       " 160.2796165203439\n",
       " 198.72609726242598\n",
       " 245.15444897921904\n",
       " 301.50766328721284\n",
       " 370.3749718374365\n",
       " 455.0409919547401\n",
       " 455.0409919547401\n",
       "u: 27-element Vector{Vector{Float64}}:\n",
       " [0.0, 0.0]\n",
       " [0.009744063043051449, 4.521275343295342e-10]\n",
       " [0.10718434533613048, 5.470717781052132e-8]\n",
       " [1.0815523553813309, 5.570379031926199e-6]\n",
       " [10.821752025068879, 0.0005577831816612893]\n",
       " [40.771317251152794, 0.007921874101652439]\n",
       " [97.59418319232023, 0.04544003075885472]\n",
       " [189.22191698055974, 0.17111935483699686]\n",
       " [329.62266403547864, 0.5206823709989484]\n",
       " [534.229523019466, 1.3732155822425594]\n",
       " [820.152148524395, 3.255007552006781]\n",
       " [1204.1784514834749, 7.072249188263328]\n",
       " [1701.6234973583717, 14.271504017980083]\n",
       " ⋮\n",
       " [3963.7819626486644, 81.6872801059155]\n",
       " [4971.361010125521, 132.05881990834294]\n",
       " [6083.338681595405, 204.470320426167]\n",
       " [7272.954620455868, 304.33181292247133]\n",
       " [8505.30986105608, 436.9020401934291]\n",
       " [9739.117583625151, 606.9050847179506]\n",
       " [10929.038179515912, 818.2209274079306]\n",
       " [12028.723428592073, 1073.7251316248253]\n",
       " [12994.296137508612, 1375.2124457605014]\n",
       " [13788.367915892617, 1723.1277855158082]\n",
       " [14385.154571555086, 2115.430088947278]\n",
       " [14385.154571555086, 2115.430088947278]"
      ]
     },
     "execution_count": 99,
     "metadata": {},
     "output_type": "execute_result"
    }
   ],
   "source": [
    "sol = de.solve(prob, Rodas4(), callback = cb)"
   ]
  },
  {
   "cell_type": "code",
   "execution_count": 100,
   "id": "mobile-filling",
   "metadata": {},
   "outputs": [
    {
     "data": {
      "text/plain": [
       "27-element Vector{Float64}:\n",
       " 0.0\n",
       " 1.6240105825298306e-7\n",
       " 1.7864066673884716e-6\n",
       " 1.802596542933938e-5\n",
       " 0.000180371830137509\n",
       " 0.0006796539854209075\n",
       " 0.0016273270537179847\n",
       " 0.0031565506055899455\n",
       " 0.005502389106774626\n",
       " 0.008926712310028477\n",
       " 0.013723452601273363\n",
       " 0.020187511677862306\n",
       " 0.028598250022939194\n",
       " ⋮\n",
       " 0.06742448737924299\n",
       " 0.08505699716723107\n",
       " 0.10479681670035954\n",
       " 0.12628810722297235\n",
       " 0.14903686502082514\n",
       " 0.1724337111390517\n",
       " 0.19578765178206403\n",
       " 0.21837414267028166\n",
       " 0.23949180972115192\n",
       " 0.25852492835680707\n",
       " 0.27500974434170605\n",
       " 0.27500974434170605"
      ]
     },
     "execution_count": 100,
     "metadata": {},
     "output_type": "execute_result"
    }
   ],
   "source": [
    "conv = [(2*u[1] + u[2])/p.NBf for u in sol.u]\n",
    "yB = [(p.NBf - 2*u[1] - u[2])/p.NBf for u in sol.u]\n",
    "yD = [(u[1] - u[2])/p.NBf for u in sol.u]\n",
    "yT = [u[2]/p.NBf for u in sol.u]\n",
    "yH = [(u[1] + u[2])/p.NBf for u in sol.u]"
   ]
  },
  {
   "cell_type": "code",
   "execution_count": 101,
   "id": "worldwide-brook",
   "metadata": {},
   "outputs": [
    {
     "data": {
      "image/svg+xml": [
       "<?xml version=\"1.0\" encoding=\"utf-8\"?>\n",
       "<svg xmlns=\"http://www.w3.org/2000/svg\" xmlns:xlink=\"http://www.w3.org/1999/xlink\" width=\"600\" height=\"400\" viewBox=\"0 0 2400 1600\">\n",
       "<defs>\n",
       "  <clipPath id=\"clip340\">\n",
       "    <rect x=\"0\" y=\"0\" width=\"2400\" height=\"1600\"/>\n",
       "  </clipPath>\n",
       "</defs>\n",
       "<path clip-path=\"url(#clip340)\" d=\"\n",
       "M0 1600 L2400 1600 L2400 0 L0 0  Z\n",
       "  \" fill=\"#ffffff\" fill-rule=\"evenodd\" fill-opacity=\"1\"/>\n",
       "<defs>\n",
       "  <clipPath id=\"clip341\">\n",
       "    <rect x=\"480\" y=\"0\" width=\"1681\" height=\"1600\"/>\n",
       "  </clipPath>\n",
       "</defs>\n",
       "<path clip-path=\"url(#clip340)\" d=\"\n",
       "M219.866 1423.18 L2352.76 1423.18 L2352.76 47.2441 L219.866 47.2441  Z\n",
       "  \" fill=\"#ffffff\" fill-rule=\"evenodd\" fill-opacity=\"1\"/>\n",
       "<defs>\n",
       "  <clipPath id=\"clip342\">\n",
       "    <rect x=\"219\" y=\"47\" width=\"2134\" height=\"1377\"/>\n",
       "  </clipPath>\n",
       "</defs>\n",
       "<polyline clip-path=\"url(#clip342)\" style=\"stroke:#000000; stroke-linecap:butt; stroke-linejoin:round; stroke-width:2; stroke-opacity:0.1; fill:none\" points=\"\n",
       "  280.231,1423.18 280.231,47.2441 \n",
       "  \"/>\n",
       "<polyline clip-path=\"url(#clip342)\" style=\"stroke:#000000; stroke-linecap:butt; stroke-linejoin:round; stroke-width:2; stroke-opacity:0.1; fill:none\" points=\"\n",
       "  722.424,1423.18 722.424,47.2441 \n",
       "  \"/>\n",
       "<polyline clip-path=\"url(#clip342)\" style=\"stroke:#000000; stroke-linecap:butt; stroke-linejoin:round; stroke-width:2; stroke-opacity:0.1; fill:none\" points=\"\n",
       "  1164.62,1423.18 1164.62,47.2441 \n",
       "  \"/>\n",
       "<polyline clip-path=\"url(#clip342)\" style=\"stroke:#000000; stroke-linecap:butt; stroke-linejoin:round; stroke-width:2; stroke-opacity:0.1; fill:none\" points=\"\n",
       "  1606.81,1423.18 1606.81,47.2441 \n",
       "  \"/>\n",
       "<polyline clip-path=\"url(#clip342)\" style=\"stroke:#000000; stroke-linecap:butt; stroke-linejoin:round; stroke-width:2; stroke-opacity:0.1; fill:none\" points=\"\n",
       "  2049,1423.18 2049,47.2441 \n",
       "  \"/>\n",
       "<polyline clip-path=\"url(#clip340)\" style=\"stroke:#000000; stroke-linecap:butt; stroke-linejoin:round; stroke-width:4; stroke-opacity:1; fill:none\" points=\"\n",
       "  219.866,1423.18 2352.76,1423.18 \n",
       "  \"/>\n",
       "<polyline clip-path=\"url(#clip340)\" style=\"stroke:#000000; stroke-linecap:butt; stroke-linejoin:round; stroke-width:4; stroke-opacity:1; fill:none\" points=\"\n",
       "  280.231,1423.18 280.231,1404.28 \n",
       "  \"/>\n",
       "<polyline clip-path=\"url(#clip340)\" style=\"stroke:#000000; stroke-linecap:butt; stroke-linejoin:round; stroke-width:4; stroke-opacity:1; fill:none\" points=\"\n",
       "  722.424,1423.18 722.424,1404.28 \n",
       "  \"/>\n",
       "<polyline clip-path=\"url(#clip340)\" style=\"stroke:#000000; stroke-linecap:butt; stroke-linejoin:round; stroke-width:4; stroke-opacity:1; fill:none\" points=\"\n",
       "  1164.62,1423.18 1164.62,1404.28 \n",
       "  \"/>\n",
       "<polyline clip-path=\"url(#clip340)\" style=\"stroke:#000000; stroke-linecap:butt; stroke-linejoin:round; stroke-width:4; stroke-opacity:1; fill:none\" points=\"\n",
       "  1606.81,1423.18 1606.81,1404.28 \n",
       "  \"/>\n",
       "<polyline clip-path=\"url(#clip340)\" style=\"stroke:#000000; stroke-linecap:butt; stroke-linejoin:round; stroke-width:4; stroke-opacity:1; fill:none\" points=\"\n",
       "  2049,1423.18 2049,1404.28 \n",
       "  \"/>\n",
       "<path clip-path=\"url(#clip340)\" d=\"M280.231 1452.37 Q276.62 1452.37 274.791 1455.94 Q272.986 1459.48 272.986 1466.61 Q272.986 1473.71 274.791 1477.28 Q276.62 1480.82 280.231 1480.82 Q283.865 1480.82 285.671 1477.28 Q287.5 1473.71 287.5 1466.61 Q287.5 1459.48 285.671 1455.94 Q283.865 1452.37 280.231 1452.37 M280.231 1448.67 Q286.041 1448.67 289.097 1453.27 Q292.175 1457.86 292.175 1466.61 Q292.175 1475.33 289.097 1479.94 Q286.041 1484.52 280.231 1484.52 Q274.421 1484.52 271.342 1479.94 Q268.287 1475.33 268.287 1466.61 Q268.287 1457.86 271.342 1453.27 Q274.421 1448.67 280.231 1448.67 Z\" fill=\"#000000\" fill-rule=\"evenodd\" fill-opacity=\"1\" /><path clip-path=\"url(#clip340)\" d=\"M682.031 1479.92 L689.67 1479.92 L689.67 1453.55 L681.36 1455.22 L681.36 1450.96 L689.623 1449.29 L694.299 1449.29 L694.299 1479.92 L701.938 1479.92 L701.938 1483.85 L682.031 1483.85 L682.031 1479.92 Z\" fill=\"#000000\" fill-rule=\"evenodd\" fill-opacity=\"1\" /><path clip-path=\"url(#clip340)\" d=\"M721.383 1452.37 Q717.771 1452.37 715.943 1455.94 Q714.137 1459.48 714.137 1466.61 Q714.137 1473.71 715.943 1477.28 Q717.771 1480.82 721.383 1480.82 Q725.017 1480.82 726.822 1477.28 Q728.651 1473.71 728.651 1466.61 Q728.651 1459.48 726.822 1455.94 Q725.017 1452.37 721.383 1452.37 M721.383 1448.67 Q727.193 1448.67 730.248 1453.27 Q733.327 1457.86 733.327 1466.61 Q733.327 1475.33 730.248 1479.94 Q727.193 1484.52 721.383 1484.52 Q715.572 1484.52 712.494 1479.94 Q709.438 1475.33 709.438 1466.61 Q709.438 1457.86 712.494 1453.27 Q715.572 1448.67 721.383 1448.67 Z\" fill=\"#000000\" fill-rule=\"evenodd\" fill-opacity=\"1\" /><path clip-path=\"url(#clip340)\" d=\"M751.544 1452.37 Q747.933 1452.37 746.105 1455.94 Q744.299 1459.48 744.299 1466.61 Q744.299 1473.71 746.105 1477.28 Q747.933 1480.82 751.544 1480.82 Q755.179 1480.82 756.984 1477.28 Q758.813 1473.71 758.813 1466.61 Q758.813 1459.48 756.984 1455.94 Q755.179 1452.37 751.544 1452.37 M751.544 1448.67 Q757.355 1448.67 760.41 1453.27 Q763.489 1457.86 763.489 1466.61 Q763.489 1475.33 760.41 1479.94 Q757.355 1484.52 751.544 1484.52 Q745.734 1484.52 742.656 1479.94 Q739.6 1475.33 739.6 1466.61 Q739.6 1457.86 742.656 1453.27 Q745.734 1448.67 751.544 1448.67 Z\" fill=\"#000000\" fill-rule=\"evenodd\" fill-opacity=\"1\" /><path clip-path=\"url(#clip340)\" d=\"M1128.31 1479.92 L1144.63 1479.92 L1144.63 1483.85 L1122.68 1483.85 L1122.68 1479.92 Q1125.35 1477.16 1129.93 1472.53 Q1134.54 1467.88 1135.72 1466.54 Q1137.96 1464.01 1138.84 1462.28 Q1139.74 1460.52 1139.74 1458.83 Q1139.74 1456.07 1137.8 1454.34 Q1135.88 1452.6 1132.78 1452.6 Q1130.58 1452.6 1128.12 1453.37 Q1125.69 1454.13 1122.92 1455.68 L1122.92 1450.96 Q1125.74 1449.82 1128.19 1449.25 Q1130.65 1448.67 1132.68 1448.67 Q1138.05 1448.67 1141.25 1451.35 Q1144.44 1454.04 1144.44 1458.53 Q1144.44 1460.66 1143.63 1462.58 Q1142.85 1464.48 1140.74 1467.07 Q1140.16 1467.74 1137.06 1470.96 Q1133.96 1474.15 1128.31 1479.92 Z\" fill=\"#000000\" fill-rule=\"evenodd\" fill-opacity=\"1\" /><path clip-path=\"url(#clip340)\" d=\"M1164.44 1452.37 Q1160.83 1452.37 1159 1455.94 Q1157.2 1459.48 1157.2 1466.61 Q1157.2 1473.71 1159 1477.28 Q1160.83 1480.82 1164.44 1480.82 Q1168.08 1480.82 1169.88 1477.28 Q1171.71 1473.71 1171.71 1466.61 Q1171.71 1459.48 1169.88 1455.94 Q1168.08 1452.37 1164.44 1452.37 M1164.44 1448.67 Q1170.25 1448.67 1173.31 1453.27 Q1176.39 1457.86 1176.39 1466.61 Q1176.39 1475.33 1173.31 1479.94 Q1170.25 1484.52 1164.44 1484.52 Q1158.63 1484.52 1155.55 1479.94 Q1152.5 1475.33 1152.5 1466.61 Q1152.5 1457.86 1155.55 1453.27 Q1158.63 1448.67 1164.44 1448.67 Z\" fill=\"#000000\" fill-rule=\"evenodd\" fill-opacity=\"1\" /><path clip-path=\"url(#clip340)\" d=\"M1194.61 1452.37 Q1190.99 1452.37 1189.17 1455.94 Q1187.36 1459.48 1187.36 1466.61 Q1187.36 1473.71 1189.17 1477.28 Q1190.99 1480.82 1194.61 1480.82 Q1198.24 1480.82 1200.05 1477.28 Q1201.87 1473.71 1201.87 1466.61 Q1201.87 1459.48 1200.05 1455.94 Q1198.24 1452.37 1194.61 1452.37 M1194.61 1448.67 Q1200.42 1448.67 1203.47 1453.27 Q1206.55 1457.86 1206.55 1466.61 Q1206.55 1475.33 1203.47 1479.94 Q1200.42 1484.52 1194.61 1484.52 Q1188.8 1484.52 1185.72 1479.94 Q1182.66 1475.33 1182.66 1466.61 Q1182.66 1457.86 1185.72 1453.27 Q1188.8 1448.67 1194.61 1448.67 Z\" fill=\"#000000\" fill-rule=\"evenodd\" fill-opacity=\"1\" /><path clip-path=\"url(#clip340)\" d=\"M1580.57 1465.22 Q1583.93 1465.94 1585.8 1468.2 Q1587.7 1470.47 1587.7 1473.81 Q1587.7 1478.92 1584.18 1481.72 Q1580.66 1484.52 1574.18 1484.52 Q1572.01 1484.52 1569.69 1484.08 Q1567.4 1483.67 1564.95 1482.81 L1564.95 1478.3 Q1566.89 1479.43 1569.21 1480.01 Q1571.52 1480.59 1574.04 1480.59 Q1578.44 1480.59 1580.73 1478.85 Q1583.05 1477.12 1583.05 1473.81 Q1583.05 1470.75 1580.9 1469.04 Q1578.77 1467.3 1574.95 1467.3 L1570.92 1467.3 L1570.92 1463.46 L1575.13 1463.46 Q1578.58 1463.46 1580.41 1462.09 Q1582.24 1460.7 1582.24 1458.11 Q1582.24 1455.45 1580.34 1454.04 Q1578.47 1452.6 1574.95 1452.6 Q1573.03 1452.6 1570.83 1453.02 Q1568.63 1453.44 1565.99 1454.31 L1565.99 1450.15 Q1568.65 1449.41 1570.97 1449.04 Q1573.3 1448.67 1575.36 1448.67 Q1580.69 1448.67 1583.79 1451.1 Q1586.89 1453.5 1586.89 1457.63 Q1586.89 1460.5 1585.25 1462.49 Q1583.6 1464.45 1580.57 1465.22 Z\" fill=\"#000000\" fill-rule=\"evenodd\" fill-opacity=\"1\" /><path clip-path=\"url(#clip340)\" d=\"M1606.57 1452.37 Q1602.96 1452.37 1601.13 1455.94 Q1599.32 1459.48 1599.32 1466.61 Q1599.32 1473.71 1601.13 1477.28 Q1602.96 1480.82 1606.57 1480.82 Q1610.2 1480.82 1612.01 1477.28 Q1613.84 1473.71 1613.84 1466.61 Q1613.84 1459.48 1612.01 1455.94 Q1610.2 1452.37 1606.57 1452.37 M1606.57 1448.67 Q1612.38 1448.67 1615.43 1453.27 Q1618.51 1457.86 1618.51 1466.61 Q1618.51 1475.33 1615.43 1479.94 Q1612.38 1484.52 1606.57 1484.52 Q1600.76 1484.52 1597.68 1479.94 Q1594.62 1475.33 1594.62 1466.61 Q1594.62 1457.86 1597.68 1453.27 Q1600.76 1448.67 1606.57 1448.67 Z\" fill=\"#000000\" fill-rule=\"evenodd\" fill-opacity=\"1\" /><path clip-path=\"url(#clip340)\" d=\"M1636.73 1452.37 Q1633.12 1452.37 1631.29 1455.94 Q1629.48 1459.48 1629.48 1466.61 Q1629.48 1473.71 1631.29 1477.28 Q1633.12 1480.82 1636.73 1480.82 Q1640.36 1480.82 1642.17 1477.28 Q1644 1473.71 1644 1466.61 Q1644 1459.48 1642.17 1455.94 Q1640.36 1452.37 1636.73 1452.37 M1636.73 1448.67 Q1642.54 1448.67 1645.59 1453.27 Q1648.67 1457.86 1648.67 1466.61 Q1648.67 1475.33 1645.59 1479.94 Q1642.54 1484.52 1636.73 1484.52 Q1630.92 1484.52 1627.84 1479.94 Q1624.78 1475.33 1624.78 1466.61 Q1624.78 1457.86 1627.84 1453.27 Q1630.92 1448.67 1636.73 1448.67 Z\" fill=\"#000000\" fill-rule=\"evenodd\" fill-opacity=\"1\" /><path clip-path=\"url(#clip340)\" d=\"M2022.09 1453.37 L2010.29 1471.81 L2022.09 1471.81 L2022.09 1453.37 M2020.87 1449.29 L2026.75 1449.29 L2026.75 1471.81 L2031.68 1471.81 L2031.68 1475.7 L2026.75 1475.7 L2026.75 1483.85 L2022.09 1483.85 L2022.09 1475.7 L2006.49 1475.7 L2006.49 1471.19 L2020.87 1449.29 Z\" fill=\"#000000\" fill-rule=\"evenodd\" fill-opacity=\"1\" /><path clip-path=\"url(#clip340)\" d=\"M2049.41 1452.37 Q2045.8 1452.37 2043.97 1455.94 Q2042.16 1459.48 2042.16 1466.61 Q2042.16 1473.71 2043.97 1477.28 Q2045.8 1480.82 2049.41 1480.82 Q2053.04 1480.82 2054.85 1477.28 Q2056.68 1473.71 2056.68 1466.61 Q2056.68 1459.48 2054.85 1455.94 Q2053.04 1452.37 2049.41 1452.37 M2049.41 1448.67 Q2055.22 1448.67 2058.27 1453.27 Q2061.35 1457.86 2061.35 1466.61 Q2061.35 1475.33 2058.27 1479.94 Q2055.22 1484.52 2049.41 1484.52 Q2043.6 1484.52 2040.52 1479.94 Q2037.46 1475.33 2037.46 1466.61 Q2037.46 1457.86 2040.52 1453.27 Q2043.6 1448.67 2049.41 1448.67 Z\" fill=\"#000000\" fill-rule=\"evenodd\" fill-opacity=\"1\" /><path clip-path=\"url(#clip340)\" d=\"M2079.57 1452.37 Q2075.96 1452.37 2074.13 1455.94 Q2072.33 1459.48 2072.33 1466.61 Q2072.33 1473.71 2074.13 1477.28 Q2075.96 1480.82 2079.57 1480.82 Q2083.2 1480.82 2085.01 1477.28 Q2086.84 1473.71 2086.84 1466.61 Q2086.84 1459.48 2085.01 1455.94 Q2083.2 1452.37 2079.57 1452.37 M2079.57 1448.67 Q2085.38 1448.67 2088.44 1453.27 Q2091.51 1457.86 2091.51 1466.61 Q2091.51 1475.33 2088.44 1479.94 Q2085.38 1484.52 2079.57 1484.52 Q2073.76 1484.52 2070.68 1479.94 Q2067.63 1475.33 2067.63 1466.61 Q2067.63 1457.86 2070.68 1453.27 Q2073.76 1448.67 2079.57 1448.67 Z\" fill=\"#000000\" fill-rule=\"evenodd\" fill-opacity=\"1\" /><path clip-path=\"url(#clip340)\" d=\"M1241.62 1568.04 L1223.48 1520.52 L1230.2 1520.52 L1245.25 1560.53 L1260.34 1520.52 L1267.02 1520.52 L1248.91 1568.04 L1241.62 1568.04 Z\" fill=\"#000000\" fill-rule=\"evenodd\" fill-opacity=\"1\" /><path clip-path=\"url(#clip340)\" d=\"M1287.78 1518.58 Q1283.51 1525.9 1281.44 1533.06 Q1279.37 1540.23 1279.37 1547.58 Q1279.37 1554.93 1281.44 1562.16 Q1283.54 1569.35 1287.78 1576.64 L1282.68 1576.64 Q1277.91 1569.16 1275.52 1561.93 Q1273.17 1554.71 1273.17 1547.58 Q1273.17 1540.48 1275.52 1533.29 Q1277.88 1526.09 1282.68 1518.58 L1287.78 1518.58 Z\" fill=\"#000000\" fill-rule=\"evenodd\" fill-opacity=\"1\" /><path clip-path=\"url(#clip340)\" d=\"M1299.39 1520.52 L1305.82 1520.52 L1305.82 1562.63 L1328.96 1562.63 L1328.96 1568.04 L1299.39 1568.04 L1299.39 1520.52 Z\" fill=\"#000000\" fill-rule=\"evenodd\" fill-opacity=\"1\" /><path clip-path=\"url(#clip340)\" d=\"M1334.53 1518.58 L1339.62 1518.58 Q1344.4 1526.09 1346.75 1533.29 Q1349.14 1540.48 1349.14 1547.58 Q1349.14 1554.71 1346.75 1561.93 Q1344.4 1569.16 1339.62 1576.64 L1334.53 1576.64 Q1338.76 1569.35 1340.83 1562.16 Q1342.93 1554.93 1342.93 1547.58 Q1342.93 1540.23 1340.83 1533.06 Q1338.76 1525.9 1334.53 1518.58 Z\" fill=\"#000000\" fill-rule=\"evenodd\" fill-opacity=\"1\" /><polyline clip-path=\"url(#clip342)\" style=\"stroke:#000000; stroke-linecap:butt; stroke-linejoin:round; stroke-width:2; stroke-opacity:0.1; fill:none\" points=\"\n",
       "  219.866,1384.24 2352.76,1384.24 \n",
       "  \"/>\n",
       "<polyline clip-path=\"url(#clip342)\" style=\"stroke:#000000; stroke-linecap:butt; stroke-linejoin:round; stroke-width:2; stroke-opacity:0.1; fill:none\" points=\"\n",
       "  219.866,1132.07 2352.76,1132.07 \n",
       "  \"/>\n",
       "<polyline clip-path=\"url(#clip342)\" style=\"stroke:#000000; stroke-linecap:butt; stroke-linejoin:round; stroke-width:2; stroke-opacity:0.1; fill:none\" points=\"\n",
       "  219.866,879.907 2352.76,879.907 \n",
       "  \"/>\n",
       "<polyline clip-path=\"url(#clip342)\" style=\"stroke:#000000; stroke-linecap:butt; stroke-linejoin:round; stroke-width:2; stroke-opacity:0.1; fill:none\" points=\"\n",
       "  219.866,627.742 2352.76,627.742 \n",
       "  \"/>\n",
       "<polyline clip-path=\"url(#clip342)\" style=\"stroke:#000000; stroke-linecap:butt; stroke-linejoin:round; stroke-width:2; stroke-opacity:0.1; fill:none\" points=\"\n",
       "  219.866,375.577 2352.76,375.577 \n",
       "  \"/>\n",
       "<polyline clip-path=\"url(#clip342)\" style=\"stroke:#000000; stroke-linecap:butt; stroke-linejoin:round; stroke-width:2; stroke-opacity:0.1; fill:none\" points=\"\n",
       "  219.866,123.411 2352.76,123.411 \n",
       "  \"/>\n",
       "<polyline clip-path=\"url(#clip340)\" style=\"stroke:#000000; stroke-linecap:butt; stroke-linejoin:round; stroke-width:4; stroke-opacity:1; fill:none\" points=\"\n",
       "  219.866,1423.18 219.866,47.2441 \n",
       "  \"/>\n",
       "<polyline clip-path=\"url(#clip340)\" style=\"stroke:#000000; stroke-linecap:butt; stroke-linejoin:round; stroke-width:4; stroke-opacity:1; fill:none\" points=\"\n",
       "  219.866,1384.24 238.764,1384.24 \n",
       "  \"/>\n",
       "<polyline clip-path=\"url(#clip340)\" style=\"stroke:#000000; stroke-linecap:butt; stroke-linejoin:round; stroke-width:4; stroke-opacity:1; fill:none\" points=\"\n",
       "  219.866,1132.07 238.764,1132.07 \n",
       "  \"/>\n",
       "<polyline clip-path=\"url(#clip340)\" style=\"stroke:#000000; stroke-linecap:butt; stroke-linejoin:round; stroke-width:4; stroke-opacity:1; fill:none\" points=\"\n",
       "  219.866,879.907 238.764,879.907 \n",
       "  \"/>\n",
       "<polyline clip-path=\"url(#clip340)\" style=\"stroke:#000000; stroke-linecap:butt; stroke-linejoin:round; stroke-width:4; stroke-opacity:1; fill:none\" points=\"\n",
       "  219.866,627.742 238.764,627.742 \n",
       "  \"/>\n",
       "<polyline clip-path=\"url(#clip340)\" style=\"stroke:#000000; stroke-linecap:butt; stroke-linejoin:round; stroke-width:4; stroke-opacity:1; fill:none\" points=\"\n",
       "  219.866,375.577 238.764,375.577 \n",
       "  \"/>\n",
       "<polyline clip-path=\"url(#clip340)\" style=\"stroke:#000000; stroke-linecap:butt; stroke-linejoin:round; stroke-width:4; stroke-opacity:1; fill:none\" points=\"\n",
       "  219.866,123.411 238.764,123.411 \n",
       "  \"/>\n",
       "<path clip-path=\"url(#clip340)\" d=\"M126.691 1370.04 Q123.08 1370.04 121.251 1373.6 Q119.445 1377.14 119.445 1384.27 Q119.445 1391.38 121.251 1394.94 Q123.08 1398.49 126.691 1398.49 Q130.325 1398.49 132.13 1394.94 Q133.959 1391.38 133.959 1384.27 Q133.959 1377.14 132.13 1373.6 Q130.325 1370.04 126.691 1370.04 M126.691 1366.33 Q132.501 1366.33 135.556 1370.94 Q138.635 1375.52 138.635 1384.27 Q138.635 1393 135.556 1397.61 Q132.501 1402.19 126.691 1402.19 Q120.88 1402.19 117.802 1397.61 Q114.746 1393 114.746 1384.27 Q114.746 1375.52 117.802 1370.94 Q120.88 1366.33 126.691 1366.33 Z\" fill=\"#000000\" fill-rule=\"evenodd\" fill-opacity=\"1\" /><path clip-path=\"url(#clip340)\" d=\"M146.853 1395.64 L151.737 1395.64 L151.737 1401.52 L146.853 1401.52 L146.853 1395.64 Z\" fill=\"#000000\" fill-rule=\"evenodd\" fill-opacity=\"1\" /><path clip-path=\"url(#clip340)\" d=\"M171.922 1370.04 Q168.311 1370.04 166.482 1373.6 Q164.677 1377.14 164.677 1384.27 Q164.677 1391.38 166.482 1394.94 Q168.311 1398.49 171.922 1398.49 Q175.556 1398.49 177.362 1394.94 Q179.19 1391.38 179.19 1384.27 Q179.19 1377.14 177.362 1373.6 Q175.556 1370.04 171.922 1370.04 M171.922 1366.33 Q177.732 1366.33 180.788 1370.94 Q183.866 1375.52 183.866 1384.27 Q183.866 1393 180.788 1397.61 Q177.732 1402.19 171.922 1402.19 Q166.112 1402.19 163.033 1397.61 Q159.978 1393 159.978 1384.27 Q159.978 1375.52 163.033 1370.94 Q166.112 1366.33 171.922 1366.33 Z\" fill=\"#000000\" fill-rule=\"evenodd\" fill-opacity=\"1\" /><path clip-path=\"url(#clip340)\" d=\"M127.917 1117.87 Q124.306 1117.87 122.478 1121.44 Q120.672 1124.98 120.672 1132.11 Q120.672 1139.21 122.478 1142.78 Q124.306 1146.32 127.917 1146.32 Q131.552 1146.32 133.357 1142.78 Q135.186 1139.21 135.186 1132.11 Q135.186 1124.98 133.357 1121.44 Q131.552 1117.87 127.917 1117.87 M127.917 1114.17 Q133.728 1114.17 136.783 1118.77 Q139.862 1123.36 139.862 1132.11 Q139.862 1140.83 136.783 1145.44 Q133.728 1150.02 127.917 1150.02 Q122.107 1150.02 119.029 1145.44 Q115.973 1140.83 115.973 1132.11 Q115.973 1123.36 119.029 1118.77 Q122.107 1114.17 127.917 1114.17 Z\" fill=\"#000000\" fill-rule=\"evenodd\" fill-opacity=\"1\" /><path clip-path=\"url(#clip340)\" d=\"M148.079 1143.47 L152.964 1143.47 L152.964 1149.35 L148.079 1149.35 L148.079 1143.47 Z\" fill=\"#000000\" fill-rule=\"evenodd\" fill-opacity=\"1\" /><path clip-path=\"url(#clip340)\" d=\"M163.959 1145.42 L171.598 1145.42 L171.598 1119.05 L163.288 1120.72 L163.288 1116.46 L171.552 1114.79 L176.227 1114.79 L176.227 1145.42 L183.866 1145.42 L183.866 1149.35 L163.959 1149.35 L163.959 1145.42 Z\" fill=\"#000000\" fill-rule=\"evenodd\" fill-opacity=\"1\" /><path clip-path=\"url(#clip340)\" d=\"M128.288 865.706 Q124.677 865.706 122.848 869.271 Q121.043 872.813 121.043 879.942 Q121.043 887.049 122.848 890.613 Q124.677 894.155 128.288 894.155 Q131.922 894.155 133.728 890.613 Q135.556 887.049 135.556 879.942 Q135.556 872.813 133.728 869.271 Q131.922 865.706 128.288 865.706 M128.288 862.002 Q134.098 862.002 137.154 866.609 Q140.232 871.192 140.232 879.942 Q140.232 888.669 137.154 893.275 Q134.098 897.859 128.288 897.859 Q122.478 897.859 119.399 893.275 Q116.343 888.669 116.343 879.942 Q116.343 871.192 119.399 866.609 Q122.478 862.002 128.288 862.002 Z\" fill=\"#000000\" fill-rule=\"evenodd\" fill-opacity=\"1\" /><path clip-path=\"url(#clip340)\" d=\"M148.45 891.308 L153.334 891.308 L153.334 897.187 L148.45 897.187 L148.45 891.308 Z\" fill=\"#000000\" fill-rule=\"evenodd\" fill-opacity=\"1\" /><path clip-path=\"url(#clip340)\" d=\"M167.547 893.252 L183.866 893.252 L183.866 897.187 L161.922 897.187 L161.922 893.252 Q164.584 890.498 169.167 885.868 Q173.774 881.215 174.954 879.873 Q177.2 877.35 178.079 875.613 Q178.982 873.854 178.982 872.164 Q178.982 869.41 177.038 867.674 Q175.116 865.938 172.014 865.938 Q169.815 865.938 167.362 866.701 Q164.931 867.465 162.153 869.016 L162.153 864.294 Q164.977 863.16 167.431 862.581 Q169.885 862.002 171.922 862.002 Q177.292 862.002 180.487 864.688 Q183.681 867.373 183.681 871.863 Q183.681 873.993 182.871 875.914 Q182.084 877.813 179.977 880.405 Q179.399 881.076 176.297 884.294 Q173.195 887.488 167.547 893.252 Z\" fill=\"#000000\" fill-rule=\"evenodd\" fill-opacity=\"1\" /><path clip-path=\"url(#clip340)\" d=\"M127.339 613.541 Q123.728 613.541 121.899 617.105 Q120.093 620.647 120.093 627.777 Q120.093 634.883 121.899 638.448 Q123.728 641.99 127.339 641.99 Q130.973 641.99 132.779 638.448 Q134.607 634.883 134.607 627.777 Q134.607 620.647 132.779 617.105 Q130.973 613.541 127.339 613.541 M127.339 609.837 Q133.149 609.837 136.204 614.443 Q139.283 619.027 139.283 627.777 Q139.283 636.504 136.204 641.11 Q133.149 645.693 127.339 645.693 Q121.529 645.693 118.45 641.11 Q115.394 636.504 115.394 627.777 Q115.394 619.027 118.45 614.443 Q121.529 609.837 127.339 609.837 Z\" fill=\"#000000\" fill-rule=\"evenodd\" fill-opacity=\"1\" /><path clip-path=\"url(#clip340)\" d=\"M147.501 639.142 L152.385 639.142 L152.385 645.022 L147.501 645.022 L147.501 639.142 Z\" fill=\"#000000\" fill-rule=\"evenodd\" fill-opacity=\"1\" /><path clip-path=\"url(#clip340)\" d=\"M176.737 626.388 Q180.093 627.105 181.968 629.374 Q183.866 631.642 183.866 634.976 Q183.866 640.091 180.348 642.892 Q176.829 645.693 170.348 645.693 Q168.172 645.693 165.857 645.253 Q163.565 644.837 161.112 643.98 L161.112 639.466 Q163.056 640.601 165.371 641.179 Q167.686 641.758 170.209 641.758 Q174.607 641.758 176.899 640.022 Q179.214 638.286 179.214 634.976 Q179.214 631.92 177.061 630.207 Q174.931 628.471 171.112 628.471 L167.084 628.471 L167.084 624.629 L171.297 624.629 Q174.746 624.629 176.575 623.263 Q178.403 621.874 178.403 619.281 Q178.403 616.619 176.505 615.207 Q174.63 613.772 171.112 613.772 Q169.19 613.772 166.991 614.189 Q164.792 614.605 162.153 615.485 L162.153 611.318 Q164.815 610.578 167.13 610.207 Q169.468 609.837 171.528 609.837 Q176.852 609.837 179.954 612.268 Q183.056 614.675 183.056 618.795 Q183.056 621.666 181.413 623.656 Q179.769 625.624 176.737 626.388 Z\" fill=\"#000000\" fill-rule=\"evenodd\" fill-opacity=\"1\" /><path clip-path=\"url(#clip340)\" d=\"M126.205 361.375 Q122.593 361.375 120.765 364.94 Q118.959 368.482 118.959 375.611 Q118.959 382.718 120.765 386.283 Q122.593 389.824 126.205 389.824 Q129.839 389.824 131.644 386.283 Q133.473 382.718 133.473 375.611 Q133.473 368.482 131.644 364.94 Q129.839 361.375 126.205 361.375 M126.205 357.672 Q132.015 357.672 135.07 362.278 Q138.149 366.861 138.149 375.611 Q138.149 384.338 135.07 388.945 Q132.015 393.528 126.205 393.528 Q120.394 393.528 117.316 388.945 Q114.26 384.338 114.26 375.611 Q114.26 366.861 117.316 362.278 Q120.394 357.672 126.205 357.672 Z\" fill=\"#000000\" fill-rule=\"evenodd\" fill-opacity=\"1\" /><path clip-path=\"url(#clip340)\" d=\"M146.366 386.977 L151.251 386.977 L151.251 392.857 L146.366 392.857 L146.366 386.977 Z\" fill=\"#000000\" fill-rule=\"evenodd\" fill-opacity=\"1\" /><path clip-path=\"url(#clip340)\" d=\"M174.283 362.371 L162.477 380.82 L174.283 380.82 L174.283 362.371 M173.056 358.297 L178.936 358.297 L178.936 380.82 L183.866 380.82 L183.866 384.708 L178.936 384.708 L178.936 392.857 L174.283 392.857 L174.283 384.708 L158.681 384.708 L158.681 380.195 L173.056 358.297 Z\" fill=\"#000000\" fill-rule=\"evenodd\" fill-opacity=\"1\" /><path clip-path=\"url(#clip340)\" d=\"M127.686 109.21 Q124.075 109.21 122.246 112.775 Q120.441 116.316 120.441 123.446 Q120.441 130.552 122.246 134.117 Q124.075 137.659 127.686 137.659 Q131.32 137.659 133.126 134.117 Q134.954 130.552 134.954 123.446 Q134.954 116.316 133.126 112.775 Q131.32 109.21 127.686 109.21 M127.686 105.506 Q133.496 105.506 136.552 110.113 Q139.63 114.696 139.63 123.446 Q139.63 132.173 136.552 136.779 Q133.496 141.362 127.686 141.362 Q121.876 141.362 118.797 136.779 Q115.742 132.173 115.742 123.446 Q115.742 114.696 118.797 110.113 Q121.876 105.506 127.686 105.506 Z\" fill=\"#000000\" fill-rule=\"evenodd\" fill-opacity=\"1\" /><path clip-path=\"url(#clip340)\" d=\"M147.848 134.812 L152.732 134.812 L152.732 140.691 L147.848 140.691 L147.848 134.812 Z\" fill=\"#000000\" fill-rule=\"evenodd\" fill-opacity=\"1\" /><path clip-path=\"url(#clip340)\" d=\"M162.964 106.131 L181.32 106.131 L181.32 110.066 L167.246 110.066 L167.246 118.538 Q168.264 118.191 169.283 118.029 Q170.302 117.844 171.32 117.844 Q177.107 117.844 180.487 121.015 Q183.866 124.187 183.866 129.603 Q183.866 135.182 180.394 138.284 Q176.922 141.362 170.602 141.362 Q168.427 141.362 166.158 140.992 Q163.913 140.622 161.505 139.881 L161.505 135.182 Q163.589 136.316 165.811 136.872 Q168.033 137.427 170.51 137.427 Q174.514 137.427 176.852 135.321 Q179.19 133.214 179.19 129.603 Q179.19 125.992 176.852 123.886 Q174.514 121.779 170.51 121.779 Q168.635 121.779 166.76 122.196 Q164.908 122.613 162.964 123.492 L162.964 106.131 Z\" fill=\"#000000\" fill-rule=\"evenodd\" fill-opacity=\"1\" /><path clip-path=\"url(#clip340)\" d=\"M20.1444 875.019 L26.9239 875.019 Q23.9002 878.265 22.4043 881.957 Q20.9083 885.618 20.9083 889.755 Q20.9083 897.904 25.9054 902.232 Q30.8707 906.561 40.2919 906.561 Q49.6813 906.561 54.6784 902.232 Q59.6436 897.904 59.6436 889.755 Q59.6436 885.618 58.1477 881.957 Q56.6518 878.265 53.6281 875.019 L60.3439 875.019 Q62.6355 878.393 63.7814 882.18 Q64.9272 885.936 64.9272 890.137 Q64.9272 900.927 58.3387 907.134 Q51.7183 913.34 40.2919 913.34 Q28.8336 913.34 22.2451 907.134 Q15.6248 900.927 15.6248 890.137 Q15.6248 885.872 16.7706 882.117 Q17.8846 878.329 20.1444 875.019 Z\" fill=\"#000000\" fill-rule=\"evenodd\" fill-opacity=\"1\" /><path clip-path=\"url(#clip340)\" d=\"M32.4621 851.529 Q32.4621 856.24 36.1542 858.977 Q39.8145 861.714 46.212 861.714 Q52.6095 861.714 56.3017 859.009 Q59.9619 856.272 59.9619 851.529 Q59.9619 846.851 56.2698 844.113 Q52.5777 841.376 46.212 841.376 Q39.8781 841.376 36.186 844.113 Q32.4621 846.851 32.4621 851.529 M27.4968 851.529 Q27.4968 843.89 32.4621 839.53 Q37.4273 835.169 46.212 835.169 Q54.9649 835.169 59.9619 839.53 Q64.9272 843.89 64.9272 851.529 Q64.9272 859.2 59.9619 863.561 Q54.9649 867.889 46.212 867.889 Q37.4273 867.889 32.4621 863.561 Q27.4968 859.2 27.4968 851.529 Z\" fill=\"#000000\" fill-rule=\"evenodd\" fill-opacity=\"1\" /><path clip-path=\"url(#clip340)\" d=\"M42.4881 795.829 L64.0042 795.829 L64.0042 801.686 L42.679 801.686 Q37.6183 801.686 35.1038 803.659 Q32.5894 805.633 32.5894 809.579 Q32.5894 814.322 35.6131 817.059 Q38.6368 819.796 43.8567 819.796 L64.0042 819.796 L64.0042 825.685 L28.3562 825.685 L28.3562 819.796 L33.8944 819.796 Q30.6797 817.696 29.0883 814.863 Q27.4968 811.998 27.4968 808.274 Q27.4968 802.131 31.3163 798.98 Q35.1038 795.829 42.4881 795.829 Z\" fill=\"#000000\" fill-rule=\"evenodd\" fill-opacity=\"1\" /><path clip-path=\"url(#clip340)\" d=\"M28.3562 788.35 L28.3562 782.143 L58.275 771.003 L28.3562 759.863 L28.3562 753.657 L64.0042 767.025 L64.0042 774.982 L28.3562 788.35 Z\" fill=\"#000000\" fill-rule=\"evenodd\" fill-opacity=\"1\" /><path clip-path=\"url(#clip340)\" d=\"M44.7161 715.08 L47.5806 715.08 L47.5806 742.007 Q53.6281 741.625 56.8109 738.379 Q59.9619 735.101 59.9619 729.276 Q59.9619 725.902 59.1344 722.751 Q58.3069 719.568 56.6518 716.449 L62.1899 716.449 Q63.5267 719.6 64.227 722.91 Q64.9272 726.22 64.9272 729.626 Q64.9272 738.156 59.9619 743.153 Q54.9967 748.118 46.5303 748.118 Q37.7774 748.118 32.6531 743.408 Q27.4968 738.665 27.4968 730.645 Q27.4968 723.451 32.1438 719.282 Q36.7589 715.08 44.7161 715.08 M42.9973 720.937 Q38.1912 721.001 35.3266 723.642 Q32.4621 726.252 32.4621 730.581 Q32.4621 735.483 35.2312 738.443 Q38.0002 741.371 43.0292 741.816 L42.9973 720.937 Z\" fill=\"#000000\" fill-rule=\"evenodd\" fill-opacity=\"1\" /><path clip-path=\"url(#clip340)\" d=\"M33.8307 684.811 Q33.2578 685.798 33.0032 686.976 Q32.7167 688.122 32.7167 689.522 Q32.7167 694.487 35.9632 697.161 Q39.1779 699.803 45.2253 699.803 L64.0042 699.803 L64.0042 705.691 L28.3562 705.691 L28.3562 699.803 L33.8944 699.803 Q30.6479 697.957 29.0883 694.997 Q27.4968 692.037 27.4968 687.803 Q27.4968 687.199 27.5923 686.467 Q27.656 685.735 27.8151 684.843 L33.8307 684.811 Z\" fill=\"#000000\" fill-rule=\"evenodd\" fill-opacity=\"1\" /><path clip-path=\"url(#clip340)\" d=\"M29.4065 655.943 L34.9447 655.943 Q33.6716 658.426 33.035 661.099 Q32.3984 663.773 32.3984 666.637 Q32.3984 670.998 33.7352 673.194 Q35.072 675.358 37.7456 675.358 Q39.7826 675.358 40.9603 673.799 Q42.1061 672.239 43.1565 667.529 L43.6021 665.523 Q44.9389 659.285 47.3897 656.675 Q49.8086 654.033 54.1691 654.033 Q59.1344 654.033 62.0308 657.98 Q64.9272 661.895 64.9272 668.77 Q64.9272 671.634 64.3543 674.754 Q63.8132 677.841 62.6992 681.279 L56.6518 681.279 Q58.3387 678.032 59.198 674.881 Q60.0256 671.73 60.0256 668.643 Q60.0256 664.505 58.6251 662.277 Q57.1929 660.049 54.6147 660.049 Q52.2276 660.049 50.9545 661.672 Q49.6813 663.264 48.5037 668.706 L48.0262 670.743 Q46.8804 676.186 44.5251 678.605 Q42.138 681.024 38.0002 681.024 Q32.9713 681.024 30.2341 677.459 Q27.4968 673.894 27.4968 667.338 Q27.4968 664.091 27.9743 661.227 Q28.4517 658.362 29.4065 655.943 Z\" fill=\"#000000\" fill-rule=\"evenodd\" fill-opacity=\"1\" /><path clip-path=\"url(#clip340)\" d=\"M28.3562 644.708 L28.3562 638.851 L64.0042 638.851 L64.0042 644.708 L28.3562 644.708 M14.479 644.708 L14.479 638.851 L21.895 638.851 L21.895 644.708 L14.479 644.708 Z\" fill=\"#000000\" fill-rule=\"evenodd\" fill-opacity=\"1\" /><path clip-path=\"url(#clip340)\" d=\"M32.4621 612.784 Q32.4621 617.494 36.1542 620.231 Q39.8145 622.969 46.212 622.969 Q52.6095 622.969 56.3017 620.263 Q59.9619 617.526 59.9619 612.784 Q59.9619 608.105 56.2698 605.367 Q52.5777 602.63 46.212 602.63 Q39.8781 602.63 36.186 605.367 Q32.4621 608.105 32.4621 612.784 M27.4968 612.784 Q27.4968 605.145 32.4621 600.784 Q37.4273 596.424 46.212 596.424 Q54.9649 596.424 59.9619 600.784 Q64.9272 605.145 64.9272 612.784 Q64.9272 620.454 59.9619 624.815 Q54.9649 629.143 46.212 629.143 Q37.4273 629.143 32.4621 624.815 Q27.4968 620.454 27.4968 612.784 Z\" fill=\"#000000\" fill-rule=\"evenodd\" fill-opacity=\"1\" /><path clip-path=\"url(#clip340)\" d=\"M42.4881 557.084 L64.0042 557.084 L64.0042 562.94 L42.679 562.94 Q37.6183 562.94 35.1038 564.913 Q32.5894 566.887 32.5894 570.834 Q32.5894 575.576 35.6131 578.313 Q38.6368 581.05 43.8567 581.05 L64.0042 581.05 L64.0042 586.939 L28.3562 586.939 L28.3562 581.05 L33.8944 581.05 Q30.6797 578.95 29.0883 576.117 Q27.4968 573.252 27.4968 569.529 Q27.4968 563.386 31.3163 560.235 Q35.1038 557.084 42.4881 557.084 Z\" fill=\"#000000\" fill-rule=\"evenodd\" fill-opacity=\"1\" /><polyline clip-path=\"url(#clip342)\" style=\"stroke:#009af9; stroke-linecap:butt; stroke-linejoin:round; stroke-width:4; stroke-opacity:1; fill:none\" points=\"\n",
       "  280.231,1384.24 280.232,1384.24 280.236,1384.23 280.28,1384.15 280.722,1383.33 282.084,1380.81 284.674,1376.03 288.873,1368.33 295.356,1356.51 304.917,1339.28 \n",
       "  318.506,1315.16 337.194,1282.72 362.189,1240.61 394.819,1187.74 436.554,1123.45 489.026,1047.63 554.071,960.82 633.803,864.309 730.718,760.119 847.845,650.961 \n",
       "  988.977,540.109 1158.98,431.209 1364.29,328.036 1613.48,234.204 1918,152.836 2292.39,86.1857 \n",
       "  \"/>\n",
       "<path clip-path=\"url(#clip340)\" d=\"\n",
       "M1992.24 196.789 L2281.66 196.789 L2281.66 93.1086 L1992.24 93.1086  Z\n",
       "  \" fill=\"#ffffff\" fill-rule=\"evenodd\" fill-opacity=\"1\"/>\n",
       "<polyline clip-path=\"url(#clip340)\" style=\"stroke:#000000; stroke-linecap:butt; stroke-linejoin:round; stroke-width:4; stroke-opacity:1; fill:none\" points=\"\n",
       "  1992.24,196.789 2281.66,196.789 2281.66,93.1086 1992.24,93.1086 1992.24,196.789 \n",
       "  \"/>\n",
       "<polyline clip-path=\"url(#clip340)\" style=\"stroke:#009af9; stroke-linecap:butt; stroke-linejoin:round; stroke-width:4; stroke-opacity:1; fill:none\" points=\"\n",
       "  2015.94,144.949 2158.13,144.949 \n",
       "  \"/>\n",
       "<path clip-path=\"url(#clip340)\" d=\"M2195.67 164.636 Q2193.87 169.266 2192.16 170.678 Q2190.44 172.09 2187.57 172.09 L2184.17 172.09 L2184.17 168.525 L2186.67 168.525 Q2188.43 168.525 2189.4 167.692 Q2190.37 166.858 2191.55 163.756 L2192.32 161.812 L2181.83 136.303 L2186.35 136.303 L2194.45 156.581 L2202.55 136.303 L2207.06 136.303 L2195.67 164.636 Z\" fill=\"#000000\" fill-rule=\"evenodd\" fill-opacity=\"1\" /><path clip-path=\"url(#clip340)\" d=\"M2214.35 158.293 L2221.99 158.293 L2221.99 131.928 L2213.68 133.595 L2213.68 129.335 L2221.95 127.669 L2226.62 127.669 L2226.62 158.293 L2234.26 158.293 L2234.26 162.229 L2214.35 162.229 L2214.35 158.293 Z\" fill=\"#000000\" fill-rule=\"evenodd\" fill-opacity=\"1\" /></svg>\n"
      ]
     },
     "execution_count": 101,
     "metadata": {},
     "output_type": "execute_result"
    }
   ],
   "source": [
    "plot(sol.t, conv, xlabel = \"V(L)\", ylabel = \"Conversion\")"
   ]
  },
  {
   "cell_type": "code",
   "execution_count": 102,
   "id": "ceramic-episode",
   "metadata": {},
   "outputs": [
    {
     "data": {
      "image/svg+xml": [
       "<?xml version=\"1.0\" encoding=\"utf-8\"?>\n",
       "<svg xmlns=\"http://www.w3.org/2000/svg\" xmlns:xlink=\"http://www.w3.org/1999/xlink\" width=\"600\" height=\"400\" viewBox=\"0 0 2400 1600\">\n",
       "<defs>\n",
       "  <clipPath id=\"clip380\">\n",
       "    <rect x=\"0\" y=\"0\" width=\"2400\" height=\"1600\"/>\n",
       "  </clipPath>\n",
       "</defs>\n",
       "<path clip-path=\"url(#clip380)\" d=\"\n",
       "M0 1600 L2400 1600 L2400 0 L0 0  Z\n",
       "  \" fill=\"#ffffff\" fill-rule=\"evenodd\" fill-opacity=\"1\"/>\n",
       "<defs>\n",
       "  <clipPath id=\"clip381\">\n",
       "    <rect x=\"480\" y=\"0\" width=\"1681\" height=\"1600\"/>\n",
       "  </clipPath>\n",
       "</defs>\n",
       "<path clip-path=\"url(#clip380)\" d=\"\n",
       "M249.542 1423.18 L2352.76 1423.18 L2352.76 47.2441 L249.542 47.2441  Z\n",
       "  \" fill=\"#ffffff\" fill-rule=\"evenodd\" fill-opacity=\"1\"/>\n",
       "<defs>\n",
       "  <clipPath id=\"clip382\">\n",
       "    <rect x=\"249\" y=\"47\" width=\"2104\" height=\"1377\"/>\n",
       "  </clipPath>\n",
       "</defs>\n",
       "<polyline clip-path=\"url(#clip382)\" style=\"stroke:#000000; stroke-linecap:butt; stroke-linejoin:round; stroke-width:2; stroke-opacity:0.1; fill:none\" points=\"\n",
       "  309.067,1423.18 309.067,47.2441 \n",
       "  \"/>\n",
       "<polyline clip-path=\"url(#clip382)\" style=\"stroke:#000000; stroke-linecap:butt; stroke-linejoin:round; stroke-width:2; stroke-opacity:0.1; fill:none\" points=\"\n",
       "  745.108,1423.18 745.108,47.2441 \n",
       "  \"/>\n",
       "<polyline clip-path=\"url(#clip382)\" style=\"stroke:#000000; stroke-linecap:butt; stroke-linejoin:round; stroke-width:2; stroke-opacity:0.1; fill:none\" points=\"\n",
       "  1181.15,1423.18 1181.15,47.2441 \n",
       "  \"/>\n",
       "<polyline clip-path=\"url(#clip382)\" style=\"stroke:#000000; stroke-linecap:butt; stroke-linejoin:round; stroke-width:2; stroke-opacity:0.1; fill:none\" points=\"\n",
       "  1617.19,1423.18 1617.19,47.2441 \n",
       "  \"/>\n",
       "<polyline clip-path=\"url(#clip382)\" style=\"stroke:#000000; stroke-linecap:butt; stroke-linejoin:round; stroke-width:2; stroke-opacity:0.1; fill:none\" points=\"\n",
       "  2053.23,1423.18 2053.23,47.2441 \n",
       "  \"/>\n",
       "<polyline clip-path=\"url(#clip380)\" style=\"stroke:#000000; stroke-linecap:butt; stroke-linejoin:round; stroke-width:4; stroke-opacity:1; fill:none\" points=\"\n",
       "  249.542,1423.18 2352.76,1423.18 \n",
       "  \"/>\n",
       "<polyline clip-path=\"url(#clip380)\" style=\"stroke:#000000; stroke-linecap:butt; stroke-linejoin:round; stroke-width:4; stroke-opacity:1; fill:none\" points=\"\n",
       "  309.067,1423.18 309.067,1404.28 \n",
       "  \"/>\n",
       "<polyline clip-path=\"url(#clip380)\" style=\"stroke:#000000; stroke-linecap:butt; stroke-linejoin:round; stroke-width:4; stroke-opacity:1; fill:none\" points=\"\n",
       "  745.108,1423.18 745.108,1404.28 \n",
       "  \"/>\n",
       "<polyline clip-path=\"url(#clip380)\" style=\"stroke:#000000; stroke-linecap:butt; stroke-linejoin:round; stroke-width:4; stroke-opacity:1; fill:none\" points=\"\n",
       "  1181.15,1423.18 1181.15,1404.28 \n",
       "  \"/>\n",
       "<polyline clip-path=\"url(#clip380)\" style=\"stroke:#000000; stroke-linecap:butt; stroke-linejoin:round; stroke-width:4; stroke-opacity:1; fill:none\" points=\"\n",
       "  1617.19,1423.18 1617.19,1404.28 \n",
       "  \"/>\n",
       "<polyline clip-path=\"url(#clip380)\" style=\"stroke:#000000; stroke-linecap:butt; stroke-linejoin:round; stroke-width:4; stroke-opacity:1; fill:none\" points=\"\n",
       "  2053.23,1423.18 2053.23,1404.28 \n",
       "  \"/>\n",
       "<path clip-path=\"url(#clip380)\" d=\"M309.067 1452.37 Q305.456 1452.37 303.627 1455.94 Q301.822 1459.48 301.822 1466.61 Q301.822 1473.71 303.627 1477.28 Q305.456 1480.82 309.067 1480.82 Q312.701 1480.82 314.507 1477.28 Q316.335 1473.71 316.335 1466.61 Q316.335 1459.48 314.507 1455.94 Q312.701 1452.37 309.067 1452.37 M309.067 1448.67 Q314.877 1448.67 317.933 1453.27 Q321.011 1457.86 321.011 1466.61 Q321.011 1475.33 317.933 1479.94 Q314.877 1484.52 309.067 1484.52 Q303.257 1484.52 300.178 1479.94 Q297.123 1475.33 297.123 1466.61 Q297.123 1457.86 300.178 1453.27 Q303.257 1448.67 309.067 1448.67 Z\" fill=\"#000000\" fill-rule=\"evenodd\" fill-opacity=\"1\" /><path clip-path=\"url(#clip380)\" d=\"M704.714 1479.92 L712.353 1479.92 L712.353 1453.55 L704.043 1455.22 L704.043 1450.96 L712.307 1449.29 L716.983 1449.29 L716.983 1479.92 L724.622 1479.92 L724.622 1483.85 L704.714 1483.85 L704.714 1479.92 Z\" fill=\"#000000\" fill-rule=\"evenodd\" fill-opacity=\"1\" /><path clip-path=\"url(#clip380)\" d=\"M744.066 1452.37 Q740.455 1452.37 738.626 1455.94 Q736.821 1459.48 736.821 1466.61 Q736.821 1473.71 738.626 1477.28 Q740.455 1480.82 744.066 1480.82 Q747.7 1480.82 749.506 1477.28 Q751.334 1473.71 751.334 1466.61 Q751.334 1459.48 749.506 1455.94 Q747.7 1452.37 744.066 1452.37 M744.066 1448.67 Q749.876 1448.67 752.932 1453.27 Q756.01 1457.86 756.01 1466.61 Q756.01 1475.33 752.932 1479.94 Q749.876 1484.52 744.066 1484.52 Q738.256 1484.52 735.177 1479.94 Q732.122 1475.33 732.122 1466.61 Q732.122 1457.86 735.177 1453.27 Q738.256 1448.67 744.066 1448.67 Z\" fill=\"#000000\" fill-rule=\"evenodd\" fill-opacity=\"1\" /><path clip-path=\"url(#clip380)\" d=\"M774.228 1452.37 Q770.617 1452.37 768.788 1455.94 Q766.983 1459.48 766.983 1466.61 Q766.983 1473.71 768.788 1477.28 Q770.617 1480.82 774.228 1480.82 Q777.862 1480.82 779.668 1477.28 Q781.496 1473.71 781.496 1466.61 Q781.496 1459.48 779.668 1455.94 Q777.862 1452.37 774.228 1452.37 M774.228 1448.67 Q780.038 1448.67 783.094 1453.27 Q786.172 1457.86 786.172 1466.61 Q786.172 1475.33 783.094 1479.94 Q780.038 1484.52 774.228 1484.52 Q768.418 1484.52 765.339 1479.94 Q762.284 1475.33 762.284 1466.61 Q762.284 1457.86 765.339 1453.27 Q768.418 1448.67 774.228 1448.67 Z\" fill=\"#000000\" fill-rule=\"evenodd\" fill-opacity=\"1\" /><path clip-path=\"url(#clip380)\" d=\"M1144.84 1479.92 L1161.16 1479.92 L1161.16 1483.85 L1139.22 1483.85 L1139.22 1479.92 Q1141.88 1477.16 1146.46 1472.53 Q1151.07 1467.88 1152.25 1466.54 Q1154.49 1464.01 1155.37 1462.28 Q1156.28 1460.52 1156.28 1458.83 Q1156.28 1456.07 1154.33 1454.34 Q1152.41 1452.6 1149.31 1452.6 Q1147.11 1452.6 1144.66 1453.37 Q1142.22 1454.13 1139.45 1455.68 L1139.45 1450.96 Q1142.27 1449.82 1144.72 1449.25 Q1147.18 1448.67 1149.22 1448.67 Q1154.59 1448.67 1157.78 1451.35 Q1160.97 1454.04 1160.97 1458.53 Q1160.97 1460.66 1160.16 1462.58 Q1159.38 1464.48 1157.27 1467.07 Q1156.69 1467.74 1153.59 1470.96 Q1150.49 1474.15 1144.84 1479.92 Z\" fill=\"#000000\" fill-rule=\"evenodd\" fill-opacity=\"1\" /><path clip-path=\"url(#clip380)\" d=\"M1180.97 1452.37 Q1177.36 1452.37 1175.54 1455.94 Q1173.73 1459.48 1173.73 1466.61 Q1173.73 1473.71 1175.54 1477.28 Q1177.36 1480.82 1180.97 1480.82 Q1184.61 1480.82 1186.41 1477.28 Q1188.24 1473.71 1188.24 1466.61 Q1188.24 1459.48 1186.41 1455.94 Q1184.61 1452.37 1180.97 1452.37 M1180.97 1448.67 Q1186.78 1448.67 1189.84 1453.27 Q1192.92 1457.86 1192.92 1466.61 Q1192.92 1475.33 1189.84 1479.94 Q1186.78 1484.52 1180.97 1484.52 Q1175.16 1484.52 1172.09 1479.94 Q1169.03 1475.33 1169.03 1466.61 Q1169.03 1457.86 1172.09 1453.27 Q1175.16 1448.67 1180.97 1448.67 Z\" fill=\"#000000\" fill-rule=\"evenodd\" fill-opacity=\"1\" /><path clip-path=\"url(#clip380)\" d=\"M1211.14 1452.37 Q1207.53 1452.37 1205.7 1455.94 Q1203.89 1459.48 1203.89 1466.61 Q1203.89 1473.71 1205.7 1477.28 Q1207.53 1480.82 1211.14 1480.82 Q1214.77 1480.82 1216.58 1477.28 Q1218.41 1473.71 1218.41 1466.61 Q1218.41 1459.48 1216.58 1455.94 Q1214.77 1452.37 1211.14 1452.37 M1211.14 1448.67 Q1216.95 1448.67 1220 1453.27 Q1223.08 1457.86 1223.08 1466.61 Q1223.08 1475.33 1220 1479.94 Q1216.95 1484.52 1211.14 1484.52 Q1205.33 1484.52 1202.25 1479.94 Q1199.19 1475.33 1199.19 1466.61 Q1199.19 1457.86 1202.25 1453.27 Q1205.33 1448.67 1211.14 1448.67 Z\" fill=\"#000000\" fill-rule=\"evenodd\" fill-opacity=\"1\" /><path clip-path=\"url(#clip380)\" d=\"M1590.95 1465.22 Q1594.31 1465.94 1596.18 1468.2 Q1598.08 1470.47 1598.08 1473.81 Q1598.08 1478.92 1594.56 1481.72 Q1591.04 1484.52 1584.56 1484.52 Q1582.39 1484.52 1580.07 1484.08 Q1577.78 1483.67 1575.33 1482.81 L1575.33 1478.3 Q1577.27 1479.43 1579.59 1480.01 Q1581.9 1480.59 1584.42 1480.59 Q1588.82 1480.59 1591.11 1478.85 Q1593.43 1477.12 1593.43 1473.81 Q1593.43 1470.75 1591.27 1469.04 Q1589.15 1467.3 1585.33 1467.3 L1581.3 1467.3 L1581.3 1463.46 L1585.51 1463.46 Q1588.96 1463.46 1590.79 1462.09 Q1592.62 1460.7 1592.62 1458.11 Q1592.62 1455.45 1590.72 1454.04 Q1588.84 1452.6 1585.33 1452.6 Q1583.4 1452.6 1581.21 1453.02 Q1579.01 1453.44 1576.37 1454.31 L1576.37 1450.15 Q1579.03 1449.41 1581.34 1449.04 Q1583.68 1448.67 1585.74 1448.67 Q1591.07 1448.67 1594.17 1451.1 Q1597.27 1453.5 1597.27 1457.63 Q1597.27 1460.5 1595.63 1462.49 Q1593.98 1464.45 1590.95 1465.22 Z\" fill=\"#000000\" fill-rule=\"evenodd\" fill-opacity=\"1\" /><path clip-path=\"url(#clip380)\" d=\"M1616.95 1452.37 Q1613.33 1452.37 1611.51 1455.94 Q1609.7 1459.48 1609.7 1466.61 Q1609.7 1473.71 1611.51 1477.28 Q1613.33 1480.82 1616.95 1480.82 Q1620.58 1480.82 1622.39 1477.28 Q1624.21 1473.71 1624.21 1466.61 Q1624.21 1459.48 1622.39 1455.94 Q1620.58 1452.37 1616.95 1452.37 M1616.95 1448.67 Q1622.76 1448.67 1625.81 1453.27 Q1628.89 1457.86 1628.89 1466.61 Q1628.89 1475.33 1625.81 1479.94 Q1622.76 1484.52 1616.95 1484.52 Q1611.14 1484.52 1608.06 1479.94 Q1605 1475.33 1605 1466.61 Q1605 1457.86 1608.06 1453.27 Q1611.14 1448.67 1616.95 1448.67 Z\" fill=\"#000000\" fill-rule=\"evenodd\" fill-opacity=\"1\" /><path clip-path=\"url(#clip380)\" d=\"M1647.11 1452.37 Q1643.5 1452.37 1641.67 1455.94 Q1639.86 1459.48 1639.86 1466.61 Q1639.86 1473.71 1641.67 1477.28 Q1643.5 1480.82 1647.11 1480.82 Q1650.74 1480.82 1652.55 1477.28 Q1654.38 1473.71 1654.38 1466.61 Q1654.38 1459.48 1652.55 1455.94 Q1650.74 1452.37 1647.11 1452.37 M1647.11 1448.67 Q1652.92 1448.67 1655.97 1453.27 Q1659.05 1457.86 1659.05 1466.61 Q1659.05 1475.33 1655.97 1479.94 Q1652.92 1484.52 1647.11 1484.52 Q1641.3 1484.52 1638.22 1479.94 Q1635.16 1475.33 1635.16 1466.61 Q1635.16 1457.86 1638.22 1453.27 Q1641.3 1448.67 1647.11 1448.67 Z\" fill=\"#000000\" fill-rule=\"evenodd\" fill-opacity=\"1\" /><path clip-path=\"url(#clip380)\" d=\"M2026.32 1453.37 L2014.51 1471.81 L2026.32 1471.81 L2026.32 1453.37 M2025.09 1449.29 L2030.97 1449.29 L2030.97 1471.81 L2035.9 1471.81 L2035.9 1475.7 L2030.97 1475.7 L2030.97 1483.85 L2026.32 1483.85 L2026.32 1475.7 L2010.72 1475.7 L2010.72 1471.19 L2025.09 1449.29 Z\" fill=\"#000000\" fill-rule=\"evenodd\" fill-opacity=\"1\" /><path clip-path=\"url(#clip380)\" d=\"M2053.63 1452.37 Q2050.02 1452.37 2048.2 1455.94 Q2046.39 1459.48 2046.39 1466.61 Q2046.39 1473.71 2048.2 1477.28 Q2050.02 1480.82 2053.63 1480.82 Q2057.27 1480.82 2059.07 1477.28 Q2060.9 1473.71 2060.9 1466.61 Q2060.9 1459.48 2059.07 1455.94 Q2057.27 1452.37 2053.63 1452.37 M2053.63 1448.67 Q2059.45 1448.67 2062.5 1453.27 Q2065.58 1457.86 2065.58 1466.61 Q2065.58 1475.33 2062.5 1479.94 Q2059.45 1484.52 2053.63 1484.52 Q2047.82 1484.52 2044.75 1479.94 Q2041.69 1475.33 2041.69 1466.61 Q2041.69 1457.86 2044.75 1453.27 Q2047.82 1448.67 2053.63 1448.67 Z\" fill=\"#000000\" fill-rule=\"evenodd\" fill-opacity=\"1\" /><path clip-path=\"url(#clip380)\" d=\"M2083.8 1452.37 Q2080.19 1452.37 2078.36 1455.94 Q2076.55 1459.48 2076.55 1466.61 Q2076.55 1473.71 2078.36 1477.28 Q2080.19 1480.82 2083.8 1480.82 Q2087.43 1480.82 2089.24 1477.28 Q2091.07 1473.71 2091.07 1466.61 Q2091.07 1459.48 2089.24 1455.94 Q2087.43 1452.37 2083.8 1452.37 M2083.8 1448.67 Q2089.61 1448.67 2092.66 1453.27 Q2095.74 1457.86 2095.74 1466.61 Q2095.74 1475.33 2092.66 1479.94 Q2089.61 1484.52 2083.8 1484.52 Q2077.99 1484.52 2074.91 1479.94 Q2071.85 1475.33 2071.85 1466.61 Q2071.85 1457.86 2074.91 1453.27 Q2077.99 1448.67 2083.8 1448.67 Z\" fill=\"#000000\" fill-rule=\"evenodd\" fill-opacity=\"1\" /><path clip-path=\"url(#clip380)\" d=\"M1256.46 1568.04 L1238.32 1520.52 L1245.04 1520.52 L1260.09 1560.53 L1275.18 1520.52 L1281.86 1520.52 L1263.75 1568.04 L1256.46 1568.04 Z\" fill=\"#000000\" fill-rule=\"evenodd\" fill-opacity=\"1\" /><path clip-path=\"url(#clip380)\" d=\"M1302.61 1518.58 Q1298.35 1525.9 1296.28 1533.06 Q1294.21 1540.23 1294.21 1547.58 Q1294.21 1554.93 1296.28 1562.16 Q1298.38 1569.35 1302.61 1576.64 L1297.52 1576.64 Q1292.75 1569.16 1290.36 1561.93 Q1288 1554.71 1288 1547.58 Q1288 1540.48 1290.36 1533.29 Q1292.71 1526.09 1297.52 1518.58 L1302.61 1518.58 Z\" fill=\"#000000\" fill-rule=\"evenodd\" fill-opacity=\"1\" /><path clip-path=\"url(#clip380)\" d=\"M1314.23 1520.52 L1320.66 1520.52 L1320.66 1562.63 L1343.8 1562.63 L1343.8 1568.04 L1314.23 1568.04 L1314.23 1520.52 Z\" fill=\"#000000\" fill-rule=\"evenodd\" fill-opacity=\"1\" /><path clip-path=\"url(#clip380)\" d=\"M1349.37 1518.58 L1354.46 1518.58 Q1359.24 1526.09 1361.59 1533.29 Q1363.98 1540.48 1363.98 1547.58 Q1363.98 1554.71 1361.59 1561.93 Q1359.24 1569.16 1354.46 1576.64 L1349.37 1576.64 Q1353.6 1569.35 1355.67 1562.16 Q1357.77 1554.93 1357.77 1547.58 Q1357.77 1540.23 1355.67 1533.06 Q1353.6 1525.9 1349.37 1518.58 Z\" fill=\"#000000\" fill-rule=\"evenodd\" fill-opacity=\"1\" /><polyline clip-path=\"url(#clip382)\" style=\"stroke:#000000; stroke-linecap:butt; stroke-linejoin:round; stroke-width:2; stroke-opacity:0.1; fill:none\" points=\"\n",
       "  249.542,1384.24 2352.76,1384.24 \n",
       "  \"/>\n",
       "<polyline clip-path=\"url(#clip382)\" style=\"stroke:#000000; stroke-linecap:butt; stroke-linejoin:round; stroke-width:2; stroke-opacity:0.1; fill:none\" points=\"\n",
       "  249.542,1059.73 2352.76,1059.73 \n",
       "  \"/>\n",
       "<polyline clip-path=\"url(#clip382)\" style=\"stroke:#000000; stroke-linecap:butt; stroke-linejoin:round; stroke-width:2; stroke-opacity:0.1; fill:none\" points=\"\n",
       "  249.542,735.212 2352.76,735.212 \n",
       "  \"/>\n",
       "<polyline clip-path=\"url(#clip382)\" style=\"stroke:#000000; stroke-linecap:butt; stroke-linejoin:round; stroke-width:2; stroke-opacity:0.1; fill:none\" points=\"\n",
       "  249.542,410.699 2352.76,410.699 \n",
       "  \"/>\n",
       "<polyline clip-path=\"url(#clip382)\" style=\"stroke:#000000; stroke-linecap:butt; stroke-linejoin:round; stroke-width:2; stroke-opacity:0.1; fill:none\" points=\"\n",
       "  249.542,86.1857 2352.76,86.1857 \n",
       "  \"/>\n",
       "<polyline clip-path=\"url(#clip380)\" style=\"stroke:#000000; stroke-linecap:butt; stroke-linejoin:round; stroke-width:4; stroke-opacity:1; fill:none\" points=\"\n",
       "  249.542,1423.18 249.542,47.2441 \n",
       "  \"/>\n",
       "<polyline clip-path=\"url(#clip380)\" style=\"stroke:#000000; stroke-linecap:butt; stroke-linejoin:round; stroke-width:4; stroke-opacity:1; fill:none\" points=\"\n",
       "  249.542,1384.24 268.44,1384.24 \n",
       "  \"/>\n",
       "<polyline clip-path=\"url(#clip380)\" style=\"stroke:#000000; stroke-linecap:butt; stroke-linejoin:round; stroke-width:4; stroke-opacity:1; fill:none\" points=\"\n",
       "  249.542,1059.73 268.44,1059.73 \n",
       "  \"/>\n",
       "<polyline clip-path=\"url(#clip380)\" style=\"stroke:#000000; stroke-linecap:butt; stroke-linejoin:round; stroke-width:4; stroke-opacity:1; fill:none\" points=\"\n",
       "  249.542,735.212 268.44,735.212 \n",
       "  \"/>\n",
       "<polyline clip-path=\"url(#clip380)\" style=\"stroke:#000000; stroke-linecap:butt; stroke-linejoin:round; stroke-width:4; stroke-opacity:1; fill:none\" points=\"\n",
       "  249.542,410.699 268.44,410.699 \n",
       "  \"/>\n",
       "<polyline clip-path=\"url(#clip380)\" style=\"stroke:#000000; stroke-linecap:butt; stroke-linejoin:round; stroke-width:4; stroke-opacity:1; fill:none\" points=\"\n",
       "  249.542,86.1857 268.44,86.1857 \n",
       "  \"/>\n",
       "<path clip-path=\"url(#clip380)\" d=\"M126.205 1370.04 Q122.593 1370.04 120.765 1373.6 Q118.959 1377.14 118.959 1384.27 Q118.959 1391.38 120.765 1394.94 Q122.593 1398.49 126.205 1398.49 Q129.839 1398.49 131.644 1394.94 Q133.473 1391.38 133.473 1384.27 Q133.473 1377.14 131.644 1373.6 Q129.839 1370.04 126.205 1370.04 M126.205 1366.33 Q132.015 1366.33 135.07 1370.94 Q138.149 1375.52 138.149 1384.27 Q138.149 1393 135.07 1397.61 Q132.015 1402.19 126.205 1402.19 Q120.394 1402.19 117.316 1397.61 Q114.26 1393 114.26 1384.27 Q114.26 1375.52 117.316 1370.94 Q120.394 1366.33 126.205 1366.33 Z\" fill=\"#000000\" fill-rule=\"evenodd\" fill-opacity=\"1\" /><path clip-path=\"url(#clip380)\" d=\"M146.366 1395.64 L151.251 1395.64 L151.251 1401.52 L146.366 1401.52 L146.366 1395.64 Z\" fill=\"#000000\" fill-rule=\"evenodd\" fill-opacity=\"1\" /><path clip-path=\"url(#clip380)\" d=\"M171.436 1370.04 Q167.825 1370.04 165.996 1373.6 Q164.19 1377.14 164.19 1384.27 Q164.19 1391.38 165.996 1394.94 Q167.825 1398.49 171.436 1398.49 Q175.07 1398.49 176.876 1394.94 Q178.704 1391.38 178.704 1384.27 Q178.704 1377.14 176.876 1373.6 Q175.07 1370.04 171.436 1370.04 M171.436 1366.33 Q177.246 1366.33 180.301 1370.94 Q183.38 1375.52 183.38 1384.27 Q183.38 1393 180.301 1397.61 Q177.246 1402.19 171.436 1402.19 Q165.626 1402.19 162.547 1397.61 Q159.491 1393 159.491 1384.27 Q159.491 1375.52 162.547 1370.94 Q165.626 1366.33 171.436 1366.33 Z\" fill=\"#000000\" fill-rule=\"evenodd\" fill-opacity=\"1\" /><path clip-path=\"url(#clip380)\" d=\"M201.598 1370.04 Q197.987 1370.04 196.158 1373.6 Q194.352 1377.14 194.352 1384.27 Q194.352 1391.38 196.158 1394.94 Q197.987 1398.49 201.598 1398.49 Q205.232 1398.49 207.037 1394.94 Q208.866 1391.38 208.866 1384.27 Q208.866 1377.14 207.037 1373.6 Q205.232 1370.04 201.598 1370.04 M201.598 1366.33 Q207.408 1366.33 210.463 1370.94 Q213.542 1375.52 213.542 1384.27 Q213.542 1393 210.463 1397.61 Q207.408 1402.19 201.598 1402.19 Q195.787 1402.19 192.709 1397.61 Q189.653 1393 189.653 1384.27 Q189.653 1375.52 192.709 1370.94 Q195.787 1366.33 201.598 1366.33 Z\" fill=\"#000000\" fill-rule=\"evenodd\" fill-opacity=\"1\" /><path clip-path=\"url(#clip380)\" d=\"M127.2 1045.52 Q123.589 1045.52 121.76 1049.09 Q119.955 1052.63 119.955 1059.76 Q119.955 1066.87 121.76 1070.43 Q123.589 1073.97 127.2 1073.97 Q130.834 1073.97 132.64 1070.43 Q134.468 1066.87 134.468 1059.76 Q134.468 1052.63 132.64 1049.09 Q130.834 1045.52 127.2 1045.52 M127.2 1041.82 Q133.01 1041.82 136.066 1046.43 Q139.144 1051.01 139.144 1059.76 Q139.144 1068.49 136.066 1073.09 Q133.01 1077.68 127.2 1077.68 Q121.39 1077.68 118.311 1073.09 Q115.256 1068.49 115.256 1059.76 Q115.256 1051.01 118.311 1046.43 Q121.39 1041.82 127.2 1041.82 Z\" fill=\"#000000\" fill-rule=\"evenodd\" fill-opacity=\"1\" /><path clip-path=\"url(#clip380)\" d=\"M147.362 1071.13 L152.246 1071.13 L152.246 1077.01 L147.362 1077.01 L147.362 1071.13 Z\" fill=\"#000000\" fill-rule=\"evenodd\" fill-opacity=\"1\" /><path clip-path=\"url(#clip380)\" d=\"M166.459 1073.07 L182.778 1073.07 L182.778 1077.01 L160.834 1077.01 L160.834 1073.07 Q163.496 1070.32 168.079 1065.69 Q172.686 1061.03 173.866 1059.69 Q176.112 1057.17 176.991 1055.43 Q177.894 1053.67 177.894 1051.98 Q177.894 1049.23 175.95 1047.49 Q174.028 1045.76 170.927 1045.76 Q168.727 1045.76 166.274 1046.52 Q163.843 1047.28 161.065 1048.83 L161.065 1044.11 Q163.89 1042.98 166.343 1042.4 Q168.797 1041.82 170.834 1041.82 Q176.204 1041.82 179.399 1044.51 Q182.593 1047.19 182.593 1051.68 Q182.593 1053.81 181.783 1055.73 Q180.996 1057.63 178.889 1060.22 Q178.311 1060.89 175.209 1064.11 Q172.107 1067.31 166.459 1073.07 Z\" fill=\"#000000\" fill-rule=\"evenodd\" fill-opacity=\"1\" /><path clip-path=\"url(#clip380)\" d=\"M192.639 1042.45 L210.996 1042.45 L210.996 1046.38 L196.922 1046.38 L196.922 1054.85 Q197.94 1054.51 198.959 1054.34 Q199.977 1054.16 200.996 1054.16 Q206.783 1054.16 210.162 1057.33 Q213.542 1060.5 213.542 1065.92 Q213.542 1071.5 210.07 1074.6 Q206.598 1077.68 200.278 1077.68 Q198.102 1077.68 195.834 1077.31 Q193.588 1076.94 191.181 1076.19 L191.181 1071.5 Q193.264 1072.63 195.487 1073.19 Q197.709 1073.74 200.186 1073.74 Q204.19 1073.74 206.528 1071.63 Q208.866 1069.53 208.866 1065.92 Q208.866 1062.31 206.528 1060.2 Q204.19 1058.09 200.186 1058.09 Q198.311 1058.09 196.436 1058.51 Q194.584 1058.93 192.639 1059.81 L192.639 1042.45 Z\" fill=\"#000000\" fill-rule=\"evenodd\" fill-opacity=\"1\" /><path clip-path=\"url(#clip380)\" d=\"M126.205 721.011 Q122.593 721.011 120.765 724.575 Q118.959 728.117 118.959 735.247 Q118.959 742.353 120.765 745.918 Q122.593 749.46 126.205 749.46 Q129.839 749.46 131.644 745.918 Q133.473 742.353 133.473 735.247 Q133.473 728.117 131.644 724.575 Q129.839 721.011 126.205 721.011 M126.205 717.307 Q132.015 717.307 135.07 721.913 Q138.149 726.497 138.149 735.247 Q138.149 743.973 135.07 748.58 Q132.015 753.163 126.205 753.163 Q120.394 753.163 117.316 748.58 Q114.26 743.973 114.26 735.247 Q114.26 726.497 117.316 721.913 Q120.394 717.307 126.205 717.307 Z\" fill=\"#000000\" fill-rule=\"evenodd\" fill-opacity=\"1\" /><path clip-path=\"url(#clip380)\" d=\"M146.366 746.612 L151.251 746.612 L151.251 752.492 L146.366 752.492 L146.366 746.612 Z\" fill=\"#000000\" fill-rule=\"evenodd\" fill-opacity=\"1\" /><path clip-path=\"url(#clip380)\" d=\"M161.482 717.932 L179.839 717.932 L179.839 721.867 L165.765 721.867 L165.765 730.339 Q166.783 729.992 167.802 729.83 Q168.82 729.645 169.839 729.645 Q175.626 729.645 179.005 732.816 Q182.385 735.987 182.385 741.404 Q182.385 746.983 178.913 750.085 Q175.44 753.163 169.121 753.163 Q166.945 753.163 164.677 752.793 Q162.431 752.423 160.024 751.682 L160.024 746.983 Q162.107 748.117 164.329 748.673 Q166.552 749.228 169.028 749.228 Q173.033 749.228 175.371 747.122 Q177.709 745.015 177.709 741.404 Q177.709 737.793 175.371 735.687 Q173.033 733.58 169.028 733.58 Q167.153 733.58 165.278 733.997 Q163.427 734.413 161.482 735.293 L161.482 717.932 Z\" fill=\"#000000\" fill-rule=\"evenodd\" fill-opacity=\"1\" /><path clip-path=\"url(#clip380)\" d=\"M201.598 721.011 Q197.987 721.011 196.158 724.575 Q194.352 728.117 194.352 735.247 Q194.352 742.353 196.158 745.918 Q197.987 749.46 201.598 749.46 Q205.232 749.46 207.037 745.918 Q208.866 742.353 208.866 735.247 Q208.866 728.117 207.037 724.575 Q205.232 721.011 201.598 721.011 M201.598 717.307 Q207.408 717.307 210.463 721.913 Q213.542 726.497 213.542 735.247 Q213.542 743.973 210.463 748.58 Q207.408 753.163 201.598 753.163 Q195.787 753.163 192.709 748.58 Q189.653 743.973 189.653 735.247 Q189.653 726.497 192.709 721.913 Q195.787 717.307 201.598 717.307 Z\" fill=\"#000000\" fill-rule=\"evenodd\" fill-opacity=\"1\" /><path clip-path=\"url(#clip380)\" d=\"M127.2 396.498 Q123.589 396.498 121.76 400.062 Q119.955 403.604 119.955 410.734 Q119.955 417.84 121.76 421.405 Q123.589 424.946 127.2 424.946 Q130.834 424.946 132.64 421.405 Q134.468 417.84 134.468 410.734 Q134.468 403.604 132.64 400.062 Q130.834 396.498 127.2 396.498 M127.2 392.794 Q133.01 392.794 136.066 397.4 Q139.144 401.984 139.144 410.734 Q139.144 419.46 136.066 424.067 Q133.01 428.65 127.2 428.65 Q121.39 428.65 118.311 424.067 Q115.256 419.46 115.256 410.734 Q115.256 401.984 118.311 397.4 Q121.39 392.794 127.2 392.794 Z\" fill=\"#000000\" fill-rule=\"evenodd\" fill-opacity=\"1\" /><path clip-path=\"url(#clip380)\" d=\"M147.362 422.099 L152.246 422.099 L152.246 427.979 L147.362 427.979 L147.362 422.099 Z\" fill=\"#000000\" fill-rule=\"evenodd\" fill-opacity=\"1\" /><path clip-path=\"url(#clip380)\" d=\"M161.251 393.419 L183.473 393.419 L183.473 395.41 L170.927 427.979 L166.042 427.979 L177.848 397.354 L161.251 397.354 L161.251 393.419 Z\" fill=\"#000000\" fill-rule=\"evenodd\" fill-opacity=\"1\" /><path clip-path=\"url(#clip380)\" d=\"M192.639 393.419 L210.996 393.419 L210.996 397.354 L196.922 397.354 L196.922 405.826 Q197.94 405.479 198.959 405.317 Q199.977 405.132 200.996 405.132 Q206.783 405.132 210.162 408.303 Q213.542 411.474 213.542 416.891 Q213.542 422.47 210.07 425.571 Q206.598 428.65 200.278 428.65 Q198.102 428.65 195.834 428.28 Q193.588 427.909 191.181 427.169 L191.181 422.47 Q193.264 423.604 195.487 424.159 Q197.709 424.715 200.186 424.715 Q204.19 424.715 206.528 422.608 Q208.866 420.502 208.866 416.891 Q208.866 413.28 206.528 411.173 Q204.19 409.067 200.186 409.067 Q198.311 409.067 196.436 409.484 Q194.584 409.9 192.639 410.78 L192.639 393.419 Z\" fill=\"#000000\" fill-rule=\"evenodd\" fill-opacity=\"1\" /><path clip-path=\"url(#clip380)\" d=\"M117.015 99.5305 L124.654 99.5305 L124.654 73.1649 L116.343 74.8316 L116.343 70.5723 L124.607 68.9057 L129.283 68.9057 L129.283 99.5305 L136.922 99.5305 L136.922 103.466 L117.015 103.466 L117.015 99.5305 Z\" fill=\"#000000\" fill-rule=\"evenodd\" fill-opacity=\"1\" /><path clip-path=\"url(#clip380)\" d=\"M146.366 97.5861 L151.251 97.5861 L151.251 103.466 L146.366 103.466 L146.366 97.5861 Z\" fill=\"#000000\" fill-rule=\"evenodd\" fill-opacity=\"1\" /><path clip-path=\"url(#clip380)\" d=\"M171.436 71.9844 Q167.825 71.9844 165.996 75.5492 Q164.19 79.0908 164.19 86.2204 Q164.19 93.3268 165.996 96.8916 Q167.825 100.433 171.436 100.433 Q175.07 100.433 176.876 96.8916 Q178.704 93.3268 178.704 86.2204 Q178.704 79.0908 176.876 75.5492 Q175.07 71.9844 171.436 71.9844 M171.436 68.2807 Q177.246 68.2807 180.301 72.8871 Q183.38 77.4704 183.38 86.2204 Q183.38 94.9472 180.301 99.5537 Q177.246 104.137 171.436 104.137 Q165.626 104.137 162.547 99.5537 Q159.491 94.9472 159.491 86.2204 Q159.491 77.4704 162.547 72.8871 Q165.626 68.2807 171.436 68.2807 Z\" fill=\"#000000\" fill-rule=\"evenodd\" fill-opacity=\"1\" /><path clip-path=\"url(#clip380)\" d=\"M201.598 71.9844 Q197.987 71.9844 196.158 75.5492 Q194.352 79.0908 194.352 86.2204 Q194.352 93.3268 196.158 96.8916 Q197.987 100.433 201.598 100.433 Q205.232 100.433 207.037 96.8916 Q208.866 93.3268 208.866 86.2204 Q208.866 79.0908 207.037 75.5492 Q205.232 71.9844 201.598 71.9844 M201.598 68.2807 Q207.408 68.2807 210.463 72.8871 Q213.542 77.4704 213.542 86.2204 Q213.542 94.9472 210.463 99.5537 Q207.408 104.137 201.598 104.137 Q195.787 104.137 192.709 99.5537 Q189.653 94.9472 189.653 86.2204 Q189.653 77.4704 192.709 72.8871 Q195.787 68.2807 201.598 68.2807 Z\" fill=\"#000000\" fill-rule=\"evenodd\" fill-opacity=\"1\" /><path clip-path=\"url(#clip380)\" d=\"M67.3143 740.496 Q73.68 742.978 75.6216 745.333 Q77.5631 747.689 77.5631 751.635 L77.5631 756.314 L72.6615 756.314 L72.6615 752.877 Q72.6615 750.458 71.5157 749.121 Q70.3699 747.784 66.1048 746.161 L63.4312 745.111 L28.3562 759.529 L28.3562 753.322 L56.238 742.182 L28.3562 731.042 L28.3562 724.836 L67.3143 740.496 Z\" fill=\"#000000\" fill-rule=\"evenodd\" fill-opacity=\"1\" /><path clip-path=\"url(#clip380)\" d=\"M28.3562 716.751 L28.3562 710.895 L64.6407 710.895 Q71.452 710.895 74.5076 713.505 Q77.5631 716.083 77.5631 721.844 L77.5631 724.072 L72.5979 724.072 L72.5979 722.512 Q72.5979 719.17 71.0383 717.961 Q69.5105 716.751 64.6407 716.751 L28.3562 716.751 M14.479 716.751 L14.479 710.895 L21.895 710.895 L21.895 716.751 L14.479 716.751 Z\" fill=\"#000000\" fill-rule=\"evenodd\" fill-opacity=\"1\" /><polyline clip-path=\"url(#clip382)\" style=\"stroke:#009af9; stroke-linecap:butt; stroke-linejoin:round; stroke-width:4; stroke-opacity:1; fill:none\" points=\"\n",
       "  309.067,86.1857 309.067,86.1861 309.072,86.1903 309.115,86.2325 309.551,86.6539 310.894,87.95 313.448,90.4094 317.588,94.3767 323.982,100.459 333.409,109.331 \n",
       "  346.809,121.743 365.238,138.442 389.885,160.121 422.061,187.335 463.215,220.428 514.957,259.459 579.097,304.146 657.719,353.826 753.286,407.459 868.783,463.649 \n",
       "  1007.95,520.712 1175.59,576.769 1378.04,629.879 1623.76,678.18 1924.05,720.065 2293.23,754.374 \n",
       "  \"/>\n",
       "<polyline clip-path=\"url(#clip382)\" style=\"stroke:#e26f46; stroke-linecap:butt; stroke-linejoin:round; stroke-width:4; stroke-opacity:1; fill:none\" points=\"\n",
       "  309.067,1384.24 309.067,1384.24 309.072,1384.24 309.115,1384.21 309.551,1384 310.894,1383.36 313.448,1382.13 317.588,1380.15 323.982,1377.12 333.409,1372.71 \n",
       "  346.809,1366.57 365.238,1358.34 389.885,1347.73 422.061,1334.54 463.215,1318.68 514.957,1300.25 579.097,1279.54 657.719,1257.05 753.286,1233.48 868.783,1209.68 \n",
       "  1007.95,1186.67 1175.59,1165.5 1378.04,1147.24 1623.76,1132.87 1924.05,1123.22 2293.23,1118.79 \n",
       "  \"/>\n",
       "<polyline clip-path=\"url(#clip382)\" style=\"stroke:#3da44d; stroke-linecap:butt; stroke-linejoin:round; stroke-width:4; stroke-opacity:1; fill:none\" points=\"\n",
       "  309.067,1384.24 309.067,1384.24 309.072,1384.24 309.115,1384.24 309.551,1384.24 310.894,1384.24 313.448,1384.24 317.588,1384.23 323.982,1384.23 333.409,1384.21 \n",
       "  346.809,1384.17 365.238,1384.09 389.885,1383.93 422.061,1383.65 463.215,1383.2 514.957,1382.47 579.097,1381.38 657.719,1379.81 753.286,1377.65 868.783,1374.79 \n",
       "  1007.95,1371.11 1175.59,1366.54 1378.04,1361.01 1623.76,1354.49 1924.05,1346.96 2293.23,1338.47 \n",
       "  \"/>\n",
       "<polyline clip-path=\"url(#clip382)\" style=\"stroke:#c271d2; stroke-linecap:butt; stroke-linejoin:round; stroke-width:4; stroke-opacity:1; fill:none\" points=\"\n",
       "  309.067,1384.24 309.067,1384.24 309.072,1384.24 309.115,1384.21 309.551,1384 310.894,1383.36 313.448,1382.13 317.588,1380.14 323.982,1377.1 333.409,1372.65 \n",
       "  346.809,1366.42 365.238,1358.03 389.885,1347.12 422.061,1333.37 463.215,1316.6 514.957,1296.72 579.097,1273.83 657.719,1248.21 753.286,1220.31 868.783,1190.78 \n",
       "  1007.95,1160.41 1175.59,1130.1 1378.04,1100.78 1623.76,1073.37 1924.05,1048.66 2293.23,1027.26 \n",
       "  \"/>\n",
       "<path clip-path=\"url(#clip380)\" d=\"\n",
       "M1988.61 352.309 L2282.65 352.309 L2282.65 93.1086 L1988.61 93.1086  Z\n",
       "  \" fill=\"#ffffff\" fill-rule=\"evenodd\" fill-opacity=\"1\"/>\n",
       "<polyline clip-path=\"url(#clip380)\" style=\"stroke:#000000; stroke-linecap:butt; stroke-linejoin:round; stroke-width:4; stroke-opacity:1; fill:none\" points=\"\n",
       "  1988.61,352.309 2282.65,352.309 2282.65,93.1086 1988.61,93.1086 1988.61,352.309 \n",
       "  \"/>\n",
       "<polyline clip-path=\"url(#clip380)\" style=\"stroke:#009af9; stroke-linecap:butt; stroke-linejoin:round; stroke-width:4; stroke-opacity:1; fill:none\" points=\"\n",
       "  2011.98,144.949 2152.19,144.949 \n",
       "  \"/>\n",
       "<path clip-path=\"url(#clip380)\" d=\"M2189.41 164.636 Q2187.6 169.266 2185.89 170.678 Q2184.17 172.09 2181.3 172.09 L2177.9 172.09 L2177.9 168.525 L2180.4 168.525 Q2182.16 168.525 2183.13 167.692 Q2184.11 166.858 2185.29 163.756 L2186.05 161.812 L2175.56 136.303 L2180.08 136.303 L2188.18 156.581 L2196.28 136.303 L2200.8 136.303 L2189.41 164.636 Z\" fill=\"#000000\" fill-rule=\"evenodd\" fill-opacity=\"1\" /><path clip-path=\"url(#clip380)\" d=\"M2211.54 145.724 L2211.54 158.386 L2219.04 158.386 Q2222.81 158.386 2224.61 156.835 Q2226.44 155.261 2226.44 152.043 Q2226.44 148.803 2224.61 147.275 Q2222.81 145.724 2219.04 145.724 L2211.54 145.724 M2211.54 131.511 L2211.54 141.928 L2218.46 141.928 Q2221.88 141.928 2223.55 140.655 Q2225.24 139.358 2225.24 136.719 Q2225.24 134.104 2223.55 132.807 Q2221.88 131.511 2218.46 131.511 L2211.54 131.511 M2206.86 127.669 L2218.8 127.669 Q2224.15 127.669 2227.04 129.891 Q2229.94 132.113 2229.94 136.21 Q2229.94 139.382 2228.46 141.257 Q2226.98 143.131 2224.11 143.594 Q2227.55 144.335 2229.45 146.696 Q2231.37 149.034 2231.37 152.553 Q2231.37 157.182 2228.23 159.705 Q2225.08 162.229 2219.27 162.229 L2206.86 162.229 L2206.86 127.669 Z\" fill=\"#000000\" fill-rule=\"evenodd\" fill-opacity=\"1\" /><polyline clip-path=\"url(#clip380)\" style=\"stroke:#e26f46; stroke-linecap:butt; stroke-linejoin:round; stroke-width:4; stroke-opacity:1; fill:none\" points=\"\n",
       "  2011.98,196.789 2152.19,196.789 \n",
       "  \"/>\n",
       "<path clip-path=\"url(#clip380)\" d=\"M2189.41 216.476 Q2187.6 221.106 2185.89 222.518 Q2184.17 223.93 2181.3 223.93 L2177.9 223.93 L2177.9 220.365 L2180.4 220.365 Q2182.16 220.365 2183.13 219.532 Q2184.11 218.698 2185.29 215.596 L2186.05 213.652 L2175.56 188.143 L2180.08 188.143 L2188.18 208.421 L2196.28 188.143 L2200.8 188.143 L2189.41 216.476 Z\" fill=\"#000000\" fill-rule=\"evenodd\" fill-opacity=\"1\" /><path clip-path=\"url(#clip380)\" d=\"M2211.54 183.351 L2211.54 210.226 L2217.18 210.226 Q2224.34 210.226 2227.65 206.985 Q2230.98 203.745 2230.98 196.754 Q2230.98 189.809 2227.65 186.592 Q2224.34 183.351 2217.18 183.351 L2211.54 183.351 M2206.86 179.509 L2216.47 179.509 Q2226.51 179.509 2231.21 183.698 Q2235.91 187.865 2235.91 196.754 Q2235.91 205.689 2231.19 209.879 Q2226.47 214.069 2216.47 214.069 L2206.86 214.069 L2206.86 179.509 Z\" fill=\"#000000\" fill-rule=\"evenodd\" fill-opacity=\"1\" /><polyline clip-path=\"url(#clip380)\" style=\"stroke:#3da44d; stroke-linecap:butt; stroke-linejoin:round; stroke-width:4; stroke-opacity:1; fill:none\" points=\"\n",
       "  2011.98,248.629 2152.19,248.629 \n",
       "  \"/>\n",
       "<path clip-path=\"url(#clip380)\" d=\"M2189.41 268.316 Q2187.6 272.946 2185.89 274.358 Q2184.17 275.77 2181.3 275.77 L2177.9 275.77 L2177.9 272.205 L2180.4 272.205 Q2182.16 272.205 2183.13 271.372 Q2184.11 270.538 2185.29 267.436 L2186.05 265.492 L2175.56 239.983 L2180.08 239.983 L2188.18 260.261 L2196.28 239.983 L2200.8 239.983 L2189.41 268.316 Z\" fill=\"#000000\" fill-rule=\"evenodd\" fill-opacity=\"1\" /><path clip-path=\"url(#clip380)\" d=\"M2202.07 231.349 L2231.3 231.349 L2231.3 235.284 L2219.04 235.284 L2219.04 265.909 L2214.34 265.909 L2214.34 235.284 L2202.07 235.284 L2202.07 231.349 Z\" fill=\"#000000\" fill-rule=\"evenodd\" fill-opacity=\"1\" /><polyline clip-path=\"url(#clip380)\" style=\"stroke:#c271d2; stroke-linecap:butt; stroke-linejoin:round; stroke-width:4; stroke-opacity:1; fill:none\" points=\"\n",
       "  2011.98,300.469 2152.19,300.469 \n",
       "  \"/>\n",
       "<path clip-path=\"url(#clip380)\" d=\"M2189.41 320.156 Q2187.6 324.786 2185.89 326.198 Q2184.17 327.61 2181.3 327.61 L2177.9 327.61 L2177.9 324.045 L2180.4 324.045 Q2182.16 324.045 2183.13 323.212 Q2184.11 322.378 2185.29 319.276 L2186.05 317.332 L2175.56 291.823 L2180.08 291.823 L2188.18 312.101 L2196.28 291.823 L2200.8 291.823 L2189.41 320.156 Z\" fill=\"#000000\" fill-rule=\"evenodd\" fill-opacity=\"1\" /><path clip-path=\"url(#clip380)\" d=\"M2206.86 283.189 L2211.54 283.189 L2211.54 297.355 L2228.53 297.355 L2228.53 283.189 L2233.2 283.189 L2233.2 317.749 L2228.53 317.749 L2228.53 301.29 L2211.54 301.29 L2211.54 317.749 L2206.86 317.749 L2206.86 283.189 Z\" fill=\"#000000\" fill-rule=\"evenodd\" fill-opacity=\"1\" /></svg>\n"
      ]
     },
     "execution_count": 102,
     "metadata": {},
     "output_type": "execute_result"
    }
   ],
   "source": [
    "plot(sol.t, [yB, yD, yT, yH], labels = [\"yB\" \"yD\" \"yT\" \"yH\"], xlabel = \"V(L)\", ylabel = \"yj\")"
   ]
  },
  {
   "cell_type": "markdown",
   "id": "informal-release",
   "metadata": {},
   "source": [
    "## Parametric Sensitivity of Differential Equations"
   ]
  },
  {
   "cell_type": "code",
   "execution_count": 3,
   "id": "fleet-sentence",
   "metadata": {},
   "outputs": [
    {
     "data": {
      "text/plain": [
       "rate! (generic function with 1 method)"
      ]
     },
     "execution_count": 3,
     "metadata": {},
     "output_type": "execute_result"
    }
   ],
   "source": [
    "function rate!(dc, c, p, t)\n",
    "    dc[1] = -p[1] * c[1]\n",
    "end"
   ]
  },
  {
   "cell_type": "code",
   "execution_count": 29,
   "id": "under-waterproof",
   "metadata": {},
   "outputs": [
    {
     "data": {
      "text/plain": [
       "(0.0, 5.0)"
      ]
     },
     "execution_count": 29,
     "metadata": {},
     "output_type": "execute_result"
    }
   ],
   "source": [
    "tspan = (0.0, 5.0)"
   ]
  },
  {
   "cell_type": "code",
   "execution_count": 37,
   "id": "square-beach",
   "metadata": {},
   "outputs": [
    {
     "data": {
      "text/plain": [
       "cprofile (generic function with 1 method)"
      ]
     },
     "execution_count": 37,
     "metadata": {},
     "output_type": "execute_result"
    }
   ],
   "source": [
    "function cprofile(x)\n",
    "    prob = ODEProblem(rate!, [x[1]], tspan, [x[2]])\n",
    "    de.solve(prob, Rodas4(),saveat = 0.1)\n",
    "end"
   ]
  },
  {
   "cell_type": "code",
   "execution_count": 38,
   "id": "removed-mouse",
   "metadata": {},
   "outputs": [
    {
     "data": {
      "text/plain": [
       "51×2 Matrix{Float64}:\n",
       " 1.0          0.0\n",
       " 0.904837    -0.180968\n",
       " 0.818731    -0.327493\n",
       " 0.740818    -0.444491\n",
       " 0.670321    -0.536252\n",
       " 0.606531    -0.606532\n",
       " 0.548813    -0.658565\n",
       " 0.496585    -0.69522\n",
       " 0.44933     -0.718918\n",
       " 0.40657     -0.731821\n",
       " 0.367879    -0.73576\n",
       " 0.332874    -0.732299\n",
       " 0.301195    -0.722861\n",
       " ⋮           \n",
       " 0.0202437   -0.157882\n",
       " 0.0183162   -0.146522\n",
       " 0.0165738   -0.135894\n",
       " 0.0149986   -0.125962\n",
       " 0.0135734   -0.116689\n",
       " 0.0122804   -0.108038\n",
       " 0.0111111   -0.0999786\n",
       " 0.0100533   -0.0924748\n",
       " 0.00909672  -0.0854945\n",
       " 0.00823186  -0.0790061\n",
       " 0.00744931  -0.0729782\n",
       " 0.00673962  -0.0673792"
      ]
     },
     "execution_count": 38,
     "metadata": {},
     "output_type": "execute_result"
    }
   ],
   "source": [
    "csol = cprofile([2.0;1.0])\n",
    "csens = ForwardDiff.jacobian(cprofile,[2.0;1.0])"
   ]
  },
  {
   "cell_type": "code",
   "execution_count": 39,
   "id": "furnished-mount",
   "metadata": {},
   "outputs": [
    {
     "data": {
      "text/plain": [
       "51×2 Matrix{Float64}:\n",
       " 1.0         -0.0\n",
       " 0.904837    -0.180967\n",
       " 0.818731    -0.327492\n",
       " 0.740818    -0.444491\n",
       " 0.67032     -0.536256\n",
       " 0.606531    -0.606531\n",
       " 0.548812    -0.658574\n",
       " 0.496585    -0.695219\n",
       " 0.449329    -0.718926\n",
       " 0.40657     -0.731825\n",
       " 0.367879    -0.735759\n",
       " 0.332871    -0.732316\n",
       " 0.301194    -0.722866\n",
       " ⋮           \n",
       " 0.0202419   -0.157887\n",
       " 0.0183156   -0.146525\n",
       " 0.0165727   -0.135896\n",
       " 0.0149956   -0.125963\n",
       " 0.0135686   -0.11669\n",
       " 0.0122773   -0.108041\n",
       " 0.011109    -0.099981\n",
       " 0.0100518   -0.0924769\n",
       " 0.00909528  -0.0854956\n",
       " 0.00822975  -0.0790056\n",
       " 0.00744658  -0.0729765\n",
       " 0.00673795  -0.0673795"
      ]
     },
     "execution_count": 39,
     "metadata": {},
     "output_type": "execute_result"
    }
   ],
   "source": [
    "csens_analy = hcat([exp(-t) for t in csol.t], [-2.0*t*exp(-t) for t in csol.t])"
   ]
  },
  {
   "cell_type": "code",
   "execution_count": 42,
   "id": "broad-multiple",
   "metadata": {},
   "outputs": [
    {
     "data": {
      "image/svg+xml": [
       "<?xml version=\"1.0\" encoding=\"utf-8\"?>\n",
       "<svg xmlns=\"http://www.w3.org/2000/svg\" xmlns:xlink=\"http://www.w3.org/1999/xlink\" width=\"600\" height=\"400\" viewBox=\"0 0 2400 1600\">\n",
       "<defs>\n",
       "  <clipPath id=\"clip790\">\n",
       "    <rect x=\"0\" y=\"0\" width=\"2400\" height=\"1600\"/>\n",
       "  </clipPath>\n",
       "</defs>\n",
       "<path clip-path=\"url(#clip790)\" d=\"\n",
       "M0 1600 L2400 1600 L2400 0 L0 0  Z\n",
       "  \" fill=\"#ffffff\" fill-rule=\"evenodd\" fill-opacity=\"1\"/>\n",
       "<defs>\n",
       "  <clipPath id=\"clip791\">\n",
       "    <rect x=\"480\" y=\"0\" width=\"1681\" height=\"1600\"/>\n",
       "  </clipPath>\n",
       "</defs>\n",
       "<path clip-path=\"url(#clip790)\" d=\"\n",
       "M186.274 1486.45 L2352.76 1486.45 L2352.76 47.2441 L186.274 47.2441  Z\n",
       "  \" fill=\"#ffffff\" fill-rule=\"evenodd\" fill-opacity=\"1\"/>\n",
       "<defs>\n",
       "  <clipPath id=\"clip792\">\n",
       "    <rect x=\"186\" y=\"47\" width=\"2167\" height=\"1440\"/>\n",
       "  </clipPath>\n",
       "</defs>\n",
       "<polyline clip-path=\"url(#clip792)\" style=\"stroke:#000000; stroke-linecap:butt; stroke-linejoin:round; stroke-width:2; stroke-opacity:0.1; fill:none\" points=\"\n",
       "  247.59,1486.45 247.59,47.2441 \n",
       "  \"/>\n",
       "<polyline clip-path=\"url(#clip792)\" style=\"stroke:#000000; stroke-linecap:butt; stroke-linejoin:round; stroke-width:2; stroke-opacity:0.1; fill:none\" points=\"\n",
       "  656.36,1486.45 656.36,47.2441 \n",
       "  \"/>\n",
       "<polyline clip-path=\"url(#clip792)\" style=\"stroke:#000000; stroke-linecap:butt; stroke-linejoin:round; stroke-width:2; stroke-opacity:0.1; fill:none\" points=\"\n",
       "  1065.13,1486.45 1065.13,47.2441 \n",
       "  \"/>\n",
       "<polyline clip-path=\"url(#clip792)\" style=\"stroke:#000000; stroke-linecap:butt; stroke-linejoin:round; stroke-width:2; stroke-opacity:0.1; fill:none\" points=\"\n",
       "  1473.9,1486.45 1473.9,47.2441 \n",
       "  \"/>\n",
       "<polyline clip-path=\"url(#clip792)\" style=\"stroke:#000000; stroke-linecap:butt; stroke-linejoin:round; stroke-width:2; stroke-opacity:0.1; fill:none\" points=\"\n",
       "  1882.67,1486.45 1882.67,47.2441 \n",
       "  \"/>\n",
       "<polyline clip-path=\"url(#clip792)\" style=\"stroke:#000000; stroke-linecap:butt; stroke-linejoin:round; stroke-width:2; stroke-opacity:0.1; fill:none\" points=\"\n",
       "  2291.44,1486.45 2291.44,47.2441 \n",
       "  \"/>\n",
       "<polyline clip-path=\"url(#clip790)\" style=\"stroke:#000000; stroke-linecap:butt; stroke-linejoin:round; stroke-width:4; stroke-opacity:1; fill:none\" points=\"\n",
       "  186.274,1486.45 2352.76,1486.45 \n",
       "  \"/>\n",
       "<polyline clip-path=\"url(#clip790)\" style=\"stroke:#000000; stroke-linecap:butt; stroke-linejoin:round; stroke-width:4; stroke-opacity:1; fill:none\" points=\"\n",
       "  247.59,1486.45 247.59,1467.55 \n",
       "  \"/>\n",
       "<polyline clip-path=\"url(#clip790)\" style=\"stroke:#000000; stroke-linecap:butt; stroke-linejoin:round; stroke-width:4; stroke-opacity:1; fill:none\" points=\"\n",
       "  656.36,1486.45 656.36,1467.55 \n",
       "  \"/>\n",
       "<polyline clip-path=\"url(#clip790)\" style=\"stroke:#000000; stroke-linecap:butt; stroke-linejoin:round; stroke-width:4; stroke-opacity:1; fill:none\" points=\"\n",
       "  1065.13,1486.45 1065.13,1467.55 \n",
       "  \"/>\n",
       "<polyline clip-path=\"url(#clip790)\" style=\"stroke:#000000; stroke-linecap:butt; stroke-linejoin:round; stroke-width:4; stroke-opacity:1; fill:none\" points=\"\n",
       "  1473.9,1486.45 1473.9,1467.55 \n",
       "  \"/>\n",
       "<polyline clip-path=\"url(#clip790)\" style=\"stroke:#000000; stroke-linecap:butt; stroke-linejoin:round; stroke-width:4; stroke-opacity:1; fill:none\" points=\"\n",
       "  1882.67,1486.45 1882.67,1467.55 \n",
       "  \"/>\n",
       "<polyline clip-path=\"url(#clip790)\" style=\"stroke:#000000; stroke-linecap:butt; stroke-linejoin:round; stroke-width:4; stroke-opacity:1; fill:none\" points=\"\n",
       "  2291.44,1486.45 2291.44,1467.55 \n",
       "  \"/>\n",
       "<path clip-path=\"url(#clip790)\" d=\"M247.59 1515.64 Q243.978 1515.64 242.15 1519.2 Q240.344 1522.75 240.344 1529.87 Q240.344 1536.98 242.15 1540.55 Q243.978 1544.09 247.59 1544.09 Q251.224 1544.09 253.029 1540.55 Q254.858 1536.98 254.858 1529.87 Q254.858 1522.75 253.029 1519.2 Q251.224 1515.64 247.59 1515.64 M247.59 1511.93 Q253.4 1511.93 256.455 1516.54 Q259.534 1521.12 259.534 1529.87 Q259.534 1538.6 256.455 1543.21 Q253.4 1547.79 247.59 1547.79 Q241.779 1547.79 238.701 1543.21 Q235.645 1538.6 235.645 1529.87 Q235.645 1521.12 238.701 1516.54 Q241.779 1511.93 247.59 1511.93 Z\" fill=\"#000000\" fill-rule=\"evenodd\" fill-opacity=\"1\" /><path clip-path=\"url(#clip790)\" d=\"M646.742 1543.18 L654.381 1543.18 L654.381 1516.82 L646.07 1518.49 L646.07 1514.23 L654.334 1512.56 L659.01 1512.56 L659.01 1543.18 L666.649 1543.18 L666.649 1547.12 L646.742 1547.12 L646.742 1543.18 Z\" fill=\"#000000\" fill-rule=\"evenodd\" fill-opacity=\"1\" /><path clip-path=\"url(#clip790)\" d=\"M1059.78 1543.18 L1076.1 1543.18 L1076.1 1547.12 L1054.16 1547.12 L1054.16 1543.18 Q1056.82 1540.43 1061.4 1535.8 Q1066.01 1531.15 1067.19 1529.81 Q1069.44 1527.28 1070.32 1525.55 Q1071.22 1523.79 1071.22 1522.1 Q1071.22 1519.34 1069.27 1517.61 Q1067.35 1515.87 1064.25 1515.87 Q1062.05 1515.87 1059.6 1516.63 Q1057.17 1517.4 1054.39 1518.95 L1054.39 1514.23 Q1057.21 1513.09 1059.67 1512.51 Q1062.12 1511.93 1064.16 1511.93 Q1069.53 1511.93 1072.72 1514.62 Q1075.92 1517.31 1075.92 1521.8 Q1075.92 1523.93 1075.11 1525.85 Q1074.32 1527.74 1072.21 1530.34 Q1071.63 1531.01 1068.53 1534.23 Q1065.43 1537.42 1059.78 1543.18 Z\" fill=\"#000000\" fill-rule=\"evenodd\" fill-opacity=\"1\" /><path clip-path=\"url(#clip790)\" d=\"M1478.15 1528.49 Q1481.5 1529.2 1483.38 1531.47 Q1485.28 1533.74 1485.28 1537.07 Q1485.28 1542.19 1481.76 1544.99 Q1478.24 1547.79 1471.76 1547.79 Q1469.58 1547.79 1467.27 1547.35 Q1464.98 1546.93 1462.52 1546.08 L1462.52 1541.56 Q1464.47 1542.7 1466.78 1543.28 Q1469.1 1543.86 1471.62 1543.86 Q1476.02 1543.86 1478.31 1542.12 Q1480.62 1540.38 1480.62 1537.07 Q1480.62 1534.02 1478.47 1532.31 Q1476.34 1530.57 1472.52 1530.57 L1468.49 1530.57 L1468.49 1526.73 L1472.71 1526.73 Q1476.16 1526.73 1477.99 1525.36 Q1479.81 1523.97 1479.81 1521.38 Q1479.81 1518.72 1477.92 1517.31 Q1476.04 1515.87 1472.52 1515.87 Q1470.6 1515.87 1468.4 1516.29 Q1466.2 1516.7 1463.56 1517.58 L1463.56 1513.42 Q1466.23 1512.68 1468.54 1512.31 Q1470.88 1511.93 1472.94 1511.93 Q1478.26 1511.93 1481.37 1514.37 Q1484.47 1516.77 1484.47 1520.89 Q1484.47 1523.76 1482.82 1525.75 Q1481.18 1527.72 1478.15 1528.49 Z\" fill=\"#000000\" fill-rule=\"evenodd\" fill-opacity=\"1\" /><path clip-path=\"url(#clip790)\" d=\"M1885.68 1516.63 L1873.87 1535.08 L1885.68 1535.08 L1885.68 1516.63 M1884.45 1512.56 L1890.33 1512.56 L1890.33 1535.08 L1895.26 1535.08 L1895.26 1538.97 L1890.33 1538.97 L1890.33 1547.12 L1885.68 1547.12 L1885.68 1538.97 L1870.08 1538.97 L1870.08 1534.46 L1884.45 1512.56 Z\" fill=\"#000000\" fill-rule=\"evenodd\" fill-opacity=\"1\" /><path clip-path=\"url(#clip790)\" d=\"M2281.72 1512.56 L2300.07 1512.56 L2300.07 1516.5 L2286 1516.5 L2286 1524.97 Q2287.02 1524.62 2288.04 1524.46 Q2289.06 1524.27 2290.07 1524.27 Q2295.86 1524.27 2299.24 1527.44 Q2302.62 1530.62 2302.62 1536.03 Q2302.62 1541.61 2299.15 1544.71 Q2295.68 1547.79 2289.36 1547.79 Q2287.18 1547.79 2284.91 1547.42 Q2282.67 1547.05 2280.26 1546.31 L2280.26 1541.61 Q2282.34 1542.74 2284.57 1543.3 Q2286.79 1543.86 2289.26 1543.86 Q2293.27 1543.86 2295.61 1541.75 Q2297.94 1539.64 2297.94 1536.03 Q2297.94 1532.42 2295.61 1530.31 Q2293.27 1528.21 2289.26 1528.21 Q2287.39 1528.21 2285.51 1528.62 Q2283.66 1529.04 2281.72 1529.92 L2281.72 1512.56 Z\" fill=\"#000000\" fill-rule=\"evenodd\" fill-opacity=\"1\" /><polyline clip-path=\"url(#clip792)\" style=\"stroke:#000000; stroke-linecap:butt; stroke-linejoin:round; stroke-width:2; stroke-opacity:0.1; fill:none\" points=\"\n",
       "  186.274,1454.93 2352.76,1454.93 \n",
       "  \"/>\n",
       "<polyline clip-path=\"url(#clip792)\" style=\"stroke:#000000; stroke-linecap:butt; stroke-linejoin:round; stroke-width:2; stroke-opacity:0.1; fill:none\" points=\"\n",
       "  186.274,1113.19 2352.76,1113.19 \n",
       "  \"/>\n",
       "<polyline clip-path=\"url(#clip792)\" style=\"stroke:#000000; stroke-linecap:butt; stroke-linejoin:round; stroke-width:2; stroke-opacity:0.1; fill:none\" points=\"\n",
       "  186.274,771.451 2352.76,771.451 \n",
       "  \"/>\n",
       "<polyline clip-path=\"url(#clip792)\" style=\"stroke:#000000; stroke-linecap:butt; stroke-linejoin:round; stroke-width:2; stroke-opacity:0.1; fill:none\" points=\"\n",
       "  186.274,429.714 2352.76,429.714 \n",
       "  \"/>\n",
       "<polyline clip-path=\"url(#clip792)\" style=\"stroke:#000000; stroke-linecap:butt; stroke-linejoin:round; stroke-width:2; stroke-opacity:0.1; fill:none\" points=\"\n",
       "  186.274,87.9763 2352.76,87.9763 \n",
       "  \"/>\n",
       "<polyline clip-path=\"url(#clip790)\" style=\"stroke:#000000; stroke-linecap:butt; stroke-linejoin:round; stroke-width:4; stroke-opacity:1; fill:none\" points=\"\n",
       "  186.274,1486.45 186.274,47.2441 \n",
       "  \"/>\n",
       "<polyline clip-path=\"url(#clip790)\" style=\"stroke:#000000; stroke-linecap:butt; stroke-linejoin:round; stroke-width:4; stroke-opacity:1; fill:none\" points=\"\n",
       "  186.274,1454.93 205.172,1454.93 \n",
       "  \"/>\n",
       "<polyline clip-path=\"url(#clip790)\" style=\"stroke:#000000; stroke-linecap:butt; stroke-linejoin:round; stroke-width:4; stroke-opacity:1; fill:none\" points=\"\n",
       "  186.274,1113.19 205.172,1113.19 \n",
       "  \"/>\n",
       "<polyline clip-path=\"url(#clip790)\" style=\"stroke:#000000; stroke-linecap:butt; stroke-linejoin:round; stroke-width:4; stroke-opacity:1; fill:none\" points=\"\n",
       "  186.274,771.451 205.172,771.451 \n",
       "  \"/>\n",
       "<polyline clip-path=\"url(#clip790)\" style=\"stroke:#000000; stroke-linecap:butt; stroke-linejoin:round; stroke-width:4; stroke-opacity:1; fill:none\" points=\"\n",
       "  186.274,429.714 205.172,429.714 \n",
       "  \"/>\n",
       "<polyline clip-path=\"url(#clip790)\" style=\"stroke:#000000; stroke-linecap:butt; stroke-linejoin:round; stroke-width:4; stroke-opacity:1; fill:none\" points=\"\n",
       "  186.274,87.9763 205.172,87.9763 \n",
       "  \"/>\n",
       "<path clip-path=\"url(#clip790)\" d=\"M62.9365 1440.72 Q59.3254 1440.72 57.4967 1444.29 Q55.6912 1447.83 55.6912 1454.96 Q55.6912 1462.07 57.4967 1465.63 Q59.3254 1469.17 62.9365 1469.17 Q66.5707 1469.17 68.3763 1465.63 Q70.205 1462.07 70.205 1454.96 Q70.205 1447.83 68.3763 1444.29 Q66.5707 1440.72 62.9365 1440.72 M62.9365 1437.02 Q68.7467 1437.02 71.8022 1441.63 Q74.8809 1446.21 74.8809 1454.96 Q74.8809 1463.69 71.8022 1468.29 Q68.7467 1472.88 62.9365 1472.88 Q57.1264 1472.88 54.0477 1468.29 Q50.9921 1463.69 50.9921 1454.96 Q50.9921 1446.21 54.0477 1441.63 Q57.1264 1437.02 62.9365 1437.02 Z\" fill=\"#000000\" fill-rule=\"evenodd\" fill-opacity=\"1\" /><path clip-path=\"url(#clip790)\" d=\"M83.0984 1466.33 L87.9827 1466.33 L87.9827 1472.21 L83.0984 1472.21 L83.0984 1466.33 Z\" fill=\"#000000\" fill-rule=\"evenodd\" fill-opacity=\"1\" /><path clip-path=\"url(#clip790)\" d=\"M108.168 1440.72 Q104.557 1440.72 102.728 1444.29 Q100.922 1447.83 100.922 1454.96 Q100.922 1462.07 102.728 1465.63 Q104.557 1469.17 108.168 1469.17 Q111.802 1469.17 113.608 1465.63 Q115.436 1462.07 115.436 1454.96 Q115.436 1447.83 113.608 1444.29 Q111.802 1440.72 108.168 1440.72 M108.168 1437.02 Q113.978 1437.02 117.033 1441.63 Q120.112 1446.21 120.112 1454.96 Q120.112 1463.69 117.033 1468.29 Q113.978 1472.88 108.168 1472.88 Q102.358 1472.88 99.2789 1468.29 Q96.2234 1463.69 96.2234 1454.96 Q96.2234 1446.21 99.2789 1441.63 Q102.358 1437.02 108.168 1437.02 Z\" fill=\"#000000\" fill-rule=\"evenodd\" fill-opacity=\"1\" /><path clip-path=\"url(#clip790)\" d=\"M138.33 1440.72 Q134.719 1440.72 132.89 1444.29 Q131.084 1447.83 131.084 1454.96 Q131.084 1462.07 132.89 1465.63 Q134.719 1469.17 138.33 1469.17 Q141.964 1469.17 143.769 1465.63 Q145.598 1462.07 145.598 1454.96 Q145.598 1447.83 143.769 1444.29 Q141.964 1440.72 138.33 1440.72 M138.33 1437.02 Q144.14 1437.02 147.195 1441.63 Q150.274 1446.21 150.274 1454.96 Q150.274 1463.69 147.195 1468.29 Q144.14 1472.88 138.33 1472.88 Q132.519 1472.88 129.441 1468.29 Q126.385 1463.69 126.385 1454.96 Q126.385 1446.21 129.441 1441.63 Q132.519 1437.02 138.33 1437.02 Z\" fill=\"#000000\" fill-rule=\"evenodd\" fill-opacity=\"1\" /><path clip-path=\"url(#clip790)\" d=\"M63.9319 1098.99 Q60.3208 1098.99 58.4921 1102.55 Q56.6865 1106.09 56.6865 1113.22 Q56.6865 1120.33 58.4921 1123.89 Q60.3208 1127.44 63.9319 1127.44 Q67.5661 1127.44 69.3717 1123.89 Q71.2004 1120.33 71.2004 1113.22 Q71.2004 1106.09 69.3717 1102.55 Q67.5661 1098.99 63.9319 1098.99 M63.9319 1095.28 Q69.742 1095.28 72.7976 1099.89 Q75.8763 1104.47 75.8763 1113.22 Q75.8763 1121.95 72.7976 1126.56 Q69.742 1131.14 63.9319 1131.14 Q58.1217 1131.14 55.043 1126.56 Q51.9875 1121.95 51.9875 1113.22 Q51.9875 1104.47 55.043 1099.89 Q58.1217 1095.28 63.9319 1095.28 Z\" fill=\"#000000\" fill-rule=\"evenodd\" fill-opacity=\"1\" /><path clip-path=\"url(#clip790)\" d=\"M84.0938 1124.59 L88.978 1124.59 L88.978 1130.47 L84.0938 1130.47 L84.0938 1124.59 Z\" fill=\"#000000\" fill-rule=\"evenodd\" fill-opacity=\"1\" /><path clip-path=\"url(#clip790)\" d=\"M103.191 1126.53 L119.51 1126.53 L119.51 1130.47 L97.566 1130.47 L97.566 1126.53 Q100.228 1123.78 104.811 1119.15 Q109.418 1114.5 110.598 1113.15 Q112.844 1110.63 113.723 1108.89 Q114.626 1107.14 114.626 1105.45 Q114.626 1102.69 112.682 1100.95 Q110.76 1099.22 107.658 1099.22 Q105.459 1099.22 103.006 1099.98 Q100.575 1100.75 97.7974 1102.3 L97.7974 1097.58 Q100.621 1096.44 103.075 1095.86 Q105.529 1095.28 107.566 1095.28 Q112.936 1095.28 116.131 1097.97 Q119.325 1100.65 119.325 1105.14 Q119.325 1107.27 118.515 1109.2 Q117.728 1111.09 115.621 1113.69 Q115.043 1114.36 111.941 1117.58 Q108.839 1120.77 103.191 1126.53 Z\" fill=\"#000000\" fill-rule=\"evenodd\" fill-opacity=\"1\" /><path clip-path=\"url(#clip790)\" d=\"M129.371 1095.91 L147.728 1095.91 L147.728 1099.84 L133.654 1099.84 L133.654 1108.32 Q134.672 1107.97 135.691 1107.81 Q136.709 1107.62 137.728 1107.62 Q143.515 1107.62 146.894 1110.79 Q150.274 1113.96 150.274 1119.38 Q150.274 1124.96 146.802 1128.06 Q143.33 1131.14 137.01 1131.14 Q134.834 1131.14 132.566 1130.77 Q130.32 1130.4 127.913 1129.66 L127.913 1124.96 Q129.996 1126.09 132.219 1126.65 Q134.441 1127.2 136.918 1127.2 Q140.922 1127.2 143.26 1125.1 Q145.598 1122.99 145.598 1119.38 Q145.598 1115.77 143.26 1113.66 Q140.922 1111.56 136.918 1111.56 Q135.043 1111.56 133.168 1111.97 Q131.316 1112.39 129.371 1113.27 L129.371 1095.91 Z\" fill=\"#000000\" fill-rule=\"evenodd\" fill-opacity=\"1\" /><path clip-path=\"url(#clip790)\" d=\"M62.9365 757.25 Q59.3254 757.25 57.4967 760.815 Q55.6912 764.356 55.6912 771.486 Q55.6912 778.592 57.4967 782.157 Q59.3254 785.699 62.9365 785.699 Q66.5707 785.699 68.3763 782.157 Q70.205 778.592 70.205 771.486 Q70.205 764.356 68.3763 760.815 Q66.5707 757.25 62.9365 757.25 M62.9365 753.546 Q68.7467 753.546 71.8022 758.153 Q74.8809 762.736 74.8809 771.486 Q74.8809 780.213 71.8022 784.819 Q68.7467 789.402 62.9365 789.402 Q57.1264 789.402 54.0477 784.819 Q50.9921 780.213 50.9921 771.486 Q50.9921 762.736 54.0477 758.153 Q57.1264 753.546 62.9365 753.546 Z\" fill=\"#000000\" fill-rule=\"evenodd\" fill-opacity=\"1\" /><path clip-path=\"url(#clip790)\" d=\"M83.0984 782.852 L87.9827 782.852 L87.9827 788.731 L83.0984 788.731 L83.0984 782.852 Z\" fill=\"#000000\" fill-rule=\"evenodd\" fill-opacity=\"1\" /><path clip-path=\"url(#clip790)\" d=\"M98.2141 754.171 L116.57 754.171 L116.57 758.106 L102.496 758.106 L102.496 766.579 Q103.515 766.231 104.534 766.069 Q105.552 765.884 106.571 765.884 Q112.358 765.884 115.737 769.055 Q119.117 772.227 119.117 777.643 Q119.117 783.222 115.645 786.324 Q112.172 789.402 105.853 789.402 Q103.677 789.402 101.409 789.032 Q99.1632 788.662 96.7558 787.921 L96.7558 783.222 Q98.8391 784.356 101.061 784.912 Q103.284 785.467 105.76 785.467 Q109.765 785.467 112.103 783.361 Q114.441 781.254 114.441 777.643 Q114.441 774.032 112.103 771.926 Q109.765 769.819 105.76 769.819 Q103.885 769.819 102.01 770.236 Q100.159 770.653 98.2141 771.532 L98.2141 754.171 Z\" fill=\"#000000\" fill-rule=\"evenodd\" fill-opacity=\"1\" /><path clip-path=\"url(#clip790)\" d=\"M138.33 757.25 Q134.719 757.25 132.89 760.815 Q131.084 764.356 131.084 771.486 Q131.084 778.592 132.89 782.157 Q134.719 785.699 138.33 785.699 Q141.964 785.699 143.769 782.157 Q145.598 778.592 145.598 771.486 Q145.598 764.356 143.769 760.815 Q141.964 757.25 138.33 757.25 M138.33 753.546 Q144.14 753.546 147.195 758.153 Q150.274 762.736 150.274 771.486 Q150.274 780.213 147.195 784.819 Q144.14 789.402 138.33 789.402 Q132.519 789.402 129.441 784.819 Q126.385 780.213 126.385 771.486 Q126.385 762.736 129.441 758.153 Q132.519 753.546 138.33 753.546 Z\" fill=\"#000000\" fill-rule=\"evenodd\" fill-opacity=\"1\" /><path clip-path=\"url(#clip790)\" d=\"M63.9319 415.512 Q60.3208 415.512 58.4921 419.077 Q56.6865 422.619 56.6865 429.748 Q56.6865 436.855 58.4921 440.42 Q60.3208 443.961 63.9319 443.961 Q67.5661 443.961 69.3717 440.42 Q71.2004 436.855 71.2004 429.748 Q71.2004 422.619 69.3717 419.077 Q67.5661 415.512 63.9319 415.512 M63.9319 411.809 Q69.742 411.809 72.7976 416.415 Q75.8763 420.999 75.8763 429.748 Q75.8763 438.475 72.7976 443.082 Q69.742 447.665 63.9319 447.665 Q58.1217 447.665 55.043 443.082 Q51.9875 438.475 51.9875 429.748 Q51.9875 420.999 55.043 416.415 Q58.1217 411.809 63.9319 411.809 Z\" fill=\"#000000\" fill-rule=\"evenodd\" fill-opacity=\"1\" /><path clip-path=\"url(#clip790)\" d=\"M84.0938 441.114 L88.978 441.114 L88.978 446.994 L84.0938 446.994 L84.0938 441.114 Z\" fill=\"#000000\" fill-rule=\"evenodd\" fill-opacity=\"1\" /><path clip-path=\"url(#clip790)\" d=\"M97.9826 412.434 L120.205 412.434 L120.205 414.424 L107.658 446.994 L102.774 446.994 L114.58 416.369 L97.9826 416.369 L97.9826 412.434 Z\" fill=\"#000000\" fill-rule=\"evenodd\" fill-opacity=\"1\" /><path clip-path=\"url(#clip790)\" d=\"M129.371 412.434 L147.728 412.434 L147.728 416.369 L133.654 416.369 L133.654 424.841 Q134.672 424.494 135.691 424.332 Q136.709 424.147 137.728 424.147 Q143.515 424.147 146.894 427.318 Q150.274 430.489 150.274 435.906 Q150.274 441.485 146.802 444.586 Q143.33 447.665 137.01 447.665 Q134.834 447.665 132.566 447.295 Q130.32 446.924 127.913 446.184 L127.913 441.485 Q129.996 442.619 132.219 443.174 Q134.441 443.73 136.918 443.73 Q140.922 443.73 143.26 441.623 Q145.598 439.517 145.598 435.906 Q145.598 432.295 143.26 430.188 Q140.922 428.082 136.918 428.082 Q135.043 428.082 133.168 428.498 Q131.316 428.915 129.371 429.795 L129.371 412.434 Z\" fill=\"#000000\" fill-rule=\"evenodd\" fill-opacity=\"1\" /><path clip-path=\"url(#clip790)\" d=\"M53.7467 101.321 L61.3856 101.321 L61.3856 74.9555 L53.0754 76.6222 L53.0754 72.3629 L61.3393 70.6963 L66.0152 70.6963 L66.0152 101.321 L73.654 101.321 L73.654 105.256 L53.7467 105.256 L53.7467 101.321 Z\" fill=\"#000000\" fill-rule=\"evenodd\" fill-opacity=\"1\" /><path clip-path=\"url(#clip790)\" d=\"M83.0984 99.3767 L87.9827 99.3767 L87.9827 105.256 L83.0984 105.256 L83.0984 99.3767 Z\" fill=\"#000000\" fill-rule=\"evenodd\" fill-opacity=\"1\" /><path clip-path=\"url(#clip790)\" d=\"M108.168 73.775 Q104.557 73.775 102.728 77.3398 Q100.922 80.8814 100.922 88.011 Q100.922 95.1174 102.728 98.6822 Q104.557 102.224 108.168 102.224 Q111.802 102.224 113.608 98.6822 Q115.436 95.1174 115.436 88.011 Q115.436 80.8814 113.608 77.3398 Q111.802 73.775 108.168 73.775 M108.168 70.0713 Q113.978 70.0713 117.033 74.6777 Q120.112 79.261 120.112 88.011 Q120.112 96.7378 117.033 101.344 Q113.978 105.928 108.168 105.928 Q102.358 105.928 99.2789 101.344 Q96.2234 96.7378 96.2234 88.011 Q96.2234 79.261 99.2789 74.6777 Q102.358 70.0713 108.168 70.0713 Z\" fill=\"#000000\" fill-rule=\"evenodd\" fill-opacity=\"1\" /><path clip-path=\"url(#clip790)\" d=\"M138.33 73.775 Q134.719 73.775 132.89 77.3398 Q131.084 80.8814 131.084 88.011 Q131.084 95.1174 132.89 98.6822 Q134.719 102.224 138.33 102.224 Q141.964 102.224 143.769 98.6822 Q145.598 95.1174 145.598 88.011 Q145.598 80.8814 143.769 77.3398 Q141.964 73.775 138.33 73.775 M138.33 70.0713 Q144.14 70.0713 147.195 74.6777 Q150.274 79.261 150.274 88.011 Q150.274 96.7378 147.195 101.344 Q144.14 105.928 138.33 105.928 Q132.519 105.928 129.441 101.344 Q126.385 96.7378 126.385 88.011 Q126.385 79.261 129.441 74.6777 Q132.519 70.0713 138.33 70.0713 Z\" fill=\"#000000\" fill-rule=\"evenodd\" fill-opacity=\"1\" /><polyline clip-path=\"url(#clip792)\" style=\"stroke:#009af9; stroke-linecap:butt; stroke-linejoin:round; stroke-width:4; stroke-opacity:1; fill:none\" points=\"\n",
       "  247.59,87.9763 288.467,218.059 329.344,335.762 370.221,442.265 411.098,538.631 451.975,625.829 492.852,704.726 533.729,776.119 574.606,840.714 615.483,899.165 \n",
       "  656.36,952.054 697.237,999.904 738.114,1043.21 778.991,1082.39 819.868,1117.84 860.745,1149.92 901.622,1178.94 942.499,1205.2 983.376,1228.97 1024.25,1250.47 \n",
       "  1065.13,1269.93 1106.01,1287.53 1146.88,1303.46 1187.76,1317.88 1228.64,1330.92 1269.51,1342.72 1310.39,1353.39 1351.27,1363.06 1392.15,1371.8 1433.02,1379.71 \n",
       "  1473.9,1386.87 1514.78,1393.34 1555.65,1399.2 1596.53,1404.51 1637.41,1409.31 1678.29,1413.65 1719.16,1417.57 1760.04,1421.12 1800.92,1424.34 1841.79,1427.25 \n",
       "  1882.67,1429.89 1923.55,1432.27 1964.42,1434.42 2005.3,1436.37 2046.18,1438.14 2087.06,1439.74 2127.93,1441.18 2168.81,1442.49 2209.69,1443.67 2250.56,1444.74 \n",
       "  2291.44,1445.71 \n",
       "  \"/>\n",
       "<polyline clip-path=\"url(#clip792)\" style=\"stroke:#e26f46; stroke-linecap:butt; stroke-linejoin:round; stroke-width:4; stroke-opacity:1; fill:none\" points=\"\n",
       "  247.59,87.9763 288.467,218.059 329.344,335.762 370.221,442.265 411.098,538.632 451.975,625.829 492.852,704.728 533.729,776.119 574.606,840.716 615.483,899.166 \n",
       "  656.36,952.053 697.237,999.908 738.114,1043.21 778.991,1082.39 819.868,1117.84 860.745,1149.92 901.622,1178.94 942.499,1205.21 983.376,1228.97 1024.25,1250.47 \n",
       "  1065.13,1269.93 1106.01,1287.53 1146.88,1303.46 1187.76,1317.88 1228.64,1330.92 1269.51,1342.72 1310.39,1353.4 1351.27,1363.06 1392.15,1371.8 1433.02,1379.71 \n",
       "  1473.9,1386.87 1514.78,1393.35 1555.65,1399.21 1596.53,1404.51 1637.41,1409.31 1678.29,1413.65 1719.16,1417.58 1760.04,1421.13 1800.92,1424.35 1841.79,1427.26 \n",
       "  1882.67,1429.89 1923.55,1432.27 1964.42,1434.43 2005.3,1436.38 2046.18,1438.14 2087.06,1439.74 2127.93,1441.19 2168.81,1442.49 2209.69,1443.68 2250.56,1444.75 \n",
       "  2291.44,1445.72 \n",
       "  \"/>\n",
       "<path clip-path=\"url(#clip790)\" d=\"\n",
       "M1987.39 250.738 L2280.54 250.738 L2280.54 95.2176 L1987.39 95.2176  Z\n",
       "  \" fill=\"#ffffff\" fill-rule=\"evenodd\" fill-opacity=\"1\"/>\n",
       "<polyline clip-path=\"url(#clip790)\" style=\"stroke:#000000; stroke-linecap:butt; stroke-linejoin:round; stroke-width:4; stroke-opacity:1; fill:none\" points=\"\n",
       "  1987.39,250.738 2280.54,250.738 2280.54,95.2176 1987.39,95.2176 1987.39,250.738 \n",
       "  \"/>\n",
       "<polyline clip-path=\"url(#clip790)\" style=\"stroke:#009af9; stroke-linecap:butt; stroke-linejoin:round; stroke-width:4; stroke-opacity:1; fill:none\" points=\"\n",
       "  2011.46,147.058 2155.89,147.058 \n",
       "  \"/>\n",
       "<path clip-path=\"url(#clip790)\" d=\"M2193.81 166.745 Q2192 171.375 2190.29 172.787 Q2188.58 174.199 2185.71 174.199 L2182.3 174.199 L2182.3 170.634 L2184.8 170.634 Q2186.56 170.634 2187.53 169.8 Q2188.51 168.967 2189.69 165.865 L2190.45 163.921 L2179.97 138.412 L2184.48 138.412 L2192.58 158.689 L2200.68 138.412 L2205.2 138.412 L2193.81 166.745 Z\" fill=\"#000000\" fill-rule=\"evenodd\" fill-opacity=\"1\" /><path clip-path=\"url(#clip790)\" d=\"M2212.49 160.402 L2220.13 160.402 L2220.13 134.037 L2211.82 135.703 L2211.82 131.444 L2220.08 129.778 L2224.76 129.778 L2224.76 160.402 L2232.4 160.402 L2232.4 164.338 L2212.49 164.338 L2212.49 160.402 Z\" fill=\"#000000\" fill-rule=\"evenodd\" fill-opacity=\"1\" /><polyline clip-path=\"url(#clip790)\" style=\"stroke:#e26f46; stroke-linecap:butt; stroke-linejoin:round; stroke-width:4; stroke-opacity:1; fill:none\" points=\"\n",
       "  2011.46,198.898 2155.89,198.898 \n",
       "  \"/>\n",
       "<path clip-path=\"url(#clip790)\" d=\"M2193.81 218.585 Q2192 223.215 2190.29 224.627 Q2188.58 226.039 2185.71 226.039 L2182.3 226.039 L2182.3 222.474 L2184.8 222.474 Q2186.56 222.474 2187.53 221.64 Q2188.51 220.807 2189.69 217.705 L2190.45 215.761 L2179.97 190.252 L2184.48 190.252 L2192.58 210.529 L2200.68 190.252 L2205.2 190.252 L2193.81 218.585 Z\" fill=\"#000000\" fill-rule=\"evenodd\" fill-opacity=\"1\" /><path clip-path=\"url(#clip790)\" d=\"M2215.71 212.242 L2232.03 212.242 L2232.03 216.178 L2210.08 216.178 L2210.08 212.242 Q2212.74 209.488 2217.33 204.858 Q2221.93 200.205 2223.11 198.863 Q2225.36 196.34 2226.24 194.604 Q2227.14 192.844 2227.14 191.155 Q2227.14 188.4 2225.2 186.664 Q2223.28 184.928 2220.17 184.928 Q2217.97 184.928 2215.52 185.692 Q2213.09 186.455 2210.31 188.006 L2210.31 183.284 Q2213.14 182.15 2215.59 181.571 Q2218.04 180.993 2220.08 180.993 Q2225.45 180.993 2228.65 183.678 Q2231.84 186.363 2231.84 190.854 Q2231.84 192.983 2231.03 194.905 Q2230.24 196.803 2228.14 199.395 Q2227.56 200.067 2224.46 203.284 Q2221.35 206.479 2215.71 212.242 Z\" fill=\"#000000\" fill-rule=\"evenodd\" fill-opacity=\"1\" /></svg>\n"
      ]
     },
     "execution_count": 42,
     "metadata": {},
     "output_type": "execute_result"
    }
   ],
   "source": [
    "plot(csol.t, [csens[:, 1], csens_analy[:, 1]])"
   ]
  },
  {
   "cell_type": "code",
   "execution_count": 44,
   "id": "perfect-america",
   "metadata": {},
   "outputs": [
    {
     "data": {
      "image/svg+xml": [
       "<?xml version=\"1.0\" encoding=\"utf-8\"?>\n",
       "<svg xmlns=\"http://www.w3.org/2000/svg\" xmlns:xlink=\"http://www.w3.org/1999/xlink\" width=\"600\" height=\"400\" viewBox=\"0 0 2400 1600\">\n",
       "<defs>\n",
       "  <clipPath id=\"clip830\">\n",
       "    <rect x=\"0\" y=\"0\" width=\"2400\" height=\"1600\"/>\n",
       "  </clipPath>\n",
       "</defs>\n",
       "<path clip-path=\"url(#clip830)\" d=\"\n",
       "M0 1600 L2400 1600 L2400 0 L0 0  Z\n",
       "  \" fill=\"#ffffff\" fill-rule=\"evenodd\" fill-opacity=\"1\"/>\n",
       "<defs>\n",
       "  <clipPath id=\"clip831\">\n",
       "    <rect x=\"480\" y=\"0\" width=\"1681\" height=\"1600\"/>\n",
       "  </clipPath>\n",
       "</defs>\n",
       "<path clip-path=\"url(#clip830)\" d=\"\n",
       "M194.422 1486.45 L2352.76 1486.45 L2352.76 47.2441 L194.422 47.2441  Z\n",
       "  \" fill=\"#ffffff\" fill-rule=\"evenodd\" fill-opacity=\"1\"/>\n",
       "<defs>\n",
       "  <clipPath id=\"clip832\">\n",
       "    <rect x=\"194\" y=\"47\" width=\"2159\" height=\"1440\"/>\n",
       "  </clipPath>\n",
       "</defs>\n",
       "<polyline clip-path=\"url(#clip832)\" style=\"stroke:#000000; stroke-linecap:butt; stroke-linejoin:round; stroke-width:2; stroke-opacity:0.1; fill:none\" points=\"\n",
       "  255.507,1486.45 255.507,47.2441 \n",
       "  \"/>\n",
       "<polyline clip-path=\"url(#clip832)\" style=\"stroke:#000000; stroke-linecap:butt; stroke-linejoin:round; stroke-width:2; stroke-opacity:0.1; fill:none\" points=\"\n",
       "  662.74,1486.45 662.74,47.2441 \n",
       "  \"/>\n",
       "<polyline clip-path=\"url(#clip832)\" style=\"stroke:#000000; stroke-linecap:butt; stroke-linejoin:round; stroke-width:2; stroke-opacity:0.1; fill:none\" points=\"\n",
       "  1069.97,1486.45 1069.97,47.2441 \n",
       "  \"/>\n",
       "<polyline clip-path=\"url(#clip832)\" style=\"stroke:#000000; stroke-linecap:butt; stroke-linejoin:round; stroke-width:2; stroke-opacity:0.1; fill:none\" points=\"\n",
       "  1477.21,1486.45 1477.21,47.2441 \n",
       "  \"/>\n",
       "<polyline clip-path=\"url(#clip832)\" style=\"stroke:#000000; stroke-linecap:butt; stroke-linejoin:round; stroke-width:2; stroke-opacity:0.1; fill:none\" points=\"\n",
       "  1884.44,1486.45 1884.44,47.2441 \n",
       "  \"/>\n",
       "<polyline clip-path=\"url(#clip832)\" style=\"stroke:#000000; stroke-linecap:butt; stroke-linejoin:round; stroke-width:2; stroke-opacity:0.1; fill:none\" points=\"\n",
       "  2291.67,1486.45 2291.67,47.2441 \n",
       "  \"/>\n",
       "<polyline clip-path=\"url(#clip830)\" style=\"stroke:#000000; stroke-linecap:butt; stroke-linejoin:round; stroke-width:4; stroke-opacity:1; fill:none\" points=\"\n",
       "  194.422,1486.45 2352.76,1486.45 \n",
       "  \"/>\n",
       "<polyline clip-path=\"url(#clip830)\" style=\"stroke:#000000; stroke-linecap:butt; stroke-linejoin:round; stroke-width:4; stroke-opacity:1; fill:none\" points=\"\n",
       "  255.507,1486.45 255.507,1467.55 \n",
       "  \"/>\n",
       "<polyline clip-path=\"url(#clip830)\" style=\"stroke:#000000; stroke-linecap:butt; stroke-linejoin:round; stroke-width:4; stroke-opacity:1; fill:none\" points=\"\n",
       "  662.74,1486.45 662.74,1467.55 \n",
       "  \"/>\n",
       "<polyline clip-path=\"url(#clip830)\" style=\"stroke:#000000; stroke-linecap:butt; stroke-linejoin:round; stroke-width:4; stroke-opacity:1; fill:none\" points=\"\n",
       "  1069.97,1486.45 1069.97,1467.55 \n",
       "  \"/>\n",
       "<polyline clip-path=\"url(#clip830)\" style=\"stroke:#000000; stroke-linecap:butt; stroke-linejoin:round; stroke-width:4; stroke-opacity:1; fill:none\" points=\"\n",
       "  1477.21,1486.45 1477.21,1467.55 \n",
       "  \"/>\n",
       "<polyline clip-path=\"url(#clip830)\" style=\"stroke:#000000; stroke-linecap:butt; stroke-linejoin:round; stroke-width:4; stroke-opacity:1; fill:none\" points=\"\n",
       "  1884.44,1486.45 1884.44,1467.55 \n",
       "  \"/>\n",
       "<polyline clip-path=\"url(#clip830)\" style=\"stroke:#000000; stroke-linecap:butt; stroke-linejoin:round; stroke-width:4; stroke-opacity:1; fill:none\" points=\"\n",
       "  2291.67,1486.45 2291.67,1467.55 \n",
       "  \"/>\n",
       "<path clip-path=\"url(#clip830)\" d=\"M255.507 1515.64 Q251.896 1515.64 250.067 1519.2 Q248.262 1522.75 248.262 1529.87 Q248.262 1536.98 250.067 1540.55 Q251.896 1544.09 255.507 1544.09 Q259.141 1544.09 260.947 1540.55 Q262.776 1536.98 262.776 1529.87 Q262.776 1522.75 260.947 1519.2 Q259.141 1515.64 255.507 1515.64 M255.507 1511.93 Q261.317 1511.93 264.373 1516.54 Q267.451 1521.12 267.451 1529.87 Q267.451 1538.6 264.373 1543.21 Q261.317 1547.79 255.507 1547.79 Q249.697 1547.79 246.618 1543.21 Q243.563 1538.6 243.563 1529.87 Q243.563 1521.12 246.618 1516.54 Q249.697 1511.93 255.507 1511.93 Z\" fill=\"#000000\" fill-rule=\"evenodd\" fill-opacity=\"1\" /><path clip-path=\"url(#clip830)\" d=\"M653.122 1543.18 L660.761 1543.18 L660.761 1516.82 L652.451 1518.49 L652.451 1514.23 L660.714 1512.56 L665.39 1512.56 L665.39 1543.18 L673.029 1543.18 L673.029 1547.12 L653.122 1547.12 L653.122 1543.18 Z\" fill=\"#000000\" fill-rule=\"evenodd\" fill-opacity=\"1\" /><path clip-path=\"url(#clip830)\" d=\"M1064.63 1543.18 L1080.94 1543.18 L1080.94 1547.12 L1059 1547.12 L1059 1543.18 Q1061.66 1540.43 1066.25 1535.8 Q1070.85 1531.15 1072.03 1529.81 Q1074.28 1527.28 1075.16 1525.55 Q1076.06 1523.79 1076.06 1522.1 Q1076.06 1519.34 1074.12 1517.61 Q1072.19 1515.87 1069.09 1515.87 Q1066.89 1515.87 1064.44 1516.63 Q1062.01 1517.4 1059.23 1518.95 L1059.23 1514.23 Q1062.06 1513.09 1064.51 1512.51 Q1066.96 1511.93 1069 1511.93 Q1074.37 1511.93 1077.57 1514.62 Q1080.76 1517.31 1080.76 1521.8 Q1080.76 1523.93 1079.95 1525.85 Q1079.16 1527.74 1077.06 1530.34 Q1076.48 1531.01 1073.38 1534.23 Q1070.27 1537.42 1064.63 1543.18 Z\" fill=\"#000000\" fill-rule=\"evenodd\" fill-opacity=\"1\" /><path clip-path=\"url(#clip830)\" d=\"M1481.45 1528.49 Q1484.81 1529.2 1486.68 1531.47 Q1488.58 1533.74 1488.58 1537.07 Q1488.58 1542.19 1485.06 1544.99 Q1481.55 1547.79 1475.06 1547.79 Q1472.89 1547.79 1470.57 1547.35 Q1468.28 1546.93 1465.83 1546.08 L1465.83 1541.56 Q1467.77 1542.7 1470.09 1543.28 Q1472.4 1543.86 1474.93 1543.86 Q1479.32 1543.86 1481.62 1542.12 Q1483.93 1540.38 1483.93 1537.07 Q1483.93 1534.02 1481.78 1532.31 Q1479.65 1530.57 1475.83 1530.57 L1471.8 1530.57 L1471.8 1526.73 L1476.01 1526.73 Q1479.46 1526.73 1481.29 1525.36 Q1483.12 1523.97 1483.12 1521.38 Q1483.12 1518.72 1481.22 1517.31 Q1479.35 1515.87 1475.83 1515.87 Q1473.91 1515.87 1471.71 1516.29 Q1469.51 1516.7 1466.87 1517.58 L1466.87 1513.42 Q1469.53 1512.68 1471.85 1512.31 Q1474.18 1511.93 1476.24 1511.93 Q1481.57 1511.93 1484.67 1514.37 Q1487.77 1516.77 1487.77 1520.89 Q1487.77 1523.76 1486.13 1525.75 Q1484.49 1527.72 1481.45 1528.49 Z\" fill=\"#000000\" fill-rule=\"evenodd\" fill-opacity=\"1\" /><path clip-path=\"url(#clip830)\" d=\"M1887.45 1516.63 L1875.64 1535.08 L1887.45 1535.08 L1887.45 1516.63 M1886.22 1512.56 L1892.1 1512.56 L1892.1 1535.08 L1897.03 1535.08 L1897.03 1538.97 L1892.1 1538.97 L1892.1 1547.12 L1887.45 1547.12 L1887.45 1538.97 L1871.85 1538.97 L1871.85 1534.46 L1886.22 1512.56 Z\" fill=\"#000000\" fill-rule=\"evenodd\" fill-opacity=\"1\" /><path clip-path=\"url(#clip830)\" d=\"M2281.95 1512.56 L2300.31 1512.56 L2300.31 1516.5 L2286.23 1516.5 L2286.23 1524.97 Q2287.25 1524.62 2288.27 1524.46 Q2289.29 1524.27 2290.31 1524.27 Q2296.09 1524.27 2299.47 1527.44 Q2302.85 1530.62 2302.85 1536.03 Q2302.85 1541.61 2299.38 1544.71 Q2295.91 1547.79 2289.59 1547.79 Q2287.41 1547.79 2285.14 1547.42 Q2282.9 1547.05 2280.49 1546.31 L2280.49 1541.61 Q2282.57 1542.74 2284.8 1543.3 Q2287.02 1543.86 2289.5 1543.86 Q2293.5 1543.86 2295.84 1541.75 Q2298.18 1539.64 2298.18 1536.03 Q2298.18 1532.42 2295.84 1530.31 Q2293.5 1528.21 2289.5 1528.21 Q2287.62 1528.21 2285.75 1528.62 Q2283.89 1529.04 2281.95 1529.92 L2281.95 1512.56 Z\" fill=\"#000000\" fill-rule=\"evenodd\" fill-opacity=\"1\" /><polyline clip-path=\"url(#clip832)\" style=\"stroke:#000000; stroke-linecap:butt; stroke-linejoin:round; stroke-width:2; stroke-opacity:0.1; fill:none\" points=\"\n",
       "  194.422,1195.19 2352.76,1195.19 \n",
       "  \"/>\n",
       "<polyline clip-path=\"url(#clip832)\" style=\"stroke:#000000; stroke-linecap:butt; stroke-linejoin:round; stroke-width:2; stroke-opacity:0.1; fill:none\" points=\"\n",
       "  194.422,826.119 2352.76,826.119 \n",
       "  \"/>\n",
       "<polyline clip-path=\"url(#clip832)\" style=\"stroke:#000000; stroke-linecap:butt; stroke-linejoin:round; stroke-width:2; stroke-opacity:0.1; fill:none\" points=\"\n",
       "  194.422,457.048 2352.76,457.048 \n",
       "  \"/>\n",
       "<polyline clip-path=\"url(#clip832)\" style=\"stroke:#000000; stroke-linecap:butt; stroke-linejoin:round; stroke-width:2; stroke-opacity:0.1; fill:none\" points=\"\n",
       "  194.422,87.9763 2352.76,87.9763 \n",
       "  \"/>\n",
       "<polyline clip-path=\"url(#clip830)\" style=\"stroke:#000000; stroke-linecap:butt; stroke-linejoin:round; stroke-width:4; stroke-opacity:1; fill:none\" points=\"\n",
       "  194.422,1486.45 194.422,47.2441 \n",
       "  \"/>\n",
       "<polyline clip-path=\"url(#clip830)\" style=\"stroke:#000000; stroke-linecap:butt; stroke-linejoin:round; stroke-width:4; stroke-opacity:1; fill:none\" points=\"\n",
       "  194.422,1195.19 213.32,1195.19 \n",
       "  \"/>\n",
       "<polyline clip-path=\"url(#clip830)\" style=\"stroke:#000000; stroke-linecap:butt; stroke-linejoin:round; stroke-width:4; stroke-opacity:1; fill:none\" points=\"\n",
       "  194.422,826.119 213.32,826.119 \n",
       "  \"/>\n",
       "<polyline clip-path=\"url(#clip830)\" style=\"stroke:#000000; stroke-linecap:butt; stroke-linejoin:round; stroke-width:4; stroke-opacity:1; fill:none\" points=\"\n",
       "  194.422,457.048 213.32,457.048 \n",
       "  \"/>\n",
       "<polyline clip-path=\"url(#clip830)\" style=\"stroke:#000000; stroke-linecap:butt; stroke-linejoin:round; stroke-width:4; stroke-opacity:1; fill:none\" points=\"\n",
       "  194.422,87.9763 213.32,87.9763 \n",
       "  \"/>\n",
       "<path clip-path=\"url(#clip830)\" d=\"M51.3162 1195.64 L80.992 1195.64 L80.992 1199.58 L51.3162 1199.58 L51.3162 1195.64 Z\" fill=\"#000000\" fill-rule=\"evenodd\" fill-opacity=\"1\" /><path clip-path=\"url(#clip830)\" d=\"M101.084 1180.99 Q97.4734 1180.99 95.6447 1184.55 Q93.8391 1188.1 93.8391 1195.23 Q93.8391 1202.33 95.6447 1205.9 Q97.4734 1209.44 101.084 1209.44 Q104.719 1209.44 106.524 1205.9 Q108.353 1202.33 108.353 1195.23 Q108.353 1188.1 106.524 1184.55 Q104.719 1180.99 101.084 1180.99 M101.084 1177.29 Q106.895 1177.29 109.95 1181.89 Q113.029 1186.48 113.029 1195.23 Q113.029 1203.95 109.95 1208.56 Q106.895 1213.14 101.084 1213.14 Q95.2743 1213.14 92.1956 1208.56 Q89.1401 1203.95 89.1401 1195.23 Q89.1401 1186.48 92.1956 1181.89 Q95.2743 1177.29 101.084 1177.29 Z\" fill=\"#000000\" fill-rule=\"evenodd\" fill-opacity=\"1\" /><path clip-path=\"url(#clip830)\" d=\"M121.246 1206.59 L126.131 1206.59 L126.131 1212.47 L121.246 1212.47 L121.246 1206.59 Z\" fill=\"#000000\" fill-rule=\"evenodd\" fill-opacity=\"1\" /><path clip-path=\"url(#clip830)\" d=\"M146.894 1193.33 Q143.746 1193.33 141.894 1195.48 Q140.066 1197.63 140.066 1201.38 Q140.066 1205.11 141.894 1207.29 Q143.746 1209.44 146.894 1209.44 Q150.043 1209.44 151.871 1207.29 Q153.723 1205.11 153.723 1201.38 Q153.723 1197.63 151.871 1195.48 Q150.043 1193.33 146.894 1193.33 M156.177 1178.67 L156.177 1182.93 Q154.417 1182.1 152.612 1181.66 Q150.83 1181.22 149.07 1181.22 Q144.441 1181.22 141.987 1184.35 Q139.556 1187.47 139.209 1193.79 Q140.575 1191.78 142.635 1190.71 Q144.695 1189.62 147.172 1189.62 Q152.38 1189.62 155.39 1192.79 Q158.422 1195.94 158.422 1201.38 Q158.422 1206.71 155.274 1209.92 Q152.126 1213.14 146.894 1213.14 Q140.899 1213.14 137.728 1208.56 Q134.556 1203.95 134.556 1195.23 Q134.556 1187.03 138.445 1182.17 Q142.334 1177.29 148.885 1177.29 Q150.644 1177.29 152.427 1177.63 Q154.232 1177.98 156.177 1178.67 Z\" fill=\"#000000\" fill-rule=\"evenodd\" fill-opacity=\"1\" /><path clip-path=\"url(#clip830)\" d=\"M50.9921 826.571 L80.6679 826.571 L80.6679 830.506 L50.9921 830.506 L50.9921 826.571 Z\" fill=\"#000000\" fill-rule=\"evenodd\" fill-opacity=\"1\" /><path clip-path=\"url(#clip830)\" d=\"M100.76 811.918 Q97.1493 811.918 95.3206 815.483 Q93.515 819.024 93.515 826.154 Q93.515 833.26 95.3206 836.825 Q97.1493 840.367 100.76 840.367 Q104.395 840.367 106.2 836.825 Q108.029 833.26 108.029 826.154 Q108.029 819.024 106.2 815.483 Q104.395 811.918 100.76 811.918 M100.76 808.214 Q106.571 808.214 109.626 812.821 Q112.705 817.404 112.705 826.154 Q112.705 834.881 109.626 839.487 Q106.571 844.07 100.76 844.07 Q94.9502 844.07 91.8715 839.487 Q88.816 834.881 88.816 826.154 Q88.816 817.404 91.8715 812.821 Q94.9502 808.214 100.76 808.214 Z\" fill=\"#000000\" fill-rule=\"evenodd\" fill-opacity=\"1\" /><path clip-path=\"url(#clip830)\" d=\"M120.922 837.52 L125.807 837.52 L125.807 843.399 L120.922 843.399 L120.922 837.52 Z\" fill=\"#000000\" fill-rule=\"evenodd\" fill-opacity=\"1\" /><path clip-path=\"url(#clip830)\" d=\"M148.839 812.913 L137.033 831.362 L148.839 831.362 L148.839 812.913 M147.612 808.839 L153.492 808.839 L153.492 831.362 L158.422 831.362 L158.422 835.251 L153.492 835.251 L153.492 843.399 L148.839 843.399 L148.839 835.251 L133.237 835.251 L133.237 830.737 L147.612 808.839 Z\" fill=\"#000000\" fill-rule=\"evenodd\" fill-opacity=\"1\" /><path clip-path=\"url(#clip830)\" d=\"M53.0754 457.499 L82.7512 457.499 L82.7512 461.434 L53.0754 461.434 L53.0754 457.499 Z\" fill=\"#000000\" fill-rule=\"evenodd\" fill-opacity=\"1\" /><path clip-path=\"url(#clip830)\" d=\"M102.844 442.846 Q99.2326 442.846 97.4039 446.411 Q95.5984 449.953 95.5984 457.082 Q95.5984 464.189 97.4039 467.754 Q99.2326 471.295 102.844 471.295 Q106.478 471.295 108.283 467.754 Q110.112 464.189 110.112 457.082 Q110.112 449.953 108.283 446.411 Q106.478 442.846 102.844 442.846 M102.844 439.143 Q108.654 439.143 111.709 443.749 Q114.788 448.332 114.788 457.082 Q114.788 465.809 111.709 470.416 Q108.654 474.999 102.844 474.999 Q97.0335 474.999 93.9549 470.416 Q90.8993 465.809 90.8993 457.082 Q90.8993 448.332 93.9549 443.749 Q97.0335 439.143 102.844 439.143 Z\" fill=\"#000000\" fill-rule=\"evenodd\" fill-opacity=\"1\" /><path clip-path=\"url(#clip830)\" d=\"M123.006 468.448 L127.89 468.448 L127.89 474.328 L123.006 474.328 L123.006 468.448 Z\" fill=\"#000000\" fill-rule=\"evenodd\" fill-opacity=\"1\" /><path clip-path=\"url(#clip830)\" d=\"M142.103 470.393 L158.422 470.393 L158.422 474.328 L136.478 474.328 L136.478 470.393 Q139.14 467.638 143.723 463.008 Q148.33 458.356 149.51 457.013 Q151.755 454.49 152.635 452.754 Q153.538 450.994 153.538 449.305 Q153.538 446.55 151.593 444.814 Q149.672 443.078 146.57 443.078 Q144.371 443.078 141.918 443.842 Q139.487 444.606 136.709 446.157 L136.709 441.434 Q139.533 440.3 141.987 439.721 Q144.441 439.143 146.478 439.143 Q151.848 439.143 155.042 441.828 Q158.237 444.513 158.237 449.004 Q158.237 451.133 157.427 453.055 Q156.64 454.953 154.533 457.545 Q153.955 458.217 150.853 461.434 Q147.751 464.629 142.103 470.393 Z\" fill=\"#000000\" fill-rule=\"evenodd\" fill-opacity=\"1\" /><path clip-path=\"url(#clip830)\" d=\"M101.246 73.775 Q97.6354 73.775 95.8067 77.3398 Q94.0012 80.8814 94.0012 88.011 Q94.0012 95.1174 95.8067 98.6822 Q97.6354 102.224 101.246 102.224 Q104.881 102.224 106.686 98.6822 Q108.515 95.1174 108.515 88.011 Q108.515 80.8814 106.686 77.3398 Q104.881 73.775 101.246 73.775 M101.246 70.0713 Q107.057 70.0713 110.112 74.6777 Q113.191 79.261 113.191 88.011 Q113.191 96.7378 110.112 101.344 Q107.057 105.928 101.246 105.928 Q95.4363 105.928 92.3576 101.344 Q89.3021 96.7378 89.3021 88.011 Q89.3021 79.261 92.3576 74.6777 Q95.4363 70.0713 101.246 70.0713 Z\" fill=\"#000000\" fill-rule=\"evenodd\" fill-opacity=\"1\" /><path clip-path=\"url(#clip830)\" d=\"M121.408 99.3767 L126.293 99.3767 L126.293 105.256 L121.408 105.256 L121.408 99.3767 Z\" fill=\"#000000\" fill-rule=\"evenodd\" fill-opacity=\"1\" /><path clip-path=\"url(#clip830)\" d=\"M146.478 73.775 Q142.867 73.775 141.038 77.3398 Q139.232 80.8814 139.232 88.011 Q139.232 95.1174 141.038 98.6822 Q142.867 102.224 146.478 102.224 Q150.112 102.224 151.918 98.6822 Q153.746 95.1174 153.746 88.011 Q153.746 80.8814 151.918 77.3398 Q150.112 73.775 146.478 73.775 M146.478 70.0713 Q152.288 70.0713 155.343 74.6777 Q158.422 79.261 158.422 88.011 Q158.422 96.7378 155.343 101.344 Q152.288 105.928 146.478 105.928 Q140.668 105.928 137.589 101.344 Q134.533 96.7378 134.533 88.011 Q134.533 79.261 137.589 74.6777 Q140.668 70.0713 146.478 70.0713 Z\" fill=\"#000000\" fill-rule=\"evenodd\" fill-opacity=\"1\" /><polyline clip-path=\"url(#clip832)\" style=\"stroke:#009af9; stroke-linecap:butt; stroke-linejoin:round; stroke-width:4; stroke-opacity:1; fill:none\" points=\"\n",
       "  255.507,87.9763 296.23,421.926 336.954,692.317 377.677,908.22 418.4,1077.55 459.123,1207.24 499.847,1303.26 540.57,1370.91 581.293,1414.64 622.017,1438.45 \n",
       "  662.74,1445.72 703.463,1439.33 744.186,1421.91 784.91,1395.56 825.633,1362.11 866.356,1323.23 907.079,1280.2 947.803,1234.15 988.526,1186.07 1029.25,1136.79 \n",
       "  1069.97,1086.94 1110.7,1037.05 1151.42,987.615 1192.14,939.021 1232.87,891.526 1273.59,845.343 1314.31,800.661 1355.04,757.654 1395.76,716.376 1436.48,676.889 \n",
       "  1477.21,639.214 1517.93,603.369 1558.65,569.373 1599.38,537.177 1640.1,506.752 1680.82,478.046 1721.55,451.005 1762.27,425.578 1802.99,401.709 1843.71,379.325 \n",
       "  1884.44,358.362 1925.16,338.75 1965.88,320.421 2006.61,303.309 2047.33,287.345 2088.05,272.472 2128.78,258.625 2169.5,245.744 2210.22,233.771 2250.95,222.647 \n",
       "  2291.67,212.315 \n",
       "  \"/>\n",
       "<polyline clip-path=\"url(#clip832)\" style=\"stroke:#e26f46; stroke-linecap:butt; stroke-linejoin:round; stroke-width:4; stroke-opacity:1; fill:none\" points=\"\n",
       "  255.507,87.9763 296.23,421.926 336.954,692.317 377.677,908.221 418.4,1077.56 459.123,1207.24 499.847,1303.28 540.57,1370.9 581.293,1414.65 622.017,1438.46 \n",
       "  662.74,1445.71 703.463,1439.36 744.186,1421.92 784.91,1395.56 825.633,1362.14 866.356,1323.24 907.079,1280.2 947.803,1234.17 988.526,1186.1 1029.25,1136.8 \n",
       "  1069.97,1086.94 1110.7,1037.07 1151.42,987.65 1192.14,939.038 1232.87,891.53 1273.59,845.357 1314.31,800.695 1355.04,757.674 1395.76,716.387 1436.48,676.894 \n",
       "  1477.21,639.226 1517.93,603.394 1558.65,569.39 1599.38,537.19 1640.1,506.758 1680.82,478.051 1721.55,451.015 1762.27,425.592 1802.99,401.72 1843.71,379.334 \n",
       "  1884.44,358.367 1925.16,338.753 1965.88,320.423 2006.61,303.31 2047.33,287.35 2088.05,272.477 2128.78,258.629 2169.5,245.746 2210.22,233.77 2250.95,222.644 \n",
       "  2291.67,212.315 \n",
       "  \"/>\n",
       "<path clip-path=\"url(#clip830)\" d=\"\n",
       "M1988.57 250.738 L2280.81 250.738 L2280.81 95.2176 L1988.57 95.2176  Z\n",
       "  \" fill=\"#ffffff\" fill-rule=\"evenodd\" fill-opacity=\"1\"/>\n",
       "<polyline clip-path=\"url(#clip830)\" style=\"stroke:#000000; stroke-linecap:butt; stroke-linejoin:round; stroke-width:4; stroke-opacity:1; fill:none\" points=\"\n",
       "  1988.57,250.738 2280.81,250.738 2280.81,95.2176 1988.57,95.2176 1988.57,250.738 \n",
       "  \"/>\n",
       "<polyline clip-path=\"url(#clip830)\" style=\"stroke:#009af9; stroke-linecap:butt; stroke-linejoin:round; stroke-width:4; stroke-opacity:1; fill:none\" points=\"\n",
       "  2012.55,147.058 2156.44,147.058 \n",
       "  \"/>\n",
       "<path clip-path=\"url(#clip830)\" d=\"M2194.26 166.745 Q2192.46 171.375 2190.74 172.787 Q2189.03 174.199 2186.16 174.199 L2182.76 174.199 L2182.76 170.634 L2185.26 170.634 Q2187.02 170.634 2187.99 169.8 Q2188.96 168.967 2190.14 165.865 L2190.9 163.921 L2180.42 138.412 L2184.93 138.412 L2193.03 158.689 L2201.14 138.412 L2205.65 138.412 L2194.26 166.745 Z\" fill=\"#000000\" fill-rule=\"evenodd\" fill-opacity=\"1\" /><path clip-path=\"url(#clip830)\" d=\"M2212.94 160.402 L2220.58 160.402 L2220.58 134.037 L2212.27 135.703 L2212.27 131.444 L2220.53 129.778 L2225.21 129.778 L2225.21 160.402 L2232.85 160.402 L2232.85 164.338 L2212.94 164.338 L2212.94 160.402 Z\" fill=\"#000000\" fill-rule=\"evenodd\" fill-opacity=\"1\" /><polyline clip-path=\"url(#clip830)\" style=\"stroke:#e26f46; stroke-linecap:butt; stroke-linejoin:round; stroke-width:4; stroke-opacity:1; fill:none\" points=\"\n",
       "  2012.55,198.898 2156.44,198.898 \n",
       "  \"/>\n",
       "<path clip-path=\"url(#clip830)\" d=\"M2194.26 218.585 Q2192.46 223.215 2190.74 224.627 Q2189.03 226.039 2186.16 226.039 L2182.76 226.039 L2182.76 222.474 L2185.26 222.474 Q2187.02 222.474 2187.99 221.64 Q2188.96 220.807 2190.14 217.705 L2190.9 215.761 L2180.42 190.252 L2184.93 190.252 L2193.03 210.529 L2201.14 190.252 L2205.65 190.252 L2194.26 218.585 Z\" fill=\"#000000\" fill-rule=\"evenodd\" fill-opacity=\"1\" /><path clip-path=\"url(#clip830)\" d=\"M2216.16 212.242 L2232.48 212.242 L2232.48 216.178 L2210.53 216.178 L2210.53 212.242 Q2213.2 209.488 2217.78 204.858 Q2222.39 200.205 2223.57 198.863 Q2225.81 196.34 2226.69 194.604 Q2227.59 192.844 2227.59 191.155 Q2227.59 188.4 2225.65 186.664 Q2223.73 184.928 2220.63 184.928 Q2218.43 184.928 2215.97 185.692 Q2213.54 186.455 2210.77 188.006 L2210.77 183.284 Q2213.59 182.15 2216.04 181.571 Q2218.5 180.993 2220.53 180.993 Q2225.9 180.993 2229.1 183.678 Q2232.29 186.363 2232.29 190.854 Q2232.29 192.983 2231.48 194.905 Q2230.7 196.803 2228.59 199.395 Q2228.01 200.067 2224.91 203.284 Q2221.81 206.479 2216.16 212.242 Z\" fill=\"#000000\" fill-rule=\"evenodd\" fill-opacity=\"1\" /></svg>\n"
      ]
     },
     "execution_count": 44,
     "metadata": {},
     "output_type": "execute_result"
    }
   ],
   "source": [
    "plot(csol.t, [csens[:, 2], csens_analy[:, 2]])"
   ]
  },
  {
   "cell_type": "code",
   "execution_count": null,
   "id": "general-craft",
   "metadata": {},
   "outputs": [],
   "source": []
  }
 ],
 "metadata": {
  "kernelspec": {
   "display_name": "Julia 1.6.2",
   "language": "julia",
   "name": "julia-1.6"
  },
  "language_info": {
   "file_extension": ".jl",
   "mimetype": "application/julia",
   "name": "julia",
   "version": "1.6.2"
  }
 },
 "nbformat": 4,
 "nbformat_minor": 5
}
