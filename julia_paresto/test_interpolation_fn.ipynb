{
 "cells": [
  {
   "cell_type": "code",
   "execution_count": 6,
   "id": "dietary-niagara",
   "metadata": {},
   "outputs": [],
   "source": [
    "using InfiniteOpt\n",
    "using JuMP, Ipopt\n",
    "using Interpolations\n",
    "using Plots"
   ]
  },
  {
   "cell_type": "markdown",
   "id": "yellow-lending",
   "metadata": {},
   "source": [
    "Simulating the tank volume where there is a flow rate based on a certain time profile into a tank\n",
    "$$\n",
    "\\frac{dV}{dt} = q(t)\n",
    "$$"
   ]
  },
  {
   "cell_type": "code",
   "execution_count": 16,
   "id": "initial-wells",
   "metadata": {},
   "outputs": [
    {
     "data": {
      "text/plain": [
       "8-element Vector{Float64}:\n",
       " 1.0\n",
       " 1.0\n",
       " 0.0\n",
       " 0.0\n",
       " 5.0\n",
       " 5.0\n",
       " 0.0\n",
       " 0.0"
      ]
     },
     "execution_count": 16,
     "metadata": {},
     "output_type": "execute_result"
    }
   ],
   "source": [
    "# flowrate into tank\n",
    "tchg = [0.0, 1.9, 2.0, 6.9, 7.0, 11.9, 12.0, 100.0]\n",
    "qchg = [1.0, 1.0, 0.0, 0.0, 5.0, 5.0, 0.0, 0.0]"
   ]
  },
  {
   "cell_type": "code",
   "execution_count": 32,
   "id": "saved-military",
   "metadata": {},
   "outputs": [
    {
     "data": {
      "text/plain": [
       "8-element extrapolate(interpolate((::Vector{Float64},), ::Vector{Float64}, Gridded(Linear())), Throw()) with element type Float64:\n",
       " 1.0\n",
       " 1.0\n",
       " 0.0\n",
       " 0.0\n",
       " 5.0\n",
       " 5.0\n",
       " 0.0\n",
       " 0.0"
      ]
     },
     "execution_count": 32,
     "metadata": {},
     "output_type": "execute_result"
    }
   ],
   "source": [
    "# interpolated flowrate into tank\n",
    "qint = LinearInterpolation(tchg, qchg)"
   ]
  },
  {
   "cell_type": "code",
   "execution_count": 37,
   "id": "regular-ultimate",
   "metadata": {},
   "outputs": [
    {
     "data": {
      "image/svg+xml": [
       "<?xml version=\"1.0\" encoding=\"utf-8\"?>\n",
       "<svg xmlns=\"http://www.w3.org/2000/svg\" xmlns:xlink=\"http://www.w3.org/1999/xlink\" width=\"600\" height=\"400\" viewBox=\"0 0 2400 1600\">\n",
       "<defs>\n",
       "  <clipPath id=\"clip010\">\n",
       "    <rect x=\"0\" y=\"0\" width=\"2400\" height=\"1600\"/>\n",
       "  </clipPath>\n",
       "</defs>\n",
       "<path clip-path=\"url(#clip010)\" d=\"\n",
       "M0 1600 L2400 1600 L2400 0 L0 0  Z\n",
       "  \" fill=\"#ffffff\" fill-rule=\"evenodd\" fill-opacity=\"1\"/>\n",
       "<defs>\n",
       "  <clipPath id=\"clip011\">\n",
       "    <rect x=\"480\" y=\"0\" width=\"1681\" height=\"1600\"/>\n",
       "  </clipPath>\n",
       "</defs>\n",
       "<path clip-path=\"url(#clip010)\" d=\"\n",
       "M112.177 1486.45 L2352.76 1486.45 L2352.76 47.2441 L112.177 47.2441  Z\n",
       "  \" fill=\"#ffffff\" fill-rule=\"evenodd\" fill-opacity=\"1\"/>\n",
       "<defs>\n",
       "  <clipPath id=\"clip012\">\n",
       "    <rect x=\"112\" y=\"47\" width=\"2242\" height=\"1440\"/>\n",
       "  </clipPath>\n",
       "</defs>\n",
       "<polyline clip-path=\"url(#clip012)\" style=\"stroke:#000000; stroke-linecap:butt; stroke-linejoin:round; stroke-width:2; stroke-opacity:0.1; fill:none\" points=\"\n",
       "  175.59,1486.45 175.59,47.2441 \n",
       "  \"/>\n",
       "<polyline clip-path=\"url(#clip012)\" style=\"stroke:#000000; stroke-linecap:butt; stroke-linejoin:round; stroke-width:2; stroke-opacity:0.1; fill:none\" points=\"\n",
       "  704.028,1486.45 704.028,47.2441 \n",
       "  \"/>\n",
       "<polyline clip-path=\"url(#clip012)\" style=\"stroke:#000000; stroke-linecap:butt; stroke-linejoin:round; stroke-width:2; stroke-opacity:0.1; fill:none\" points=\"\n",
       "  1232.47,1486.45 1232.47,47.2441 \n",
       "  \"/>\n",
       "<polyline clip-path=\"url(#clip012)\" style=\"stroke:#000000; stroke-linecap:butt; stroke-linejoin:round; stroke-width:2; stroke-opacity:0.1; fill:none\" points=\"\n",
       "  1760.9,1486.45 1760.9,47.2441 \n",
       "  \"/>\n",
       "<polyline clip-path=\"url(#clip012)\" style=\"stroke:#000000; stroke-linecap:butt; stroke-linejoin:round; stroke-width:2; stroke-opacity:0.1; fill:none\" points=\"\n",
       "  2289.34,1486.45 2289.34,47.2441 \n",
       "  \"/>\n",
       "<polyline clip-path=\"url(#clip010)\" style=\"stroke:#000000; stroke-linecap:butt; stroke-linejoin:round; stroke-width:4; stroke-opacity:1; fill:none\" points=\"\n",
       "  112.177,1486.45 2352.76,1486.45 \n",
       "  \"/>\n",
       "<polyline clip-path=\"url(#clip010)\" style=\"stroke:#000000; stroke-linecap:butt; stroke-linejoin:round; stroke-width:4; stroke-opacity:1; fill:none\" points=\"\n",
       "  175.59,1486.45 175.59,1467.55 \n",
       "  \"/>\n",
       "<polyline clip-path=\"url(#clip010)\" style=\"stroke:#000000; stroke-linecap:butt; stroke-linejoin:round; stroke-width:4; stroke-opacity:1; fill:none\" points=\"\n",
       "  704.028,1486.45 704.028,1467.55 \n",
       "  \"/>\n",
       "<polyline clip-path=\"url(#clip010)\" style=\"stroke:#000000; stroke-linecap:butt; stroke-linejoin:round; stroke-width:4; stroke-opacity:1; fill:none\" points=\"\n",
       "  1232.47,1486.45 1232.47,1467.55 \n",
       "  \"/>\n",
       "<polyline clip-path=\"url(#clip010)\" style=\"stroke:#000000; stroke-linecap:butt; stroke-linejoin:round; stroke-width:4; stroke-opacity:1; fill:none\" points=\"\n",
       "  1760.9,1486.45 1760.9,1467.55 \n",
       "  \"/>\n",
       "<polyline clip-path=\"url(#clip010)\" style=\"stroke:#000000; stroke-linecap:butt; stroke-linejoin:round; stroke-width:4; stroke-opacity:1; fill:none\" points=\"\n",
       "  2289.34,1486.45 2289.34,1467.55 \n",
       "  \"/>\n",
       "<path clip-path=\"url(#clip010)\" d=\"M175.59 1517.37 Q171.979 1517.37 170.15 1520.93 Q168.344 1524.47 168.344 1531.6 Q168.344 1538.71 170.15 1542.27 Q171.979 1545.82 175.59 1545.82 Q179.224 1545.82 181.03 1542.27 Q182.858 1538.71 182.858 1531.6 Q182.858 1524.47 181.03 1520.93 Q179.224 1517.37 175.59 1517.37 M175.59 1513.66 Q181.4 1513.66 184.455 1518.27 Q187.534 1522.85 187.534 1531.6 Q187.534 1540.33 184.455 1544.94 Q181.4 1549.52 175.59 1549.52 Q169.78 1549.52 166.701 1544.94 Q163.645 1540.33 163.645 1531.6 Q163.645 1522.85 166.701 1518.27 Q169.78 1513.66 175.59 1513.66 Z\" fill=\"#000000\" fill-rule=\"evenodd\" fill-opacity=\"1\" /><path clip-path=\"url(#clip010)\" d=\"M683.299 1544.91 L699.618 1544.91 L699.618 1548.85 L677.674 1548.85 L677.674 1544.91 Q680.336 1542.16 684.919 1537.53 Q689.526 1532.88 690.706 1531.53 Q692.952 1529.01 693.831 1527.27 Q694.734 1525.51 694.734 1523.82 Q694.734 1521.07 692.79 1519.33 Q690.869 1517.6 687.767 1517.6 Q685.568 1517.6 683.114 1518.36 Q680.683 1519.13 677.906 1520.68 L677.906 1515.95 Q680.73 1514.82 683.183 1514.24 Q685.637 1513.66 687.674 1513.66 Q693.044 1513.66 696.239 1516.35 Q699.433 1519.03 699.433 1523.52 Q699.433 1525.65 698.623 1527.57 Q697.836 1529.47 695.73 1532.07 Q695.151 1532.74 692.049 1535.95 Q688.947 1539.15 683.299 1544.91 Z\" fill=\"#000000\" fill-rule=\"evenodd\" fill-opacity=\"1\" /><path clip-path=\"url(#clip010)\" d=\"M709.48 1514.29 L727.836 1514.29 L727.836 1518.22 L713.762 1518.22 L713.762 1526.7 Q714.78 1526.35 715.799 1526.19 Q716.817 1526 717.836 1526 Q723.623 1526 727.003 1529.17 Q730.382 1532.34 730.382 1537.76 Q730.382 1543.34 726.91 1546.44 Q723.438 1549.52 717.118 1549.52 Q714.942 1549.52 712.674 1549.15 Q710.429 1548.78 708.021 1548.04 L708.021 1543.34 Q710.105 1544.47 712.327 1545.03 Q714.549 1545.58 717.026 1545.58 Q721.03 1545.58 723.368 1543.48 Q725.706 1541.37 725.706 1537.76 Q725.706 1534.15 723.368 1532.04 Q721.03 1529.94 717.026 1529.94 Q715.151 1529.94 713.276 1530.35 Q711.424 1530.77 709.48 1531.65 L709.48 1514.29 Z\" fill=\"#000000\" fill-rule=\"evenodd\" fill-opacity=\"1\" /><path clip-path=\"url(#clip010)\" d=\"M1207.17 1514.29 L1225.52 1514.29 L1225.52 1518.22 L1211.45 1518.22 L1211.45 1526.7 Q1212.47 1526.35 1213.49 1526.19 Q1214.5 1526 1215.52 1526 Q1221.31 1526 1224.69 1529.17 Q1228.07 1532.34 1228.07 1537.76 Q1228.07 1543.34 1224.6 1546.44 Q1221.12 1549.52 1214.8 1549.52 Q1212.63 1549.52 1210.36 1549.15 Q1208.11 1548.78 1205.71 1548.04 L1205.71 1543.34 Q1207.79 1544.47 1210.01 1545.03 Q1212.24 1545.58 1214.71 1545.58 Q1218.72 1545.58 1221.05 1543.48 Q1223.39 1541.37 1223.39 1537.76 Q1223.39 1534.15 1221.05 1532.04 Q1218.72 1529.94 1214.71 1529.94 Q1212.84 1529.94 1210.96 1530.35 Q1209.11 1530.77 1207.17 1531.65 L1207.17 1514.29 Z\" fill=\"#000000\" fill-rule=\"evenodd\" fill-opacity=\"1\" /><path clip-path=\"url(#clip010)\" d=\"M1247.28 1517.37 Q1243.67 1517.37 1241.84 1520.93 Q1240.04 1524.47 1240.04 1531.6 Q1240.04 1538.71 1241.84 1542.27 Q1243.67 1545.82 1247.28 1545.82 Q1250.92 1545.82 1252.72 1542.27 Q1254.55 1538.71 1254.55 1531.6 Q1254.55 1524.47 1252.72 1520.93 Q1250.92 1517.37 1247.28 1517.37 M1247.28 1513.66 Q1253.09 1513.66 1256.15 1518.27 Q1259.23 1522.85 1259.23 1531.6 Q1259.23 1540.33 1256.15 1544.94 Q1253.09 1549.52 1247.28 1549.52 Q1241.47 1549.52 1238.39 1544.94 Q1235.34 1540.33 1235.34 1531.6 Q1235.34 1522.85 1238.39 1518.27 Q1241.47 1513.66 1247.28 1513.66 Z\" fill=\"#000000\" fill-rule=\"evenodd\" fill-opacity=\"1\" /><path clip-path=\"url(#clip010)\" d=\"M1734.76 1514.29 L1756.98 1514.29 L1756.98 1516.28 L1744.44 1548.85 L1739.55 1548.85 L1751.36 1518.22 L1734.76 1518.22 L1734.76 1514.29 Z\" fill=\"#000000\" fill-rule=\"evenodd\" fill-opacity=\"1\" /><path clip-path=\"url(#clip010)\" d=\"M1766.15 1514.29 L1784.5 1514.29 L1784.5 1518.22 L1770.43 1518.22 L1770.43 1526.7 Q1771.45 1526.35 1772.47 1526.19 Q1773.49 1526 1774.5 1526 Q1780.29 1526 1783.67 1529.17 Q1787.05 1532.34 1787.05 1537.76 Q1787.05 1543.34 1783.58 1546.44 Q1780.11 1549.52 1773.79 1549.52 Q1771.61 1549.52 1769.34 1549.15 Q1767.1 1548.78 1764.69 1548.04 L1764.69 1543.34 Q1766.77 1544.47 1769 1545.03 Q1771.22 1545.58 1773.69 1545.58 Q1777.7 1545.58 1780.04 1543.48 Q1782.37 1541.37 1782.37 1537.76 Q1782.37 1534.15 1780.04 1532.04 Q1777.7 1529.94 1773.69 1529.94 Q1771.82 1529.94 1769.94 1530.35 Q1768.09 1530.77 1766.15 1531.65 L1766.15 1514.29 Z\" fill=\"#000000\" fill-rule=\"evenodd\" fill-opacity=\"1\" /><path clip-path=\"url(#clip010)\" d=\"M2248.95 1544.91 L2256.59 1544.91 L2256.59 1518.55 L2248.28 1520.21 L2248.28 1515.95 L2256.54 1514.29 L2261.22 1514.29 L2261.22 1544.91 L2268.86 1544.91 L2268.86 1548.85 L2248.95 1548.85 L2248.95 1544.91 Z\" fill=\"#000000\" fill-rule=\"evenodd\" fill-opacity=\"1\" /><path clip-path=\"url(#clip010)\" d=\"M2288.3 1517.37 Q2284.69 1517.37 2282.86 1520.93 Q2281.06 1524.47 2281.06 1531.6 Q2281.06 1538.71 2282.86 1542.27 Q2284.69 1545.82 2288.3 1545.82 Q2291.94 1545.82 2293.74 1542.27 Q2295.57 1538.71 2295.57 1531.6 Q2295.57 1524.47 2293.74 1520.93 Q2291.94 1517.37 2288.3 1517.37 M2288.3 1513.66 Q2294.11 1513.66 2297.17 1518.27 Q2300.25 1522.85 2300.25 1531.6 Q2300.25 1540.33 2297.17 1544.94 Q2294.11 1549.52 2288.3 1549.52 Q2282.49 1549.52 2279.41 1544.94 Q2276.36 1540.33 2276.36 1531.6 Q2276.36 1522.85 2279.41 1518.27 Q2282.49 1513.66 2288.3 1513.66 Z\" fill=\"#000000\" fill-rule=\"evenodd\" fill-opacity=\"1\" /><path clip-path=\"url(#clip010)\" d=\"M2318.46 1517.37 Q2314.85 1517.37 2313.02 1520.93 Q2311.22 1524.47 2311.22 1531.6 Q2311.22 1538.71 2313.02 1542.27 Q2314.85 1545.82 2318.46 1545.82 Q2322.1 1545.82 2323.9 1542.27 Q2325.73 1538.71 2325.73 1531.6 Q2325.73 1524.47 2323.9 1520.93 Q2322.1 1517.37 2318.46 1517.37 M2318.46 1513.66 Q2324.27 1513.66 2327.33 1518.27 Q2330.41 1522.85 2330.41 1531.6 Q2330.41 1540.33 2327.33 1544.94 Q2324.27 1549.52 2318.46 1549.52 Q2312.65 1549.52 2309.57 1544.94 Q2306.52 1540.33 2306.52 1531.6 Q2306.52 1522.85 2309.57 1518.27 Q2312.65 1513.66 2318.46 1513.66 Z\" fill=\"#000000\" fill-rule=\"evenodd\" fill-opacity=\"1\" /><polyline clip-path=\"url(#clip012)\" style=\"stroke:#000000; stroke-linecap:butt; stroke-linejoin:round; stroke-width:2; stroke-opacity:0.1; fill:none\" points=\"\n",
       "  112.177,1445.72 2352.76,1445.72 \n",
       "  \"/>\n",
       "<polyline clip-path=\"url(#clip012)\" style=\"stroke:#000000; stroke-linecap:butt; stroke-linejoin:round; stroke-width:2; stroke-opacity:0.1; fill:none\" points=\"\n",
       "  112.177,1174.17 2352.76,1174.17 \n",
       "  \"/>\n",
       "<polyline clip-path=\"url(#clip012)\" style=\"stroke:#000000; stroke-linecap:butt; stroke-linejoin:round; stroke-width:2; stroke-opacity:0.1; fill:none\" points=\"\n",
       "  112.177,902.62 2352.76,902.62 \n",
       "  \"/>\n",
       "<polyline clip-path=\"url(#clip012)\" style=\"stroke:#000000; stroke-linecap:butt; stroke-linejoin:round; stroke-width:2; stroke-opacity:0.1; fill:none\" points=\"\n",
       "  112.177,631.072 2352.76,631.072 \n",
       "  \"/>\n",
       "<polyline clip-path=\"url(#clip012)\" style=\"stroke:#000000; stroke-linecap:butt; stroke-linejoin:round; stroke-width:2; stroke-opacity:0.1; fill:none\" points=\"\n",
       "  112.177,359.524 2352.76,359.524 \n",
       "  \"/>\n",
       "<polyline clip-path=\"url(#clip012)\" style=\"stroke:#000000; stroke-linecap:butt; stroke-linejoin:round; stroke-width:2; stroke-opacity:0.1; fill:none\" points=\"\n",
       "  112.177,87.9763 2352.76,87.9763 \n",
       "  \"/>\n",
       "<polyline clip-path=\"url(#clip010)\" style=\"stroke:#000000; stroke-linecap:butt; stroke-linejoin:round; stroke-width:4; stroke-opacity:1; fill:none\" points=\"\n",
       "  112.177,1486.45 112.177,47.2441 \n",
       "  \"/>\n",
       "<polyline clip-path=\"url(#clip010)\" style=\"stroke:#000000; stroke-linecap:butt; stroke-linejoin:round; stroke-width:4; stroke-opacity:1; fill:none\" points=\"\n",
       "  112.177,1445.72 131.075,1445.72 \n",
       "  \"/>\n",
       "<polyline clip-path=\"url(#clip010)\" style=\"stroke:#000000; stroke-linecap:butt; stroke-linejoin:round; stroke-width:4; stroke-opacity:1; fill:none\" points=\"\n",
       "  112.177,1174.17 131.075,1174.17 \n",
       "  \"/>\n",
       "<polyline clip-path=\"url(#clip010)\" style=\"stroke:#000000; stroke-linecap:butt; stroke-linejoin:round; stroke-width:4; stroke-opacity:1; fill:none\" points=\"\n",
       "  112.177,902.62 131.075,902.62 \n",
       "  \"/>\n",
       "<polyline clip-path=\"url(#clip010)\" style=\"stroke:#000000; stroke-linecap:butt; stroke-linejoin:round; stroke-width:4; stroke-opacity:1; fill:none\" points=\"\n",
       "  112.177,631.072 131.075,631.072 \n",
       "  \"/>\n",
       "<polyline clip-path=\"url(#clip010)\" style=\"stroke:#000000; stroke-linecap:butt; stroke-linejoin:round; stroke-width:4; stroke-opacity:1; fill:none\" points=\"\n",
       "  112.177,359.524 131.075,359.524 \n",
       "  \"/>\n",
       "<polyline clip-path=\"url(#clip010)\" style=\"stroke:#000000; stroke-linecap:butt; stroke-linejoin:round; stroke-width:4; stroke-opacity:1; fill:none\" points=\"\n",
       "  112.177,87.9763 131.075,87.9763 \n",
       "  \"/>\n",
       "<path clip-path=\"url(#clip010)\" d=\"M64.2328 1431.51 Q60.6217 1431.51 58.793 1435.08 Q56.9875 1438.62 56.9875 1445.75 Q56.9875 1452.86 58.793 1456.42 Q60.6217 1459.96 64.2328 1459.96 Q67.867 1459.96 69.6726 1456.42 Q71.5013 1452.86 71.5013 1445.75 Q71.5013 1438.62 69.6726 1435.08 Q67.867 1431.51 64.2328 1431.51 M64.2328 1427.81 Q70.0429 1427.81 73.0985 1432.42 Q76.1772 1437 76.1772 1445.75 Q76.1772 1454.48 73.0985 1459.08 Q70.0429 1463.67 64.2328 1463.67 Q58.4226 1463.67 55.344 1459.08 Q52.2884 1454.48 52.2884 1445.75 Q52.2884 1437 55.344 1432.42 Q58.4226 1427.81 64.2328 1427.81 Z\" fill=\"#000000\" fill-rule=\"evenodd\" fill-opacity=\"1\" /><path clip-path=\"url(#clip010)\" d=\"M56.2699 1187.51 L63.9087 1187.51 L63.9087 1161.15 L55.5986 1162.81 L55.5986 1158.55 L63.8624 1156.89 L68.5383 1156.89 L68.5383 1187.51 L76.1772 1187.51 L76.1772 1191.45 L56.2699 1191.45 L56.2699 1187.51 Z\" fill=\"#000000\" fill-rule=\"evenodd\" fill-opacity=\"1\" /><path clip-path=\"url(#clip010)\" d=\"M59.8578 915.965 L76.1772 915.965 L76.1772 919.9 L54.2328 919.9 L54.2328 915.965 Q56.8949 913.21 61.4782 908.581 Q66.0846 903.928 67.2652 902.585 Q69.5105 900.062 70.3902 898.326 Q71.2929 896.567 71.2929 894.877 Q71.2929 892.122 69.3485 890.386 Q67.4272 888.65 64.3254 888.65 Q62.1263 888.65 59.6726 889.414 Q57.2421 890.178 54.4643 891.729 L54.4643 887.007 Q57.2884 885.872 59.7421 885.294 Q62.1958 884.715 64.2328 884.715 Q69.6031 884.715 72.7976 887.4 Q75.992 890.085 75.992 894.576 Q75.992 896.706 75.1818 898.627 Q74.3948 900.525 72.2883 903.118 Q71.7096 903.789 68.6078 907.006 Q65.5059 910.201 59.8578 915.965 Z\" fill=\"#000000\" fill-rule=\"evenodd\" fill-opacity=\"1\" /><path clip-path=\"url(#clip010)\" d=\"M69.0476 629.718 Q72.404 630.435 74.279 632.704 Q76.1772 634.972 76.1772 638.306 Q76.1772 643.422 72.6587 646.222 Q69.1402 649.023 62.6587 649.023 Q60.4828 649.023 58.168 648.584 Q55.8764 648.167 53.4227 647.31 L53.4227 642.797 Q55.3671 643.931 57.6819 644.509 Q59.9967 645.088 62.5198 645.088 Q66.918 645.088 69.2096 643.352 Q71.5244 641.616 71.5244 638.306 Q71.5244 635.25 69.3717 633.537 Q67.242 631.801 63.4226 631.801 L59.3949 631.801 L59.3949 627.959 L63.6078 627.959 Q67.0569 627.959 68.8855 626.593 Q70.7142 625.204 70.7142 622.611 Q70.7142 619.949 68.8161 618.537 Q66.9411 617.102 63.4226 617.102 Q61.5013 617.102 59.3023 617.519 Q57.1032 617.936 54.4643 618.815 L54.4643 614.649 Q57.1264 613.908 59.4412 613.537 Q61.7791 613.167 63.8393 613.167 Q69.1633 613.167 72.2652 615.598 Q75.367 618.005 75.367 622.125 Q75.367 624.996 73.7235 626.986 Q72.08 628.954 69.0476 629.718 Z\" fill=\"#000000\" fill-rule=\"evenodd\" fill-opacity=\"1\" /><path clip-path=\"url(#clip010)\" d=\"M66.5939 346.318 L54.7884 364.767 L66.5939 364.767 L66.5939 346.318 M65.367 342.244 L71.2466 342.244 L71.2466 364.767 L76.1772 364.767 L76.1772 368.656 L71.2466 368.656 L71.2466 376.804 L66.5939 376.804 L66.5939 368.656 L50.9921 368.656 L50.9921 364.142 L65.367 342.244 Z\" fill=\"#000000\" fill-rule=\"evenodd\" fill-opacity=\"1\" /><path clip-path=\"url(#clip010)\" d=\"M55.2745 70.6963 L73.6309 70.6963 L73.6309 74.6314 L59.5569 74.6314 L59.5569 83.1036 Q60.5754 82.7564 61.5939 82.5944 Q62.6124 82.4092 63.6309 82.4092 Q69.418 82.4092 72.7976 85.5805 Q76.1772 88.7517 76.1772 94.1684 Q76.1772 99.747 72.705 102.849 Q69.2328 105.928 62.9134 105.928 Q60.7374 105.928 58.4689 105.557 Q56.2236 105.187 53.8162 104.446 L53.8162 99.747 Q55.8995 100.881 58.1217 101.437 Q60.3439 101.992 62.8208 101.992 Q66.8254 101.992 69.1633 99.8859 Q71.5013 97.7795 71.5013 94.1684 Q71.5013 90.5573 69.1633 88.4508 Q66.8254 86.3443 62.8208 86.3443 Q60.9458 86.3443 59.0708 86.761 Q57.2189 87.1777 55.2745 88.0573 L55.2745 70.6963 Z\" fill=\"#000000\" fill-rule=\"evenodd\" fill-opacity=\"1\" /><polyline clip-path=\"url(#clip012)\" style=\"stroke:#009af9; stroke-linecap:butt; stroke-linejoin:round; stroke-width:4; stroke-opacity:1; fill:none\" points=\"\n",
       "  175.59,1174.17 196.727,1174.17 217.865,1445.72 239.002,1445.72 260.14,1445.72 281.277,1445.72 302.415,1445.72 323.553,87.9763 344.69,87.9763 365.828,87.9763 \n",
       "  386.965,87.9763 408.103,87.9763 429.24,1445.72 450.378,1445.72 471.515,1445.72 492.653,1445.72 513.79,1445.72 534.928,1445.72 556.065,1445.72 577.203,1445.72 \n",
       "  598.34,1445.72 619.478,1445.72 640.616,1445.72 661.753,1445.72 682.891,1445.72 704.028,1445.72 725.166,1445.72 746.303,1445.72 767.441,1445.72 788.578,1445.72 \n",
       "  809.716,1445.72 830.853,1445.72 851.991,1445.72 873.128,1445.72 894.266,1445.72 915.404,1445.72 936.541,1445.72 957.679,1445.72 978.816,1445.72 999.954,1445.72 \n",
       "  1021.09,1445.72 1042.23,1445.72 1063.37,1445.72 1084.5,1445.72 1105.64,1445.72 1126.78,1445.72 1147.92,1445.72 1169.05,1445.72 1190.19,1445.72 1211.33,1445.72 \n",
       "  1232.47,1445.72 1253.6,1445.72 1274.74,1445.72 1295.88,1445.72 1317.02,1445.72 1338.15,1445.72 1359.29,1445.72 1380.43,1445.72 1401.57,1445.72 1422.7,1445.72 \n",
       "  1443.84,1445.72 1464.98,1445.72 1486.12,1445.72 1507.25,1445.72 1528.39,1445.72 1549.53,1445.72 1570.67,1445.72 1591.8,1445.72 1612.94,1445.72 1634.08,1445.72 \n",
       "  1655.22,1445.72 1676.35,1445.72 1697.49,1445.72 1718.63,1445.72 1739.77,1445.72 1760.9,1445.72 1782.04,1445.72 1803.18,1445.72 1824.32,1445.72 1845.46,1445.72 \n",
       "  1866.59,1445.72 1887.73,1445.72 1908.87,1445.72 1930.01,1445.72 1951.14,1445.72 1972.28,1445.72 1993.42,1445.72 2014.56,1445.72 2035.69,1445.72 2056.83,1445.72 \n",
       "  2077.97,1445.72 2099.11,1445.72 2120.24,1445.72 2141.38,1445.72 2162.52,1445.72 2183.66,1445.72 2204.79,1445.72 2225.93,1445.72 2247.07,1445.72 2268.21,1445.72 \n",
       "  2289.34,1445.72 \n",
       "  \"/>\n",
       "<path clip-path=\"url(#clip010)\" d=\"\n",
       "M1985.64 198.898 L2278.07 198.898 L2278.07 95.2176 L1985.64 95.2176  Z\n",
       "  \" fill=\"#ffffff\" fill-rule=\"evenodd\" fill-opacity=\"1\"/>\n",
       "<polyline clip-path=\"url(#clip010)\" style=\"stroke:#000000; stroke-linecap:butt; stroke-linejoin:round; stroke-width:4; stroke-opacity:1; fill:none\" points=\"\n",
       "  1985.64,198.898 2278.07,198.898 2278.07,95.2176 1985.64,95.2176 1985.64,198.898 \n",
       "  \"/>\n",
       "<polyline clip-path=\"url(#clip010)\" style=\"stroke:#009af9; stroke-linecap:butt; stroke-linejoin:round; stroke-width:4; stroke-opacity:1; fill:none\" points=\"\n",
       "  2009.64,147.058 2153.64,147.058 \n",
       "  \"/>\n",
       "<path clip-path=\"url(#clip010)\" d=\"M2191.48 166.745 Q2189.68 171.375 2187.96 172.787 Q2186.25 174.199 2183.38 174.199 L2179.98 174.199 L2179.98 170.634 L2182.48 170.634 Q2184.24 170.634 2185.21 169.8 Q2186.18 168.967 2187.36 165.865 L2188.13 163.921 L2177.64 138.412 L2182.15 138.412 L2190.26 158.689 L2198.36 138.412 L2202.87 138.412 L2191.48 166.745 Z\" fill=\"#000000\" fill-rule=\"evenodd\" fill-opacity=\"1\" /><path clip-path=\"url(#clip010)\" d=\"M2210.16 160.402 L2217.8 160.402 L2217.8 134.037 L2209.49 135.703 L2209.49 131.444 L2217.76 129.778 L2222.43 129.778 L2222.43 160.402 L2230.07 160.402 L2230.07 164.338 L2210.16 164.338 L2210.16 160.402 Z\" fill=\"#000000\" fill-rule=\"evenodd\" fill-opacity=\"1\" /></svg>\n"
      ]
     },
     "execution_count": 37,
     "metadata": {},
     "output_type": "execute_result"
    }
   ],
   "source": [
    "# plot of flowrate into tank vs time\n",
    "tsim = 0.0:1.0:100.0\n",
    "qsim = [qint(t) for t in tsim]\n",
    "plot(tsim, qsim)"
   ]
  },
  {
   "cell_type": "code",
   "execution_count": 36,
   "id": "pharmaceutical-moses",
   "metadata": {},
   "outputs": [
    {
     "data": {
      "text/plain": [
       "An InfiniteOpt Model\n",
       "Feasibility problem with:\n",
       "Finite Parameters: 0\n",
       "Infinite Parameters: 0\n",
       "Variables: 0\n",
       "Derivatives: 0\n",
       "Measures: 0\n",
       "Optimizer model backend information: \n",
       "Model mode: AUTOMATIC\n",
       "CachingOptimizer state: EMPTY_OPTIMIZER\n",
       "Solver name: Ipopt"
      ]
     },
     "execution_count": 36,
     "metadata": {},
     "output_type": "execute_result"
    }
   ],
   "source": [
    "opt = Ipopt.Optimizer    \n",
    "m = InfiniteModel(opt)"
   ]
  },
  {
   "cell_type": "code",
   "execution_count": 39,
   "id": "interior-capital",
   "metadata": {},
   "outputs": [
    {
     "data": {
      "text/latex": [
       "$$ t $$"
      ],
      "text/plain": [
       "t"
      ]
     },
     "execution_count": 39,
     "metadata": {},
     "output_type": "execute_result"
    }
   ],
   "source": [
    "tlist = collect(0.0:1.0:100.0)\n",
    "@infinite_parameter(m, t in [0, 100.0], supports = tlist)"
   ]
  },
  {
   "cell_type": "code",
   "execution_count": 41,
   "id": "ultimate-warrant",
   "metadata": {},
   "outputs": [
    {
     "data": {
      "text/latex": [
       "$$ V(t) $$"
      ],
      "text/plain": [
       "V(t)"
      ]
     },
     "execution_count": 41,
     "metadata": {},
     "output_type": "execute_result"
    }
   ],
   "source": [
    "@variable(m, V, Infinite(t))"
   ]
  },
  {
   "cell_type": "code",
   "execution_count": 42,
   "id": "early-baking",
   "metadata": {},
   "outputs": [
    {
     "ename": "LoadError",
     "evalue": "MethodError: no method matching (::Interpolations.Extrapolation{Float64, 1, Interpolations.GriddedInterpolation{Float64, 1, Float64, Gridded{Linear{Throw{OnGrid}}}, Tuple{Vector{Float64}}}, Gridded{Linear{Throw{OnGrid}}}, Throw{Nothing}})(::GeneralVariableRef)\nUse square brackets [] for indexing an Array.\n\u001b[0mClosest candidates are:\n\u001b[0m  (::Interpolations.Extrapolation{T, N, ITPT, IT, ET} where {ITPT, IT, ET})(\u001b[91m::Number...\u001b[39m) where {T, N} at /home/paperspace/.julia/packages/Interpolations/Glp9h/src/extrapolation/extrapolation.jl:45\n\u001b[0m  (::Interpolations.Extrapolation{T, N, ITPT, IT, ET} where {ITPT, IT, ET})(\u001b[91m::Union{Number, AbstractVector{T} where T}...\u001b[39m) where {T, N} at /home/paperspace/.julia/packages/Interpolations/Glp9h/src/extrapolation/extrapolation.jl:54",
     "output_type": "error",
     "traceback": [
      "MethodError: no method matching (::Interpolations.Extrapolation{Float64, 1, Interpolations.GriddedInterpolation{Float64, 1, Float64, Gridded{Linear{Throw{OnGrid}}}, Tuple{Vector{Float64}}}, Gridded{Linear{Throw{OnGrid}}}, Throw{Nothing}})(::GeneralVariableRef)\nUse square brackets [] for indexing an Array.\n\u001b[0mClosest candidates are:\n\u001b[0m  (::Interpolations.Extrapolation{T, N, ITPT, IT, ET} where {ITPT, IT, ET})(\u001b[91m::Number...\u001b[39m) where {T, N} at /home/paperspace/.julia/packages/Interpolations/Glp9h/src/extrapolation/extrapolation.jl:45\n\u001b[0m  (::Interpolations.Extrapolation{T, N, ITPT, IT, ET} where {ITPT, IT, ET})(\u001b[91m::Union{Number, AbstractVector{T} where T}...\u001b[39m) where {T, N} at /home/paperspace/.julia/packages/Interpolations/Glp9h/src/extrapolation/extrapolation.jl:54",
      "",
      "Stacktrace:",
      " [1] macro expansion",
      "   @ ~/.julia/packages/MutableArithmetics/UtY4H/src/rewrite.jl:282 [inlined]",
      " [2] macro expansion",
      "   @ ~/.julia/packages/JuMP/lnUbA/src/macros.jl:813 [inlined]",
      " [3] top-level scope",
      "   @ In[42]:1",
      " [4] eval",
      "   @ ./boot.jl:360 [inlined]",
      " [5] include_string(mapexpr::typeof(REPL.softscope), mod::Module, code::String, filename::String)",
      "   @ Base ./loading.jl:1116"
     ]
    }
   ],
   "source": [
    "@constraint(m, @deriv(V, t) == qint(t))"
   ]
  },
  {
   "cell_type": "code",
   "execution_count": null,
   "id": "removable-stress",
   "metadata": {},
   "outputs": [],
   "source": []
  }
 ],
 "metadata": {
  "kernelspec": {
   "display_name": "Julia 1.6.2",
   "language": "julia",
   "name": "julia-1.6"
  },
  "language_info": {
   "file_extension": ".jl",
   "mimetype": "application/julia",
   "name": "julia",
   "version": "1.6.2"
  }
 },
 "nbformat": 4,
 "nbformat_minor": 5
}
