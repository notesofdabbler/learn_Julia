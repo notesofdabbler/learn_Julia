{
 "cells": [
  {
   "cell_type": "code",
   "execution_count": 1,
   "id": "pressed-refund",
   "metadata": {},
   "outputs": [],
   "source": [
    "#\n",
    "# Julia version of code adapted from\n",
    "# https://github.com/rawlings-group/paresto/blob/master/examples/green_book/batch_data_solution.m\n",
    "#"
   ]
  },
  {
   "cell_type": "code",
   "execution_count": 2,
   "id": "committed-fight",
   "metadata": {},
   "outputs": [],
   "source": [
    "using CSV, DataFrames\n",
    "using JuMP, Ipopt\n",
    "using Plots\n",
    "using InfiniteOpt"
   ]
  },
  {
   "cell_type": "code",
   "execution_count": 3,
   "id": "delayed-booth",
   "metadata": {},
   "outputs": [
    {
     "data": {
      "text/html": [
       "<div class=\"data-frame\"><p>11 rows × 2 columns</p><table class=\"data-frame\"><thead><tr><th></th><th>t</th><th>c</th></tr><tr><th></th><th title=\"Int64\">Int64</th><th title=\"Float64\">Float64</th></tr></thead><tbody><tr><th>1</th><td>0</td><td>0.83</td></tr><tr><th>2</th><td>4</td><td>0.68</td></tr><tr><th>3</th><td>8</td><td>0.59</td></tr><tr><th>4</th><td>12</td><td>0.51</td></tr><tr><th>5</th><td>16</td><td>0.43</td></tr><tr><th>6</th><td>20</td><td>0.38</td></tr><tr><th>7</th><td>24</td><td>0.33</td></tr><tr><th>8</th><td>28</td><td>0.3</td></tr><tr><th>9</th><td>32</td><td>0.26</td></tr><tr><th>10</th><td>36</td><td>0.24</td></tr><tr><th>11</th><td>40</td><td>0.21</td></tr></tbody></table></div>"
      ],
      "text/latex": [
       "\\begin{tabular}{r|cc}\n",
       "\t& t & c\\\\\n",
       "\t\\hline\n",
       "\t& Int64 & Float64\\\\\n",
       "\t\\hline\n",
       "\t1 & 0 & 0.83 \\\\\n",
       "\t2 & 4 & 0.68 \\\\\n",
       "\t3 & 8 & 0.59 \\\\\n",
       "\t4 & 12 & 0.51 \\\\\n",
       "\t5 & 16 & 0.43 \\\\\n",
       "\t6 & 20 & 0.38 \\\\\n",
       "\t7 & 24 & 0.33 \\\\\n",
       "\t8 & 28 & 0.3 \\\\\n",
       "\t9 & 32 & 0.26 \\\\\n",
       "\t10 & 36 & 0.24 \\\\\n",
       "\t11 & 40 & 0.21 \\\\\n",
       "\\end{tabular}\n"
      ],
      "text/plain": [
       "\u001b[1m11×2 DataFrame\u001b[0m\n",
       "\u001b[1m Row \u001b[0m│\u001b[1m t     \u001b[0m\u001b[1m c       \u001b[0m\n",
       "\u001b[1m     \u001b[0m│\u001b[90m Int64 \u001b[0m\u001b[90m Float64 \u001b[0m\n",
       "─────┼────────────────\n",
       "   1 │     0     0.83\n",
       "   2 │     4     0.68\n",
       "   3 │     8     0.59\n",
       "   4 │    12     0.51\n",
       "   5 │    16     0.43\n",
       "   6 │    20     0.38\n",
       "   7 │    24     0.33\n",
       "   8 │    28     0.3\n",
       "   9 │    32     0.26\n",
       "  10 │    36     0.24\n",
       "  11 │    40     0.21"
      ]
     },
     "execution_count": 3,
     "metadata": {},
     "output_type": "execute_result"
    }
   ],
   "source": [
    "batch_data = CSV.read(\"data_sets/batch_data.txt\", DataFrame, header = [\"t\", \"c\"], delim = ' ', ignorerepeated = true)"
   ]
  },
  {
   "cell_type": "code",
   "execution_count": 4,
   "id": "destroyed-thomas",
   "metadata": {},
   "outputs": [
    {
     "data": {
      "text/plain": [
       "Ipopt.Optimizer"
      ]
     },
     "execution_count": 4,
     "metadata": {},
     "output_type": "execute_result"
    }
   ],
   "source": [
    "opt = Ipopt.Optimizer    "
   ]
  },
  {
   "cell_type": "code",
   "execution_count": 5,
   "id": "descending-stopping",
   "metadata": {},
   "outputs": [
    {
     "data": {
      "text/plain": [
       "Dict{Int64, Float64} with 11 entries:\n",
       "  16 => 0.43\n",
       "  20 => 0.38\n",
       "  12 => 0.51\n",
       "  24 => 0.33\n",
       "  28 => 0.3\n",
       "  8  => 0.59\n",
       "  40 => 0.21\n",
       "  0  => 0.83\n",
       "  4  => 0.68\n",
       "  32 => 0.26\n",
       "  36 => 0.24"
      ]
     },
     "execution_count": 5,
     "metadata": {},
     "output_type": "execute_result"
    }
   ],
   "source": [
    "texp = batch_data.t\n",
    "c_exp = Dict(Pair.(batch_data.t, batch_data.c))"
   ]
  },
  {
   "cell_type": "code",
   "execution_count": 6,
   "id": "instant-extreme",
   "metadata": {},
   "outputs": [
    {
     "data": {
      "text/plain": [
       "109-element Vector{Float64}:\n",
       "  0.0\n",
       "  0.40404040404040403\n",
       "  0.8080808080808081\n",
       "  1.2121212121212122\n",
       "  1.6161616161616161\n",
       "  2.0202020202020203\n",
       "  2.4242424242424243\n",
       "  2.8282828282828283\n",
       "  3.2323232323232323\n",
       "  3.6363636363636362\n",
       "  4.0\n",
       "  4.040404040404041\n",
       "  4.444444444444445\n",
       "  ⋮\n",
       " 35.95959595959596\n",
       " 36.0\n",
       " 36.36363636363637\n",
       " 36.76767676767677\n",
       " 37.17171717171717\n",
       " 37.57575757575758\n",
       " 37.97979797979798\n",
       " 38.38383838383838\n",
       " 38.78787878787879\n",
       " 39.19191919191919\n",
       " 39.5959595959596\n",
       " 40.0"
      ]
     },
     "execution_count": 6,
     "metadata": {},
     "output_type": "execute_result"
    }
   ],
   "source": [
    "tlist = unique(sort(vcat(collect(range(0.0, 40.0, length = 100)), texp)))"
   ]
  },
  {
   "cell_type": "code",
   "execution_count": 15,
   "id": "handed-copper",
   "metadata": {},
   "outputs": [
    {
     "data": {
      "text/plain": [
       "An InfiniteOpt Model\n",
       "Feasibility problem with:\n",
       "Finite Parameters: 0\n",
       "Infinite Parameters: 0\n",
       "Variables: 0\n",
       "Derivatives: 0\n",
       "Measures: 0\n",
       "Optimizer model backend information: \n",
       "Model mode: AUTOMATIC\n",
       "CachingOptimizer state: EMPTY_OPTIMIZER\n",
       "Solver name: Ipopt"
      ]
     },
     "execution_count": 15,
     "metadata": {},
     "output_type": "execute_result"
    }
   ],
   "source": [
    "m = InfiniteModel(opt)"
   ]
  },
  {
   "cell_type": "code",
   "execution_count": 16,
   "id": "acoustic-chart",
   "metadata": {},
   "outputs": [
    {
     "data": {
      "text/latex": [
       "$$ t $$"
      ],
      "text/plain": [
       "t"
      ]
     },
     "execution_count": 16,
     "metadata": {},
     "output_type": "execute_result"
    }
   ],
   "source": [
    "@infinite_parameter(m, t in [0, 40.0], supports = tlist)"
   ]
  },
  {
   "cell_type": "code",
   "execution_count": 17,
   "id": "composed-tooth",
   "metadata": {},
   "outputs": [
    {
     "data": {
      "text/latex": [
       "$$ c(t) $$"
      ],
      "text/plain": [
       "c(t)"
      ]
     },
     "execution_count": 17,
     "metadata": {},
     "output_type": "execute_result"
    }
   ],
   "source": [
    "@variable(m, c, Infinite(t))"
   ]
  },
  {
   "cell_type": "code",
   "execution_count": 18,
   "id": "established-entry",
   "metadata": {},
   "outputs": [
    {
     "data": {
      "text/latex": [
       "$$ n $$"
      ],
      "text/plain": [
       "n"
      ]
     },
     "execution_count": 18,
     "metadata": {},
     "output_type": "execute_result"
    }
   ],
   "source": [
    "@variable(m, 0.6 <= c0 <= 1.0, start = 0.8)\n",
    "@variable(m, k >= 0, start = 0.5)\n",
    "@variable(m, n, start = 1.0)"
   ]
  },
  {
   "cell_type": "code",
   "execution_count": 19,
   "id": "specified-tanzania",
   "metadata": {},
   "outputs": [
    {
     "data": {
      "text/latex": [
       "$ c(0) - c0 = 0.0 $"
      ],
      "text/plain": [
       "c(0) - c0 = 0.0"
      ]
     },
     "execution_count": 19,
     "metadata": {},
     "output_type": "execute_result"
    }
   ],
   "source": [
    "@constraint(m, c(0) == c0)"
   ]
  },
  {
   "cell_type": "code",
   "execution_count": 20,
   "id": "broad-blanket",
   "metadata": {},
   "outputs": [
    {
     "data": {
      "text/latex": [
       "$ ∂/∂t[c(t)] - -k * (c(t) + 1.0e-5)^n = 0.0, \\quad\\forall t \\in [0, 40] $"
      ],
      "text/plain": [
       "∂/∂t[c(t)] - -k * (c(t) + 1.0e-5)^n = 0.0, ∀ t ∈ [0, 40]"
      ]
     },
     "execution_count": 20,
     "metadata": {},
     "output_type": "execute_result"
    }
   ],
   "source": [
    "@constraint(m, @deriv(c, t) == -k * (c+1.0e-5)^n)"
   ]
  },
  {
   "cell_type": "code",
   "execution_count": 21,
   "id": "robust-mount",
   "metadata": {},
   "outputs": [
    {
     "data": {
      "text/latex": [
       "$$ c(0)^2 + c(4)^2 + c(8)^2 + c(12)^2 + c(16)^2 + c(20)^2 + c(24)^2 + c(28)^2 + c(32)^2 + c(36)^2 + c(40)^2 - 1.66 c(0) - 1.36 c(4) - 1.18 c(8) - 1.02 c(12) - 0.86 c(16) - 0.76 c(20) - 0.66 c(24) - 0.6 c(28) - 0.52 c(32) - 0.48 c(36) - 0.42 c(40) + 2.457 $$"
      ],
      "text/plain": [
       "c(0)² + c(4)² + c(8)² + c(12)² + c(16)² + c(20)² + c(24)² + c(28)² + c(32)² + c(36)² + c(40)² - 1.66 c(0) - 1.36 c(4) - 1.18 c(8) - 1.02 c(12) - 0.86 c(16) - 0.76 c(20) - 0.66 c(24) - 0.6 c(28) - 0.52 c(32) - 0.48 c(36) - 0.42 c(40) + 2.457"
      ]
     },
     "execution_count": 21,
     "metadata": {},
     "output_type": "execute_result"
    }
   ],
   "source": [
    "@objective(m, Min, sum((c(t) - c_exp[t])^2 for t in texp))"
   ]
  },
  {
   "cell_type": "code",
   "execution_count": 22,
   "id": "whole-trademark",
   "metadata": {},
   "outputs": [
    {
     "name": "stdout",
     "output_type": "stream",
     "text": [
      "This is Ipopt version 3.14.4, running with linear solver MUMPS 5.4.1.\n",
      "\n",
      "Number of nonzeros in equality constraint Jacobian...:      762\n",
      "Number of nonzeros in inequality constraint Jacobian.:        0\n",
      "Number of nonzeros in Lagrangian Hessian.............:      665\n",
      "\n",
      "Total number of variables............................:      221\n",
      "                     variables with only lower bounds:        1\n",
      "                variables with lower and upper bounds:        1\n",
      "                     variables with only upper bounds:        0\n",
      "Total number of equality constraints.................:      218\n",
      "Total number of inequality constraints...............:        0\n",
      "        inequality constraints with only lower bounds:        0\n",
      "   inequality constraints with lower and upper bounds:        0\n",
      "        inequality constraints with only upper bounds:        0\n",
      "\n",
      "iter    objective    inf_pr   inf_du lg(mu)  ||d||  lg(rg) alpha_du alpha_pr  ls\n",
      "   0  2.4570000e+00 8.00e-01 1.00e+00  -1.0 0.00e+00    -  0.00e+00 0.00e+00   0\n",
      "   1  1.5675665e+00 2.08e-01 2.39e+00  -1.7 1.86e+00   0.0 8.21e-01 1.00e+00f  1\n",
      "   2  1.4885303e+00 3.60e-01 1.35e+00  -1.7 1.38e+00   0.4 2.27e-01 5.72e-01h  1\n",
      "   3  3.9717505e-01 2.72e-01 9.87e+01  -1.7 1.23e+00  -0.1 1.00e+00 1.00e+00f  1\n",
      "   4  2.3667403e-01 1.32e-01 3.76e+01  -1.7 1.20e+00   1.3 5.99e-01 1.00e+00h  1\n",
      "   5  3.6662873e-01 2.26e-01 1.77e+01  -1.7 2.39e+00   0.8 1.00e+00 1.00e+00h  1\n",
      "   6  2.4573508e-01 3.32e-02 3.04e+00  -1.7 3.90e-01   1.2 1.00e+00 1.00e+00h  1\n",
      "   7  1.6805794e-01 7.12e-03 3.14e-01  -1.7 2.91e-01   0.7 1.00e+00 1.00e+00h  1\n",
      "   8  1.1105233e-01 2.02e-03 1.83e-01  -1.7 1.56e-01   0.3 1.00e+00 1.00e+00h  1\n",
      "   9  9.2478229e-02 8.38e-04 3.86e-02  -2.5 4.41e-02  -0.2 1.00e+00 1.00e+00h  1\n",
      "iter    objective    inf_pr   inf_du lg(mu)  ||d||  lg(rg) alpha_du alpha_pr  ls\n",
      "  10  8.9585779e-02 1.80e-03 1.02e-02  -2.5 5.17e-02  -0.7 1.00e+00 1.00e+00h  1\n",
      "  11  8.6857813e-02 3.25e-03 9.40e-03  -3.8 1.42e-01  -1.2 9.66e-01 1.00e+00h  1\n",
      "  12  7.8765516e-02 2.70e-02 1.03e-02  -3.8 4.73e-01  -1.6 1.00e+00 1.00e+00h  1\n",
      "  13  5.5694550e-02 1.35e-01 2.83e-02  -3.8 6.01e+00  -2.1 1.00e+00 2.24e-01h  1\n",
      "  14  6.3297754e-02 9.59e-02 7.66e-01  -3.8 6.10e+00  -2.6 1.15e-03 2.50e-01h  3\n",
      "  15  5.2296251e-02 1.10e-01 3.25e+02  -3.8 5.48e+00    -  4.03e-01 2.66e-01H  1\n",
      "The equality constraints contain an invalid number\n",
      "Warning: Cutting back alpha due to evaluation error\n",
      "  16  4.0786947e-02 5.48e-02 2.40e+02  -3.8 8.91e-01  -0.4 3.08e-02 4.98e-01h  2\n",
      "  17  4.8472547e-02 4.11e-02 1.74e+02  -3.8 7.91e-01   0.1 2.13e-01 2.50e-01h  3\n",
      "  18  5.8969611e-02 3.08e-02 1.26e+02  -3.8 3.02e-01   0.5 1.00e+00 2.50e-01h  3\n",
      "  19  7.5516565e-02 2.36e-02 9.09e+01  -3.8 7.24e-01   0.0 3.92e-01 5.00e-01h  2\n",
      "iter    objective    inf_pr   inf_du lg(mu)  ||d||  lg(rg) alpha_du alpha_pr  ls\n",
      "  20  8.2323554e-02 8.64e-03 2.02e+01  -3.8 1.28e-01   0.4 1.00e+00 1.00e+00h  1\n",
      "  21  7.0285562e-02 9.17e-03 1.28e+00  -3.8 6.10e-02  -0.0 1.00e+00 1.00e+00h  1\n",
      "The equality constraints contain an invalid number\n",
      "Warning: Cutting back alpha due to evaluation error\n",
      "  22  4.1959178e-02 2.42e-02 2.11e+00  -3.8 1.93e+01    -  4.53e-02 5.88e-02f  3\n",
      "  23  1.8125949e-02 6.17e-04 2.43e-01  -3.8 9.25e-02  -0.5 1.00e+00 1.00e+00h  1\n",
      "  24  1.8379249e-03 5.28e-03 2.37e-01  -3.8 9.91e-01    -  8.43e-01 1.00e+00h  1\n",
      "  25  8.4658700e-04 1.67e-03 6.80e-02  -3.8 3.23e-01    -  1.00e+00 1.00e+00h  1\n",
      "  26  3.3163190e-04 3.68e-04 7.56e-03  -3.8 2.67e-01    -  1.00e+00 1.00e+00h  1\n",
      "  27  3.0974157e-04 2.32e-05 8.42e-04  -3.8 4.73e-02    -  1.00e+00 1.00e+00h  1\n",
      "  28  3.0900766e-04 1.48e-07 3.34e-06  -5.7 4.79e-03    -  1.00e+00 1.00e+00h  1\n",
      "  29  3.0900299e-04 1.63e-11 4.41e-10  -8.6 4.59e-05    -  1.00e+00 1.00e+00h  1\n",
      "\n",
      "Number of Iterations....: 29\n",
      "\n",
      "                                   (scaled)                 (unscaled)\n",
      "Objective...............:   3.0900298641315521e-04    3.0900298641315521e-04\n",
      "Dual infeasibility......:   4.4101638385304637e-10    4.4101638385304637e-10\n",
      "Constraint violation....:   1.6252641593661465e-11    1.6252641593661465e-11\n",
      "Variable bound violation:   0.0000000000000000e+00    0.0000000000000000e+00\n",
      "Complementarity.........:   2.5830992912232966e-09    2.5830992912232966e-09\n",
      "Overall NLP error.......:   2.5830992912232966e-09    2.5830992912232966e-09\n",
      "\n",
      "\n",
      "Number of objective function evaluations             = 41\n",
      "Number of objective gradient evaluations             = 30\n",
      "Number of equality constraint evaluations            = 43\n",
      "Number of inequality constraint evaluations          = 0\n",
      "Number of equality constraint Jacobian evaluations   = 30\n",
      "Number of inequality constraint Jacobian evaluations = 0\n",
      "Number of Lagrangian Hessian evaluations             = 29\n",
      "Total seconds in IPOPT                               = 2.475\n",
      "\n",
      "EXIT: Optimal Solution Found.\n"
     ]
    }
   ],
   "source": [
    "optimize!(m)"
   ]
  },
  {
   "cell_type": "code",
   "execution_count": 23,
   "id": "handled-jewelry",
   "metadata": {},
   "outputs": [
    {
     "data": {
      "text/plain": [
       "LOCALLY_SOLVED::TerminationStatusCode = 4"
      ]
     },
     "execution_count": 23,
     "metadata": {},
     "output_type": "execute_result"
    }
   ],
   "source": [
    "termination_status(m)"
   ]
  },
  {
   "cell_type": "code",
   "execution_count": 24,
   "id": "amber-detection",
   "metadata": {},
   "outputs": [
    {
     "data": {
      "text/plain": [
       "(0.8259901165405712, 0.05117171907029326, 1.4445753378668418)"
      ]
     },
     "execution_count": 24,
     "metadata": {},
     "output_type": "execute_result"
    }
   ],
   "source": [
    "value(c0), value(k), value(n)"
   ]
  },
  {
   "cell_type": "code",
   "execution_count": 26,
   "id": "experimental-willow",
   "metadata": {},
   "outputs": [
    {
     "data": {
      "image/svg+xml": [
       "<?xml version=\"1.0\" encoding=\"utf-8\"?>\n",
       "<svg xmlns=\"http://www.w3.org/2000/svg\" xmlns:xlink=\"http://www.w3.org/1999/xlink\" width=\"600\" height=\"400\" viewBox=\"0 0 2400 1600\">\n",
       "<defs>\n",
       "  <clipPath id=\"clip650\">\n",
       "    <rect x=\"0\" y=\"0\" width=\"2400\" height=\"1600\"/>\n",
       "  </clipPath>\n",
       "</defs>\n",
       "<path clip-path=\"url(#clip650)\" d=\"\n",
       "M0 1600 L2400 1600 L2400 0 L0 0  Z\n",
       "  \" fill=\"#ffffff\" fill-rule=\"evenodd\" fill-opacity=\"1\"/>\n",
       "<defs>\n",
       "  <clipPath id=\"clip651\">\n",
       "    <rect x=\"480\" y=\"0\" width=\"1681\" height=\"1600\"/>\n",
       "  </clipPath>\n",
       "</defs>\n",
       "<path clip-path=\"url(#clip650)\" d=\"\n",
       "M156.598 1486.45 L2352.76 1486.45 L2352.76 47.2441 L156.598 47.2441  Z\n",
       "  \" fill=\"#ffffff\" fill-rule=\"evenodd\" fill-opacity=\"1\"/>\n",
       "<defs>\n",
       "  <clipPath id=\"clip652\">\n",
       "    <rect x=\"156\" y=\"47\" width=\"2197\" height=\"1440\"/>\n",
       "  </clipPath>\n",
       "</defs>\n",
       "<polyline clip-path=\"url(#clip652)\" style=\"stroke:#000000; stroke-linecap:butt; stroke-linejoin:round; stroke-width:2; stroke-opacity:0.1; fill:none\" points=\"\n",
       "  218.754,1486.45 218.754,47.2441 \n",
       "  \"/>\n",
       "<polyline clip-path=\"url(#clip652)\" style=\"stroke:#000000; stroke-linecap:butt; stroke-linejoin:round; stroke-width:2; stroke-opacity:0.1; fill:none\" points=\"\n",
       "  736.715,1486.45 736.715,47.2441 \n",
       "  \"/>\n",
       "<polyline clip-path=\"url(#clip652)\" style=\"stroke:#000000; stroke-linecap:butt; stroke-linejoin:round; stroke-width:2; stroke-opacity:0.1; fill:none\" points=\"\n",
       "  1254.68,1486.45 1254.68,47.2441 \n",
       "  \"/>\n",
       "<polyline clip-path=\"url(#clip652)\" style=\"stroke:#000000; stroke-linecap:butt; stroke-linejoin:round; stroke-width:2; stroke-opacity:0.1; fill:none\" points=\"\n",
       "  1772.64,1486.45 1772.64,47.2441 \n",
       "  \"/>\n",
       "<polyline clip-path=\"url(#clip652)\" style=\"stroke:#000000; stroke-linecap:butt; stroke-linejoin:round; stroke-width:2; stroke-opacity:0.1; fill:none\" points=\"\n",
       "  2290.6,1486.45 2290.6,47.2441 \n",
       "  \"/>\n",
       "<polyline clip-path=\"url(#clip650)\" style=\"stroke:#000000; stroke-linecap:butt; stroke-linejoin:round; stroke-width:4; stroke-opacity:1; fill:none\" points=\"\n",
       "  156.598,1486.45 2352.76,1486.45 \n",
       "  \"/>\n",
       "<polyline clip-path=\"url(#clip650)\" style=\"stroke:#000000; stroke-linecap:butt; stroke-linejoin:round; stroke-width:4; stroke-opacity:1; fill:none\" points=\"\n",
       "  218.754,1486.45 218.754,1467.55 \n",
       "  \"/>\n",
       "<polyline clip-path=\"url(#clip650)\" style=\"stroke:#000000; stroke-linecap:butt; stroke-linejoin:round; stroke-width:4; stroke-opacity:1; fill:none\" points=\"\n",
       "  736.715,1486.45 736.715,1467.55 \n",
       "  \"/>\n",
       "<polyline clip-path=\"url(#clip650)\" style=\"stroke:#000000; stroke-linecap:butt; stroke-linejoin:round; stroke-width:4; stroke-opacity:1; fill:none\" points=\"\n",
       "  1254.68,1486.45 1254.68,1467.55 \n",
       "  \"/>\n",
       "<polyline clip-path=\"url(#clip650)\" style=\"stroke:#000000; stroke-linecap:butt; stroke-linejoin:round; stroke-width:4; stroke-opacity:1; fill:none\" points=\"\n",
       "  1772.64,1486.45 1772.64,1467.55 \n",
       "  \"/>\n",
       "<polyline clip-path=\"url(#clip650)\" style=\"stroke:#000000; stroke-linecap:butt; stroke-linejoin:round; stroke-width:4; stroke-opacity:1; fill:none\" points=\"\n",
       "  2290.6,1486.45 2290.6,1467.55 \n",
       "  \"/>\n",
       "<path clip-path=\"url(#clip650)\" d=\"M218.754 1517.37 Q215.143 1517.37 213.314 1520.93 Q211.508 1524.47 211.508 1531.6 Q211.508 1538.71 213.314 1542.27 Q215.143 1545.82 218.754 1545.82 Q222.388 1545.82 224.193 1542.27 Q226.022 1538.71 226.022 1531.6 Q226.022 1524.47 224.193 1520.93 Q222.388 1517.37 218.754 1517.37 M218.754 1513.66 Q224.564 1513.66 227.619 1518.27 Q230.698 1522.85 230.698 1531.6 Q230.698 1540.33 227.619 1544.94 Q224.564 1549.52 218.754 1549.52 Q212.943 1549.52 209.865 1544.94 Q206.809 1540.33 206.809 1531.6 Q206.809 1522.85 209.865 1518.27 Q212.943 1513.66 218.754 1513.66 Z\" fill=\"#000000\" fill-rule=\"evenodd\" fill-opacity=\"1\" /><path clip-path=\"url(#clip650)\" d=\"M711.403 1544.91 L719.042 1544.91 L719.042 1518.55 L710.732 1520.21 L710.732 1515.95 L718.996 1514.29 L723.671 1514.29 L723.671 1544.91 L731.31 1544.91 L731.31 1548.85 L711.403 1548.85 L711.403 1544.91 Z\" fill=\"#000000\" fill-rule=\"evenodd\" fill-opacity=\"1\" /><path clip-path=\"url(#clip650)\" d=\"M750.755 1517.37 Q747.144 1517.37 745.315 1520.93 Q743.509 1524.47 743.509 1531.6 Q743.509 1538.71 745.315 1542.27 Q747.144 1545.82 750.755 1545.82 Q754.389 1545.82 756.194 1542.27 Q758.023 1538.71 758.023 1531.6 Q758.023 1524.47 756.194 1520.93 Q754.389 1517.37 750.755 1517.37 M750.755 1513.66 Q756.565 1513.66 759.62 1518.27 Q762.699 1522.85 762.699 1531.6 Q762.699 1540.33 759.62 1544.94 Q756.565 1549.52 750.755 1549.52 Q744.944 1549.52 741.866 1544.94 Q738.81 1540.33 738.81 1531.6 Q738.81 1522.85 741.866 1518.27 Q744.944 1513.66 750.755 1513.66 Z\" fill=\"#000000\" fill-rule=\"evenodd\" fill-opacity=\"1\" /><path clip-path=\"url(#clip650)\" d=\"M1233.45 1544.91 L1249.77 1544.91 L1249.77 1548.85 L1227.83 1548.85 L1227.83 1544.91 Q1230.49 1542.16 1235.07 1537.53 Q1239.68 1532.88 1240.86 1531.53 Q1243.1 1529.01 1243.98 1527.27 Q1244.89 1525.51 1244.89 1523.82 Q1244.89 1521.07 1242.94 1519.33 Q1241.02 1517.6 1237.92 1517.6 Q1235.72 1517.6 1233.27 1518.36 Q1230.83 1519.13 1228.06 1520.68 L1228.06 1515.95 Q1230.88 1514.82 1233.33 1514.24 Q1235.79 1513.66 1237.83 1513.66 Q1243.2 1513.66 1246.39 1516.35 Q1249.58 1519.03 1249.58 1523.52 Q1249.58 1525.65 1248.77 1527.57 Q1247.99 1529.47 1245.88 1532.07 Q1245.3 1532.74 1242.2 1535.95 Q1239.1 1539.15 1233.45 1544.91 Z\" fill=\"#000000\" fill-rule=\"evenodd\" fill-opacity=\"1\" /><path clip-path=\"url(#clip650)\" d=\"M1269.58 1517.37 Q1265.97 1517.37 1264.14 1520.93 Q1262.34 1524.47 1262.34 1531.6 Q1262.34 1538.71 1264.14 1542.27 Q1265.97 1545.82 1269.58 1545.82 Q1273.22 1545.82 1275.02 1542.27 Q1276.85 1538.71 1276.85 1531.6 Q1276.85 1524.47 1275.02 1520.93 Q1273.22 1517.37 1269.58 1517.37 M1269.58 1513.66 Q1275.39 1513.66 1278.45 1518.27 Q1281.53 1522.85 1281.53 1531.6 Q1281.53 1540.33 1278.45 1544.94 Q1275.39 1549.52 1269.58 1549.52 Q1263.77 1549.52 1260.7 1544.94 Q1257.64 1540.33 1257.64 1531.6 Q1257.64 1522.85 1260.7 1518.27 Q1263.77 1513.66 1269.58 1513.66 Z\" fill=\"#000000\" fill-rule=\"evenodd\" fill-opacity=\"1\" /><path clip-path=\"url(#clip650)\" d=\"M1761.48 1530.21 Q1764.84 1530.93 1766.71 1533.2 Q1768.61 1535.47 1768.61 1538.8 Q1768.61 1543.92 1765.09 1546.72 Q1761.57 1549.52 1755.09 1549.52 Q1752.92 1549.52 1750.6 1549.08 Q1748.31 1548.66 1745.86 1547.81 L1745.86 1543.29 Q1747.8 1544.43 1750.12 1545.01 Q1752.43 1545.58 1754.95 1545.58 Q1759.35 1545.58 1761.64 1543.85 Q1763.96 1542.11 1763.96 1538.8 Q1763.96 1535.75 1761.81 1534.03 Q1759.68 1532.3 1755.86 1532.3 L1751.83 1532.3 L1751.83 1528.45 L1756.04 1528.45 Q1759.49 1528.45 1761.32 1527.09 Q1763.15 1525.7 1763.15 1523.11 Q1763.15 1520.45 1761.25 1519.03 Q1759.37 1517.6 1755.86 1517.6 Q1753.94 1517.6 1751.74 1518.01 Q1749.54 1518.43 1746.9 1519.31 L1746.9 1515.14 Q1749.56 1514.4 1751.88 1514.03 Q1754.21 1513.66 1756.27 1513.66 Q1761.6 1513.66 1764.7 1516.09 Q1767.8 1518.5 1767.8 1522.62 Q1767.8 1525.49 1766.16 1527.48 Q1764.51 1529.45 1761.48 1530.21 Z\" fill=\"#000000\" fill-rule=\"evenodd\" fill-opacity=\"1\" /><path clip-path=\"url(#clip650)\" d=\"M1787.48 1517.37 Q1783.87 1517.37 1782.04 1520.93 Q1780.23 1524.47 1780.23 1531.6 Q1780.23 1538.71 1782.04 1542.27 Q1783.87 1545.82 1787.48 1545.82 Q1791.11 1545.82 1792.92 1542.27 Q1794.75 1538.71 1794.75 1531.6 Q1794.75 1524.47 1792.92 1520.93 Q1791.11 1517.37 1787.48 1517.37 M1787.48 1513.66 Q1793.29 1513.66 1796.34 1518.27 Q1799.42 1522.85 1799.42 1531.6 Q1799.42 1540.33 1796.34 1544.94 Q1793.29 1549.52 1787.48 1549.52 Q1781.67 1549.52 1778.59 1544.94 Q1775.53 1540.33 1775.53 1531.6 Q1775.53 1522.85 1778.59 1518.27 Q1781.67 1513.66 1787.48 1513.66 Z\" fill=\"#000000\" fill-rule=\"evenodd\" fill-opacity=\"1\" /><path clip-path=\"url(#clip650)\" d=\"M2278.77 1518.36 L2266.97 1536.81 L2278.77 1536.81 L2278.77 1518.36 M2277.55 1514.29 L2283.42 1514.29 L2283.42 1536.81 L2288.36 1536.81 L2288.36 1540.7 L2283.42 1540.7 L2283.42 1548.85 L2278.77 1548.85 L2278.77 1540.7 L2263.17 1540.7 L2263.17 1536.19 L2277.55 1514.29 Z\" fill=\"#000000\" fill-rule=\"evenodd\" fill-opacity=\"1\" /><path clip-path=\"url(#clip650)\" d=\"M2306.09 1517.37 Q2302.48 1517.37 2300.65 1520.93 Q2298.84 1524.47 2298.84 1531.6 Q2298.84 1538.71 2300.65 1542.27 Q2302.48 1545.82 2306.09 1545.82 Q2309.72 1545.82 2311.53 1542.27 Q2313.36 1538.71 2313.36 1531.6 Q2313.36 1524.47 2311.53 1520.93 Q2309.72 1517.37 2306.09 1517.37 M2306.09 1513.66 Q2311.9 1513.66 2314.95 1518.27 Q2318.03 1522.85 2318.03 1531.6 Q2318.03 1540.33 2314.95 1544.94 Q2311.9 1549.52 2306.09 1549.52 Q2300.28 1549.52 2297.2 1544.94 Q2294.14 1540.33 2294.14 1531.6 Q2294.14 1522.85 2297.2 1518.27 Q2300.28 1513.66 2306.09 1513.66 Z\" fill=\"#000000\" fill-rule=\"evenodd\" fill-opacity=\"1\" /><polyline clip-path=\"url(#clip652)\" style=\"stroke:#000000; stroke-linecap:butt; stroke-linejoin:round; stroke-width:2; stroke-opacity:0.1; fill:none\" points=\"\n",
       "  156.598,1467.61 2352.76,1467.61 \n",
       "  \"/>\n",
       "<polyline clip-path=\"url(#clip652)\" style=\"stroke:#000000; stroke-linecap:butt; stroke-linejoin:round; stroke-width:2; stroke-opacity:0.1; fill:none\" points=\"\n",
       "  156.598,1248.62 2352.76,1248.62 \n",
       "  \"/>\n",
       "<polyline clip-path=\"url(#clip652)\" style=\"stroke:#000000; stroke-linecap:butt; stroke-linejoin:round; stroke-width:2; stroke-opacity:0.1; fill:none\" points=\"\n",
       "  156.598,1029.63 2352.76,1029.63 \n",
       "  \"/>\n",
       "<polyline clip-path=\"url(#clip652)\" style=\"stroke:#000000; stroke-linecap:butt; stroke-linejoin:round; stroke-width:2; stroke-opacity:0.1; fill:none\" points=\"\n",
       "  156.598,810.644 2352.76,810.644 \n",
       "  \"/>\n",
       "<polyline clip-path=\"url(#clip652)\" style=\"stroke:#000000; stroke-linecap:butt; stroke-linejoin:round; stroke-width:2; stroke-opacity:0.1; fill:none\" points=\"\n",
       "  156.598,591.654 2352.76,591.654 \n",
       "  \"/>\n",
       "<polyline clip-path=\"url(#clip652)\" style=\"stroke:#000000; stroke-linecap:butt; stroke-linejoin:round; stroke-width:2; stroke-opacity:0.1; fill:none\" points=\"\n",
       "  156.598,372.664 2352.76,372.664 \n",
       "  \"/>\n",
       "<polyline clip-path=\"url(#clip652)\" style=\"stroke:#000000; stroke-linecap:butt; stroke-linejoin:round; stroke-width:2; stroke-opacity:0.1; fill:none\" points=\"\n",
       "  156.598,153.673 2352.76,153.673 \n",
       "  \"/>\n",
       "<polyline clip-path=\"url(#clip650)\" style=\"stroke:#000000; stroke-linecap:butt; stroke-linejoin:round; stroke-width:4; stroke-opacity:1; fill:none\" points=\"\n",
       "  156.598,1486.45 156.598,47.2441 \n",
       "  \"/>\n",
       "<polyline clip-path=\"url(#clip650)\" style=\"stroke:#000000; stroke-linecap:butt; stroke-linejoin:round; stroke-width:4; stroke-opacity:1; fill:none\" points=\"\n",
       "  156.598,1467.61 175.496,1467.61 \n",
       "  \"/>\n",
       "<polyline clip-path=\"url(#clip650)\" style=\"stroke:#000000; stroke-linecap:butt; stroke-linejoin:round; stroke-width:4; stroke-opacity:1; fill:none\" points=\"\n",
       "  156.598,1248.62 175.496,1248.62 \n",
       "  \"/>\n",
       "<polyline clip-path=\"url(#clip650)\" style=\"stroke:#000000; stroke-linecap:butt; stroke-linejoin:round; stroke-width:4; stroke-opacity:1; fill:none\" points=\"\n",
       "  156.598,1029.63 175.496,1029.63 \n",
       "  \"/>\n",
       "<polyline clip-path=\"url(#clip650)\" style=\"stroke:#000000; stroke-linecap:butt; stroke-linejoin:round; stroke-width:4; stroke-opacity:1; fill:none\" points=\"\n",
       "  156.598,810.644 175.496,810.644 \n",
       "  \"/>\n",
       "<polyline clip-path=\"url(#clip650)\" style=\"stroke:#000000; stroke-linecap:butt; stroke-linejoin:round; stroke-width:4; stroke-opacity:1; fill:none\" points=\"\n",
       "  156.598,591.654 175.496,591.654 \n",
       "  \"/>\n",
       "<polyline clip-path=\"url(#clip650)\" style=\"stroke:#000000; stroke-linecap:butt; stroke-linejoin:round; stroke-width:4; stroke-opacity:1; fill:none\" points=\"\n",
       "  156.598,372.664 175.496,372.664 \n",
       "  \"/>\n",
       "<polyline clip-path=\"url(#clip650)\" style=\"stroke:#000000; stroke-linecap:butt; stroke-linejoin:round; stroke-width:4; stroke-opacity:1; fill:none\" points=\"\n",
       "  156.598,153.673 175.496,153.673 \n",
       "  \"/>\n",
       "<path clip-path=\"url(#clip650)\" d=\"M65.0198 1453.41 Q61.4087 1453.41 59.58 1456.98 Q57.7745 1460.52 57.7745 1467.65 Q57.7745 1474.76 59.58 1478.32 Q61.4087 1481.86 65.0198 1481.86 Q68.6541 1481.86 70.4596 1478.32 Q72.2883 1474.76 72.2883 1467.65 Q72.2883 1460.52 70.4596 1456.98 Q68.6541 1453.41 65.0198 1453.41 M65.0198 1449.71 Q70.83 1449.71 73.8855 1454.32 Q76.9642 1458.9 76.9642 1467.65 Q76.9642 1476.38 73.8855 1480.98 Q70.83 1485.57 65.0198 1485.57 Q59.2097 1485.57 56.131 1480.98 Q53.0754 1476.38 53.0754 1467.65 Q53.0754 1458.9 56.131 1454.32 Q59.2097 1449.71 65.0198 1449.71 Z\" fill=\"#000000\" fill-rule=\"evenodd\" fill-opacity=\"1\" /><path clip-path=\"url(#clip650)\" d=\"M85.1818 1479.02 L90.066 1479.02 L90.066 1484.89 L85.1818 1484.89 L85.1818 1479.02 Z\" fill=\"#000000\" fill-rule=\"evenodd\" fill-opacity=\"1\" /><path clip-path=\"url(#clip650)\" d=\"M104.279 1480.96 L120.598 1480.96 L120.598 1484.89 L98.6539 1484.89 L98.6539 1480.96 Q101.316 1478.2 105.899 1473.58 Q110.506 1468.92 111.686 1467.58 Q113.932 1465.06 114.811 1463.32 Q115.714 1461.56 115.714 1459.87 Q115.714 1457.12 113.77 1455.38 Q111.848 1453.64 108.746 1453.64 Q106.547 1453.64 104.094 1454.41 Q101.663 1455.17 98.8854 1456.72 L98.8854 1452 Q101.709 1450.87 104.163 1450.29 Q106.617 1449.71 108.654 1449.71 Q114.024 1449.71 117.219 1452.39 Q120.413 1455.08 120.413 1459.57 Q120.413 1461.7 119.603 1463.62 Q118.816 1465.52 116.709 1468.11 Q116.131 1468.78 113.029 1472 Q109.927 1475.2 104.279 1480.96 Z\" fill=\"#000000\" fill-rule=\"evenodd\" fill-opacity=\"1\" /><path clip-path=\"url(#clip650)\" d=\"M64.0708 1234.42 Q60.4597 1234.42 58.631 1237.99 Q56.8254 1241.53 56.8254 1248.66 Q56.8254 1255.77 58.631 1259.33 Q60.4597 1262.87 64.0708 1262.87 Q67.705 1262.87 69.5105 1259.33 Q71.3392 1255.77 71.3392 1248.66 Q71.3392 1241.53 69.5105 1237.99 Q67.705 1234.42 64.0708 1234.42 M64.0708 1230.72 Q69.8809 1230.72 72.9365 1235.33 Q76.0151 1239.91 76.0151 1248.66 Q76.0151 1257.39 72.9365 1261.99 Q69.8809 1266.58 64.0708 1266.58 Q58.2606 1266.58 55.1819 1261.99 Q52.1264 1257.39 52.1264 1248.66 Q52.1264 1239.91 55.1819 1235.33 Q58.2606 1230.72 64.0708 1230.72 Z\" fill=\"#000000\" fill-rule=\"evenodd\" fill-opacity=\"1\" /><path clip-path=\"url(#clip650)\" d=\"M84.2327 1260.02 L89.1169 1260.02 L89.1169 1265.9 L84.2327 1265.9 L84.2327 1260.02 Z\" fill=\"#000000\" fill-rule=\"evenodd\" fill-opacity=\"1\" /><path clip-path=\"url(#clip650)\" d=\"M113.469 1247.27 Q116.825 1247.99 118.7 1250.26 Q120.598 1252.52 120.598 1255.86 Q120.598 1260.97 117.08 1263.77 Q113.561 1266.58 107.08 1266.58 Q104.904 1266.58 102.589 1266.14 Q100.297 1265.72 97.8437 1264.86 L97.8437 1260.35 Q99.7882 1261.48 102.103 1262.06 Q104.418 1262.64 106.941 1262.64 Q111.339 1262.64 113.631 1260.9 Q115.945 1259.17 115.945 1255.86 Q115.945 1252.8 113.793 1251.09 Q111.663 1249.35 107.844 1249.35 L103.816 1249.35 L103.816 1245.51 L108.029 1245.51 Q111.478 1245.51 113.307 1244.15 Q115.135 1242.76 115.135 1240.16 Q115.135 1237.5 113.237 1236.09 Q111.362 1234.65 107.844 1234.65 Q105.922 1234.65 103.723 1235.07 Q101.524 1235.49 98.8854 1236.37 L98.8854 1232.2 Q101.547 1231.46 103.862 1231.09 Q106.2 1230.72 108.26 1230.72 Q113.584 1230.72 116.686 1233.15 Q119.788 1235.56 119.788 1239.68 Q119.788 1242.55 118.145 1244.54 Q116.501 1246.51 113.469 1247.27 Z\" fill=\"#000000\" fill-rule=\"evenodd\" fill-opacity=\"1\" /><path clip-path=\"url(#clip650)\" d=\"M62.9365 1015.43 Q59.3254 1015.43 57.4967 1019 Q55.6912 1022.54 55.6912 1029.67 Q55.6912 1036.78 57.4967 1040.34 Q59.3254 1043.88 62.9365 1043.88 Q66.5707 1043.88 68.3763 1040.34 Q70.205 1036.78 70.205 1029.67 Q70.205 1022.54 68.3763 1019 Q66.5707 1015.43 62.9365 1015.43 M62.9365 1011.73 Q68.7467 1011.73 71.8022 1016.34 Q74.8809 1020.92 74.8809 1029.67 Q74.8809 1038.4 71.8022 1043 Q68.7467 1047.59 62.9365 1047.59 Q57.1264 1047.59 54.0477 1043 Q50.9921 1038.4 50.9921 1029.67 Q50.9921 1020.92 54.0477 1016.34 Q57.1264 1011.73 62.9365 1011.73 Z\" fill=\"#000000\" fill-rule=\"evenodd\" fill-opacity=\"1\" /><path clip-path=\"url(#clip650)\" d=\"M83.0984 1041.03 L87.9827 1041.03 L87.9827 1046.91 L83.0984 1046.91 L83.0984 1041.03 Z\" fill=\"#000000\" fill-rule=\"evenodd\" fill-opacity=\"1\" /><path clip-path=\"url(#clip650)\" d=\"M111.015 1016.43 L99.2095 1034.88 L111.015 1034.88 L111.015 1016.43 M109.788 1012.35 L115.668 1012.35 L115.668 1034.88 L120.598 1034.88 L120.598 1038.77 L115.668 1038.77 L115.668 1046.91 L111.015 1046.91 L111.015 1038.77 L95.4132 1038.77 L95.4132 1034.25 L109.788 1012.35 Z\" fill=\"#000000\" fill-rule=\"evenodd\" fill-opacity=\"1\" /><path clip-path=\"url(#clip650)\" d=\"M64.418 796.443 Q60.8069 796.443 58.9782 800.008 Q57.1726 803.549 57.1726 810.679 Q57.1726 817.785 58.9782 821.35 Q60.8069 824.892 64.418 824.892 Q68.0522 824.892 69.8578 821.35 Q71.6865 817.785 71.6865 810.679 Q71.6865 803.549 69.8578 800.008 Q68.0522 796.443 64.418 796.443 M64.418 792.739 Q70.2281 792.739 73.2837 797.345 Q76.3624 801.929 76.3624 810.679 Q76.3624 819.406 73.2837 824.012 Q70.2281 828.595 64.418 828.595 Q58.6078 828.595 55.5291 824.012 Q52.4736 819.406 52.4736 810.679 Q52.4736 801.929 55.5291 797.345 Q58.6078 792.739 64.418 792.739 Z\" fill=\"#000000\" fill-rule=\"evenodd\" fill-opacity=\"1\" /><path clip-path=\"url(#clip650)\" d=\"M84.5799 822.044 L89.4641 822.044 L89.4641 827.924 L84.5799 827.924 L84.5799 822.044 Z\" fill=\"#000000\" fill-rule=\"evenodd\" fill-opacity=\"1\" /><path clip-path=\"url(#clip650)\" d=\"M99.6956 793.364 L118.052 793.364 L118.052 797.299 L103.978 797.299 L103.978 805.771 Q104.996 805.424 106.015 805.262 Q107.033 805.077 108.052 805.077 Q113.839 805.077 117.219 808.248 Q120.598 811.419 120.598 816.836 Q120.598 822.415 117.126 825.517 Q113.654 828.595 107.334 828.595 Q105.159 828.595 102.89 828.225 Q100.645 827.855 98.2372 827.114 L98.2372 822.415 Q100.321 823.549 102.543 824.105 Q104.765 824.66 107.242 824.66 Q111.246 824.66 113.584 822.554 Q115.922 820.447 115.922 816.836 Q115.922 813.225 113.584 811.119 Q111.246 809.012 107.242 809.012 Q105.367 809.012 103.492 809.429 Q101.64 809.845 99.6956 810.725 L99.6956 793.364 Z\" fill=\"#000000\" fill-rule=\"evenodd\" fill-opacity=\"1\" /><path clip-path=\"url(#clip650)\" d=\"M63.2606 577.452 Q59.6495 577.452 57.8208 581.017 Q56.0152 584.559 56.0152 591.689 Q56.0152 598.795 57.8208 602.36 Q59.6495 605.901 63.2606 605.901 Q66.8948 605.901 68.7004 602.36 Q70.5291 598.795 70.5291 591.689 Q70.5291 584.559 68.7004 581.017 Q66.8948 577.452 63.2606 577.452 M63.2606 573.749 Q69.0707 573.749 72.1263 578.355 Q75.205 582.939 75.205 591.689 Q75.205 600.415 72.1263 605.022 Q69.0707 609.605 63.2606 609.605 Q57.4504 609.605 54.3717 605.022 Q51.3162 600.415 51.3162 591.689 Q51.3162 582.939 54.3717 578.355 Q57.4504 573.749 63.2606 573.749 Z\" fill=\"#000000\" fill-rule=\"evenodd\" fill-opacity=\"1\" /><path clip-path=\"url(#clip650)\" d=\"M83.4225 603.054 L88.3067 603.054 L88.3067 608.934 L83.4225 608.934 L83.4225 603.054 Z\" fill=\"#000000\" fill-rule=\"evenodd\" fill-opacity=\"1\" /><path clip-path=\"url(#clip650)\" d=\"M109.071 589.79 Q105.922 589.79 104.071 591.943 Q102.242 594.096 102.242 597.846 Q102.242 601.573 104.071 603.749 Q105.922 605.901 109.071 605.901 Q112.219 605.901 114.047 603.749 Q115.899 601.573 115.899 597.846 Q115.899 594.096 114.047 591.943 Q112.219 589.79 109.071 589.79 M118.353 575.138 L118.353 579.397 Q116.594 578.564 114.788 578.124 Q113.006 577.684 111.246 577.684 Q106.617 577.684 104.163 580.809 Q101.733 583.934 101.385 590.253 Q102.751 588.239 104.811 587.175 Q106.871 586.087 109.348 586.087 Q114.557 586.087 117.566 589.258 Q120.598 592.406 120.598 597.846 Q120.598 603.17 117.45 606.388 Q114.302 609.605 109.071 609.605 Q103.075 609.605 99.9039 605.022 Q96.7326 600.415 96.7326 591.689 Q96.7326 583.494 100.621 578.633 Q104.51 573.749 111.061 573.749 Q112.82 573.749 114.603 574.096 Q116.408 574.443 118.353 575.138 Z\" fill=\"#000000\" fill-rule=\"evenodd\" fill-opacity=\"1\" /><path clip-path=\"url(#clip650)\" d=\"M64.3254 358.462 Q60.7143 358.462 58.8856 362.027 Q57.0801 365.569 57.0801 372.698 Q57.0801 379.805 58.8856 383.37 Q60.7143 386.911 64.3254 386.911 Q67.9596 386.911 69.7652 383.37 Q71.5939 379.805 71.5939 372.698 Q71.5939 365.569 69.7652 362.027 Q67.9596 358.462 64.3254 358.462 M64.3254 354.759 Q70.1355 354.759 73.1911 359.365 Q76.2698 363.948 76.2698 372.698 Q76.2698 381.425 73.1911 386.032 Q70.1355 390.615 64.3254 390.615 Q58.5152 390.615 55.4365 386.032 Q52.381 381.425 52.381 372.698 Q52.381 363.948 55.4365 359.365 Q58.5152 354.759 64.3254 354.759 Z\" fill=\"#000000\" fill-rule=\"evenodd\" fill-opacity=\"1\" /><path clip-path=\"url(#clip650)\" d=\"M84.4873 384.064 L89.3715 384.064 L89.3715 389.944 L84.4873 389.944 L84.4873 384.064 Z\" fill=\"#000000\" fill-rule=\"evenodd\" fill-opacity=\"1\" /><path clip-path=\"url(#clip650)\" d=\"M98.3761 355.384 L120.598 355.384 L120.598 357.374 L108.052 389.944 L103.168 389.944 L114.973 359.319 L98.3761 359.319 L98.3761 355.384 Z\" fill=\"#000000\" fill-rule=\"evenodd\" fill-opacity=\"1\" /><path clip-path=\"url(#clip650)\" d=\"M63.5152 139.472 Q59.9041 139.472 58.0754 143.037 Q56.2699 146.578 56.2699 153.708 Q56.2699 160.815 58.0754 164.379 Q59.9041 167.921 63.5152 167.921 Q67.1494 167.921 68.955 164.379 Q70.7837 160.815 70.7837 153.708 Q70.7837 146.578 68.955 143.037 Q67.1494 139.472 63.5152 139.472 M63.5152 135.768 Q69.3254 135.768 72.3809 140.375 Q75.4596 144.958 75.4596 153.708 Q75.4596 162.435 72.3809 167.041 Q69.3254 171.625 63.5152 171.625 Q57.7051 171.625 54.6264 167.041 Q51.5708 162.435 51.5708 153.708 Q51.5708 144.958 54.6264 140.375 Q57.7051 135.768 63.5152 135.768 Z\" fill=\"#000000\" fill-rule=\"evenodd\" fill-opacity=\"1\" /><path clip-path=\"url(#clip650)\" d=\"M83.6771 165.074 L88.5614 165.074 L88.5614 170.953 L83.6771 170.953 L83.6771 165.074 Z\" fill=\"#000000\" fill-rule=\"evenodd\" fill-opacity=\"1\" /><path clip-path=\"url(#clip650)\" d=\"M108.746 154.541 Q105.413 154.541 103.492 156.324 Q101.594 158.106 101.594 161.231 Q101.594 164.356 103.492 166.139 Q105.413 167.921 108.746 167.921 Q112.08 167.921 114.001 166.139 Q115.922 164.333 115.922 161.231 Q115.922 158.106 114.001 156.324 Q112.103 154.541 108.746 154.541 M104.071 152.551 Q101.061 151.81 99.3715 149.75 Q97.7048 147.69 97.7048 144.727 Q97.7048 140.583 100.645 138.176 Q103.608 135.768 108.746 135.768 Q113.908 135.768 116.848 138.176 Q119.788 140.583 119.788 144.727 Q119.788 147.69 118.098 149.75 Q116.432 151.81 113.445 152.551 Q116.825 153.338 118.7 155.629 Q120.598 157.921 120.598 161.231 Q120.598 166.254 117.52 168.939 Q114.464 171.625 108.746 171.625 Q103.029 171.625 99.9502 168.939 Q96.8947 166.254 96.8947 161.231 Q96.8947 157.921 98.7928 155.629 Q100.691 153.338 104.071 152.551 M102.358 145.166 Q102.358 147.852 104.024 149.356 Q105.714 150.861 108.746 150.861 Q111.756 150.861 113.445 149.356 Q115.158 147.852 115.158 145.166 Q115.158 142.481 113.445 140.977 Q111.756 139.472 108.746 139.472 Q105.714 139.472 104.024 140.977 Q102.358 142.481 102.358 145.166 Z\" fill=\"#000000\" fill-rule=\"evenodd\" fill-opacity=\"1\" /><polyline clip-path=\"url(#clip652)\" style=\"stroke:#ff0000; stroke-linecap:butt; stroke-linejoin:round; stroke-width:4; stroke-opacity:1; fill:none\" points=\"\n",
       "  218.754,96.7575 239.681,130.196 260.609,162.752 281.537,194.456 302.465,225.337 323.392,255.423 344.32,284.739 365.248,313.312 386.176,341.165 407.103,368.323 \n",
       "  425.938,392.218 428.031,394.867 448.959,420.698 469.887,445.899 490.814,470.488 511.742,494.486 532.67,517.91 553.598,540.779 574.525,563.11 595.453,584.918 \n",
       "  616.381,606.22 633.123,622.945 637.309,627.107 658.236,647.44 679.164,667.31 700.092,686.732 721.02,705.719 741.947,724.282 762.875,742.435 783.803,760.189 \n",
       "  804.731,777.555 825.658,794.545 840.308,806.257 846.586,811.244 867.514,827.51 888.442,843.431 909.369,859.015 930.297,874.272 951.225,889.211 972.152,903.84 \n",
       "  993.08,918.168 1014.01,932.203 1034.94,945.953 1047.49,954.101 1055.86,959.489 1076.79,972.689 1097.72,985.624 1118.65,998.303 1139.57,1010.73 1160.5,1022.92 \n",
       "  1181.43,1034.87 1202.36,1046.58 1223.29,1058.07 1244.21,1069.34 1254.68,1074.92 1265.14,1080.45 1286.07,1091.3 1307,1101.94 1327.92,1112.38 1348.85,1122.63 \n",
       "  1369.78,1132.69 1390.71,1142.56 1411.64,1152.25 1432.56,1161.77 1453.49,1171.11 1461.86,1174.82 1474.42,1180.33 1495.35,1189.34 1516.27,1198.19 1537.2,1206.88 \n",
       "  1558.13,1215.42 1579.06,1223.81 1599.98,1232.06 1620.91,1240.16 1641.84,1248.12 1662.77,1255.95 1669.05,1258.28 1683.7,1263.67 1704.62,1271.23 1725.55,1278.66 \n",
       "  1746.48,1285.97 1767.41,1293.16 1788.33,1300.23 1809.26,1307.18 1830.19,1314.01 1851.12,1320.74 1872.05,1327.35 1876.23,1328.67 1892.97,1333.87 1913.9,1340.28 \n",
       "  1934.83,1346.58 1955.76,1352.77 1976.68,1358.87 1997.61,1364.88 2018.54,1370.79 2039.47,1376.6 2060.4,1382.33 2081.32,1387.96 2083.42,1388.53 2102.25,1393.52 \n",
       "  2123.18,1398.99 2144.11,1404.37 2165.03,1409.66 2185.96,1414.88 2206.89,1420.02 2227.82,1425.08 2248.75,1430.07 2269.67,1434.98 2290.6,1439.82 \n",
       "  \"/>\n",
       "<circle clip-path=\"url(#clip652)\" cx=\"218.754\" cy=\"87.9763\" r=\"14\" fill=\"#ff0000\" fill-rule=\"evenodd\" fill-opacity=\"1\" stroke=\"#000000\" stroke-opacity=\"1\" stroke-width=\"3.2\"/>\n",
       "<circle clip-path=\"url(#clip652)\" cx=\"425.938\" cy=\"416.462\" r=\"14\" fill=\"#ff0000\" fill-rule=\"evenodd\" fill-opacity=\"1\" stroke=\"#000000\" stroke-opacity=\"1\" stroke-width=\"3.2\"/>\n",
       "<circle clip-path=\"url(#clip652)\" cx=\"633.123\" cy=\"613.553\" r=\"14\" fill=\"#ff0000\" fill-rule=\"evenodd\" fill-opacity=\"1\" stroke=\"#000000\" stroke-opacity=\"1\" stroke-width=\"3.2\"/>\n",
       "<circle clip-path=\"url(#clip652)\" cx=\"840.308\" cy=\"788.745\" r=\"14\" fill=\"#ff0000\" fill-rule=\"evenodd\" fill-opacity=\"1\" stroke=\"#000000\" stroke-opacity=\"1\" stroke-width=\"3.2\"/>\n",
       "<circle clip-path=\"url(#clip652)\" cx=\"1047.49\" cy=\"963.937\" r=\"14\" fill=\"#ff0000\" fill-rule=\"evenodd\" fill-opacity=\"1\" stroke=\"#000000\" stroke-opacity=\"1\" stroke-width=\"3.2\"/>\n",
       "<circle clip-path=\"url(#clip652)\" cx=\"1254.68\" cy=\"1073.43\" r=\"14\" fill=\"#ff0000\" fill-rule=\"evenodd\" fill-opacity=\"1\" stroke=\"#000000\" stroke-opacity=\"1\" stroke-width=\"3.2\"/>\n",
       "<circle clip-path=\"url(#clip652)\" cx=\"1461.86\" cy=\"1182.93\" r=\"14\" fill=\"#ff0000\" fill-rule=\"evenodd\" fill-opacity=\"1\" stroke=\"#000000\" stroke-opacity=\"1\" stroke-width=\"3.2\"/>\n",
       "<circle clip-path=\"url(#clip652)\" cx=\"1669.05\" cy=\"1248.62\" r=\"14\" fill=\"#ff0000\" fill-rule=\"evenodd\" fill-opacity=\"1\" stroke=\"#000000\" stroke-opacity=\"1\" stroke-width=\"3.2\"/>\n",
       "<circle clip-path=\"url(#clip652)\" cx=\"1876.23\" cy=\"1336.22\" r=\"14\" fill=\"#ff0000\" fill-rule=\"evenodd\" fill-opacity=\"1\" stroke=\"#000000\" stroke-opacity=\"1\" stroke-width=\"3.2\"/>\n",
       "<circle clip-path=\"url(#clip652)\" cx=\"2083.42\" cy=\"1380.02\" r=\"14\" fill=\"#ff0000\" fill-rule=\"evenodd\" fill-opacity=\"1\" stroke=\"#000000\" stroke-opacity=\"1\" stroke-width=\"3.2\"/>\n",
       "<circle clip-path=\"url(#clip652)\" cx=\"2290.6\" cy=\"1445.72\" r=\"14\" fill=\"#ff0000\" fill-rule=\"evenodd\" fill-opacity=\"1\" stroke=\"#000000\" stroke-opacity=\"1\" stroke-width=\"3.2\"/>\n",
       "<path clip-path=\"url(#clip650)\" d=\"\n",
       "M1908.51 250.738 L2279.55 250.738 L2279.55 95.2176 L1908.51 95.2176  Z\n",
       "  \" fill=\"#ffffff\" fill-rule=\"evenodd\" fill-opacity=\"1\"/>\n",
       "<polyline clip-path=\"url(#clip650)\" style=\"stroke:#000000; stroke-linecap:butt; stroke-linejoin:round; stroke-width:4; stroke-opacity:1; fill:none\" points=\"\n",
       "  1908.51,250.738 2279.55,250.738 2279.55,95.2176 1908.51,95.2176 1908.51,250.738 \n",
       "  \"/>\n",
       "<polyline clip-path=\"url(#clip650)\" style=\"stroke:#ff0000; stroke-linecap:butt; stroke-linejoin:round; stroke-width:4; stroke-opacity:1; fill:none\" points=\"\n",
       "  1932.51,147.058 2076.51,147.058 \n",
       "  \"/>\n",
       "<path clip-path=\"url(#clip650)\" d=\"M2121.02 139.407 L2121.02 143.389 Q2119.21 142.393 2117.38 141.907 Q2115.58 141.398 2113.73 141.398 Q2109.58 141.398 2107.29 144.037 Q2105 146.652 2105 151.398 Q2105 156.143 2107.29 158.782 Q2109.58 161.398 2113.73 161.398 Q2115.58 161.398 2117.38 160.912 Q2119.21 160.402 2121.02 159.407 L2121.02 163.342 Q2119.24 164.176 2117.32 164.592 Q2115.42 165.009 2113.26 165.009 Q2107.41 165.009 2103.96 161.328 Q2100.51 157.648 2100.51 151.398 Q2100.51 145.055 2103.98 141.421 Q2107.48 137.787 2113.54 137.787 Q2115.51 137.787 2117.38 138.203 Q2119.26 138.597 2121.02 139.407 Z\" fill=\"#000000\" fill-rule=\"evenodd\" fill-opacity=\"1\" /><circle clip-path=\"url(#clip650)\" cx=\"2004.51\" cy=\"198.898\" r=\"23\" fill=\"#ff0000\" fill-rule=\"evenodd\" fill-opacity=\"1\" stroke=\"#000000\" stroke-opacity=\"1\" stroke-width=\"5.12\"/>\n",
       "<path clip-path=\"url(#clip650)\" d=\"M2121.02 191.247 L2121.02 195.229 Q2119.21 194.233 2117.38 193.747 Q2115.58 193.238 2113.73 193.238 Q2109.58 193.238 2107.29 195.877 Q2105 198.492 2105 203.238 Q2105 207.983 2107.29 210.622 Q2109.58 213.238 2113.73 213.238 Q2115.58 213.238 2117.38 212.752 Q2119.21 212.242 2121.02 211.247 L2121.02 215.182 Q2119.24 216.016 2117.32 216.432 Q2115.42 216.849 2113.26 216.849 Q2107.41 216.849 2103.96 213.168 Q2100.51 209.488 2100.51 203.238 Q2100.51 196.895 2103.98 193.261 Q2107.48 189.627 2113.54 189.627 Q2115.51 189.627 2117.38 190.043 Q2119.26 190.437 2121.02 191.247 Z\" fill=\"#000000\" fill-rule=\"evenodd\" fill-opacity=\"1\" /><path clip-path=\"url(#clip650)\" d=\"M2148.13 224.048 L2148.13 227.358 L2123.5 227.358 L2123.5 224.048 L2148.13 224.048 Z\" fill=\"#000000\" fill-rule=\"evenodd\" fill-opacity=\"1\" /><path clip-path=\"url(#clip650)\" d=\"M2174.31 202.15 L2174.31 204.233 L2154.72 204.233 Q2155 208.631 2157.36 210.946 Q2159.75 213.238 2163.98 213.238 Q2166.44 213.238 2168.73 212.636 Q2171.04 212.034 2173.31 210.83 L2173.31 214.858 Q2171.02 215.83 2168.61 216.34 Q2166.2 216.849 2163.73 216.849 Q2157.52 216.849 2153.89 213.238 Q2150.28 209.627 2150.28 203.469 Q2150.28 197.104 2153.7 193.377 Q2157.15 189.627 2162.99 189.627 Q2168.22 189.627 2171.25 193.006 Q2174.31 196.363 2174.31 202.15 M2170.05 200.9 Q2170 197.405 2168.08 195.321 Q2166.18 193.238 2163.03 193.238 Q2159.47 193.238 2157.31 195.252 Q2155.19 197.266 2154.86 200.923 L2170.05 200.9 Z\" fill=\"#000000\" fill-rule=\"evenodd\" fill-opacity=\"1\" /><path clip-path=\"url(#clip650)\" d=\"M2202.01 190.252 L2192.64 202.867 L2202.5 216.178 L2197.48 216.178 L2189.93 205.992 L2182.38 216.178 L2177.36 216.178 L2187.43 202.613 L2178.22 190.252 L2183.24 190.252 L2190.12 199.488 L2196.99 190.252 L2202.01 190.252 Z\" fill=\"#000000\" fill-rule=\"evenodd\" fill-opacity=\"1\" /><path clip-path=\"url(#clip650)\" d=\"M2212.64 212.289 L2212.64 226.039 L2208.36 226.039 L2208.36 190.252 L2212.64 190.252 L2212.64 194.187 Q2213.98 191.872 2216.02 190.761 Q2218.08 189.627 2220.93 189.627 Q2225.65 189.627 2228.59 193.377 Q2231.55 197.127 2231.55 203.238 Q2231.55 209.349 2228.59 213.099 Q2225.65 216.849 2220.93 216.849 Q2218.08 216.849 2216.02 215.738 Q2213.98 214.603 2212.64 212.289 M2227.13 203.238 Q2227.13 198.539 2225.18 195.877 Q2223.26 193.192 2219.88 193.192 Q2216.5 193.192 2214.56 195.877 Q2212.64 198.539 2212.64 203.238 Q2212.64 207.937 2214.56 210.622 Q2216.5 213.284 2219.88 213.284 Q2223.26 213.284 2225.18 210.622 Q2227.13 207.937 2227.13 203.238 Z\" fill=\"#000000\" fill-rule=\"evenodd\" fill-opacity=\"1\" /></svg>\n"
      ]
     },
     "execution_count": 26,
     "metadata": {},
     "output_type": "execute_result"
    }
   ],
   "source": [
    "plot(tlist, value(c), label = \"c\", color = \"red\")\n",
    "plot!(texp, [c_exp[t] for t in texp], seriestype = :scatter, label = \"c_exp\", color = \"red\")"
   ]
  },
  {
   "cell_type": "code",
   "execution_count": null,
   "id": "detailed-extreme",
   "metadata": {},
   "outputs": [],
   "source": []
  }
 ],
 "metadata": {
  "kernelspec": {
   "display_name": "Julia 1.6.2",
   "language": "julia",
   "name": "julia-1.6"
  },
  "language_info": {
   "file_extension": ".jl",
   "mimetype": "application/julia",
   "name": "julia",
   "version": "1.6.2"
  }
 },
 "nbformat": 4,
 "nbformat_minor": 5
}
