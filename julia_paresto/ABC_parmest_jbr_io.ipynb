{
 "cells": [
  {
   "cell_type": "code",
   "execution_count": 1,
   "id": "pressed-refund",
   "metadata": {},
   "outputs": [],
   "source": [
    "#\n",
    "# Julia version of code adapted from\n",
    "# https://github.com/rawlings-group/paresto/blob/master/examples/green_book/ABC.m\n",
    "#"
   ]
  },
  {
   "cell_type": "code",
   "execution_count": 7,
   "id": "committed-fight",
   "metadata": {},
   "outputs": [],
   "source": [
    "using CSV, DataFrames\n",
    "using JuMP, Ipopt\n",
    "using Plots\n",
    "using InfiniteOpt"
   ]
  },
  {
   "cell_type": "code",
   "execution_count": 3,
   "id": "delayed-booth",
   "metadata": {},
   "outputs": [
    {
     "data": {
      "text/html": [
       "<div class=\"data-frame\"><p>20 rows × 4 columns</p><table class=\"data-frame\"><thead><tr><th></th><th>t</th><th>ca</th><th>cb</th><th>cc</th></tr><tr><th></th><th title=\"Float64\">Float64</th><th title=\"Float64\">Float64</th><th title=\"Float64\">Float64</th><th title=\"Float64\">Float64</th></tr></thead><tbody><tr><th>1</th><td>0.0</td><td>0.957</td><td>-0.031</td><td>-0.015</td></tr><tr><th>2</th><td>0.263</td><td>0.557</td><td>0.33</td><td>0.044</td></tr><tr><th>3</th><td>0.526</td><td>0.342</td><td>0.512</td><td>0.156</td></tr><tr><th>4</th><td>0.789</td><td>0.224</td><td>0.499</td><td>0.31</td></tr><tr><th>5</th><td>1.053</td><td>0.123</td><td>0.428</td><td>0.454</td></tr><tr><th>6</th><td>1.316</td><td>0.079</td><td>0.396</td><td>0.556</td></tr><tr><th>7</th><td>1.579</td><td>0.035</td><td>0.303</td><td>0.651</td></tr><tr><th>8</th><td>1.842</td><td>0.029</td><td>0.287</td><td>0.658</td></tr><tr><th>9</th><td>2.105</td><td>0.025</td><td>0.221</td><td>0.75</td></tr><tr><th>10</th><td>2.368</td><td>0.017</td><td>0.148</td><td>0.854</td></tr><tr><th>11</th><td>2.632</td><td>-0.002</td><td>0.182</td><td>0.845</td></tr><tr><th>12</th><td>2.895</td><td>0.009</td><td>0.116</td><td>0.893</td></tr><tr><th>13</th><td>3.158</td><td>-0.023</td><td>0.079</td><td>0.942</td></tr><tr><th>14</th><td>3.421</td><td>0.006</td><td>0.078</td><td>0.899</td></tr><tr><th>15</th><td>3.684</td><td>0.016</td><td>0.059</td><td>0.942</td></tr><tr><th>16</th><td>3.947</td><td>0.014</td><td>0.036</td><td>0.991</td></tr><tr><th>17</th><td>4.211</td><td>-0.009</td><td>0.014</td><td>0.988</td></tr><tr><th>18</th><td>4.474</td><td>-0.03</td><td>0.036</td><td>0.941</td></tr><tr><th>19</th><td>4.737</td><td>0.004</td><td>0.036</td><td>0.971</td></tr><tr><th>20</th><td>5.0</td><td>-0.024</td><td>0.028</td><td>0.985</td></tr></tbody></table></div>"
      ],
      "text/latex": [
       "\\begin{tabular}{r|cccc}\n",
       "\t& t & ca & cb & cc\\\\\n",
       "\t\\hline\n",
       "\t& Float64 & Float64 & Float64 & Float64\\\\\n",
       "\t\\hline\n",
       "\t1 & 0.0 & 0.957 & -0.031 & -0.015 \\\\\n",
       "\t2 & 0.263 & 0.557 & 0.33 & 0.044 \\\\\n",
       "\t3 & 0.526 & 0.342 & 0.512 & 0.156 \\\\\n",
       "\t4 & 0.789 & 0.224 & 0.499 & 0.31 \\\\\n",
       "\t5 & 1.053 & 0.123 & 0.428 & 0.454 \\\\\n",
       "\t6 & 1.316 & 0.079 & 0.396 & 0.556 \\\\\n",
       "\t7 & 1.579 & 0.035 & 0.303 & 0.651 \\\\\n",
       "\t8 & 1.842 & 0.029 & 0.287 & 0.658 \\\\\n",
       "\t9 & 2.105 & 0.025 & 0.221 & 0.75 \\\\\n",
       "\t10 & 2.368 & 0.017 & 0.148 & 0.854 \\\\\n",
       "\t11 & 2.632 & -0.002 & 0.182 & 0.845 \\\\\n",
       "\t12 & 2.895 & 0.009 & 0.116 & 0.893 \\\\\n",
       "\t13 & 3.158 & -0.023 & 0.079 & 0.942 \\\\\n",
       "\t14 & 3.421 & 0.006 & 0.078 & 0.899 \\\\\n",
       "\t15 & 3.684 & 0.016 & 0.059 & 0.942 \\\\\n",
       "\t16 & 3.947 & 0.014 & 0.036 & 0.991 \\\\\n",
       "\t17 & 4.211 & -0.009 & 0.014 & 0.988 \\\\\n",
       "\t18 & 4.474 & -0.03 & 0.036 & 0.941 \\\\\n",
       "\t19 & 4.737 & 0.004 & 0.036 & 0.971 \\\\\n",
       "\t20 & 5.0 & -0.024 & 0.028 & 0.985 \\\\\n",
       "\\end{tabular}\n"
      ],
      "text/plain": [
       "\u001b[1m20×4 DataFrame\u001b[0m\n",
       "\u001b[1m Row \u001b[0m│\u001b[1m t       \u001b[0m\u001b[1m ca      \u001b[0m\u001b[1m cb      \u001b[0m\u001b[1m cc      \u001b[0m\n",
       "\u001b[1m     \u001b[0m│\u001b[90m Float64 \u001b[0m\u001b[90m Float64 \u001b[0m\u001b[90m Float64 \u001b[0m\u001b[90m Float64 \u001b[0m\n",
       "─────┼────────────────────────────────────\n",
       "   1 │   0.0      0.957   -0.031   -0.015\n",
       "   2 │   0.263    0.557    0.33     0.044\n",
       "   3 │   0.526    0.342    0.512    0.156\n",
       "   4 │   0.789    0.224    0.499    0.31\n",
       "   5 │   1.053    0.123    0.428    0.454\n",
       "   6 │   1.316    0.079    0.396    0.556\n",
       "   7 │   1.579    0.035    0.303    0.651\n",
       "   8 │   1.842    0.029    0.287    0.658\n",
       "   9 │   2.105    0.025    0.221    0.75\n",
       "  10 │   2.368    0.017    0.148    0.854\n",
       "  11 │   2.632   -0.002    0.182    0.845\n",
       "  12 │   2.895    0.009    0.116    0.893\n",
       "  13 │   3.158   -0.023    0.079    0.942\n",
       "  14 │   3.421    0.006    0.078    0.899\n",
       "  15 │   3.684    0.016    0.059    0.942\n",
       "  16 │   3.947    0.014    0.036    0.991\n",
       "  17 │   4.211   -0.009    0.014    0.988\n",
       "  18 │   4.474   -0.03     0.036    0.941\n",
       "  19 │   4.737    0.004    0.036    0.971\n",
       "  20 │   5.0     -0.024    0.028    0.985"
      ]
     },
     "execution_count": 3,
     "metadata": {},
     "output_type": "execute_result"
    }
   ],
   "source": [
    "ABC_data = CSV.read(\"data_sets/ABC_data.csv\", DataFrame)"
   ]
  },
  {
   "cell_type": "code",
   "execution_count": 8,
   "id": "destroyed-thomas",
   "metadata": {},
   "outputs": [],
   "source": [
    "opt = Ipopt.Optimizer    "
   ]
  },
  {
   "cell_type": "code",
   "execution_count": 50,
   "id": "descending-stopping",
   "metadata": {},
   "outputs": [
    {
     "data": {
      "text/plain": [
       "Dict{Float64, Float64} with 20 entries:\n",
       "  4.211 => 0.988\n",
       "  4.474 => 0.941\n",
       "  5.0   => 0.985\n",
       "  0.263 => 0.044\n",
       "  1.053 => 0.454\n",
       "  0.526 => 0.156\n",
       "  4.737 => 0.971\n",
       "  0.0   => -0.015\n",
       "  1.579 => 0.651\n",
       "  3.421 => 0.899\n",
       "  2.368 => 0.854\n",
       "  2.105 => 0.75\n",
       "  3.947 => 0.991\n",
       "  3.158 => 0.942\n",
       "  0.789 => 0.31\n",
       "  1.316 => 0.556\n",
       "  1.842 => 0.658\n",
       "  2.632 => 0.845\n",
       "  2.895 => 0.893\n",
       "  3.684 => 0.942"
      ]
     },
     "execution_count": 50,
     "metadata": {},
     "output_type": "execute_result"
    }
   ],
   "source": [
    "texp = ABC_data.t\n",
    "ca_exp = Dict(Pair.(ABC_data.t, ABC_data.ca))\n",
    "cb_exp = Dict(Pair.(ABC_data.t, ABC_data.cb))\n",
    "cc_exp = Dict(Pair.(ABC_data.t, ABC_data.cc))"
   ]
  },
  {
   "cell_type": "code",
   "execution_count": 51,
   "id": "instant-extreme",
   "metadata": {},
   "outputs": [
    {
     "data": {
      "text/plain": [
       "118-element Vector{Float64}:\n",
       " 0.0\n",
       " 0.050505050505050504\n",
       " 0.10101010101010101\n",
       " 0.15151515151515152\n",
       " 0.20202020202020202\n",
       " 0.25252525252525254\n",
       " 0.263\n",
       " 0.30303030303030304\n",
       " 0.35353535353535354\n",
       " 0.40404040404040403\n",
       " 0.45454545454545453\n",
       " 0.5050505050505051\n",
       " 0.526\n",
       " ⋮\n",
       " 4.494949494949495\n",
       " 4.545454545454546\n",
       " 4.595959595959596\n",
       " 4.646464646464646\n",
       " 4.696969696969697\n",
       " 4.737\n",
       " 4.747474747474747\n",
       " 4.797979797979798\n",
       " 4.848484848484849\n",
       " 4.898989898989899\n",
       " 4.94949494949495\n",
       " 5.0"
      ]
     },
     "execution_count": 51,
     "metadata": {},
     "output_type": "execute_result"
    }
   ],
   "source": [
    "tlist = unique(sort(vcat(collect(range(0.0, 5.0, length = 100)), texp)))"
   ]
  },
  {
   "cell_type": "code",
   "execution_count": 69,
   "id": "handed-copper",
   "metadata": {},
   "outputs": [
    {
     "data": {
      "text/plain": [
       "An InfiniteOpt Model\n",
       "Feasibility problem with:\n",
       "Finite Parameters: 0\n",
       "Infinite Parameters: 0\n",
       "Variables: 0\n",
       "Derivatives: 0\n",
       "Measures: 0\n",
       "Optimizer model backend information: \n",
       "Model mode: AUTOMATIC\n",
       "CachingOptimizer state: EMPTY_OPTIMIZER\n",
       "Solver name: Ipopt"
      ]
     },
     "execution_count": 69,
     "metadata": {},
     "output_type": "execute_result"
    }
   ],
   "source": [
    "m = InfiniteModel(opt)"
   ]
  },
  {
   "cell_type": "code",
   "execution_count": 70,
   "id": "acoustic-chart",
   "metadata": {},
   "outputs": [
    {
     "data": {
      "text/latex": [
       "$$ t $$"
      ],
      "text/plain": [
       "t"
      ]
     },
     "execution_count": 70,
     "metadata": {},
     "output_type": "execute_result"
    }
   ],
   "source": [
    "@infinite_parameter(m, t in [0, 5.0], supports = tlist)"
   ]
  },
  {
   "cell_type": "code",
   "execution_count": 71,
   "id": "composed-tooth",
   "metadata": {},
   "outputs": [],
   "source": [
    "@variables(m, \n",
    "    begin\n",
    "        ca, Infinite(t)\n",
    "        cb, Infinite(t)\n",
    "        cc, Infinite(t)\n",
    "    end\n",
    "    )"
   ]
  },
  {
   "cell_type": "code",
   "execution_count": 73,
   "id": "established-entry",
   "metadata": {},
   "outputs": [
    {
     "data": {
      "text/latex": [
       "$$ k2 $$"
      ],
      "text/plain": [
       "k2"
      ]
     },
     "execution_count": 73,
     "metadata": {},
     "output_type": "execute_result"
    }
   ],
   "source": [
    "@variable(m, k1 >= 0, start = 0.5)\n",
    "@variable(m, k2 >= 0, start = 0.5)"
   ]
  },
  {
   "cell_type": "code",
   "execution_count": 74,
   "id": "specified-tanzania",
   "metadata": {},
   "outputs": [
    {
     "data": {
      "text/latex": [
       "$ cc(0) = 0.0 $"
      ],
      "text/plain": [
       "cc(0) = 0.0"
      ]
     },
     "execution_count": 74,
     "metadata": {},
     "output_type": "execute_result"
    }
   ],
   "source": [
    "@constraint(m, ca(0) == 1.0)\n",
    "@constraint(m, cb(0) == 0.0)\n",
    "@constraint(m, cc(0) == 0.0)"
   ]
  },
  {
   "cell_type": "code",
   "execution_count": 75,
   "id": "broad-blanket",
   "metadata": {},
   "outputs": [
    {
     "data": {
      "text/latex": [
       "$ -cb(t)\\times k2 + \\frac{\\partial}{\\partial t}\\left[cc(t)\\right] = 0.0, \\quad\\forall t \\in [0, 5] $"
      ],
      "text/plain": [
       "-cb(t)*k2 + ∂/∂t[cc(t)] = 0.0, ∀ t ∈ [0, 5]"
      ]
     },
     "execution_count": 75,
     "metadata": {},
     "output_type": "execute_result"
    }
   ],
   "source": [
    "@constraint(m, @deriv(ca, t) == -k1 * ca)\n",
    "@constraint(m, @deriv(cb, t) == k1 * ca - k2 * cb)\n",
    "@constraint(m, @deriv(cc, t) == k2 * cb)"
   ]
  },
  {
   "cell_type": "code",
   "execution_count": 76,
   "id": "robust-mount",
   "metadata": {},
   "outputs": [
    {
     "data": {
      "text/latex": [
       "$$ ca(0)^2 + cb(0)^2 + cc(0)^2 + ca(0.263)^2 + cb(0.263)^2 + cc(0.263)^2 + ca(0.526)^2 + cb(0.526)^2 + cc(0.526)^2 + ca(0.789)^2 + cb(0.789)^2 + cc(0.789)^2 + ca(1.053)^2 + cb(1.053)^2 + cc(1.053)^2 + ca(1.316)^2 + cb(1.316)^2 + cc(1.316)^2 + ca(1.579)^2 + cb(1.579)^2 + cc(1.579)^2 + ca(1.842)^2 + cb(1.842)^2 + cc(1.842)^2 + ca(2.105)^2 + cb(2.105)^2 + cc(2.105)^2 + ca(2.368)^2 + cb(2.368)^2 + cc(2.368)^2 + ca(2.632)^2 + cb(2.632)^2 + cc(2.632)^2 + ca(2.895)^2 + cb(2.895)^2 + cc(2.895)^2 + ca(3.158)^2 + cb(3.158)^2 + cc(3.158)^2 + ca(3.421)^2 + cb(3.421)^2 + cc(3.421)^2 + ca(3.684)^2 + cb(3.684)^2 + cc(3.684)^2 + ca(3.947)^2 + cb(3.947)^2 + cc(3.947)^2 + ca(4.211)^2 + cb(4.211)^2 + cc(4.211)^2 + ca(4.474)^2 + cb(4.474)^2 + cc(4.474)^2 + ca(4.737)^2 + cb(4.737)^2 + cc(4.737)^2 + ca(5)^2 + cb(5)^2 + cc(5)^2 - 1.914 ca(0) + 0.062 cb(0) + 0.03 cc(0) - 1.114 ca(0.263) - 0.66 cb(0.263) - 0.088 cc(0.263) - 0.684 ca(0.526) - 1.024 cb(0.526) - 0.312 cc(0.526) - 0.448 ca(0.789) - 0.998 cb(0.789) - 0.62 cc(0.789) - 0.246 ca(1.053) - 0.856 cb(1.053) - 0.908 cc(1.053) - 0.158 ca(1.316) - 0.792 cb(1.316) - 1.112 cc(1.316) - 0.07 ca(1.579) - 0.606 cb(1.579) - 1.302 cc(1.579) - 0.058 ca(1.842) - 0.574 cb(1.842) - 1.316 cc(1.842) - 0.05 ca(2.105) - 0.442 cb(2.105) - 1.5 cc(2.105) - 0.034 ca(2.368) - 0.296 cb(2.368) - 1.708 cc(2.368) + 0.004 ca(2.632) - 0.364 cb(2.632) - 1.69 cc(2.632) - 0.018 ca(2.895) - 0.232 cb(2.895) - 1.786 cc(2.895) + 0.046 ca(3.158) - 0.158 cb(3.158) - 1.884 cc(3.158) - 0.012 ca(3.421) - 0.156 cb(3.421) - 1.798 cc(3.421) - 0.032 ca(3.684) - 0.118 cb(3.684) - 1.884 cc(3.684) - 0.028 ca(3.947) - 0.072 cb(3.947) - 1.982 cc(3.947) + 0.018 ca(4.211) - 0.028 cb(4.211) - 1.976 cc(4.211) + 0.06 ca(4.474) - 0.072 cb(4.474) - 1.882 cc(4.474) - 0.008 ca(4.737) - 0.072 cb(4.737) - 1.942 cc(4.737) + 0.048 ca(5) - 0.056 cb(5) - 1.97 cc(5) + 14.331051000000002 $$"
      ],
      "text/plain": [
       "ca(0)² + cb(0)² + cc(0)² + ca(0.263)² + cb(0.263)² + cc(0.263)² + ca(0.526)² + cb(0.526)² + cc(0.526)² + ca(0.789)² + cb(0.789)² + cc(0.789)² + ca(1.053)² + cb(1.053)² + cc(1.053)² + ca(1.316)² + cb(1.316)² + cc(1.316)² + ca(1.579)² + cb(1.579)² + cc(1.579)² + ca(1.842)² + cb(1.842)² + cc(1.842)² + ca(2.105)² + cb(2.105)² + cc(2.105)² + ca(2.368)² + cb(2.368)² + cc(2.368)² + ca(2.632)² + cb(2.632)² + cc(2.632)² + ca(2.895)² + cb(2.895)² + cc(2.895)² + ca(3.158)² + cb(3.158)² + cc(3.158)² + ca(3.421)² + cb(3.421)² + cc(3.421)² + ca(3.684)² + cb(3.684)² + cc(3.684)² + ca(3.947)² + cb(3.947)² + cc(3.947)² + ca(4.211)² + cb(4.211)² + cc(4.211)² + ca(4.474)² + cb(4.474)² + cc(4.474)² + ca(4.737)² + cb(4.737)² + cc(4.737)² + ca(5)² + cb(5)² + cc(5)² - 1.914 ca(0) + 0.062 cb(0) + 0.03 cc(0) - 1.114 ca(0.263) - 0.66 cb(0.263) - 0.088 cc(0.263) - 0.684 ca(0.526) - 1.024 cb(0.526) - 0.312 cc(0.526) - 0.448 ca(0.789) - 0.998 cb(0.789) - 0.62 cc(0.789) - 0.246 ca(1.053) - 0.856 cb(1.053) - 0.908 cc(1.053) - 0.158 ca(1.316) - 0.792 cb(1.316) - 1.112 cc(1.316) - 0.07 ca(1.579) - 0.606 cb(1.579) - 1.302 cc(1.579) - 0.058 ca(1.842) - 0.574 cb(1.842) - 1.316 cc(1.842) - 0.05 ca(2.105) - 0.442 cb(2.105) - 1.5 cc(2.105) - 0.034 ca(2.368) - 0.296 cb(2.368) - 1.708 cc(2.368) + 0.004 ca(2.632) - 0.364 cb(2.632) - 1.69 cc(2.632) - 0.018 ca(2.895) - 0.232 cb(2.895) - 1.786 cc(2.895) + 0.046 ca(3.158) - 0.158 cb(3.158) - 1.884 cc(3.158) - 0.012 ca(3.421) - 0.156 cb(3.421) - 1.798 cc(3.421) - 0.032 ca(3.684) - 0.118 cb(3.684) - 1.884 cc(3.684) - 0.028 ca(3.947) - 0.072 cb(3.947) - 1.982 cc(3.947) + 0.018 ca(4.211) - 0.028 cb(4.211) - 1.976 cc(4.211) + 0.06 ca(4.474) - 0.072 cb(4.474) - 1.882 cc(4.474) - 0.008 ca(4.737) - 0.072 cb(4.737) - 1.942 cc(4.737) + 0.048 ca(5) - 0.056 cb(5) - 1.97 cc(5) + 14.331051000000002"
      ]
     },
     "execution_count": 76,
     "metadata": {},
     "output_type": "execute_result"
    }
   ],
   "source": [
    "@objective(m, Min, sum((ca(t) - ca_exp[t])^2 + (cb(t) - cb_exp[t])^2 + (cc(t) - cc_exp[t])^2 for t in texp))"
   ]
  },
  {
   "cell_type": "code",
   "execution_count": 77,
   "id": "whole-trademark",
   "metadata": {},
   "outputs": [
    {
     "name": "stdout",
     "output_type": "stream",
     "text": [
      "This is Ipopt version 3.13.4, running with linear solver mumps.\n",
      "NOTE: Other linear solvers might be more efficient (see Ipopt documentation).\n",
      "\n",
      "Number of nonzeros in equality constraint Jacobian...:     2354\n",
      "Number of nonzeros in inequality constraint Jacobian.:        0\n",
      "Number of nonzeros in Lagrangian Hessian.............:      532\n",
      "\n",
      "Total number of variables............................:      710\n",
      "                     variables with only lower bounds:        2\n",
      "                variables with lower and upper bounds:        0\n",
      "                     variables with only upper bounds:        0\n",
      "Total number of equality constraints.................:      708\n",
      "Total number of inequality constraints...............:        0\n",
      "        inequality constraints with only lower bounds:        0\n",
      "   inequality constraints with lower and upper bounds:        0\n",
      "        inequality constraints with only upper bounds:        0\n",
      "\n",
      "iter    objective    inf_pr   inf_du lg(mu)  ||d||  lg(rg) alpha_du alpha_pr  ls\n",
      "   0  1.4331051e+01 1.00e+00 1.00e+00  -1.0 0.00e+00    -  0.00e+00 0.00e+00   0\n",
      "   1  5.2796997e+00 6.84e+00 5.86e+01  -1.7 6.84e+00    -  6.76e-02 1.00e+00f  1\n",
      "   2  2.4894191e+00 5.86e-01 1.08e+03  -1.7 5.92e+00   2.0 1.00e+00 1.00e+00h  1\n",
      "   3  1.9471597e+00 6.65e-02 4.76e+02  -1.7 7.89e-01   2.4 1.00e+00 1.00e+00h  1\n",
      "   4  1.4912744e+00 3.46e-01 4.41e+02  -1.7 3.21e+00   1.9 6.72e-01 8.55e-02H  1\n",
      "   5  1.6500304e+00 9.49e-02 2.10e+02  -1.7 1.06e+00   2.4 2.59e-02 1.00e+00h  1\n",
      "   6  1.4874035e+00 8.29e-03 2.60e+01  -1.7 1.45e-01   1.9 1.00e+00 1.00e+00h  1\n",
      "   7  1.4673387e+00 4.09e-05 1.64e-01  -1.7 1.11e-02   1.4 1.00e+00 1.00e+00h  1\n",
      "   8  2.5952911e-01 9.58e-02 5.40e-01  -2.5 4.37e-01    -  6.81e-01 1.00e+00f  1\n",
      "   9  4.4214783e-02 8.35e-02 8.31e-02  -2.5 5.77e-01    -  1.00e+00 1.00e+00h  1\n",
      "iter    objective    inf_pr   inf_du lg(mu)  ||d||  lg(rg) alpha_du alpha_pr  ls\n",
      "  10  2.6185616e-02 1.31e-02 1.01e-02  -2.5 3.07e-01    -  1.00e+00 1.00e+00h  1\n",
      "  11  2.5599882e-02 1.03e-03 2.10e-04  -3.8 8.75e-02    -  1.00e+00 1.00e+00h  1\n",
      "  12  2.5571394e-02 6.92e-07 2.29e-07  -5.7 2.76e-03    -  1.00e+00 1.00e+00h  1\n",
      "  13  2.5571409e-02 3.75e-13 4.98e-13  -8.6 1.01e-06    -  1.00e+00 1.00e+00h  1\n",
      "\n",
      "Number of Iterations....: 13\n",
      "\n",
      "                                   (scaled)                 (unscaled)\n",
      "Objective...............:   2.5571408909843996e-02    2.5571408909843996e-02\n",
      "Dual infeasibility......:   4.9764783594727008e-13    4.9764783594727008e-13\n",
      "Constraint violation....:   3.7503333771837788e-13    3.7503333771837788e-13\n",
      "Complementarity.........:   2.5066862643200918e-09    2.5066862643200918e-09\n",
      "Overall NLP error.......:   2.5066862643200918e-09    2.5066862643200918e-09\n",
      "\n",
      "\n",
      "Number of objective function evaluations             = 15\n",
      "Number of objective gradient evaluations             = 14\n",
      "Number of equality constraint evaluations            = 15\n",
      "Number of inequality constraint evaluations          = 0\n",
      "Number of equality constraint Jacobian evaluations   = 14\n",
      "Number of inequality constraint Jacobian evaluations = 0\n",
      "Number of Lagrangian Hessian evaluations             = 13\n",
      "Total CPU secs in IPOPT (w/o function evaluations)   =      0.064\n",
      "Total CPU secs in NLP function evaluations           =      0.000\n",
      "\n",
      "EXIT: Optimal Solution Found.\n"
     ]
    }
   ],
   "source": [
    "optimize!(m)"
   ]
  },
  {
   "cell_type": "code",
   "execution_count": 78,
   "id": "handled-jewelry",
   "metadata": {},
   "outputs": [
    {
     "data": {
      "text/plain": [
       "LOCALLY_SOLVED::TerminationStatusCode = 4"
      ]
     },
     "execution_count": 78,
     "metadata": {},
     "output_type": "execute_result"
    }
   ],
   "source": [
    "termination_status(m)"
   ]
  },
  {
   "cell_type": "code",
   "execution_count": 80,
   "id": "amber-detection",
   "metadata": {},
   "outputs": [
    {
     "data": {
      "text/plain": [
       "(2.1332369829000344, 0.9908553359382726)"
      ]
     },
     "execution_count": 80,
     "metadata": {},
     "output_type": "execute_result"
    }
   ],
   "source": [
    "value(k1), value(k2)"
   ]
  },
  {
   "cell_type": "code",
   "execution_count": 93,
   "id": "experimental-willow",
   "metadata": {},
   "outputs": [
    {
     "data": {
      "image/svg+xml": [
       "<?xml version=\"1.0\" encoding=\"utf-8\"?>\n",
       "<svg xmlns=\"http://www.w3.org/2000/svg\" xmlns:xlink=\"http://www.w3.org/1999/xlink\" width=\"600\" height=\"400\" viewBox=\"0 0 2400 1600\">\n",
       "<defs>\n",
       "  <clipPath id=\"clip830\">\n",
       "    <rect x=\"0\" y=\"0\" width=\"2400\" height=\"1600\"/>\n",
       "  </clipPath>\n",
       "</defs>\n",
       "<path clip-path=\"url(#clip830)\" d=\"\n",
       "M0 1600 L2400 1600 L2400 0 L0 0  Z\n",
       "  \" fill=\"#ffffff\" fill-rule=\"evenodd\" fill-opacity=\"1\"/>\n",
       "<defs>\n",
       "  <clipPath id=\"clip831\">\n",
       "    <rect x=\"480\" y=\"0\" width=\"1681\" height=\"1600\"/>\n",
       "  </clipPath>\n",
       "</defs>\n",
       "<path clip-path=\"url(#clip830)\" d=\"\n",
       "M186.274 1486.45 L2352.76 1486.45 L2352.76 47.2441 L186.274 47.2441  Z\n",
       "  \" fill=\"#ffffff\" fill-rule=\"evenodd\" fill-opacity=\"1\"/>\n",
       "<defs>\n",
       "  <clipPath id=\"clip832\">\n",
       "    <rect x=\"186\" y=\"47\" width=\"2167\" height=\"1440\"/>\n",
       "  </clipPath>\n",
       "</defs>\n",
       "<polyline clip-path=\"url(#clip832)\" style=\"stroke:#000000; stroke-linecap:butt; stroke-linejoin:round; stroke-width:2; stroke-opacity:0.1; fill:none\" points=\"\n",
       "  247.59,1486.45 247.59,47.2441 \n",
       "  \"/>\n",
       "<polyline clip-path=\"url(#clip832)\" style=\"stroke:#000000; stroke-linecap:butt; stroke-linejoin:round; stroke-width:2; stroke-opacity:0.1; fill:none\" points=\"\n",
       "  656.36,1486.45 656.36,47.2441 \n",
       "  \"/>\n",
       "<polyline clip-path=\"url(#clip832)\" style=\"stroke:#000000; stroke-linecap:butt; stroke-linejoin:round; stroke-width:2; stroke-opacity:0.1; fill:none\" points=\"\n",
       "  1065.13,1486.45 1065.13,47.2441 \n",
       "  \"/>\n",
       "<polyline clip-path=\"url(#clip832)\" style=\"stroke:#000000; stroke-linecap:butt; stroke-linejoin:round; stroke-width:2; stroke-opacity:0.1; fill:none\" points=\"\n",
       "  1473.9,1486.45 1473.9,47.2441 \n",
       "  \"/>\n",
       "<polyline clip-path=\"url(#clip832)\" style=\"stroke:#000000; stroke-linecap:butt; stroke-linejoin:round; stroke-width:2; stroke-opacity:0.1; fill:none\" points=\"\n",
       "  1882.67,1486.45 1882.67,47.2441 \n",
       "  \"/>\n",
       "<polyline clip-path=\"url(#clip832)\" style=\"stroke:#000000; stroke-linecap:butt; stroke-linejoin:round; stroke-width:2; stroke-opacity:0.1; fill:none\" points=\"\n",
       "  2291.44,1486.45 2291.44,47.2441 \n",
       "  \"/>\n",
       "<polyline clip-path=\"url(#clip830)\" style=\"stroke:#000000; stroke-linecap:butt; stroke-linejoin:round; stroke-width:4; stroke-opacity:1; fill:none\" points=\"\n",
       "  186.274,1486.45 2352.76,1486.45 \n",
       "  \"/>\n",
       "<polyline clip-path=\"url(#clip830)\" style=\"stroke:#000000; stroke-linecap:butt; stroke-linejoin:round; stroke-width:4; stroke-opacity:1; fill:none\" points=\"\n",
       "  247.59,1486.45 247.59,1467.55 \n",
       "  \"/>\n",
       "<polyline clip-path=\"url(#clip830)\" style=\"stroke:#000000; stroke-linecap:butt; stroke-linejoin:round; stroke-width:4; stroke-opacity:1; fill:none\" points=\"\n",
       "  656.36,1486.45 656.36,1467.55 \n",
       "  \"/>\n",
       "<polyline clip-path=\"url(#clip830)\" style=\"stroke:#000000; stroke-linecap:butt; stroke-linejoin:round; stroke-width:4; stroke-opacity:1; fill:none\" points=\"\n",
       "  1065.13,1486.45 1065.13,1467.55 \n",
       "  \"/>\n",
       "<polyline clip-path=\"url(#clip830)\" style=\"stroke:#000000; stroke-linecap:butt; stroke-linejoin:round; stroke-width:4; stroke-opacity:1; fill:none\" points=\"\n",
       "  1473.9,1486.45 1473.9,1467.55 \n",
       "  \"/>\n",
       "<polyline clip-path=\"url(#clip830)\" style=\"stroke:#000000; stroke-linecap:butt; stroke-linejoin:round; stroke-width:4; stroke-opacity:1; fill:none\" points=\"\n",
       "  1882.67,1486.45 1882.67,1467.55 \n",
       "  \"/>\n",
       "<polyline clip-path=\"url(#clip830)\" style=\"stroke:#000000; stroke-linecap:butt; stroke-linejoin:round; stroke-width:4; stroke-opacity:1; fill:none\" points=\"\n",
       "  2291.44,1486.45 2291.44,1467.55 \n",
       "  \"/>\n",
       "<path clip-path=\"url(#clip830)\" d=\"M247.59 1515.64 Q243.978 1515.64 242.15 1519.2 Q240.344 1522.75 240.344 1529.87 Q240.344 1536.98 242.15 1540.55 Q243.978 1544.09 247.59 1544.09 Q251.224 1544.09 253.029 1540.55 Q254.858 1536.98 254.858 1529.87 Q254.858 1522.75 253.029 1519.2 Q251.224 1515.64 247.59 1515.64 M247.59 1511.93 Q253.4 1511.93 256.455 1516.54 Q259.534 1521.12 259.534 1529.87 Q259.534 1538.6 256.455 1543.21 Q253.4 1547.79 247.59 1547.79 Q241.779 1547.79 238.701 1543.21 Q235.645 1538.6 235.645 1529.87 Q235.645 1521.12 238.701 1516.54 Q241.779 1511.93 247.59 1511.93 Z\" fill=\"#000000\" fill-rule=\"evenodd\" fill-opacity=\"1\" /><path clip-path=\"url(#clip830)\" d=\"M646.742 1543.18 L654.381 1543.18 L654.381 1516.82 L646.07 1518.49 L646.07 1514.23 L654.334 1512.56 L659.01 1512.56 L659.01 1543.18 L666.649 1543.18 L666.649 1547.12 L646.742 1547.12 L646.742 1543.18 Z\" fill=\"#000000\" fill-rule=\"evenodd\" fill-opacity=\"1\" /><path clip-path=\"url(#clip830)\" d=\"M1059.78 1543.18 L1076.1 1543.18 L1076.1 1547.12 L1054.16 1547.12 L1054.16 1543.18 Q1056.82 1540.43 1061.4 1535.8 Q1066.01 1531.15 1067.19 1529.81 Q1069.44 1527.28 1070.32 1525.55 Q1071.22 1523.79 1071.22 1522.1 Q1071.22 1519.34 1069.27 1517.61 Q1067.35 1515.87 1064.25 1515.87 Q1062.05 1515.87 1059.6 1516.63 Q1057.17 1517.4 1054.39 1518.95 L1054.39 1514.23 Q1057.21 1513.09 1059.67 1512.51 Q1062.12 1511.93 1064.16 1511.93 Q1069.53 1511.93 1072.72 1514.62 Q1075.92 1517.31 1075.92 1521.8 Q1075.92 1523.93 1075.11 1525.85 Q1074.32 1527.74 1072.21 1530.34 Q1071.63 1531.01 1068.53 1534.23 Q1065.43 1537.42 1059.78 1543.18 Z\" fill=\"#000000\" fill-rule=\"evenodd\" fill-opacity=\"1\" /><path clip-path=\"url(#clip830)\" d=\"M1478.15 1528.49 Q1481.5 1529.2 1483.38 1531.47 Q1485.28 1533.74 1485.28 1537.07 Q1485.28 1542.19 1481.76 1544.99 Q1478.24 1547.79 1471.76 1547.79 Q1469.58 1547.79 1467.27 1547.35 Q1464.98 1546.93 1462.52 1546.08 L1462.52 1541.56 Q1464.47 1542.7 1466.78 1543.28 Q1469.1 1543.86 1471.62 1543.86 Q1476.02 1543.86 1478.31 1542.12 Q1480.62 1540.38 1480.62 1537.07 Q1480.62 1534.02 1478.47 1532.31 Q1476.34 1530.57 1472.52 1530.57 L1468.49 1530.57 L1468.49 1526.73 L1472.71 1526.73 Q1476.16 1526.73 1477.99 1525.36 Q1479.81 1523.97 1479.81 1521.38 Q1479.81 1518.72 1477.92 1517.31 Q1476.04 1515.87 1472.52 1515.87 Q1470.6 1515.87 1468.4 1516.29 Q1466.2 1516.7 1463.56 1517.58 L1463.56 1513.42 Q1466.23 1512.68 1468.54 1512.31 Q1470.88 1511.93 1472.94 1511.93 Q1478.26 1511.93 1481.37 1514.37 Q1484.47 1516.77 1484.47 1520.89 Q1484.47 1523.76 1482.82 1525.75 Q1481.18 1527.72 1478.15 1528.49 Z\" fill=\"#000000\" fill-rule=\"evenodd\" fill-opacity=\"1\" /><path clip-path=\"url(#clip830)\" d=\"M1885.68 1516.63 L1873.87 1535.08 L1885.68 1535.08 L1885.68 1516.63 M1884.45 1512.56 L1890.33 1512.56 L1890.33 1535.08 L1895.26 1535.08 L1895.26 1538.97 L1890.33 1538.97 L1890.33 1547.12 L1885.68 1547.12 L1885.68 1538.97 L1870.08 1538.97 L1870.08 1534.46 L1884.45 1512.56 Z\" fill=\"#000000\" fill-rule=\"evenodd\" fill-opacity=\"1\" /><path clip-path=\"url(#clip830)\" d=\"M2281.72 1512.56 L2300.07 1512.56 L2300.07 1516.5 L2286 1516.5 L2286 1524.97 Q2287.02 1524.62 2288.04 1524.46 Q2289.06 1524.27 2290.07 1524.27 Q2295.86 1524.27 2299.24 1527.44 Q2302.62 1530.62 2302.62 1536.03 Q2302.62 1541.61 2299.15 1544.71 Q2295.68 1547.79 2289.36 1547.79 Q2287.18 1547.79 2284.91 1547.42 Q2282.67 1547.05 2280.26 1546.31 L2280.26 1541.61 Q2282.34 1542.74 2284.57 1543.3 Q2286.79 1543.86 2289.26 1543.86 Q2293.27 1543.86 2295.61 1541.75 Q2297.94 1539.64 2297.94 1536.03 Q2297.94 1532.42 2295.61 1530.31 Q2293.27 1528.21 2289.26 1528.21 Q2287.39 1528.21 2285.51 1528.62 Q2283.66 1529.04 2281.72 1529.92 L2281.72 1512.56 Z\" fill=\"#000000\" fill-rule=\"evenodd\" fill-opacity=\"1\" /><polyline clip-path=\"url(#clip832)\" style=\"stroke:#000000; stroke-linecap:butt; stroke-linejoin:round; stroke-width:2; stroke-opacity:0.1; fill:none\" points=\"\n",
       "  186.274,1404.89 2352.76,1404.89 \n",
       "  \"/>\n",
       "<polyline clip-path=\"url(#clip832)\" style=\"stroke:#000000; stroke-linecap:butt; stroke-linejoin:round; stroke-width:2; stroke-opacity:0.1; fill:none\" points=\"\n",
       "  186.274,1075.66 2352.76,1075.66 \n",
       "  \"/>\n",
       "<polyline clip-path=\"url(#clip832)\" style=\"stroke:#000000; stroke-linecap:butt; stroke-linejoin:round; stroke-width:2; stroke-opacity:0.1; fill:none\" points=\"\n",
       "  186.274,746.434 2352.76,746.434 \n",
       "  \"/>\n",
       "<polyline clip-path=\"url(#clip832)\" style=\"stroke:#000000; stroke-linecap:butt; stroke-linejoin:round; stroke-width:2; stroke-opacity:0.1; fill:none\" points=\"\n",
       "  186.274,417.205 2352.76,417.205 \n",
       "  \"/>\n",
       "<polyline clip-path=\"url(#clip832)\" style=\"stroke:#000000; stroke-linecap:butt; stroke-linejoin:round; stroke-width:2; stroke-opacity:0.1; fill:none\" points=\"\n",
       "  186.274,87.9763 2352.76,87.9763 \n",
       "  \"/>\n",
       "<polyline clip-path=\"url(#clip830)\" style=\"stroke:#000000; stroke-linecap:butt; stroke-linejoin:round; stroke-width:4; stroke-opacity:1; fill:none\" points=\"\n",
       "  186.274,1486.45 186.274,47.2441 \n",
       "  \"/>\n",
       "<polyline clip-path=\"url(#clip830)\" style=\"stroke:#000000; stroke-linecap:butt; stroke-linejoin:round; stroke-width:4; stroke-opacity:1; fill:none\" points=\"\n",
       "  186.274,1404.89 205.172,1404.89 \n",
       "  \"/>\n",
       "<polyline clip-path=\"url(#clip830)\" style=\"stroke:#000000; stroke-linecap:butt; stroke-linejoin:round; stroke-width:4; stroke-opacity:1; fill:none\" points=\"\n",
       "  186.274,1075.66 205.172,1075.66 \n",
       "  \"/>\n",
       "<polyline clip-path=\"url(#clip830)\" style=\"stroke:#000000; stroke-linecap:butt; stroke-linejoin:round; stroke-width:4; stroke-opacity:1; fill:none\" points=\"\n",
       "  186.274,746.434 205.172,746.434 \n",
       "  \"/>\n",
       "<polyline clip-path=\"url(#clip830)\" style=\"stroke:#000000; stroke-linecap:butt; stroke-linejoin:round; stroke-width:4; stroke-opacity:1; fill:none\" points=\"\n",
       "  186.274,417.205 205.172,417.205 \n",
       "  \"/>\n",
       "<polyline clip-path=\"url(#clip830)\" style=\"stroke:#000000; stroke-linecap:butt; stroke-linejoin:round; stroke-width:4; stroke-opacity:1; fill:none\" points=\"\n",
       "  186.274,87.9763 205.172,87.9763 \n",
       "  \"/>\n",
       "<path clip-path=\"url(#clip830)\" d=\"M62.9365 1390.69 Q59.3254 1390.69 57.4967 1394.25 Q55.6912 1397.8 55.6912 1404.93 Q55.6912 1412.03 57.4967 1415.6 Q59.3254 1419.14 62.9365 1419.14 Q66.5707 1419.14 68.3763 1415.6 Q70.205 1412.03 70.205 1404.93 Q70.205 1397.8 68.3763 1394.25 Q66.5707 1390.69 62.9365 1390.69 M62.9365 1386.99 Q68.7467 1386.99 71.8022 1391.59 Q74.8809 1396.18 74.8809 1404.93 Q74.8809 1413.65 71.8022 1418.26 Q68.7467 1422.84 62.9365 1422.84 Q57.1264 1422.84 54.0477 1418.26 Q50.9921 1413.65 50.9921 1404.93 Q50.9921 1396.18 54.0477 1391.59 Q57.1264 1386.99 62.9365 1386.99 Z\" fill=\"#000000\" fill-rule=\"evenodd\" fill-opacity=\"1\" /><path clip-path=\"url(#clip830)\" d=\"M83.0984 1416.29 L87.9827 1416.29 L87.9827 1422.17 L83.0984 1422.17 L83.0984 1416.29 Z\" fill=\"#000000\" fill-rule=\"evenodd\" fill-opacity=\"1\" /><path clip-path=\"url(#clip830)\" d=\"M108.168 1390.69 Q104.557 1390.69 102.728 1394.25 Q100.922 1397.8 100.922 1404.93 Q100.922 1412.03 102.728 1415.6 Q104.557 1419.14 108.168 1419.14 Q111.802 1419.14 113.608 1415.6 Q115.436 1412.03 115.436 1404.93 Q115.436 1397.8 113.608 1394.25 Q111.802 1390.69 108.168 1390.69 M108.168 1386.99 Q113.978 1386.99 117.033 1391.59 Q120.112 1396.18 120.112 1404.93 Q120.112 1413.65 117.033 1418.26 Q113.978 1422.84 108.168 1422.84 Q102.358 1422.84 99.2789 1418.26 Q96.2234 1413.65 96.2234 1404.93 Q96.2234 1396.18 99.2789 1391.59 Q102.358 1386.99 108.168 1386.99 Z\" fill=\"#000000\" fill-rule=\"evenodd\" fill-opacity=\"1\" /><path clip-path=\"url(#clip830)\" d=\"M138.33 1390.69 Q134.719 1390.69 132.89 1394.25 Q131.084 1397.8 131.084 1404.93 Q131.084 1412.03 132.89 1415.6 Q134.719 1419.14 138.33 1419.14 Q141.964 1419.14 143.769 1415.6 Q145.598 1412.03 145.598 1404.93 Q145.598 1397.8 143.769 1394.25 Q141.964 1390.69 138.33 1390.69 M138.33 1386.99 Q144.14 1386.99 147.195 1391.59 Q150.274 1396.18 150.274 1404.93 Q150.274 1413.65 147.195 1418.26 Q144.14 1422.84 138.33 1422.84 Q132.519 1422.84 129.441 1418.26 Q126.385 1413.65 126.385 1404.93 Q126.385 1396.18 129.441 1391.59 Q132.519 1386.99 138.33 1386.99 Z\" fill=\"#000000\" fill-rule=\"evenodd\" fill-opacity=\"1\" /><path clip-path=\"url(#clip830)\" d=\"M63.9319 1061.46 Q60.3208 1061.46 58.4921 1065.03 Q56.6865 1068.57 56.6865 1075.7 Q56.6865 1082.8 58.4921 1086.37 Q60.3208 1089.91 63.9319 1089.91 Q67.5661 1089.91 69.3717 1086.37 Q71.2004 1082.8 71.2004 1075.7 Q71.2004 1068.57 69.3717 1065.03 Q67.5661 1061.46 63.9319 1061.46 M63.9319 1057.76 Q69.742 1057.76 72.7976 1062.36 Q75.8763 1066.95 75.8763 1075.7 Q75.8763 1084.42 72.7976 1089.03 Q69.742 1093.61 63.9319 1093.61 Q58.1217 1093.61 55.043 1089.03 Q51.9875 1084.42 51.9875 1075.7 Q51.9875 1066.95 55.043 1062.36 Q58.1217 1057.76 63.9319 1057.76 Z\" fill=\"#000000\" fill-rule=\"evenodd\" fill-opacity=\"1\" /><path clip-path=\"url(#clip830)\" d=\"M84.0938 1087.06 L88.978 1087.06 L88.978 1092.94 L84.0938 1092.94 L84.0938 1087.06 Z\" fill=\"#000000\" fill-rule=\"evenodd\" fill-opacity=\"1\" /><path clip-path=\"url(#clip830)\" d=\"M103.191 1089.01 L119.51 1089.01 L119.51 1092.94 L97.566 1092.94 L97.566 1089.01 Q100.228 1086.25 104.811 1081.62 Q109.418 1076.97 110.598 1075.63 Q112.844 1073.1 113.723 1071.37 Q114.626 1069.61 114.626 1067.92 Q114.626 1065.16 112.682 1063.43 Q110.76 1061.69 107.658 1061.69 Q105.459 1061.69 103.006 1062.46 Q100.575 1063.22 97.7974 1064.77 L97.7974 1060.05 Q100.621 1058.91 103.075 1058.34 Q105.529 1057.76 107.566 1057.76 Q112.936 1057.76 116.131 1060.44 Q119.325 1063.13 119.325 1067.62 Q119.325 1069.75 118.515 1071.67 Q117.728 1073.57 115.621 1076.16 Q115.043 1076.83 111.941 1080.05 Q108.839 1083.24 103.191 1089.01 Z\" fill=\"#000000\" fill-rule=\"evenodd\" fill-opacity=\"1\" /><path clip-path=\"url(#clip830)\" d=\"M129.371 1058.38 L147.728 1058.38 L147.728 1062.32 L133.654 1062.32 L133.654 1070.79 Q134.672 1070.44 135.691 1070.28 Q136.709 1070.1 137.728 1070.1 Q143.515 1070.1 146.894 1073.27 Q150.274 1076.44 150.274 1081.85 Q150.274 1087.43 146.802 1090.54 Q143.33 1093.61 137.01 1093.61 Q134.834 1093.61 132.566 1093.24 Q130.32 1092.87 127.913 1092.13 L127.913 1087.43 Q129.996 1088.57 132.219 1089.12 Q134.441 1089.68 136.918 1089.68 Q140.922 1089.68 143.26 1087.57 Q145.598 1085.47 145.598 1081.85 Q145.598 1078.24 143.26 1076.14 Q140.922 1074.03 136.918 1074.03 Q135.043 1074.03 133.168 1074.45 Q131.316 1074.86 129.371 1075.74 L129.371 1058.38 Z\" fill=\"#000000\" fill-rule=\"evenodd\" fill-opacity=\"1\" /><path clip-path=\"url(#clip830)\" d=\"M62.9365 732.232 Q59.3254 732.232 57.4967 735.797 Q55.6912 739.339 55.6912 746.469 Q55.6912 753.575 57.4967 757.14 Q59.3254 760.681 62.9365 760.681 Q66.5707 760.681 68.3763 757.14 Q70.205 753.575 70.205 746.469 Q70.205 739.339 68.3763 735.797 Q66.5707 732.232 62.9365 732.232 M62.9365 728.529 Q68.7467 728.529 71.8022 733.135 Q74.8809 737.719 74.8809 746.469 Q74.8809 755.195 71.8022 759.802 Q68.7467 764.385 62.9365 764.385 Q57.1264 764.385 54.0477 759.802 Q50.9921 755.195 50.9921 746.469 Q50.9921 737.719 54.0477 733.135 Q57.1264 728.529 62.9365 728.529 Z\" fill=\"#000000\" fill-rule=\"evenodd\" fill-opacity=\"1\" /><path clip-path=\"url(#clip830)\" d=\"M83.0984 757.834 L87.9827 757.834 L87.9827 763.714 L83.0984 763.714 L83.0984 757.834 Z\" fill=\"#000000\" fill-rule=\"evenodd\" fill-opacity=\"1\" /><path clip-path=\"url(#clip830)\" d=\"M98.2141 729.154 L116.57 729.154 L116.57 733.089 L102.496 733.089 L102.496 741.561 Q103.515 741.214 104.534 741.052 Q105.552 740.867 106.571 740.867 Q112.358 740.867 115.737 744.038 Q119.117 747.209 119.117 752.626 Q119.117 758.205 115.645 761.306 Q112.172 764.385 105.853 764.385 Q103.677 764.385 101.409 764.015 Q99.1632 763.644 96.7558 762.904 L96.7558 758.205 Q98.8391 759.339 101.061 759.894 Q103.284 760.45 105.76 760.45 Q109.765 760.45 112.103 758.343 Q114.441 756.237 114.441 752.626 Q114.441 749.015 112.103 746.908 Q109.765 744.802 105.76 744.802 Q103.885 744.802 102.01 745.219 Q100.159 745.635 98.2141 746.515 L98.2141 729.154 Z\" fill=\"#000000\" fill-rule=\"evenodd\" fill-opacity=\"1\" /><path clip-path=\"url(#clip830)\" d=\"M138.33 732.232 Q134.719 732.232 132.89 735.797 Q131.084 739.339 131.084 746.469 Q131.084 753.575 132.89 757.14 Q134.719 760.681 138.33 760.681 Q141.964 760.681 143.769 757.14 Q145.598 753.575 145.598 746.469 Q145.598 739.339 143.769 735.797 Q141.964 732.232 138.33 732.232 M138.33 728.529 Q144.14 728.529 147.195 733.135 Q150.274 737.719 150.274 746.469 Q150.274 755.195 147.195 759.802 Q144.14 764.385 138.33 764.385 Q132.519 764.385 129.441 759.802 Q126.385 755.195 126.385 746.469 Q126.385 737.719 129.441 733.135 Q132.519 728.529 138.33 728.529 Z\" fill=\"#000000\" fill-rule=\"evenodd\" fill-opacity=\"1\" /><path clip-path=\"url(#clip830)\" d=\"M63.9319 403.004 Q60.3208 403.004 58.4921 406.569 Q56.6865 410.11 56.6865 417.24 Q56.6865 424.346 58.4921 427.911 Q60.3208 431.453 63.9319 431.453 Q67.5661 431.453 69.3717 427.911 Q71.2004 424.346 71.2004 417.24 Q71.2004 410.11 69.3717 406.569 Q67.5661 403.004 63.9319 403.004 M63.9319 399.3 Q69.742 399.3 72.7976 403.906 Q75.8763 408.49 75.8763 417.24 Q75.8763 425.967 72.7976 430.573 Q69.742 435.156 63.9319 435.156 Q58.1217 435.156 55.043 430.573 Q51.9875 425.967 51.9875 417.24 Q51.9875 408.49 55.043 403.906 Q58.1217 399.3 63.9319 399.3 Z\" fill=\"#000000\" fill-rule=\"evenodd\" fill-opacity=\"1\" /><path clip-path=\"url(#clip830)\" d=\"M84.0938 428.605 L88.978 428.605 L88.978 434.485 L84.0938 434.485 L84.0938 428.605 Z\" fill=\"#000000\" fill-rule=\"evenodd\" fill-opacity=\"1\" /><path clip-path=\"url(#clip830)\" d=\"M97.9826 399.925 L120.205 399.925 L120.205 401.916 L107.658 434.485 L102.774 434.485 L114.58 403.86 L97.9826 403.86 L97.9826 399.925 Z\" fill=\"#000000\" fill-rule=\"evenodd\" fill-opacity=\"1\" /><path clip-path=\"url(#clip830)\" d=\"M129.371 399.925 L147.728 399.925 L147.728 403.86 L133.654 403.86 L133.654 412.332 Q134.672 411.985 135.691 411.823 Q136.709 411.638 137.728 411.638 Q143.515 411.638 146.894 414.809 Q150.274 417.98 150.274 423.397 Q150.274 428.976 146.802 432.078 Q143.33 435.156 137.01 435.156 Q134.834 435.156 132.566 434.786 Q130.32 434.416 127.913 433.675 L127.913 428.976 Q129.996 430.11 132.219 430.666 Q134.441 431.221 136.918 431.221 Q140.922 431.221 143.26 429.115 Q145.598 427.008 145.598 423.397 Q145.598 419.786 143.26 417.68 Q140.922 415.573 136.918 415.573 Q135.043 415.573 133.168 415.99 Q131.316 416.406 129.371 417.286 L129.371 399.925 Z\" fill=\"#000000\" fill-rule=\"evenodd\" fill-opacity=\"1\" /><path clip-path=\"url(#clip830)\" d=\"M53.7467 101.321 L61.3856 101.321 L61.3856 74.9555 L53.0754 76.6222 L53.0754 72.3629 L61.3393 70.6963 L66.0152 70.6963 L66.0152 101.321 L73.654 101.321 L73.654 105.256 L53.7467 105.256 L53.7467 101.321 Z\" fill=\"#000000\" fill-rule=\"evenodd\" fill-opacity=\"1\" /><path clip-path=\"url(#clip830)\" d=\"M83.0984 99.3767 L87.9827 99.3767 L87.9827 105.256 L83.0984 105.256 L83.0984 99.3767 Z\" fill=\"#000000\" fill-rule=\"evenodd\" fill-opacity=\"1\" /><path clip-path=\"url(#clip830)\" d=\"M108.168 73.775 Q104.557 73.775 102.728 77.3398 Q100.922 80.8814 100.922 88.011 Q100.922 95.1174 102.728 98.6822 Q104.557 102.224 108.168 102.224 Q111.802 102.224 113.608 98.6822 Q115.436 95.1174 115.436 88.011 Q115.436 80.8814 113.608 77.3398 Q111.802 73.775 108.168 73.775 M108.168 70.0713 Q113.978 70.0713 117.033 74.6777 Q120.112 79.261 120.112 88.011 Q120.112 96.7378 117.033 101.344 Q113.978 105.928 108.168 105.928 Q102.358 105.928 99.2789 101.344 Q96.2234 96.7378 96.2234 88.011 Q96.2234 79.261 99.2789 74.6777 Q102.358 70.0713 108.168 70.0713 Z\" fill=\"#000000\" fill-rule=\"evenodd\" fill-opacity=\"1\" /><path clip-path=\"url(#clip830)\" d=\"M138.33 73.775 Q134.719 73.775 132.89 77.3398 Q131.084 80.8814 131.084 88.011 Q131.084 95.1174 132.89 98.6822 Q134.719 102.224 138.33 102.224 Q141.964 102.224 143.769 98.6822 Q145.598 95.1174 145.598 88.011 Q145.598 80.8814 143.769 77.3398 Q141.964 73.775 138.33 73.775 M138.33 70.0713 Q144.14 70.0713 147.195 74.6777 Q150.274 79.261 150.274 88.011 Q150.274 96.7378 147.195 101.344 Q144.14 105.928 138.33 105.928 Q132.519 105.928 129.441 101.344 Q126.385 96.7378 126.385 88.011 Q126.385 79.261 129.441 74.6777 Q132.519 70.0713 138.33 70.0713 Z\" fill=\"#000000\" fill-rule=\"evenodd\" fill-opacity=\"1\" /><polyline clip-path=\"url(#clip832)\" style=\"stroke:#ff0000; stroke-linecap:butt; stroke-linejoin:round; stroke-width:4; stroke-opacity:1; fill:none\" points=\"\n",
       "  247.59,87.9763 268.234,216.06 288.879,331.686 309.524,436.067 330.169,530.295 350.814,615.359 355.096,632.615 371.459,693.375 392.104,762.577 412.749,825.049 \n",
       "  433.394,881.445 454.039,932.355 462.603,952.57 474.684,979.397 495.329,1020.78 515.974,1058.14 536.619,1091.86 557.264,1122.31 570.109,1140.06 577.909,1150.42 \n",
       "  598.554,1175.17 619.199,1197.51 639.844,1217.68 660.489,1235.89 678.025,1250.06 681.134,1252.53 701.779,1267.35 722.424,1280.73 743.069,1292.8 763.713,1303.71 \n",
       "  784.358,1313.55 785.531,1314.1 805.003,1322.48 825.648,1330.49 846.293,1337.73 866.938,1344.26 887.583,1350.16 893.038,1351.67 908.228,1355.58 928.873,1360.38 \n",
       "  949.518,1364.71 970.163,1368.62 990.808,1372.14 1000.54,1373.73 1011.45,1375.41 1032.1,1378.27 1052.74,1380.86 1073.39,1383.2 1094.03,1385.31 1108.05,1386.64 \n",
       "  1114.68,1387.25 1135.32,1388.97 1155.97,1390.52 1176.61,1391.92 1197.26,1393.18 1215.56,1394.2 1217.9,1394.33 1238.55,1395.36 1259.19,1396.28 1279.84,1397.12 \n",
       "  1300.48,1397.88 1321.13,1398.56 1323.47,1398.64 1341.77,1399.18 1362.42,1399.74 1383.06,1400.24 1403.71,1400.69 1424.35,1401.1 1430.98,1401.23 1445,1401.48 \n",
       "  1465.64,1401.81 1486.29,1402.11 1506.93,1402.38 1527.58,1402.62 1538.49,1402.74 1548.22,1402.85 1568.87,1403.05 1589.51,1403.23 1610.16,1403.39 1630.8,1403.53 \n",
       "  1645.99,1403.63 1651.45,1403.67 1672.09,1403.79 1692.74,1403.9 1713.38,1403.99 1734.03,1404.08 1753.5,1404.15 1754.67,1404.16 1775.32,1404.23 1795.96,1404.29 \n",
       "  1816.61,1404.35 1837.25,1404.4 1857.9,1404.45 1861.01,1404.46 1878.54,1404.5 1899.19,1404.53 1919.83,1404.57 1940.48,1404.6 1961.12,1404.63 1968.92,1404.64 \n",
       "  1981.77,1404.65 2002.41,1404.68 2023.06,1404.7 2043.7,1404.72 2064.35,1404.73 2076.43,1404.74 2084.99,1404.75 2105.64,1404.76 2126.28,1404.78 2146.93,1404.79 \n",
       "  2167.57,1404.8 2183.93,1404.8 2188.22,1404.81 2208.86,1404.81 2229.51,1404.82 2250.15,1404.83 2270.8,1404.84 2291.44,1404.84 \n",
       "  \"/>\n",
       "<circle clip-path=\"url(#clip832)\" cx=\"247.59\" cy=\"144.604\" r=\"14\" fill=\"#ff0000\" fill-rule=\"evenodd\" fill-opacity=\"1\" stroke=\"#000000\" stroke-opacity=\"1\" stroke-width=\"3.2\"/>\n",
       "<circle clip-path=\"url(#clip832)\" cx=\"355.096\" cy=\"671.37\" r=\"14\" fill=\"#ff0000\" fill-rule=\"evenodd\" fill-opacity=\"1\" stroke=\"#000000\" stroke-opacity=\"1\" stroke-width=\"3.2\"/>\n",
       "<circle clip-path=\"url(#clip832)\" cx=\"462.603\" cy=\"954.506\" r=\"14\" fill=\"#ff0000\" fill-rule=\"evenodd\" fill-opacity=\"1\" stroke=\"#000000\" stroke-opacity=\"1\" stroke-width=\"3.2\"/>\n",
       "<circle clip-path=\"url(#clip832)\" cx=\"570.109\" cy=\"1109.9\" r=\"14\" fill=\"#ff0000\" fill-rule=\"evenodd\" fill-opacity=\"1\" stroke=\"#000000\" stroke-opacity=\"1\" stroke-width=\"3.2\"/>\n",
       "<circle clip-path=\"url(#clip832)\" cx=\"678.025\" cy=\"1242.91\" r=\"14\" fill=\"#ff0000\" fill-rule=\"evenodd\" fill-opacity=\"1\" stroke=\"#000000\" stroke-opacity=\"1\" stroke-width=\"3.2\"/>\n",
       "<circle clip-path=\"url(#clip832)\" cx=\"785.531\" cy=\"1300.86\" r=\"14\" fill=\"#ff0000\" fill-rule=\"evenodd\" fill-opacity=\"1\" stroke=\"#000000\" stroke-opacity=\"1\" stroke-width=\"3.2\"/>\n",
       "<circle clip-path=\"url(#clip832)\" cx=\"893.038\" cy=\"1358.8\" r=\"14\" fill=\"#ff0000\" fill-rule=\"evenodd\" fill-opacity=\"1\" stroke=\"#000000\" stroke-opacity=\"1\" stroke-width=\"3.2\"/>\n",
       "<circle clip-path=\"url(#clip832)\" cx=\"1000.54\" cy=\"1366.7\" r=\"14\" fill=\"#ff0000\" fill-rule=\"evenodd\" fill-opacity=\"1\" stroke=\"#000000\" stroke-opacity=\"1\" stroke-width=\"3.2\"/>\n",
       "<circle clip-path=\"url(#clip832)\" cx=\"1108.05\" cy=\"1371.97\" r=\"14\" fill=\"#ff0000\" fill-rule=\"evenodd\" fill-opacity=\"1\" stroke=\"#000000\" stroke-opacity=\"1\" stroke-width=\"3.2\"/>\n",
       "<circle clip-path=\"url(#clip832)\" cx=\"1215.56\" cy=\"1382.5\" r=\"14\" fill=\"#ff0000\" fill-rule=\"evenodd\" fill-opacity=\"1\" stroke=\"#000000\" stroke-opacity=\"1\" stroke-width=\"3.2\"/>\n",
       "<circle clip-path=\"url(#clip832)\" cx=\"1323.47\" cy=\"1407.53\" r=\"14\" fill=\"#ff0000\" fill-rule=\"evenodd\" fill-opacity=\"1\" stroke=\"#000000\" stroke-opacity=\"1\" stroke-width=\"3.2\"/>\n",
       "<circle clip-path=\"url(#clip832)\" cx=\"1430.98\" cy=\"1393.04\" r=\"14\" fill=\"#ff0000\" fill-rule=\"evenodd\" fill-opacity=\"1\" stroke=\"#000000\" stroke-opacity=\"1\" stroke-width=\"3.2\"/>\n",
       "<circle clip-path=\"url(#clip832)\" cx=\"1538.49\" cy=\"1435.18\" r=\"14\" fill=\"#ff0000\" fill-rule=\"evenodd\" fill-opacity=\"1\" stroke=\"#000000\" stroke-opacity=\"1\" stroke-width=\"3.2\"/>\n",
       "<circle clip-path=\"url(#clip832)\" cx=\"1645.99\" cy=\"1396.99\" r=\"14\" fill=\"#ff0000\" fill-rule=\"evenodd\" fill-opacity=\"1\" stroke=\"#000000\" stroke-opacity=\"1\" stroke-width=\"3.2\"/>\n",
       "<circle clip-path=\"url(#clip832)\" cx=\"1753.5\" cy=\"1383.82\" r=\"14\" fill=\"#ff0000\" fill-rule=\"evenodd\" fill-opacity=\"1\" stroke=\"#000000\" stroke-opacity=\"1\" stroke-width=\"3.2\"/>\n",
       "<circle clip-path=\"url(#clip832)\" cx=\"1861.01\" cy=\"1386.45\" r=\"14\" fill=\"#ff0000\" fill-rule=\"evenodd\" fill-opacity=\"1\" stroke=\"#000000\" stroke-opacity=\"1\" stroke-width=\"3.2\"/>\n",
       "<circle clip-path=\"url(#clip832)\" cx=\"1968.92\" cy=\"1416.74\" r=\"14\" fill=\"#ff0000\" fill-rule=\"evenodd\" fill-opacity=\"1\" stroke=\"#000000\" stroke-opacity=\"1\" stroke-width=\"3.2\"/>\n",
       "<circle clip-path=\"url(#clip832)\" cx=\"2076.43\" cy=\"1444.4\" r=\"14\" fill=\"#ff0000\" fill-rule=\"evenodd\" fill-opacity=\"1\" stroke=\"#000000\" stroke-opacity=\"1\" stroke-width=\"3.2\"/>\n",
       "<circle clip-path=\"url(#clip832)\" cx=\"2183.93\" cy=\"1399.62\" r=\"14\" fill=\"#ff0000\" fill-rule=\"evenodd\" fill-opacity=\"1\" stroke=\"#000000\" stroke-opacity=\"1\" stroke-width=\"3.2\"/>\n",
       "<circle clip-path=\"url(#clip832)\" cx=\"2291.44\" cy=\"1436.5\" r=\"14\" fill=\"#ff0000\" fill-rule=\"evenodd\" fill-opacity=\"1\" stroke=\"#000000\" stroke-opacity=\"1\" stroke-width=\"3.2\"/>\n",
       "<polyline clip-path=\"url(#clip832)\" style=\"stroke:#0000ff; stroke-linecap:butt; stroke-linejoin:round; stroke-width:4; stroke-opacity:1; fill:none\" points=\"\n",
       "  247.59,1404.89 268.234,1282.91 288.879,1178.61 309.524,1089.99 330.169,1015.26 350.814,952.817 355.096,940.382 371.459,899.662 392.104,857.836 412.749,824.413 \n",
       "  433.394,798.37 454.039,778.791 462.603,771.72 474.684,763.671 495.329,754.819 515.974,750.222 536.619,749.305 557.264,751.555 570.109,754.066 577.909,755.977 \n",
       "  598.554,763.333 619.199,772.63 639.844,783.554 660.489,795.826 678.025,807.068 681.134,809.086 701.779,823.369 722.424,838.344 743.069,853.844 763.713,869.724 \n",
       "  784.358,885.856 785.531,886.774 805.003,902.129 825.648,918.457 846.293,934.748 866.938,950.933 887.583,966.952 893.038,971.172 908.228,982.805 928.873,998.353 \n",
       "  949.518,1013.61 970.163,1028.53 990.808,1043.11 1000.54,1049.9 1011.45,1057.41 1032.1,1071.24 1052.74,1084.68 1073.39,1097.71 1094.03,1110.34 1108.05,1118.73 \n",
       "  1114.68,1122.65 1135.32,1134.47 1155.97,1145.89 1176.61,1156.9 1197.26,1167.51 1215.56,1176.62 1217.9,1177.78 1238.55,1187.63 1259.19,1197.1 1279.84,1206.2 \n",
       "  1300.48,1214.95 1321.13,1223.36 1323.47,1224.31 1341.77,1231.45 1362.42,1239.19 1383.06,1246.61 1403.71,1253.72 1424.35,1260.54 1430.98,1262.69 1445,1267.13 \n",
       "  1465.64,1273.38 1486.29,1279.36 1506.93,1285.08 1527.58,1290.56 1538.49,1293.39 1548.22,1295.86 1568.87,1300.86 1589.51,1305.65 1610.16,1310.22 1630.8,1314.6 \n",
       "  1645.99,1317.71 1651.45,1318.81 1672.09,1322.8 1692.74,1326.61 1713.38,1330.25 1734.03,1333.72 1753.5,1336.86 1754.67,1337.05 1775.32,1340.21 1795.96,1343.23 \n",
       "  1816.61,1346.12 1837.25,1348.87 1857.9,1351.49 1861.01,1351.89 1878.54,1354.01 1899.19,1356.4 1919.83,1358.68 1940.48,1360.85 1961.12,1362.92 1968.92,1363.69 \n",
       "  1981.77,1364.92 2002.41,1366.8 2023.06,1368.6 2043.7,1370.31 2064.35,1371.94 2076.43,1372.87 2084.99,1373.52 2105.64,1375 2126.28,1376.41 2146.93,1377.76 \n",
       "  2167.57,1379.04 2183.93,1380.02 2188.22,1380.27 2208.86,1381.44 2229.51,1382.55 2250.15,1383.61 2270.8,1384.62 2291.44,1385.58 \n",
       "  \"/>\n",
       "<circle clip-path=\"url(#clip832)\" cx=\"247.59\" cy=\"1445.72\" r=\"14\" fill=\"#0000ff\" fill-rule=\"evenodd\" fill-opacity=\"1\" stroke=\"#000000\" stroke-opacity=\"1\" stroke-width=\"3.2\"/>\n",
       "<circle clip-path=\"url(#clip832)\" cx=\"355.096\" cy=\"970.309\" r=\"14\" fill=\"#0000ff\" fill-rule=\"evenodd\" fill-opacity=\"1\" stroke=\"#000000\" stroke-opacity=\"1\" stroke-width=\"3.2\"/>\n",
       "<circle clip-path=\"url(#clip832)\" cx=\"462.603\" cy=\"730.631\" r=\"14\" fill=\"#0000ff\" fill-rule=\"evenodd\" fill-opacity=\"1\" stroke=\"#000000\" stroke-opacity=\"1\" stroke-width=\"3.2\"/>\n",
       "<circle clip-path=\"url(#clip832)\" cx=\"570.109\" cy=\"747.751\" r=\"14\" fill=\"#0000ff\" fill-rule=\"evenodd\" fill-opacity=\"1\" stroke=\"#000000\" stroke-opacity=\"1\" stroke-width=\"3.2\"/>\n",
       "<circle clip-path=\"url(#clip832)\" cx=\"678.025\" cy=\"841.252\" r=\"14\" fill=\"#0000ff\" fill-rule=\"evenodd\" fill-opacity=\"1\" stroke=\"#000000\" stroke-opacity=\"1\" stroke-width=\"3.2\"/>\n",
       "<circle clip-path=\"url(#clip832)\" cx=\"785.531\" cy=\"883.393\" r=\"14\" fill=\"#0000ff\" fill-rule=\"evenodd\" fill-opacity=\"1\" stroke=\"#000000\" stroke-opacity=\"1\" stroke-width=\"3.2\"/>\n",
       "<circle clip-path=\"url(#clip832)\" cx=\"893.038\" cy=\"1005.87\" r=\"14\" fill=\"#0000ff\" fill-rule=\"evenodd\" fill-opacity=\"1\" stroke=\"#000000\" stroke-opacity=\"1\" stroke-width=\"3.2\"/>\n",
       "<circle clip-path=\"url(#clip832)\" cx=\"1000.54\" cy=\"1026.94\" r=\"14\" fill=\"#0000ff\" fill-rule=\"evenodd\" fill-opacity=\"1\" stroke=\"#000000\" stroke-opacity=\"1\" stroke-width=\"3.2\"/>\n",
       "<circle clip-path=\"url(#clip832)\" cx=\"1108.05\" cy=\"1113.85\" r=\"14\" fill=\"#0000ff\" fill-rule=\"evenodd\" fill-opacity=\"1\" stroke=\"#000000\" stroke-opacity=\"1\" stroke-width=\"3.2\"/>\n",
       "<circle clip-path=\"url(#clip832)\" cx=\"1215.56\" cy=\"1209.99\" r=\"14\" fill=\"#0000ff\" fill-rule=\"evenodd\" fill-opacity=\"1\" stroke=\"#000000\" stroke-opacity=\"1\" stroke-width=\"3.2\"/>\n",
       "<circle clip-path=\"url(#clip832)\" cx=\"1323.47\" cy=\"1165.21\" r=\"14\" fill=\"#0000ff\" fill-rule=\"evenodd\" fill-opacity=\"1\" stroke=\"#000000\" stroke-opacity=\"1\" stroke-width=\"3.2\"/>\n",
       "<circle clip-path=\"url(#clip832)\" cx=\"1430.98\" cy=\"1252.13\" r=\"14\" fill=\"#0000ff\" fill-rule=\"evenodd\" fill-opacity=\"1\" stroke=\"#000000\" stroke-opacity=\"1\" stroke-width=\"3.2\"/>\n",
       "<circle clip-path=\"url(#clip832)\" cx=\"1538.49\" cy=\"1300.86\" r=\"14\" fill=\"#0000ff\" fill-rule=\"evenodd\" fill-opacity=\"1\" stroke=\"#000000\" stroke-opacity=\"1\" stroke-width=\"3.2\"/>\n",
       "<circle clip-path=\"url(#clip832)\" cx=\"1645.99\" cy=\"1302.17\" r=\"14\" fill=\"#0000ff\" fill-rule=\"evenodd\" fill-opacity=\"1\" stroke=\"#000000\" stroke-opacity=\"1\" stroke-width=\"3.2\"/>\n",
       "<circle clip-path=\"url(#clip832)\" cx=\"1753.5\" cy=\"1327.19\" r=\"14\" fill=\"#0000ff\" fill-rule=\"evenodd\" fill-opacity=\"1\" stroke=\"#000000\" stroke-opacity=\"1\" stroke-width=\"3.2\"/>\n",
       "<circle clip-path=\"url(#clip832)\" cx=\"1861.01\" cy=\"1357.48\" r=\"14\" fill=\"#0000ff\" fill-rule=\"evenodd\" fill-opacity=\"1\" stroke=\"#000000\" stroke-opacity=\"1\" stroke-width=\"3.2\"/>\n",
       "<circle clip-path=\"url(#clip832)\" cx=\"1968.92\" cy=\"1386.45\" r=\"14\" fill=\"#0000ff\" fill-rule=\"evenodd\" fill-opacity=\"1\" stroke=\"#000000\" stroke-opacity=\"1\" stroke-width=\"3.2\"/>\n",
       "<circle clip-path=\"url(#clip832)\" cx=\"2076.43\" cy=\"1357.48\" r=\"14\" fill=\"#0000ff\" fill-rule=\"evenodd\" fill-opacity=\"1\" stroke=\"#000000\" stroke-opacity=\"1\" stroke-width=\"3.2\"/>\n",
       "<circle clip-path=\"url(#clip832)\" cx=\"2183.93\" cy=\"1357.48\" r=\"14\" fill=\"#0000ff\" fill-rule=\"evenodd\" fill-opacity=\"1\" stroke=\"#000000\" stroke-opacity=\"1\" stroke-width=\"3.2\"/>\n",
       "<circle clip-path=\"url(#clip832)\" cx=\"2291.44\" cy=\"1368.02\" r=\"14\" fill=\"#0000ff\" fill-rule=\"evenodd\" fill-opacity=\"1\" stroke=\"#000000\" stroke-opacity=\"1\" stroke-width=\"3.2\"/>\n",
       "<polyline clip-path=\"url(#clip832)\" style=\"stroke:#008000; stroke-linecap:butt; stroke-linejoin:round; stroke-width:4; stroke-opacity:1; fill:none\" points=\"\n",
       "  247.59,1404.89 268.234,1398.79 288.879,1387.46 309.524,1371.7 330.169,1352.21 350.814,1329.58 355.096,1324.76 371.459,1304.72 392.104,1277.35 412.749,1248.3 \n",
       "  433.394,1217.94 454.039,1186.61 462.603,1173.47 474.684,1154.69 495.329,1122.16 515.974,1089.4 536.619,1056.59 557.264,1023.89 570.109,1003.63 577.909,991.361 \n",
       "  598.554,959.256 619.199,927.615 639.844,896.522 660.489,866.042 678.025,840.631 681.134,836.14 701.779,807.039 722.424,778.687 743.069,751.111 763.713,724.33 \n",
       "  784.358,698.355 785.531,696.883 805.003,673.152 825.648,648.809 846.293,625.282 866.938,602.564 887.583,580.648 893.038,574.914 908.228,559.372 928.873,539.027 \n",
       "  949.518,519.446 970.163,500.612 990.808,482.507 1000.54,474.129 1011.45,464.941 1032.1,448.244 1052.74,432.22 1073.39,416.847 1094.03,402.107 1108.05,392.384 \n",
       "  1114.68,387.85 1135.32,374.317 1155.97,361.356 1176.61,348.945 1197.26,337.066 1215.56,326.94 1217.9,325.649 1238.55,314.777 1259.19,304.378 1279.84,294.435 \n",
       "  1300.48,284.93 1321.13,275.845 1323.47,274.819 1341.77,267.125 1362.42,258.833 1383.06,250.912 1403.71,243.347 1424.35,236.123 1430.98,233.839 1445,229.158 \n",
       "  1465.64,222.576 1486.29,216.294 1506.93,210.298 1527.58,204.577 1538.49,201.628 1548.22,199.055 1568.87,193.849 1589.51,188.883 1610.16,184.145 1630.8,179.627 \n",
       "  1645.99,176.417 1651.45,175.278 1672.09,171.17 1692.74,167.253 1713.38,163.518 1734.03,159.956 1753.5,156.745 1754.67,156.552 1775.32,153.315 1795.96,150.23 \n",
       "  1816.61,147.289 1837.25,144.485 1857.9,141.813 1861.01,141.414 1878.54,139.251 1899.19,136.824 1919.83,134.512 1940.48,132.308 1961.12,130.207 1968.92,129.428 \n",
       "  1981.77,128.184 2002.41,126.278 2023.06,124.462 2043.7,122.731 2064.35,121.082 2076.43,120.145 2084.99,119.493 2105.64,117.997 2126.28,116.572 2146.93,115.214 \n",
       "  2167.57,113.921 2183.93,112.934 2188.22,112.679 2208.86,111.505 2229.51,110.387 2250.15,109.322 2270.8,108.307 2291.44,107.341 \n",
       "  \"/>\n",
       "<circle clip-path=\"url(#clip832)\" cx=\"247.59\" cy=\"1424.65\" r=\"14\" fill=\"#008000\" fill-rule=\"evenodd\" fill-opacity=\"1\" stroke=\"#000000\" stroke-opacity=\"1\" stroke-width=\"3.2\"/>\n",
       "<circle clip-path=\"url(#clip832)\" cx=\"355.096\" cy=\"1346.95\" r=\"14\" fill=\"#008000\" fill-rule=\"evenodd\" fill-opacity=\"1\" stroke=\"#000000\" stroke-opacity=\"1\" stroke-width=\"3.2\"/>\n",
       "<circle clip-path=\"url(#clip832)\" cx=\"462.603\" cy=\"1199.45\" r=\"14\" fill=\"#008000\" fill-rule=\"evenodd\" fill-opacity=\"1\" stroke=\"#000000\" stroke-opacity=\"1\" stroke-width=\"3.2\"/>\n",
       "<circle clip-path=\"url(#clip832)\" cx=\"570.109\" cy=\"996.648\" r=\"14\" fill=\"#008000\" fill-rule=\"evenodd\" fill-opacity=\"1\" stroke=\"#000000\" stroke-opacity=\"1\" stroke-width=\"3.2\"/>\n",
       "<circle clip-path=\"url(#clip832)\" cx=\"678.025\" cy=\"807.012\" r=\"14\" fill=\"#008000\" fill-rule=\"evenodd\" fill-opacity=\"1\" stroke=\"#000000\" stroke-opacity=\"1\" stroke-width=\"3.2\"/>\n",
       "<circle clip-path=\"url(#clip832)\" cx=\"785.531\" cy=\"672.687\" r=\"14\" fill=\"#008000\" fill-rule=\"evenodd\" fill-opacity=\"1\" stroke=\"#000000\" stroke-opacity=\"1\" stroke-width=\"3.2\"/>\n",
       "<circle clip-path=\"url(#clip832)\" cx=\"893.038\" cy=\"547.58\" r=\"14\" fill=\"#008000\" fill-rule=\"evenodd\" fill-opacity=\"1\" stroke=\"#000000\" stroke-opacity=\"1\" stroke-width=\"3.2\"/>\n",
       "<circle clip-path=\"url(#clip832)\" cx=\"1000.54\" cy=\"538.361\" r=\"14\" fill=\"#008000\" fill-rule=\"evenodd\" fill-opacity=\"1\" stroke=\"#000000\" stroke-opacity=\"1\" stroke-width=\"3.2\"/>\n",
       "<circle clip-path=\"url(#clip832)\" cx=\"1108.05\" cy=\"417.205\" r=\"14\" fill=\"#008000\" fill-rule=\"evenodd\" fill-opacity=\"1\" stroke=\"#000000\" stroke-opacity=\"1\" stroke-width=\"3.2\"/>\n",
       "<circle clip-path=\"url(#clip832)\" cx=\"1215.56\" cy=\"280.246\" r=\"14\" fill=\"#008000\" fill-rule=\"evenodd\" fill-opacity=\"1\" stroke=\"#000000\" stroke-opacity=\"1\" stroke-width=\"3.2\"/>\n",
       "<circle clip-path=\"url(#clip832)\" cx=\"1323.47\" cy=\"292.098\" r=\"14\" fill=\"#008000\" fill-rule=\"evenodd\" fill-opacity=\"1\" stroke=\"#000000\" stroke-opacity=\"1\" stroke-width=\"3.2\"/>\n",
       "<circle clip-path=\"url(#clip832)\" cx=\"1430.98\" cy=\"228.886\" r=\"14\" fill=\"#008000\" fill-rule=\"evenodd\" fill-opacity=\"1\" stroke=\"#000000\" stroke-opacity=\"1\" stroke-width=\"3.2\"/>\n",
       "<circle clip-path=\"url(#clip832)\" cx=\"1538.49\" cy=\"164.357\" r=\"14\" fill=\"#008000\" fill-rule=\"evenodd\" fill-opacity=\"1\" stroke=\"#000000\" stroke-opacity=\"1\" stroke-width=\"3.2\"/>\n",
       "<circle clip-path=\"url(#clip832)\" cx=\"1645.99\" cy=\"220.985\" r=\"14\" fill=\"#008000\" fill-rule=\"evenodd\" fill-opacity=\"1\" stroke=\"#000000\" stroke-opacity=\"1\" stroke-width=\"3.2\"/>\n",
       "<circle clip-path=\"url(#clip832)\" cx=\"1753.5\" cy=\"164.357\" r=\"14\" fill=\"#008000\" fill-rule=\"evenodd\" fill-opacity=\"1\" stroke=\"#000000\" stroke-opacity=\"1\" stroke-width=\"3.2\"/>\n",
       "<circle clip-path=\"url(#clip832)\" cx=\"1861.01\" cy=\"99.8285\" r=\"14\" fill=\"#008000\" fill-rule=\"evenodd\" fill-opacity=\"1\" stroke=\"#000000\" stroke-opacity=\"1\" stroke-width=\"3.2\"/>\n",
       "<circle clip-path=\"url(#clip832)\" cx=\"1968.92\" cy=\"103.779\" r=\"14\" fill=\"#008000\" fill-rule=\"evenodd\" fill-opacity=\"1\" stroke=\"#000000\" stroke-opacity=\"1\" stroke-width=\"3.2\"/>\n",
       "<circle clip-path=\"url(#clip832)\" cx=\"2076.43\" cy=\"165.674\" r=\"14\" fill=\"#008000\" fill-rule=\"evenodd\" fill-opacity=\"1\" stroke=\"#000000\" stroke-opacity=\"1\" stroke-width=\"3.2\"/>\n",
       "<circle clip-path=\"url(#clip832)\" cx=\"2183.93\" cy=\"126.167\" r=\"14\" fill=\"#008000\" fill-rule=\"evenodd\" fill-opacity=\"1\" stroke=\"#000000\" stroke-opacity=\"1\" stroke-width=\"3.2\"/>\n",
       "<circle clip-path=\"url(#clip832)\" cx=\"2291.44\" cy=\"107.73\" r=\"14\" fill=\"#008000\" fill-rule=\"evenodd\" fill-opacity=\"1\" stroke=\"#000000\" stroke-opacity=\"1\" stroke-width=\"3.2\"/>\n",
       "<path clip-path=\"url(#clip830)\" d=\"\n",
       "M1878.69 458.098 L2280.54 458.098 L2280.54 95.2176 L1878.69 95.2176  Z\n",
       "  \" fill=\"#ffffff\" fill-rule=\"evenodd\" fill-opacity=\"1\"/>\n",
       "<polyline clip-path=\"url(#clip830)\" style=\"stroke:#000000; stroke-linecap:butt; stroke-linejoin:round; stroke-width:4; stroke-opacity:1; fill:none\" points=\"\n",
       "  1878.69,458.098 2280.54,458.098 2280.54,95.2176 1878.69,95.2176 1878.69,458.098 \n",
       "  \"/>\n",
       "<polyline clip-path=\"url(#clip830)\" style=\"stroke:#ff0000; stroke-linecap:butt; stroke-linejoin:round; stroke-width:4; stroke-opacity:1; fill:none\" points=\"\n",
       "  1902.76,147.058 2047.19,147.058 \n",
       "  \"/>\n",
       "<path clip-path=\"url(#clip830)\" d=\"M2091.77 139.407 L2091.77 143.389 Q2089.97 142.393 2088.14 141.907 Q2086.33 141.398 2084.48 141.398 Q2080.34 141.398 2078.04 144.037 Q2075.75 146.652 2075.75 151.398 Q2075.75 156.143 2078.04 158.782 Q2080.34 161.398 2084.48 161.398 Q2086.33 161.398 2088.14 160.912 Q2089.97 160.402 2091.77 159.407 L2091.77 163.342 Q2089.99 164.176 2088.07 164.592 Q2086.17 165.009 2084.02 165.009 Q2078.16 165.009 2074.71 161.328 Q2071.26 157.648 2071.26 151.398 Q2071.26 145.055 2074.73 141.421 Q2078.23 137.787 2084.29 137.787 Q2086.26 137.787 2088.14 138.203 Q2090.01 138.597 2091.77 139.407 Z\" fill=\"#000000\" fill-rule=\"evenodd\" fill-opacity=\"1\" /><path clip-path=\"url(#clip830)\" d=\"M2110.96 151.305 Q2105.8 151.305 2103.81 152.486 Q2101.82 153.666 2101.82 156.514 Q2101.82 158.782 2103.3 160.125 Q2104.8 161.444 2107.37 161.444 Q2110.91 161.444 2113.04 158.944 Q2115.2 156.421 2115.2 152.254 L2115.2 151.305 L2110.96 151.305 M2119.46 149.546 L2119.46 164.338 L2115.2 164.338 L2115.2 160.402 Q2113.74 162.763 2111.56 163.898 Q2109.39 165.009 2106.24 165.009 Q2102.26 165.009 2099.9 162.787 Q2097.56 160.541 2097.56 156.791 Q2097.56 152.416 2100.48 150.194 Q2103.42 147.972 2109.23 147.972 L2115.2 147.972 L2115.2 147.555 Q2115.2 144.615 2113.25 143.018 Q2111.33 141.398 2107.84 141.398 Q2105.61 141.398 2103.51 141.93 Q2101.4 142.463 2099.46 143.527 L2099.46 139.592 Q2101.79 138.69 2103.99 138.25 Q2106.19 137.787 2108.28 137.787 Q2113.9 137.787 2116.68 140.703 Q2119.46 143.62 2119.46 149.546 Z\" fill=\"#000000\" fill-rule=\"evenodd\" fill-opacity=\"1\" /><circle clip-path=\"url(#clip830)\" cx=\"1974.97\" cy=\"198.898\" r=\"23\" fill=\"#ff0000\" fill-rule=\"evenodd\" fill-opacity=\"1\" stroke=\"#000000\" stroke-opacity=\"1\" stroke-width=\"5.12\"/>\n",
       "<path clip-path=\"url(#clip830)\" d=\"M2091.77 191.247 L2091.77 195.229 Q2089.97 194.233 2088.14 193.747 Q2086.33 193.238 2084.48 193.238 Q2080.34 193.238 2078.04 195.877 Q2075.75 198.492 2075.75 203.238 Q2075.75 207.983 2078.04 210.622 Q2080.34 213.238 2084.48 213.238 Q2086.33 213.238 2088.14 212.752 Q2089.97 212.242 2091.77 211.247 L2091.77 215.182 Q2089.99 216.016 2088.07 216.432 Q2086.17 216.849 2084.02 216.849 Q2078.16 216.849 2074.71 213.168 Q2071.26 209.488 2071.26 203.238 Q2071.26 196.895 2074.73 193.261 Q2078.23 189.627 2084.29 189.627 Q2086.26 189.627 2088.14 190.043 Q2090.01 190.437 2091.77 191.247 Z\" fill=\"#000000\" fill-rule=\"evenodd\" fill-opacity=\"1\" /><path clip-path=\"url(#clip830)\" d=\"M2110.96 203.145 Q2105.8 203.145 2103.81 204.326 Q2101.82 205.506 2101.82 208.354 Q2101.82 210.622 2103.3 211.965 Q2104.8 213.284 2107.37 213.284 Q2110.91 213.284 2113.04 210.784 Q2115.2 208.261 2115.2 204.094 L2115.2 203.145 L2110.96 203.145 M2119.46 201.386 L2119.46 216.178 L2115.2 216.178 L2115.2 212.242 Q2113.74 214.603 2111.56 215.738 Q2109.39 216.849 2106.24 216.849 Q2102.26 216.849 2099.9 214.627 Q2097.56 212.381 2097.56 208.631 Q2097.56 204.256 2100.48 202.034 Q2103.42 199.812 2109.23 199.812 L2115.2 199.812 L2115.2 199.395 Q2115.2 196.455 2113.25 194.858 Q2111.33 193.238 2107.84 193.238 Q2105.61 193.238 2103.51 193.77 Q2101.4 194.303 2099.46 195.367 L2099.46 191.432 Q2101.79 190.53 2103.99 190.09 Q2106.19 189.627 2108.28 189.627 Q2113.9 189.627 2116.68 192.543 Q2119.46 195.46 2119.46 201.386 Z\" fill=\"#000000\" fill-rule=\"evenodd\" fill-opacity=\"1\" /><path clip-path=\"url(#clip830)\" d=\"M2147.93 224.048 L2147.93 227.358 L2123.3 227.358 L2123.3 224.048 L2147.93 224.048 Z\" fill=\"#000000\" fill-rule=\"evenodd\" fill-opacity=\"1\" /><path clip-path=\"url(#clip830)\" d=\"M2174.11 202.15 L2174.11 204.233 L2154.53 204.233 Q2154.8 208.631 2157.16 210.946 Q2159.55 213.238 2163.79 213.238 Q2166.24 213.238 2168.53 212.636 Q2170.85 212.034 2173.11 210.83 L2173.11 214.858 Q2170.82 215.83 2168.41 216.34 Q2166.01 216.849 2163.53 216.849 Q2157.33 216.849 2153.69 213.238 Q2150.08 209.627 2150.08 203.469 Q2150.08 197.104 2153.51 193.377 Q2156.96 189.627 2162.79 189.627 Q2168.02 189.627 2171.05 193.006 Q2174.11 196.363 2174.11 202.15 M2169.85 200.9 Q2169.8 197.405 2167.88 195.321 Q2165.98 193.238 2162.84 193.238 Q2159.27 193.238 2157.12 195.252 Q2154.99 197.266 2154.66 200.923 L2169.85 200.9 Z\" fill=\"#000000\" fill-rule=\"evenodd\" fill-opacity=\"1\" /><path clip-path=\"url(#clip830)\" d=\"M2201.82 190.252 L2192.44 202.867 L2202.3 216.178 L2197.28 216.178 L2189.73 205.992 L2182.19 216.178 L2177.16 216.178 L2187.23 202.613 L2178.02 190.252 L2183.04 190.252 L2189.92 199.488 L2196.79 190.252 L2201.82 190.252 Z\" fill=\"#000000\" fill-rule=\"evenodd\" fill-opacity=\"1\" /><path clip-path=\"url(#clip830)\" d=\"M2212.44 212.289 L2212.44 226.039 L2208.16 226.039 L2208.16 190.252 L2212.44 190.252 L2212.44 194.187 Q2213.78 191.872 2215.82 190.761 Q2217.88 189.627 2220.73 189.627 Q2225.45 189.627 2228.39 193.377 Q2231.35 197.127 2231.35 203.238 Q2231.35 209.349 2228.39 213.099 Q2225.45 216.849 2220.73 216.849 Q2217.88 216.849 2215.82 215.738 Q2213.78 214.603 2212.44 212.289 M2226.93 203.238 Q2226.93 198.539 2224.99 195.877 Q2223.07 193.192 2219.69 193.192 Q2216.31 193.192 2214.36 195.877 Q2212.44 198.539 2212.44 203.238 Q2212.44 207.937 2214.36 210.622 Q2216.31 213.284 2219.69 213.284 Q2223.07 213.284 2224.99 210.622 Q2226.93 207.937 2226.93 203.238 Z\" fill=\"#000000\" fill-rule=\"evenodd\" fill-opacity=\"1\" /><polyline clip-path=\"url(#clip830)\" style=\"stroke:#0000ff; stroke-linecap:butt; stroke-linejoin:round; stroke-width:4; stroke-opacity:1; fill:none\" points=\"\n",
       "  1902.76,250.738 2047.19,250.738 \n",
       "  \"/>\n",
       "<path clip-path=\"url(#clip830)\" d=\"M2091.77 243.087 L2091.77 247.069 Q2089.97 246.073 2088.14 245.587 Q2086.33 245.078 2084.48 245.078 Q2080.34 245.078 2078.04 247.717 Q2075.75 250.332 2075.75 255.078 Q2075.75 259.823 2078.04 262.462 Q2080.34 265.078 2084.48 265.078 Q2086.33 265.078 2088.14 264.592 Q2089.97 264.082 2091.77 263.087 L2091.77 267.022 Q2089.99 267.856 2088.07 268.272 Q2086.17 268.689 2084.02 268.689 Q2078.16 268.689 2074.71 265.008 Q2071.26 261.328 2071.26 255.078 Q2071.26 248.735 2074.73 245.101 Q2078.23 241.467 2084.29 241.467 Q2086.26 241.467 2088.14 241.883 Q2090.01 242.277 2091.77 243.087 Z\" fill=\"#000000\" fill-rule=\"evenodd\" fill-opacity=\"1\" /><path clip-path=\"url(#clip830)\" d=\"M2117.79 255.078 Q2117.79 250.379 2115.85 247.717 Q2113.92 245.032 2110.54 245.032 Q2107.16 245.032 2105.22 247.717 Q2103.3 250.379 2103.3 255.078 Q2103.3 259.777 2105.22 262.462 Q2107.16 265.124 2110.54 265.124 Q2113.92 265.124 2115.85 262.462 Q2117.79 259.777 2117.79 255.078 M2103.3 246.027 Q2104.64 243.712 2106.68 242.601 Q2108.74 241.467 2111.59 241.467 Q2116.31 241.467 2119.25 245.217 Q2122.21 248.967 2122.21 255.078 Q2122.21 261.189 2119.25 264.939 Q2116.31 268.689 2111.59 268.689 Q2108.74 268.689 2106.68 267.578 Q2104.64 266.443 2103.3 264.129 L2103.3 268.018 L2099.02 268.018 L2099.02 231.999 L2103.3 231.999 L2103.3 246.027 Z\" fill=\"#000000\" fill-rule=\"evenodd\" fill-opacity=\"1\" /><circle clip-path=\"url(#clip830)\" cx=\"1974.97\" cy=\"302.578\" r=\"23\" fill=\"#0000ff\" fill-rule=\"evenodd\" fill-opacity=\"1\" stroke=\"#000000\" stroke-opacity=\"1\" stroke-width=\"5.12\"/>\n",
       "<path clip-path=\"url(#clip830)\" d=\"M2091.77 294.927 L2091.77 298.909 Q2089.97 297.913 2088.14 297.427 Q2086.33 296.918 2084.48 296.918 Q2080.34 296.918 2078.04 299.557 Q2075.75 302.172 2075.75 306.918 Q2075.75 311.663 2078.04 314.302 Q2080.34 316.918 2084.48 316.918 Q2086.33 316.918 2088.14 316.432 Q2089.97 315.922 2091.77 314.927 L2091.77 318.862 Q2089.99 319.696 2088.07 320.112 Q2086.17 320.529 2084.02 320.529 Q2078.16 320.529 2074.71 316.848 Q2071.26 313.168 2071.26 306.918 Q2071.26 300.575 2074.73 296.941 Q2078.23 293.307 2084.29 293.307 Q2086.26 293.307 2088.14 293.723 Q2090.01 294.117 2091.77 294.927 Z\" fill=\"#000000\" fill-rule=\"evenodd\" fill-opacity=\"1\" /><path clip-path=\"url(#clip830)\" d=\"M2117.79 306.918 Q2117.79 302.219 2115.85 299.557 Q2113.92 296.872 2110.54 296.872 Q2107.16 296.872 2105.22 299.557 Q2103.3 302.219 2103.3 306.918 Q2103.3 311.617 2105.22 314.302 Q2107.16 316.964 2110.54 316.964 Q2113.92 316.964 2115.85 314.302 Q2117.79 311.617 2117.79 306.918 M2103.3 297.867 Q2104.64 295.552 2106.68 294.441 Q2108.74 293.307 2111.59 293.307 Q2116.31 293.307 2119.25 297.057 Q2122.21 300.807 2122.21 306.918 Q2122.21 313.029 2119.25 316.779 Q2116.31 320.529 2111.59 320.529 Q2108.74 320.529 2106.68 319.418 Q2104.64 318.283 2103.3 315.969 L2103.3 319.858 L2099.02 319.858 L2099.02 283.839 L2103.3 283.839 L2103.3 297.867 Z\" fill=\"#000000\" fill-rule=\"evenodd\" fill-opacity=\"1\" /><path clip-path=\"url(#clip830)\" d=\"M2148.97 327.728 L2148.97 331.038 L2124.34 331.038 L2124.34 327.728 L2148.97 327.728 Z\" fill=\"#000000\" fill-rule=\"evenodd\" fill-opacity=\"1\" /><path clip-path=\"url(#clip830)\" d=\"M2175.15 305.83 L2175.15 307.913 L2155.57 307.913 Q2155.85 312.311 2158.21 314.626 Q2160.59 316.918 2164.83 316.918 Q2167.28 316.918 2169.57 316.316 Q2171.89 315.714 2174.16 314.51 L2174.16 318.538 Q2171.86 319.51 2169.46 320.02 Q2167.05 320.529 2164.57 320.529 Q2158.37 320.529 2154.73 316.918 Q2151.12 313.307 2151.12 307.149 Q2151.12 300.784 2154.55 297.057 Q2158 293.307 2163.83 293.307 Q2169.06 293.307 2172.1 296.686 Q2175.15 300.043 2175.15 305.83 M2170.89 304.58 Q2170.85 301.085 2168.92 299.001 Q2167.03 296.918 2163.88 296.918 Q2160.31 296.918 2158.16 298.932 Q2156.03 300.946 2155.71 304.603 L2170.89 304.58 Z\" fill=\"#000000\" fill-rule=\"evenodd\" fill-opacity=\"1\" /><path clip-path=\"url(#clip830)\" d=\"M2202.86 293.932 L2193.48 306.547 L2203.35 319.858 L2198.32 319.858 L2190.78 309.672 L2183.23 319.858 L2178.21 319.858 L2188.28 306.293 L2179.06 293.932 L2184.09 293.932 L2190.96 303.168 L2197.84 293.932 L2202.86 293.932 Z\" fill=\"#000000\" fill-rule=\"evenodd\" fill-opacity=\"1\" /><path clip-path=\"url(#clip830)\" d=\"M2213.48 315.969 L2213.48 329.719 L2209.2 329.719 L2209.2 293.932 L2213.48 293.932 L2213.48 297.867 Q2214.83 295.552 2216.86 294.441 Q2218.92 293.307 2221.77 293.307 Q2226.49 293.307 2229.43 297.057 Q2232.4 300.807 2232.4 306.918 Q2232.4 313.029 2229.43 316.779 Q2226.49 320.529 2221.77 320.529 Q2218.92 320.529 2216.86 319.418 Q2214.83 318.283 2213.48 315.969 M2227.97 306.918 Q2227.97 302.219 2226.03 299.557 Q2224.11 296.872 2220.73 296.872 Q2217.35 296.872 2215.41 299.557 Q2213.48 302.219 2213.48 306.918 Q2213.48 311.617 2215.41 314.302 Q2217.35 316.964 2220.73 316.964 Q2224.11 316.964 2226.03 314.302 Q2227.97 311.617 2227.97 306.918 Z\" fill=\"#000000\" fill-rule=\"evenodd\" fill-opacity=\"1\" /><polyline clip-path=\"url(#clip830)\" style=\"stroke:#008000; stroke-linecap:butt; stroke-linejoin:round; stroke-width:4; stroke-opacity:1; fill:none\" points=\"\n",
       "  1902.76,354.418 2047.19,354.418 \n",
       "  \"/>\n",
       "<path clip-path=\"url(#clip830)\" d=\"M2091.77 346.767 L2091.77 350.749 Q2089.97 349.753 2088.14 349.267 Q2086.33 348.758 2084.48 348.758 Q2080.34 348.758 2078.04 351.397 Q2075.75 354.012 2075.75 358.758 Q2075.75 363.503 2078.04 366.142 Q2080.34 368.758 2084.48 368.758 Q2086.33 368.758 2088.14 368.272 Q2089.97 367.762 2091.77 366.767 L2091.77 370.702 Q2089.99 371.536 2088.07 371.952 Q2086.17 372.369 2084.02 372.369 Q2078.16 372.369 2074.71 368.688 Q2071.26 365.008 2071.26 358.758 Q2071.26 352.415 2074.73 348.781 Q2078.23 345.147 2084.29 345.147 Q2086.26 345.147 2088.14 345.563 Q2090.01 345.957 2091.77 346.767 Z\" fill=\"#000000\" fill-rule=\"evenodd\" fill-opacity=\"1\" /><path clip-path=\"url(#clip830)\" d=\"M2117.84 346.767 L2117.84 350.749 Q2116.03 349.753 2114.2 349.267 Q2112.4 348.758 2110.54 348.758 Q2106.4 348.758 2104.11 351.397 Q2101.82 354.012 2101.82 358.758 Q2101.82 363.503 2104.11 366.142 Q2106.4 368.758 2110.54 368.758 Q2112.4 368.758 2114.2 368.272 Q2116.03 367.762 2117.84 366.767 L2117.84 370.702 Q2116.05 371.536 2114.13 371.952 Q2112.23 372.369 2110.08 372.369 Q2104.23 372.369 2100.78 368.688 Q2097.33 365.008 2097.33 358.758 Q2097.33 352.415 2100.8 348.781 Q2104.29 345.147 2110.36 345.147 Q2112.33 345.147 2114.2 345.563 Q2116.08 345.957 2117.84 346.767 Z\" fill=\"#000000\" fill-rule=\"evenodd\" fill-opacity=\"1\" /><circle clip-path=\"url(#clip830)\" cx=\"1974.97\" cy=\"406.258\" r=\"23\" fill=\"#008000\" fill-rule=\"evenodd\" fill-opacity=\"1\" stroke=\"#000000\" stroke-opacity=\"1\" stroke-width=\"5.12\"/>\n",
       "<path clip-path=\"url(#clip830)\" d=\"M2091.77 398.607 L2091.77 402.589 Q2089.97 401.593 2088.14 401.107 Q2086.33 400.598 2084.48 400.598 Q2080.34 400.598 2078.04 403.237 Q2075.75 405.852 2075.75 410.598 Q2075.75 415.343 2078.04 417.982 Q2080.34 420.598 2084.48 420.598 Q2086.33 420.598 2088.14 420.112 Q2089.97 419.602 2091.77 418.607 L2091.77 422.542 Q2089.99 423.376 2088.07 423.792 Q2086.17 424.209 2084.02 424.209 Q2078.16 424.209 2074.71 420.528 Q2071.26 416.848 2071.26 410.598 Q2071.26 404.255 2074.73 400.621 Q2078.23 396.987 2084.29 396.987 Q2086.26 396.987 2088.14 397.403 Q2090.01 397.797 2091.77 398.607 Z\" fill=\"#000000\" fill-rule=\"evenodd\" fill-opacity=\"1\" /><path clip-path=\"url(#clip830)\" d=\"M2117.84 398.607 L2117.84 402.589 Q2116.03 401.593 2114.2 401.107 Q2112.4 400.598 2110.54 400.598 Q2106.4 400.598 2104.11 403.237 Q2101.82 405.852 2101.82 410.598 Q2101.82 415.343 2104.11 417.982 Q2106.4 420.598 2110.54 420.598 Q2112.4 420.598 2114.2 420.112 Q2116.03 419.602 2117.84 418.607 L2117.84 422.542 Q2116.05 423.376 2114.13 423.792 Q2112.23 424.209 2110.08 424.209 Q2104.23 424.209 2100.78 420.528 Q2097.33 416.848 2097.33 410.598 Q2097.33 404.255 2100.8 400.621 Q2104.29 396.987 2110.36 396.987 Q2112.33 396.987 2114.2 397.403 Q2116.08 397.797 2117.84 398.607 Z\" fill=\"#000000\" fill-rule=\"evenodd\" fill-opacity=\"1\" /><path clip-path=\"url(#clip830)\" d=\"M2144.94 431.408 L2144.94 434.718 L2120.31 434.718 L2120.31 431.408 L2144.94 431.408 Z\" fill=\"#000000\" fill-rule=\"evenodd\" fill-opacity=\"1\" /><path clip-path=\"url(#clip830)\" d=\"M2171.12 409.51 L2171.12 411.593 L2151.54 411.593 Q2151.82 415.991 2154.18 418.306 Q2156.56 420.598 2160.8 420.598 Q2163.25 420.598 2165.54 419.996 Q2167.86 419.394 2170.13 418.19 L2170.13 422.218 Q2167.84 423.19 2165.43 423.7 Q2163.02 424.209 2160.54 424.209 Q2154.34 424.209 2150.71 420.598 Q2147.1 416.987 2147.1 410.829 Q2147.1 404.464 2150.52 400.737 Q2153.97 396.987 2159.8 396.987 Q2165.04 396.987 2168.07 400.366 Q2171.12 403.723 2171.12 409.51 M2166.86 408.26 Q2166.82 404.765 2164.9 402.681 Q2163 400.598 2159.85 400.598 Q2156.29 400.598 2154.13 402.612 Q2152 404.626 2151.68 408.283 L2166.86 408.26 Z\" fill=\"#000000\" fill-rule=\"evenodd\" fill-opacity=\"1\" /><path clip-path=\"url(#clip830)\" d=\"M2198.83 397.612 L2189.46 410.227 L2199.32 423.538 L2194.29 423.538 L2186.75 413.352 L2179.2 423.538 L2174.18 423.538 L2184.25 409.973 L2175.03 397.612 L2180.06 397.612 L2186.93 406.848 L2193.81 397.612 L2198.83 397.612 Z\" fill=\"#000000\" fill-rule=\"evenodd\" fill-opacity=\"1\" /><path clip-path=\"url(#clip830)\" d=\"M2209.46 419.649 L2209.46 433.399 L2205.17 433.399 L2205.17 397.612 L2209.46 397.612 L2209.46 401.547 Q2210.8 399.232 2212.84 398.121 Q2214.9 396.987 2217.74 396.987 Q2222.47 396.987 2225.41 400.737 Q2228.37 404.487 2228.37 410.598 Q2228.37 416.709 2225.41 420.459 Q2222.47 424.209 2217.74 424.209 Q2214.9 424.209 2212.84 423.098 Q2210.8 421.963 2209.46 419.649 M2223.95 410.598 Q2223.95 405.899 2222 403.237 Q2220.08 400.552 2216.7 400.552 Q2213.32 400.552 2211.38 403.237 Q2209.46 405.899 2209.46 410.598 Q2209.46 415.297 2211.38 417.982 Q2213.32 420.644 2216.7 420.644 Q2220.08 420.644 2222 417.982 Q2223.95 415.297 2223.95 410.598 Z\" fill=\"#000000\" fill-rule=\"evenodd\" fill-opacity=\"1\" /></svg>\n"
      ]
     },
     "execution_count": 93,
     "metadata": {},
     "output_type": "execute_result"
    }
   ],
   "source": [
    "plot(tlist, value(ca), label = \"ca\", color = \"red\")\n",
    "plot!(texp, [ca_exp[t] for t in texp], seriestype = :scatter, label = \"ca_exp\", color = \"red\")\n",
    "plot!(tlist, value(cb), label = \"cb\", color = \"blue\")\n",
    "plot!(texp, [cb_exp[t] for t in texp], seriestype = :scatter, label = \"cb_exp\", color = \"blue\")\n",
    "plot!(tlist, value(cc), label = \"cc\", color = \"green\")\n",
    "plot!(texp, [cc_exp[t] for t in texp], seriestype = :scatter, label = \"cc_exp\", color = \"green\")"
   ]
  },
  {
   "cell_type": "code",
   "execution_count": null,
   "id": "detailed-extreme",
   "metadata": {},
   "outputs": [],
   "source": []
  }
 ],
 "metadata": {
  "kernelspec": {
   "display_name": "Julia 1.6.2",
   "language": "julia",
   "name": "julia-1.6"
  },
  "language_info": {
   "file_extension": ".jl",
   "mimetype": "application/julia",
   "name": "julia",
   "version": "1.6.2"
  }
 },
 "nbformat": 4,
 "nbformat_minor": 5
}
