{
 "cells": [
  {
   "cell_type": "code",
   "execution_count": null,
   "id": "pressed-refund",
   "metadata": {},
   "outputs": [],
   "source": [
    "#\n",
    "# Julia/InfiniteOpt version of code adapted from\n",
    "# https://github.com/rawlings-group/paresto/blob/master/examples/green_book/bvsm.m\n",
    "#"
   ]
  },
  {
   "cell_type": "code",
   "execution_count": 1,
   "id": "committed-fight",
   "metadata": {},
   "outputs": [],
   "source": [
    "using CSV, DataFrames\n",
    "using Plots\n",
    "using Interpolations\n",
    "using InfiniteOpt\n",
    "using JuMP, Ipopt"
   ]
  },
  {
   "cell_type": "code",
   "execution_count": 4,
   "id": "reported-piano",
   "metadata": {},
   "outputs": [
    {
     "data": {
      "text/html": [
       "<div class=\"data-frame\"><p>87 rows × 3 columns</p><table class=\"data-frame\"><thead><tr><th></th><th>tQf</th><th>Qf</th><th>c3</th></tr><tr><th></th><th title=\"Float64\">Float64</th><th title=\"Float64\">Float64</th><th title=\"Float64\">Float64</th></tr></thead><tbody><tr><th>1</th><td>9.0</td><td>0.0978178</td><td>4.786</td></tr><tr><th>2</th><td>19.0</td><td>1.2906</td><td>14.218</td></tr><tr><th>3</th><td>29.0</td><td>1.26278</td><td>13.998</td></tr><tr><th>4</th><td>39.0</td><td>1.24002</td><td>13.818</td></tr><tr><th>5</th><td>49.0</td><td>1.21574</td><td>13.626</td></tr><tr><th>6</th><td>59.0</td><td>1.18716</td><td>13.4</td></tr><tr><th>7</th><td>69.0</td><td>1.1606</td><td>13.19</td></tr><tr><th>8</th><td>79.0</td><td>0.554596</td><td>8.398</td></tr><tr><th>9</th><td>89.0</td><td>1.10951</td><td>12.786</td></tr><tr><th>10</th><td>99.0</td><td>1.36193</td><td>14.782</td></tr><tr><th>11</th><td>109.0</td><td>1.33233</td><td>14.548</td></tr><tr><th>12</th><td>119.0</td><td>1.29465</td><td>14.25</td></tr><tr><th>13</th><td>129.0</td><td>1.27188</td><td>14.07</td></tr><tr><th>14</th><td>139.0</td><td>1.24457</td><td>13.854</td></tr><tr><th>15</th><td>149.0</td><td>1.22079</td><td>13.666</td></tr><tr><th>16</th><td>159.0</td><td>1.19778</td><td>13.484</td></tr><tr><th>17</th><td>169.0</td><td>1.17046</td><td>13.268</td></tr><tr><th>18</th><td>179.0</td><td>1.15099</td><td>13.114</td></tr><tr><th>19</th><td>189.0</td><td>1.12898</td><td>12.94</td></tr><tr><th>20</th><td>199.0</td><td>1.10597</td><td>12.758</td></tr><tr><th>21</th><td>209.0</td><td>1.09256</td><td>12.652</td></tr><tr><th>22</th><td>219.0</td><td>1.36016</td><td>14.768</td></tr><tr><th>23</th><td>229.0</td><td>1.34447</td><td>14.644</td></tr><tr><th>24</th><td>239.0</td><td>1.32905</td><td>14.522</td></tr><tr><th>25</th><td>249.0</td><td>1.30552</td><td>14.336</td></tr><tr><th>26</th><td>259.0</td><td>1.27543</td><td>14.098</td></tr><tr><th>27</th><td>269.0</td><td>1.25924</td><td>13.97</td></tr><tr><th>28</th><td>279.0</td><td>1.24406</td><td>13.85</td></tr><tr><th>29</th><td>289.0</td><td>1.21978</td><td>13.658</td></tr><tr><th>30</th><td>299.0</td><td>1.19196</td><td>13.438</td></tr><tr><th>&vellip;</th><td>&vellip;</td><td>&vellip;</td><td>&vellip;</td></tr></tbody></table></div>"
      ],
      "text/latex": [
       "\\begin{tabular}{r|ccc}\n",
       "\t& tQf & Qf & c3\\\\\n",
       "\t\\hline\n",
       "\t& Float64 & Float64 & Float64\\\\\n",
       "\t\\hline\n",
       "\t1 & 9.0 & 0.0978178 & 4.786 \\\\\n",
       "\t2 & 19.0 & 1.2906 & 14.218 \\\\\n",
       "\t3 & 29.0 & 1.26278 & 13.998 \\\\\n",
       "\t4 & 39.0 & 1.24002 & 13.818 \\\\\n",
       "\t5 & 49.0 & 1.21574 & 13.626 \\\\\n",
       "\t6 & 59.0 & 1.18716 & 13.4 \\\\\n",
       "\t7 & 69.0 & 1.1606 & 13.19 \\\\\n",
       "\t8 & 79.0 & 0.554596 & 8.398 \\\\\n",
       "\t9 & 89.0 & 1.10951 & 12.786 \\\\\n",
       "\t10 & 99.0 & 1.36193 & 14.782 \\\\\n",
       "\t11 & 109.0 & 1.33233 & 14.548 \\\\\n",
       "\t12 & 119.0 & 1.29465 & 14.25 \\\\\n",
       "\t13 & 129.0 & 1.27188 & 14.07 \\\\\n",
       "\t14 & 139.0 & 1.24457 & 13.854 \\\\\n",
       "\t15 & 149.0 & 1.22079 & 13.666 \\\\\n",
       "\t16 & 159.0 & 1.19778 & 13.484 \\\\\n",
       "\t17 & 169.0 & 1.17046 & 13.268 \\\\\n",
       "\t18 & 179.0 & 1.15099 & 13.114 \\\\\n",
       "\t19 & 189.0 & 1.12898 & 12.94 \\\\\n",
       "\t20 & 199.0 & 1.10597 & 12.758 \\\\\n",
       "\t21 & 209.0 & 1.09256 & 12.652 \\\\\n",
       "\t22 & 219.0 & 1.36016 & 14.768 \\\\\n",
       "\t23 & 229.0 & 1.34447 & 14.644 \\\\\n",
       "\t24 & 239.0 & 1.32905 & 14.522 \\\\\n",
       "\t25 & 249.0 & 1.30552 & 14.336 \\\\\n",
       "\t26 & 259.0 & 1.27543 & 14.098 \\\\\n",
       "\t27 & 269.0 & 1.25924 & 13.97 \\\\\n",
       "\t28 & 279.0 & 1.24406 & 13.85 \\\\\n",
       "\t29 & 289.0 & 1.21978 & 13.658 \\\\\n",
       "\t30 & 299.0 & 1.19196 & 13.438 \\\\\n",
       "\t$\\dots$ & $\\dots$ & $\\dots$ & $\\dots$ \\\\\n",
       "\\end{tabular}\n"
      ],
      "text/plain": [
       "\u001b[1m87×3 DataFrame\u001b[0m\n",
       "\u001b[1m Row \u001b[0m│\u001b[1m tQf     \u001b[0m\u001b[1m Qf          \u001b[0m\u001b[1m c3      \u001b[0m\n",
       "\u001b[1m     \u001b[0m│\u001b[90m Float64 \u001b[0m\u001b[90m Float64     \u001b[0m\u001b[90m Float64 \u001b[0m\n",
       "─────┼───────────────────────────────\n",
       "   1 │     9.0  0.0978178     4.786\n",
       "   2 │    19.0  1.2906       14.218\n",
       "   3 │    29.0  1.26278      13.998\n",
       "   4 │    39.0  1.24002      13.818\n",
       "   5 │    49.0  1.21574      13.626\n",
       "   6 │    59.0  1.18716      13.4\n",
       "   7 │    69.0  1.1606       13.19\n",
       "   8 │    79.0  0.554596      8.398\n",
       "   9 │    89.0  1.10951      12.786\n",
       "  10 │    99.0  1.36193      14.782\n",
       "  11 │   109.0  1.33233      14.548\n",
       "  ⋮  │    ⋮          ⋮          ⋮\n",
       "  78 │   779.0  0.0680994     4.551\n",
       "  79 │   789.0  0.000872612   4.0194\n",
       "  80 │   799.0  0.000973725   4.0202\n",
       "  81 │   809.0  0.000872564   4.0194\n",
       "  82 │   819.0  0.0007967     4.0188\n",
       "  83 │   829.0  0.000720835   4.0182\n",
       "  84 │   839.0  0.000569129   4.017\n",
       "  85 │   849.0  0.000468016   4.0162\n",
       "  86 │   859.0  0.00051856    4.0166\n",
       "  87 │   869.0  0.000442672   4.016\n",
       "\u001b[36m                      66 rows omitted\u001b[0m"
      ]
     },
     "execution_count": 4,
     "metadata": {},
     "output_type": "execute_result"
    }
   ],
   "source": [
    "Qf_data = CSV.read(\"data_sets/flow.dat\", DataFrame, header = [\"tQf\", \"Qf\", \"c3\"], delim = ' ', ignorerepeated = true)"
   ]
  },
  {
   "cell_type": "code",
   "execution_count": 8,
   "id": "typical-radar",
   "metadata": {},
   "outputs": [
    {
     "data": {
      "text/plain": [
       "88-element Vector{Float64}:\n",
       " 0.0\n",
       " 0.1343651620879121\n",
       " 1.7728035714285717\n",
       " 1.7345865384615387\n",
       " 1.7033186813186814\n",
       " 1.6699670329670329\n",
       " 1.6307087912087914\n",
       " 1.5942293956043956\n",
       " 0.7618078296703298\n",
       " 1.5240494505494504\n",
       " 1.870776098901099\n",
       " 1.8301277472527473\n",
       " 1.7783626373626373\n",
       " ⋮\n",
       " 0.14555206043956043\n",
       " 0.0009205970192307693\n",
       " 0.09354318543956044\n",
       " 0.0011986428571428573\n",
       " 0.0013375348076923078\n",
       " 0.0011985773763736264\n",
       " 0.0010943675137362638\n",
       " 0.0009901575686813188\n",
       " 0.0007817706181318682\n",
       " 0.0006428786675824176\n",
       " 0.0007123082554945056\n",
       " 0.0006080656043956044"
      ]
     },
     "execution_count": 8,
     "metadata": {},
     "output_type": "execute_result"
    }
   ],
   "source": [
    "tQf = append!([0.0], Qf_data.tQf)\n",
    "Qf = append!([0.0], Qf_data.Qf/0.728)"
   ]
  },
  {
   "cell_type": "code",
   "execution_count": 10,
   "id": "fluid-westminster",
   "metadata": {},
   "outputs": [
    {
     "data": {
      "text/plain": [
       "88-element extrapolate(interpolate((::Vector{Float64},), ::Vector{Float64}, Gridded(Constant{Nearest}())), Throw()) with element type Float64:\n",
       " 0.0\n",
       " 0.1343651620879121\n",
       " 1.7728035714285717\n",
       " 1.7345865384615387\n",
       " 1.7033186813186814\n",
       " 1.6699670329670329\n",
       " 1.6307087912087914\n",
       " 1.5942293956043956\n",
       " 0.7618078296703298\n",
       " 1.5240494505494504\n",
       " 1.870776098901099\n",
       " 1.8301277472527473\n",
       " 1.7783626373626373\n",
       " ⋮\n",
       " 0.14555206043956043\n",
       " 0.0009205970192307693\n",
       " 0.09354318543956044\n",
       " 0.0011986428571428573\n",
       " 0.0013375348076923078\n",
       " 0.0011985773763736264\n",
       " 0.0010943675137362638\n",
       " 0.0009901575686813188\n",
       " 0.0007817706181318682\n",
       " 0.0006428786675824176\n",
       " 0.0007123082554945056\n",
       " 0.0006080656043956044"
      ]
     },
     "execution_count": 10,
     "metadata": {},
     "output_type": "execute_result"
    }
   ],
   "source": [
    "Qf_itl = ConstantInterpolation(tQf, Qf)"
   ]
  },
  {
   "cell_type": "code",
   "execution_count": 11,
   "id": "centered-advantage",
   "metadata": {},
   "outputs": [
    {
     "data": {
      "text/plain": [
       "870-element Vector{Float64}:\n",
       " 0.0\n",
       " 0.0\n",
       " 0.0\n",
       " 0.0\n",
       " 0.0\n",
       " 0.1343651620879121\n",
       " 0.1343651620879121\n",
       " 0.1343651620879121\n",
       " 0.1343651620879121\n",
       " 0.1343651620879121\n",
       " 0.1343651620879121\n",
       " 0.1343651620879121\n",
       " 0.1343651620879121\n",
       " ⋮\n",
       " 0.0007123082554945056\n",
       " 0.0007123082554945056\n",
       " 0.0007123082554945056\n",
       " 0.0007123082554945056\n",
       " 0.0007123082554945056\n",
       " 0.0007123082554945056\n",
       " 0.0006080656043956044\n",
       " 0.0006080656043956044\n",
       " 0.0006080656043956044\n",
       " 0.0006080656043956044\n",
       " 0.0006080656043956044\n",
       " 0.0006080656043956044"
      ]
     },
     "execution_count": 11,
     "metadata": {},
     "output_type": "execute_result"
    }
   ],
   "source": [
    "tQf_i = 0:1:maximum(tQf)\n",
    "Qf_i = Qf_itl.(tQf_i)"
   ]
  },
  {
   "cell_type": "code",
   "execution_count": 12,
   "id": "initial-likelihood",
   "metadata": {},
   "outputs": [
    {
     "data": {
      "image/svg+xml": [
       "<?xml version=\"1.0\" encoding=\"utf-8\"?>\n",
       "<svg xmlns=\"http://www.w3.org/2000/svg\" xmlns:xlink=\"http://www.w3.org/1999/xlink\" width=\"600\" height=\"400\" viewBox=\"0 0 2400 1600\">\n",
       "<defs>\n",
       "  <clipPath id=\"clip940\">\n",
       "    <rect x=\"0\" y=\"0\" width=\"2400\" height=\"1600\"/>\n",
       "  </clipPath>\n",
       "</defs>\n",
       "<path clip-path=\"url(#clip940)\" d=\"\n",
       "M0 1600 L2400 1600 L2400 0 L0 0  Z\n",
       "  \" fill=\"#ffffff\" fill-rule=\"evenodd\" fill-opacity=\"1\"/>\n",
       "<defs>\n",
       "  <clipPath id=\"clip941\">\n",
       "    <rect x=\"480\" y=\"0\" width=\"1681\" height=\"1600\"/>\n",
       "  </clipPath>\n",
       "</defs>\n",
       "<path clip-path=\"url(#clip940)\" d=\"\n",
       "M156.112 1486.45 L2352.76 1486.45 L2352.76 47.2441 L156.112 47.2441  Z\n",
       "  \" fill=\"#ffffff\" fill-rule=\"evenodd\" fill-opacity=\"1\"/>\n",
       "<defs>\n",
       "  <clipPath id=\"clip942\">\n",
       "    <rect x=\"156\" y=\"47\" width=\"2198\" height=\"1440\"/>\n",
       "  </clipPath>\n",
       "</defs>\n",
       "<polyline clip-path=\"url(#clip942)\" style=\"stroke:#000000; stroke-linecap:butt; stroke-linejoin:round; stroke-width:2; stroke-opacity:0.1; fill:none\" points=\"\n",
       "  218.281,1486.45 218.281,47.2441 \n",
       "  \"/>\n",
       "<polyline clip-path=\"url(#clip942)\" style=\"stroke:#000000; stroke-linecap:butt; stroke-linejoin:round; stroke-width:2; stroke-opacity:0.1; fill:none\" points=\"\n",
       "  695.222,1486.45 695.222,47.2441 \n",
       "  \"/>\n",
       "<polyline clip-path=\"url(#clip942)\" style=\"stroke:#000000; stroke-linecap:butt; stroke-linejoin:round; stroke-width:2; stroke-opacity:0.1; fill:none\" points=\"\n",
       "  1172.16,1486.45 1172.16,47.2441 \n",
       "  \"/>\n",
       "<polyline clip-path=\"url(#clip942)\" style=\"stroke:#000000; stroke-linecap:butt; stroke-linejoin:round; stroke-width:2; stroke-opacity:0.1; fill:none\" points=\"\n",
       "  1649.1,1486.45 1649.1,47.2441 \n",
       "  \"/>\n",
       "<polyline clip-path=\"url(#clip942)\" style=\"stroke:#000000; stroke-linecap:butt; stroke-linejoin:round; stroke-width:2; stroke-opacity:0.1; fill:none\" points=\"\n",
       "  2126.04,1486.45 2126.04,47.2441 \n",
       "  \"/>\n",
       "<polyline clip-path=\"url(#clip940)\" style=\"stroke:#000000; stroke-linecap:butt; stroke-linejoin:round; stroke-width:4; stroke-opacity:1; fill:none\" points=\"\n",
       "  156.112,1486.45 2352.76,1486.45 \n",
       "  \"/>\n",
       "<polyline clip-path=\"url(#clip940)\" style=\"stroke:#000000; stroke-linecap:butt; stroke-linejoin:round; stroke-width:4; stroke-opacity:1; fill:none\" points=\"\n",
       "  218.281,1486.45 218.281,1467.55 \n",
       "  \"/>\n",
       "<polyline clip-path=\"url(#clip940)\" style=\"stroke:#000000; stroke-linecap:butt; stroke-linejoin:round; stroke-width:4; stroke-opacity:1; fill:none\" points=\"\n",
       "  695.222,1486.45 695.222,1467.55 \n",
       "  \"/>\n",
       "<polyline clip-path=\"url(#clip940)\" style=\"stroke:#000000; stroke-linecap:butt; stroke-linejoin:round; stroke-width:4; stroke-opacity:1; fill:none\" points=\"\n",
       "  1172.16,1486.45 1172.16,1467.55 \n",
       "  \"/>\n",
       "<polyline clip-path=\"url(#clip940)\" style=\"stroke:#000000; stroke-linecap:butt; stroke-linejoin:round; stroke-width:4; stroke-opacity:1; fill:none\" points=\"\n",
       "  1649.1,1486.45 1649.1,1467.55 \n",
       "  \"/>\n",
       "<polyline clip-path=\"url(#clip940)\" style=\"stroke:#000000; stroke-linecap:butt; stroke-linejoin:round; stroke-width:4; stroke-opacity:1; fill:none\" points=\"\n",
       "  2126.04,1486.45 2126.04,1467.55 \n",
       "  \"/>\n",
       "<path clip-path=\"url(#clip940)\" d=\"M218.281 1517.37 Q214.67 1517.37 212.842 1520.93 Q211.036 1524.47 211.036 1531.6 Q211.036 1538.71 212.842 1542.27 Q214.67 1545.82 218.281 1545.82 Q221.916 1545.82 223.721 1542.27 Q225.55 1538.71 225.55 1531.6 Q225.55 1524.47 223.721 1520.93 Q221.916 1517.37 218.281 1517.37 M218.281 1513.66 Q224.091 1513.66 227.147 1518.27 Q230.226 1522.85 230.226 1531.6 Q230.226 1540.33 227.147 1544.94 Q224.091 1549.52 218.281 1549.52 Q212.471 1549.52 209.392 1544.94 Q206.337 1540.33 206.337 1531.6 Q206.337 1522.85 209.392 1518.27 Q212.471 1513.66 218.281 1513.66 Z\" fill=\"#000000\" fill-rule=\"evenodd\" fill-opacity=\"1\" /><path clip-path=\"url(#clip940)\" d=\"M658.914 1544.91 L675.233 1544.91 L675.233 1548.85 L653.289 1548.85 L653.289 1544.91 Q655.951 1542.16 660.534 1537.53 Q665.141 1532.88 666.321 1531.53 Q668.567 1529.01 669.446 1527.27 Q670.349 1525.51 670.349 1523.82 Q670.349 1521.07 668.405 1519.33 Q666.483 1517.6 663.381 1517.6 Q661.182 1517.6 658.729 1518.36 Q656.298 1519.13 653.52 1520.68 L653.52 1515.95 Q656.344 1514.82 658.798 1514.24 Q661.252 1513.66 663.289 1513.66 Q668.659 1513.66 671.854 1516.35 Q675.048 1519.03 675.048 1523.52 Q675.048 1525.65 674.238 1527.57 Q673.451 1529.47 671.344 1532.07 Q670.766 1532.74 667.664 1535.95 Q664.562 1539.15 658.914 1544.91 Z\" fill=\"#000000\" fill-rule=\"evenodd\" fill-opacity=\"1\" /><path clip-path=\"url(#clip940)\" d=\"M695.048 1517.37 Q691.437 1517.37 689.608 1520.93 Q687.803 1524.47 687.803 1531.6 Q687.803 1538.71 689.608 1542.27 Q691.437 1545.82 695.048 1545.82 Q698.682 1545.82 700.488 1542.27 Q702.316 1538.71 702.316 1531.6 Q702.316 1524.47 700.488 1520.93 Q698.682 1517.37 695.048 1517.37 M695.048 1513.66 Q700.858 1513.66 703.914 1518.27 Q706.992 1522.85 706.992 1531.6 Q706.992 1540.33 703.914 1544.94 Q700.858 1549.52 695.048 1549.52 Q689.238 1549.52 686.159 1544.94 Q683.104 1540.33 683.104 1531.6 Q683.104 1522.85 686.159 1518.27 Q689.238 1513.66 695.048 1513.66 Z\" fill=\"#000000\" fill-rule=\"evenodd\" fill-opacity=\"1\" /><path clip-path=\"url(#clip940)\" d=\"M725.21 1517.37 Q721.599 1517.37 719.77 1520.93 Q717.964 1524.47 717.964 1531.6 Q717.964 1538.71 719.77 1542.27 Q721.599 1545.82 725.21 1545.82 Q728.844 1545.82 730.65 1542.27 Q732.478 1538.71 732.478 1531.6 Q732.478 1524.47 730.65 1520.93 Q728.844 1517.37 725.21 1517.37 M725.21 1513.66 Q731.02 1513.66 734.076 1518.27 Q737.154 1522.85 737.154 1531.6 Q737.154 1540.33 734.076 1544.94 Q731.02 1549.52 725.21 1549.52 Q719.4 1549.52 716.321 1544.94 Q713.265 1540.33 713.265 1531.6 Q713.265 1522.85 716.321 1518.27 Q719.4 1513.66 725.21 1513.66 Z\" fill=\"#000000\" fill-rule=\"evenodd\" fill-opacity=\"1\" /><path clip-path=\"url(#clip940)\" d=\"M1145.25 1518.36 L1133.45 1536.81 L1145.25 1536.81 L1145.25 1518.36 M1144.03 1514.29 L1149.9 1514.29 L1149.9 1536.81 L1154.84 1536.81 L1154.84 1540.7 L1149.9 1540.7 L1149.9 1548.85 L1145.25 1548.85 L1145.25 1540.7 L1129.65 1540.7 L1129.65 1536.19 L1144.03 1514.29 Z\" fill=\"#000000\" fill-rule=\"evenodd\" fill-opacity=\"1\" /><path clip-path=\"url(#clip940)\" d=\"M1172.57 1517.37 Q1168.96 1517.37 1167.13 1520.93 Q1165.32 1524.47 1165.32 1531.6 Q1165.32 1538.71 1167.13 1542.27 Q1168.96 1545.82 1172.57 1545.82 Q1176.2 1545.82 1178.01 1542.27 Q1179.84 1538.71 1179.84 1531.6 Q1179.84 1524.47 1178.01 1520.93 Q1176.2 1517.37 1172.57 1517.37 M1172.57 1513.66 Q1178.38 1513.66 1181.43 1518.27 Q1184.51 1522.85 1184.51 1531.6 Q1184.51 1540.33 1181.43 1544.94 Q1178.38 1549.52 1172.57 1549.52 Q1166.76 1549.52 1163.68 1544.94 Q1160.62 1540.33 1160.62 1531.6 Q1160.62 1522.85 1163.68 1518.27 Q1166.76 1513.66 1172.57 1513.66 Z\" fill=\"#000000\" fill-rule=\"evenodd\" fill-opacity=\"1\" /><path clip-path=\"url(#clip940)\" d=\"M1202.73 1517.37 Q1199.12 1517.37 1197.29 1520.93 Q1195.48 1524.47 1195.48 1531.6 Q1195.48 1538.71 1197.29 1542.27 Q1199.12 1545.82 1202.73 1545.82 Q1206.36 1545.82 1208.17 1542.27 Q1210 1538.71 1210 1531.6 Q1210 1524.47 1208.17 1520.93 Q1206.36 1517.37 1202.73 1517.37 M1202.73 1513.66 Q1208.54 1513.66 1211.59 1518.27 Q1214.67 1522.85 1214.67 1531.6 Q1214.67 1540.33 1211.59 1544.94 Q1208.54 1549.52 1202.73 1549.52 Q1196.92 1549.52 1193.84 1544.94 Q1190.78 1540.33 1190.78 1531.6 Q1190.78 1522.85 1193.84 1518.27 Q1196.92 1513.66 1202.73 1513.66 Z\" fill=\"#000000\" fill-rule=\"evenodd\" fill-opacity=\"1\" /><path clip-path=\"url(#clip940)\" d=\"M1619.43 1529.7 Q1616.28 1529.7 1614.43 1531.86 Q1612.6 1534.01 1612.6 1537.76 Q1612.6 1541.49 1614.43 1543.66 Q1616.28 1545.82 1619.43 1545.82 Q1622.57 1545.82 1624.4 1543.66 Q1626.25 1541.49 1626.25 1537.76 Q1626.25 1534.01 1624.4 1531.86 Q1622.57 1529.7 1619.43 1529.7 M1628.71 1515.05 L1628.71 1519.31 Q1626.95 1518.48 1625.14 1518.04 Q1623.36 1517.6 1621.6 1517.6 Q1616.97 1517.6 1614.52 1520.72 Q1612.09 1523.85 1611.74 1530.17 Q1613.11 1528.15 1615.17 1527.09 Q1617.23 1526 1619.7 1526 Q1624.91 1526 1627.92 1529.17 Q1630.95 1532.32 1630.95 1537.76 Q1630.95 1543.08 1627.81 1546.3 Q1624.66 1549.52 1619.43 1549.52 Q1613.43 1549.52 1610.26 1544.94 Q1607.09 1540.33 1607.09 1531.6 Q1607.09 1523.41 1610.98 1518.55 Q1614.87 1513.66 1621.42 1513.66 Q1623.18 1513.66 1624.96 1514.01 Q1626.76 1514.36 1628.71 1515.05 Z\" fill=\"#000000\" fill-rule=\"evenodd\" fill-opacity=\"1\" /><path clip-path=\"url(#clip940)\" d=\"M1649.01 1517.37 Q1645.4 1517.37 1643.57 1520.93 Q1641.76 1524.47 1641.76 1531.6 Q1641.76 1538.71 1643.57 1542.27 Q1645.4 1545.82 1649.01 1545.82 Q1652.64 1545.82 1654.45 1542.27 Q1656.28 1538.71 1656.28 1531.6 Q1656.28 1524.47 1654.45 1520.93 Q1652.64 1517.37 1649.01 1517.37 M1649.01 1513.66 Q1654.82 1513.66 1657.88 1518.27 Q1660.95 1522.85 1660.95 1531.6 Q1660.95 1540.33 1657.88 1544.94 Q1654.82 1549.52 1649.01 1549.52 Q1643.2 1549.52 1640.12 1544.94 Q1637.07 1540.33 1637.07 1531.6 Q1637.07 1522.85 1640.12 1518.27 Q1643.2 1513.66 1649.01 1513.66 Z\" fill=\"#000000\" fill-rule=\"evenodd\" fill-opacity=\"1\" /><path clip-path=\"url(#clip940)\" d=\"M1679.17 1517.37 Q1675.56 1517.37 1673.73 1520.93 Q1671.93 1524.47 1671.93 1531.6 Q1671.93 1538.71 1673.73 1542.27 Q1675.56 1545.82 1679.17 1545.82 Q1682.81 1545.82 1684.61 1542.27 Q1686.44 1538.71 1686.44 1531.6 Q1686.44 1524.47 1684.61 1520.93 Q1682.81 1517.37 1679.17 1517.37 M1679.17 1513.66 Q1684.98 1513.66 1688.04 1518.27 Q1691.12 1522.85 1691.12 1531.6 Q1691.12 1540.33 1688.04 1544.94 Q1684.98 1549.52 1679.17 1549.52 Q1673.36 1549.52 1670.28 1544.94 Q1667.23 1540.33 1667.23 1531.6 Q1667.23 1522.85 1670.28 1518.27 Q1673.36 1513.66 1679.17 1513.66 Z\" fill=\"#000000\" fill-rule=\"evenodd\" fill-opacity=\"1\" /><path clip-path=\"url(#clip940)\" d=\"M2095.83 1532.44 Q2092.5 1532.44 2090.58 1534.22 Q2088.68 1536 2088.68 1539.13 Q2088.68 1542.25 2090.58 1544.03 Q2092.5 1545.82 2095.83 1545.82 Q2099.17 1545.82 2101.09 1544.03 Q2103.01 1542.23 2103.01 1539.13 Q2103.01 1536 2101.09 1534.22 Q2099.19 1532.44 2095.83 1532.44 M2091.16 1530.45 Q2088.15 1529.7 2086.46 1527.64 Q2084.79 1525.58 2084.79 1522.62 Q2084.79 1518.48 2087.73 1516.07 Q2090.7 1513.66 2095.83 1513.66 Q2101 1513.66 2103.94 1516.07 Q2106.88 1518.48 2106.88 1522.62 Q2106.88 1525.58 2105.19 1527.64 Q2103.52 1529.7 2100.53 1530.45 Q2103.91 1531.23 2105.79 1533.52 Q2107.69 1535.82 2107.69 1539.13 Q2107.69 1544.15 2104.61 1546.83 Q2101.55 1549.52 2095.83 1549.52 Q2090.12 1549.52 2087.04 1546.83 Q2083.98 1544.15 2083.98 1539.13 Q2083.98 1535.82 2085.88 1533.52 Q2087.78 1531.23 2091.16 1530.45 M2089.45 1523.06 Q2089.45 1525.75 2091.11 1527.25 Q2092.8 1528.76 2095.83 1528.76 Q2098.84 1528.76 2100.53 1527.25 Q2102.25 1525.75 2102.25 1523.06 Q2102.25 1520.38 2100.53 1518.87 Q2098.84 1517.37 2095.83 1517.37 Q2092.8 1517.37 2091.11 1518.87 Q2089.45 1520.38 2089.45 1523.06 Z\" fill=\"#000000\" fill-rule=\"evenodd\" fill-opacity=\"1\" /><path clip-path=\"url(#clip940)\" d=\"M2126 1517.37 Q2122.38 1517.37 2120.56 1520.93 Q2118.75 1524.47 2118.75 1531.6 Q2118.75 1538.71 2120.56 1542.27 Q2122.38 1545.82 2126 1545.82 Q2129.63 1545.82 2131.44 1542.27 Q2133.26 1538.71 2133.26 1531.6 Q2133.26 1524.47 2131.44 1520.93 Q2129.63 1517.37 2126 1517.37 M2126 1513.66 Q2131.81 1513.66 2134.86 1518.27 Q2137.94 1522.85 2137.94 1531.6 Q2137.94 1540.33 2134.86 1544.94 Q2131.81 1549.52 2126 1549.52 Q2120.19 1549.52 2117.11 1544.94 Q2114.05 1540.33 2114.05 1531.6 Q2114.05 1522.85 2117.11 1518.27 Q2120.19 1513.66 2126 1513.66 Z\" fill=\"#000000\" fill-rule=\"evenodd\" fill-opacity=\"1\" /><path clip-path=\"url(#clip940)\" d=\"M2156.16 1517.37 Q2152.55 1517.37 2150.72 1520.93 Q2148.91 1524.47 2148.91 1531.6 Q2148.91 1538.71 2150.72 1542.27 Q2152.55 1545.82 2156.16 1545.82 Q2159.79 1545.82 2161.6 1542.27 Q2163.43 1538.71 2163.43 1531.6 Q2163.43 1524.47 2161.6 1520.93 Q2159.79 1517.37 2156.16 1517.37 M2156.16 1513.66 Q2161.97 1513.66 2165.02 1518.27 Q2168.1 1522.85 2168.1 1531.6 Q2168.1 1540.33 2165.02 1544.94 Q2161.97 1549.52 2156.16 1549.52 Q2150.35 1549.52 2147.27 1544.94 Q2144.21 1540.33 2144.21 1531.6 Q2144.21 1522.85 2147.27 1518.27 Q2150.35 1513.66 2156.16 1513.66 Z\" fill=\"#000000\" fill-rule=\"evenodd\" fill-opacity=\"1\" /><polyline clip-path=\"url(#clip942)\" style=\"stroke:#000000; stroke-linecap:butt; stroke-linejoin:round; stroke-width:2; stroke-opacity:0.1; fill:none\" points=\"\n",
       "  156.112,1441.13 2352.76,1441.13 \n",
       "  \"/>\n",
       "<polyline clip-path=\"url(#clip942)\" style=\"stroke:#000000; stroke-linecap:butt; stroke-linejoin:round; stroke-width:2; stroke-opacity:0.1; fill:none\" points=\"\n",
       "  156.112,1079.47 2352.76,1079.47 \n",
       "  \"/>\n",
       "<polyline clip-path=\"url(#clip942)\" style=\"stroke:#000000; stroke-linecap:butt; stroke-linejoin:round; stroke-width:2; stroke-opacity:0.1; fill:none\" points=\"\n",
       "  156.112,717.818 2352.76,717.818 \n",
       "  \"/>\n",
       "<polyline clip-path=\"url(#clip942)\" style=\"stroke:#000000; stroke-linecap:butt; stroke-linejoin:round; stroke-width:2; stroke-opacity:0.1; fill:none\" points=\"\n",
       "  156.112,356.163 2352.76,356.163 \n",
       "  \"/>\n",
       "<polyline clip-path=\"url(#clip940)\" style=\"stroke:#000000; stroke-linecap:butt; stroke-linejoin:round; stroke-width:4; stroke-opacity:1; fill:none\" points=\"\n",
       "  156.112,1486.45 156.112,47.2441 \n",
       "  \"/>\n",
       "<polyline clip-path=\"url(#clip940)\" style=\"stroke:#000000; stroke-linecap:butt; stroke-linejoin:round; stroke-width:4; stroke-opacity:1; fill:none\" points=\"\n",
       "  156.112,1441.13 175.01,1441.13 \n",
       "  \"/>\n",
       "<polyline clip-path=\"url(#clip940)\" style=\"stroke:#000000; stroke-linecap:butt; stroke-linejoin:round; stroke-width:4; stroke-opacity:1; fill:none\" points=\"\n",
       "  156.112,1079.47 175.01,1079.47 \n",
       "  \"/>\n",
       "<polyline clip-path=\"url(#clip940)\" style=\"stroke:#000000; stroke-linecap:butt; stroke-linejoin:round; stroke-width:4; stroke-opacity:1; fill:none\" points=\"\n",
       "  156.112,717.818 175.01,717.818 \n",
       "  \"/>\n",
       "<polyline clip-path=\"url(#clip940)\" style=\"stroke:#000000; stroke-linecap:butt; stroke-linejoin:round; stroke-width:4; stroke-opacity:1; fill:none\" points=\"\n",
       "  156.112,356.163 175.01,356.163 \n",
       "  \"/>\n",
       "<path clip-path=\"url(#clip940)\" d=\"M62.9365 1426.93 Q59.3254 1426.93 57.4967 1430.49 Q55.6912 1434.03 55.6912 1441.16 Q55.6912 1448.27 57.4967 1451.84 Q59.3254 1455.38 62.9365 1455.38 Q66.5707 1455.38 68.3763 1451.84 Q70.205 1448.27 70.205 1441.16 Q70.205 1434.03 68.3763 1430.49 Q66.5707 1426.93 62.9365 1426.93 M62.9365 1423.22 Q68.7467 1423.22 71.8022 1427.83 Q74.8809 1432.41 74.8809 1441.16 Q74.8809 1449.89 71.8022 1454.5 Q68.7467 1459.08 62.9365 1459.08 Q57.1264 1459.08 54.0477 1454.5 Q50.9921 1449.89 50.9921 1441.16 Q50.9921 1432.41 54.0477 1427.83 Q57.1264 1423.22 62.9365 1423.22 Z\" fill=\"#000000\" fill-rule=\"evenodd\" fill-opacity=\"1\" /><path clip-path=\"url(#clip940)\" d=\"M83.0984 1452.53 L87.9827 1452.53 L87.9827 1458.41 L83.0984 1458.41 L83.0984 1452.53 Z\" fill=\"#000000\" fill-rule=\"evenodd\" fill-opacity=\"1\" /><path clip-path=\"url(#clip940)\" d=\"M108.168 1426.93 Q104.557 1426.93 102.728 1430.49 Q100.922 1434.03 100.922 1441.16 Q100.922 1448.27 102.728 1451.84 Q104.557 1455.38 108.168 1455.38 Q111.802 1455.38 113.608 1451.84 Q115.436 1448.27 115.436 1441.16 Q115.436 1434.03 113.608 1430.49 Q111.802 1426.93 108.168 1426.93 M108.168 1423.22 Q113.978 1423.22 117.033 1427.83 Q120.112 1432.41 120.112 1441.16 Q120.112 1449.89 117.033 1454.5 Q113.978 1459.08 108.168 1459.08 Q102.358 1459.08 99.2789 1454.5 Q96.2234 1449.89 96.2234 1441.16 Q96.2234 1432.41 99.2789 1427.83 Q102.358 1423.22 108.168 1423.22 Z\" fill=\"#000000\" fill-rule=\"evenodd\" fill-opacity=\"1\" /><path clip-path=\"url(#clip940)\" d=\"M63.9319 1065.27 Q60.3208 1065.27 58.4921 1068.84 Q56.6865 1072.38 56.6865 1079.51 Q56.6865 1086.62 58.4921 1090.18 Q60.3208 1093.72 63.9319 1093.72 Q67.5661 1093.72 69.3717 1090.18 Q71.2004 1086.62 71.2004 1079.51 Q71.2004 1072.38 69.3717 1068.84 Q67.5661 1065.27 63.9319 1065.27 M63.9319 1061.57 Q69.742 1061.57 72.7976 1066.18 Q75.8763 1070.76 75.8763 1079.51 Q75.8763 1088.24 72.7976 1092.84 Q69.742 1097.43 63.9319 1097.43 Q58.1217 1097.43 55.043 1092.84 Q51.9875 1088.24 51.9875 1079.51 Q51.9875 1070.76 55.043 1066.18 Q58.1217 1061.57 63.9319 1061.57 Z\" fill=\"#000000\" fill-rule=\"evenodd\" fill-opacity=\"1\" /><path clip-path=\"url(#clip940)\" d=\"M84.0938 1090.87 L88.978 1090.87 L88.978 1096.75 L84.0938 1096.75 L84.0938 1090.87 Z\" fill=\"#000000\" fill-rule=\"evenodd\" fill-opacity=\"1\" /><path clip-path=\"url(#clip940)\" d=\"M99.2095 1062.19 L117.566 1062.19 L117.566 1066.13 L103.492 1066.13 L103.492 1074.6 Q104.51 1074.25 105.529 1074.09 Q106.547 1073.91 107.566 1073.91 Q113.353 1073.91 116.733 1077.08 Q120.112 1080.25 120.112 1085.67 Q120.112 1091.24 116.64 1094.35 Q113.168 1097.43 106.848 1097.43 Q104.672 1097.43 102.404 1097.05 Q100.159 1096.68 97.7511 1095.94 L97.7511 1091.24 Q99.8345 1092.38 102.057 1092.93 Q104.279 1093.49 106.756 1093.49 Q110.76 1093.49 113.098 1091.38 Q115.436 1089.28 115.436 1085.67 Q115.436 1082.05 113.098 1079.95 Q110.76 1077.84 106.756 1077.84 Q104.881 1077.84 103.006 1078.26 Q101.154 1078.68 99.2095 1079.55 L99.2095 1062.19 Z\" fill=\"#000000\" fill-rule=\"evenodd\" fill-opacity=\"1\" /><path clip-path=\"url(#clip940)\" d=\"M53.7467 731.163 L61.3856 731.163 L61.3856 704.798 L53.0754 706.464 L53.0754 702.205 L61.3393 700.538 L66.0152 700.538 L66.0152 731.163 L73.654 731.163 L73.654 735.098 L53.7467 735.098 L53.7467 731.163 Z\" fill=\"#000000\" fill-rule=\"evenodd\" fill-opacity=\"1\" /><path clip-path=\"url(#clip940)\" d=\"M83.0984 729.219 L87.9827 729.219 L87.9827 735.098 L83.0984 735.098 L83.0984 729.219 Z\" fill=\"#000000\" fill-rule=\"evenodd\" fill-opacity=\"1\" /><path clip-path=\"url(#clip940)\" d=\"M108.168 703.617 Q104.557 703.617 102.728 707.182 Q100.922 710.723 100.922 717.853 Q100.922 724.96 102.728 728.524 Q104.557 732.066 108.168 732.066 Q111.802 732.066 113.608 728.524 Q115.436 724.96 115.436 717.853 Q115.436 710.723 113.608 707.182 Q111.802 703.617 108.168 703.617 M108.168 699.913 Q113.978 699.913 117.033 704.52 Q120.112 709.103 120.112 717.853 Q120.112 726.58 117.033 731.186 Q113.978 735.77 108.168 735.77 Q102.358 735.77 99.2789 731.186 Q96.2234 726.58 96.2234 717.853 Q96.2234 709.103 99.2789 704.52 Q102.358 699.913 108.168 699.913 Z\" fill=\"#000000\" fill-rule=\"evenodd\" fill-opacity=\"1\" /><path clip-path=\"url(#clip940)\" d=\"M54.7421 369.508 L62.381 369.508 L62.381 343.142 L54.0708 344.809 L54.0708 340.549 L62.3347 338.883 L67.0106 338.883 L67.0106 369.508 L74.6494 369.508 L74.6494 373.443 L54.7421 373.443 L54.7421 369.508 Z\" fill=\"#000000\" fill-rule=\"evenodd\" fill-opacity=\"1\" /><path clip-path=\"url(#clip940)\" d=\"M84.0938 367.563 L88.978 367.563 L88.978 373.443 L84.0938 373.443 L84.0938 367.563 Z\" fill=\"#000000\" fill-rule=\"evenodd\" fill-opacity=\"1\" /><path clip-path=\"url(#clip940)\" d=\"M99.2095 338.883 L117.566 338.883 L117.566 342.818 L103.492 342.818 L103.492 351.29 Q104.51 350.943 105.529 350.781 Q106.547 350.596 107.566 350.596 Q113.353 350.596 116.733 353.767 Q120.112 356.938 120.112 362.355 Q120.112 367.934 116.64 371.035 Q113.168 374.114 106.848 374.114 Q104.672 374.114 102.404 373.744 Q100.159 373.373 97.7511 372.633 L97.7511 367.934 Q99.8345 369.068 102.057 369.623 Q104.279 370.179 106.756 370.179 Q110.76 370.179 113.098 368.072 Q115.436 365.966 115.436 362.355 Q115.436 358.744 113.098 356.637 Q110.76 354.531 106.756 354.531 Q104.881 354.531 103.006 354.948 Q101.154 355.364 99.2095 356.244 L99.2095 338.883 Z\" fill=\"#000000\" fill-rule=\"evenodd\" fill-opacity=\"1\" /><circle clip-path=\"url(#clip942)\" cx=\"218.281\" cy=\"1441.13\" r=\"14\" fill=\"#009af9\" fill-rule=\"evenodd\" fill-opacity=\"1\" stroke=\"#000000\" stroke-opacity=\"1\" stroke-width=\"3.2\"/>\n",
       "<circle clip-path=\"url(#clip942)\" cx=\"239.744\" cy=\"1343.94\" r=\"14\" fill=\"#009af9\" fill-rule=\"evenodd\" fill-opacity=\"1\" stroke=\"#000000\" stroke-opacity=\"1\" stroke-width=\"3.2\"/>\n",
       "<circle clip-path=\"url(#clip942)\" cx=\"263.591\" cy=\"158.841\" r=\"14\" fill=\"#009af9\" fill-rule=\"evenodd\" fill-opacity=\"1\" stroke=\"#000000\" stroke-opacity=\"1\" stroke-width=\"3.2\"/>\n",
       "<circle clip-path=\"url(#clip942)\" cx=\"287.438\" cy=\"186.484\" r=\"14\" fill=\"#009af9\" fill-rule=\"evenodd\" fill-opacity=\"1\" stroke=\"#000000\" stroke-opacity=\"1\" stroke-width=\"3.2\"/>\n",
       "<circle clip-path=\"url(#clip942)\" cx=\"311.285\" cy=\"209.1\" r=\"14\" fill=\"#009af9\" fill-rule=\"evenodd\" fill-opacity=\"1\" stroke=\"#000000\" stroke-opacity=\"1\" stroke-width=\"3.2\"/>\n",
       "<circle clip-path=\"url(#clip942)\" cx=\"335.132\" cy=\"233.224\" r=\"14\" fill=\"#009af9\" fill-rule=\"evenodd\" fill-opacity=\"1\" stroke=\"#000000\" stroke-opacity=\"1\" stroke-width=\"3.2\"/>\n",
       "<circle clip-path=\"url(#clip942)\" cx=\"358.979\" cy=\"261.62\" r=\"14\" fill=\"#009af9\" fill-rule=\"evenodd\" fill-opacity=\"1\" stroke=\"#000000\" stroke-opacity=\"1\" stroke-width=\"3.2\"/>\n",
       "<circle clip-path=\"url(#clip942)\" cx=\"382.826\" cy=\"288.006\" r=\"14\" fill=\"#009af9\" fill-rule=\"evenodd\" fill-opacity=\"1\" stroke=\"#000000\" stroke-opacity=\"1\" stroke-width=\"3.2\"/>\n",
       "<circle clip-path=\"url(#clip942)\" cx=\"406.673\" cy=\"890.105\" r=\"14\" fill=\"#009af9\" fill-rule=\"evenodd\" fill-opacity=\"1\" stroke=\"#000000\" stroke-opacity=\"1\" stroke-width=\"3.2\"/>\n",
       "<circle clip-path=\"url(#clip942)\" cx=\"430.52\" cy=\"338.768\" r=\"14\" fill=\"#009af9\" fill-rule=\"evenodd\" fill-opacity=\"1\" stroke=\"#000000\" stroke-opacity=\"1\" stroke-width=\"3.2\"/>\n",
       "<circle clip-path=\"url(#clip942)\" cx=\"454.367\" cy=\"87.9763\" r=\"14\" fill=\"#009af9\" fill-rule=\"evenodd\" fill-opacity=\"1\" stroke=\"#000000\" stroke-opacity=\"1\" stroke-width=\"3.2\"/>\n",
       "<circle clip-path=\"url(#clip942)\" cx=\"478.214\" cy=\"117.378\" r=\"14\" fill=\"#009af9\" fill-rule=\"evenodd\" fill-opacity=\"1\" stroke=\"#000000\" stroke-opacity=\"1\" stroke-width=\"3.2\"/>\n",
       "<circle clip-path=\"url(#clip942)\" cx=\"502.061\" cy=\"154.82\" r=\"14\" fill=\"#009af9\" fill-rule=\"evenodd\" fill-opacity=\"1\" stroke=\"#000000\" stroke-opacity=\"1\" stroke-width=\"3.2\"/>\n",
       "<circle clip-path=\"url(#clip942)\" cx=\"525.908\" cy=\"177.436\" r=\"14\" fill=\"#009af9\" fill-rule=\"evenodd\" fill-opacity=\"1\" stroke=\"#000000\" stroke-opacity=\"1\" stroke-width=\"3.2\"/>\n",
       "<circle clip-path=\"url(#clip942)\" cx=\"549.755\" cy=\"204.576\" r=\"14\" fill=\"#009af9\" fill-rule=\"evenodd\" fill-opacity=\"1\" stroke=\"#000000\" stroke-opacity=\"1\" stroke-width=\"3.2\"/>\n",
       "<circle clip-path=\"url(#clip942)\" cx=\"573.602\" cy=\"228.198\" r=\"14\" fill=\"#009af9\" fill-rule=\"evenodd\" fill-opacity=\"1\" stroke=\"#000000\" stroke-opacity=\"1\" stroke-width=\"3.2\"/>\n",
       "<circle clip-path=\"url(#clip942)\" cx=\"597.449\" cy=\"251.066\" r=\"14\" fill=\"#009af9\" fill-rule=\"evenodd\" fill-opacity=\"1\" stroke=\"#000000\" stroke-opacity=\"1\" stroke-width=\"3.2\"/>\n",
       "<circle clip-path=\"url(#clip942)\" cx=\"621.296\" cy=\"278.205\" r=\"14\" fill=\"#009af9\" fill-rule=\"evenodd\" fill-opacity=\"1\" stroke=\"#000000\" stroke-opacity=\"1\" stroke-width=\"3.2\"/>\n",
       "<circle clip-path=\"url(#clip942)\" cx=\"645.143\" cy=\"297.555\" r=\"14\" fill=\"#009af9\" fill-rule=\"evenodd\" fill-opacity=\"1\" stroke=\"#000000\" stroke-opacity=\"1\" stroke-width=\"3.2\"/>\n",
       "<circle clip-path=\"url(#clip942)\" cx=\"668.99\" cy=\"319.418\" r=\"14\" fill=\"#009af9\" fill-rule=\"evenodd\" fill-opacity=\"1\" stroke=\"#000000\" stroke-opacity=\"1\" stroke-width=\"3.2\"/>\n",
       "<circle clip-path=\"url(#clip942)\" cx=\"692.837\" cy=\"342.285\" r=\"14\" fill=\"#009af9\" fill-rule=\"evenodd\" fill-opacity=\"1\" stroke=\"#000000\" stroke-opacity=\"1\" stroke-width=\"3.2\"/>\n",
       "<circle clip-path=\"url(#clip942)\" cx=\"716.684\" cy=\"355.603\" r=\"14\" fill=\"#009af9\" fill-rule=\"evenodd\" fill-opacity=\"1\" stroke=\"#000000\" stroke-opacity=\"1\" stroke-width=\"3.2\"/>\n",
       "<circle clip-path=\"url(#clip942)\" cx=\"740.531\" cy=\"89.7349\" r=\"14\" fill=\"#009af9\" fill-rule=\"evenodd\" fill-opacity=\"1\" stroke=\"#000000\" stroke-opacity=\"1\" stroke-width=\"3.2\"/>\n",
       "<circle clip-path=\"url(#clip942)\" cx=\"764.378\" cy=\"105.316\" r=\"14\" fill=\"#009af9\" fill-rule=\"evenodd\" fill-opacity=\"1\" stroke=\"#000000\" stroke-opacity=\"1\" stroke-width=\"3.2\"/>\n",
       "<circle clip-path=\"url(#clip942)\" cx=\"788.225\" cy=\"120.645\" r=\"14\" fill=\"#009af9\" fill-rule=\"evenodd\" fill-opacity=\"1\" stroke=\"#000000\" stroke-opacity=\"1\" stroke-width=\"3.2\"/>\n",
       "<circle clip-path=\"url(#clip942)\" cx=\"812.072\" cy=\"144.014\" r=\"14\" fill=\"#009af9\" fill-rule=\"evenodd\" fill-opacity=\"1\" stroke=\"#000000\" stroke-opacity=\"1\" stroke-width=\"3.2\"/>\n",
       "<circle clip-path=\"url(#clip942)\" cx=\"835.919\" cy=\"173.918\" r=\"14\" fill=\"#009af9\" fill-rule=\"evenodd\" fill-opacity=\"1\" stroke=\"#000000\" stroke-opacity=\"1\" stroke-width=\"3.2\"/>\n",
       "<circle clip-path=\"url(#clip942)\" cx=\"859.766\" cy=\"190.001\" r=\"14\" fill=\"#009af9\" fill-rule=\"evenodd\" fill-opacity=\"1\" stroke=\"#000000\" stroke-opacity=\"1\" stroke-width=\"3.2\"/>\n",
       "<circle clip-path=\"url(#clip942)\" cx=\"883.613\" cy=\"205.079\" r=\"14\" fill=\"#009af9\" fill-rule=\"evenodd\" fill-opacity=\"1\" stroke=\"#000000\" stroke-opacity=\"1\" stroke-width=\"3.2\"/>\n",
       "<circle clip-path=\"url(#clip942)\" cx=\"907.46\" cy=\"229.203\" r=\"14\" fill=\"#009af9\" fill-rule=\"evenodd\" fill-opacity=\"1\" stroke=\"#000000\" stroke-opacity=\"1\" stroke-width=\"3.2\"/>\n",
       "<circle clip-path=\"url(#clip942)\" cx=\"931.307\" cy=\"256.846\" r=\"14\" fill=\"#009af9\" fill-rule=\"evenodd\" fill-opacity=\"1\" stroke=\"#000000\" stroke-opacity=\"1\" stroke-width=\"3.2\"/>\n",
       "<circle clip-path=\"url(#clip942)\" cx=\"955.154\" cy=\"274.938\" r=\"14\" fill=\"#009af9\" fill-rule=\"evenodd\" fill-opacity=\"1\" stroke=\"#000000\" stroke-opacity=\"1\" stroke-width=\"3.2\"/>\n",
       "<circle clip-path=\"url(#clip942)\" cx=\"979.001\" cy=\"290.268\" r=\"14\" fill=\"#009af9\" fill-rule=\"evenodd\" fill-opacity=\"1\" stroke=\"#000000\" stroke-opacity=\"1\" stroke-width=\"3.2\"/>\n",
       "<circle clip-path=\"url(#clip942)\" cx=\"1002.85\" cy=\"1126.82\" r=\"14\" fill=\"#009af9\" fill-rule=\"evenodd\" fill-opacity=\"1\" stroke=\"#000000\" stroke-opacity=\"1\" stroke-width=\"3.2\"/>\n",
       "<circle clip-path=\"url(#clip942)\" cx=\"1026.7\" cy=\"895.131\" r=\"14\" fill=\"#009af9\" fill-rule=\"evenodd\" fill-opacity=\"1\" stroke=\"#000000\" stroke-opacity=\"1\" stroke-width=\"3.2\"/>\n",
       "<circle clip-path=\"url(#clip942)\" cx=\"1050.54\" cy=\"224.177\" r=\"14\" fill=\"#009af9\" fill-rule=\"evenodd\" fill-opacity=\"1\" stroke=\"#000000\" stroke-opacity=\"1\" stroke-width=\"3.2\"/>\n",
       "<circle clip-path=\"url(#clip942)\" cx=\"1074.39\" cy=\"1120.34\" r=\"14\" fill=\"#009af9\" fill-rule=\"evenodd\" fill-opacity=\"1\" stroke=\"#000000\" stroke-opacity=\"1\" stroke-width=\"3.2\"/>\n",
       "<circle clip-path=\"url(#clip942)\" cx=\"1098.24\" cy=\"1440.19\" r=\"14\" fill=\"#009af9\" fill-rule=\"evenodd\" fill-opacity=\"1\" stroke=\"#000000\" stroke-opacity=\"1\" stroke-width=\"3.2\"/>\n",
       "<circle clip-path=\"url(#clip942)\" cx=\"1122.08\" cy=\"1440.66\" r=\"14\" fill=\"#009af9\" fill-rule=\"evenodd\" fill-opacity=\"1\" stroke=\"#000000\" stroke-opacity=\"1\" stroke-width=\"3.2\"/>\n",
       "<circle clip-path=\"url(#clip942)\" cx=\"1145.93\" cy=\"1440.59\" r=\"14\" fill=\"#009af9\" fill-rule=\"evenodd\" fill-opacity=\"1\" stroke=\"#000000\" stroke-opacity=\"1\" stroke-width=\"3.2\"/>\n",
       "<circle clip-path=\"url(#clip942)\" cx=\"1169.78\" cy=\"1440.64\" r=\"14\" fill=\"#009af9\" fill-rule=\"evenodd\" fill-opacity=\"1\" stroke=\"#000000\" stroke-opacity=\"1\" stroke-width=\"3.2\"/>\n",
       "<circle clip-path=\"url(#clip942)\" cx=\"1193.62\" cy=\"1440.77\" r=\"14\" fill=\"#009af9\" fill-rule=\"evenodd\" fill-opacity=\"1\" stroke=\"#000000\" stroke-opacity=\"1\" stroke-width=\"3.2\"/>\n",
       "<circle clip-path=\"url(#clip942)\" cx=\"1217.47\" cy=\"1172.74\" r=\"14\" fill=\"#009af9\" fill-rule=\"evenodd\" fill-opacity=\"1\" stroke=\"#000000\" stroke-opacity=\"1\" stroke-width=\"3.2\"/>\n",
       "<circle clip-path=\"url(#clip942)\" cx=\"1241.32\" cy=\"262.876\" r=\"14\" fill=\"#009af9\" fill-rule=\"evenodd\" fill-opacity=\"1\" stroke=\"#000000\" stroke-opacity=\"1\" stroke-width=\"3.2\"/>\n",
       "<circle clip-path=\"url(#clip942)\" cx=\"1265.17\" cy=\"517.186\" r=\"14\" fill=\"#009af9\" fill-rule=\"evenodd\" fill-opacity=\"1\" stroke=\"#000000\" stroke-opacity=\"1\" stroke-width=\"3.2\"/>\n",
       "<circle clip-path=\"url(#clip942)\" cx=\"1289.01\" cy=\"918.602\" r=\"14\" fill=\"#009af9\" fill-rule=\"evenodd\" fill-opacity=\"1\" stroke=\"#000000\" stroke-opacity=\"1\" stroke-width=\"3.2\"/>\n",
       "<circle clip-path=\"url(#clip942)\" cx=\"1312.86\" cy=\"1440.24\" r=\"14\" fill=\"#009af9\" fill-rule=\"evenodd\" fill-opacity=\"1\" stroke=\"#000000\" stroke-opacity=\"1\" stroke-width=\"3.2\"/>\n",
       "<circle clip-path=\"url(#clip942)\" cx=\"1336.71\" cy=\"1440.26\" r=\"14\" fill=\"#009af9\" fill-rule=\"evenodd\" fill-opacity=\"1\" stroke=\"#000000\" stroke-opacity=\"1\" stroke-width=\"3.2\"/>\n",
       "<circle clip-path=\"url(#clip942)\" cx=\"1360.55\" cy=\"1440.34\" r=\"14\" fill=\"#009af9\" fill-rule=\"evenodd\" fill-opacity=\"1\" stroke=\"#000000\" stroke-opacity=\"1\" stroke-width=\"3.2\"/>\n",
       "<circle clip-path=\"url(#clip942)\" cx=\"1384.4\" cy=\"1440.64\" r=\"14\" fill=\"#009af9\" fill-rule=\"evenodd\" fill-opacity=\"1\" stroke=\"#000000\" stroke-opacity=\"1\" stroke-width=\"3.2\"/>\n",
       "<circle clip-path=\"url(#clip942)\" cx=\"1408.25\" cy=\"1440.66\" r=\"14\" fill=\"#009af9\" fill-rule=\"evenodd\" fill-opacity=\"1\" stroke=\"#000000\" stroke-opacity=\"1\" stroke-width=\"3.2\"/>\n",
       "<circle clip-path=\"url(#clip942)\" cx=\"1432.09\" cy=\"1440.77\" r=\"14\" fill=\"#009af9\" fill-rule=\"evenodd\" fill-opacity=\"1\" stroke=\"#000000\" stroke-opacity=\"1\" stroke-width=\"3.2\"/>\n",
       "<circle clip-path=\"url(#clip942)\" cx=\"1455.94\" cy=\"1209.55\" r=\"14\" fill=\"#009af9\" fill-rule=\"evenodd\" fill-opacity=\"1\" stroke=\"#000000\" stroke-opacity=\"1\" stroke-width=\"3.2\"/>\n",
       "<circle clip-path=\"url(#clip942)\" cx=\"1479.79\" cy=\"667.71\" r=\"14\" fill=\"#009af9\" fill-rule=\"evenodd\" fill-opacity=\"1\" stroke=\"#000000\" stroke-opacity=\"1\" stroke-width=\"3.2\"/>\n",
       "<circle clip-path=\"url(#clip942)\" cx=\"1503.64\" cy=\"1433.65\" r=\"14\" fill=\"#009af9\" fill-rule=\"evenodd\" fill-opacity=\"1\" stroke=\"#000000\" stroke-opacity=\"1\" stroke-width=\"3.2\"/>\n",
       "<circle clip-path=\"url(#clip942)\" cx=\"1527.48\" cy=\"1433.65\" r=\"14\" fill=\"#009af9\" fill-rule=\"evenodd\" fill-opacity=\"1\" stroke=\"#000000\" stroke-opacity=\"1\" stroke-width=\"3.2\"/>\n",
       "<circle clip-path=\"url(#clip942)\" cx=\"1551.33\" cy=\"1435.41\" r=\"14\" fill=\"#009af9\" fill-rule=\"evenodd\" fill-opacity=\"1\" stroke=\"#000000\" stroke-opacity=\"1\" stroke-width=\"3.2\"/>\n",
       "<circle clip-path=\"url(#clip942)\" cx=\"1575.18\" cy=\"1433.15\" r=\"14\" fill=\"#009af9\" fill-rule=\"evenodd\" fill-opacity=\"1\" stroke=\"#000000\" stroke-opacity=\"1\" stroke-width=\"3.2\"/>\n",
       "<circle clip-path=\"url(#clip942)\" cx=\"1599.02\" cy=\"942.374\" r=\"14\" fill=\"#009af9\" fill-rule=\"evenodd\" fill-opacity=\"1\" stroke=\"#000000\" stroke-opacity=\"1\" stroke-width=\"3.2\"/>\n",
       "<circle clip-path=\"url(#clip942)\" cx=\"1622.87\" cy=\"1444.21\" r=\"14\" fill=\"#009af9\" fill-rule=\"evenodd\" fill-opacity=\"1\" stroke=\"#000000\" stroke-opacity=\"1\" stroke-width=\"3.2\"/>\n",
       "<circle clip-path=\"url(#clip942)\" cx=\"1646.72\" cy=\"1440.19\" r=\"14\" fill=\"#009af9\" fill-rule=\"evenodd\" fill-opacity=\"1\" stroke=\"#000000\" stroke-opacity=\"1\" stroke-width=\"3.2\"/>\n",
       "<circle clip-path=\"url(#clip942)\" cx=\"1670.56\" cy=\"1441.19\" r=\"14\" fill=\"#009af9\" fill-rule=\"evenodd\" fill-opacity=\"1\" stroke=\"#000000\" stroke-opacity=\"1\" stroke-width=\"3.2\"/>\n",
       "<circle clip-path=\"url(#clip942)\" cx=\"1694.41\" cy=\"1442.45\" r=\"14\" fill=\"#009af9\" fill-rule=\"evenodd\" fill-opacity=\"1\" stroke=\"#000000\" stroke-opacity=\"1\" stroke-width=\"3.2\"/>\n",
       "<circle clip-path=\"url(#clip942)\" cx=\"1718.26\" cy=\"1445.72\" r=\"14\" fill=\"#009af9\" fill-rule=\"evenodd\" fill-opacity=\"1\" stroke=\"#000000\" stroke-opacity=\"1\" stroke-width=\"3.2\"/>\n",
       "<circle clip-path=\"url(#clip942)\" cx=\"1742.11\" cy=\"1441.19\" r=\"14\" fill=\"#009af9\" fill-rule=\"evenodd\" fill-opacity=\"1\" stroke=\"#000000\" stroke-opacity=\"1\" stroke-width=\"3.2\"/>\n",
       "<circle clip-path=\"url(#clip942)\" cx=\"1765.95\" cy=\"1443.2\" r=\"14\" fill=\"#009af9\" fill-rule=\"evenodd\" fill-opacity=\"1\" stroke=\"#000000\" stroke-opacity=\"1\" stroke-width=\"3.2\"/>\n",
       "<circle clip-path=\"url(#clip942)\" cx=\"1789.8\" cy=\"1267.05\" r=\"14\" fill=\"#009af9\" fill-rule=\"evenodd\" fill-opacity=\"1\" stroke=\"#000000\" stroke-opacity=\"1\" stroke-width=\"3.2\"/>\n",
       "<circle clip-path=\"url(#clip942)\" cx=\"1813.65\" cy=\"1140.65\" r=\"14\" fill=\"#009af9\" fill-rule=\"evenodd\" fill-opacity=\"1\" stroke=\"#000000\" stroke-opacity=\"1\" stroke-width=\"3.2\"/>\n",
       "<circle clip-path=\"url(#clip942)\" cx=\"1837.49\" cy=\"1436.17\" r=\"14\" fill=\"#009af9\" fill-rule=\"evenodd\" fill-opacity=\"1\" stroke=\"#000000\" stroke-opacity=\"1\" stroke-width=\"3.2\"/>\n",
       "<circle clip-path=\"url(#clip942)\" cx=\"1861.34\" cy=\"1437.17\" r=\"14\" fill=\"#009af9\" fill-rule=\"evenodd\" fill-opacity=\"1\" stroke=\"#000000\" stroke-opacity=\"1\" stroke-width=\"3.2\"/>\n",
       "<circle clip-path=\"url(#clip942)\" cx=\"1885.19\" cy=\"933.001\" r=\"14\" fill=\"#009af9\" fill-rule=\"evenodd\" fill-opacity=\"1\" stroke=\"#000000\" stroke-opacity=\"1\" stroke-width=\"3.2\"/>\n",
       "<circle clip-path=\"url(#clip942)\" cx=\"1909.03\" cy=\"1440.79\" r=\"14\" fill=\"#009af9\" fill-rule=\"evenodd\" fill-opacity=\"1\" stroke=\"#000000\" stroke-opacity=\"1\" stroke-width=\"3.2\"/>\n",
       "<circle clip-path=\"url(#clip942)\" cx=\"1932.88\" cy=\"1440.82\" r=\"14\" fill=\"#009af9\" fill-rule=\"evenodd\" fill-opacity=\"1\" stroke=\"#000000\" stroke-opacity=\"1\" stroke-width=\"3.2\"/>\n",
       "<circle clip-path=\"url(#clip942)\" cx=\"1956.73\" cy=\"1441.02\" r=\"14\" fill=\"#009af9\" fill-rule=\"evenodd\" fill-opacity=\"1\" stroke=\"#000000\" stroke-opacity=\"1\" stroke-width=\"3.2\"/>\n",
       "<circle clip-path=\"url(#clip942)\" cx=\"1980.58\" cy=\"1441.07\" r=\"14\" fill=\"#009af9\" fill-rule=\"evenodd\" fill-opacity=\"1\" stroke=\"#000000\" stroke-opacity=\"1\" stroke-width=\"3.2\"/>\n",
       "<circle clip-path=\"url(#clip942)\" cx=\"2004.42\" cy=\"1440.79\" r=\"14\" fill=\"#009af9\" fill-rule=\"evenodd\" fill-opacity=\"1\" stroke=\"#000000\" stroke-opacity=\"1\" stroke-width=\"3.2\"/>\n",
       "<circle clip-path=\"url(#clip942)\" cx=\"2028.27\" cy=\"1335.85\" r=\"14\" fill=\"#009af9\" fill-rule=\"evenodd\" fill-opacity=\"1\" stroke=\"#000000\" stroke-opacity=\"1\" stroke-width=\"3.2\"/>\n",
       "<circle clip-path=\"url(#clip942)\" cx=\"2052.12\" cy=\"1440.46\" r=\"14\" fill=\"#009af9\" fill-rule=\"evenodd\" fill-opacity=\"1\" stroke=\"#000000\" stroke-opacity=\"1\" stroke-width=\"3.2\"/>\n",
       "<circle clip-path=\"url(#clip942)\" cx=\"2075.96\" cy=\"1373.47\" r=\"14\" fill=\"#009af9\" fill-rule=\"evenodd\" fill-opacity=\"1\" stroke=\"#000000\" stroke-opacity=\"1\" stroke-width=\"3.2\"/>\n",
       "<circle clip-path=\"url(#clip942)\" cx=\"2099.81\" cy=\"1440.26\" r=\"14\" fill=\"#009af9\" fill-rule=\"evenodd\" fill-opacity=\"1\" stroke=\"#000000\" stroke-opacity=\"1\" stroke-width=\"3.2\"/>\n",
       "<circle clip-path=\"url(#clip942)\" cx=\"2123.66\" cy=\"1440.16\" r=\"14\" fill=\"#009af9\" fill-rule=\"evenodd\" fill-opacity=\"1\" stroke=\"#000000\" stroke-opacity=\"1\" stroke-width=\"3.2\"/>\n",
       "<circle clip-path=\"url(#clip942)\" cx=\"2147.5\" cy=\"1440.26\" r=\"14\" fill=\"#009af9\" fill-rule=\"evenodd\" fill-opacity=\"1\" stroke=\"#000000\" stroke-opacity=\"1\" stroke-width=\"3.2\"/>\n",
       "<circle clip-path=\"url(#clip942)\" cx=\"2171.35\" cy=\"1440.34\" r=\"14\" fill=\"#009af9\" fill-rule=\"evenodd\" fill-opacity=\"1\" stroke=\"#000000\" stroke-opacity=\"1\" stroke-width=\"3.2\"/>\n",
       "<circle clip-path=\"url(#clip942)\" cx=\"2195.2\" cy=\"1440.41\" r=\"14\" fill=\"#009af9\" fill-rule=\"evenodd\" fill-opacity=\"1\" stroke=\"#000000\" stroke-opacity=\"1\" stroke-width=\"3.2\"/>\n",
       "<circle clip-path=\"url(#clip942)\" cx=\"2219.05\" cy=\"1440.56\" r=\"14\" fill=\"#009af9\" fill-rule=\"evenodd\" fill-opacity=\"1\" stroke=\"#000000\" stroke-opacity=\"1\" stroke-width=\"3.2\"/>\n",
       "<circle clip-path=\"url(#clip942)\" cx=\"2242.89\" cy=\"1440.66\" r=\"14\" fill=\"#009af9\" fill-rule=\"evenodd\" fill-opacity=\"1\" stroke=\"#000000\" stroke-opacity=\"1\" stroke-width=\"3.2\"/>\n",
       "<circle clip-path=\"url(#clip942)\" cx=\"2266.74\" cy=\"1440.61\" r=\"14\" fill=\"#009af9\" fill-rule=\"evenodd\" fill-opacity=\"1\" stroke=\"#000000\" stroke-opacity=\"1\" stroke-width=\"3.2\"/>\n",
       "<circle clip-path=\"url(#clip942)\" cx=\"2290.59\" cy=\"1440.69\" r=\"14\" fill=\"#009af9\" fill-rule=\"evenodd\" fill-opacity=\"1\" stroke=\"#000000\" stroke-opacity=\"1\" stroke-width=\"3.2\"/>\n",
       "<polyline clip-path=\"url(#clip942)\" style=\"stroke:#e26f46; stroke-linecap:butt; stroke-linejoin:round; stroke-width:4; stroke-opacity:1; fill:none\" points=\"\n",
       "  218.281,1441.13 220.666,1441.13 223.051,1441.13 225.435,1441.13 227.82,1441.13 230.205,1343.94 232.589,1343.94 234.974,1343.94 237.359,1343.94 239.744,1343.94 \n",
       "  242.128,1343.94 244.513,1343.94 246.898,1343.94 249.282,1343.94 251.667,158.841 254.052,158.841 256.437,158.841 258.821,158.841 261.206,158.841 263.591,158.841 \n",
       "  265.975,158.841 268.36,158.841 270.745,158.841 273.129,158.841 275.514,186.484 277.899,186.484 280.284,186.484 282.668,186.484 285.053,186.484 287.438,186.484 \n",
       "  289.822,186.484 292.207,186.484 294.592,186.484 296.976,186.484 299.361,209.1 301.746,209.1 304.131,209.1 306.515,209.1 308.9,209.1 311.285,209.1 \n",
       "  313.669,209.1 316.054,209.1 318.439,209.1 320.823,209.1 323.208,233.224 325.593,233.224 327.978,233.224 330.362,233.224 332.747,233.224 335.132,233.224 \n",
       "  337.516,233.224 339.901,233.224 342.286,233.224 344.67,233.224 347.055,261.62 349.44,261.62 351.825,261.62 354.209,261.62 356.594,261.62 358.979,261.62 \n",
       "  361.363,261.62 363.748,261.62 366.133,261.62 368.517,261.62 370.902,288.006 373.287,288.006 375.672,288.006 378.056,288.006 380.441,288.006 382.826,288.006 \n",
       "  385.21,288.006 387.595,288.006 389.98,288.006 392.364,288.006 394.749,890.105 397.134,890.105 399.519,890.105 401.903,890.105 404.288,890.105 406.673,890.105 \n",
       "  409.057,890.105 411.442,890.105 413.827,890.105 416.211,890.105 418.596,338.768 420.981,338.768 423.366,338.768 425.75,338.768 428.135,338.768 430.52,338.768 \n",
       "  432.904,338.768 435.289,338.768 437.674,338.768 440.059,338.768 442.443,87.9763 444.828,87.9763 447.213,87.9763 449.597,87.9763 451.982,87.9763 454.367,87.9763 \n",
       "  456.751,87.9763 459.136,87.9763 461.521,87.9763 463.906,87.9763 466.29,117.378 468.675,117.378 471.06,117.378 473.444,117.378 475.829,117.378 478.214,117.378 \n",
       "  480.598,117.378 482.983,117.378 485.368,117.378 487.753,117.378 490.137,154.82 492.522,154.82 494.907,154.82 497.291,154.82 499.676,154.82 502.061,154.82 \n",
       "  504.445,154.82 506.83,154.82 509.215,154.82 511.6,154.82 513.984,177.436 516.369,177.436 518.754,177.436 521.138,177.436 523.523,177.436 525.908,177.436 \n",
       "  528.292,177.436 530.677,177.436 533.062,177.436 535.447,177.436 537.831,204.576 540.216,204.576 542.601,204.576 544.985,204.576 547.37,204.576 549.755,204.576 \n",
       "  552.139,204.576 554.524,204.576 556.909,204.576 559.294,204.576 561.678,228.198 564.063,228.198 566.448,228.198 568.832,228.198 571.217,228.198 573.602,228.198 \n",
       "  575.986,228.198 578.371,228.198 580.756,228.198 583.141,228.198 585.525,251.066 587.91,251.066 590.295,251.066 592.679,251.066 595.064,251.066 597.449,251.066 \n",
       "  599.834,251.066 602.218,251.066 604.603,251.066 606.988,251.066 609.372,278.205 611.757,278.205 614.142,278.205 616.526,278.205 618.911,278.205 621.296,278.205 \n",
       "  623.681,278.205 626.065,278.205 628.45,278.205 630.835,278.205 633.219,297.555 635.604,297.555 637.989,297.555 640.373,297.555 642.758,297.555 645.143,297.555 \n",
       "  647.528,297.555 649.912,297.555 652.297,297.555 654.682,297.555 657.066,319.418 659.451,319.418 661.836,319.418 664.22,319.418 666.605,319.418 668.99,319.418 \n",
       "  671.375,319.418 673.759,319.418 676.144,319.418 678.529,319.418 680.913,342.285 683.298,342.285 685.683,342.285 688.067,342.285 690.452,342.285 692.837,342.285 \n",
       "  695.222,342.285 697.606,342.285 699.991,342.285 702.376,342.285 704.76,355.603 707.145,355.603 709.53,355.603 711.914,355.603 714.299,355.603 716.684,355.603 \n",
       "  719.069,355.603 721.453,355.603 723.838,355.603 726.223,355.603 728.607,89.7349 730.992,89.7349 733.377,89.7349 735.761,89.7349 738.146,89.7349 740.531,89.7349 \n",
       "  742.916,89.7349 745.3,89.7349 747.685,89.7349 750.07,89.7349 752.454,105.316 754.839,105.316 757.224,105.316 759.608,105.316 761.993,105.316 764.378,105.316 \n",
       "  766.763,105.316 769.147,105.316 771.532,105.316 773.917,105.316 776.301,120.645 778.686,120.645 781.071,120.645 783.456,120.645 785.84,120.645 788.225,120.645 \n",
       "  790.61,120.645 792.994,120.645 795.379,120.645 797.764,120.645 800.148,144.014 802.533,144.014 804.918,144.014 807.303,144.014 809.687,144.014 812.072,144.014 \n",
       "  814.457,144.014 816.841,144.014 819.226,144.014 821.611,144.014 823.995,173.918 826.38,173.918 828.765,173.918 831.15,173.918 833.534,173.918 835.919,173.918 \n",
       "  838.304,173.918 840.688,173.918 843.073,173.918 845.458,173.918 847.842,190.001 850.227,190.001 852.612,190.001 854.997,190.001 857.381,190.001 859.766,190.001 \n",
       "  862.151,190.001 864.535,190.001 866.92,190.001 869.305,190.001 871.689,205.079 874.074,205.079 876.459,205.079 878.844,205.079 881.228,205.079 883.613,205.079 \n",
       "  885.998,205.079 888.382,205.079 890.767,205.079 893.152,205.079 895.536,229.203 897.921,229.203 900.306,229.203 902.691,229.203 905.075,229.203 907.46,229.203 \n",
       "  909.845,229.203 912.229,229.203 914.614,229.203 916.999,229.203 919.383,256.846 921.768,256.846 924.153,256.846 926.538,256.846 928.922,256.846 931.307,256.846 \n",
       "  933.692,256.846 936.076,256.846 938.461,256.846 940.846,256.846 943.23,274.938 945.615,274.938 948,274.938 950.385,274.938 952.769,274.938 955.154,274.938 \n",
       "  957.539,274.938 959.923,274.938 962.308,274.938 964.693,274.938 967.078,290.268 969.462,290.268 971.847,290.268 974.232,290.268 976.616,290.268 979.001,290.268 \n",
       "  981.386,290.268 983.77,290.268 986.155,290.268 988.54,290.268 990.925,1126.82 993.309,1126.82 995.694,1126.82 998.079,1126.82 1000.46,1126.82 1002.85,1126.82 \n",
       "  1005.23,1126.82 1007.62,1126.82 1010,1126.82 1012.39,1126.82 1014.77,895.131 1017.16,895.131 1019.54,895.131 1021.93,895.131 1024.31,895.131 1026.7,895.131 \n",
       "  1029.08,895.131 1031.46,895.131 1033.85,895.131 1036.23,895.131 1038.62,224.177 1041,224.177 1043.39,224.177 1045.77,224.177 1048.16,224.177 1050.54,224.177 \n",
       "  1052.93,224.177 1055.31,224.177 1057.7,224.177 1060.08,224.177 1062.47,1120.34 1064.85,1120.34 1067.23,1120.34 1069.62,1120.34 1072,1120.34 1074.39,1120.34 \n",
       "  1076.77,1120.34 1079.16,1120.34 1081.54,1120.34 1083.93,1120.34 1086.31,1440.19 1088.7,1440.19 1091.08,1440.19 1093.47,1440.19 1095.85,1440.19 1098.24,1440.19 \n",
       "  1100.62,1440.19 1103.01,1440.19 1105.39,1440.19 1107.77,1440.19 1110.16,1440.66 1112.54,1440.66 1114.93,1440.66 1117.31,1440.66 1119.7,1440.66 1122.08,1440.66 \n",
       "  1124.47,1440.66 1126.85,1440.66 1129.24,1440.66 1131.62,1440.66 1134.01,1440.59 1136.39,1440.59 1138.78,1440.59 1141.16,1440.59 1143.55,1440.59 1145.93,1440.59 \n",
       "  1148.31,1440.59 1150.7,1440.59 1153.08,1440.59 1155.47,1440.59 1157.85,1440.64 1160.24,1440.64 1162.62,1440.64 1165.01,1440.64 1167.39,1440.64 1169.78,1440.64 \n",
       "  1172.16,1440.64 1174.55,1440.64 1176.93,1440.64 1179.32,1440.64 1181.7,1440.77 1184.09,1440.77 1186.47,1440.77 1188.85,1440.77 1191.24,1440.77 1193.62,1440.77 \n",
       "  1196.01,1440.77 1198.39,1440.77 1200.78,1440.77 1203.16,1440.77 1205.55,1172.74 1207.93,1172.74 1210.32,1172.74 1212.7,1172.74 1215.09,1172.74 1217.47,1172.74 \n",
       "  1219.86,1172.74 1222.24,1172.74 1224.63,1172.74 1227.01,1172.74 1229.39,262.876 1231.78,262.876 1234.16,262.876 1236.55,262.876 1238.93,262.876 1241.32,262.876 \n",
       "  1243.7,262.876 1246.09,262.876 1248.47,262.876 1250.86,262.876 1253.24,517.186 1255.63,517.186 1258.01,517.186 1260.4,517.186 1262.78,517.186 1265.17,517.186 \n",
       "  1267.55,517.186 1269.93,517.186 1272.32,517.186 1274.7,517.186 1277.09,918.602 1279.47,918.602 1281.86,918.602 1284.24,918.602 1286.63,918.602 1289.01,918.602 \n",
       "  1291.4,918.602 1293.78,918.602 1296.17,918.602 1298.55,918.602 1300.94,1440.24 1303.32,1440.24 1305.71,1440.24 1308.09,1440.24 1310.47,1440.24 1312.86,1440.24 \n",
       "  1315.24,1440.24 1317.63,1440.24 1320.01,1440.24 1322.4,1440.24 1324.78,1440.26 1327.17,1440.26 1329.55,1440.26 1331.94,1440.26 1334.32,1440.26 1336.71,1440.26 \n",
       "  1339.09,1440.26 1341.48,1440.26 1343.86,1440.26 1346.25,1440.26 1348.63,1440.34 1351.01,1440.34 1353.4,1440.34 1355.78,1440.34 1358.17,1440.34 1360.55,1440.34 \n",
       "  1362.94,1440.34 1365.32,1440.34 1367.71,1440.34 1370.09,1440.34 1372.48,1440.64 1374.86,1440.64 1377.25,1440.64 1379.63,1440.64 1382.02,1440.64 1384.4,1440.64 \n",
       "  1386.78,1440.64 1389.17,1440.64 1391.55,1440.64 1393.94,1440.64 1396.32,1440.66 1398.71,1440.66 1401.09,1440.66 1403.48,1440.66 1405.86,1440.66 1408.25,1440.66 \n",
       "  1410.63,1440.66 1413.02,1440.66 1415.4,1440.66 1417.79,1440.66 1420.17,1440.77 1422.56,1440.77 1424.94,1440.77 1427.32,1440.77 1429.71,1440.77 1432.09,1440.77 \n",
       "  1434.48,1440.77 1436.86,1440.77 1439.25,1440.77 1441.63,1440.77 1444.02,1209.55 1446.4,1209.55 1448.79,1209.55 1451.17,1209.55 1453.56,1209.55 1455.94,1209.55 \n",
       "  1458.33,1209.55 1460.71,1209.55 1463.1,1209.55 1465.48,1209.55 1467.86,667.71 1470.25,667.71 1472.63,667.71 1475.02,667.71 1477.4,667.71 1479.79,667.71 \n",
       "  1482.17,667.71 1484.56,667.71 1486.94,667.71 1489.33,667.71 1491.71,1433.65 1494.1,1433.65 1496.48,1433.65 1498.87,1433.65 1501.25,1433.65 1503.64,1433.65 \n",
       "  1506.02,1433.65 1508.4,1433.65 1510.79,1433.65 1513.17,1433.65 1515.56,1433.65 1517.94,1433.65 1520.33,1433.65 1522.71,1433.65 1525.1,1433.65 1527.48,1433.65 \n",
       "  1529.87,1433.65 1532.25,1433.65 1534.64,1433.65 1537.02,1433.65 1539.41,1435.41 1541.79,1435.41 1544.18,1435.41 1546.56,1435.41 1548.94,1435.41 1551.33,1435.41 \n",
       "  1553.71,1435.41 1556.1,1435.41 1558.48,1435.41 1560.87,1435.41 1563.25,1433.15 1565.64,1433.15 1568.02,1433.15 1570.41,1433.15 1572.79,1433.15 1575.18,1433.15 \n",
       "  1577.56,1433.15 1579.95,1433.15 1582.33,1433.15 1584.72,1433.15 1587.1,942.374 1589.48,942.374 1591.87,942.374 1594.25,942.374 1596.64,942.374 1599.02,942.374 \n",
       "  1601.41,942.374 1603.79,942.374 1606.18,942.374 1608.56,942.374 1610.95,1444.21 1613.33,1444.21 1615.72,1444.21 1618.1,1444.21 1620.49,1444.21 1622.87,1444.21 \n",
       "  1625.26,1444.21 1627.64,1444.21 1630.02,1444.21 1632.41,1444.21 1634.79,1440.19 1637.18,1440.19 1639.56,1440.19 1641.95,1440.19 1644.33,1440.19 1646.72,1440.19 \n",
       "  1649.1,1440.19 1651.49,1440.19 1653.87,1440.19 1656.26,1440.19 1658.64,1441.19 1661.03,1441.19 1663.41,1441.19 1665.79,1441.19 1668.18,1441.19 1670.56,1441.19 \n",
       "  1672.95,1441.19 1675.33,1441.19 1677.72,1441.19 1680.1,1441.19 1682.49,1442.45 1684.87,1442.45 1687.26,1442.45 1689.64,1442.45 1692.03,1442.45 1694.41,1442.45 \n",
       "  1696.8,1442.45 1699.18,1442.45 1701.57,1442.45 1703.95,1442.45 1706.33,1445.72 1708.72,1445.72 1711.1,1445.72 1713.49,1445.72 1715.87,1445.72 1718.26,1445.72 \n",
       "  1720.64,1445.72 1723.03,1445.72 1725.41,1445.72 1727.8,1445.72 1730.18,1441.19 1732.57,1441.19 1734.95,1441.19 1737.34,1441.19 1739.72,1441.19 1742.11,1441.19 \n",
       "  1744.49,1441.19 1746.87,1441.19 1749.26,1441.19 1751.64,1441.19 1754.03,1443.2 1756.41,1443.2 1758.8,1443.2 1761.18,1443.2 1763.57,1443.2 1765.95,1443.2 \n",
       "  1768.34,1443.2 1770.72,1443.2 1773.11,1443.2 1775.49,1443.2 1777.88,1267.05 1780.26,1267.05 1782.65,1267.05 1785.03,1267.05 1787.41,1267.05 1789.8,1267.05 \n",
       "  1792.18,1267.05 1794.57,1267.05 1796.95,1267.05 1799.34,1267.05 1801.72,1140.65 1804.11,1140.65 1806.49,1140.65 1808.88,1140.65 1811.26,1140.65 1813.65,1140.65 \n",
       "  1816.03,1140.65 1818.42,1140.65 1820.8,1140.65 1823.19,1140.65 1825.57,1436.17 1827.95,1436.17 1830.34,1436.17 1832.72,1436.17 1835.11,1436.17 1837.49,1436.17 \n",
       "  1839.88,1436.17 1842.26,1436.17 1844.65,1436.17 1847.03,1436.17 1849.42,1437.17 1851.8,1437.17 1854.19,1437.17 1856.57,1437.17 1858.96,1437.17 1861.34,1437.17 \n",
       "  1863.73,1437.17 1866.11,1437.17 1868.49,1437.17 1870.88,1437.17 1873.26,933.001 1875.65,933.001 1878.03,933.001 1880.42,933.001 1882.8,933.001 1885.19,933.001 \n",
       "  1887.57,933.001 1889.96,933.001 1892.34,933.001 1894.73,933.001 1897.11,1440.79 1899.5,1440.79 1901.88,1440.79 1904.27,1440.79 1906.65,1440.79 1909.03,1440.79 \n",
       "  1911.42,1440.79 1913.8,1440.79 1916.19,1440.79 1918.57,1440.79 1920.96,1440.82 1923.34,1440.82 1925.73,1440.82 1928.11,1440.82 1930.5,1440.82 1932.88,1440.82 \n",
       "  1935.27,1440.82 1937.65,1440.82 1940.04,1440.82 1942.42,1440.82 1944.81,1441.02 1947.19,1441.02 1949.57,1441.02 1951.96,1441.02 1954.34,1441.02 1956.73,1441.02 \n",
       "  1959.11,1441.02 1961.5,1441.02 1963.88,1441.02 1966.27,1441.02 1968.65,1441.07 1971.04,1441.07 1973.42,1441.07 1975.81,1441.07 1978.19,1441.07 1980.58,1441.07 \n",
       "  1982.96,1441.07 1985.34,1441.07 1987.73,1441.07 1990.11,1441.07 1992.5,1440.79 1994.88,1440.79 1997.27,1440.79 1999.65,1440.79 2002.04,1440.79 2004.42,1440.79 \n",
       "  2006.81,1440.79 2009.19,1440.79 2011.58,1440.79 2013.96,1440.79 2016.35,1335.85 2018.73,1335.85 2021.12,1335.85 2023.5,1335.85 2025.88,1335.85 2028.27,1335.85 \n",
       "  2030.65,1335.85 2033.04,1335.85 2035.42,1335.85 2037.81,1335.85 2040.19,1440.46 2042.58,1440.46 2044.96,1440.46 2047.35,1440.46 2049.73,1440.46 2052.12,1440.46 \n",
       "  2054.5,1440.46 2056.89,1440.46 2059.27,1440.46 2061.66,1440.46 2064.04,1373.47 2066.42,1373.47 2068.81,1373.47 2071.19,1373.47 2073.58,1373.47 2075.96,1373.47 \n",
       "  2078.35,1373.47 2080.73,1373.47 2083.12,1373.47 2085.5,1373.47 2087.89,1440.26 2090.27,1440.26 2092.66,1440.26 2095.04,1440.26 2097.43,1440.26 2099.81,1440.26 \n",
       "  2102.2,1440.26 2104.58,1440.26 2106.96,1440.26 2109.35,1440.26 2111.73,1440.16 2114.12,1440.16 2116.5,1440.16 2118.89,1440.16 2121.27,1440.16 2123.66,1440.16 \n",
       "  2126.04,1440.16 2128.43,1440.16 2130.81,1440.16 2133.2,1440.16 2135.58,1440.26 2137.97,1440.26 2140.35,1440.26 2142.74,1440.26 2145.12,1440.26 2147.5,1440.26 \n",
       "  2149.89,1440.26 2152.27,1440.26 2154.66,1440.26 2157.04,1440.26 2159.43,1440.34 2161.81,1440.34 2164.2,1440.34 2166.58,1440.34 2168.97,1440.34 2171.35,1440.34 \n",
       "  2173.74,1440.34 2176.12,1440.34 2178.51,1440.34 2180.89,1440.34 2183.28,1440.41 2185.66,1440.41 2188.04,1440.41 2190.43,1440.41 2192.81,1440.41 2195.2,1440.41 \n",
       "  2197.58,1440.41 2199.97,1440.41 2202.35,1440.41 2204.74,1440.41 2207.12,1440.56 2209.51,1440.56 2211.89,1440.56 2214.28,1440.56 2216.66,1440.56 2219.05,1440.56 \n",
       "  2221.43,1440.56 2223.82,1440.56 2226.2,1440.56 2228.58,1440.56 2230.97,1440.66 2233.35,1440.66 2235.74,1440.66 2238.12,1440.66 2240.51,1440.66 2242.89,1440.66 \n",
       "  2245.28,1440.66 2247.66,1440.66 2250.05,1440.66 2252.43,1440.66 2254.82,1440.61 2257.2,1440.61 2259.59,1440.61 2261.97,1440.61 2264.36,1440.61 2266.74,1440.61 \n",
       "  2269.12,1440.61 2271.51,1440.61 2273.89,1440.61 2276.28,1440.61 2278.66,1440.69 2281.05,1440.69 2283.43,1440.69 2285.82,1440.69 2288.2,1440.69 2290.59,1440.69 \n",
       "  \n",
       "  \"/>\n",
       "<path clip-path=\"url(#clip940)\" d=\"\n",
       "M1987.1 250.738 L2279.53 250.738 L2279.53 95.2176 L1987.1 95.2176  Z\n",
       "  \" fill=\"#ffffff\" fill-rule=\"evenodd\" fill-opacity=\"1\"/>\n",
       "<polyline clip-path=\"url(#clip940)\" style=\"stroke:#000000; stroke-linecap:butt; stroke-linejoin:round; stroke-width:4; stroke-opacity:1; fill:none\" points=\"\n",
       "  1987.1,250.738 2279.53,250.738 2279.53,95.2176 1987.1,95.2176 1987.1,250.738 \n",
       "  \"/>\n",
       "<circle clip-path=\"url(#clip940)\" cx=\"2083.1\" cy=\"147.058\" r=\"23\" fill=\"#009af9\" fill-rule=\"evenodd\" fill-opacity=\"1\" stroke=\"#000000\" stroke-opacity=\"1\" stroke-width=\"5.12\"/>\n",
       "<path clip-path=\"url(#clip940)\" d=\"M2192.95 166.745 Q2191.14 171.375 2189.43 172.787 Q2187.72 174.199 2184.84 174.199 L2181.44 174.199 L2181.44 170.634 L2183.94 170.634 Q2185.7 170.634 2186.67 169.8 Q2187.65 168.967 2188.83 165.865 L2189.59 163.921 L2179.1 138.412 L2183.62 138.412 L2191.72 158.689 L2199.82 138.412 L2204.34 138.412 L2192.95 166.745 Z\" fill=\"#000000\" fill-rule=\"evenodd\" fill-opacity=\"1\" /><path clip-path=\"url(#clip940)\" d=\"M2211.63 160.402 L2219.27 160.402 L2219.27 134.037 L2210.96 135.703 L2210.96 131.444 L2219.22 129.778 L2223.9 129.778 L2223.9 160.402 L2231.53 160.402 L2231.53 164.338 L2211.63 164.338 L2211.63 160.402 Z\" fill=\"#000000\" fill-rule=\"evenodd\" fill-opacity=\"1\" /><polyline clip-path=\"url(#clip940)\" style=\"stroke:#e26f46; stroke-linecap:butt; stroke-linejoin:round; stroke-width:4; stroke-opacity:1; fill:none\" points=\"\n",
       "  2011.1,198.898 2155.1,198.898 \n",
       "  \"/>\n",
       "<path clip-path=\"url(#clip940)\" d=\"M2192.95 218.585 Q2191.14 223.215 2189.43 224.627 Q2187.72 226.039 2184.84 226.039 L2181.44 226.039 L2181.44 222.474 L2183.94 222.474 Q2185.7 222.474 2186.67 221.64 Q2187.65 220.807 2188.83 217.705 L2189.59 215.761 L2179.1 190.252 L2183.62 190.252 L2191.72 210.529 L2199.82 190.252 L2204.34 190.252 L2192.95 218.585 Z\" fill=\"#000000\" fill-rule=\"evenodd\" fill-opacity=\"1\" /><path clip-path=\"url(#clip940)\" d=\"M2214.84 212.242 L2231.16 212.242 L2231.16 216.178 L2209.22 216.178 L2209.22 212.242 Q2211.88 209.488 2216.47 204.858 Q2221.07 200.205 2222.25 198.863 Q2224.5 196.34 2225.38 194.604 Q2226.28 192.844 2226.28 191.155 Q2226.28 188.4 2224.34 186.664 Q2222.41 184.928 2219.31 184.928 Q2217.11 184.928 2214.66 185.692 Q2212.23 186.455 2209.45 188.006 L2209.45 183.284 Q2212.28 182.15 2214.73 181.571 Q2217.18 180.993 2219.22 180.993 Q2224.59 180.993 2227.78 183.678 Q2230.98 186.363 2230.98 190.854 Q2230.98 192.983 2230.17 194.905 Q2229.38 196.803 2227.28 199.395 Q2226.7 200.067 2223.59 203.284 Q2220.49 206.479 2214.84 212.242 Z\" fill=\"#000000\" fill-rule=\"evenodd\" fill-opacity=\"1\" /></svg>\n"
      ]
     },
     "execution_count": 12,
     "metadata": {},
     "output_type": "execute_result"
    }
   ],
   "source": [
    "plot(tQf, Qf, seriestype = :scatter)\n",
    "plot!(tQf_i, Qf_i)"
   ]
  },
  {
   "cell_type": "code",
   "execution_count": 13,
   "id": "thermal-liabilities",
   "metadata": {},
   "outputs": [
    {
     "data": {
      "text/html": [
       "<div class=\"data-frame\"><p>35 rows × 2 columns</p><table class=\"data-frame\"><thead><tr><th></th><th>tlc</th><th>lc</th></tr><tr><th></th><th title=\"Int64\">Int64</th><th title=\"Float64\">Float64</th></tr></thead><tbody><tr><th>1</th><td>414</td><td>0.1705</td></tr><tr><th>2</th><td>424</td><td>0.1604</td></tr><tr><th>3</th><td>434</td><td>0.1325</td></tr><tr><th>4</th><td>444</td><td>0.1084</td></tr><tr><th>5</th><td>493</td><td>0.1014</td></tr><tr><th>6</th><td>503</td><td>0.1042</td></tr><tr><th>7</th><td>513</td><td>0.1045</td></tr><tr><th>8</th><td>523</td><td>0.097</td></tr><tr><th>9</th><td>533</td><td>0.0824</td></tr><tr><th>10</th><td>582</td><td>0.0678</td></tr><tr><th>11</th><td>592</td><td>0.0697</td></tr><tr><th>12</th><td>602</td><td>0.0702</td></tr><tr><th>13</th><td>612</td><td>0.0692</td></tr><tr><th>14</th><td>621</td><td>0.0684</td></tr><tr><th>15</th><td>631</td><td>0.0675</td></tr><tr><th>16</th><td>641</td><td>0.0673</td></tr><tr><th>17</th><td>651</td><td>0.0673</td></tr><tr><th>18</th><td>661</td><td>0.0654</td></tr><tr><th>19</th><td>671</td><td>0.0577</td></tr><tr><th>20</th><td>681</td><td>0.0571</td></tr><tr><th>21</th><td>690</td><td>0.0563</td></tr><tr><th>22</th><td>700</td><td>0.0466</td></tr><tr><th>23</th><td>710</td><td>0.0455</td></tr><tr><th>24</th><td>720</td><td>0.0449</td></tr><tr><th>25</th><td>730</td><td>0.0456</td></tr><tr><th>26</th><td>740</td><td>0.045</td></tr><tr><th>27</th><td>750</td><td>0.0434</td></tr><tr><th>28</th><td>759</td><td>0.0428</td></tr><tr><th>29</th><td>769</td><td>0.0426</td></tr><tr><th>30</th><td>779</td><td>0.0409</td></tr><tr><th>&vellip;</th><td>&vellip;</td><td>&vellip;</td></tr></tbody></table></div>"
      ],
      "text/latex": [
       "\\begin{tabular}{r|cc}\n",
       "\t& tlc & lc\\\\\n",
       "\t\\hline\n",
       "\t& Int64 & Float64\\\\\n",
       "\t\\hline\n",
       "\t1 & 414 & 0.1705 \\\\\n",
       "\t2 & 424 & 0.1604 \\\\\n",
       "\t3 & 434 & 0.1325 \\\\\n",
       "\t4 & 444 & 0.1084 \\\\\n",
       "\t5 & 493 & 0.1014 \\\\\n",
       "\t6 & 503 & 0.1042 \\\\\n",
       "\t7 & 513 & 0.1045 \\\\\n",
       "\t8 & 523 & 0.097 \\\\\n",
       "\t9 & 533 & 0.0824 \\\\\n",
       "\t10 & 582 & 0.0678 \\\\\n",
       "\t11 & 592 & 0.0697 \\\\\n",
       "\t12 & 602 & 0.0702 \\\\\n",
       "\t13 & 612 & 0.0692 \\\\\n",
       "\t14 & 621 & 0.0684 \\\\\n",
       "\t15 & 631 & 0.0675 \\\\\n",
       "\t16 & 641 & 0.0673 \\\\\n",
       "\t17 & 651 & 0.0673 \\\\\n",
       "\t18 & 661 & 0.0654 \\\\\n",
       "\t19 & 671 & 0.0577 \\\\\n",
       "\t20 & 681 & 0.0571 \\\\\n",
       "\t21 & 690 & 0.0563 \\\\\n",
       "\t22 & 700 & 0.0466 \\\\\n",
       "\t23 & 710 & 0.0455 \\\\\n",
       "\t24 & 720 & 0.0449 \\\\\n",
       "\t25 & 730 & 0.0456 \\\\\n",
       "\t26 & 740 & 0.045 \\\\\n",
       "\t27 & 750 & 0.0434 \\\\\n",
       "\t28 & 759 & 0.0428 \\\\\n",
       "\t29 & 769 & 0.0426 \\\\\n",
       "\t30 & 779 & 0.0409 \\\\\n",
       "\t$\\dots$ & $\\dots$ & $\\dots$ \\\\\n",
       "\\end{tabular}\n"
      ],
      "text/plain": [
       "\u001b[1m35×2 DataFrame\u001b[0m\n",
       "\u001b[1m Row \u001b[0m│\u001b[1m tlc   \u001b[0m\u001b[1m lc      \u001b[0m\n",
       "\u001b[1m     \u001b[0m│\u001b[90m Int64 \u001b[0m\u001b[90m Float64 \u001b[0m\n",
       "─────┼────────────────\n",
       "   1 │   414   0.1705\n",
       "   2 │   424   0.1604\n",
       "   3 │   434   0.1325\n",
       "   4 │   444   0.1084\n",
       "   5 │   493   0.1014\n",
       "   6 │   503   0.1042\n",
       "   7 │   513   0.1045\n",
       "   8 │   523   0.097\n",
       "   9 │   533   0.0824\n",
       "  10 │   582   0.0678\n",
       "  11 │   592   0.0697\n",
       "  ⋮  │   ⋮       ⋮\n",
       "  26 │   740   0.045\n",
       "  27 │   750   0.0434\n",
       "  28 │   759   0.0428\n",
       "  29 │   769   0.0426\n",
       "  30 │   779   0.0409\n",
       "  31 │   789   0.0399\n",
       "  32 │   799   0.0397\n",
       "  33 │   848   0.0394\n",
       "  34 │   858   0.0374\n",
       "  35 │   868   0.0371\n",
       "\u001b[36m       14 rows omitted\u001b[0m"
      ]
     },
     "execution_count": 13,
     "metadata": {},
     "output_type": "execute_result"
    }
   ],
   "source": [
    "lc_data = CSV.read(\"data_sets/lc.dat\", header = [\"tlc\", \"lc\"], DataFrame, delim = \" \", ignorerepeated = true)"
   ]
  },
  {
   "cell_type": "code",
   "execution_count": 14,
   "id": "nuclear-uniform",
   "metadata": {},
   "outputs": [
    {
     "data": {
      "image/svg+xml": [
       "<?xml version=\"1.0\" encoding=\"utf-8\"?>\n",
       "<svg xmlns=\"http://www.w3.org/2000/svg\" xmlns:xlink=\"http://www.w3.org/1999/xlink\" width=\"600\" height=\"400\" viewBox=\"0 0 2400 1600\">\n",
       "<defs>\n",
       "  <clipPath id=\"clip980\">\n",
       "    <rect x=\"0\" y=\"0\" width=\"2400\" height=\"1600\"/>\n",
       "  </clipPath>\n",
       "</defs>\n",
       "<path clip-path=\"url(#clip980)\" d=\"\n",
       "M0 1600 L2400 1600 L2400 0 L0 0  Z\n",
       "  \" fill=\"#ffffff\" fill-rule=\"evenodd\" fill-opacity=\"1\"/>\n",
       "<defs>\n",
       "  <clipPath id=\"clip981\">\n",
       "    <rect x=\"480\" y=\"0\" width=\"1681\" height=\"1600\"/>\n",
       "  </clipPath>\n",
       "</defs>\n",
       "<path clip-path=\"url(#clip980)\" d=\"\n",
       "M216.436 1486.45 L2352.76 1486.45 L2352.76 47.2441 L216.436 47.2441  Z\n",
       "  \" fill=\"#ffffff\" fill-rule=\"evenodd\" fill-opacity=\"1\"/>\n",
       "<defs>\n",
       "  <clipPath id=\"clip982\">\n",
       "    <rect x=\"216\" y=\"47\" width=\"2137\" height=\"1440\"/>\n",
       "  </clipPath>\n",
       "</defs>\n",
       "<polyline clip-path=\"url(#clip982)\" style=\"stroke:#000000; stroke-linecap:butt; stroke-linejoin:round; stroke-width:2; stroke-opacity:0.1; fill:none\" points=\"\n",
       "  658.669,1486.45 658.669,47.2441 \n",
       "  \"/>\n",
       "<polyline clip-path=\"url(#clip982)\" style=\"stroke:#000000; stroke-linecap:butt; stroke-linejoin:round; stroke-width:2; stroke-opacity:0.1; fill:none\" points=\"\n",
       "  1102.59,1486.45 1102.59,47.2441 \n",
       "  \"/>\n",
       "<polyline clip-path=\"url(#clip982)\" style=\"stroke:#000000; stroke-linecap:butt; stroke-linejoin:round; stroke-width:2; stroke-opacity:0.1; fill:none\" points=\"\n",
       "  1546.51,1486.45 1546.51,47.2441 \n",
       "  \"/>\n",
       "<polyline clip-path=\"url(#clip982)\" style=\"stroke:#000000; stroke-linecap:butt; stroke-linejoin:round; stroke-width:2; stroke-opacity:0.1; fill:none\" points=\"\n",
       "  1990.43,1486.45 1990.43,47.2441 \n",
       "  \"/>\n",
       "<polyline clip-path=\"url(#clip980)\" style=\"stroke:#000000; stroke-linecap:butt; stroke-linejoin:round; stroke-width:4; stroke-opacity:1; fill:none\" points=\"\n",
       "  216.436,1486.45 2352.76,1486.45 \n",
       "  \"/>\n",
       "<polyline clip-path=\"url(#clip980)\" style=\"stroke:#000000; stroke-linecap:butt; stroke-linejoin:round; stroke-width:4; stroke-opacity:1; fill:none\" points=\"\n",
       "  658.669,1486.45 658.669,1467.55 \n",
       "  \"/>\n",
       "<polyline clip-path=\"url(#clip980)\" style=\"stroke:#000000; stroke-linecap:butt; stroke-linejoin:round; stroke-width:4; stroke-opacity:1; fill:none\" points=\"\n",
       "  1102.59,1486.45 1102.59,1467.55 \n",
       "  \"/>\n",
       "<polyline clip-path=\"url(#clip980)\" style=\"stroke:#000000; stroke-linecap:butt; stroke-linejoin:round; stroke-width:4; stroke-opacity:1; fill:none\" points=\"\n",
       "  1546.51,1486.45 1546.51,1467.55 \n",
       "  \"/>\n",
       "<polyline clip-path=\"url(#clip980)\" style=\"stroke:#000000; stroke-linecap:butt; stroke-linejoin:round; stroke-width:4; stroke-opacity:1; fill:none\" points=\"\n",
       "  1990.43,1486.45 1990.43,1467.55 \n",
       "  \"/>\n",
       "<path clip-path=\"url(#clip980)\" d=\"M618.287 1514.29 L636.644 1514.29 L636.644 1518.22 L622.57 1518.22 L622.57 1526.7 Q623.588 1526.35 624.607 1526.19 Q625.625 1526 626.644 1526 Q632.431 1526 635.81 1529.17 Q639.19 1532.34 639.19 1537.76 Q639.19 1543.34 635.718 1546.44 Q632.245 1549.52 625.926 1549.52 Q623.75 1549.52 621.482 1549.15 Q619.236 1548.78 616.829 1548.04 L616.829 1543.34 Q618.912 1544.47 621.134 1545.03 Q623.357 1545.58 625.833 1545.58 Q629.838 1545.58 632.176 1543.48 Q634.514 1541.37 634.514 1537.76 Q634.514 1534.15 632.176 1532.04 Q629.838 1529.94 625.833 1529.94 Q623.958 1529.94 622.083 1530.35 Q620.232 1530.77 618.287 1531.65 L618.287 1514.29 Z\" fill=\"#000000\" fill-rule=\"evenodd\" fill-opacity=\"1\" /><path clip-path=\"url(#clip980)\" d=\"M658.403 1517.37 Q654.792 1517.37 652.963 1520.93 Q651.157 1524.47 651.157 1531.6 Q651.157 1538.71 652.963 1542.27 Q654.792 1545.82 658.403 1545.82 Q662.037 1545.82 663.842 1542.27 Q665.671 1538.71 665.671 1531.6 Q665.671 1524.47 663.842 1520.93 Q662.037 1517.37 658.403 1517.37 M658.403 1513.66 Q664.213 1513.66 667.268 1518.27 Q670.347 1522.85 670.347 1531.6 Q670.347 1540.33 667.268 1544.94 Q664.213 1549.52 658.403 1549.52 Q652.593 1549.52 649.514 1544.94 Q646.458 1540.33 646.458 1531.6 Q646.458 1522.85 649.514 1518.27 Q652.593 1513.66 658.403 1513.66 Z\" fill=\"#000000\" fill-rule=\"evenodd\" fill-opacity=\"1\" /><path clip-path=\"url(#clip980)\" d=\"M688.565 1517.37 Q684.953 1517.37 683.125 1520.93 Q681.319 1524.47 681.319 1531.6 Q681.319 1538.71 683.125 1542.27 Q684.953 1545.82 688.565 1545.82 Q692.199 1545.82 694.004 1542.27 Q695.833 1538.71 695.833 1531.6 Q695.833 1524.47 694.004 1520.93 Q692.199 1517.37 688.565 1517.37 M688.565 1513.66 Q694.375 1513.66 697.43 1518.27 Q700.509 1522.85 700.509 1531.6 Q700.509 1540.33 697.43 1544.94 Q694.375 1549.52 688.565 1549.52 Q682.754 1549.52 679.676 1544.94 Q676.62 1540.33 676.62 1531.6 Q676.62 1522.85 679.676 1518.27 Q682.754 1513.66 688.565 1513.66 Z\" fill=\"#000000\" fill-rule=\"evenodd\" fill-opacity=\"1\" /><path clip-path=\"url(#clip980)\" d=\"M1072.91 1529.7 Q1069.76 1529.7 1067.91 1531.86 Q1066.08 1534.01 1066.08 1537.76 Q1066.08 1541.49 1067.91 1543.66 Q1069.76 1545.82 1072.91 1545.82 Q1076.06 1545.82 1077.89 1543.66 Q1079.74 1541.49 1079.74 1537.76 Q1079.74 1534.01 1077.89 1531.86 Q1076.06 1529.7 1072.91 1529.7 M1082.2 1515.05 L1082.2 1519.31 Q1080.44 1518.48 1078.63 1518.04 Q1076.85 1517.6 1075.09 1517.6 Q1070.46 1517.6 1068.01 1520.72 Q1065.58 1523.85 1065.23 1530.17 Q1066.59 1528.15 1068.65 1527.09 Q1070.71 1526 1073.19 1526 Q1078.4 1526 1081.41 1529.17 Q1084.44 1532.32 1084.44 1537.76 Q1084.44 1543.08 1081.29 1546.3 Q1078.14 1549.52 1072.91 1549.52 Q1066.92 1549.52 1063.75 1544.94 Q1060.58 1540.33 1060.58 1531.6 Q1060.58 1523.41 1064.46 1518.55 Q1068.35 1513.66 1074.9 1513.66 Q1076.66 1513.66 1078.45 1514.01 Q1080.25 1514.36 1082.2 1515.05 Z\" fill=\"#000000\" fill-rule=\"evenodd\" fill-opacity=\"1\" /><path clip-path=\"url(#clip980)\" d=\"M1102.5 1517.37 Q1098.89 1517.37 1097.06 1520.93 Q1095.25 1524.47 1095.25 1531.6 Q1095.25 1538.71 1097.06 1542.27 Q1098.89 1545.82 1102.5 1545.82 Q1106.13 1545.82 1107.94 1542.27 Q1109.76 1538.71 1109.76 1531.6 Q1109.76 1524.47 1107.94 1520.93 Q1106.13 1517.37 1102.5 1517.37 M1102.5 1513.66 Q1108.31 1513.66 1111.36 1518.27 Q1114.44 1522.85 1114.44 1531.6 Q1114.44 1540.33 1111.36 1544.94 Q1108.31 1549.52 1102.5 1549.52 Q1096.69 1549.52 1093.61 1544.94 Q1090.55 1540.33 1090.55 1531.6 Q1090.55 1522.85 1093.61 1518.27 Q1096.69 1513.66 1102.5 1513.66 Z\" fill=\"#000000\" fill-rule=\"evenodd\" fill-opacity=\"1\" /><path clip-path=\"url(#clip980)\" d=\"M1132.66 1517.37 Q1129.05 1517.37 1127.22 1520.93 Q1125.41 1524.47 1125.41 1531.6 Q1125.41 1538.71 1127.22 1542.27 Q1129.05 1545.82 1132.66 1545.82 Q1136.29 1545.82 1138.1 1542.27 Q1139.93 1538.71 1139.93 1531.6 Q1139.93 1524.47 1138.1 1520.93 Q1136.29 1517.37 1132.66 1517.37 M1132.66 1513.66 Q1138.47 1513.66 1141.52 1518.27 Q1144.6 1522.85 1144.6 1531.6 Q1144.6 1540.33 1141.52 1544.94 Q1138.47 1549.52 1132.66 1549.52 Q1126.85 1549.52 1123.77 1544.94 Q1120.71 1540.33 1120.71 1531.6 Q1120.71 1522.85 1123.77 1518.27 Q1126.85 1513.66 1132.66 1513.66 Z\" fill=\"#000000\" fill-rule=\"evenodd\" fill-opacity=\"1\" /><path clip-path=\"url(#clip980)\" d=\"M1504.78 1514.29 L1527.01 1514.29 L1527.01 1516.28 L1514.46 1548.85 L1509.58 1548.85 L1521.38 1518.22 L1504.78 1518.22 L1504.78 1514.29 Z\" fill=\"#000000\" fill-rule=\"evenodd\" fill-opacity=\"1\" /><path clip-path=\"url(#clip980)\" d=\"M1546.13 1517.37 Q1542.52 1517.37 1540.69 1520.93 Q1538.88 1524.47 1538.88 1531.6 Q1538.88 1538.71 1540.69 1542.27 Q1542.52 1545.82 1546.13 1545.82 Q1549.76 1545.82 1551.57 1542.27 Q1553.4 1538.71 1553.4 1531.6 Q1553.4 1524.47 1551.57 1520.93 Q1549.76 1517.37 1546.13 1517.37 M1546.13 1513.66 Q1551.94 1513.66 1554.99 1518.27 Q1558.07 1522.85 1558.07 1531.6 Q1558.07 1540.33 1554.99 1544.94 Q1551.94 1549.52 1546.13 1549.52 Q1540.32 1549.52 1537.24 1544.94 Q1534.18 1540.33 1534.18 1531.6 Q1534.18 1522.85 1537.24 1518.27 Q1540.32 1513.66 1546.13 1513.66 Z\" fill=\"#000000\" fill-rule=\"evenodd\" fill-opacity=\"1\" /><path clip-path=\"url(#clip980)\" d=\"M1576.29 1517.37 Q1572.68 1517.37 1570.85 1520.93 Q1569.04 1524.47 1569.04 1531.6 Q1569.04 1538.71 1570.85 1542.27 Q1572.68 1545.82 1576.29 1545.82 Q1579.92 1545.82 1581.73 1542.27 Q1583.56 1538.71 1583.56 1531.6 Q1583.56 1524.47 1581.73 1520.93 Q1579.92 1517.37 1576.29 1517.37 M1576.29 1513.66 Q1582.1 1513.66 1585.15 1518.27 Q1588.23 1522.85 1588.23 1531.6 Q1588.23 1540.33 1585.15 1544.94 Q1582.1 1549.52 1576.29 1549.52 Q1570.48 1549.52 1567.4 1544.94 Q1564.34 1540.33 1564.34 1531.6 Q1564.34 1522.85 1567.4 1518.27 Q1570.48 1513.66 1576.29 1513.66 Z\" fill=\"#000000\" fill-rule=\"evenodd\" fill-opacity=\"1\" /><path clip-path=\"url(#clip980)\" d=\"M1960.22 1532.44 Q1956.89 1532.44 1954.97 1534.22 Q1953.07 1536 1953.07 1539.13 Q1953.07 1542.25 1954.97 1544.03 Q1956.89 1545.82 1960.22 1545.82 Q1963.55 1545.82 1965.47 1544.03 Q1967.4 1542.23 1967.4 1539.13 Q1967.4 1536 1965.47 1534.22 Q1963.58 1532.44 1960.22 1532.44 M1955.54 1530.45 Q1952.54 1529.7 1950.85 1527.64 Q1949.18 1525.58 1949.18 1522.62 Q1949.18 1518.48 1952.12 1516.07 Q1955.08 1513.66 1960.22 1513.66 Q1965.38 1513.66 1968.32 1516.07 Q1971.26 1518.48 1971.26 1522.62 Q1971.26 1525.58 1969.57 1527.64 Q1967.91 1529.7 1964.92 1530.45 Q1968.3 1531.23 1970.17 1533.52 Q1972.07 1535.82 1972.07 1539.13 Q1972.07 1544.15 1968.99 1546.83 Q1965.94 1549.52 1960.22 1549.52 Q1954.5 1549.52 1951.42 1546.83 Q1948.37 1544.15 1948.37 1539.13 Q1948.37 1535.82 1950.27 1533.52 Q1952.16 1531.23 1955.54 1530.45 M1953.83 1523.06 Q1953.83 1525.75 1955.5 1527.25 Q1957.19 1528.76 1960.22 1528.76 Q1963.23 1528.76 1964.92 1527.25 Q1966.63 1525.75 1966.63 1523.06 Q1966.63 1520.38 1964.92 1518.87 Q1963.23 1517.37 1960.22 1517.37 Q1957.19 1517.37 1955.5 1518.87 Q1953.83 1520.38 1953.83 1523.06 Z\" fill=\"#000000\" fill-rule=\"evenodd\" fill-opacity=\"1\" /><path clip-path=\"url(#clip980)\" d=\"M1990.38 1517.37 Q1986.77 1517.37 1984.94 1520.93 Q1983.14 1524.47 1983.14 1531.6 Q1983.14 1538.71 1984.94 1542.27 Q1986.77 1545.82 1990.38 1545.82 Q1994.02 1545.82 1995.82 1542.27 Q1997.65 1538.71 1997.65 1531.6 Q1997.65 1524.47 1995.82 1520.93 Q1994.02 1517.37 1990.38 1517.37 M1990.38 1513.66 Q1996.19 1513.66 1999.25 1518.27 Q2002.33 1522.85 2002.33 1531.6 Q2002.33 1540.33 1999.25 1544.94 Q1996.19 1549.52 1990.38 1549.52 Q1984.57 1549.52 1981.49 1544.94 Q1978.44 1540.33 1978.44 1531.6 Q1978.44 1522.85 1981.49 1518.27 Q1984.57 1513.66 1990.38 1513.66 Z\" fill=\"#000000\" fill-rule=\"evenodd\" fill-opacity=\"1\" /><path clip-path=\"url(#clip980)\" d=\"M2020.54 1517.37 Q2016.93 1517.37 2015.1 1520.93 Q2013.3 1524.47 2013.3 1531.6 Q2013.3 1538.71 2015.1 1542.27 Q2016.93 1545.82 2020.54 1545.82 Q2024.18 1545.82 2025.98 1542.27 Q2027.81 1538.71 2027.81 1531.6 Q2027.81 1524.47 2025.98 1520.93 Q2024.18 1517.37 2020.54 1517.37 M2020.54 1513.66 Q2026.35 1513.66 2029.41 1518.27 Q2032.49 1522.85 2032.49 1531.6 Q2032.49 1540.33 2029.41 1544.94 Q2026.35 1549.52 2020.54 1549.52 Q2014.73 1549.52 2011.66 1544.94 Q2008.6 1540.33 2008.6 1531.6 Q2008.6 1522.85 2011.66 1518.27 Q2014.73 1513.66 2020.54 1513.66 Z\" fill=\"#000000\" fill-rule=\"evenodd\" fill-opacity=\"1\" /><polyline clip-path=\"url(#clip982)\" style=\"stroke:#000000; stroke-linecap:butt; stroke-linejoin:round; stroke-width:2; stroke-opacity:0.1; fill:none\" points=\"\n",
       "  216.436,1314.42 2352.76,1314.42 \n",
       "  \"/>\n",
       "<polyline clip-path=\"url(#clip982)\" style=\"stroke:#000000; stroke-linecap:butt; stroke-linejoin:round; stroke-width:2; stroke-opacity:0.1; fill:none\" points=\"\n",
       "  216.436,1059.97 2352.76,1059.97 \n",
       "  \"/>\n",
       "<polyline clip-path=\"url(#clip982)\" style=\"stroke:#000000; stroke-linecap:butt; stroke-linejoin:round; stroke-width:2; stroke-opacity:0.1; fill:none\" points=\"\n",
       "  216.436,805.522 2352.76,805.522 \n",
       "  \"/>\n",
       "<polyline clip-path=\"url(#clip982)\" style=\"stroke:#000000; stroke-linecap:butt; stroke-linejoin:round; stroke-width:2; stroke-opacity:0.1; fill:none\" points=\"\n",
       "  216.436,551.073 2352.76,551.073 \n",
       "  \"/>\n",
       "<polyline clip-path=\"url(#clip982)\" style=\"stroke:#000000; stroke-linecap:butt; stroke-linejoin:round; stroke-width:2; stroke-opacity:0.1; fill:none\" points=\"\n",
       "  216.436,296.624 2352.76,296.624 \n",
       "  \"/>\n",
       "<polyline clip-path=\"url(#clip980)\" style=\"stroke:#000000; stroke-linecap:butt; stroke-linejoin:round; stroke-width:4; stroke-opacity:1; fill:none\" points=\"\n",
       "  216.436,1486.45 216.436,47.2441 \n",
       "  \"/>\n",
       "<polyline clip-path=\"url(#clip980)\" style=\"stroke:#000000; stroke-linecap:butt; stroke-linejoin:round; stroke-width:4; stroke-opacity:1; fill:none\" points=\"\n",
       "  216.436,1314.42 235.334,1314.42 \n",
       "  \"/>\n",
       "<polyline clip-path=\"url(#clip980)\" style=\"stroke:#000000; stroke-linecap:butt; stroke-linejoin:round; stroke-width:4; stroke-opacity:1; fill:none\" points=\"\n",
       "  216.436,1059.97 235.334,1059.97 \n",
       "  \"/>\n",
       "<polyline clip-path=\"url(#clip980)\" style=\"stroke:#000000; stroke-linecap:butt; stroke-linejoin:round; stroke-width:4; stroke-opacity:1; fill:none\" points=\"\n",
       "  216.436,805.522 235.334,805.522 \n",
       "  \"/>\n",
       "<polyline clip-path=\"url(#clip980)\" style=\"stroke:#000000; stroke-linecap:butt; stroke-linejoin:round; stroke-width:4; stroke-opacity:1; fill:none\" points=\"\n",
       "  216.436,551.073 235.334,551.073 \n",
       "  \"/>\n",
       "<polyline clip-path=\"url(#clip980)\" style=\"stroke:#000000; stroke-linecap:butt; stroke-linejoin:round; stroke-width:4; stroke-opacity:1; fill:none\" points=\"\n",
       "  216.436,296.624 235.334,296.624 \n",
       "  \"/>\n",
       "<path clip-path=\"url(#clip980)\" d=\"M62.9365 1300.22 Q59.3254 1300.22 57.4967 1303.78 Q55.6912 1307.33 55.6912 1314.45 Q55.6912 1321.56 57.4967 1325.13 Q59.3254 1328.67 62.9365 1328.67 Q66.5707 1328.67 68.3763 1325.13 Q70.205 1321.56 70.205 1314.45 Q70.205 1307.33 68.3763 1303.78 Q66.5707 1300.22 62.9365 1300.22 M62.9365 1296.52 Q68.7467 1296.52 71.8022 1301.12 Q74.8809 1305.7 74.8809 1314.45 Q74.8809 1323.18 71.8022 1327.79 Q68.7467 1332.37 62.9365 1332.37 Q57.1264 1332.37 54.0477 1327.79 Q50.9921 1323.18 50.9921 1314.45 Q50.9921 1305.7 54.0477 1301.12 Q57.1264 1296.52 62.9365 1296.52 Z\" fill=\"#000000\" fill-rule=\"evenodd\" fill-opacity=\"1\" /><path clip-path=\"url(#clip980)\" d=\"M83.0984 1325.82 L87.9827 1325.82 L87.9827 1331.7 L83.0984 1331.7 L83.0984 1325.82 Z\" fill=\"#000000\" fill-rule=\"evenodd\" fill-opacity=\"1\" /><path clip-path=\"url(#clip980)\" d=\"M108.168 1300.22 Q104.557 1300.22 102.728 1303.78 Q100.922 1307.33 100.922 1314.45 Q100.922 1321.56 102.728 1325.13 Q104.557 1328.67 108.168 1328.67 Q111.802 1328.67 113.608 1325.13 Q115.436 1321.56 115.436 1314.45 Q115.436 1307.33 113.608 1303.78 Q111.802 1300.22 108.168 1300.22 M108.168 1296.52 Q113.978 1296.52 117.033 1301.12 Q120.112 1305.7 120.112 1314.45 Q120.112 1323.18 117.033 1327.79 Q113.978 1332.37 108.168 1332.37 Q102.358 1332.37 99.2789 1327.79 Q96.2234 1323.18 96.2234 1314.45 Q96.2234 1305.7 99.2789 1301.12 Q102.358 1296.52 108.168 1296.52 Z\" fill=\"#000000\" fill-rule=\"evenodd\" fill-opacity=\"1\" /><path clip-path=\"url(#clip980)\" d=\"M128.376 1297.14 L146.732 1297.14 L146.732 1301.08 L132.658 1301.08 L132.658 1309.55 Q133.677 1309.2 134.695 1309.04 Q135.714 1308.85 136.732 1308.85 Q142.519 1308.85 145.899 1312.02 Q149.279 1315.2 149.279 1320.61 Q149.279 1326.19 145.806 1329.29 Q142.334 1332.37 136.015 1332.37 Q133.839 1332.37 131.57 1332 Q129.325 1331.63 126.918 1330.89 L126.918 1326.19 Q129.001 1327.33 131.223 1327.88 Q133.445 1328.44 135.922 1328.44 Q139.927 1328.44 142.265 1326.33 Q144.603 1324.22 144.603 1320.61 Q144.603 1317 142.265 1314.89 Q139.927 1312.79 135.922 1312.79 Q134.047 1312.79 132.172 1313.2 Q130.32 1313.62 128.376 1314.5 L128.376 1297.14 Z\" fill=\"#000000\" fill-rule=\"evenodd\" fill-opacity=\"1\" /><path clip-path=\"url(#clip980)\" d=\"M168.491 1300.22 Q164.88 1300.22 163.052 1303.78 Q161.246 1307.33 161.246 1314.45 Q161.246 1321.56 163.052 1325.13 Q164.88 1328.67 168.491 1328.67 Q172.126 1328.67 173.931 1325.13 Q175.76 1321.56 175.76 1314.45 Q175.76 1307.33 173.931 1303.78 Q172.126 1300.22 168.491 1300.22 M168.491 1296.52 Q174.302 1296.52 177.357 1301.12 Q180.436 1305.7 180.436 1314.45 Q180.436 1323.18 177.357 1327.79 Q174.302 1332.37 168.491 1332.37 Q162.681 1332.37 159.603 1327.79 Q156.547 1323.18 156.547 1314.45 Q156.547 1305.7 159.603 1301.12 Q162.681 1296.52 168.491 1296.52 Z\" fill=\"#000000\" fill-rule=\"evenodd\" fill-opacity=\"1\" /><path clip-path=\"url(#clip980)\" d=\"M63.9319 1045.77 Q60.3208 1045.77 58.4921 1049.33 Q56.6865 1052.88 56.6865 1060.01 Q56.6865 1067.11 58.4921 1070.68 Q60.3208 1074.22 63.9319 1074.22 Q67.5661 1074.22 69.3717 1070.68 Q71.2004 1067.11 71.2004 1060.01 Q71.2004 1052.88 69.3717 1049.33 Q67.5661 1045.77 63.9319 1045.77 M63.9319 1042.07 Q69.742 1042.07 72.7976 1046.67 Q75.8763 1051.26 75.8763 1060.01 Q75.8763 1068.73 72.7976 1073.34 Q69.742 1077.92 63.9319 1077.92 Q58.1217 1077.92 55.043 1073.34 Q51.9875 1068.73 51.9875 1060.01 Q51.9875 1051.26 55.043 1046.67 Q58.1217 1042.07 63.9319 1042.07 Z\" fill=\"#000000\" fill-rule=\"evenodd\" fill-opacity=\"1\" /><path clip-path=\"url(#clip980)\" d=\"M84.0938 1071.37 L88.978 1071.37 L88.978 1077.25 L84.0938 1077.25 L84.0938 1071.37 Z\" fill=\"#000000\" fill-rule=\"evenodd\" fill-opacity=\"1\" /><path clip-path=\"url(#clip980)\" d=\"M109.163 1045.77 Q105.552 1045.77 103.723 1049.33 Q101.918 1052.88 101.918 1060.01 Q101.918 1067.11 103.723 1070.68 Q105.552 1074.22 109.163 1074.22 Q112.797 1074.22 114.603 1070.68 Q116.432 1067.11 116.432 1060.01 Q116.432 1052.88 114.603 1049.33 Q112.797 1045.77 109.163 1045.77 M109.163 1042.07 Q114.973 1042.07 118.029 1046.67 Q121.107 1051.26 121.107 1060.01 Q121.107 1068.73 118.029 1073.34 Q114.973 1077.92 109.163 1077.92 Q103.353 1077.92 100.274 1073.34 Q97.2187 1068.73 97.2187 1060.01 Q97.2187 1051.26 100.274 1046.67 Q103.353 1042.07 109.163 1042.07 Z\" fill=\"#000000\" fill-rule=\"evenodd\" fill-opacity=\"1\" /><path clip-path=\"url(#clip980)\" d=\"M128.144 1042.69 L150.367 1042.69 L150.367 1044.68 L137.82 1077.25 L132.936 1077.25 L144.742 1046.63 L128.144 1046.63 L128.144 1042.69 Z\" fill=\"#000000\" fill-rule=\"evenodd\" fill-opacity=\"1\" /><path clip-path=\"url(#clip980)\" d=\"M159.533 1042.69 L177.89 1042.69 L177.89 1046.63 L163.816 1046.63 L163.816 1055.1 Q164.834 1054.75 165.853 1054.59 Q166.871 1054.4 167.89 1054.4 Q173.677 1054.4 177.056 1057.58 Q180.436 1060.75 180.436 1066.16 Q180.436 1071.74 176.964 1074.84 Q173.491 1077.92 167.172 1077.92 Q164.996 1077.92 162.728 1077.55 Q160.482 1077.18 158.075 1076.44 L158.075 1071.74 Q160.158 1072.88 162.38 1073.43 Q164.603 1073.99 167.079 1073.99 Q171.084 1073.99 173.422 1071.88 Q175.76 1069.77 175.76 1066.16 Q175.76 1062.55 173.422 1060.45 Q171.084 1058.34 167.079 1058.34 Q165.204 1058.34 163.329 1058.76 Q161.478 1059.17 159.533 1060.05 L159.533 1042.69 Z\" fill=\"#000000\" fill-rule=\"evenodd\" fill-opacity=\"1\" /><path clip-path=\"url(#clip980)\" d=\"M62.9365 791.321 Q59.3254 791.321 57.4967 794.886 Q55.6912 798.427 55.6912 805.557 Q55.6912 812.663 57.4967 816.228 Q59.3254 819.77 62.9365 819.77 Q66.5707 819.77 68.3763 816.228 Q70.205 812.663 70.205 805.557 Q70.205 798.427 68.3763 794.886 Q66.5707 791.321 62.9365 791.321 M62.9365 787.617 Q68.7467 787.617 71.8022 792.224 Q74.8809 796.807 74.8809 805.557 Q74.8809 814.284 71.8022 818.89 Q68.7467 823.474 62.9365 823.474 Q57.1264 823.474 54.0477 818.89 Q50.9921 814.284 50.9921 805.557 Q50.9921 796.807 54.0477 792.224 Q57.1264 787.617 62.9365 787.617 Z\" fill=\"#000000\" fill-rule=\"evenodd\" fill-opacity=\"1\" /><path clip-path=\"url(#clip980)\" d=\"M83.0984 816.923 L87.9827 816.923 L87.9827 822.802 L83.0984 822.802 L83.0984 816.923 Z\" fill=\"#000000\" fill-rule=\"evenodd\" fill-opacity=\"1\" /><path clip-path=\"url(#clip980)\" d=\"M98.978 818.867 L106.617 818.867 L106.617 792.501 L98.3067 794.168 L98.3067 789.909 L106.571 788.242 L111.246 788.242 L111.246 818.867 L118.885 818.867 L118.885 822.802 L98.978 822.802 L98.978 818.867 Z\" fill=\"#000000\" fill-rule=\"evenodd\" fill-opacity=\"1\" /><path clip-path=\"url(#clip980)\" d=\"M138.33 791.321 Q134.719 791.321 132.89 794.886 Q131.084 798.427 131.084 805.557 Q131.084 812.663 132.89 816.228 Q134.719 819.77 138.33 819.77 Q141.964 819.77 143.769 816.228 Q145.598 812.663 145.598 805.557 Q145.598 798.427 143.769 794.886 Q141.964 791.321 138.33 791.321 M138.33 787.617 Q144.14 787.617 147.195 792.224 Q150.274 796.807 150.274 805.557 Q150.274 814.284 147.195 818.89 Q144.14 823.474 138.33 823.474 Q132.519 823.474 129.441 818.89 Q126.385 814.284 126.385 805.557 Q126.385 796.807 129.441 792.224 Q132.519 787.617 138.33 787.617 Z\" fill=\"#000000\" fill-rule=\"evenodd\" fill-opacity=\"1\" /><path clip-path=\"url(#clip980)\" d=\"M168.491 791.321 Q164.88 791.321 163.052 794.886 Q161.246 798.427 161.246 805.557 Q161.246 812.663 163.052 816.228 Q164.88 819.77 168.491 819.77 Q172.126 819.77 173.931 816.228 Q175.76 812.663 175.76 805.557 Q175.76 798.427 173.931 794.886 Q172.126 791.321 168.491 791.321 M168.491 787.617 Q174.302 787.617 177.357 792.224 Q180.436 796.807 180.436 805.557 Q180.436 814.284 177.357 818.89 Q174.302 823.474 168.491 823.474 Q162.681 823.474 159.603 818.89 Q156.547 814.284 156.547 805.557 Q156.547 796.807 159.603 792.224 Q162.681 787.617 168.491 787.617 Z\" fill=\"#000000\" fill-rule=\"evenodd\" fill-opacity=\"1\" /><path clip-path=\"url(#clip980)\" d=\"M63.9319 536.872 Q60.3208 536.872 58.4921 540.437 Q56.6865 543.978 56.6865 551.108 Q56.6865 558.214 58.4921 561.779 Q60.3208 565.321 63.9319 565.321 Q67.5661 565.321 69.3717 561.779 Q71.2004 558.214 71.2004 551.108 Q71.2004 543.978 69.3717 540.437 Q67.5661 536.872 63.9319 536.872 M63.9319 533.168 Q69.742 533.168 72.7976 537.775 Q75.8763 542.358 75.8763 551.108 Q75.8763 559.835 72.7976 564.441 Q69.742 569.025 63.9319 569.025 Q58.1217 569.025 55.043 564.441 Q51.9875 559.835 51.9875 551.108 Q51.9875 542.358 55.043 537.775 Q58.1217 533.168 63.9319 533.168 Z\" fill=\"#000000\" fill-rule=\"evenodd\" fill-opacity=\"1\" /><path clip-path=\"url(#clip980)\" d=\"M84.0938 562.474 L88.978 562.474 L88.978 568.353 L84.0938 568.353 L84.0938 562.474 Z\" fill=\"#000000\" fill-rule=\"evenodd\" fill-opacity=\"1\" /><path clip-path=\"url(#clip980)\" d=\"M99.9733 564.418 L107.612 564.418 L107.612 538.053 L99.3021 539.719 L99.3021 535.46 L107.566 533.793 L112.242 533.793 L112.242 564.418 L119.881 564.418 L119.881 568.353 L99.9733 568.353 L99.9733 564.418 Z\" fill=\"#000000\" fill-rule=\"evenodd\" fill-opacity=\"1\" /><path clip-path=\"url(#clip980)\" d=\"M133.353 564.418 L149.672 564.418 L149.672 568.353 L127.728 568.353 L127.728 564.418 Q130.39 561.664 134.973 557.034 Q139.58 552.381 140.76 551.039 Q143.006 548.515 143.885 546.779 Q144.788 545.02 144.788 543.33 Q144.788 540.576 142.843 538.84 Q140.922 537.103 137.82 537.103 Q135.621 537.103 133.168 537.867 Q130.737 538.631 127.959 540.182 L127.959 535.46 Q130.783 534.326 133.237 533.747 Q135.691 533.168 137.728 533.168 Q143.098 533.168 146.293 535.853 Q149.487 538.539 149.487 543.029 Q149.487 545.159 148.677 547.08 Q147.89 548.978 145.783 551.571 Q145.205 552.242 142.103 555.46 Q139.001 558.654 133.353 564.418 Z\" fill=\"#000000\" fill-rule=\"evenodd\" fill-opacity=\"1\" /><path clip-path=\"url(#clip980)\" d=\"M159.533 533.793 L177.89 533.793 L177.89 537.728 L163.816 537.728 L163.816 546.201 Q164.834 545.853 165.853 545.691 Q166.871 545.506 167.89 545.506 Q173.677 545.506 177.056 548.677 Q180.436 551.849 180.436 557.265 Q180.436 562.844 176.964 565.946 Q173.491 569.025 167.172 569.025 Q164.996 569.025 162.728 568.654 Q160.482 568.284 158.075 567.543 L158.075 562.844 Q160.158 563.978 162.38 564.534 Q164.603 565.089 167.079 565.089 Q171.084 565.089 173.422 562.983 Q175.76 560.876 175.76 557.265 Q175.76 553.654 173.422 551.548 Q171.084 549.441 167.079 549.441 Q165.204 549.441 163.329 549.858 Q161.478 550.275 159.533 551.154 L159.533 533.793 Z\" fill=\"#000000\" fill-rule=\"evenodd\" fill-opacity=\"1\" /><path clip-path=\"url(#clip980)\" d=\"M62.9365 282.423 Q59.3254 282.423 57.4967 285.988 Q55.6912 289.53 55.6912 296.659 Q55.6912 303.766 57.4967 307.33 Q59.3254 310.872 62.9365 310.872 Q66.5707 310.872 68.3763 307.33 Q70.205 303.766 70.205 296.659 Q70.205 289.53 68.3763 285.988 Q66.5707 282.423 62.9365 282.423 M62.9365 278.719 Q68.7467 278.719 71.8022 283.326 Q74.8809 287.909 74.8809 296.659 Q74.8809 305.386 71.8022 309.992 Q68.7467 314.576 62.9365 314.576 Q57.1264 314.576 54.0477 309.992 Q50.9921 305.386 50.9921 296.659 Q50.9921 287.909 54.0477 283.326 Q57.1264 278.719 62.9365 278.719 Z\" fill=\"#000000\" fill-rule=\"evenodd\" fill-opacity=\"1\" /><path clip-path=\"url(#clip980)\" d=\"M83.0984 308.025 L87.9827 308.025 L87.9827 313.904 L83.0984 313.904 L83.0984 308.025 Z\" fill=\"#000000\" fill-rule=\"evenodd\" fill-opacity=\"1\" /><path clip-path=\"url(#clip980)\" d=\"M98.978 309.969 L106.617 309.969 L106.617 283.604 L98.3067 285.27 L98.3067 281.011 L106.571 279.344 L111.246 279.344 L111.246 309.969 L118.885 309.969 L118.885 313.904 L98.978 313.904 L98.978 309.969 Z\" fill=\"#000000\" fill-rule=\"evenodd\" fill-opacity=\"1\" /><path clip-path=\"url(#clip980)\" d=\"M128.376 279.344 L146.732 279.344 L146.732 283.28 L132.658 283.28 L132.658 291.752 Q133.677 291.405 134.695 291.242 Q135.714 291.057 136.732 291.057 Q142.519 291.057 145.899 294.229 Q149.279 297.4 149.279 302.816 Q149.279 308.395 145.806 311.497 Q142.334 314.576 136.015 314.576 Q133.839 314.576 131.57 314.205 Q129.325 313.835 126.918 313.094 L126.918 308.395 Q129.001 309.529 131.223 310.085 Q133.445 310.641 135.922 310.641 Q139.927 310.641 142.265 308.534 Q144.603 306.428 144.603 302.816 Q144.603 299.205 142.265 297.099 Q139.927 294.992 135.922 294.992 Q134.047 294.992 132.172 295.409 Q130.32 295.826 128.376 296.705 L128.376 279.344 Z\" fill=\"#000000\" fill-rule=\"evenodd\" fill-opacity=\"1\" /><path clip-path=\"url(#clip980)\" d=\"M168.491 282.423 Q164.88 282.423 163.052 285.988 Q161.246 289.53 161.246 296.659 Q161.246 303.766 163.052 307.33 Q164.88 310.872 168.491 310.872 Q172.126 310.872 173.931 307.33 Q175.76 303.766 175.76 296.659 Q175.76 289.53 173.931 285.988 Q172.126 282.423 168.491 282.423 M168.491 278.719 Q174.302 278.719 177.357 283.326 Q180.436 287.909 180.436 296.659 Q180.436 305.386 177.357 309.992 Q174.302 314.576 168.491 314.576 Q162.681 314.576 159.603 309.992 Q156.547 305.386 156.547 296.659 Q156.547 287.909 159.603 283.326 Q162.681 278.719 168.491 278.719 Z\" fill=\"#000000\" fill-rule=\"evenodd\" fill-opacity=\"1\" /><circle clip-path=\"url(#clip982)\" cx=\"276.898\" cy=\"87.9763\" r=\"14\" fill=\"#009af9\" fill-rule=\"evenodd\" fill-opacity=\"1\" stroke=\"#000000\" stroke-opacity=\"1\" stroke-width=\"3.2\"/>\n",
       "<circle clip-path=\"url(#clip982)\" cx=\"321.29\" cy=\"190.774\" r=\"14\" fill=\"#009af9\" fill-rule=\"evenodd\" fill-opacity=\"1\" stroke=\"#000000\" stroke-opacity=\"1\" stroke-width=\"3.2\"/>\n",
       "<circle clip-path=\"url(#clip982)\" cx=\"365.682\" cy=\"474.739\" r=\"14\" fill=\"#009af9\" fill-rule=\"evenodd\" fill-opacity=\"1\" stroke=\"#000000\" stroke-opacity=\"1\" stroke-width=\"3.2\"/>\n",
       "<circle clip-path=\"url(#clip982)\" cx=\"410.074\" cy=\"720.027\" r=\"14\" fill=\"#009af9\" fill-rule=\"evenodd\" fill-opacity=\"1\" stroke=\"#000000\" stroke-opacity=\"1\" stroke-width=\"3.2\"/>\n",
       "<circle clip-path=\"url(#clip982)\" cx=\"627.594\" cy=\"791.273\" r=\"14\" fill=\"#009af9\" fill-rule=\"evenodd\" fill-opacity=\"1\" stroke=\"#000000\" stroke-opacity=\"1\" stroke-width=\"3.2\"/>\n",
       "<circle clip-path=\"url(#clip982)\" cx=\"671.986\" cy=\"762.775\" r=\"14\" fill=\"#009af9\" fill-rule=\"evenodd\" fill-opacity=\"1\" stroke=\"#000000\" stroke-opacity=\"1\" stroke-width=\"3.2\"/>\n",
       "<circle clip-path=\"url(#clip982)\" cx=\"716.378\" cy=\"759.721\" r=\"14\" fill=\"#009af9\" fill-rule=\"evenodd\" fill-opacity=\"1\" stroke=\"#000000\" stroke-opacity=\"1\" stroke-width=\"3.2\"/>\n",
       "<circle clip-path=\"url(#clip982)\" cx=\"760.77\" cy=\"836.056\" r=\"14\" fill=\"#009af9\" fill-rule=\"evenodd\" fill-opacity=\"1\" stroke=\"#000000\" stroke-opacity=\"1\" stroke-width=\"3.2\"/>\n",
       "<circle clip-path=\"url(#clip982)\" cx=\"805.162\" cy=\"984.654\" r=\"14\" fill=\"#009af9\" fill-rule=\"evenodd\" fill-opacity=\"1\" stroke=\"#000000\" stroke-opacity=\"1\" stroke-width=\"3.2\"/>\n",
       "<circle clip-path=\"url(#clip982)\" cx=\"1022.68\" cy=\"1133.25\" r=\"14\" fill=\"#009af9\" fill-rule=\"evenodd\" fill-opacity=\"1\" stroke=\"#000000\" stroke-opacity=\"1\" stroke-width=\"3.2\"/>\n",
       "<circle clip-path=\"url(#clip982)\" cx=\"1067.08\" cy=\"1113.91\" r=\"14\" fill=\"#009af9\" fill-rule=\"evenodd\" fill-opacity=\"1\" stroke=\"#000000\" stroke-opacity=\"1\" stroke-width=\"3.2\"/>\n",
       "<circle clip-path=\"url(#clip982)\" cx=\"1111.47\" cy=\"1108.83\" r=\"14\" fill=\"#009af9\" fill-rule=\"evenodd\" fill-opacity=\"1\" stroke=\"#000000\" stroke-opacity=\"1\" stroke-width=\"3.2\"/>\n",
       "<circle clip-path=\"url(#clip982)\" cx=\"1155.86\" cy=\"1119\" r=\"14\" fill=\"#009af9\" fill-rule=\"evenodd\" fill-opacity=\"1\" stroke=\"#000000\" stroke-opacity=\"1\" stroke-width=\"3.2\"/>\n",
       "<circle clip-path=\"url(#clip982)\" cx=\"1195.81\" cy=\"1127.15\" r=\"14\" fill=\"#009af9\" fill-rule=\"evenodd\" fill-opacity=\"1\" stroke=\"#000000\" stroke-opacity=\"1\" stroke-width=\"3.2\"/>\n",
       "<circle clip-path=\"url(#clip982)\" cx=\"1240.2\" cy=\"1136.31\" r=\"14\" fill=\"#009af9\" fill-rule=\"evenodd\" fill-opacity=\"1\" stroke=\"#000000\" stroke-opacity=\"1\" stroke-width=\"3.2\"/>\n",
       "<circle clip-path=\"url(#clip982)\" cx=\"1284.6\" cy=\"1138.34\" r=\"14\" fill=\"#009af9\" fill-rule=\"evenodd\" fill-opacity=\"1\" stroke=\"#000000\" stroke-opacity=\"1\" stroke-width=\"3.2\"/>\n",
       "<circle clip-path=\"url(#clip982)\" cx=\"1328.99\" cy=\"1138.34\" r=\"14\" fill=\"#009af9\" fill-rule=\"evenodd\" fill-opacity=\"1\" stroke=\"#000000\" stroke-opacity=\"1\" stroke-width=\"3.2\"/>\n",
       "<circle clip-path=\"url(#clip982)\" cx=\"1373.38\" cy=\"1157.68\" r=\"14\" fill=\"#009af9\" fill-rule=\"evenodd\" fill-opacity=\"1\" stroke=\"#000000\" stroke-opacity=\"1\" stroke-width=\"3.2\"/>\n",
       "<circle clip-path=\"url(#clip982)\" cx=\"1417.77\" cy=\"1236.05\" r=\"14\" fill=\"#009af9\" fill-rule=\"evenodd\" fill-opacity=\"1\" stroke=\"#000000\" stroke-opacity=\"1\" stroke-width=\"3.2\"/>\n",
       "<circle clip-path=\"url(#clip982)\" cx=\"1462.16\" cy=\"1242.16\" r=\"14\" fill=\"#009af9\" fill-rule=\"evenodd\" fill-opacity=\"1\" stroke=\"#000000\" stroke-opacity=\"1\" stroke-width=\"3.2\"/>\n",
       "<circle clip-path=\"url(#clip982)\" cx=\"1502.12\" cy=\"1250.3\" r=\"14\" fill=\"#009af9\" fill-rule=\"evenodd\" fill-opacity=\"1\" stroke=\"#000000\" stroke-opacity=\"1\" stroke-width=\"3.2\"/>\n",
       "<circle clip-path=\"url(#clip982)\" cx=\"1546.51\" cy=\"1349.03\" r=\"14\" fill=\"#009af9\" fill-rule=\"evenodd\" fill-opacity=\"1\" stroke=\"#000000\" stroke-opacity=\"1\" stroke-width=\"3.2\"/>\n",
       "<circle clip-path=\"url(#clip982)\" cx=\"1590.9\" cy=\"1360.22\" r=\"14\" fill=\"#009af9\" fill-rule=\"evenodd\" fill-opacity=\"1\" stroke=\"#000000\" stroke-opacity=\"1\" stroke-width=\"3.2\"/>\n",
       "<circle clip-path=\"url(#clip982)\" cx=\"1635.29\" cy=\"1366.33\" r=\"14\" fill=\"#009af9\" fill-rule=\"evenodd\" fill-opacity=\"1\" stroke=\"#000000\" stroke-opacity=\"1\" stroke-width=\"3.2\"/>\n",
       "<circle clip-path=\"url(#clip982)\" cx=\"1679.68\" cy=\"1359.2\" r=\"14\" fill=\"#009af9\" fill-rule=\"evenodd\" fill-opacity=\"1\" stroke=\"#000000\" stroke-opacity=\"1\" stroke-width=\"3.2\"/>\n",
       "<circle clip-path=\"url(#clip982)\" cx=\"1724.08\" cy=\"1365.31\" r=\"14\" fill=\"#009af9\" fill-rule=\"evenodd\" fill-opacity=\"1\" stroke=\"#000000\" stroke-opacity=\"1\" stroke-width=\"3.2\"/>\n",
       "<circle clip-path=\"url(#clip982)\" cx=\"1768.47\" cy=\"1381.59\" r=\"14\" fill=\"#009af9\" fill-rule=\"evenodd\" fill-opacity=\"1\" stroke=\"#000000\" stroke-opacity=\"1\" stroke-width=\"3.2\"/>\n",
       "<circle clip-path=\"url(#clip982)\" cx=\"1808.42\" cy=\"1387.7\" r=\"14\" fill=\"#009af9\" fill-rule=\"evenodd\" fill-opacity=\"1\" stroke=\"#000000\" stroke-opacity=\"1\" stroke-width=\"3.2\"/>\n",
       "<circle clip-path=\"url(#clip982)\" cx=\"1852.81\" cy=\"1389.74\" r=\"14\" fill=\"#009af9\" fill-rule=\"evenodd\" fill-opacity=\"1\" stroke=\"#000000\" stroke-opacity=\"1\" stroke-width=\"3.2\"/>\n",
       "<circle clip-path=\"url(#clip982)\" cx=\"1897.21\" cy=\"1407.04\" r=\"14\" fill=\"#009af9\" fill-rule=\"evenodd\" fill-opacity=\"1\" stroke=\"#000000\" stroke-opacity=\"1\" stroke-width=\"3.2\"/>\n",
       "<circle clip-path=\"url(#clip982)\" cx=\"1941.6\" cy=\"1417.22\" r=\"14\" fill=\"#009af9\" fill-rule=\"evenodd\" fill-opacity=\"1\" stroke=\"#000000\" stroke-opacity=\"1\" stroke-width=\"3.2\"/>\n",
       "<circle clip-path=\"url(#clip982)\" cx=\"1985.99\" cy=\"1419.25\" r=\"14\" fill=\"#009af9\" fill-rule=\"evenodd\" fill-opacity=\"1\" stroke=\"#000000\" stroke-opacity=\"1\" stroke-width=\"3.2\"/>\n",
       "<circle clip-path=\"url(#clip982)\" cx=\"2203.51\" cy=\"1422.31\" r=\"14\" fill=\"#009af9\" fill-rule=\"evenodd\" fill-opacity=\"1\" stroke=\"#000000\" stroke-opacity=\"1\" stroke-width=\"3.2\"/>\n",
       "<circle clip-path=\"url(#clip982)\" cx=\"2247.9\" cy=\"1442.66\" r=\"14\" fill=\"#009af9\" fill-rule=\"evenodd\" fill-opacity=\"1\" stroke=\"#000000\" stroke-opacity=\"1\" stroke-width=\"3.2\"/>\n",
       "<circle clip-path=\"url(#clip982)\" cx=\"2292.29\" cy=\"1445.72\" r=\"14\" fill=\"#009af9\" fill-rule=\"evenodd\" fill-opacity=\"1\" stroke=\"#000000\" stroke-opacity=\"1\" stroke-width=\"3.2\"/>\n",
       "<path clip-path=\"url(#clip980)\" d=\"\n",
       "M1989.11 198.898 L2281.55 198.898 L2281.55 95.2176 L1989.11 95.2176  Z\n",
       "  \" fill=\"#ffffff\" fill-rule=\"evenodd\" fill-opacity=\"1\"/>\n",
       "<polyline clip-path=\"url(#clip980)\" style=\"stroke:#000000; stroke-linecap:butt; stroke-linejoin:round; stroke-width:4; stroke-opacity:1; fill:none\" points=\"\n",
       "  1989.11,198.898 2281.55,198.898 2281.55,95.2176 1989.11,95.2176 1989.11,198.898 \n",
       "  \"/>\n",
       "<circle clip-path=\"url(#clip980)\" cx=\"2085.11\" cy=\"147.058\" r=\"23\" fill=\"#009af9\" fill-rule=\"evenodd\" fill-opacity=\"1\" stroke=\"#000000\" stroke-opacity=\"1\" stroke-width=\"5.12\"/>\n",
       "<path clip-path=\"url(#clip980)\" d=\"M2194.96 166.745 Q2193.15 171.375 2191.44 172.787 Q2189.73 174.199 2186.86 174.199 L2183.45 174.199 L2183.45 170.634 L2185.95 170.634 Q2187.71 170.634 2188.68 169.8 Q2189.66 168.967 2190.84 165.865 L2191.6 163.921 L2181.11 138.412 L2185.63 138.412 L2193.73 158.689 L2201.83 138.412 L2206.35 138.412 L2194.96 166.745 Z\" fill=\"#000000\" fill-rule=\"evenodd\" fill-opacity=\"1\" /><path clip-path=\"url(#clip980)\" d=\"M2213.64 160.402 L2221.28 160.402 L2221.28 134.037 L2212.97 135.703 L2212.97 131.444 L2221.23 129.778 L2225.91 129.778 L2225.91 160.402 L2233.55 160.402 L2233.55 164.338 L2213.64 164.338 L2213.64 160.402 Z\" fill=\"#000000\" fill-rule=\"evenodd\" fill-opacity=\"1\" /></svg>\n"
      ]
     },
     "execution_count": 14,
     "metadata": {},
     "output_type": "execute_result"
    }
   ],
   "source": [
    "plot(lc_data.tlc, lc_data.lc, seriestype = :scatter)"
   ]
  },
  {
   "cell_type": "code",
   "execution_count": 19,
   "id": "fourth-pastor",
   "metadata": {},
   "outputs": [
    {
     "data": {
      "text/plain": [
       "317-element Vector{Float64}:\n",
       "   0.0\n",
       "   4.371859296482412\n",
       "   8.743718592964823\n",
       "   9.0\n",
       "  13.115577889447236\n",
       "  17.487437185929647\n",
       "  19.0\n",
       "  21.85929648241206\n",
       "  26.231155778894472\n",
       "  29.0\n",
       "  30.603015075376884\n",
       "  34.97487437185929\n",
       "  39.0\n",
       "   ⋮\n",
       " 848.0\n",
       " 848.1407035175879\n",
       " 849.0\n",
       " 852.5125628140704\n",
       " 856.8844221105528\n",
       " 858.0\n",
       " 859.0\n",
       " 861.2562814070352\n",
       " 865.6281407035176\n",
       " 868.0\n",
       " 869.0\n",
       " 870.0"
      ]
     },
     "execution_count": 19,
     "metadata": {},
     "output_type": "execute_result"
    }
   ],
   "source": [
    "tlist = unique(sort(vcat(collect(range(0.0, 870.0, length = 200)), tQf, lc_data.tlc)))"
   ]
  },
  {
   "cell_type": "code",
   "execution_count": 31,
   "id": "administrative-procurement",
   "metadata": {},
   "outputs": [
    {
     "data": {
      "text/plain": [
       "0.00721"
      ]
     },
     "execution_count": 31,
     "metadata": {},
     "output_type": "execute_result"
    }
   ],
   "source": [
    "cBf = 0.00721"
   ]
  },
  {
   "cell_type": "code",
   "execution_count": 34,
   "id": "rising-sight",
   "metadata": {},
   "outputs": [
    {
     "data": {
      "text/plain": [
       "An InfiniteOpt Model\n",
       "Feasibility problem with:\n",
       "Finite Parameters: 0\n",
       "Infinite Parameters: 0\n",
       "Variables: 0\n",
       "Derivatives: 0\n",
       "Measures: 0\n",
       "Optimizer model backend information: \n",
       "Model mode: AUTOMATIC\n",
       "CachingOptimizer state: EMPTY_OPTIMIZER\n",
       "Solver name: Ipopt"
      ]
     },
     "execution_count": 34,
     "metadata": {},
     "output_type": "execute_result"
    }
   ],
   "source": [
    "opt = Ipopt.Optimizer    \n",
    "m = InfiniteModel(opt)"
   ]
  },
  {
   "cell_type": "code",
   "execution_count": 35,
   "id": "interested-liberal",
   "metadata": {},
   "outputs": [
    {
     "data": {
      "text/latex": [
       "$$ t $$"
      ],
      "text/plain": [
       "t"
      ]
     },
     "execution_count": 35,
     "metadata": {},
     "output_type": "execute_result"
    }
   ],
   "source": [
    "@infinite_parameter(m, t in [0, 870.0], supports = tlist)"
   ]
  },
  {
   "cell_type": "code",
   "execution_count": 36,
   "id": "neither-conviction",
   "metadata": {},
   "outputs": [
    {
     "data": {
      "text/plain": [
       "(vR(t), nA(t), nB(t), nC(t), nD(t))"
      ]
     },
     "execution_count": 36,
     "metadata": {},
     "output_type": "execute_result"
    }
   ],
   "source": [
    "@variables(m, \n",
    "    begin\n",
    "        vR, Infinite(t)\n",
    "        nA, Infinite(t)\n",
    "        nB, Infinite(t)\n",
    "        nC, Infinite(t)\n",
    "        nD, Infinite(t)\n",
    "    end\n",
    "    )"
   ]
  },
  {
   "cell_type": "code",
   "execution_count": 37,
   "id": "acknowledged-somewhere",
   "metadata": {},
   "outputs": [
    {
     "data": {
      "text/latex": [
       "$$ k2 $$"
      ],
      "text/plain": [
       "k2"
      ]
     },
     "execution_count": 37,
     "metadata": {},
     "output_type": "execute_result"
    }
   ],
   "source": [
    "@variable(m, k1 >= 0, start = 0.5)\n",
    "@variable(m, k2 >= 0, start = 0.5)"
   ]
  },
  {
   "cell_type": "code",
   "execution_count": 43,
   "id": "engaging-killer",
   "metadata": {},
   "outputs": [
    {
     "ename": "LoadError",
     "evalue": "MethodError: no method matching (::Interpolations.Extrapolation{Float64, 1, Interpolations.GriddedInterpolation{Float64, 1, Float64, Gridded{Constant{Nearest, Throw{OnGrid}}}, Tuple{Vector{Float64}}}, Gridded{Constant{Nearest, Throw{OnGrid}}}, Throw{Nothing}})(::GeneralVariableRef)\nUse square brackets [] for indexing an Array.\n\u001b[0mClosest candidates are:\n\u001b[0m  (::Interpolations.Extrapolation{T, N, ITPT, IT, ET} where {ITPT, IT, ET})(\u001b[91m::Number...\u001b[39m) where {T, N} at /home/paperspace/.julia/packages/Interpolations/Glp9h/src/extrapolation/extrapolation.jl:45\n\u001b[0m  (::Interpolations.Extrapolation{T, N, ITPT, IT, ET} where {ITPT, IT, ET})(\u001b[91m::Union{Number, AbstractVector{T} where T}...\u001b[39m) where {T, N} at /home/paperspace/.julia/packages/Interpolations/Glp9h/src/extrapolation/extrapolation.jl:54",
     "output_type": "error",
     "traceback": [
      "MethodError: no method matching (::Interpolations.Extrapolation{Float64, 1, Interpolations.GriddedInterpolation{Float64, 1, Float64, Gridded{Constant{Nearest, Throw{OnGrid}}}, Tuple{Vector{Float64}}}, Gridded{Constant{Nearest, Throw{OnGrid}}}, Throw{Nothing}})(::GeneralVariableRef)\nUse square brackets [] for indexing an Array.\n\u001b[0mClosest candidates are:\n\u001b[0m  (::Interpolations.Extrapolation{T, N, ITPT, IT, ET} where {ITPT, IT, ET})(\u001b[91m::Number...\u001b[39m) where {T, N} at /home/paperspace/.julia/packages/Interpolations/Glp9h/src/extrapolation/extrapolation.jl:45\n\u001b[0m  (::Interpolations.Extrapolation{T, N, ITPT, IT, ET} where {ITPT, IT, ET})(\u001b[91m::Union{Number, AbstractVector{T} where T}...\u001b[39m) where {T, N} at /home/paperspace/.julia/packages/Interpolations/Glp9h/src/extrapolation/extrapolation.jl:54",
      "",
      "Stacktrace:",
      " [1] macro expansion",
      "   @ ~/.julia/packages/MutableArithmetics/UtY4H/src/rewrite.jl:282 [inlined]",
      " [2] macro expansion",
      "   @ ~/.julia/packages/JuMP/lnUbA/src/macros.jl:813 [inlined]",
      " [3] top-level scope",
      "   @ In[43]:1",
      " [4] eval",
      "   @ ./boot.jl:360 [inlined]",
      " [5] include_string(mapexpr::typeof(REPL.softscope), mod::Module, code::String, filename::String)",
      "   @ Base ./loading.jl:1116"
     ]
    }
   ],
   "source": [
    "@constraint(m, @deriv(vR, t) == Qf_itl(t))"
   ]
  },
  {
   "cell_type": "code",
   "execution_count": 40,
   "id": "sonic-advice",
   "metadata": {},
   "outputs": [
    {
     "data": {
      "text/latex": [
       "$ ∂/∂t[nD(t)] - k2 * nB(t) * nC(t) * 1 / vR(t) = 0.0, \\quad\\forall t \\in [0, 870] $"
      ],
      "text/plain": [
       "∂/∂t[nD(t)] - k2 * nB(t) * nC(t) * 1 / vR(t) = 0.0, ∀ t ∈ [0, 870]"
      ]
     },
     "execution_count": 40,
     "metadata": {},
     "output_type": "execute_result"
    }
   ],
   "source": [
    "#@constraint(m, @deriv(vR, t) == Qf_itl(t))\n",
    "@constraint(m, @deriv(nA, t) == -k1 * nA * nB / vR)\n",
    "#@constraint(m, @deriv(nB, t) == Qf_itl(t) * cBf - nB * (k1 * nA + k2 * nC) / vR)\n",
    "@constraint(m, @deriv(nC, t) == nB * (k1 * nA - k2 * nC) / vR)\n",
    "@constraint(m, @deriv(nD, t) == k2 * nB * nC / vR)"
   ]
  },
  {
   "cell_type": "code",
   "execution_count": 42,
   "id": "applicable-majority",
   "metadata": {},
   "outputs": [
    {
     "data": {
      "text/plain": [
       "0.1343651620879121"
      ]
     },
     "execution_count": 42,
     "metadata": {},
     "output_type": "execute_result"
    }
   ],
   "source": [
    "Qf_itl(10)"
   ]
  },
  {
   "cell_type": "code",
   "execution_count": 44,
   "id": "preceding-exposure",
   "metadata": {},
   "outputs": [
    {
     "data": {
      "text/plain": [
       "Interpolations.Extrapolation{Float64, 1, Interpolations.GriddedInterpolation{Float64, 1, Float64, Gridded{Constant{Nearest, Throw{OnGrid}}}, Tuple{Vector{Float64}}}, Gridded{Constant{Nearest, Throw{OnGrid}}}, Throw{Nothing}}"
      ]
     },
     "execution_count": 44,
     "metadata": {},
     "output_type": "execute_result"
    }
   ],
   "source": [
    "typeof(Qf_itl)"
   ]
  },
  {
   "cell_type": "code",
   "execution_count": null,
   "id": "north-birthday",
   "metadata": {},
   "outputs": [],
   "source": []
  }
 ],
 "metadata": {
  "kernelspec": {
   "display_name": "Julia 1.6.2",
   "language": "julia",
   "name": "julia-1.6"
  },
  "language_info": {
   "file_extension": ".jl",
   "mimetype": "application/julia",
   "name": "julia",
   "version": "1.6.2"
  }
 },
 "nbformat": 4,
 "nbformat_minor": 5
}
