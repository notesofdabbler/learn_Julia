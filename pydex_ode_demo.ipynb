{
 "cells": [
  {
   "cell_type": "markdown",
   "id": "perfect-briefs",
   "metadata": {},
   "source": [
    "## Pydex ODE Demo: Julia Version\n",
    "I wanted to try recreating [pydex](https://github.com/KennedyPutraKusumo/pydex) ode demo [example](https://github.com/KennedyPutraKusumo/pydex/blob/master/examples/pydex_ode_model.ipynb) using Julia. The specific things I wanted to check out was:\n",
    "* Calculate [sensitivities](https://diffeq.sciml.ai/latest/analysis/sensitivity/) using ForwardDiff automatic differentiation.\n",
    "* Use [Hypatia](https://github.com/chriscoey/Hypatia.jl) conic solver with JuMP for solving the optimization problem\n",
    "\n",
    "The following [talk](https://www.youtube.com/watch?v=DGsYIHLnR4U) by Juan Pablo Vielma and the specific slide below got me curious to try out Hypatia. \n",
    "![](figs/vielma_talk_slide.png)\n",
    "\n",
    "But in this small example, it is hard to see the difference and it looks like Hypatia took longer than pydex demo example. But it will be interesting to try larger examples (because in Julia somtimes initial compilation may also be taking some time)"
   ]
  },
  {
   "cell_type": "code",
   "execution_count": 52,
   "id": "complicated-wrestling",
   "metadata": {},
   "outputs": [],
   "source": [
    "using Plots\n",
    "using LabelledArrays\n",
    "import DifferentialEquations as de\n",
    "using DifferentialEquations\n",
    "using Sundials\n",
    "using DiffEqSensitivity\n",
    "using ForwardDiff\n",
    "using LinearAlgebra\n",
    "using JuMP\n",
    "using Hypatia"
   ]
  },
  {
   "cell_type": "code",
   "execution_count": 53,
   "id": "understanding-brake",
   "metadata": {},
   "outputs": [
    {
     "data": {
      "text/plain": [
       "11-element Vector{Int64}:\n",
       "   0\n",
       "  20\n",
       "  40\n",
       "  60\n",
       "  80\n",
       " 100\n",
       " 120\n",
       " 140\n",
       " 160\n",
       " 180\n",
       " 200"
      ]
     },
     "execution_count": 53,
     "metadata": {},
     "output_type": "execute_result"
    }
   ],
   "source": [
    "cA0_rng = collect(range(1.0, 5.0, length = 5))\n",
    "T_rng = collect(range(273.15, 323.15, length = 5))\n",
    "exp_cond = [[cA0, T] for cA0 in cA0_rng for T in T_rng]\n",
    "t_rng = collect(0:20:200)"
   ]
  },
  {
   "cell_type": "code",
   "execution_count": 54,
   "id": "correct-corporation",
   "metadata": {},
   "outputs": [
    {
     "data": {
      "text/plain": [
       "rate! (generic function with 1 method)"
      ]
     },
     "execution_count": 54,
     "metadata": {},
     "output_type": "execute_result"
    }
   ],
   "source": [
    "function rate!(dc, c, p, t)\n",
    "    \n",
    "    theta_0 = p[1]\n",
    "    theta_1 = p[2]\n",
    "    alpha = p[3]\n",
    "    nu = p[4]\n",
    "    T = p[5]\n",
    "    \n",
    "    cA = c[1]\n",
    "    cB = c[2]\n",
    "    \n",
    "    r = exp(theta_0 + theta_1 * (T - 273.15)/T) * cA^alpha\n",
    "    \n",
    "    dc[1] = -r\n",
    "    dc[2] = nu * r\n",
    "end"
   ]
  },
  {
   "cell_type": "code",
   "execution_count": 55,
   "id": "effective-winning",
   "metadata": {},
   "outputs": [
    {
     "data": {
      "text/plain": [
       "retcode: Success\n",
       "Interpolation: 1st order linear\n",
       "t: 11-element Vector{Float64}:\n",
       "   0.0\n",
       "  20.0\n",
       "  40.0\n",
       "  60.0\n",
       "  80.0\n",
       " 100.0\n",
       " 120.0\n",
       " 140.0\n",
       " 160.0\n",
       " 180.0\n",
       " 200.0\n",
       "u: 11-element Vector{Vector{Float64}}:\n",
       " [1.0, 0.0]\n",
       " [0.762974143483031, 0.1185129282584844]\n",
       " [0.5821299113834147, 0.20893504430829252]\n",
       " [0.44415180652389535, 0.27792409673805224]\n",
       " [0.33887804385509107, 0.3305609780724544]\n",
       " [0.258555354993123, 0.37072232250343834]\n",
       " [0.1972688707907377, 0.401365564604631]\n",
       " [0.15051250597534357, 0.4247437470123281]\n",
       " [0.11484163500183901, 0.4425791824990804]\n",
       " [0.08761760468079811, 0.45619119765960087]\n",
       " [0.06685148797442539, 0.46657425601278724]"
      ]
     },
     "execution_count": 55,
     "metadata": {},
     "output_type": "execute_result"
    }
   ],
   "source": [
    "# initial run of the ODE at a specific experimental condition to set up the ODE problem\n",
    "c0 = [1.0, 0.0]\n",
    "T = 300.0\n",
    "p_parms = [-4.5, 2.2, 1.0, 0.5]\n",
    "tspan = (0.0, 200.0)\n",
    "prob = ODEProblem(rate!, c0, tspan, vcat(p_parms, T))\n",
    "sol = de.solve(prob, Rodas4(), saveat = 20.0)"
   ]
  },
  {
   "cell_type": "code",
   "execution_count": 56,
   "id": "capable-school",
   "metadata": {},
   "outputs": [
    {
     "data": {
      "text/plain": [
       "cprofile (generic function with 1 method)"
      ]
     },
     "execution_count": 56,
     "metadata": {},
     "output_type": "execute_result"
    }
   ],
   "source": [
    "# ODE problem put into a function so that jacobian could be evaluated with respect to function parameters\n",
    "function cprofile(p_parms, c0, T)\n",
    "    p = vcat(p_parms, T)\n",
    "    tspan = (0.0, 200.0)\n",
    "    _prob = remake(prob, u0 = c0, p = p)\n",
    "    Array(de.solve(_prob, Rodas4(), saveat = 20))\n",
    "end"
   ]
  },
  {
   "cell_type": "code",
   "execution_count": 57,
   "id": "protected-voluntary",
   "metadata": {},
   "outputs": [],
   "source": [
    "#csol = cprofile(p_parms, [1.0, 0.0], 300.0)\n",
    "#csens = ForwardDiff.jacobian(p_parms -> cprofile(p_parms, [1.0, 0.0], 300.0), p_parms)\n",
    "\n",
    "# Note: if there are m responses, k parameters and nT time points, the jacobian is returned as a matrix\n",
    "# where # nrows = m x nT and # columns = k\n",
    "# within the rows:\n",
    "#   response 1 corresponds to rows 1, m+1, 2m+1, ..., m*(nT-1) + 1\n",
    "#   response 2 corresponds to rows 2, m+2, 2m+2, ..., m*(nT-1) + 2 and so on    "
   ]
  },
  {
   "cell_type": "code",
   "execution_count": 58,
   "id": "adverse-jordan",
   "metadata": {},
   "outputs": [],
   "source": [
    "csens_L = []\n",
    "for (i, e) in enumerate(exp_cond)\n",
    "    # this command evaluates the jacobian of responses with respect to parameters\n",
    "    csens = ForwardDiff.jacobian(p_parms -> cprofile(p_parms, [e[1], 0.0], e[2]), p_parms)\n",
    "    push!(csens_L, csens)\n",
    "    #println(i, e)\n",
    "end"
   ]
  },
  {
   "cell_type": "code",
   "execution_count": 59,
   "id": "viral-spain",
   "metadata": {},
   "outputs": [],
   "source": [
    "# Generation of fim from sensitivity results\n",
    "fim = []\n",
    "elabel = []\n",
    "for i in 1:length(exp_cond)\n",
    "    for j in 1:2:22\n",
    "        fim_ij = csens_L[i][j:j+1,:]' * csens_L[i][j:j+1,:]\n",
    "        push!(fim, fim_ij)\n",
    "        push!(elabel, vcat(exp_cond[i], t_rng[Int((j + 1)/2)]))\n",
    "    end\n",
    "end"
   ]
  },
  {
   "cell_type": "code",
   "execution_count": 60,
   "id": "forbidden-nursing",
   "metadata": {},
   "outputs": [
    {
     "data": {
      "text/plain": [
       "275"
      ]
     },
     "execution_count": 60,
     "metadata": {},
     "output_type": "execute_result"
    }
   ],
   "source": [
    "length(fim)"
   ]
  },
  {
   "cell_type": "code",
   "execution_count": 61,
   "id": "spiritual-mambo",
   "metadata": {},
   "outputs": [
    {
     "data": {
      "text/plain": [
       "A JuMP Model\n",
       "Feasibility problem with:\n",
       "Variables: 0\n",
       "Model mode: AUTOMATIC\n",
       "CachingOptimizer state: EMPTY_OPTIMIZER\n",
       "Solver name: Hypatia"
      ]
     },
     "execution_count": 61,
     "metadata": {},
     "output_type": "execute_result"
    }
   ],
   "source": [
    "# Optimization model taken from Hypatia github page. they specifically have D-optimal design as an example\n",
    "#   https://github.com/chriscoey/Hypatia.jl\n",
    "#\n",
    "opt = Hypatia.Optimizer()\n",
    "model = Model(() -> opt)"
   ]
  },
  {
   "cell_type": "code",
   "execution_count": 62,
   "id": "daily-economics",
   "metadata": {},
   "outputs": [],
   "source": [
    "nvar = length(fim)\n",
    "@variable(model, x[1:nvar] >= 0);\n",
    "@constraint(model, sum(x) == 1);"
   ]
  },
  {
   "cell_type": "code",
   "execution_count": 63,
   "id": "communist-triple",
   "metadata": {},
   "outputs": [],
   "source": [
    "@variable(model, hypo);\n",
    "@objective(model, Max, hypo);"
   ]
  },
  {
   "cell_type": "code",
   "execution_count": 64,
   "id": "weird-potato",
   "metadata": {},
   "outputs": [],
   "source": [
    "Q = sum(x[i] * fim[i] for i in 1:nvar);"
   ]
  },
  {
   "cell_type": "code",
   "execution_count": 65,
   "id": "frozen-vacation",
   "metadata": {},
   "outputs": [],
   "source": [
    "aff = vcat(hypo, [Q[i, j] for i in 1:4 for j in 1:i]...);\n",
    "@constraint(model, aff in MOI.RootDetConeTriangle(4));"
   ]
  },
  {
   "cell_type": "code",
   "execution_count": 66,
   "id": "different-allowance",
   "metadata": {},
   "outputs": [
    {
     "name": "stdout",
     "output_type": "stream",
     "text": [
      "\n",
      " iter        p_obj        d_obj |  abs_gap    x_feas    z_feas |      tau       kap        mu | dir_res     prox  step     alpha\n",
      "    0   2.8543e+00  -1.5344e+00 | 2.80e+02  6.29e-01  8.07e-01 | 1.00e+00  1.00e+00  1.00e+00 |\n",
      "    1  -4.6108e+00  -4.5284e+00 | 4.19e+01  3.81e-01  4.88e-01 | 2.48e-01  8.29e-01  1.50e-01 | 3.6e-15  9.2e-01  co-a  8.50e-01\n",
      "    2  -3.7749e+00  -4.2527e+00 | 1.26e+01  1.07e-01  1.37e-01 | 2.65e-01  1.16e-01  4.50e-02 | 1.3e-15  6.9e-01  co-a  7.00e-01\n",
      "    3  -1.8831e+00  -2.1371e+00 | 8.83e+00  3.54e-02  4.55e-02 | 5.59e-01  2.77e-02  3.15e-02 | 6.2e-15  5.1e-01  co-a  3.00e-01\n",
      "    4  -1.3326e+00  -1.4416e+00 | 6.15e+00  1.59e-02  2.04e-02 | 8.71e-01  2.39e-02  2.20e-02 | 8.5e-14  5.7e-01  co-a  3.00e-01\n",
      "    5  -9.7946e-01  -1.0365e+00 | 4.30e+00  7.94e-03  1.02e-02 | 1.22e+00  1.34e-02  1.54e-02 | 1.3e-12  8.5e-01  co-a  3.00e-01\n",
      "    6  -8.2911e-01  -8.6350e-01 | 2.99e+00  4.61e-03  5.91e-03 | 1.48e+00  7.47e-03  1.07e-02 | 1.3e-13  6.2e-01  co-a  3.00e-01\n",
      "    7  -7.3813e-01  -7.6029e-01 | 2.09e+00  2.92e-03  3.75e-03 | 1.63e+00  4.66e-03  7.45e-03 | 2.3e-12  7.6e-01  co-a  3.00e-01\n",
      "    8  -6.9380e-01  -7.0862e-01 | 1.45e+00  1.94e-03  2.48e-03 | 1.72e+00  3.05e-03  5.19e-03 | 3.4e-13  4.9e-01  co-a  3.00e-01\n",
      "    9  -6.6576e-01  -6.7594e-01 | 1.01e+00  1.33e-03  1.70e-03 | 1.76e+00  2.07e-03  3.62e-03 | 8.6e-12  5.9e-01  co-a  3.00e-01\n",
      "   10  -6.4404e-01  -6.4908e-01 | 5.02e-01  6.56e-04  8.41e-04 | 1.78e+00  1.03e-03  1.79e-03 | 1.6e-11  9.8e-01  co-a  5.00e-01\n",
      "   11  -6.4586e-01  -6.5045e-01 | 4.50e-01  5.97e-04  7.65e-04 | 1.76e+00  9.19e-04  1.61e-03 | 9.4e-11  5.6e-01  co-a  1.00e-01\n",
      "   12  -6.4386e-01  -6.4573e-01 | 1.79e-01  2.43e-04  3.12e-04 | 1.72e+00  3.76e-04  6.38e-04 | 4.5e-12  9.5e-01  co-a  6.00e-01\n",
      "   13  -6.4390e-01  -6.4558e-01 | 1.60e-01  2.19e-04  2.81e-04 | 1.72e+00  3.33e-04  5.73e-04 | 1.1e-10  4.9e-01  co-a  1.00e-01\n",
      "   14  -6.4446e-01  -6.4480e-01 | 3.19e-02  4.45e-05  5.71e-05 | 1.70e+00  6.77e-05  1.14e-04 | 1.9e-11  9.3e-01  co-a  8.00e-01\n",
      "   15  -6.4447e-01  -6.4477e-01 | 2.86e-02  4.03e-05  5.16e-05 | 1.69e+00  6.07e-05  1.02e-04 | 2.6e-09  9.0e-01  co-a  1.00e-01\n",
      "   16  -6.4455e-01  -6.4476e-01 | 2.00e-02  2.83e-05  3.63e-05 | 1.68e+00  4.25e-05  7.13e-05 | 7.2e-11  8.3e-01  co-a  3.00e-01\n",
      "   17  -6.4473e-01  -6.4476e-01 | 1.99e-03  2.84e-06  3.65e-06 | 1.67e+00  4.25e-06  7.10e-06 | 1.3e-10  9.2e-01  co-a  9.00e-01\n",
      "   18  -6.4475e-01  -6.4475e-01 | 2.99e-04  4.25e-07  5.45e-07 | 1.68e+00  6.30e-07  1.07e-06 | 5.1e-11  6.2e-01  co-a  8.50e-01\n",
      "   19  -6.4475e-01  -6.4475e-01 | 5.98e-05  8.51e-08  1.09e-07 | 1.68e+00  1.26e-07  2.14e-07 | 4.6e-10  8.8e-01  co-a  8.00e-01\n",
      "   20  -6.4475e-01  -6.4475e-01 | 1.79e-05  2.55e-08  3.27e-08 | 1.68e+00  3.80e-08  6.41e-08 | 5.1e-10  8.3e-01  co-a  7.00e-01\n",
      "   21  -6.4475e-01  -6.4475e-01 | 5.38e-06  7.66e-09  9.82e-09 | 1.68e+00  1.14e-08  1.92e-08 | 3.0e-09  6.5e-01  co-a  7.00e-01\n",
      "   22  -6.4475e-01  -6.4475e-01 | 1.61e-06  2.30e-09  2.95e-09 | 1.68e+00  3.43e-09  5.76e-09 | 1.8e-09  2.5e-01  co-a  7.00e-01\n",
      "   23  -6.4475e-01  -6.4475e-01 | 1.13e-06  1.61e-09  2.06e-09 | 1.68e+00  2.40e-09  4.03e-09 | 2.4e-09  2.1e-01  co-a  3.00e-01\n",
      "optimal solution found; terminating\n",
      "\n",
      "status is Optimal after 23 iterations and 0.151 seconds\n",
      "\n"
     ]
    }
   ],
   "source": [
    "optimize!(model)"
   ]
  },
  {
   "cell_type": "code",
   "execution_count": 67,
   "id": "spread-austria",
   "metadata": {},
   "outputs": [
    {
     "data": {
      "text/plain": [
       "OPTIMAL::TerminationStatusCode = 1"
      ]
     },
     "execution_count": 67,
     "metadata": {},
     "output_type": "execute_result"
    }
   ],
   "source": [
    "termination_status(model)"
   ]
  },
  {
   "cell_type": "code",
   "execution_count": 68,
   "id": "dated-continuity",
   "metadata": {},
   "outputs": [
    {
     "data": {
      "text/plain": [
       "0.64475085348068"
      ]
     },
     "execution_count": 68,
     "metadata": {},
     "output_type": "execute_result"
    }
   ],
   "source": [
    "objective_value(model)"
   ]
  },
  {
   "cell_type": "code",
   "execution_count": 69,
   "id": "upper-pixel",
   "metadata": {},
   "outputs": [
    {
     "name": "stdout",
     "output_type": "stream",
     "text": [
      "[cA0, T, time]:[5.0, 273.15, 60.0], Effort:16.76%\n",
      "[cA0, T, time]:[5.0, 273.15, 80.0], Effort:7.415%\n",
      "[cA0, T, time]:[5.0, 273.15, 200.0], Effort:27.25%\n",
      "[cA0, T, time]:[5.0, 323.15, 60.0], Effort:26.4%\n",
      "[cA0, T, time]:[5.0, 323.15, 160.0], Effort:22.19%\n"
     ]
    }
   ],
   "source": [
    "#[(elabel[i], v) for (i, v) in enumerate(value.(x)) if v >= 0.05]\n",
    "for (i, v) in enumerate(value.(x))\n",
    "    if v >= 0.05\n",
    "        econd = elabel[i]\n",
    "        effort = round(v*100,sigdigits = 4)\n",
    "        println(\"[cA0, T, time]:$econd, Effort:$effort%\")\n",
    "    end\n",
    "end"
   ]
  },
  {
   "cell_type": "code",
   "execution_count": null,
   "id": "cognitive-alfred",
   "metadata": {},
   "outputs": [],
   "source": []
  }
 ],
 "metadata": {
  "kernelspec": {
   "display_name": "Julia 1.6.2",
   "language": "julia",
   "name": "julia-1.6"
  },
  "language_info": {
   "file_extension": ".jl",
   "mimetype": "application/julia",
   "name": "julia",
   "version": "1.6.2"
  }
 },
 "nbformat": 4,
 "nbformat_minor": 5
}
