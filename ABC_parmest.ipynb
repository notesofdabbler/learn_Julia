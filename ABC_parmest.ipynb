{
 "cells": [
  {
   "cell_type": "markdown",
   "id": "frequent-rochester",
   "metadata": {},
   "source": [
    "I was trying the A->B->C parameter estimation [example](https://github.com/rawlings-group/paresto/blob/master/examples/green_book/ABC.m) from Rawlings [reactor design book](https://sites.engineering.ucsb.edu/~jbraw/chemreacfun/) in Julia. "
   ]
  },
  {
   "cell_type": "code",
   "execution_count": 1,
   "id": "unavailable-shade",
   "metadata": {},
   "outputs": [],
   "source": [
    "using CSV\n",
    "using DataFrames\n",
    "using JuMP\n",
    "import Ipopt\n",
    "using Plots"
   ]
  },
  {
   "cell_type": "code",
   "execution_count": 2,
   "id": "crazy-climate",
   "metadata": {},
   "outputs": [
    {
     "data": {
      "text/html": [
       "<div class=\"data-frame\"><p>20 rows × 4 columns</p><table class=\"data-frame\"><thead><tr><th></th><th>t</th><th>ca</th><th>cb</th><th>cc</th></tr><tr><th></th><th title=\"Float64\">Float64</th><th title=\"Float64\">Float64</th><th title=\"Float64\">Float64</th><th title=\"Float64\">Float64</th></tr></thead><tbody><tr><th>1</th><td>0.0</td><td>0.957</td><td>-0.031</td><td>-0.015</td></tr><tr><th>2</th><td>0.263</td><td>0.557</td><td>0.33</td><td>0.044</td></tr><tr><th>3</th><td>0.526</td><td>0.342</td><td>0.512</td><td>0.156</td></tr><tr><th>4</th><td>0.789</td><td>0.224</td><td>0.499</td><td>0.31</td></tr><tr><th>5</th><td>1.053</td><td>0.123</td><td>0.428</td><td>0.454</td></tr><tr><th>6</th><td>1.316</td><td>0.079</td><td>0.396</td><td>0.556</td></tr><tr><th>7</th><td>1.579</td><td>0.035</td><td>0.303</td><td>0.651</td></tr><tr><th>8</th><td>1.842</td><td>0.029</td><td>0.287</td><td>0.658</td></tr><tr><th>9</th><td>2.105</td><td>0.025</td><td>0.221</td><td>0.75</td></tr><tr><th>10</th><td>2.368</td><td>0.017</td><td>0.148</td><td>0.854</td></tr><tr><th>11</th><td>2.632</td><td>-0.002</td><td>0.182</td><td>0.845</td></tr><tr><th>12</th><td>2.895</td><td>0.009</td><td>0.116</td><td>0.893</td></tr><tr><th>13</th><td>3.158</td><td>-0.023</td><td>0.079</td><td>0.942</td></tr><tr><th>14</th><td>3.421</td><td>0.006</td><td>0.078</td><td>0.899</td></tr><tr><th>15</th><td>3.684</td><td>0.016</td><td>0.059</td><td>0.942</td></tr><tr><th>16</th><td>3.947</td><td>0.014</td><td>0.036</td><td>0.991</td></tr><tr><th>17</th><td>4.211</td><td>-0.009</td><td>0.014</td><td>0.988</td></tr><tr><th>18</th><td>4.474</td><td>-0.03</td><td>0.036</td><td>0.941</td></tr><tr><th>19</th><td>4.737</td><td>0.004</td><td>0.036</td><td>0.971</td></tr><tr><th>20</th><td>5.0</td><td>-0.024</td><td>0.028</td><td>0.985</td></tr></tbody></table></div>"
      ],
      "text/latex": [
       "\\begin{tabular}{r|cccc}\n",
       "\t& t & ca & cb & cc\\\\\n",
       "\t\\hline\n",
       "\t& Float64 & Float64 & Float64 & Float64\\\\\n",
       "\t\\hline\n",
       "\t1 & 0.0 & 0.957 & -0.031 & -0.015 \\\\\n",
       "\t2 & 0.263 & 0.557 & 0.33 & 0.044 \\\\\n",
       "\t3 & 0.526 & 0.342 & 0.512 & 0.156 \\\\\n",
       "\t4 & 0.789 & 0.224 & 0.499 & 0.31 \\\\\n",
       "\t5 & 1.053 & 0.123 & 0.428 & 0.454 \\\\\n",
       "\t6 & 1.316 & 0.079 & 0.396 & 0.556 \\\\\n",
       "\t7 & 1.579 & 0.035 & 0.303 & 0.651 \\\\\n",
       "\t8 & 1.842 & 0.029 & 0.287 & 0.658 \\\\\n",
       "\t9 & 2.105 & 0.025 & 0.221 & 0.75 \\\\\n",
       "\t10 & 2.368 & 0.017 & 0.148 & 0.854 \\\\\n",
       "\t11 & 2.632 & -0.002 & 0.182 & 0.845 \\\\\n",
       "\t12 & 2.895 & 0.009 & 0.116 & 0.893 \\\\\n",
       "\t13 & 3.158 & -0.023 & 0.079 & 0.942 \\\\\n",
       "\t14 & 3.421 & 0.006 & 0.078 & 0.899 \\\\\n",
       "\t15 & 3.684 & 0.016 & 0.059 & 0.942 \\\\\n",
       "\t16 & 3.947 & 0.014 & 0.036 & 0.991 \\\\\n",
       "\t17 & 4.211 & -0.009 & 0.014 & 0.988 \\\\\n",
       "\t18 & 4.474 & -0.03 & 0.036 & 0.941 \\\\\n",
       "\t19 & 4.737 & 0.004 & 0.036 & 0.971 \\\\\n",
       "\t20 & 5.0 & -0.024 & 0.028 & 0.985 \\\\\n",
       "\\end{tabular}\n"
      ],
      "text/plain": [
       "\u001b[1m20×4 DataFrame\u001b[0m\n",
       "\u001b[1m Row \u001b[0m│\u001b[1m t       \u001b[0m\u001b[1m ca      \u001b[0m\u001b[1m cb      \u001b[0m\u001b[1m cc      \u001b[0m\n",
       "\u001b[1m     \u001b[0m│\u001b[90m Float64 \u001b[0m\u001b[90m Float64 \u001b[0m\u001b[90m Float64 \u001b[0m\u001b[90m Float64 \u001b[0m\n",
       "─────┼────────────────────────────────────\n",
       "   1 │   0.0      0.957   -0.031   -0.015\n",
       "   2 │   0.263    0.557    0.33     0.044\n",
       "   3 │   0.526    0.342    0.512    0.156\n",
       "   4 │   0.789    0.224    0.499    0.31\n",
       "   5 │   1.053    0.123    0.428    0.454\n",
       "   6 │   1.316    0.079    0.396    0.556\n",
       "   7 │   1.579    0.035    0.303    0.651\n",
       "   8 │   1.842    0.029    0.287    0.658\n",
       "   9 │   2.105    0.025    0.221    0.75\n",
       "  10 │   2.368    0.017    0.148    0.854\n",
       "  11 │   2.632   -0.002    0.182    0.845\n",
       "  12 │   2.895    0.009    0.116    0.893\n",
       "  13 │   3.158   -0.023    0.079    0.942\n",
       "  14 │   3.421    0.006    0.078    0.899\n",
       "  15 │   3.684    0.016    0.059    0.942\n",
       "  16 │   3.947    0.014    0.036    0.991\n",
       "  17 │   4.211   -0.009    0.014    0.988\n",
       "  18 │   4.474   -0.03     0.036    0.941\n",
       "  19 │   4.737    0.004    0.036    0.971\n",
       "  20 │   5.0     -0.024    0.028    0.985"
      ]
     },
     "execution_count": 2,
     "metadata": {},
     "output_type": "execute_result"
    }
   ],
   "source": [
    "df = DataFrame(CSV.File(\"../learn_kipet/my_data_sets/ABC_data.csv\"))\n"
   ]
  },
  {
   "cell_type": "code",
   "execution_count": 3,
   "id": "loved-adolescent",
   "metadata": {},
   "outputs": [
    {
     "data": {
      "text/plain": [
       "20-element Vector{Float64}:\n",
       " 0.0\n",
       " 0.2631578947368421\n",
       " 0.5263157894736842\n",
       " 0.7894736842105263\n",
       " 1.0526315789473684\n",
       " 1.3157894736842106\n",
       " 1.5789473684210527\n",
       " 1.8421052631578947\n",
       " 2.1052631578947367\n",
       " 2.3684210526315788\n",
       " 2.6315789473684212\n",
       " 2.8947368421052633\n",
       " 3.1578947368421053\n",
       " 3.4210526315789473\n",
       " 3.6842105263157894\n",
       " 3.9473684210526314\n",
       " 4.2105263157894735\n",
       " 4.473684210526316\n",
       " 4.7368421052631575\n",
       " 5.0"
      ]
     },
     "execution_count": 3,
     "metadata": {},
     "output_type": "execute_result"
    }
   ],
   "source": [
    "tlist = collect(range(0.0, 5.0, length = 20))"
   ]
  },
  {
   "cell_type": "code",
   "execution_count": 4,
   "id": "blind-trader",
   "metadata": {},
   "outputs": [
    {
     "data": {
      "text/plain": [
       "38-element Vector{Float64}:\n",
       " 0.0\n",
       " 0.263\n",
       " 0.2631578947368421\n",
       " 0.526\n",
       " 0.5263157894736842\n",
       " 0.789\n",
       " 0.7894736842105263\n",
       " 1.0526315789473684\n",
       " 1.053\n",
       " 1.3157894736842106\n",
       " 1.316\n",
       " 1.5789473684210527\n",
       " 1.579\n",
       " ⋮\n",
       " 3.4210526315789473\n",
       " 3.684\n",
       " 3.6842105263157894\n",
       " 3.947\n",
       " 3.9473684210526314\n",
       " 4.2105263157894735\n",
       " 4.211\n",
       " 4.473684210526316\n",
       " 4.474\n",
       " 4.7368421052631575\n",
       " 4.737\n",
       " 5.0"
      ]
     },
     "execution_count": 4,
     "metadata": {},
     "output_type": "execute_result"
    }
   ],
   "source": [
    "tlist = unique(sort(vcat(tlist, df.t)))"
   ]
  },
  {
   "cell_type": "code",
   "execution_count": 38,
   "id": "eligible-intelligence",
   "metadata": {},
   "outputs": [
    {
     "data": {
      "text/plain": [
       "A JuMP Model\n",
       "Feasibility problem with:\n",
       "Variables: 0\n",
       "Model mode: AUTOMATIC\n",
       "CachingOptimizer state: EMPTY_OPTIMIZER\n",
       "Solver name: Ipopt"
      ]
     },
     "execution_count": 38,
     "metadata": {},
     "output_type": "execute_result"
    }
   ],
   "source": [
    "pest = Model(Ipopt.Optimizer)"
   ]
  },
  {
   "cell_type": "code",
   "execution_count": 39,
   "id": "approved-beijing",
   "metadata": {},
   "outputs": [
    {
     "data": {
      "text/plain": [
       "38"
      ]
     },
     "execution_count": 39,
     "metadata": {},
     "output_type": "execute_result"
    }
   ],
   "source": [
    "n = length(tlist)"
   ]
  },
  {
   "cell_type": "code",
   "execution_count": 40,
   "id": "center-sweden",
   "metadata": {},
   "outputs": [
    {
     "data": {
      "text/plain": [
       "38-element Vector{VariableRef}:\n",
       " ca[1]\n",
       " ca[2]\n",
       " ca[3]\n",
       " ca[4]\n",
       " ca[5]\n",
       " ca[6]\n",
       " ca[7]\n",
       " ca[8]\n",
       " ca[9]\n",
       " ca[10]\n",
       " ca[11]\n",
       " ca[12]\n",
       " ca[13]\n",
       " ⋮\n",
       " ca[27]\n",
       " ca[28]\n",
       " ca[29]\n",
       " ca[30]\n",
       " ca[31]\n",
       " ca[32]\n",
       " ca[33]\n",
       " ca[34]\n",
       " ca[35]\n",
       " ca[36]\n",
       " ca[37]\n",
       " ca[38]"
      ]
     },
     "execution_count": 40,
     "metadata": {},
     "output_type": "execute_result"
    }
   ],
   "source": [
    "@variable(pest, ca[1:n] >= 0.0)"
   ]
  },
  {
   "cell_type": "code",
   "execution_count": 41,
   "id": "norwegian-professor",
   "metadata": {},
   "outputs": [
    {
     "data": {
      "text/plain": [
       "38-element Vector{VariableRef}:\n",
       " cb[1]\n",
       " cb[2]\n",
       " cb[3]\n",
       " cb[4]\n",
       " cb[5]\n",
       " cb[6]\n",
       " cb[7]\n",
       " cb[8]\n",
       " cb[9]\n",
       " cb[10]\n",
       " cb[11]\n",
       " cb[12]\n",
       " cb[13]\n",
       " ⋮\n",
       " cb[27]\n",
       " cb[28]\n",
       " cb[29]\n",
       " cb[30]\n",
       " cb[31]\n",
       " cb[32]\n",
       " cb[33]\n",
       " cb[34]\n",
       " cb[35]\n",
       " cb[36]\n",
       " cb[37]\n",
       " cb[38]"
      ]
     },
     "execution_count": 41,
     "metadata": {},
     "output_type": "execute_result"
    }
   ],
   "source": [
    "@variable(pest, cb[1:n] >= 0.0)"
   ]
  },
  {
   "cell_type": "code",
   "execution_count": 42,
   "id": "shaped-steering",
   "metadata": {},
   "outputs": [
    {
     "data": {
      "text/plain": [
       "38-element Vector{VariableRef}:\n",
       " cc[1]\n",
       " cc[2]\n",
       " cc[3]\n",
       " cc[4]\n",
       " cc[5]\n",
       " cc[6]\n",
       " cc[7]\n",
       " cc[8]\n",
       " cc[9]\n",
       " cc[10]\n",
       " cc[11]\n",
       " cc[12]\n",
       " cc[13]\n",
       " ⋮\n",
       " cc[27]\n",
       " cc[28]\n",
       " cc[29]\n",
       " cc[30]\n",
       " cc[31]\n",
       " cc[32]\n",
       " cc[33]\n",
       " cc[34]\n",
       " cc[35]\n",
       " cc[36]\n",
       " cc[37]\n",
       " cc[38]"
      ]
     },
     "execution_count": 42,
     "metadata": {},
     "output_type": "execute_result"
    }
   ],
   "source": [
    "@variable(pest, cc[1:n] >= 0.0)"
   ]
  },
  {
   "cell_type": "code",
   "execution_count": 43,
   "id": "boxed-selection",
   "metadata": {},
   "outputs": [
    {
     "data": {
      "text/latex": [
       "$$ k2 $$"
      ],
      "text/plain": [
       "k2"
      ]
     },
     "execution_count": 43,
     "metadata": {},
     "output_type": "execute_result"
    }
   ],
   "source": [
    "@variable(pest, 0.01 <= k1 <= 10.0, start = 1.0)\n",
    "@variable(pest, 0.01 <= k2 <= 10.0, start = 1.0)"
   ]
  },
  {
   "cell_type": "code",
   "execution_count": 44,
   "id": "still-problem",
   "metadata": {},
   "outputs": [],
   "source": [
    "set_lower_bound(ca[1], 0.9)\n",
    "set_upper_bound(ca[1], 1.0)"
   ]
  },
  {
   "cell_type": "code",
   "execution_count": 45,
   "id": "english-shelf",
   "metadata": {},
   "outputs": [],
   "source": [
    "set_upper_bound(cb[1], 0.1)\n",
    "set_upper_bound(cc[1], 0.1)"
   ]
  },
  {
   "cell_type": "code",
   "execution_count": 46,
   "id": "underlying-count",
   "metadata": {},
   "outputs": [
    {
     "data": {
      "text/plain": [
       "37-element Vector{NonlinearConstraintRef{ScalarShape}}:\n",
       " (ca[2] - ca[1]) - (0.263 - 0.0) * (-k1 * ca[2]) = 0\n",
       " (ca[3] - ca[2]) - (0.2631578947368421 - 0.263) * (-k1 * ca[3]) = 0\n",
       " (ca[4] - ca[3]) - (0.526 - 0.2631578947368421) * (-k1 * ca[4]) = 0\n",
       " (ca[5] - ca[4]) - (0.5263157894736842 - 0.526) * (-k1 * ca[5]) = 0\n",
       " (ca[6] - ca[5]) - (0.789 - 0.5263157894736842) * (-k1 * ca[6]) = 0\n",
       " (ca[7] - ca[6]) - (0.7894736842105263 - 0.789) * (-k1 * ca[7]) = 0\n",
       " (ca[8] - ca[7]) - (1.0526315789473684 - 0.7894736842105263) * (-k1 * ca[8]) = 0\n",
       " (ca[9] - ca[8]) - (1.053 - 1.0526315789473684) * (-k1 * ca[9]) = 0\n",
       " (ca[10] - ca[9]) - (1.3157894736842106 - 1.053) * (-k1 * ca[10]) = 0\n",
       " (ca[11] - ca[10]) - (1.316 - 1.3157894736842106) * (-k1 * ca[11]) = 0\n",
       " (ca[12] - ca[11]) - (1.5789473684210527 - 1.316) * (-k1 * ca[12]) = 0\n",
       " (ca[13] - ca[12]) - (1.579 - 1.5789473684210527) * (-k1 * ca[13]) = 0\n",
       " (ca[14] - ca[13]) - (1.842 - 1.579) * (-k1 * ca[14]) = 0\n",
       " ⋮\n",
       " (ca[27] - ca[26]) - (3.4210526315789473 - 3.421) * (-k1 * ca[27]) = 0\n",
       " (ca[28] - ca[27]) - (3.684 - 3.4210526315789473) * (-k1 * ca[28]) = 0\n",
       " (ca[29] - ca[28]) - (3.6842105263157894 - 3.684) * (-k1 * ca[29]) = 0\n",
       " (ca[30] - ca[29]) - (3.947 - 3.6842105263157894) * (-k1 * ca[30]) = 0\n",
       " (ca[31] - ca[30]) - (3.9473684210526314 - 3.947) * (-k1 * ca[31]) = 0\n",
       " (ca[32] - ca[31]) - (4.2105263157894735 - 3.9473684210526314) * (-k1 * ca[32]) = 0\n",
       " (ca[33] - ca[32]) - (4.211 - 4.2105263157894735) * (-k1 * ca[33]) = 0\n",
       " (ca[34] - ca[33]) - (4.473684210526316 - 4.211) * (-k1 * ca[34]) = 0\n",
       " (ca[35] - ca[34]) - (4.474 - 4.473684210526316) * (-k1 * ca[35]) = 0\n",
       " (ca[36] - ca[35]) - (4.7368421052631575 - 4.474) * (-k1 * ca[36]) = 0\n",
       " (ca[37] - ca[36]) - (4.737 - 4.7368421052631575) * (-k1 * ca[37]) = 0\n",
       " (ca[38] - ca[37]) - (5.0 - 4.737) * (-k1 * ca[38]) = 0"
      ]
     },
     "execution_count": 46,
     "metadata": {},
     "output_type": "execute_result"
    }
   ],
   "source": [
    "@NLconstraint(pest,\n",
    "     [i=1:(n-1)],\n",
    "      ca[i+1] - ca[i] == (tlist[i+1] - tlist[i]) * (-k1*ca[i+1])\n",
    ")\n"
   ]
  },
  {
   "cell_type": "code",
   "execution_count": 47,
   "id": "outdoor-voluntary",
   "metadata": {},
   "outputs": [
    {
     "data": {
      "text/plain": [
       "37-element Vector{NonlinearConstraintRef{ScalarShape}}:\n",
       " (cb[2] - cb[1]) - (0.263 - 0.0) * (k1 * ca[2] - k2 * cb[2]) = 0\n",
       " (cb[3] - cb[2]) - (0.2631578947368421 - 0.263) * (k1 * ca[3] - k2 * cb[3]) = 0\n",
       " (cb[4] - cb[3]) - (0.526 - 0.2631578947368421) * (k1 * ca[4] - k2 * cb[4]) = 0\n",
       " (cb[5] - cb[4]) - (0.5263157894736842 - 0.526) * (k1 * ca[5] - k2 * cb[5]) = 0\n",
       " (cb[6] - cb[5]) - (0.789 - 0.5263157894736842) * (k1 * ca[6] - k2 * cb[6]) = 0\n",
       " (cb[7] - cb[6]) - (0.7894736842105263 - 0.789) * (k1 * ca[7] - k2 * cb[7]) = 0\n",
       " (cb[8] - cb[7]) - (1.0526315789473684 - 0.7894736842105263) * (k1 * ca[8] - k2 * cb[8]) = 0\n",
       " (cb[9] - cb[8]) - (1.053 - 1.0526315789473684) * (k1 * ca[9] - k2 * cb[9]) = 0\n",
       " (cb[10] - cb[9]) - (1.3157894736842106 - 1.053) * (k1 * ca[10] - k2 * cb[10]) = 0\n",
       " (cb[11] - cb[10]) - (1.316 - 1.3157894736842106) * (k1 * ca[11] - k2 * cb[11]) = 0\n",
       " (cb[12] - cb[11]) - (1.5789473684210527 - 1.316) * (k1 * ca[12] - k2 * cb[12]) = 0\n",
       " (cb[13] - cb[12]) - (1.579 - 1.5789473684210527) * (k1 * ca[13] - k2 * cb[13]) = 0\n",
       " (cb[14] - cb[13]) - (1.842 - 1.579) * (k1 * ca[14] - k2 * cb[14]) = 0\n",
       " ⋮\n",
       " (cb[27] - cb[26]) - (3.4210526315789473 - 3.421) * (k1 * ca[27] - k2 * cb[27]) = 0\n",
       " (cb[28] - cb[27]) - (3.684 - 3.4210526315789473) * (k1 * ca[28] - k2 * cb[28]) = 0\n",
       " (cb[29] - cb[28]) - (3.6842105263157894 - 3.684) * (k1 * ca[29] - k2 * cb[29]) = 0\n",
       " (cb[30] - cb[29]) - (3.947 - 3.6842105263157894) * (k1 * ca[30] - k2 * cb[30]) = 0\n",
       " (cb[31] - cb[30]) - (3.9473684210526314 - 3.947) * (k1 * ca[31] - k2 * cb[31]) = 0\n",
       " (cb[32] - cb[31]) - (4.2105263157894735 - 3.9473684210526314) * (k1 * ca[32] - k2 * cb[32]) = 0\n",
       " (cb[33] - cb[32]) - (4.211 - 4.2105263157894735) * (k1 * ca[33] - k2 * cb[33]) = 0\n",
       " (cb[34] - cb[33]) - (4.473684210526316 - 4.211) * (k1 * ca[34] - k2 * cb[34]) = 0\n",
       " (cb[35] - cb[34]) - (4.474 - 4.473684210526316) * (k1 * ca[35] - k2 * cb[35]) = 0\n",
       " (cb[36] - cb[35]) - (4.7368421052631575 - 4.474) * (k1 * ca[36] - k2 * cb[36]) = 0\n",
       " (cb[37] - cb[36]) - (4.737 - 4.7368421052631575) * (k1 * ca[37] - k2 * cb[37]) = 0\n",
       " (cb[38] - cb[37]) - (5.0 - 4.737) * (k1 * ca[38] - k2 * cb[38]) = 0"
      ]
     },
     "execution_count": 47,
     "metadata": {},
     "output_type": "execute_result"
    }
   ],
   "source": [
    "@NLconstraint(pest,\n",
    "     [i=1:(n-1)],\n",
    "      cb[i+1] - cb[i] == (tlist[i+1] - tlist[i]) * (k1*ca[i+1]-k2*cb[i+1])\n",
    ")"
   ]
  },
  {
   "cell_type": "code",
   "execution_count": 48,
   "id": "scheduled-framework",
   "metadata": {},
   "outputs": [
    {
     "data": {
      "text/plain": [
       "37-element Vector{NonlinearConstraintRef{ScalarShape}}:\n",
       " (cc[2] - cc[1]) - (0.263 - 0.0) * (k2 * cb[2]) = 0\n",
       " (cc[3] - cc[2]) - (0.2631578947368421 - 0.263) * (k2 * cb[3]) = 0\n",
       " (cc[4] - cc[3]) - (0.526 - 0.2631578947368421) * (k2 * cb[4]) = 0\n",
       " (cc[5] - cc[4]) - (0.5263157894736842 - 0.526) * (k2 * cb[5]) = 0\n",
       " (cc[6] - cc[5]) - (0.789 - 0.5263157894736842) * (k2 * cb[6]) = 0\n",
       " (cc[7] - cc[6]) - (0.7894736842105263 - 0.789) * (k2 * cb[7]) = 0\n",
       " (cc[8] - cc[7]) - (1.0526315789473684 - 0.7894736842105263) * (k2 * cb[8]) = 0\n",
       " (cc[9] - cc[8]) - (1.053 - 1.0526315789473684) * (k2 * cb[9]) = 0\n",
       " (cc[10] - cc[9]) - (1.3157894736842106 - 1.053) * (k2 * cb[10]) = 0\n",
       " (cc[11] - cc[10]) - (1.316 - 1.3157894736842106) * (k2 * cb[11]) = 0\n",
       " (cc[12] - cc[11]) - (1.5789473684210527 - 1.316) * (k2 * cb[12]) = 0\n",
       " (cc[13] - cc[12]) - (1.579 - 1.5789473684210527) * (k2 * cb[13]) = 0\n",
       " (cc[14] - cc[13]) - (1.842 - 1.579) * (k2 * cb[14]) = 0\n",
       " ⋮\n",
       " (cc[27] - cc[26]) - (3.4210526315789473 - 3.421) * (k2 * cb[27]) = 0\n",
       " (cc[28] - cc[27]) - (3.684 - 3.4210526315789473) * (k2 * cb[28]) = 0\n",
       " (cc[29] - cc[28]) - (3.6842105263157894 - 3.684) * (k2 * cb[29]) = 0\n",
       " (cc[30] - cc[29]) - (3.947 - 3.6842105263157894) * (k2 * cb[30]) = 0\n",
       " (cc[31] - cc[30]) - (3.9473684210526314 - 3.947) * (k2 * cb[31]) = 0\n",
       " (cc[32] - cc[31]) - (4.2105263157894735 - 3.9473684210526314) * (k2 * cb[32]) = 0\n",
       " (cc[33] - cc[32]) - (4.211 - 4.2105263157894735) * (k2 * cb[33]) = 0\n",
       " (cc[34] - cc[33]) - (4.473684210526316 - 4.211) * (k2 * cb[34]) = 0\n",
       " (cc[35] - cc[34]) - (4.474 - 4.473684210526316) * (k2 * cb[35]) = 0\n",
       " (cc[36] - cc[35]) - (4.7368421052631575 - 4.474) * (k2 * cb[36]) = 0\n",
       " (cc[37] - cc[36]) - (4.737 - 4.7368421052631575) * (k2 * cb[37]) = 0\n",
       " (cc[38] - cc[37]) - (5.0 - 4.737) * (k2 * cb[38]) = 0"
      ]
     },
     "execution_count": 48,
     "metadata": {},
     "output_type": "execute_result"
    }
   ],
   "source": [
    "@NLconstraint(pest,\n",
    "     [i=1:(n-1)],\n",
    "      cc[i+1] - cc[i] == (tlist[i+1] - tlist[i]) * (k2*cb[i+1])\n",
    ")"
   ]
  },
  {
   "cell_type": "code",
   "execution_count": 49,
   "id": "persistent-throat",
   "metadata": {},
   "outputs": [
    {
     "data": {
      "text/plain": [
       "20-element Vector{Union{Nothing, Int64}}:\n",
       "  1\n",
       "  2\n",
       "  4\n",
       "  6\n",
       "  9\n",
       " 11\n",
       " 13\n",
       " 14\n",
       " 16\n",
       " 18\n",
       " 21\n",
       " 23\n",
       " 25\n",
       " 26\n",
       " 28\n",
       " 30\n",
       " 33\n",
       " 35\n",
       " 37\n",
       " 38"
      ]
     },
     "execution_count": 49,
     "metadata": {},
     "output_type": "execute_result"
    }
   ],
   "source": [
    "iexp = indexin(df.t, tlist)"
   ]
  },
  {
   "cell_type": "code",
   "execution_count": 50,
   "id": "defined-likelihood",
   "metadata": {},
   "outputs": [],
   "source": [
    "@NLobjective(pest, Min, \n",
    "  sum((ca[ie] - df.ca[i])^2+(cb[ie] - df.cb[i])^2+(cc[ie]-df.cc[i])^2 for (i, ie) in enumerate(iexp))\n",
    ")"
   ]
  },
  {
   "cell_type": "code",
   "execution_count": 51,
   "id": "constant-thanksgiving",
   "metadata": {},
   "outputs": [
    {
     "name": "stdout",
     "output_type": "stream",
     "text": [
      "This is Ipopt version 3.13.4, running with linear solver mumps.\n",
      "NOTE: Other linear solvers might be more efficient (see Ipopt documentation).\n",
      "\n",
      "Number of nonzeros in equality constraint Jacobian...:      444\n",
      "Number of nonzeros in inequality constraint Jacobian.:        0\n",
      "Number of nonzeros in Lagrangian Hessian.............:      504\n",
      "\n",
      "Total number of variables............................:      116\n",
      "                     variables with only lower bounds:      111\n",
      "                variables with lower and upper bounds:        5\n",
      "                     variables with only upper bounds:        0\n",
      "Total number of equality constraints.................:      111\n",
      "Total number of inequality constraints...............:        0\n",
      "        inequality constraints with only lower bounds:        0\n",
      "   inequality constraints with lower and upper bounds:        0\n",
      "        inequality constraints with only upper bounds:        0\n",
      "\n",
      "iter    objective    inf_pr   inf_du lg(mu)  ||d||  lg(rg) alpha_du alpha_pr  ls\n",
      "   0  1.3043932e+01 8.88e-01 2.56e+00  -1.0 0.00e+00    -  0.00e+00 0.00e+00   0\n",
      "   1  1.3015782e+01 8.85e-01 9.50e+00  -1.0 5.08e+00    -  2.39e-02 3.73e-03f  1\n",
      "   2  1.2781673e+01 8.72e-01 1.40e+01  -1.0 7.66e+00    -  2.70e-02 1.54e-02f  1\n",
      "   3  1.0021945e+01 7.44e-01 2.06e+01  -1.0 4.68e+00    -  7.45e-02 1.80e-01f  1\n",
      "   4  1.0051284e+01 7.02e-01 1.68e+01  -1.0 7.07e-01    -  2.03e-02 5.64e-02f  1\n",
      "   5  9.2057535e+00 2.20e-01 1.06e+02  -1.0 1.33e+00    -  1.51e-01 1.00e+00f  1\n",
      "   6  8.8019803e+00 1.32e-01 1.02e+02  -1.0 9.74e-01   2.0 9.03e-01 4.01e-01h  1\n",
      "   7  1.0720205e+01 3.98e-02 4.09e+01  -1.0 9.55e-01   1.5 1.68e-01 9.47e-01h  1\n",
      "   8  8.8174026e+00 3.54e-02 4.01e+01  -1.0 3.60e+01    -  1.12e-02 1.42e-02h  1\n",
      "   9  7.0708971e+00 6.04e-03 2.76e+01  -1.0 2.24e-01   1.0 4.77e-01 1.00e+00f  1\n",
      "iter    objective    inf_pr   inf_du lg(mu)  ||d||  lg(rg) alpha_du alpha_pr  ls\n",
      "  10  5.6742030e+00 4.51e-03 1.91e+01  -1.0 3.04e-01    -  3.82e-01 2.66e-01f  1\n",
      "  11  4.6207531e+00 3.48e-03 1.41e+01  -1.0 3.07e-01    -  2.83e-01 2.63e-01f  1\n",
      "  12  2.2506792e+00 1.12e-02 2.25e+00  -1.0 2.19e-01    -  1.00e+00 1.00e+00f  1\n",
      "  13  2.1584711e+00 7.43e-04 1.09e-01  -1.0 7.23e-02    -  1.00e+00 1.00e+00f  1\n",
      "  14  1.1289350e+00 4.76e-03 2.76e+00  -2.5 1.70e-01    -  7.93e-01 1.00e+00f  1\n",
      "  15  5.3995994e-01 8.83e-03 2.09e+00  -2.5 2.76e-01    -  3.84e-01 1.00e+00f  1\n",
      "  16  2.1801289e-01 9.40e-03 7.31e-01  -2.5 3.24e-01    -  7.43e-01 1.00e+00h  1\n",
      "  17  1.1005704e-01 4.57e-03 4.69e-01  -2.5 3.38e-01    -  6.38e-01 1.00e+00h  1\n",
      "  18  9.9511026e-02 1.50e-04 1.59e-02  -2.5 1.04e-01    -  1.00e+00 1.00e+00h  1\n",
      "  19  5.1691765e-02 3.57e-03 6.36e-01  -3.8 4.38e-01    -  4.70e-01 6.83e-01f  1\n",
      "iter    objective    inf_pr   inf_du lg(mu)  ||d||  lg(rg) alpha_du alpha_pr  ls\n",
      "  20  3.2037409e-02 4.56e-03 1.59e+00  -3.8 4.14e-01    -  7.04e-01 1.00e+00h  1\n",
      "  21  3.0993913e-02 3.56e-04 1.22e+00  -3.8 1.46e-01    -  9.10e-01 1.00e+00h  1\n",
      "  22  3.1250854e-02 6.14e-05 4.82e-02  -3.8 4.63e-02    -  1.00e+00 1.00e+00h  1\n",
      "  23  3.1284686e-02 2.77e-07 1.60e-04  -3.8 3.27e-03    -  1.00e+00 1.00e+00h  1\n",
      "  24  3.0664070e-02 1.64e-04 1.64e-01  -5.7 8.78e-02    -  9.29e-01 9.83e-01h  1\n",
      "  25  3.0649742e-02 1.46e-06 2.40e-03  -5.7 1.11e-02    -  1.00e+00 1.00e+00h  1\n",
      "  26  3.0648956e-02 4.04e-08 2.79e-06  -5.7 1.21e-03    -  1.00e+00 1.00e+00h  1\n",
      "  27  3.0646959e-02 4.51e-08 6.86e-05  -8.6 1.62e-03    -  9.99e-01 1.00e+00h  1\n",
      "  28  3.0646959e-02 8.35e-12 1.11e-09  -8.6 1.93e-05    -  1.00e+00 1.00e+00h  1\n",
      "\n",
      "Number of Iterations....: 28\n",
      "\n",
      "                                   (scaled)                 (unscaled)\n",
      "Objective...............:   3.0646959247377339e-02    3.0646959247377339e-02\n",
      "Dual infeasibility......:   1.1068636201008470e-09    1.1068636201008470e-09\n",
      "Constraint violation....:   8.3527629257673652e-12    8.3527629257673652e-12\n",
      "Complementarity.........:   2.6148759999919068e-09    2.6148759999919068e-09\n",
      "Overall NLP error.......:   2.6148759999919068e-09    2.6148759999919068e-09\n",
      "\n",
      "\n",
      "Number of objective function evaluations             = 29\n",
      "Number of objective gradient evaluations             = 29\n",
      "Number of equality constraint evaluations            = 29\n",
      "Number of inequality constraint evaluations          = 0\n",
      "Number of equality constraint Jacobian evaluations   = 29\n",
      "Number of inequality constraint Jacobian evaluations = 0\n",
      "Number of Lagrangian Hessian evaluations             = 28\n",
      "Total CPU secs in IPOPT (w/o function evaluations)   =      0.048\n",
      "Total CPU secs in NLP function evaluations           =      0.008\n",
      "\n",
      "EXIT: Optimal Solution Found.\n"
     ]
    }
   ],
   "source": [
    "optimize!(pest)"
   ]
  },
  {
   "cell_type": "code",
   "execution_count": 52,
   "id": "serial-speech",
   "metadata": {},
   "outputs": [
    {
     "data": {
      "text/plain": [
       "* Solver : Ipopt\n",
       "\n",
       "* Status\n",
       "  Termination status : LOCALLY_SOLVED\n",
       "  Primal status      : FEASIBLE_POINT\n",
       "  Dual status        : FEASIBLE_POINT\n",
       "  Message from the solver:\n",
       "  \"Solve_Succeeded\"\n",
       "\n",
       "* Candidate solution\n",
       "  Objective value      : 0.03064695924737734\n",
       "\n",
       "* Work counters\n",
       "  Solve time (sec)   : 0.07321\n"
      ]
     },
     "execution_count": 52,
     "metadata": {},
     "output_type": "execute_result"
    }
   ],
   "source": [
    "solution_summary(pest)"
   ]
  },
  {
   "cell_type": "code",
   "execution_count": 53,
   "id": "acoustic-keeping",
   "metadata": {},
   "outputs": [
    {
     "data": {
      "text/plain": [
       "(2.7256732987169556, 0.9877370841922472)"
      ]
     },
     "execution_count": 53,
     "metadata": {},
     "output_type": "execute_result"
    }
   ],
   "source": [
    "value(k1), value(k2)"
   ]
  },
  {
   "cell_type": "code",
   "execution_count": 54,
   "id": "funded-jones",
   "metadata": {},
   "outputs": [
    {
     "data": {
      "text/plain": [
       "38-element Vector{Float64}:\n",
       " 7.2220209046280955e-9\n",
       " 0.08731750530396548\n",
       " 0.08736995796476303\n",
       " 0.20653437534842953\n",
       " 0.20667759033166808\n",
       " 0.3302573498042856\n",
       " 0.3304802087980067\n",
       " 0.44566268058212277\n",
       " 0.4458239190958466\n",
       " 0.546953263671016\n",
       " 0.5470342716596486\n",
       " 0.6330763540670878\n",
       " 0.6330935756548691\n",
       " ⋮\n",
       " 0.9258353769608357\n",
       " 0.9416588813900261\n",
       " 0.9416715477557925\n",
       " 0.9542680580692279\n",
       " 0.9542857115919618\n",
       " 0.9643195578410441\n",
       " 0.9643376104224268\n",
       " 0.972301232039619\n",
       " 0.9723108026598029\n",
       " 0.9786435596775946\n",
       " 0.9786473633075969\n",
       " 0.983681549924625"
      ]
     },
     "execution_count": 54,
     "metadata": {},
     "output_type": "execute_result"
    }
   ],
   "source": [
    "ca_pred = [value(ca[i]) for i in 1:n]\n",
    "cb_pred = [value(cb[i]) for i in 1:n]\n",
    "cc_pred = [value(cc[i]) for i in 1:n]\n"
   ]
  },
  {
   "cell_type": "code",
   "execution_count": 57,
   "id": "honest-chuck",
   "metadata": {},
   "outputs": [
    {
     "data": {
      "image/svg+xml": [
       "<?xml version=\"1.0\" encoding=\"utf-8\"?>\n",
       "<svg xmlns=\"http://www.w3.org/2000/svg\" xmlns:xlink=\"http://www.w3.org/1999/xlink\" width=\"600\" height=\"400\" viewBox=\"0 0 2400 1600\">\n",
       "<defs>\n",
       "  <clipPath id=\"clip620\">\n",
       "    <rect x=\"0\" y=\"0\" width=\"2400\" height=\"1600\"/>\n",
       "  </clipPath>\n",
       "</defs>\n",
       "<path clip-path=\"url(#clip620)\" d=\"\n",
       "M0 1600 L2400 1600 L2400 0 L0 0  Z\n",
       "  \" fill=\"#ffffff\" fill-rule=\"evenodd\" fill-opacity=\"1\"/>\n",
       "<defs>\n",
       "  <clipPath id=\"clip621\">\n",
       "    <rect x=\"480\" y=\"0\" width=\"1681\" height=\"1600\"/>\n",
       "  </clipPath>\n",
       "</defs>\n",
       "<path clip-path=\"url(#clip620)\" d=\"\n",
       "M186.274 1486.45 L2352.76 1486.45 L2352.76 47.2441 L186.274 47.2441  Z\n",
       "  \" fill=\"#ffffff\" fill-rule=\"evenodd\" fill-opacity=\"1\"/>\n",
       "<defs>\n",
       "  <clipPath id=\"clip622\">\n",
       "    <rect x=\"186\" y=\"47\" width=\"2167\" height=\"1440\"/>\n",
       "  </clipPath>\n",
       "</defs>\n",
       "<polyline clip-path=\"url(#clip622)\" style=\"stroke:#000000; stroke-linecap:butt; stroke-linejoin:round; stroke-width:2; stroke-opacity:0.1; fill:none\" points=\"\n",
       "  247.59,1486.45 247.59,47.2441 \n",
       "  \"/>\n",
       "<polyline clip-path=\"url(#clip622)\" style=\"stroke:#000000; stroke-linecap:butt; stroke-linejoin:round; stroke-width:2; stroke-opacity:0.1; fill:none\" points=\"\n",
       "  656.36,1486.45 656.36,47.2441 \n",
       "  \"/>\n",
       "<polyline clip-path=\"url(#clip622)\" style=\"stroke:#000000; stroke-linecap:butt; stroke-linejoin:round; stroke-width:2; stroke-opacity:0.1; fill:none\" points=\"\n",
       "  1065.13,1486.45 1065.13,47.2441 \n",
       "  \"/>\n",
       "<polyline clip-path=\"url(#clip622)\" style=\"stroke:#000000; stroke-linecap:butt; stroke-linejoin:round; stroke-width:2; stroke-opacity:0.1; fill:none\" points=\"\n",
       "  1473.9,1486.45 1473.9,47.2441 \n",
       "  \"/>\n",
       "<polyline clip-path=\"url(#clip622)\" style=\"stroke:#000000; stroke-linecap:butt; stroke-linejoin:round; stroke-width:2; stroke-opacity:0.1; fill:none\" points=\"\n",
       "  1882.67,1486.45 1882.67,47.2441 \n",
       "  \"/>\n",
       "<polyline clip-path=\"url(#clip622)\" style=\"stroke:#000000; stroke-linecap:butt; stroke-linejoin:round; stroke-width:2; stroke-opacity:0.1; fill:none\" points=\"\n",
       "  2291.44,1486.45 2291.44,47.2441 \n",
       "  \"/>\n",
       "<polyline clip-path=\"url(#clip620)\" style=\"stroke:#000000; stroke-linecap:butt; stroke-linejoin:round; stroke-width:4; stroke-opacity:1; fill:none\" points=\"\n",
       "  186.274,1486.45 2352.76,1486.45 \n",
       "  \"/>\n",
       "<polyline clip-path=\"url(#clip620)\" style=\"stroke:#000000; stroke-linecap:butt; stroke-linejoin:round; stroke-width:4; stroke-opacity:1; fill:none\" points=\"\n",
       "  247.59,1486.45 247.59,1467.55 \n",
       "  \"/>\n",
       "<polyline clip-path=\"url(#clip620)\" style=\"stroke:#000000; stroke-linecap:butt; stroke-linejoin:round; stroke-width:4; stroke-opacity:1; fill:none\" points=\"\n",
       "  656.36,1486.45 656.36,1467.55 \n",
       "  \"/>\n",
       "<polyline clip-path=\"url(#clip620)\" style=\"stroke:#000000; stroke-linecap:butt; stroke-linejoin:round; stroke-width:4; stroke-opacity:1; fill:none\" points=\"\n",
       "  1065.13,1486.45 1065.13,1467.55 \n",
       "  \"/>\n",
       "<polyline clip-path=\"url(#clip620)\" style=\"stroke:#000000; stroke-linecap:butt; stroke-linejoin:round; stroke-width:4; stroke-opacity:1; fill:none\" points=\"\n",
       "  1473.9,1486.45 1473.9,1467.55 \n",
       "  \"/>\n",
       "<polyline clip-path=\"url(#clip620)\" style=\"stroke:#000000; stroke-linecap:butt; stroke-linejoin:round; stroke-width:4; stroke-opacity:1; fill:none\" points=\"\n",
       "  1882.67,1486.45 1882.67,1467.55 \n",
       "  \"/>\n",
       "<polyline clip-path=\"url(#clip620)\" style=\"stroke:#000000; stroke-linecap:butt; stroke-linejoin:round; stroke-width:4; stroke-opacity:1; fill:none\" points=\"\n",
       "  2291.44,1486.45 2291.44,1467.55 \n",
       "  \"/>\n",
       "<path clip-path=\"url(#clip620)\" d=\"M247.59 1515.64 Q243.978 1515.64 242.15 1519.2 Q240.344 1522.75 240.344 1529.87 Q240.344 1536.98 242.15 1540.55 Q243.978 1544.09 247.59 1544.09 Q251.224 1544.09 253.029 1540.55 Q254.858 1536.98 254.858 1529.87 Q254.858 1522.75 253.029 1519.2 Q251.224 1515.64 247.59 1515.64 M247.59 1511.93 Q253.4 1511.93 256.455 1516.54 Q259.534 1521.12 259.534 1529.87 Q259.534 1538.6 256.455 1543.21 Q253.4 1547.79 247.59 1547.79 Q241.779 1547.79 238.701 1543.21 Q235.645 1538.6 235.645 1529.87 Q235.645 1521.12 238.701 1516.54 Q241.779 1511.93 247.59 1511.93 Z\" fill=\"#000000\" fill-rule=\"evenodd\" fill-opacity=\"1\" /><path clip-path=\"url(#clip620)\" d=\"M646.742 1543.18 L654.381 1543.18 L654.381 1516.82 L646.07 1518.49 L646.07 1514.23 L654.334 1512.56 L659.01 1512.56 L659.01 1543.18 L666.649 1543.18 L666.649 1547.12 L646.742 1547.12 L646.742 1543.18 Z\" fill=\"#000000\" fill-rule=\"evenodd\" fill-opacity=\"1\" /><path clip-path=\"url(#clip620)\" d=\"M1059.78 1543.18 L1076.1 1543.18 L1076.1 1547.12 L1054.16 1547.12 L1054.16 1543.18 Q1056.82 1540.43 1061.4 1535.8 Q1066.01 1531.15 1067.19 1529.81 Q1069.44 1527.28 1070.32 1525.55 Q1071.22 1523.79 1071.22 1522.1 Q1071.22 1519.34 1069.27 1517.61 Q1067.35 1515.87 1064.25 1515.87 Q1062.05 1515.87 1059.6 1516.63 Q1057.17 1517.4 1054.39 1518.95 L1054.39 1514.23 Q1057.21 1513.09 1059.67 1512.51 Q1062.12 1511.93 1064.16 1511.93 Q1069.53 1511.93 1072.72 1514.62 Q1075.92 1517.31 1075.92 1521.8 Q1075.92 1523.93 1075.11 1525.85 Q1074.32 1527.74 1072.21 1530.34 Q1071.63 1531.01 1068.53 1534.23 Q1065.43 1537.42 1059.78 1543.18 Z\" fill=\"#000000\" fill-rule=\"evenodd\" fill-opacity=\"1\" /><path clip-path=\"url(#clip620)\" d=\"M1478.15 1528.49 Q1481.5 1529.2 1483.38 1531.47 Q1485.28 1533.74 1485.28 1537.07 Q1485.28 1542.19 1481.76 1544.99 Q1478.24 1547.79 1471.76 1547.79 Q1469.58 1547.79 1467.27 1547.35 Q1464.98 1546.93 1462.52 1546.08 L1462.52 1541.56 Q1464.47 1542.7 1466.78 1543.28 Q1469.1 1543.86 1471.62 1543.86 Q1476.02 1543.86 1478.31 1542.12 Q1480.62 1540.38 1480.62 1537.07 Q1480.62 1534.02 1478.47 1532.31 Q1476.34 1530.57 1472.52 1530.57 L1468.49 1530.57 L1468.49 1526.73 L1472.71 1526.73 Q1476.16 1526.73 1477.99 1525.36 Q1479.81 1523.97 1479.81 1521.38 Q1479.81 1518.72 1477.92 1517.31 Q1476.04 1515.87 1472.52 1515.87 Q1470.6 1515.87 1468.4 1516.29 Q1466.2 1516.7 1463.56 1517.58 L1463.56 1513.42 Q1466.23 1512.68 1468.54 1512.31 Q1470.88 1511.93 1472.94 1511.93 Q1478.26 1511.93 1481.37 1514.37 Q1484.47 1516.77 1484.47 1520.89 Q1484.47 1523.76 1482.82 1525.75 Q1481.18 1527.72 1478.15 1528.49 Z\" fill=\"#000000\" fill-rule=\"evenodd\" fill-opacity=\"1\" /><path clip-path=\"url(#clip620)\" d=\"M1885.68 1516.63 L1873.87 1535.08 L1885.68 1535.08 L1885.68 1516.63 M1884.45 1512.56 L1890.33 1512.56 L1890.33 1535.08 L1895.26 1535.08 L1895.26 1538.97 L1890.33 1538.97 L1890.33 1547.12 L1885.68 1547.12 L1885.68 1538.97 L1870.08 1538.97 L1870.08 1534.46 L1884.45 1512.56 Z\" fill=\"#000000\" fill-rule=\"evenodd\" fill-opacity=\"1\" /><path clip-path=\"url(#clip620)\" d=\"M2281.72 1512.56 L2300.07 1512.56 L2300.07 1516.5 L2286 1516.5 L2286 1524.97 Q2287.02 1524.62 2288.04 1524.46 Q2289.06 1524.27 2290.07 1524.27 Q2295.86 1524.27 2299.24 1527.44 Q2302.62 1530.62 2302.62 1536.03 Q2302.62 1541.61 2299.15 1544.71 Q2295.68 1547.79 2289.36 1547.79 Q2287.18 1547.79 2284.91 1547.42 Q2282.67 1547.05 2280.26 1546.31 L2280.26 1541.61 Q2282.34 1542.74 2284.57 1543.3 Q2286.79 1543.86 2289.26 1543.86 Q2293.27 1543.86 2295.61 1541.75 Q2297.94 1539.64 2297.94 1536.03 Q2297.94 1532.42 2295.61 1530.31 Q2293.27 1528.21 2289.26 1528.21 Q2287.39 1528.21 2285.51 1528.62 Q2283.66 1529.04 2281.72 1529.92 L2281.72 1512.56 Z\" fill=\"#000000\" fill-rule=\"evenodd\" fill-opacity=\"1\" /><polyline clip-path=\"url(#clip622)\" style=\"stroke:#000000; stroke-linecap:butt; stroke-linejoin:round; stroke-width:2; stroke-opacity:0.1; fill:none\" points=\"\n",
       "  186.274,1404.7 2352.76,1404.7 \n",
       "  \"/>\n",
       "<polyline clip-path=\"url(#clip622)\" style=\"stroke:#000000; stroke-linecap:butt; stroke-linejoin:round; stroke-width:2; stroke-opacity:0.1; fill:none\" points=\"\n",
       "  186.274,1073.92 2352.76,1073.92 \n",
       "  \"/>\n",
       "<polyline clip-path=\"url(#clip622)\" style=\"stroke:#000000; stroke-linecap:butt; stroke-linejoin:round; stroke-width:2; stroke-opacity:0.1; fill:none\" points=\"\n",
       "  186.274,743.144 2352.76,743.144 \n",
       "  \"/>\n",
       "<polyline clip-path=\"url(#clip622)\" style=\"stroke:#000000; stroke-linecap:butt; stroke-linejoin:round; stroke-width:2; stroke-opacity:0.1; fill:none\" points=\"\n",
       "  186.274,412.367 2352.76,412.367 \n",
       "  \"/>\n",
       "<polyline clip-path=\"url(#clip622)\" style=\"stroke:#000000; stroke-linecap:butt; stroke-linejoin:round; stroke-width:2; stroke-opacity:0.1; fill:none\" points=\"\n",
       "  186.274,81.5892 2352.76,81.5892 \n",
       "  \"/>\n",
       "<polyline clip-path=\"url(#clip620)\" style=\"stroke:#000000; stroke-linecap:butt; stroke-linejoin:round; stroke-width:4; stroke-opacity:1; fill:none\" points=\"\n",
       "  186.274,1486.45 186.274,47.2441 \n",
       "  \"/>\n",
       "<polyline clip-path=\"url(#clip620)\" style=\"stroke:#000000; stroke-linecap:butt; stroke-linejoin:round; stroke-width:4; stroke-opacity:1; fill:none\" points=\"\n",
       "  186.274,1404.7 205.172,1404.7 \n",
       "  \"/>\n",
       "<polyline clip-path=\"url(#clip620)\" style=\"stroke:#000000; stroke-linecap:butt; stroke-linejoin:round; stroke-width:4; stroke-opacity:1; fill:none\" points=\"\n",
       "  186.274,1073.92 205.172,1073.92 \n",
       "  \"/>\n",
       "<polyline clip-path=\"url(#clip620)\" style=\"stroke:#000000; stroke-linecap:butt; stroke-linejoin:round; stroke-width:4; stroke-opacity:1; fill:none\" points=\"\n",
       "  186.274,743.144 205.172,743.144 \n",
       "  \"/>\n",
       "<polyline clip-path=\"url(#clip620)\" style=\"stroke:#000000; stroke-linecap:butt; stroke-linejoin:round; stroke-width:4; stroke-opacity:1; fill:none\" points=\"\n",
       "  186.274,412.367 205.172,412.367 \n",
       "  \"/>\n",
       "<polyline clip-path=\"url(#clip620)\" style=\"stroke:#000000; stroke-linecap:butt; stroke-linejoin:round; stroke-width:4; stroke-opacity:1; fill:none\" points=\"\n",
       "  186.274,81.5892 205.172,81.5892 \n",
       "  \"/>\n",
       "<path clip-path=\"url(#clip620)\" d=\"M62.9365 1390.5 Q59.3254 1390.5 57.4967 1394.06 Q55.6912 1397.6 55.6912 1404.73 Q55.6912 1411.84 57.4967 1415.41 Q59.3254 1418.95 62.9365 1418.95 Q66.5707 1418.95 68.3763 1415.41 Q70.205 1411.84 70.205 1404.73 Q70.205 1397.6 68.3763 1394.06 Q66.5707 1390.5 62.9365 1390.5 M62.9365 1386.79 Q68.7467 1386.79 71.8022 1391.4 Q74.8809 1395.98 74.8809 1404.73 Q74.8809 1413.46 71.8022 1418.07 Q68.7467 1422.65 62.9365 1422.65 Q57.1264 1422.65 54.0477 1418.07 Q50.9921 1413.46 50.9921 1404.73 Q50.9921 1395.98 54.0477 1391.4 Q57.1264 1386.79 62.9365 1386.79 Z\" fill=\"#000000\" fill-rule=\"evenodd\" fill-opacity=\"1\" /><path clip-path=\"url(#clip620)\" d=\"M83.0984 1416.1 L87.9827 1416.1 L87.9827 1421.98 L83.0984 1421.98 L83.0984 1416.1 Z\" fill=\"#000000\" fill-rule=\"evenodd\" fill-opacity=\"1\" /><path clip-path=\"url(#clip620)\" d=\"M108.168 1390.5 Q104.557 1390.5 102.728 1394.06 Q100.922 1397.6 100.922 1404.73 Q100.922 1411.84 102.728 1415.41 Q104.557 1418.95 108.168 1418.95 Q111.802 1418.95 113.608 1415.41 Q115.436 1411.84 115.436 1404.73 Q115.436 1397.6 113.608 1394.06 Q111.802 1390.5 108.168 1390.5 M108.168 1386.79 Q113.978 1386.79 117.033 1391.4 Q120.112 1395.98 120.112 1404.73 Q120.112 1413.46 117.033 1418.07 Q113.978 1422.65 108.168 1422.65 Q102.358 1422.65 99.2789 1418.07 Q96.2234 1413.46 96.2234 1404.73 Q96.2234 1395.98 99.2789 1391.4 Q102.358 1386.79 108.168 1386.79 Z\" fill=\"#000000\" fill-rule=\"evenodd\" fill-opacity=\"1\" /><path clip-path=\"url(#clip620)\" d=\"M138.33 1390.5 Q134.719 1390.5 132.89 1394.06 Q131.084 1397.6 131.084 1404.73 Q131.084 1411.84 132.89 1415.41 Q134.719 1418.95 138.33 1418.95 Q141.964 1418.95 143.769 1415.41 Q145.598 1411.84 145.598 1404.73 Q145.598 1397.6 143.769 1394.06 Q141.964 1390.5 138.33 1390.5 M138.33 1386.79 Q144.14 1386.79 147.195 1391.4 Q150.274 1395.98 150.274 1404.73 Q150.274 1413.46 147.195 1418.07 Q144.14 1422.65 138.33 1422.65 Q132.519 1422.65 129.441 1418.07 Q126.385 1413.46 126.385 1404.73 Q126.385 1395.98 129.441 1391.4 Q132.519 1386.79 138.33 1386.79 Z\" fill=\"#000000\" fill-rule=\"evenodd\" fill-opacity=\"1\" /><path clip-path=\"url(#clip620)\" d=\"M63.9319 1059.72 Q60.3208 1059.72 58.4921 1063.29 Q56.6865 1066.83 56.6865 1073.96 Q56.6865 1081.06 58.4921 1084.63 Q60.3208 1088.17 63.9319 1088.17 Q67.5661 1088.17 69.3717 1084.63 Q71.2004 1081.06 71.2004 1073.96 Q71.2004 1066.83 69.3717 1063.29 Q67.5661 1059.72 63.9319 1059.72 M63.9319 1056.02 Q69.742 1056.02 72.7976 1060.62 Q75.8763 1065.21 75.8763 1073.96 Q75.8763 1082.68 72.7976 1087.29 Q69.742 1091.87 63.9319 1091.87 Q58.1217 1091.87 55.043 1087.29 Q51.9875 1082.68 51.9875 1073.96 Q51.9875 1065.21 55.043 1060.62 Q58.1217 1056.02 63.9319 1056.02 Z\" fill=\"#000000\" fill-rule=\"evenodd\" fill-opacity=\"1\" /><path clip-path=\"url(#clip620)\" d=\"M84.0938 1085.32 L88.978 1085.32 L88.978 1091.2 L84.0938 1091.2 L84.0938 1085.32 Z\" fill=\"#000000\" fill-rule=\"evenodd\" fill-opacity=\"1\" /><path clip-path=\"url(#clip620)\" d=\"M103.191 1087.27 L119.51 1087.27 L119.51 1091.2 L97.566 1091.2 L97.566 1087.27 Q100.228 1084.51 104.811 1079.88 Q109.418 1075.23 110.598 1073.89 Q112.844 1071.36 113.723 1069.63 Q114.626 1067.87 114.626 1066.18 Q114.626 1063.42 112.682 1061.69 Q110.76 1059.95 107.658 1059.95 Q105.459 1059.95 103.006 1060.72 Q100.575 1061.48 97.7974 1063.03 L97.7974 1058.31 Q100.621 1057.17 103.075 1056.6 Q105.529 1056.02 107.566 1056.02 Q112.936 1056.02 116.131 1058.7 Q119.325 1061.39 119.325 1065.88 Q119.325 1068.01 118.515 1069.93 Q117.728 1071.83 115.621 1074.42 Q115.043 1075.09 111.941 1078.31 Q108.839 1081.5 103.191 1087.27 Z\" fill=\"#000000\" fill-rule=\"evenodd\" fill-opacity=\"1\" /><path clip-path=\"url(#clip620)\" d=\"M129.371 1056.64 L147.728 1056.64 L147.728 1060.58 L133.654 1060.58 L133.654 1069.05 Q134.672 1068.7 135.691 1068.54 Q136.709 1068.35 137.728 1068.35 Q143.515 1068.35 146.894 1071.53 Q150.274 1074.7 150.274 1080.11 Q150.274 1085.69 146.802 1088.79 Q143.33 1091.87 137.01 1091.87 Q134.834 1091.87 132.566 1091.5 Q130.32 1091.13 127.913 1090.39 L127.913 1085.69 Q129.996 1086.83 132.219 1087.38 Q134.441 1087.94 136.918 1087.94 Q140.922 1087.94 143.26 1085.83 Q145.598 1083.72 145.598 1080.11 Q145.598 1076.5 143.26 1074.4 Q140.922 1072.29 136.918 1072.29 Q135.043 1072.29 133.168 1072.71 Q131.316 1073.12 129.371 1074 L129.371 1056.64 Z\" fill=\"#000000\" fill-rule=\"evenodd\" fill-opacity=\"1\" /><path clip-path=\"url(#clip620)\" d=\"M62.9365 728.943 Q59.3254 728.943 57.4967 732.508 Q55.6912 736.049 55.6912 743.179 Q55.6912 750.285 57.4967 753.85 Q59.3254 757.392 62.9365 757.392 Q66.5707 757.392 68.3763 753.85 Q70.205 750.285 70.205 743.179 Q70.205 736.049 68.3763 732.508 Q66.5707 728.943 62.9365 728.943 M62.9365 725.239 Q68.7467 725.239 71.8022 729.846 Q74.8809 734.429 74.8809 743.179 Q74.8809 751.906 71.8022 756.512 Q68.7467 761.096 62.9365 761.096 Q57.1264 761.096 54.0477 756.512 Q50.9921 751.906 50.9921 743.179 Q50.9921 734.429 54.0477 729.846 Q57.1264 725.239 62.9365 725.239 Z\" fill=\"#000000\" fill-rule=\"evenodd\" fill-opacity=\"1\" /><path clip-path=\"url(#clip620)\" d=\"M83.0984 754.545 L87.9827 754.545 L87.9827 760.424 L83.0984 760.424 L83.0984 754.545 Z\" fill=\"#000000\" fill-rule=\"evenodd\" fill-opacity=\"1\" /><path clip-path=\"url(#clip620)\" d=\"M98.2141 725.864 L116.57 725.864 L116.57 729.799 L102.496 729.799 L102.496 738.272 Q103.515 737.924 104.534 737.762 Q105.552 737.577 106.571 737.577 Q112.358 737.577 115.737 740.748 Q119.117 743.92 119.117 749.336 Q119.117 754.915 115.645 758.017 Q112.172 761.096 105.853 761.096 Q103.677 761.096 101.409 760.725 Q99.1632 760.355 96.7558 759.614 L96.7558 754.915 Q98.8391 756.049 101.061 756.605 Q103.284 757.16 105.76 757.16 Q109.765 757.16 112.103 755.054 Q114.441 752.947 114.441 749.336 Q114.441 745.725 112.103 743.619 Q109.765 741.512 105.76 741.512 Q103.885 741.512 102.01 741.929 Q100.159 742.346 98.2141 743.225 L98.2141 725.864 Z\" fill=\"#000000\" fill-rule=\"evenodd\" fill-opacity=\"1\" /><path clip-path=\"url(#clip620)\" d=\"M138.33 728.943 Q134.719 728.943 132.89 732.508 Q131.084 736.049 131.084 743.179 Q131.084 750.285 132.89 753.85 Q134.719 757.392 138.33 757.392 Q141.964 757.392 143.769 753.85 Q145.598 750.285 145.598 743.179 Q145.598 736.049 143.769 732.508 Q141.964 728.943 138.33 728.943 M138.33 725.239 Q144.14 725.239 147.195 729.846 Q150.274 734.429 150.274 743.179 Q150.274 751.906 147.195 756.512 Q144.14 761.096 138.33 761.096 Q132.519 761.096 129.441 756.512 Q126.385 751.906 126.385 743.179 Q126.385 734.429 129.441 729.846 Q132.519 725.239 138.33 725.239 Z\" fill=\"#000000\" fill-rule=\"evenodd\" fill-opacity=\"1\" /><path clip-path=\"url(#clip620)\" d=\"M63.9319 398.165 Q60.3208 398.165 58.4921 401.73 Q56.6865 405.272 56.6865 412.401 Q56.6865 419.508 58.4921 423.073 Q60.3208 426.614 63.9319 426.614 Q67.5661 426.614 69.3717 423.073 Q71.2004 419.508 71.2004 412.401 Q71.2004 405.272 69.3717 401.73 Q67.5661 398.165 63.9319 398.165 M63.9319 394.462 Q69.742 394.462 72.7976 399.068 Q75.8763 403.652 75.8763 412.401 Q75.8763 421.128 72.7976 425.735 Q69.742 430.318 63.9319 430.318 Q58.1217 430.318 55.043 425.735 Q51.9875 421.128 51.9875 412.401 Q51.9875 403.652 55.043 399.068 Q58.1217 394.462 63.9319 394.462 Z\" fill=\"#000000\" fill-rule=\"evenodd\" fill-opacity=\"1\" /><path clip-path=\"url(#clip620)\" d=\"M84.0938 423.767 L88.978 423.767 L88.978 429.647 L84.0938 429.647 L84.0938 423.767 Z\" fill=\"#000000\" fill-rule=\"evenodd\" fill-opacity=\"1\" /><path clip-path=\"url(#clip620)\" d=\"M97.9826 395.087 L120.205 395.087 L120.205 397.077 L107.658 429.647 L102.774 429.647 L114.58 399.022 L97.9826 399.022 L97.9826 395.087 Z\" fill=\"#000000\" fill-rule=\"evenodd\" fill-opacity=\"1\" /><path clip-path=\"url(#clip620)\" d=\"M129.371 395.087 L147.728 395.087 L147.728 399.022 L133.654 399.022 L133.654 407.494 Q134.672 407.147 135.691 406.985 Q136.709 406.8 137.728 406.8 Q143.515 406.8 146.894 409.971 Q150.274 413.142 150.274 418.559 Q150.274 424.138 146.802 427.239 Q143.33 430.318 137.01 430.318 Q134.834 430.318 132.566 429.948 Q130.32 429.577 127.913 428.837 L127.913 424.138 Q129.996 425.272 132.219 425.827 Q134.441 426.383 136.918 426.383 Q140.922 426.383 143.26 424.276 Q145.598 422.17 145.598 418.559 Q145.598 414.948 143.26 412.841 Q140.922 410.735 136.918 410.735 Q135.043 410.735 133.168 411.151 Q131.316 411.568 129.371 412.448 L129.371 395.087 Z\" fill=\"#000000\" fill-rule=\"evenodd\" fill-opacity=\"1\" /><path clip-path=\"url(#clip620)\" d=\"M53.7467 94.9341 L61.3856 94.9341 L61.3856 68.5685 L53.0754 70.2351 L53.0754 65.9759 L61.3393 64.3092 L66.0152 64.3092 L66.0152 94.9341 L73.654 94.9341 L73.654 98.8692 L53.7467 98.8692 L53.7467 94.9341 Z\" fill=\"#000000\" fill-rule=\"evenodd\" fill-opacity=\"1\" /><path clip-path=\"url(#clip620)\" d=\"M83.0984 92.9896 L87.9827 92.9896 L87.9827 98.8692 L83.0984 98.8692 L83.0984 92.9896 Z\" fill=\"#000000\" fill-rule=\"evenodd\" fill-opacity=\"1\" /><path clip-path=\"url(#clip620)\" d=\"M108.168 67.3879 Q104.557 67.3879 102.728 70.9527 Q100.922 74.4944 100.922 81.6239 Q100.922 88.7304 102.728 92.2952 Q104.557 95.8368 108.168 95.8368 Q111.802 95.8368 113.608 92.2952 Q115.436 88.7304 115.436 81.6239 Q115.436 74.4944 113.608 70.9527 Q111.802 67.3879 108.168 67.3879 M108.168 63.6842 Q113.978 63.6842 117.033 68.2907 Q120.112 72.874 120.112 81.6239 Q120.112 90.3508 117.033 94.9572 Q113.978 99.5405 108.168 99.5405 Q102.358 99.5405 99.2789 94.9572 Q96.2234 90.3508 96.2234 81.6239 Q96.2234 72.874 99.2789 68.2907 Q102.358 63.6842 108.168 63.6842 Z\" fill=\"#000000\" fill-rule=\"evenodd\" fill-opacity=\"1\" /><path clip-path=\"url(#clip620)\" d=\"M138.33 67.3879 Q134.719 67.3879 132.89 70.9527 Q131.084 74.4944 131.084 81.6239 Q131.084 88.7304 132.89 92.2952 Q134.719 95.8368 138.33 95.8368 Q141.964 95.8368 143.769 92.2952 Q145.598 88.7304 145.598 81.6239 Q145.598 74.4944 143.769 70.9527 Q141.964 67.3879 138.33 67.3879 M138.33 63.6842 Q144.14 63.6842 147.195 68.2907 Q150.274 72.874 150.274 81.6239 Q150.274 90.3508 147.195 94.9572 Q144.14 99.5405 138.33 99.5405 Q132.519 99.5405 129.441 94.9572 Q126.385 90.3508 126.385 81.6239 Q126.385 72.874 129.441 68.2907 Q132.519 63.6842 138.33 63.6842 Z\" fill=\"#000000\" fill-rule=\"evenodd\" fill-opacity=\"1\" /><circle clip-path=\"url(#clip622)\" cx=\"247.59\" cy=\"138.483\" r=\"14\" fill=\"#009af9\" fill-rule=\"evenodd\" fill-opacity=\"1\" stroke=\"#000000\" stroke-opacity=\"1\" stroke-width=\"3.2\"/>\n",
       "<circle clip-path=\"url(#clip622)\" cx=\"355.096\" cy=\"667.727\" r=\"14\" fill=\"#009af9\" fill-rule=\"evenodd\" fill-opacity=\"1\" stroke=\"#000000\" stroke-opacity=\"1\" stroke-width=\"3.2\"/>\n",
       "<circle clip-path=\"url(#clip622)\" cx=\"462.603\" cy=\"952.196\" r=\"14\" fill=\"#009af9\" fill-rule=\"evenodd\" fill-opacity=\"1\" stroke=\"#000000\" stroke-opacity=\"1\" stroke-width=\"3.2\"/>\n",
       "<circle clip-path=\"url(#clip622)\" cx=\"570.109\" cy=\"1108.32\" r=\"14\" fill=\"#009af9\" fill-rule=\"evenodd\" fill-opacity=\"1\" stroke=\"#000000\" stroke-opacity=\"1\" stroke-width=\"3.2\"/>\n",
       "<circle clip-path=\"url(#clip622)\" cx=\"678.025\" cy=\"1241.96\" r=\"14\" fill=\"#009af9\" fill-rule=\"evenodd\" fill-opacity=\"1\" stroke=\"#000000\" stroke-opacity=\"1\" stroke-width=\"3.2\"/>\n",
       "<circle clip-path=\"url(#clip622)\" cx=\"785.531\" cy=\"1300.17\" r=\"14\" fill=\"#009af9\" fill-rule=\"evenodd\" fill-opacity=\"1\" stroke=\"#000000\" stroke-opacity=\"1\" stroke-width=\"3.2\"/>\n",
       "<circle clip-path=\"url(#clip622)\" cx=\"893.038\" cy=\"1358.39\" r=\"14\" fill=\"#009af9\" fill-rule=\"evenodd\" fill-opacity=\"1\" stroke=\"#000000\" stroke-opacity=\"1\" stroke-width=\"3.2\"/>\n",
       "<circle clip-path=\"url(#clip622)\" cx=\"1000.54\" cy=\"1366.33\" r=\"14\" fill=\"#009af9\" fill-rule=\"evenodd\" fill-opacity=\"1\" stroke=\"#000000\" stroke-opacity=\"1\" stroke-width=\"3.2\"/>\n",
       "<circle clip-path=\"url(#clip622)\" cx=\"1108.05\" cy=\"1371.62\" r=\"14\" fill=\"#009af9\" fill-rule=\"evenodd\" fill-opacity=\"1\" stroke=\"#000000\" stroke-opacity=\"1\" stroke-width=\"3.2\"/>\n",
       "<circle clip-path=\"url(#clip622)\" cx=\"1215.56\" cy=\"1382.21\" r=\"14\" fill=\"#009af9\" fill-rule=\"evenodd\" fill-opacity=\"1\" stroke=\"#000000\" stroke-opacity=\"1\" stroke-width=\"3.2\"/>\n",
       "<circle clip-path=\"url(#clip622)\" cx=\"1323.47\" cy=\"1407.35\" r=\"14\" fill=\"#009af9\" fill-rule=\"evenodd\" fill-opacity=\"1\" stroke=\"#000000\" stroke-opacity=\"1\" stroke-width=\"3.2\"/>\n",
       "<circle clip-path=\"url(#clip622)\" cx=\"1430.98\" cy=\"1392.79\" r=\"14\" fill=\"#009af9\" fill-rule=\"evenodd\" fill-opacity=\"1\" stroke=\"#000000\" stroke-opacity=\"1\" stroke-width=\"3.2\"/>\n",
       "<circle clip-path=\"url(#clip622)\" cx=\"1538.49\" cy=\"1435.13\" r=\"14\" fill=\"#009af9\" fill-rule=\"evenodd\" fill-opacity=\"1\" stroke=\"#000000\" stroke-opacity=\"1\" stroke-width=\"3.2\"/>\n",
       "<circle clip-path=\"url(#clip622)\" cx=\"1645.99\" cy=\"1396.76\" r=\"14\" fill=\"#009af9\" fill-rule=\"evenodd\" fill-opacity=\"1\" stroke=\"#000000\" stroke-opacity=\"1\" stroke-width=\"3.2\"/>\n",
       "<circle clip-path=\"url(#clip622)\" cx=\"1753.5\" cy=\"1383.53\" r=\"14\" fill=\"#009af9\" fill-rule=\"evenodd\" fill-opacity=\"1\" stroke=\"#000000\" stroke-opacity=\"1\" stroke-width=\"3.2\"/>\n",
       "<circle clip-path=\"url(#clip622)\" cx=\"1861.01\" cy=\"1386.18\" r=\"14\" fill=\"#009af9\" fill-rule=\"evenodd\" fill-opacity=\"1\" stroke=\"#000000\" stroke-opacity=\"1\" stroke-width=\"3.2\"/>\n",
       "<circle clip-path=\"url(#clip622)\" cx=\"1968.92\" cy=\"1416.61\" r=\"14\" fill=\"#009af9\" fill-rule=\"evenodd\" fill-opacity=\"1\" stroke=\"#000000\" stroke-opacity=\"1\" stroke-width=\"3.2\"/>\n",
       "<circle clip-path=\"url(#clip622)\" cx=\"2076.43\" cy=\"1444.39\" r=\"14\" fill=\"#009af9\" fill-rule=\"evenodd\" fill-opacity=\"1\" stroke=\"#000000\" stroke-opacity=\"1\" stroke-width=\"3.2\"/>\n",
       "<circle clip-path=\"url(#clip622)\" cx=\"2183.93\" cy=\"1399.41\" r=\"14\" fill=\"#009af9\" fill-rule=\"evenodd\" fill-opacity=\"1\" stroke=\"#000000\" stroke-opacity=\"1\" stroke-width=\"3.2\"/>\n",
       "<circle clip-path=\"url(#clip622)\" cx=\"2291.44\" cy=\"1436.45\" r=\"14\" fill=\"#009af9\" fill-rule=\"evenodd\" fill-opacity=\"1\" stroke=\"#000000\" stroke-opacity=\"1\" stroke-width=\"3.2\"/>\n",
       "<circle clip-path=\"url(#clip622)\" cx=\"247.59\" cy=\"1445.72\" r=\"14\" fill=\"#e26f46\" fill-rule=\"evenodd\" fill-opacity=\"1\" stroke=\"#000000\" stroke-opacity=\"1\" stroke-width=\"3.2\"/>\n",
       "<circle clip-path=\"url(#clip622)\" cx=\"355.096\" cy=\"968.073\" r=\"14\" fill=\"#e26f46\" fill-rule=\"evenodd\" fill-opacity=\"1\" stroke=\"#000000\" stroke-opacity=\"1\" stroke-width=\"3.2\"/>\n",
       "<circle clip-path=\"url(#clip622)\" cx=\"462.603\" cy=\"727.267\" r=\"14\" fill=\"#e26f46\" fill-rule=\"evenodd\" fill-opacity=\"1\" stroke=\"#000000\" stroke-opacity=\"1\" stroke-width=\"3.2\"/>\n",
       "<circle clip-path=\"url(#clip622)\" cx=\"570.109\" cy=\"744.467\" r=\"14\" fill=\"#e26f46\" fill-rule=\"evenodd\" fill-opacity=\"1\" stroke=\"#000000\" stroke-opacity=\"1\" stroke-width=\"3.2\"/>\n",
       "<circle clip-path=\"url(#clip622)\" cx=\"678.025\" cy=\"838.408\" r=\"14\" fill=\"#e26f46\" fill-rule=\"evenodd\" fill-opacity=\"1\" stroke=\"#000000\" stroke-opacity=\"1\" stroke-width=\"3.2\"/>\n",
       "<circle clip-path=\"url(#clip622)\" cx=\"785.531\" cy=\"880.748\" r=\"14\" fill=\"#e26f46\" fill-rule=\"evenodd\" fill-opacity=\"1\" stroke=\"#000000\" stroke-opacity=\"1\" stroke-width=\"3.2\"/>\n",
       "<circle clip-path=\"url(#clip622)\" cx=\"893.038\" cy=\"1003.8\" r=\"14\" fill=\"#e26f46\" fill-rule=\"evenodd\" fill-opacity=\"1\" stroke=\"#000000\" stroke-opacity=\"1\" stroke-width=\"3.2\"/>\n",
       "<circle clip-path=\"url(#clip622)\" cx=\"1000.54\" cy=\"1024.97\" r=\"14\" fill=\"#e26f46\" fill-rule=\"evenodd\" fill-opacity=\"1\" stroke=\"#000000\" stroke-opacity=\"1\" stroke-width=\"3.2\"/>\n",
       "<circle clip-path=\"url(#clip622)\" cx=\"1108.05\" cy=\"1112.29\" r=\"14\" fill=\"#e26f46\" fill-rule=\"evenodd\" fill-opacity=\"1\" stroke=\"#000000\" stroke-opacity=\"1\" stroke-width=\"3.2\"/>\n",
       "<circle clip-path=\"url(#clip622)\" cx=\"1215.56\" cy=\"1208.88\" r=\"14\" fill=\"#e26f46\" fill-rule=\"evenodd\" fill-opacity=\"1\" stroke=\"#000000\" stroke-opacity=\"1\" stroke-width=\"3.2\"/>\n",
       "<circle clip-path=\"url(#clip622)\" cx=\"1323.47\" cy=\"1163.89\" r=\"14\" fill=\"#e26f46\" fill-rule=\"evenodd\" fill-opacity=\"1\" stroke=\"#000000\" stroke-opacity=\"1\" stroke-width=\"3.2\"/>\n",
       "<circle clip-path=\"url(#clip622)\" cx=\"1430.98\" cy=\"1251.22\" r=\"14\" fill=\"#e26f46\" fill-rule=\"evenodd\" fill-opacity=\"1\" stroke=\"#000000\" stroke-opacity=\"1\" stroke-width=\"3.2\"/>\n",
       "<circle clip-path=\"url(#clip622)\" cx=\"1538.49\" cy=\"1300.17\" r=\"14\" fill=\"#e26f46\" fill-rule=\"evenodd\" fill-opacity=\"1\" stroke=\"#000000\" stroke-opacity=\"1\" stroke-width=\"3.2\"/>\n",
       "<circle clip-path=\"url(#clip622)\" cx=\"1645.99\" cy=\"1301.5\" r=\"14\" fill=\"#e26f46\" fill-rule=\"evenodd\" fill-opacity=\"1\" stroke=\"#000000\" stroke-opacity=\"1\" stroke-width=\"3.2\"/>\n",
       "<circle clip-path=\"url(#clip622)\" cx=\"1753.5\" cy=\"1326.64\" r=\"14\" fill=\"#e26f46\" fill-rule=\"evenodd\" fill-opacity=\"1\" stroke=\"#000000\" stroke-opacity=\"1\" stroke-width=\"3.2\"/>\n",
       "<circle clip-path=\"url(#clip622)\" cx=\"1861.01\" cy=\"1357.07\" r=\"14\" fill=\"#e26f46\" fill-rule=\"evenodd\" fill-opacity=\"1\" stroke=\"#000000\" stroke-opacity=\"1\" stroke-width=\"3.2\"/>\n",
       "<circle clip-path=\"url(#clip622)\" cx=\"1968.92\" cy=\"1386.18\" r=\"14\" fill=\"#e26f46\" fill-rule=\"evenodd\" fill-opacity=\"1\" stroke=\"#000000\" stroke-opacity=\"1\" stroke-width=\"3.2\"/>\n",
       "<circle clip-path=\"url(#clip622)\" cx=\"2076.43\" cy=\"1357.07\" r=\"14\" fill=\"#e26f46\" fill-rule=\"evenodd\" fill-opacity=\"1\" stroke=\"#000000\" stroke-opacity=\"1\" stroke-width=\"3.2\"/>\n",
       "<circle clip-path=\"url(#clip622)\" cx=\"2183.93\" cy=\"1357.07\" r=\"14\" fill=\"#e26f46\" fill-rule=\"evenodd\" fill-opacity=\"1\" stroke=\"#000000\" stroke-opacity=\"1\" stroke-width=\"3.2\"/>\n",
       "<circle clip-path=\"url(#clip622)\" cx=\"2291.44\" cy=\"1367.65\" r=\"14\" fill=\"#e26f46\" fill-rule=\"evenodd\" fill-opacity=\"1\" stroke=\"#000000\" stroke-opacity=\"1\" stroke-width=\"3.2\"/>\n",
       "<circle clip-path=\"url(#clip622)\" cx=\"247.59\" cy=\"1424.55\" r=\"14\" fill=\"#3da44d\" fill-rule=\"evenodd\" fill-opacity=\"1\" stroke=\"#000000\" stroke-opacity=\"1\" stroke-width=\"3.2\"/>\n",
       "<circle clip-path=\"url(#clip622)\" cx=\"355.096\" cy=\"1346.48\" r=\"14\" fill=\"#3da44d\" fill-rule=\"evenodd\" fill-opacity=\"1\" stroke=\"#000000\" stroke-opacity=\"1\" stroke-width=\"3.2\"/>\n",
       "<circle clip-path=\"url(#clip622)\" cx=\"462.603\" cy=\"1198.29\" r=\"14\" fill=\"#3da44d\" fill-rule=\"evenodd\" fill-opacity=\"1\" stroke=\"#000000\" stroke-opacity=\"1\" stroke-width=\"3.2\"/>\n",
       "<circle clip-path=\"url(#clip622)\" cx=\"570.109\" cy=\"994.535\" r=\"14\" fill=\"#3da44d\" fill-rule=\"evenodd\" fill-opacity=\"1\" stroke=\"#000000\" stroke-opacity=\"1\" stroke-width=\"3.2\"/>\n",
       "<circle clip-path=\"url(#clip622)\" cx=\"678.025\" cy=\"804.007\" r=\"14\" fill=\"#3da44d\" fill-rule=\"evenodd\" fill-opacity=\"1\" stroke=\"#000000\" stroke-opacity=\"1\" stroke-width=\"3.2\"/>\n",
       "<circle clip-path=\"url(#clip622)\" cx=\"785.531\" cy=\"669.05\" r=\"14\" fill=\"#3da44d\" fill-rule=\"evenodd\" fill-opacity=\"1\" stroke=\"#000000\" stroke-opacity=\"1\" stroke-width=\"3.2\"/>\n",
       "<circle clip-path=\"url(#clip622)\" cx=\"893.038\" cy=\"543.355\" r=\"14\" fill=\"#3da44d\" fill-rule=\"evenodd\" fill-opacity=\"1\" stroke=\"#000000\" stroke-opacity=\"1\" stroke-width=\"3.2\"/>\n",
       "<circle clip-path=\"url(#clip622)\" cx=\"1000.54\" cy=\"534.093\" r=\"14\" fill=\"#3da44d\" fill-rule=\"evenodd\" fill-opacity=\"1\" stroke=\"#000000\" stroke-opacity=\"1\" stroke-width=\"3.2\"/>\n",
       "<circle clip-path=\"url(#clip622)\" cx=\"1108.05\" cy=\"412.367\" r=\"14\" fill=\"#3da44d\" fill-rule=\"evenodd\" fill-opacity=\"1\" stroke=\"#000000\" stroke-opacity=\"1\" stroke-width=\"3.2\"/>\n",
       "<circle clip-path=\"url(#clip622)\" cx=\"1215.56\" cy=\"274.763\" r=\"14\" fill=\"#3da44d\" fill-rule=\"evenodd\" fill-opacity=\"1\" stroke=\"#000000\" stroke-opacity=\"1\" stroke-width=\"3.2\"/>\n",
       "<circle clip-path=\"url(#clip622)\" cx=\"1323.47\" cy=\"286.671\" r=\"14\" fill=\"#3da44d\" fill-rule=\"evenodd\" fill-opacity=\"1\" stroke=\"#000000\" stroke-opacity=\"1\" stroke-width=\"3.2\"/>\n",
       "<circle clip-path=\"url(#clip622)\" cx=\"1430.98\" cy=\"223.162\" r=\"14\" fill=\"#3da44d\" fill-rule=\"evenodd\" fill-opacity=\"1\" stroke=\"#000000\" stroke-opacity=\"1\" stroke-width=\"3.2\"/>\n",
       "<circle clip-path=\"url(#clip622)\" cx=\"1538.49\" cy=\"158.33\" r=\"14\" fill=\"#3da44d\" fill-rule=\"evenodd\" fill-opacity=\"1\" stroke=\"#000000\" stroke-opacity=\"1\" stroke-width=\"3.2\"/>\n",
       "<circle clip-path=\"url(#clip622)\" cx=\"1645.99\" cy=\"215.223\" r=\"14\" fill=\"#3da44d\" fill-rule=\"evenodd\" fill-opacity=\"1\" stroke=\"#000000\" stroke-opacity=\"1\" stroke-width=\"3.2\"/>\n",
       "<circle clip-path=\"url(#clip622)\" cx=\"1753.5\" cy=\"158.33\" r=\"14\" fill=\"#3da44d\" fill-rule=\"evenodd\" fill-opacity=\"1\" stroke=\"#000000\" stroke-opacity=\"1\" stroke-width=\"3.2\"/>\n",
       "<circle clip-path=\"url(#clip622)\" cx=\"1861.01\" cy=\"93.4972\" r=\"14\" fill=\"#3da44d\" fill-rule=\"evenodd\" fill-opacity=\"1\" stroke=\"#000000\" stroke-opacity=\"1\" stroke-width=\"3.2\"/>\n",
       "<circle clip-path=\"url(#clip622)\" cx=\"1968.92\" cy=\"97.4665\" r=\"14\" fill=\"#3da44d\" fill-rule=\"evenodd\" fill-opacity=\"1\" stroke=\"#000000\" stroke-opacity=\"1\" stroke-width=\"3.2\"/>\n",
       "<circle clip-path=\"url(#clip622)\" cx=\"2076.43\" cy=\"159.653\" r=\"14\" fill=\"#3da44d\" fill-rule=\"evenodd\" fill-opacity=\"1\" stroke=\"#000000\" stroke-opacity=\"1\" stroke-width=\"3.2\"/>\n",
       "<circle clip-path=\"url(#clip622)\" cx=\"2183.93\" cy=\"119.959\" r=\"14\" fill=\"#3da44d\" fill-rule=\"evenodd\" fill-opacity=\"1\" stroke=\"#000000\" stroke-opacity=\"1\" stroke-width=\"3.2\"/>\n",
       "<circle clip-path=\"url(#clip622)\" cx=\"2291.44\" cy=\"101.436\" r=\"14\" fill=\"#3da44d\" fill-rule=\"evenodd\" fill-opacity=\"1\" stroke=\"#000000\" stroke-opacity=\"1\" stroke-width=\"3.2\"/>\n",
       "<polyline clip-path=\"url(#clip622)\" style=\"stroke:#c271d2; stroke-linecap:butt; stroke-linejoin:round; stroke-width:4; stroke-opacity:1; fill:none\" points=\"\n",
       "  247.59,87.9763 355.096,637.759 355.161,638.089 462.603,958.066 462.732,958.451 570.109,1144.65 570.303,1144.98 677.874,1253.46 678.025,1253.61 785.445,1316.67 \n",
       "  785.531,1316.72 893.016,1353.45 893.038,1353.46 1000.54,1374.85 1000.59,1374.86 1108.05,1387.32 1108.16,1387.33 1215.56,1394.58 1215.73,1394.59 1323.3,1398.81 \n",
       "  1323.47,1398.82 1430.87,1401.27 1430.98,1401.28 1538.44,1402.7 1538.49,1402.71 1645.99,1403.54 1646.01,1403.54 1753.5,1404.02 1753.58,1404.02 1861.01,1404.31 \n",
       "  1861.16,1404.31 1968.73,1404.47 1968.92,1404.47 2076.3,1404.57 2076.43,1404.57 2183.87,1404.62 2183.93,1404.62 2291.44,1404.65 \n",
       "  \"/>\n",
       "<polyline clip-path=\"url(#clip622)\" style=\"stroke:#ac8d18; stroke-linecap:butt; stroke-linejoin:round; stroke-width:4; stroke-opacity:1; fill:none\" points=\"\n",
       "  247.59,1394.22 355.096,959.965 355.161,959.705 462.603,797.395 462.732,797.2 570.109,774.514 570.303,774.474 677.874,818.393 678.025,818.455 785.445,889.205 \n",
       "  785.531,889.262 893.016,966.374 893.038,966.389 1000.54,1039.79 1000.59,1039.82 1108.05,1105.15 1108.16,1105.21 1215.56,1161.16 1215.73,1161.25 1323.3,1208.13 \n",
       "  1323.47,1208.2 1430.87,1246.74 1430.98,1246.78 1538.44,1278.2 1538.49,1278.21 1645.99,1303.63 1646.01,1303.64 1753.5,1324.09 1753.58,1324.11 1861.01,1340.49 \n",
       "  1861.16,1340.51 1968.73,1353.62 1968.92,1353.65 2076.3,1364.09 2076.43,1364.1 2183.87,1372.43 2183.93,1372.43 2291.44,1379.06 \n",
       "  \"/>\n",
       "<polyline clip-path=\"url(#clip622)\" style=\"stroke:#00a9ad; stroke-linecap:butt; stroke-linejoin:round; stroke-width:4; stroke-opacity:1; fill:none\" points=\"\n",
       "  247.59,1404.7 355.096,1289.17 355.161,1289.1 462.603,1131.43 462.732,1131.24 570.109,967.732 570.303,967.438 677.874,815.039 678.025,814.825 785.445,681.02 \n",
       "  785.531,680.913 893.016,567.07 893.038,567.047 1000.54,472.252 1000.59,472.214 1108.05,394.429 1108.16,394.351 1215.56,331.151 1215.73,331.049 1323.3,279.954 \n",
       "  1323.47,279.872 1430.87,238.88 1430.98,238.839 1538.44,205.99 1538.49,205.977 1645.99,179.722 1646.01,179.717 1753.5,158.781 1753.58,158.764 1861.01,142.098 \n",
       "  1861.16,142.074 1968.73,128.798 1968.92,128.774 2076.3,118.238 2076.43,118.225 2183.87,109.846 2183.93,109.841 2291.44,103.18 \n",
       "  \"/>\n",
       "<path clip-path=\"url(#clip620)\" d=\"\n",
       "M1988.87 458.098 L2280.54 458.098 L2280.54 95.2176 L1988.87 95.2176  Z\n",
       "  \" fill=\"#ffffff\" fill-rule=\"evenodd\" fill-opacity=\"1\"/>\n",
       "<polyline clip-path=\"url(#clip620)\" style=\"stroke:#000000; stroke-linecap:butt; stroke-linejoin:round; stroke-width:4; stroke-opacity:1; fill:none\" points=\"\n",
       "  1988.87,458.098 2280.54,458.098 2280.54,95.2176 1988.87,95.2176 1988.87,458.098 \n",
       "  \"/>\n",
       "<circle clip-path=\"url(#clip620)\" cx=\"2085.16\" cy=\"147.058\" r=\"23\" fill=\"#009af9\" fill-rule=\"evenodd\" fill-opacity=\"1\" stroke=\"#000000\" stroke-opacity=\"1\" stroke-width=\"5.12\"/>\n",
       "<path clip-path=\"url(#clip620)\" d=\"M2201.96 139.407 L2201.96 143.389 Q2200.15 142.393 2198.32 141.907 Q2196.52 141.398 2194.66 141.398 Q2190.52 141.398 2188.23 144.037 Q2185.94 146.652 2185.94 151.398 Q2185.94 156.143 2188.23 158.782 Q2190.52 161.398 2194.66 161.398 Q2196.52 161.398 2198.32 160.912 Q2200.15 160.402 2201.96 159.407 L2201.96 163.342 Q2200.17 164.176 2198.25 164.592 Q2196.35 165.009 2194.2 165.009 Q2188.35 165.009 2184.9 161.328 Q2181.45 157.648 2181.45 151.398 Q2181.45 145.055 2184.92 141.421 Q2188.41 137.787 2194.48 137.787 Q2196.45 137.787 2198.32 138.203 Q2200.2 138.597 2201.96 139.407 Z\" fill=\"#000000\" fill-rule=\"evenodd\" fill-opacity=\"1\" /><path clip-path=\"url(#clip620)\" d=\"M2221.15 151.305 Q2215.98 151.305 2213.99 152.486 Q2212 153.666 2212 156.514 Q2212 158.782 2213.48 160.125 Q2214.99 161.444 2217.56 161.444 Q2221.1 161.444 2223.23 158.944 Q2225.38 156.421 2225.38 152.254 L2225.38 151.305 L2221.15 151.305 M2229.64 149.546 L2229.64 164.338 L2225.38 164.338 L2225.38 160.402 Q2223.92 162.763 2221.75 163.898 Q2219.57 165.009 2216.42 165.009 Q2212.44 165.009 2210.08 162.787 Q2207.74 160.541 2207.74 156.791 Q2207.74 152.416 2210.66 150.194 Q2213.6 147.972 2219.41 147.972 L2225.38 147.972 L2225.38 147.555 Q2225.38 144.615 2223.44 143.018 Q2221.52 141.398 2218.02 141.398 Q2215.8 141.398 2213.69 141.93 Q2211.59 142.463 2209.64 143.527 L2209.64 139.592 Q2211.98 138.69 2214.18 138.25 Q2216.38 137.787 2218.46 137.787 Q2224.09 137.787 2226.86 140.703 Q2229.64 143.62 2229.64 149.546 Z\" fill=\"#000000\" fill-rule=\"evenodd\" fill-opacity=\"1\" /><circle clip-path=\"url(#clip620)\" cx=\"2085.16\" cy=\"198.898\" r=\"23\" fill=\"#e26f46\" fill-rule=\"evenodd\" fill-opacity=\"1\" stroke=\"#000000\" stroke-opacity=\"1\" stroke-width=\"5.12\"/>\n",
       "<path clip-path=\"url(#clip620)\" d=\"M2201.96 191.247 L2201.96 195.229 Q2200.15 194.233 2198.32 193.747 Q2196.52 193.238 2194.66 193.238 Q2190.52 193.238 2188.23 195.877 Q2185.94 198.492 2185.94 203.238 Q2185.94 207.983 2188.23 210.622 Q2190.52 213.238 2194.66 213.238 Q2196.52 213.238 2198.32 212.752 Q2200.15 212.242 2201.96 211.247 L2201.96 215.182 Q2200.17 216.016 2198.25 216.432 Q2196.35 216.849 2194.2 216.849 Q2188.35 216.849 2184.9 213.168 Q2181.45 209.488 2181.45 203.238 Q2181.45 196.895 2184.92 193.261 Q2188.41 189.627 2194.48 189.627 Q2196.45 189.627 2198.32 190.043 Q2200.2 190.437 2201.96 191.247 Z\" fill=\"#000000\" fill-rule=\"evenodd\" fill-opacity=\"1\" /><path clip-path=\"url(#clip620)\" d=\"M2227.97 203.238 Q2227.97 198.539 2226.03 195.877 Q2224.11 193.192 2220.73 193.192 Q2217.35 193.192 2215.41 195.877 Q2213.48 198.539 2213.48 203.238 Q2213.48 207.937 2215.41 210.622 Q2217.35 213.284 2220.73 213.284 Q2224.11 213.284 2226.03 210.622 Q2227.97 207.937 2227.97 203.238 M2213.48 194.187 Q2214.83 191.872 2216.86 190.761 Q2218.92 189.627 2221.77 189.627 Q2226.49 189.627 2229.43 193.377 Q2232.4 197.127 2232.4 203.238 Q2232.4 209.349 2229.43 213.099 Q2226.49 216.849 2221.77 216.849 Q2218.92 216.849 2216.86 215.738 Q2214.83 214.603 2213.48 212.289 L2213.48 216.178 L2209.2 216.178 L2209.2 180.159 L2213.48 180.159 L2213.48 194.187 Z\" fill=\"#000000\" fill-rule=\"evenodd\" fill-opacity=\"1\" /><circle clip-path=\"url(#clip620)\" cx=\"2085.16\" cy=\"250.738\" r=\"23\" fill=\"#3da44d\" fill-rule=\"evenodd\" fill-opacity=\"1\" stroke=\"#000000\" stroke-opacity=\"1\" stroke-width=\"5.12\"/>\n",
       "<path clip-path=\"url(#clip620)\" d=\"M2201.96 243.087 L2201.96 247.069 Q2200.15 246.073 2198.32 245.587 Q2196.52 245.078 2194.66 245.078 Q2190.52 245.078 2188.23 247.717 Q2185.94 250.332 2185.94 255.078 Q2185.94 259.823 2188.23 262.462 Q2190.52 265.078 2194.66 265.078 Q2196.52 265.078 2198.32 264.592 Q2200.15 264.082 2201.96 263.087 L2201.96 267.022 Q2200.17 267.856 2198.25 268.272 Q2196.35 268.689 2194.2 268.689 Q2188.35 268.689 2184.9 265.008 Q2181.45 261.328 2181.45 255.078 Q2181.45 248.735 2184.92 245.101 Q2188.41 241.467 2194.48 241.467 Q2196.45 241.467 2198.32 241.883 Q2200.2 242.277 2201.96 243.087 Z\" fill=\"#000000\" fill-rule=\"evenodd\" fill-opacity=\"1\" /><path clip-path=\"url(#clip620)\" d=\"M2228.02 243.087 L2228.02 247.069 Q2226.22 246.073 2224.39 245.587 Q2222.58 245.078 2220.73 245.078 Q2216.59 245.078 2214.29 247.717 Q2212 250.332 2212 255.078 Q2212 259.823 2214.29 262.462 Q2216.59 265.078 2220.73 265.078 Q2222.58 265.078 2224.39 264.592 Q2226.22 264.082 2228.02 263.087 L2228.02 267.022 Q2226.24 267.856 2224.32 268.272 Q2222.42 268.689 2220.27 268.689 Q2214.41 268.689 2210.96 265.008 Q2207.51 261.328 2207.51 255.078 Q2207.51 248.735 2210.98 245.101 Q2214.48 241.467 2220.54 241.467 Q2222.51 241.467 2224.39 241.883 Q2226.26 242.277 2228.02 243.087 Z\" fill=\"#000000\" fill-rule=\"evenodd\" fill-opacity=\"1\" /><polyline clip-path=\"url(#clip620)\" style=\"stroke:#c271d2; stroke-linecap:butt; stroke-linejoin:round; stroke-width:4; stroke-opacity:1; fill:none\" points=\"\n",
       "  2012.94,302.578 2157.37,302.578 \n",
       "  \"/>\n",
       "<path clip-path=\"url(#clip620)\" d=\"M2201.96 294.927 L2201.96 298.909 Q2200.15 297.913 2198.32 297.427 Q2196.52 296.918 2194.66 296.918 Q2190.52 296.918 2188.23 299.557 Q2185.94 302.172 2185.94 306.918 Q2185.94 311.663 2188.23 314.302 Q2190.52 316.918 2194.66 316.918 Q2196.52 316.918 2198.32 316.432 Q2200.15 315.922 2201.96 314.927 L2201.96 318.862 Q2200.17 319.696 2198.25 320.112 Q2196.35 320.529 2194.2 320.529 Q2188.35 320.529 2184.9 316.848 Q2181.45 313.168 2181.45 306.918 Q2181.45 300.575 2184.92 296.941 Q2188.41 293.307 2194.48 293.307 Q2196.45 293.307 2198.32 293.723 Q2200.2 294.117 2201.96 294.927 Z\" fill=\"#000000\" fill-rule=\"evenodd\" fill-opacity=\"1\" /><path clip-path=\"url(#clip620)\" d=\"M2221.15 306.825 Q2215.98 306.825 2213.99 308.006 Q2212 309.186 2212 312.034 Q2212 314.302 2213.48 315.645 Q2214.99 316.964 2217.56 316.964 Q2221.1 316.964 2223.23 314.464 Q2225.38 311.941 2225.38 307.774 L2225.38 306.825 L2221.15 306.825 M2229.64 305.066 L2229.64 319.858 L2225.38 319.858 L2225.38 315.922 Q2223.92 318.283 2221.75 319.418 Q2219.57 320.529 2216.42 320.529 Q2212.44 320.529 2210.08 318.307 Q2207.74 316.061 2207.74 312.311 Q2207.74 307.936 2210.66 305.714 Q2213.6 303.492 2219.41 303.492 L2225.38 303.492 L2225.38 303.075 Q2225.38 300.135 2223.44 298.538 Q2221.52 296.918 2218.02 296.918 Q2215.8 296.918 2213.69 297.45 Q2211.59 297.983 2209.64 299.047 L2209.64 295.112 Q2211.98 294.21 2214.18 293.77 Q2216.38 293.307 2218.46 293.307 Q2224.09 293.307 2226.86 296.223 Q2229.64 299.14 2229.64 305.066 Z\" fill=\"#000000\" fill-rule=\"evenodd\" fill-opacity=\"1\" /><polyline clip-path=\"url(#clip620)\" style=\"stroke:#ac8d18; stroke-linecap:butt; stroke-linejoin:round; stroke-width:4; stroke-opacity:1; fill:none\" points=\"\n",
       "  2012.94,354.418 2157.37,354.418 \n",
       "  \"/>\n",
       "<path clip-path=\"url(#clip620)\" d=\"M2201.96 346.767 L2201.96 350.749 Q2200.15 349.753 2198.32 349.267 Q2196.52 348.758 2194.66 348.758 Q2190.52 348.758 2188.23 351.397 Q2185.94 354.012 2185.94 358.758 Q2185.94 363.503 2188.23 366.142 Q2190.52 368.758 2194.66 368.758 Q2196.52 368.758 2198.32 368.272 Q2200.15 367.762 2201.96 366.767 L2201.96 370.702 Q2200.17 371.536 2198.25 371.952 Q2196.35 372.369 2194.2 372.369 Q2188.35 372.369 2184.9 368.688 Q2181.45 365.008 2181.45 358.758 Q2181.45 352.415 2184.92 348.781 Q2188.41 345.147 2194.48 345.147 Q2196.45 345.147 2198.32 345.563 Q2200.2 345.957 2201.96 346.767 Z\" fill=\"#000000\" fill-rule=\"evenodd\" fill-opacity=\"1\" /><path clip-path=\"url(#clip620)\" d=\"M2227.97 358.758 Q2227.97 354.059 2226.03 351.397 Q2224.11 348.712 2220.73 348.712 Q2217.35 348.712 2215.41 351.397 Q2213.48 354.059 2213.48 358.758 Q2213.48 363.457 2215.41 366.142 Q2217.35 368.804 2220.73 368.804 Q2224.11 368.804 2226.03 366.142 Q2227.97 363.457 2227.97 358.758 M2213.48 349.707 Q2214.83 347.392 2216.86 346.281 Q2218.92 345.147 2221.77 345.147 Q2226.49 345.147 2229.43 348.897 Q2232.4 352.647 2232.4 358.758 Q2232.4 364.869 2229.43 368.619 Q2226.49 372.369 2221.77 372.369 Q2218.92 372.369 2216.86 371.258 Q2214.83 370.123 2213.48 367.809 L2213.48 371.698 L2209.2 371.698 L2209.2 335.679 L2213.48 335.679 L2213.48 349.707 Z\" fill=\"#000000\" fill-rule=\"evenodd\" fill-opacity=\"1\" /><polyline clip-path=\"url(#clip620)\" style=\"stroke:#00a9ad; stroke-linecap:butt; stroke-linejoin:round; stroke-width:4; stroke-opacity:1; fill:none\" points=\"\n",
       "  2012.94,406.258 2157.37,406.258 \n",
       "  \"/>\n",
       "<path clip-path=\"url(#clip620)\" d=\"M2201.96 398.607 L2201.96 402.589 Q2200.15 401.593 2198.32 401.107 Q2196.52 400.598 2194.66 400.598 Q2190.52 400.598 2188.23 403.237 Q2185.94 405.852 2185.94 410.598 Q2185.94 415.343 2188.23 417.982 Q2190.52 420.598 2194.66 420.598 Q2196.52 420.598 2198.32 420.112 Q2200.15 419.602 2201.96 418.607 L2201.96 422.542 Q2200.17 423.376 2198.25 423.792 Q2196.35 424.209 2194.2 424.209 Q2188.35 424.209 2184.9 420.528 Q2181.45 416.848 2181.45 410.598 Q2181.45 404.255 2184.92 400.621 Q2188.41 396.987 2194.48 396.987 Q2196.45 396.987 2198.32 397.403 Q2200.2 397.797 2201.96 398.607 Z\" fill=\"#000000\" fill-rule=\"evenodd\" fill-opacity=\"1\" /><path clip-path=\"url(#clip620)\" d=\"M2228.02 398.607 L2228.02 402.589 Q2226.22 401.593 2224.39 401.107 Q2222.58 400.598 2220.73 400.598 Q2216.59 400.598 2214.29 403.237 Q2212 405.852 2212 410.598 Q2212 415.343 2214.29 417.982 Q2216.59 420.598 2220.73 420.598 Q2222.58 420.598 2224.39 420.112 Q2226.22 419.602 2228.02 418.607 L2228.02 422.542 Q2226.24 423.376 2224.32 423.792 Q2222.42 424.209 2220.27 424.209 Q2214.41 424.209 2210.96 420.528 Q2207.51 416.848 2207.51 410.598 Q2207.51 404.255 2210.98 400.621 Q2214.48 396.987 2220.54 396.987 Q2222.51 396.987 2224.39 397.403 Q2226.26 397.797 2228.02 398.607 Z\" fill=\"#000000\" fill-rule=\"evenodd\" fill-opacity=\"1\" /></svg>\n"
      ]
     },
     "execution_count": 57,
     "metadata": {},
     "output_type": "execute_result"
    }
   ],
   "source": [
    "plot(df.t, [df.ca, df.cb, df.cc], label = [\"ca\" \"cb\" \"cc\"], seriestype = :scatter)\n",
    "plot!(tlist, [ca_pred, cb_pred, cc_pred], label = [\"ca\" \"cb\" \"cc\"])"
   ]
  },
  {
   "cell_type": "code",
   "execution_count": null,
   "id": "descending-completion",
   "metadata": {},
   "outputs": [],
   "source": []
  }
 ],
 "metadata": {
  "kernelspec": {
   "display_name": "Julia 1.6.2",
   "language": "julia",
   "name": "julia-1.6"
  },
  "language_info": {
   "file_extension": ".jl",
   "mimetype": "application/julia",
   "name": "julia",
   "version": "1.6.2"
  }
 },
 "nbformat": 4,
 "nbformat_minor": 5
}
